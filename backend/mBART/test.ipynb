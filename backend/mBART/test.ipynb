{
 "cells": [
  {
   "cell_type": "code",
   "execution_count": 1,
   "id": "711c127f",
   "metadata": {},
   "outputs": [
    {
     "name": "stderr",
     "output_type": "stream",
     "text": [
      "/Users/ducnguyen1604/Projects/EE6405C22/.venv/lib/python3.13/site-packages/tqdm/auto.py:21: TqdmWarning: IProgress not found. Please update jupyter and ipywidgets. See https://ipywidgets.readthedocs.io/en/stable/user_install.html\n",
      "  from .autonotebook import tqdm as notebook_tqdm\n"
     ]
    }
   ],
   "source": [
    "from mtpipeline import init_mt_environment, mt_pipeline_search"
   ]
  },
  {
   "cell_type": "code",
   "execution_count": 6,
   "id": "f9b1b660",
   "metadata": {},
   "outputs": [],
   "source": [
    "mBART_model_path=\"./final\"\n",
    "data_paths={'cn':'en_to_cn_embeddings.pkl', 'es':'en_to_sp_embeddings.pkl', 'it':'en_to_it_embeddings.pkl'}\n",
    "embed_model = \"BAAI/bge-m3\"\n",
    "env_path = \".env\""
   ]
  },
  {
   "cell_type": "code",
   "execution_count": 7,
   "id": "ba6daee3",
   "metadata": {},
   "outputs": [],
   "source": [
    "#run once at start of front end\n",
    "mBART_model, mBART_tokenizer, data, bm25_corpus, dense_embed_model, pinecone_indices = init_mt_environment(mBART_model_path, data_paths, embed_model, env_path)"
   ]
  },
  {
   "cell_type": "code",
   "execution_count": 9,
   "id": "e291a444",
   "metadata": {},
   "outputs": [
    {
     "data": {
      "text/html": [
       "<div>\n",
       "<style scoped>\n",
       "    .dataframe tbody tr th:only-of-type {\n",
       "        vertical-align: middle;\n",
       "    }\n",
       "\n",
       "    .dataframe tbody tr th {\n",
       "        vertical-align: top;\n",
       "    }\n",
       "\n",
       "    .dataframe thead th {\n",
       "        text-align: right;\n",
       "    }\n",
       "</style>\n",
       "<table border=\"1\" class=\"dataframe\">\n",
       "  <thead>\n",
       "    <tr style=\"text-align: right;\">\n",
       "      <th></th>\n",
       "      <th>title</th>\n",
       "      <th>chinese translation</th>\n",
       "      <th>english_embedding</th>\n",
       "      <th>chinese_embedding</th>\n",
       "    </tr>\n",
       "  </thead>\n",
       "  <tbody>\n",
       "    <tr>\n",
       "      <th>0</th>\n",
       "      <td>Oppo A75 A75S A73 Phone Case Soft Rabbit Silic...</td>\n",
       "      <td>OPPO A75 A75s A73 手机壳 软壳 挂绳壳 大眼兔硅胶壳</td>\n",
       "      <td>[-0.030606616, 0.010501585, -0.04400219, -0.00...</td>\n",
       "      <td>[-0.020788355, 0.032136466, -0.03952156, -0.04...</td>\n",
       "    </tr>\n",
       "    <tr>\n",
       "      <th>1</th>\n",
       "      <td>SOFT 99 Coating Car Wax Strong Water Watt</td>\n",
       "      <td>SOFT 99 鍍膜車蠟(強力撥水型)</td>\n",
       "      <td>[-0.02521394, -0.0062141055, -0.02523462, -0.0...</td>\n",
       "      <td>[-0.013580757, -0.013445883, 0.013568486, -0.0...</td>\n",
       "    </tr>\n",
       "    <tr>\n",
       "      <th>2</th>\n",
       "      <td>Low Sugar Mango Dry 250g Be The Royal</td>\n",
       "      <td>低糖芒果乾 250g 臻御行</td>\n",
       "      <td>[-0.06998538, 0.025515176, -0.006934945, -0.02...</td>\n",
       "      <td>[-0.056555215, 0.015317621, 0.0015813652, -0.0...</td>\n",
       "    </tr>\n",
       "    <tr>\n",
       "      <th>3</th>\n",
       "      <td>* the culture Japan Imported Round Top Space C...</td>\n",
       "      <td>＊小徑文化＊日本進口ROUND TOP space craft - diamond (SC-...</td>\n",
       "      <td>[-0.003708915, 0.024768945, -0.062792934, 0.02...</td>\n",
       "      <td>[-0.018781146, 0.033165023, -0.05913993, 0.019...</td>\n",
       "    </tr>\n",
       "    <tr>\n",
       "      <th>4</th>\n",
       "      <td>Hello Kitty Sandals Shoes White/Red Children n...</td>\n",
       "      <td>Hello Kitty 凱蒂貓 KITTY 涼鞋 童鞋 白/紅色 小童 no739</td>\n",
       "      <td>[-0.019042147, 0.031313036, -0.06666778, 0.049...</td>\n",
       "      <td>[-0.043943617, 0.021419879, -0.059569906, 0.03...</td>\n",
       "    </tr>\n",
       "    <tr>\n",
       "      <th>...</th>\n",
       "      <td>...</td>\n",
       "      <td>...</td>\n",
       "      <td>...</td>\n",
       "      <td>...</td>\n",
       "    </tr>\n",
       "    <tr>\n",
       "      <th>995</th>\n",
       "      <td>Hippored Torn Fun Unique Style Straight Jeans ...</td>\n",
       "      <td>【HippoRed】撕破乐趣★独特风格★中直筒牛仔裤 O591_445</td>\n",
       "      <td>[-0.015312562, 0.002696402, -0.046150953, 0.00...</td>\n",
       "      <td>[-0.04397009, -0.013235806, -0.034632586, 0.03...</td>\n",
       "    </tr>\n",
       "    <tr>\n",
       "      <th>996</th>\n",
       "      <td>Kids Set Table Bay - Thin Long Sleeve Home Sui...</td>\n",
       "      <td>兒童套裝 台灣製薄長袖居家套裝 魔法Baby~k60092</td>\n",
       "      <td>[-0.00460147, 0.029976973, -0.080628425, 0.003...</td>\n",
       "      <td>[0.00086109334, 0.012746421, -0.04744607, 0.00...</td>\n",
       "    </tr>\n",
       "    <tr>\n",
       "      <th>997</th>\n",
       "      <td>LONGCHAMP Le Pliage Neo High Density Nylon Bac...</td>\n",
       "      <td>LONGCHAMP Le Pliage Neo高密尼龍後背包(中型)</td>\n",
       "      <td>[-0.025269749, -0.050276544, -0.059641942, -0....</td>\n",
       "      <td>[-0.0399163, -0.031578567, -0.04178574, 0.0254...</td>\n",
       "    </tr>\n",
       "    <tr>\n",
       "      <th>998</th>\n",
       "      <td>IFairies Opening Adjustable Ring ifairies [564...</td>\n",
       "      <td>iFairies 開口可調節戒指★ifairies【56472】【56472】</td>\n",
       "      <td>[0.018464142, 0.016518341, -0.034174442, 0.007...</td>\n",
       "      <td>[0.029656759, 0.03718795, -0.042785533, -0.027...</td>\n",
       "    </tr>\n",
       "    <tr>\n",
       "      <th>999</th>\n",
       "      <td>PolarStar Women Sweat Quick Dry T-shirt Black ...</td>\n",
       "      <td>PolarStar 女 排汗快干T恤『黑』P18102</td>\n",
       "      <td>[-0.015415181, 0.011347521, -0.09535644, -0.01...</td>\n",
       "      <td>[0.029322254, -0.00047185787, -0.0952496, -0.0...</td>\n",
       "    </tr>\n",
       "  </tbody>\n",
       "</table>\n",
       "<p>1000 rows × 4 columns</p>\n",
       "</div>"
      ],
      "text/plain": [
       "                                                 title  \\\n",
       "0    Oppo A75 A75S A73 Phone Case Soft Rabbit Silic...   \n",
       "1            SOFT 99 Coating Car Wax Strong Water Watt   \n",
       "2                Low Sugar Mango Dry 250g Be The Royal   \n",
       "3    * the culture Japan Imported Round Top Space C...   \n",
       "4    Hello Kitty Sandals Shoes White/Red Children n...   \n",
       "..                                                 ...   \n",
       "995  Hippored Torn Fun Unique Style Straight Jeans ...   \n",
       "996  Kids Set Table Bay - Thin Long Sleeve Home Sui...   \n",
       "997  LONGCHAMP Le Pliage Neo High Density Nylon Bac...   \n",
       "998  IFairies Opening Adjustable Ring ifairies [564...   \n",
       "999  PolarStar Women Sweat Quick Dry T-shirt Black ...   \n",
       "\n",
       "                                   chinese translation  \\\n",
       "0                  OPPO A75 A75s A73 手机壳 软壳 挂绳壳 大眼兔硅胶壳   \n",
       "1                                  SOFT 99 鍍膜車蠟(強力撥水型)   \n",
       "2                                       低糖芒果乾 250g 臻御行   \n",
       "3    ＊小徑文化＊日本進口ROUND TOP space craft - diamond (SC-...   \n",
       "4            Hello Kitty 凱蒂貓 KITTY 涼鞋 童鞋 白/紅色 小童 no739   \n",
       "..                                                 ...   \n",
       "995                【HippoRed】撕破乐趣★独特风格★中直筒牛仔裤 O591_445   \n",
       "996                      兒童套裝 台灣製薄長袖居家套裝 魔法Baby~k60092   \n",
       "997                 LONGCHAMP Le Pliage Neo高密尼龍後背包(中型)   \n",
       "998            iFairies 開口可調節戒指★ifairies【56472】【56472】   \n",
       "999                        PolarStar 女 排汗快干T恤『黑』P18102   \n",
       "\n",
       "                                     english_embedding  \\\n",
       "0    [-0.030606616, 0.010501585, -0.04400219, -0.00...   \n",
       "1    [-0.02521394, -0.0062141055, -0.02523462, -0.0...   \n",
       "2    [-0.06998538, 0.025515176, -0.006934945, -0.02...   \n",
       "3    [-0.003708915, 0.024768945, -0.062792934, 0.02...   \n",
       "4    [-0.019042147, 0.031313036, -0.06666778, 0.049...   \n",
       "..                                                 ...   \n",
       "995  [-0.015312562, 0.002696402, -0.046150953, 0.00...   \n",
       "996  [-0.00460147, 0.029976973, -0.080628425, 0.003...   \n",
       "997  [-0.025269749, -0.050276544, -0.059641942, -0....   \n",
       "998  [0.018464142, 0.016518341, -0.034174442, 0.007...   \n",
       "999  [-0.015415181, 0.011347521, -0.09535644, -0.01...   \n",
       "\n",
       "                                     chinese_embedding  \n",
       "0    [-0.020788355, 0.032136466, -0.03952156, -0.04...  \n",
       "1    [-0.013580757, -0.013445883, 0.013568486, -0.0...  \n",
       "2    [-0.056555215, 0.015317621, 0.0015813652, -0.0...  \n",
       "3    [-0.018781146, 0.033165023, -0.05913993, 0.019...  \n",
       "4    [-0.043943617, 0.021419879, -0.059569906, 0.03...  \n",
       "..                                                 ...  \n",
       "995  [-0.04397009, -0.013235806, -0.034632586, 0.03...  \n",
       "996  [0.00086109334, 0.012746421, -0.04744607, 0.00...  \n",
       "997  [-0.0399163, -0.031578567, -0.04178574, 0.0254...  \n",
       "998  [0.029656759, 0.03718795, -0.042785533, -0.027...  \n",
       "999  [0.029322254, -0.00047185787, -0.0952496, -0.0...  \n",
       "\n",
       "[1000 rows x 4 columns]"
      ]
     },
     "execution_count": 9,
     "metadata": {},
     "output_type": "execute_result"
    }
   ],
   "source": [
    "data['cn']"
   ]
  },
  {
   "cell_type": "code",
   "execution_count": 8,
   "id": "47ef3c5a",
   "metadata": {},
   "outputs": [
    {
     "data": {
      "text/plain": [
       "'OPPO A75 A75s A73 手机壳 软壳 挂绳壳 大眼兔硅胶壳'"
      ]
     },
     "execution_count": 8,
     "metadata": {},
     "output_type": "execute_result"
    }
   ],
   "source": [
    "data['cn']['chinese translation'][0]"
   ]
  },
  {
   "cell_type": "code",
   "execution_count": 9,
   "id": "9d9e0cc6",
   "metadata": {},
   "outputs": [],
   "source": [
    "query=\"shorh sleeved t-shirt\"\n",
    "tgt_lang = \"cn\" #should be 'es' for spanish, 'cn' for chinese and 'it' italy\n",
    "top_k=5"
   ]
  },
  {
   "cell_type": "code",
   "execution_count": 10,
   "id": "6c521135",
   "metadata": {},
   "outputs": [
    {
     "name": "stdout",
     "output_type": "stream",
     "text": [
      "Expanding queries...\n",
      "Queries Expanded\n",
      "Translating Queries...\n",
      "Searching...\n",
      "Processing Output...\n"
     ]
    }
   ],
   "source": [
    "final_output = mt_pipeline_search(query, \n",
    "                                    env_path,\n",
    "                                    mBART_model,\n",
    "                                    mBART_tokenizer,\n",
    "                                    data,\n",
    "                                    bm25_corpus,\n",
    "                                    pinecone_indices,\n",
    "                                    dense_embed_model,\n",
    "                                    tgt_lang, #optional\n",
    "                                    top_k) #optional"
   ]
  },
  {
   "cell_type": "code",
   "execution_count": 11,
   "id": "e78e3e0e",
   "metadata": {},
   "outputs": [
    {
     "data": {
      "text/plain": [
       "{'牛仔捲邊破褲 短褲': 0.6888088583946228,\n",
       " '情侶短袖t 夏季水洗33數字短袖t': 0.6411217451095581,\n",
       " 'Augelute 兒童 套裝 居家森林護肚短袖套裝 31152': 0.6447985768318176,\n",
       " '點點荷葉一字領短上衣': 0.6678817868232727,\n",
       " '韩制。针织洞洞感网状透气短袜': 0.671369194984436,\n",
       " '0~2歲寶寶短袖居家套裝 魔法baby~k50475': 0.6174362301826477,\n",
       " 'iFairies 中大尺碼長袖T恤上衣★ifairies【59000】【59000】': 0.6295759677886963,\n",
       " '鏤空圖騰刺繡襯衫': 0.684575617313385,\n",
       " '小豬兒MiNi Jule 現貨 上衣 單行字母流蘇袖棉T【SAA71006833】': 0.6121810078620911,\n",
       " '長版口袋開襟針織外套': 0.673030436038971}"
      ]
     },
     "execution_count": 11,
     "metadata": {},
     "output_type": "execute_result"
    }
   ],
   "source": [
    "final_output"
   ]
  },
  {
   "cell_type": "code",
   "execution_count": 12,
   "id": "7d5ce5e9",
   "metadata": {},
   "outputs": [
    {
     "data": {
      "text/plain": [
       "dict_keys(['牛仔捲邊破褲 短褲', '情侶短袖t 夏季水洗33數字短袖t', 'Augelute 兒童 套裝 居家森林護肚短袖套裝 31152', '點點荷葉一字領短上衣', '韩制。针织洞洞感网状透气短袜', '0~2歲寶寶短袖居家套裝 魔法baby~k50475', 'iFairies 中大尺碼長袖T恤上衣★ifairies【59000】【59000】', '鏤空圖騰刺繡襯衫', '小豬兒MiNi Jule 現貨 上衣 單行字母流蘇袖棉T【SAA71006833】', '長版口袋開襟針織外套'])"
      ]
     },
     "execution_count": 12,
     "metadata": {},
     "output_type": "execute_result"
    }
   ],
   "source": [
    "final_output.keys()"
   ]
  },
  {
   "cell_type": "code",
   "execution_count": null,
   "id": "cea3e695",
   "metadata": {},
   "outputs": [],
   "source": []
  }
 ],
 "metadata": {
  "kernelspec": {
   "display_name": ".venv",
   "language": "python",
   "name": "python3"
  },
  "language_info": {
   "codemirror_mode": {
    "name": "ipython",
    "version": 3
   },
   "file_extension": ".py",
   "mimetype": "text/x-python",
   "name": "python",
   "nbconvert_exporter": "python",
   "pygments_lexer": "ipython3",
   "version": "3.13.2"
  }
 },
 "nbformat": 4,
 "nbformat_minor": 5
}
