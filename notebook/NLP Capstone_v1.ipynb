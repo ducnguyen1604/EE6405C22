{
 REMOVED_SECRETcellsREMOVED_SECRET: [
  {
   REMOVED_SECRETcell_typeREMOVED_SECRET: REMOVED_SECRETcodeREMOVED_SECRET,
   REMOVED_SECRETexecution_countREMOVED_SECRET: 2,
   REMOVED_SECRETmetadataREMOVED_SECRET: {},
   REMOVED_SECREToutputsREMOVED_SECRET: [
    {
     REMOVED_SECRETenameREMOVED_SECRET: REMOVED_SECRETRuntimeErrorREMOVED_SECRET,
     REMOVED_SECRETevalueREMOVED_SECRET: REMOVED_SECRETFailed to import transformers.integrations.integration_utils because of the following error (look up to see its traceback):\nFailed to import transformers.modeling_tf_utils because of the following error (look up to see its traceback):\nDLL load failed while importing _errors: The specified procedure could not be found.REMOVED_SECRET,
     REMOVED_SECREToutput_typeREMOVED_SECRET: REMOVED_SECRETerrorREMOVED_SECRET,
     REMOVED_SECRETtracebackREMOVED_SECRET: [
      REMOVED_SECRET\u001b[1;31m---------------------------------------------------------------------------\u001b[0mREMOVED_SECRET,
      REMOVED_SECRET\u001b[1;31mImportError\u001b[0m                               Traceback (most recent call last)REMOVED_SECRET,
      REMOVED_SECRET\u001b[1;32mc:\\Users\\User\\anaconda3\\lib\\site-packages\\transformers\\utils\\import_utils.py\u001b[0m in \u001b[0;36m_get_module\u001b[1;34m(self, module_name)\u001b[0m\n\u001b[0;32m   1975\u001b[0m         \u001b[1;32mtry\u001b[0m\u001b[1;33m:\u001b[0m\u001b[1;33m\u001b[0m\u001b[1;33m\u001b[0m\u001b[0m\n\u001b[1;32m-> 1976\u001b[1;33m             \u001b[1;32mreturn\u001b[0m \u001b[0mimportlib\u001b[0m\u001b[1;33m.\u001b[0m\u001b[0mimport_module\u001b[0m\u001b[1;33m(\u001b[0m\u001b[1;34m\REMOVED_SECRET.\REMOVED_SECRET\u001b[0m \u001b[1;33m+\u001b[0m \u001b[0mmodule_name\u001b[0m\u001b[1;33m,\u001b[0m \u001b[0mself\u001b[0m\u001b[1;33m.\u001b[0m\u001b[0m__name__\u001b[0m\u001b[1;33m)\u001b[0m\u001b[1;33m\u001b[0m\u001b[1;33m\u001b[0m\u001b[0m\n\u001b[0m\u001b[0;32m   1977\u001b[0m         \u001b[1;32mexcept\u001b[0m \u001b[0mException\u001b[0m \u001b[1;32mas\u001b[0m \u001b[0me\u001b[0m\u001b[1;33m:\u001b[0m\u001b[1;33m\u001b[0m\u001b[1;33m\u001b[0m\u001b[0m\nREMOVED_SECRET,
      REMOVED_SECRET\u001b[1;32mc:\\Users\\User\\anaconda3\\lib\\importlib\\__init__.py\u001b[0m in \u001b[0;36mimport_module\u001b[1;34m(name, package)\u001b[0m\n\u001b[0;32m    126\u001b[0m             \u001b[0mlevel\u001b[0m \u001b[1;33m+=\u001b[0m \u001b[1;36m1\u001b[0m\u001b[1;33m\u001b[0m\u001b[1;33m\u001b[0m\u001b[0m\n\u001b[1;32m--> 127\u001b[1;33m     \u001b[1;32mreturn\u001b[0m \u001b[0m_bootstrap\u001b[0m\u001b[1;33m.\u001b[0m\u001b[0m_gcd_import\u001b[0m\u001b[1;33m(\u001b[0m\u001b[0mname\u001b[0m\u001b[1;33m[\u001b[0m\u001b[0mlevel\u001b[0m\u001b[1;33m:\u001b[0m\u001b[1;33m]\u001b[0m\u001b[1;33m,\u001b[0m \u001b[0mpackage\u001b[0m\u001b[1;33m,\u001b[0m \u001b[0mlevel\u001b[0m\u001b[1;33m)\u001b[0m\u001b[1;33m\u001b[0m\u001b[1;33m\u001b[0m\u001b[0m\n\u001b[0m\u001b[0;32m    128\u001b[0m \u001b[1;33m\u001b[0m\u001b[0m\nREMOVED_SECRET,
      REMOVED_SECRET\u001b[1;32mc:\\Users\\User\\anaconda3\\lib\\importlib\\_bootstrap.py\u001b[0m in \u001b[0;36m_gcd_import\u001b[1;34m(name, package, level)\u001b[0m\nREMOVED_SECRET,
      REMOVED_SECRET\u001b[1;32mc:\\Users\\User\\anaconda3\\lib\\importlib\\_bootstrap.py\u001b[0m in \u001b[0;36m_find_and_load\u001b[1;34m(name, import_)\u001b[0m\nREMOVED_SECRET,
      REMOVED_SECRET\u001b[1;32mc:\\Users\\User\\anaconda3\\lib\\importlib\\_bootstrap.py\u001b[0m in \u001b[0;36m_find_and_load_unlocked\u001b[1;34m(name, import_)\u001b[0m\nREMOVED_SECRET,
      REMOVED_SECRET\u001b[1;32mc:\\Users\\User\\anaconda3\\lib\\importlib\\_bootstrap.py\u001b[0m in \u001b[0;36m_load_unlocked\u001b[1;34m(spec)\u001b[0m\nREMOVED_SECRET,
      REMOVED_SECRET\u001b[1;32mc:\\Users\\User\\anaconda3\\lib\\importlib\\_bootstrap_external.py\u001b[0m in \u001b[0;36mexec_module\u001b[1;34m(self, module)\u001b[0m\nREMOVED_SECRET,
      REMOVED_SECRET\u001b[1;32mc:\\Users\\User\\anaconda3\\lib\\importlib\\_bootstrap.py\u001b[0m in \u001b[0;36m_call_with_frames_removed\u001b[1;34m(f, *args, **kwds)\u001b[0m\nREMOVED_SECRET,
      REMOVED_SECRET\u001b[1;32mc:\\Users\\User\\anaconda3\\lib\\site-packages\\transformers\\modeling_tf_utils.py\u001b[0m in \u001b[0;36m<module>\u001b[1;34m\u001b[0m\n\u001b[0;32m     31\u001b[0m \u001b[1;33m\u001b[0m\u001b[0m\n\u001b[1;32m---> 32\u001b[1;33m \u001b[1;32mimport\u001b[0m \u001b[0mh5py\u001b[0m\u001b[1;33m\u001b[0m\u001b[1;33m\u001b[0m\u001b[0m\n\u001b[0m\u001b[0;32m     33\u001b[0m \u001b[1;32mimport\u001b[0m \u001b[0mnumpy\u001b[0m \u001b[1;32mas\u001b[0m \u001b[0mnp\u001b[0m\u001b[1;33m\u001b[0m\u001b[1;33m\u001b[0m\u001b[0m\nREMOVED_SECRET,
      REMOVED_SECRET\u001b[1;32mc:\\Users\\User\\anaconda3\\lib\\site-packages\\h5py\\__init__.py\u001b[0m in \u001b[0;36m<module>\u001b[1;34m\u001b[0m\n\u001b[0;32m     24\u001b[0m \u001b[1;32mtry\u001b[0m\u001b[1;33m:\u001b[0m\u001b[1;33m\u001b[0m\u001b[1;33m\u001b[0m\u001b[0m\n\u001b[1;32m---> 25\u001b[1;33m     \u001b[1;32mfrom\u001b[0m \u001b[1;33m.\u001b[0m \u001b[1;32mimport\u001b[0m \u001b[0m_errors\u001b[0m\u001b[1;33m\u001b[0m\u001b[1;33m\u001b[0m\u001b[0m\n\u001b[0m\u001b[0;32m     26\u001b[0m \u001b[1;32mexcept\u001b[0m \u001b[0mImportError\u001b[0m\u001b[1;33m:\u001b[0m\u001b[1;33m\u001b[0m\u001b[1;33m\u001b[0m\u001b[0m\nREMOVED_SECRET,
      REMOVED_SECRET\u001b[1;31mImportError\u001b[0m: DLL load failed while importing _errors: The specified procedure could not be found.REMOVED_SECRET,
      REMOVED_SECRET\nThe above exception was the direct cause of the following exception:\nREMOVED_SECRET,
      REMOVED_SECRET\u001b[1;31mRuntimeError\u001b[0m                              Traceback (most recent call last)REMOVED_SECRET,
      REMOVED_SECRET\u001b[1;32mc:\\Users\\User\\anaconda3\\lib\\site-packages\\transformers\\utils\\import_utils.py\u001b[0m in \u001b[0;36m_get_module\u001b[1;34m(self, module_name)\u001b[0m\n\u001b[0;32m   1975\u001b[0m         \u001b[1;32mtry\u001b[0m\u001b[1;33m:\u001b[0m\u001b[1;33m\u001b[0m\u001b[1;33m\u001b[0m\u001b[0m\n\u001b[1;32m-> 1976\u001b[1;33m             \u001b[1;32mreturn\u001b[0m \u001b[0mimportlib\u001b[0m\u001b[1;33m.\u001b[0m\u001b[0mimport_module\u001b[0m\u001b[1;33m(\u001b[0m\u001b[1;34m\REMOVED_SECRET.\REMOVED_SECRET\u001b[0m \u001b[1;33m+\u001b[0m \u001b[0mmodule_name\u001b[0m\u001b[1;33m,\u001b[0m \u001b[0mself\u001b[0m\u001b[1;33m.\u001b[0m\u001b[0m__name__\u001b[0m\u001b[1;33m)\u001b[0m\u001b[1;33m\u001b[0m\u001b[1;33m\u001b[0m\u001b[0m\n\u001b[0m\u001b[0;32m   1977\u001b[0m         \u001b[1;32mexcept\u001b[0m \u001b[0mException\u001b[0m \u001b[1;32mas\u001b[0m \u001b[0me\u001b[0m\u001b[1;33m:\u001b[0m\u001b[1;33m\u001b[0m\u001b[1;33m\u001b[0m\u001b[0m\nREMOVED_SECRET,
      REMOVED_SECRET\u001b[1;32mc:\\Users\\User\\anaconda3\\lib\\importlib\\__init__.py\u001b[0m in \u001b[0;36mimport_module\u001b[1;34m(name, package)\u001b[0m\n\u001b[0;32m    126\u001b[0m             \u001b[0mlevel\u001b[0m \u001b[1;33m+=\u001b[0m \u001b[1;36m1\u001b[0m\u001b[1;33m\u001b[0m\u001b[1;33m\u001b[0m\u001b[0m\n\u001b[1;32m--> 127\u001b[1;33m     \u001b[1;32mreturn\u001b[0m \u001b[0m_bootstrap\u001b[0m\u001b[1;33m.\u001b[0m\u001b[0m_gcd_import\u001b[0m\u001b[1;33m(\u001b[0m\u001b[0mname\u001b[0m\u001b[1;33m[\u001b[0m\u001b[0mlevel\u001b[0m\u001b[1;33m:\u001b[0m\u001b[1;33m]\u001b[0m\u001b[1;33m,\u001b[0m \u001b[0mpackage\u001b[0m\u001b[1;33m,\u001b[0m \u001b[0mlevel\u001b[0m\u001b[1;33m)\u001b[0m\u001b[1;33m\u001b[0m\u001b[1;33m\u001b[0m\u001b[0m\n\u001b[0m\u001b[0;32m    128\u001b[0m \u001b[1;33m\u001b[0m\u001b[0m\nREMOVED_SECRET,
      REMOVED_SECRET\u001b[1;32mc:\\Users\\User\\anaconda3\\lib\\importlib\\_bootstrap.py\u001b[0m in \u001b[0;36m_gcd_import\u001b[1;34m(name, package, level)\u001b[0m\nREMOVED_SECRET,
      REMOVED_SECRET\u001b[1;32mc:\\Users\\User\\anaconda3\\lib\\importlib\\_bootstrap.py\u001b[0m in \u001b[0;36m_find_and_load\u001b[1;34m(name, import_)\u001b[0m\nREMOVED_SECRET,
      REMOVED_SECRET\u001b[1;32mc:\\Users\\User\\anaconda3\\lib\\importlib\\_bootstrap.py\u001b[0m in \u001b[0;36m_find_and_load_unlocked\u001b[1;34m(name, import_)\u001b[0m\nREMOVED_SECRET,
      REMOVED_SECRET\u001b[1;32mc:\\Users\\User\\anaconda3\\lib\\importlib\\_bootstrap.py\u001b[0m in \u001b[0;36m_load_unlocked\u001b[1;34m(spec)\u001b[0m\nREMOVED_SECRET,
      REMOVED_SECRET\u001b[1;32mc:\\Users\\User\\anaconda3\\lib\\importlib\\_bootstrap_external.py\u001b[0m in \u001b[0;36mexec_module\u001b[1;34m(self, module)\u001b[0m\nREMOVED_SECRET,
      REMOVED_SECRET\u001b[1;32mc:\\Users\\User\\anaconda3\\lib\\importlib\\_bootstrap.py\u001b[0m in \u001b[0;36m_call_with_frames_removed\u001b[1;34m(f, *args, **kwds)\u001b[0m\nREMOVED_SECRET,
      REMOVED_SECRET\u001b[1;32mc:\\Users\\User\\anaconda3\\lib\\site-packages\\transformers\\integrations\\integration_utils.py\u001b[0m in \u001b[0;36m<module>\u001b[1;34m\u001b[0m\n\u001b[0;32m     35\u001b[0m \u001b[1;33m\u001b[0m\u001b[0m\n\u001b[1;32m---> 36\u001b[1;33m \u001b[1;32mfrom\u001b[0m \u001b[1;33m.\u001b[0m\u001b[1;33m.\u001b[0m \u001b[1;32mimport\u001b[0m \u001b[0mPreTrainedModel\u001b[0m\u001b[1;33m,\u001b[0m \u001b[0mTFPreTrainedModel\u001b[0m\u001b[1;33m\u001b[0m\u001b[1;33m\u001b[0m\u001b[0m\n\u001b[0m\u001b[0;32m     37\u001b[0m \u001b[1;32mfrom\u001b[0m \u001b[1;33m.\u001b[0m\u001b[1;33m.\u001b[0m \u001b[1;32mimport\u001b[0m \u001b[0m__version__\u001b[0m \u001b[1;32mas\u001b[0m \u001b[0mversion\u001b[0m\u001b[1;33m\u001b[0m\u001b[1;33m\u001b[0m\u001b[0m\nREMOVED_SECRET,
      REMOVED_SECRET\u001b[1;32mc:\\Users\\User\\anaconda3\\lib\\importlib\\_bootstrap.py\u001b[0m in \u001b[0;36m_handle_fromlist\u001b[1;34m(module, fromlist, import_, recursive)\u001b[0m\nREMOVED_SECRET,
      REMOVED_SECRET\u001b[1;32mc:\\Users\\User\\anaconda3\\lib\\site-packages\\transformers\\utils\\import_utils.py\u001b[0m in \u001b[0;36m__getattr__\u001b[1;34m(self, name)\u001b[0m\n\u001b[0;32m   1963\u001b[0m         \u001b[1;32melif\u001b[0m \u001b[0mname\u001b[0m \u001b[1;32min\u001b[0m \u001b[0mself\u001b[0m\u001b[1;33m.\u001b[0m\u001b[0m_class_to_module\u001b[0m\u001b[1;33m.\u001b[0m\u001b[0mkeys\u001b[0m\u001b[1;33m(\u001b[0m\u001b[1;33m)\u001b[0m\u001b[1;33m:\u001b[0m\u001b[1;33m\u001b[0m\u001b[1;33m\u001b[0m\u001b[0m\n\u001b[1;32m-> 1964\u001b[1;33m             \u001b[0mmodule\u001b[0m \u001b[1;33m=\u001b[0m \u001b[0mself\u001b[0m\u001b[1;33m.\u001b[0m\u001b[0m_get_module\u001b[0m\u001b[1;33m(\u001b[0m\u001b[0mself\u001b[0m\u001b[1;33m.\u001b[0m\u001b[0m_class_to_module\u001b[0m\u001b[1;33m[\u001b[0m\u001b[0mname\u001b[0m\u001b[1;33m]\u001b[0m\u001b[1;33m)\u001b[0m\u001b[1;33m\u001b[0m\u001b[1;33m\u001b[0m\u001b[0m\n\u001b[0m\u001b[0;32m   1965\u001b[0m             \u001b[0mvalue\u001b[0m \u001b[1;33m=\u001b[0m \u001b[0mgetattr\u001b[0m\u001b[1;33m(\u001b[0m\u001b[0mmodule\u001b[0m\u001b[1;33m,\u001b[0m \u001b[0mname\u001b[0m\u001b[1;33m)\u001b[0m\u001b[1;33m\u001b[0m\u001b[1;33m\u001b[0m\u001b[0m\nREMOVED_SECRET,
      REMOVED_SECRET\u001b[1;32mc:\\Users\\User\\anaconda3\\lib\\site-packages\\transformers\\utils\\import_utils.py\u001b[0m in \u001b[0;36m_get_module\u001b[1;34m(self, module_name)\u001b[0m\n\u001b[0;32m   1977\u001b[0m         \u001b[1;32mexcept\u001b[0m \u001b[0mException\u001b[0m \u001b[1;32mas\u001b[0m \u001b[0me\u001b[0m\u001b[1;33m:\u001b[0m\u001b[1;33m\u001b[0m\u001b[1;33m\u001b[0m\u001b[0m\n\u001b[1;32m-> 1978\u001b[1;33m             raise RuntimeError(\n\u001b[0m\u001b[0;32m   1979\u001b[0m                 \u001b[1;34mf\REMOVED_SECRETFailed to import {self.__name__}.{module_name} because of the following error (look up to see its\REMOVED_SECRET\u001b[0m\u001b[1;33m\u001b[0m\u001b[1;33m\u001b[0m\u001b[0m\nREMOVED_SECRET,
      REMOVED_SECRET\u001b[1;31mRuntimeError\u001b[0m: Failed to import transformers.modeling_tf_utils because of the following error (look up to see its traceback):\nDLL load failed while importing _errors: The specified procedure could not be found.REMOVED_SECRET,
      REMOVED_SECRET\nThe above exception was the direct cause of the following exception:\nREMOVED_SECRET,
      REMOVED_SECRET\u001b[1;31mRuntimeError\u001b[0m                              Traceback (most recent call last)REMOVED_SECRET,
      REMOVED_SECRET\u001b[1;32m~\\AppData\\Local\\Temp\\ipykernel_22484\\3708826530.py\u001b[0m in \u001b[0;36m<module>\u001b[1;34m\u001b[0m\n\u001b[0;32m      3\u001b[0m \u001b[1;32mimport\u001b[0m \u001b[0mos\u001b[0m\u001b[1;33m\u001b[0m\u001b[1;33m\u001b[0m\u001b[0m\n\u001b[0;32m      4\u001b[0m \u001b[1;33m\u001b[0m\u001b[0m\n\u001b[1;32m----> 5\u001b[1;33m \u001b[1;32mfrom\u001b[0m \u001b[0msentence_transformers\u001b[0m \u001b[1;32mimport\u001b[0m \u001b[0mSentenceTransformer\u001b[0m\u001b[1;33m\u001b[0m\u001b[1;33m\u001b[0m\u001b[0m\n\u001b[0mREMOVED_SECRET,
      REMOVED_SECRET\u001b[1;32mc:\\Users\\User\\anaconda3\\lib\\site-packages\\sentence_transformers\\__init__.py\u001b[0m in \u001b[0;36m<module>\u001b[1;34m\u001b[0m\n\u001b[0;32m      5\u001b[0m \u001b[1;32mimport\u001b[0m \u001b[0mos\u001b[0m\u001b[1;33m\u001b[0m\u001b[1;33m\u001b[0m\u001b[0m\n\u001b[0;32m      6\u001b[0m \u001b[1;33m\u001b[0m\u001b[0m\n\u001b[1;32m----> 7\u001b[1;33m \u001b[1;32mfrom\u001b[0m \u001b[0msentence_transformers\u001b[0m\u001b[1;33m.\u001b[0m\u001b[0mcross_encoder\u001b[0m\u001b[1;33m.\u001b[0m\u001b[0mCrossEncoder\u001b[0m \u001b[1;32mimport\u001b[0m \u001b[0mCrossEncoder\u001b[0m\u001b[1;33m\u001b[0m\u001b[1;33m\u001b[0m\u001b[0m\n\u001b[0m\u001b[0;32m      8\u001b[0m \u001b[1;32mfrom\u001b[0m \u001b[0msentence_transformers\u001b[0m\u001b[1;33m.\u001b[0m\u001b[0mdatasets\u001b[0m \u001b[1;32mimport\u001b[0m \u001b[0mParallelSentencesDataset\u001b[0m\u001b[1;33m,\u001b[0m \u001b[0mSentencesDataset\u001b[0m\u001b[1;33m\u001b[0m\u001b[1;33m\u001b[0m\u001b[0m\n\u001b[0;32m      9\u001b[0m \u001b[1;32mfrom\u001b[0m \u001b[0msentence_transformers\u001b[0m\u001b[1;33m.\u001b[0m\u001b[0mLoggingHandler\u001b[0m \u001b[1;32mimport\u001b[0m \u001b[0mLoggingHandler\u001b[0m\u001b[1;33m\u001b[0m\u001b[1;33m\u001b[0m\u001b[0m\nREMOVED_SECRET,
      REMOVED_SECRET\u001b[1;32mc:\\Users\\User\\anaconda3\\lib\\site-packages\\sentence_transformers\\cross_encoder\\__init__.py\u001b[0m in \u001b[0;36m<module>\u001b[1;34m\u001b[0m\n\u001b[1;32m----> 1\u001b[1;33m \u001b[1;32mfrom\u001b[0m \u001b[1;33m.\u001b[0m\u001b[0mCrossEncoder\u001b[0m \u001b[1;32mimport\u001b[0m \u001b[0mCrossEncoder\u001b[0m\u001b[1;33m\u001b[0m\u001b[1;33m\u001b[0m\u001b[0m\n\u001b[0m\u001b[0;32m      2\u001b[0m \u001b[1;33m\u001b[0m\u001b[0m\n\u001b[0;32m      3\u001b[0m \u001b[0m__all__\u001b[0m \u001b[1;33m=\u001b[0m \u001b[1;33m[\u001b[0m\u001b[1;34m\REMOVED_SECRETCrossEncoder\REMOVED_SECRET\u001b[0m\u001b[1;33m]\u001b[0m\u001b[1;33m\u001b[0m\u001b[1;33m\u001b[0m\u001b[0m\nREMOVED_SECRET,
      REMOVED_SECRET\u001b[1;32mc:\\Users\\User\\anaconda3\\lib\\site-packages\\sentence_transformers\\cross_encoder\\CrossEncoder.py\u001b[0m in \u001b[0;36m<module>\u001b[1;34m\u001b[0m\n\u001b[0;32m     16\u001b[0m \u001b[1;32mfrom\u001b[0m \u001b[0msentence_transformers\u001b[0m\u001b[1;33m.\u001b[0m\u001b[0mevaluation\u001b[0m\u001b[1;33m.\u001b[0m\u001b[0mSentenceEvaluator\u001b[0m \u001b[1;32mimport\u001b[0m \u001b[0mSentenceEvaluator\u001b[0m\u001b[1;33m\u001b[0m\u001b[1;33m\u001b[0m\u001b[0m\n\u001b[0;32m     17\u001b[0m \u001b[1;32mfrom\u001b[0m \u001b[0msentence_transformers\u001b[0m\u001b[1;33m.\u001b[0m\u001b[0mreaders\u001b[0m \u001b[1;32mimport\u001b[0m \u001b[0mInputExample\u001b[0m\u001b[1;33m\u001b[0m\u001b[1;33m\u001b[0m\u001b[0m\n\u001b[1;32m---> 18\u001b[1;33m \u001b[1;32mfrom\u001b[0m \u001b[0msentence_transformers\u001b[0m\u001b[1;33m.\u001b[0m\u001b[0mSentenceTransformer\u001b[0m \u001b[1;32mimport\u001b[0m \u001b[0mSentenceTransformer\u001b[0m\u001b[1;33m\u001b[0m\u001b[1;33m\u001b[0m\u001b[0m\n\u001b[0m\u001b[0;32m     19\u001b[0m \u001b[1;32mfrom\u001b[0m \u001b[0msentence_transformers\u001b[0m\u001b[1;33m.\u001b[0m\u001b[0mutil\u001b[0m \u001b[1;32mimport\u001b[0m \u001b[0mfullname\u001b[0m\u001b[1;33m,\u001b[0m \u001b[0mget_device_name\u001b[0m\u001b[1;33m,\u001b[0m \u001b[0mimport_from_string\u001b[0m\u001b[1;33m\u001b[0m\u001b[1;33m\u001b[0m\u001b[0m\n\u001b[0;32m     20\u001b[0m \u001b[1;33m\u001b[0m\u001b[0m\nREMOVED_SECRET,
      REMOVED_SECRET\u001b[1;32mc:\\Users\\User\\anaconda3\\lib\\site-packages\\sentence_transformers\\SentenceTransformer.py\u001b[0m in \u001b[0;36m<module>\u001b[1;34m\u001b[0m\n\u001b[0;32m     25\u001b[0m \u001b[1;32mfrom\u001b[0m \u001b[0mtransformers\u001b[0m \u001b[1;32mimport\u001b[0m \u001b[0mis_torch_npu_available\u001b[0m\u001b[1;33m\u001b[0m\u001b[1;33m\u001b[0m\u001b[0m\n\u001b[0;32m     26\u001b[0m \u001b[1;33m\u001b[0m\u001b[0m\n\u001b[1;32m---> 27\u001b[1;33m \u001b[1;32mfrom\u001b[0m \u001b[0msentence_transformers\u001b[0m\u001b[1;33m.\u001b[0m\u001b[0mmodel_card\u001b[0m \u001b[1;32mimport\u001b[0m \u001b[0mSentenceTransformerModelCardData\u001b[0m\u001b[1;33m,\u001b[0m \u001b[0mgenerate_model_card\u001b[0m\u001b[1;33m\u001b[0m\u001b[1;33m\u001b[0m\u001b[0m\n\u001b[0m\u001b[0;32m     28\u001b[0m \u001b[1;32mfrom\u001b[0m \u001b[0msentence_transformers\u001b[0m\u001b[1;33m.\u001b[0m\u001b[0msimilarity_functions\u001b[0m \u001b[1;32mimport\u001b[0m \u001b[0mSimilarityFunction\u001b[0m\u001b[1;33m\u001b[0m\u001b[1;33m\u001b[0m\u001b[0m\n\u001b[0;32m     29\u001b[0m \u001b[1;33m\u001b[0m\u001b[0m\nREMOVED_SECRET,
      REMOVED_SECRET\u001b[1;32mc:\\Users\\User\\anaconda3\\lib\\site-packages\\sentence_transformers\\model_card.py\u001b[0m in \u001b[0;36m<module>\u001b[1;34m\u001b[0m\n\u001b[0;32m     21\u001b[0m \u001b[1;32mfrom\u001b[0m \u001b[0mtqdm\u001b[0m\u001b[1;33m.\u001b[0m\u001b[0mautonotebook\u001b[0m \u001b[1;32mimport\u001b[0m \u001b[0mtqdm\u001b[0m\u001b[1;33m\u001b[0m\u001b[1;33m\u001b[0m\u001b[0m\n\u001b[0;32m     22\u001b[0m \u001b[1;32mfrom\u001b[0m \u001b[0mtransformers\u001b[0m \u001b[1;32mimport\u001b[0m \u001b[0mTrainerCallback\u001b[0m\u001b[1;33m\u001b[0m\u001b[1;33m\u001b[0m\u001b[0m\n\u001b[1;32m---> 23\u001b[1;33m \u001b[1;32mfrom\u001b[0m \u001b[0mtransformers\u001b[0m\u001b[1;33m.\u001b[0m\u001b[0mintegrations\u001b[0m \u001b[1;32mimport\u001b[0m \u001b[0mCodeCarbonCallback\u001b[0m\u001b[1;33m\u001b[0m\u001b[1;33m\u001b[0m\u001b[0m\n\u001b[0m\u001b[0;32m     24\u001b[0m \u001b[1;32mfrom\u001b[0m \u001b[0mtransformers\u001b[0m\u001b[1;33m.\u001b[0m\u001b[0mmodelcard\u001b[0m \u001b[1;32mimport\u001b[0m \u001b[0mmake_markdown_table\u001b[0m\u001b[1;33m\u001b[0m\u001b[1;33m\u001b[0m\u001b[0m\n\u001b[0;32m     25\u001b[0m \u001b[1;32mfrom\u001b[0m \u001b[0mtransformers\u001b[0m\u001b[1;33m.\u001b[0m\u001b[0mtrainer_callback\u001b[0m \u001b[1;32mimport\u001b[0m \u001b[0mTrainerControl\u001b[0m\u001b[1;33m,\u001b[0m \u001b[0mTrainerState\u001b[0m\u001b[1;33m\u001b[0m\u001b[1;33m\u001b[0m\u001b[0m\nREMOVED_SECRET,
      REMOVED_SECRET\u001b[1;32mc:\\Users\\User\\anaconda3\\lib\\importlib\\_bootstrap.py\u001b[0m in \u001b[0;36m_handle_fromlist\u001b[1;34m(module, fromlist, import_, recursive)\u001b[0m\nREMOVED_SECRET,
      REMOVED_SECRET\u001b[1;32mc:\\Users\\User\\anaconda3\\lib\\site-packages\\transformers\\utils\\import_utils.py\u001b[0m in \u001b[0;36m__getattr__\u001b[1;34m(self, name)\u001b[0m\n\u001b[0;32m   1962\u001b[0m             \u001b[0mvalue\u001b[0m \u001b[1;33m=\u001b[0m \u001b[0mPlaceholder\u001b[0m\u001b[1;33m\u001b[0m\u001b[1;33m\u001b[0m\u001b[0m\n\u001b[0;32m   1963\u001b[0m         \u001b[1;32melif\u001b[0m \u001b[0mname\u001b[0m \u001b[1;32min\u001b[0m \u001b[0mself\u001b[0m\u001b[1;33m.\u001b[0m\u001b[0m_class_to_module\u001b[0m\u001b[1;33m.\u001b[0m\u001b[0mkeys\u001b[0m\u001b[1;33m(\u001b[0m\u001b[1;33m)\u001b[0m\u001b[1;33m:\u001b[0m\u001b[1;33m\u001b[0m\u001b[1;33m\u001b[0m\u001b[0m\n\u001b[1;32m-> 1964\u001b[1;33m             \u001b[0mmodule\u001b[0m \u001b[1;33m=\u001b[0m \u001b[0mself\u001b[0m\u001b[1;33m.\u001b[0m\u001b[0m_get_module\u001b[0m\u001b[1;33m(\u001b[0m\u001b[0mself\u001b[0m\u001b[1;33m.\u001b[0m\u001b[0m_class_to_module\u001b[0m\u001b[1;33m[\u001b[0m\u001b[0mname\u001b[0m\u001b[1;33m]\u001b[0m\u001b[1;33m)\u001b[0m\u001b[1;33m\u001b[0m\u001b[1;33m\u001b[0m\u001b[0m\n\u001b[0m\u001b[0;32m   1965\u001b[0m             \u001b[0mvalue\u001b[0m \u001b[1;33m=\u001b[0m \u001b[0mgetattr\u001b[0m\u001b[1;33m(\u001b[0m\u001b[0mmodule\u001b[0m\u001b[1;33m,\u001b[0m \u001b[0mname\u001b[0m\u001b[1;33m)\u001b[0m\u001b[1;33m\u001b[0m\u001b[1;33m\u001b[0m\u001b[0m\n\u001b[0;32m   1966\u001b[0m         \u001b[1;32melif\u001b[0m \u001b[0mname\u001b[0m \u001b[1;32min\u001b[0m \u001b[0mself\u001b[0m\u001b[1;33m.\u001b[0m\u001b[0m_modules\u001b[0m\u001b[1;33m:\u001b[0m\u001b[1;33m\u001b[0m\u001b[1;33m\u001b[0m\u001b[0m\nREMOVED_SECRET,
      REMOVED_SECRET\u001b[1;32mc:\\Users\\User\\anaconda3\\lib\\site-packages\\transformers\\utils\\import_utils.py\u001b[0m in \u001b[0;36m_get_module\u001b[1;34m(self, module_name)\u001b[0m\n\u001b[0;32m   1976\u001b[0m             \u001b[1;32mreturn\u001b[0m \u001b[0mimportlib\u001b[0m\u001b[1;33m.\u001b[0m\u001b[0mimport_module\u001b[0m\u001b[1;33m(\u001b[0m\u001b[1;34m\REMOVED_SECRET.\REMOVED_SECRET\u001b[0m \u001b[1;33m+\u001b[0m \u001b[0mmodule_name\u001b[0m\u001b[1;33m,\u001b[0m \u001b[0mself\u001b[0m\u001b[1;33m.\u001b[0m\u001b[0m__name__\u001b[0m\u001b[1;33m)\u001b[0m\u001b[1;33m\u001b[0m\u001b[1;33m\u001b[0m\u001b[0m\n\u001b[0;32m   1977\u001b[0m         \u001b[1;32mexcept\u001b[0m \u001b[0mException\u001b[0m \u001b[1;32mas\u001b[0m \u001b[0me\u001b[0m\u001b[1;33m:\u001b[0m\u001b[1;33m\u001b[0m\u001b[1;33m\u001b[0m\u001b[0m\n\u001b[1;32m-> 1978\u001b[1;33m             raise RuntimeError(\n\u001b[0m\u001b[0;32m   1979\u001b[0m                 \u001b[1;34mf\REMOVED_SECRETFailed to import {self.__name__}.{module_name} because of the following error (look up to see its\REMOVED_SECRET\u001b[0m\u001b[1;33m\u001b[0m\u001b[1;33m\u001b[0m\u001b[0m\n\u001b[0;32m   1980\u001b[0m                 \u001b[1;34mf\REMOVED_SECRET traceback):\\n{e}\REMOVED_SECRET\u001b[0m\u001b[1;33m\u001b[0m\u001b[1;33m\u001b[0m\u001b[0m\nREMOVED_SECRET,
      REMOVED_SECRET\u001b[1;31mRuntimeError\u001b[0m: Failed to import transformers.integrations.integration_utils because of the following error (look up to see its traceback):\nFailed to import transformers.modeling_tf_utils because of the following error (look up to see its traceback):\nDLL load failed while importing _errors: The specified procedure could not be found.REMOVED_SECRET
     ]
    }
   ],
   REMOVED_SECRETsourceREMOVED_SECRET: [
    REMOVED_SECRET#All Imports\nREMOVED_SECRET,
    REMOVED_SECRETimport pandas as pd\nREMOVED_SECRET,
    REMOVED_SECRETimport os\nREMOVED_SECRET,
    REMOVED_SECRET\nREMOVED_SECRET,
    REMOVED_SECRETfrom sentence_transformers import SentenceTransformer\nREMOVED_SECRET
   ]
  },
  {
   REMOVED_SECRETcell_typeREMOVED_SECRET: REMOVED_SECRETcodeREMOVED_SECRET,
   REMOVED_SECRETexecution_countREMOVED_SECRET: 7,
   REMOVED_SECRETmetadataREMOVED_SECRET: {},
   REMOVED_SECREToutputsREMOVED_SECRET: [],
   REMOVED_SECRETsourceREMOVED_SECRET: [
    REMOVED_SECRET#Read all dataset\nREMOVED_SECRET,
    REMOVED_SECRETfolder_path = 'dataset'\nREMOVED_SECRET,
    REMOVED_SECRETdata = [f for f in os.listdir(folder_path)]\nREMOVED_SECRET,
    REMOVED_SECRETdataframes = []\nREMOVED_SECRET,
    REMOVED_SECRET\nREMOVED_SECRET,
    REMOVED_SECRETfor file in data:\nREMOVED_SECRET,
    REMOVED_SECRET    raw_data = os.path.join(folder_path, file)\nREMOVED_SECRET,
    REMOVED_SECRET    df = pd.read_csv(raw_data)\nREMOVED_SECRET,
    REMOVED_SECRET    dataframes.append(df)\nREMOVED_SECRET,
    REMOVED_SECRET\nREMOVED_SECRET,
    REMOVED_SECRET#Assign variables on each dataset\nREMOVED_SECRET,
    REMOVED_SECRETspanish_df = dataframes[0]\nREMOVED_SECRET,
    REMOVED_SECRETchinese_df = dataframes[1]\nREMOVED_SECRET,
    REMOVED_SECRETitaly_df = dataframes[2]\nREMOVED_SECRET
   ]
  },
  {
   REMOVED_SECRETcell_typeREMOVED_SECRET: REMOVED_SECRETmarkdownREMOVED_SECRET,
   REMOVED_SECRETmetadataREMOVED_SECRET: {},
   REMOVED_SECRETsourceREMOVED_SECRET: [
    REMOVED_SECRETItalian Dataset ExplorationREMOVED_SECRET
   ]
  },
  {
   REMOVED_SECRETcell_typeREMOVED_SECRET: REMOVED_SECRETcodeREMOVED_SECRET,
   REMOVED_SECRETexecution_countREMOVED_SECRET: 8,
   REMOVED_SECRETmetadataREMOVED_SECRET: {},
   REMOVED_SECREToutputsREMOVED_SECRET: [
    {
     REMOVED_SECRETdataREMOVED_SECRET: {
      REMOVED_SECRETtext/htmlREMOVED_SECRET: [
       REMOVED_SECRET<div>\nREMOVED_SECRET,
       REMOVED_SECRET<style scoped>\nREMOVED_SECRET,
       REMOVED_SECRET    .dataframe tbody tr th:only-of-type {\nREMOVED_SECRET,
       REMOVED_SECRET        vertical-align: middle;\nREMOVED_SECRET,
       REMOVED_SECRET    }\nREMOVED_SECRET,
       REMOVED_SECRET\nREMOVED_SECRET,
       REMOVED_SECRET    .dataframe tbody tr th {\nREMOVED_SECRET,
       REMOVED_SECRET        vertical-align: top;\nREMOVED_SECRET,
       REMOVED_SECRET    }\nREMOVED_SECRET,
       REMOVED_SECRET\nREMOVED_SECRET,
       REMOVED_SECRET    .dataframe thead th {\nREMOVED_SECRET,
       REMOVED_SECRET        text-align: right;\nREMOVED_SECRET,
       REMOVED_SECRET    }\nREMOVED_SECRET,
       REMOVED_SECRET</style>\nREMOVED_SECRET,
       REMOVED_SECRET<table border=\REMOVED_SECRET1\REMOVED_SECRET class=\REMOVED_SECRETdataframe\REMOVED_SECRET>\nREMOVED_SECRET,
       REMOVED_SECRET  <thead>\nREMOVED_SECRET,
       REMOVED_SECRET    <tr style=\REMOVED_SECRETtext-align: right;\REMOVED_SECRET>\nREMOVED_SECRET,
       REMOVED_SECRET      <th></th>\nREMOVED_SECRET,
       REMOVED_SECRET      <th>title</th>\nREMOVED_SECRET,
       REMOVED_SECRET      <th>product_description</th>\nREMOVED_SECRET,
       REMOVED_SECRET      <th>title_italian</th>\nREMOVED_SECRET,
       REMOVED_SECRET      <th>productDescription_italian</th>\nREMOVED_SECRET,
       REMOVED_SECRET    </tr>\nREMOVED_SECRET,
       REMOVED_SECRET  </thead>\nREMOVED_SECRET,
       REMOVED_SECRET  <tbody>\nREMOVED_SECRET,
       REMOVED_SECRET    <tr>\nREMOVED_SECRET,
       REMOVED_SECRET      <th>0</th>\nREMOVED_SECRET,
       REMOVED_SECRET      <td>zwilling pro 2pc prep knife set</td>\nREMOVED_SECRET,
       REMOVED_SECRET      <td>this 2piece prep set will become the goto kniv...</td>\nREMOVED_SECRET,
       REMOVED_SECRET      <td>Zwilling pro 2pc set coltello prep</td>\nREMOVED_SECRET,
       REMOVED_SECRET      <td>Questo set prep da 2 pezzi diventerà i coltell...</td>\nREMOVED_SECRET,
       REMOVED_SECRET    </tr>\nREMOVED_SECRET,
       REMOVED_SECRET    <tr>\nREMOVED_SECRET,
       REMOVED_SECRET      <th>1</th>\nREMOVED_SECRET,
       REMOVED_SECRET      <td>womens slim fit drape wrap tshirt  a new day</td>\nREMOVED_SECRET,
       REMOVED_SECRET      <td>elevate your warmweather outfits with this sli...</td>\nREMOVED_SECRET,
       REMOVED_SECRET      <td>donne slim fit drappeggio avvolgere tshirt un ...</td>\nREMOVED_SECRET,
       REMOVED_SECRET      <td>elevare i vostri outfit warmweather con questo...</td>\nREMOVED_SECRET,
       REMOVED_SECRET    </tr>\nREMOVED_SECRET,
       REMOVED_SECRET    <tr>\nREMOVED_SECRET,
       REMOVED_SECRET      <th>2</th>\nREMOVED_SECRET,
       REMOVED_SECRET      <td>mens teenage mutant ninja turtles group shot l...</td>\nREMOVED_SECRET,
       REMOVED_SECRET      <td>cowabunga dude its time to explore the new yor...</td>\nREMOVED_SECRET,
       REMOVED_SECRET      <td>mens adolescente mutante ninja tartarughe grup...</td>\nREMOVED_SECRET,
       REMOVED_SECRET      <td>cowabunga tizio il suo tempo per esplorare il ...</td>\nREMOVED_SECRET,
       REMOVED_SECRET    </tr>\nREMOVED_SECRET,
       REMOVED_SECRET    <tr>\nREMOVED_SECRET,
       REMOVED_SECRET      <th>3</th>\nREMOVED_SECRET,
       REMOVED_SECRET      <td>mens wwe triple h the game logo tshirt</td>\nREMOVED_SECRET,
       REMOVED_SECRET      <td>ladies and gentlemen children of all ages from...</td>\nREMOVED_SECRET,
       REMOVED_SECRET      <td>mens wwe triplo h il gioco logo tshirt</td>\nREMOVED_SECRET,
       REMOVED_SECRET      <td>signore e signori bambini di tutte le età dal ...</td>\nREMOVED_SECRET,
       REMOVED_SECRET    </tr>\nREMOVED_SECRET,
       REMOVED_SECRET    <tr>\nREMOVED_SECRET,
       REMOVED_SECRET      <th>4</th>\nREMOVED_SECRET,
       REMOVED_SECRET      <td>purina fancy feast grilled gravy delights feas...</td>\nREMOVED_SECRET,
       REMOVED_SECRET      <td>give your cat a delightful gourmet meal with p...</td>\nREMOVED_SECRET,
       REMOVED_SECRET      <td>purina fantasia festa grigliato sugo delizie f...</td>\nREMOVED_SECRET,
       REMOVED_SECRET      <td>dare al vostro gatto un delizioso pasto gourme...</td>\nREMOVED_SECRET,
       REMOVED_SECRET    </tr>\nREMOVED_SECRET,
       REMOVED_SECRET    <tr>\nREMOVED_SECRET,
       REMOVED_SECRET      <th>...</th>\nREMOVED_SECRET,
       REMOVED_SECRET      <td>...</td>\nREMOVED_SECRET,
       REMOVED_SECRET      <td>...</td>\nREMOVED_SECRET,
       REMOVED_SECRET      <td>...</td>\nREMOVED_SECRET,
       REMOVED_SECRET      <td>...</td>\nREMOVED_SECRET,
       REMOVED_SECRET    </tr>\nREMOVED_SECRET,
       REMOVED_SECRET    <tr>\nREMOVED_SECRET,
       REMOVED_SECRET      <th>992</th>\nREMOVED_SECRET,
       REMOVED_SECRET      <td>multi collagen protein powder types i ii  ii b...</td>\nREMOVED_SECRET,
       REMOVED_SECRET      <td>multi collagen protein powder types i ii  ii 1...</td>\nREMOVED_SECRET,
       REMOVED_SECRET      <td>proteine multi collageno in polvere ii ii ii o...</td>\nREMOVED_SECRET,
       REMOVED_SECRET      <td>Il collagene multi collageno in polvere ii ii ...</td>\nREMOVED_SECRET,
       REMOVED_SECRET    </tr>\nREMOVED_SECRET,
       REMOVED_SECRET    <tr>\nREMOVED_SECRET,
       REMOVED_SECRET      <th>993</th>\nREMOVED_SECRET,
       REMOVED_SECRET      <td>hope  henry mens waffle knit pullover sweater</td>\nREMOVED_SECRET,
       REMOVED_SECRET      <td>this sweater in our soft 100 organic cotton wi...</td>\nREMOVED_SECRET,
       REMOVED_SECRET      <td>speranza henry uomo waffle maglia pullover mag...</td>\nREMOVED_SECRET,
       REMOVED_SECRET      <td>questo maglione nel nostro morbido cotone biol...</td>\nREMOVED_SECRET,
       REMOVED_SECRET    </tr>\nREMOVED_SECRET,
       REMOVED_SECRET    <tr>\nREMOVED_SECRET,
       REMOVED_SECRET      <th>994</th>\nREMOVED_SECRET,
       REMOVED_SECRET      <td>noritake colortrio 16piece coupe dinnerware set</td>\nREMOVED_SECRET,
       REMOVED_SECRET      <td>noritake colortrio clay 16piece set coupe in b...</td>\nREMOVED_SECRET,
       REMOVED_SECRET      <td>noritake colortio 16 pezzi coupé set per la cena</td>\nREMOVED_SECRET,
       REMOVED_SECRET      <td>noritake colortrio argilla 16piece set coupé i...</td>\nREMOVED_SECRET,
       REMOVED_SECRET    </tr>\nREMOVED_SECRET,
       REMOVED_SECRET    <tr>\nREMOVED_SECRET,
       REMOVED_SECRET      <th>995</th>\nREMOVED_SECRET,
       REMOVED_SECRET      <td>hope  henry mens fine gauge vneck pullover swe...</td>\nREMOVED_SECRET,
       REMOVED_SECRET      <td>this sweater in our soft 100 organic cotton wi...</td>\nREMOVED_SECRET,
       REMOVED_SECRET      <td>speranza henry mens maglione pullover fine gau...</td>\nREMOVED_SECRET,
       REMOVED_SECRET      <td>questo maglione nel nostro morbido cotone biol...</td>\nREMOVED_SECRET,
       REMOVED_SECRET    </tr>\nREMOVED_SECRET,
       REMOVED_SECRET    <tr>\nREMOVED_SECRET,
       REMOVED_SECRET      <th>996</th>\nREMOVED_SECRET,
       REMOVED_SECRET      <td>double strength larginine 1000 mg by now foods...</td>\nREMOVED_SECRET,
       REMOVED_SECRET      <td>double strength larginine 1000 mg 180 tablet d...</td>\nREMOVED_SECRET,
       REMOVED_SECRET      <td>larginina 1000 mg a doppia resistenza ormai al...</td>\nREMOVED_SECRET,
       REMOVED_SECRET      <td>Larginina a doppia concentrazione 1000 mg 180 ...</td>\nREMOVED_SECRET,
       REMOVED_SECRET    </tr>\nREMOVED_SECRET,
       REMOVED_SECRET  </tbody>\nREMOVED_SECRET,
       REMOVED_SECRET</table>\nREMOVED_SECRET,
       REMOVED_SECRET<p>997 rows × 4 columns</p>\nREMOVED_SECRET,
       REMOVED_SECRET</div>REMOVED_SECRET
      ],
      REMOVED_SECRETtext/plainREMOVED_SECRET: [
       REMOVED_SECRET                                                 title  \\\nREMOVED_SECRET,
       REMOVED_SECRET0                      zwilling pro 2pc prep knife set   \nREMOVED_SECRET,
       REMOVED_SECRET1         womens slim fit drape wrap tshirt  a new day   \nREMOVED_SECRET,
       REMOVED_SECRET2    mens teenage mutant ninja turtles group shot l...   \nREMOVED_SECRET,
       REMOVED_SECRET3               mens wwe triple h the game logo tshirt   \nREMOVED_SECRET,
       REMOVED_SECRET4    purina fancy feast grilled gravy delights feas...   \nREMOVED_SECRET,
       REMOVED_SECRET..                                                 ...   \nREMOVED_SECRET,
       REMOVED_SECRET992  multi collagen protein powder types i ii  ii b...   \nREMOVED_SECRET,
       REMOVED_SECRET993      hope  henry mens waffle knit pullover sweater   \nREMOVED_SECRET,
       REMOVED_SECRET994    noritake colortrio 16piece coupe dinnerware set   \nREMOVED_SECRET,
       REMOVED_SECRET995  hope  henry mens fine gauge vneck pullover swe...   \nREMOVED_SECRET,
       REMOVED_SECRET996  double strength larginine 1000 mg by now foods...   \nREMOVED_SECRET,
       REMOVED_SECRET\nREMOVED_SECRET,
       REMOVED_SECRET                                   product_description  \\\nREMOVED_SECRET,
       REMOVED_SECRET0    this 2piece prep set will become the goto kniv...   \nREMOVED_SECRET,
       REMOVED_SECRET1    elevate your warmweather outfits with this sli...   \nREMOVED_SECRET,
       REMOVED_SECRET2    cowabunga dude its time to explore the new yor...   \nREMOVED_SECRET,
       REMOVED_SECRET3    ladies and gentlemen children of all ages from...   \nREMOVED_SECRET,
       REMOVED_SECRET4    give your cat a delightful gourmet meal with p...   \nREMOVED_SECRET,
       REMOVED_SECRET..                                                 ...   \nREMOVED_SECRET,
       REMOVED_SECRET992  multi collagen protein powder types i ii  ii 1...   \nREMOVED_SECRET,
       REMOVED_SECRET993  this sweater in our soft 100 organic cotton wi...   \nREMOVED_SECRET,
       REMOVED_SECRET994  noritake colortrio clay 16piece set coupe in b...   \nREMOVED_SECRET,
       REMOVED_SECRET995  this sweater in our soft 100 organic cotton wi...   \nREMOVED_SECRET,
       REMOVED_SECRET996  double strength larginine 1000 mg 180 tablet d...   \nREMOVED_SECRET,
       REMOVED_SECRET\nREMOVED_SECRET,
       REMOVED_SECRET                                         title_italian  \\\nREMOVED_SECRET,
       REMOVED_SECRET0                   Zwilling pro 2pc set coltello prep   \nREMOVED_SECRET,
       REMOVED_SECRET1    donne slim fit drappeggio avvolgere tshirt un ...   \nREMOVED_SECRET,
       REMOVED_SECRET2    mens adolescente mutante ninja tartarughe grup...   \nREMOVED_SECRET,
       REMOVED_SECRET3               mens wwe triplo h il gioco logo tshirt   \nREMOVED_SECRET,
       REMOVED_SECRET4    purina fantasia festa grigliato sugo delizie f...   \nREMOVED_SECRET,
       REMOVED_SECRET..                                                 ...   \nREMOVED_SECRET,
       REMOVED_SECRET992  proteine multi collageno in polvere ii ii ii o...   \nREMOVED_SECRET,
       REMOVED_SECRET993  speranza henry uomo waffle maglia pullover mag...   \nREMOVED_SECRET,
       REMOVED_SECRET994   noritake colortio 16 pezzi coupé set per la cena   \nREMOVED_SECRET,
       REMOVED_SECRET995  speranza henry mens maglione pullover fine gau...   \nREMOVED_SECRET,
       REMOVED_SECRET996  larginina 1000 mg a doppia resistenza ormai al...   \nREMOVED_SECRET,
       REMOVED_SECRET\nREMOVED_SECRET,
       REMOVED_SECRET                            productDescription_italian  \nREMOVED_SECRET,
       REMOVED_SECRET0    Questo set prep da 2 pezzi diventerà i coltell...  \nREMOVED_SECRET,
       REMOVED_SECRET1    elevare i vostri outfit warmweather con questo...  \nREMOVED_SECRET,
       REMOVED_SECRET2    cowabunga tizio il suo tempo per esplorare il ...  \nREMOVED_SECRET,
       REMOVED_SECRET3    signore e signori bambini di tutte le età dal ...  \nREMOVED_SECRET,
       REMOVED_SECRET4    dare al vostro gatto un delizioso pasto gourme...  \nREMOVED_SECRET,
       REMOVED_SECRET..                                                 ...  \nREMOVED_SECRET,
       REMOVED_SECRET992  Il collagene multi collageno in polvere ii ii ...  \nREMOVED_SECRET,
       REMOVED_SECRET993  questo maglione nel nostro morbido cotone biol...  \nREMOVED_SECRET,
       REMOVED_SECRET994  noritake colortrio argilla 16piece set coupé i...  \nREMOVED_SECRET,
       REMOVED_SECRET995  questo maglione nel nostro morbido cotone biol...  \nREMOVED_SECRET,
       REMOVED_SECRET996  Larginina a doppia concentrazione 1000 mg 180 ...  \nREMOVED_SECRET,
       REMOVED_SECRET\nREMOVED_SECRET,
       REMOVED_SECRET[997 rows x 4 columns]REMOVED_SECRET
      ]
     },
     REMOVED_SECRETexecution_countREMOVED_SECRET: 8,
     REMOVED_SECRETmetadataREMOVED_SECRET: {},
     REMOVED_SECREToutput_typeREMOVED_SECRET: REMOVED_SECRETexecute_resultREMOVED_SECRET
    }
   ],
   REMOVED_SECRETsourceREMOVED_SECRET: [
    REMOVED_SECRETitaly_dfREMOVED_SECRET
   ]
  },
  {
   REMOVED_SECRETcell_typeREMOVED_SECRET: REMOVED_SECRETcodeREMOVED_SECRET,
   REMOVED_SECRETexecution_countREMOVED_SECRET: null,
   REMOVED_SECRETmetadataREMOVED_SECRET: {},
   REMOVED_SECREToutputsREMOVED_SECRET: [
    {
     REMOVED_SECRETenameREMOVED_SECRET: REMOVED_SECRETNameErrorREMOVED_SECRET,
     REMOVED_SECRETevalueREMOVED_SECRET: REMOVED_SECRETname 'SentenceTransformer' is not definedREMOVED_SECRET,
     REMOVED_SECREToutput_typeREMOVED_SECRET: REMOVED_SECRETerrorREMOVED_SECRET,
     REMOVED_SECRETtracebackREMOVED_SECRET: [
      REMOVED_SECRET\u001b[1;31m---------------------------------------------------------------------------\u001b[0mREMOVED_SECRET,
      REMOVED_SECRET\u001b[1;31mNameError\u001b[0m                                 Traceback (most recent call last)REMOVED_SECRET,
      REMOVED_SECRET\u001b[1;32m~\\AppData\\Local\\Temp\\ipykernel_23392\\2348017178.py\u001b[0m in \u001b[0;36m<module>\u001b[1;34m\u001b[0m\n\u001b[1;32m----> 1\u001b[1;33m \u001b[0mmodel\u001b[0m \u001b[1;33m=\u001b[0m \u001b[0mSentenceTransformer\u001b[0m\u001b[1;33m(\u001b[0m\u001b[1;34m\REMOVED_SECRETBAAI/bge-m3\REMOVED_SECRET\u001b[0m\u001b[1;33m)\u001b[0m\u001b[1;33m\u001b[0m\u001b[1;33m\u001b[0m\u001b[0m\n\u001b[0m\u001b[0;32m      2\u001b[0m \u001b[1;33m\u001b[0m\u001b[0m\n\u001b[0;32m      3\u001b[0m sentences = [\n\u001b[0;32m      4\u001b[0m     \u001b[1;34m\REMOVED_SECRETThat is a happy person\REMOVED_SECRET\u001b[0m\u001b[1;33m,\u001b[0m\u001b[1;33m\u001b[0m\u001b[1;33m\u001b[0m\u001b[0m\n\u001b[0;32m      5\u001b[0m     \u001b[1;34m\REMOVED_SECRETThat is a happy dog\REMOVED_SECRET\u001b[0m\u001b[1;33m,\u001b[0m\u001b[1;33m\u001b[0m\u001b[1;33m\u001b[0m\u001b[0m\nREMOVED_SECRET,
      REMOVED_SECRET\u001b[1;31mNameError\u001b[0m: name 'SentenceTransformer' is not definedREMOVED_SECRET
     ]
    }
   ],
   REMOVED_SECRETsourceREMOVED_SECRET: [
    REMOVED_SECRET#Sample Code\nREMOVED_SECRET,
    REMOVED_SECRETmodel = SentenceTransformer(\REMOVED_SECRETBAAI/bge-m3\REMOVED_SECRET)\nREMOVED_SECRET,
    REMOVED_SECRET\nREMOVED_SECRET,
    REMOVED_SECRETsentences = [\nREMOVED_SECRET,
    REMOVED_SECRET    \REMOVED_SECRETThat is a happy person\REMOVED_SECRET,\nREMOVED_SECRET,
    REMOVED_SECRET    \REMOVED_SECRETThat is a happy dog\REMOVED_SECRET,\nREMOVED_SECRET,
    REMOVED_SECRET    \REMOVED_SECRETThat is a very happy person\REMOVED_SECRET,\nREMOVED_SECRET,
    REMOVED_SECRET    \REMOVED_SECRETToday is a sunny day\REMOVED_SECRET\nREMOVED_SECRET,
    REMOVED_SECRET]\nREMOVED_SECRET,
    REMOVED_SECRETembeddings = model.encode(sentences)\nREMOVED_SECRET,
    REMOVED_SECRET\nREMOVED_SECRET,
    REMOVED_SECRETsimilarities = model.similarity(embeddings, embeddings)\nREMOVED_SECRET,
    REMOVED_SECRETprint(similarities.shape)\nREMOVED_SECRET,
    REMOVED_SECRET# [4, 4]REMOVED_SECRET
   ]
  },
  {
   REMOVED_SECRETcell_typeREMOVED_SECRET: REMOVED_SECRETcodeREMOVED_SECRET,
   REMOVED_SECRETexecution_countREMOVED_SECRET: 9,
   REMOVED_SECRETmetadataREMOVED_SECRET: {},
   REMOVED_SECREToutputsREMOVED_SECRET: [],
   REMOVED_SECRETsourceREMOVED_SECRET: [
    REMOVED_SECRET#basic data cleaning \nREMOVED_SECRET,
    REMOVED_SECRETitaly_df_cleaned = italy_df.drop_duplicates()\nREMOVED_SECRET,
    REMOVED_SECRET\nREMOVED_SECRET,
    REMOVED_SECRETitaly_df_cleaned.reset_index(drop=True, inplace=True)REMOVED_SECRET
   ]
  },
  {
   REMOVED_SECRETcell_typeREMOVED_SECRET: REMOVED_SECRETcodeREMOVED_SECRET,
   REMOVED_SECRETexecution_countREMOVED_SECRET: 10,
   REMOVED_SECRETmetadataREMOVED_SECRET: {},
   REMOVED_SECREToutputsREMOVED_SECRET: [
    {
     REMOVED_SECRETdataREMOVED_SECRET: {
      REMOVED_SECRETtext/htmlREMOVED_SECRET: [
       REMOVED_SECRET<div>\nREMOVED_SECRET,
       REMOVED_SECRET<style scoped>\nREMOVED_SECRET,
       REMOVED_SECRET    .dataframe tbody tr th:only-of-type {\nREMOVED_SECRET,
       REMOVED_SECRET        vertical-align: middle;\nREMOVED_SECRET,
       REMOVED_SECRET    }\nREMOVED_SECRET,
       REMOVED_SECRET\nREMOVED_SECRET,
       REMOVED_SECRET    .dataframe tbody tr th {\nREMOVED_SECRET,
       REMOVED_SECRET        vertical-align: top;\nREMOVED_SECRET,
       REMOVED_SECRET    }\nREMOVED_SECRET,
       REMOVED_SECRET\nREMOVED_SECRET,
       REMOVED_SECRET    .dataframe thead th {\nREMOVED_SECRET,
       REMOVED_SECRET        text-align: right;\nREMOVED_SECRET,
       REMOVED_SECRET    }\nREMOVED_SECRET,
       REMOVED_SECRET</style>\nREMOVED_SECRET,
       REMOVED_SECRET<table border=\REMOVED_SECRET1\REMOVED_SECRET class=\REMOVED_SECRETdataframe\REMOVED_SECRET>\nREMOVED_SECRET,
       REMOVED_SECRET  <thead>\nREMOVED_SECRET,
       REMOVED_SECRET    <tr style=\REMOVED_SECRETtext-align: right;\REMOVED_SECRET>\nREMOVED_SECRET,
       REMOVED_SECRET      <th></th>\nREMOVED_SECRET,
       REMOVED_SECRET      <th>title</th>\nREMOVED_SECRET,
       REMOVED_SECRET      <th>product_description</th>\nREMOVED_SECRET,
       REMOVED_SECRET      <th>title_italian</th>\nREMOVED_SECRET,
       REMOVED_SECRET      <th>productDescription_italian</th>\nREMOVED_SECRET,
       REMOVED_SECRET    </tr>\nREMOVED_SECRET,
       REMOVED_SECRET  </thead>\nREMOVED_SECRET,
       REMOVED_SECRET  <tbody>\nREMOVED_SECRET,
       REMOVED_SECRET    <tr>\nREMOVED_SECRET,
       REMOVED_SECRET      <th>0</th>\nREMOVED_SECRET,
       REMOVED_SECRET      <td>zwilling pro 2pc prep knife set</td>\nREMOVED_SECRET,
       REMOVED_SECRET      <td>this 2piece prep set will become the goto kniv...</td>\nREMOVED_SECRET,
       REMOVED_SECRET      <td>Zwilling pro 2pc set coltello prep</td>\nREMOVED_SECRET,
       REMOVED_SECRET      <td>Questo set prep da 2 pezzi diventerà i coltell...</td>\nREMOVED_SECRET,
       REMOVED_SECRET    </tr>\nREMOVED_SECRET,
       REMOVED_SECRET    <tr>\nREMOVED_SECRET,
       REMOVED_SECRET      <th>1</th>\nREMOVED_SECRET,
       REMOVED_SECRET      <td>womens slim fit drape wrap tshirt  a new day</td>\nREMOVED_SECRET,
       REMOVED_SECRET      <td>elevate your warmweather outfits with this sli...</td>\nREMOVED_SECRET,
       REMOVED_SECRET      <td>donne slim fit drappeggio avvolgere tshirt un ...</td>\nREMOVED_SECRET,
       REMOVED_SECRET      <td>elevare i vostri outfit warmweather con questo...</td>\nREMOVED_SECRET,
       REMOVED_SECRET    </tr>\nREMOVED_SECRET,
       REMOVED_SECRET    <tr>\nREMOVED_SECRET,
       REMOVED_SECRET      <th>2</th>\nREMOVED_SECRET,
       REMOVED_SECRET      <td>mens teenage mutant ninja turtles group shot l...</td>\nREMOVED_SECRET,
       REMOVED_SECRET      <td>cowabunga dude its time to explore the new yor...</td>\nREMOVED_SECRET,
       REMOVED_SECRET      <td>mens adolescente mutante ninja tartarughe grup...</td>\nREMOVED_SECRET,
       REMOVED_SECRET      <td>cowabunga tizio il suo tempo per esplorare il ...</td>\nREMOVED_SECRET,
       REMOVED_SECRET    </tr>\nREMOVED_SECRET,
       REMOVED_SECRET    <tr>\nREMOVED_SECRET,
       REMOVED_SECRET      <th>3</th>\nREMOVED_SECRET,
       REMOVED_SECRET      <td>mens wwe triple h the game logo tshirt</td>\nREMOVED_SECRET,
       REMOVED_SECRET      <td>ladies and gentlemen children of all ages from...</td>\nREMOVED_SECRET,
       REMOVED_SECRET      <td>mens wwe triplo h il gioco logo tshirt</td>\nREMOVED_SECRET,
       REMOVED_SECRET      <td>signore e signori bambini di tutte le età dal ...</td>\nREMOVED_SECRET,
       REMOVED_SECRET    </tr>\nREMOVED_SECRET,
       REMOVED_SECRET    <tr>\nREMOVED_SECRET,
       REMOVED_SECRET      <th>4</th>\nREMOVED_SECRET,
       REMOVED_SECRET      <td>purina fancy feast grilled gravy delights feas...</td>\nREMOVED_SECRET,
       REMOVED_SECRET      <td>give your cat a delightful gourmet meal with p...</td>\nREMOVED_SECRET,
       REMOVED_SECRET      <td>purina fantasia festa grigliato sugo delizie f...</td>\nREMOVED_SECRET,
       REMOVED_SECRET      <td>dare al vostro gatto un delizioso pasto gourme...</td>\nREMOVED_SECRET,
       REMOVED_SECRET    </tr>\nREMOVED_SECRET,
       REMOVED_SECRET    <tr>\nREMOVED_SECRET,
       REMOVED_SECRET      <th>...</th>\nREMOVED_SECRET,
       REMOVED_SECRET      <td>...</td>\nREMOVED_SECRET,
       REMOVED_SECRET      <td>...</td>\nREMOVED_SECRET,
       REMOVED_SECRET      <td>...</td>\nREMOVED_SECRET,
       REMOVED_SECRET      <td>...</td>\nREMOVED_SECRET,
       REMOVED_SECRET    </tr>\nREMOVED_SECRET,
       REMOVED_SECRET    <tr>\nREMOVED_SECRET,
       REMOVED_SECRET      <th>868</th>\nREMOVED_SECRET,
       REMOVED_SECRET      <td>multi collagen protein powder types i ii  ii b...</td>\nREMOVED_SECRET,
       REMOVED_SECRET      <td>multi collagen protein powder types i ii  ii 1...</td>\nREMOVED_SECRET,
       REMOVED_SECRET      <td>proteine multi collageno in polvere ii ii ii o...</td>\nREMOVED_SECRET,
       REMOVED_SECRET      <td>Il collagene multi collageno in polvere ii ii ...</td>\nREMOVED_SECRET,
       REMOVED_SECRET    </tr>\nREMOVED_SECRET,
       REMOVED_SECRET    <tr>\nREMOVED_SECRET,
       REMOVED_SECRET      <th>869</th>\nREMOVED_SECRET,
       REMOVED_SECRET      <td>hope  henry mens waffle knit pullover sweater</td>\nREMOVED_SECRET,
       REMOVED_SECRET      <td>this sweater in our soft 100 organic cotton wi...</td>\nREMOVED_SECRET,
       REMOVED_SECRET      <td>speranza henry uomo waffle maglia pullover mag...</td>\nREMOVED_SECRET,
       REMOVED_SECRET      <td>questo maglione nel nostro morbido cotone biol...</td>\nREMOVED_SECRET,
       REMOVED_SECRET    </tr>\nREMOVED_SECRET,
       REMOVED_SECRET    <tr>\nREMOVED_SECRET,
       REMOVED_SECRET      <th>870</th>\nREMOVED_SECRET,
       REMOVED_SECRET      <td>noritake colortrio 16piece coupe dinnerware set</td>\nREMOVED_SECRET,
       REMOVED_SECRET      <td>noritake colortrio clay 16piece set coupe in b...</td>\nREMOVED_SECRET,
       REMOVED_SECRET      <td>noritake colortio 16 pezzi coupé set per la cena</td>\nREMOVED_SECRET,
       REMOVED_SECRET      <td>noritake colortrio argilla 16piece set coupé i...</td>\nREMOVED_SECRET,
       REMOVED_SECRET    </tr>\nREMOVED_SECRET,
       REMOVED_SECRET    <tr>\nREMOVED_SECRET,
       REMOVED_SECRET      <th>871</th>\nREMOVED_SECRET,
       REMOVED_SECRET      <td>hope  henry mens fine gauge vneck pullover swe...</td>\nREMOVED_SECRET,
       REMOVED_SECRET      <td>this sweater in our soft 100 organic cotton wi...</td>\nREMOVED_SECRET,
       REMOVED_SECRET      <td>speranza henry mens maglione pullover fine gau...</td>\nREMOVED_SECRET,
       REMOVED_SECRET      <td>questo maglione nel nostro morbido cotone biol...</td>\nREMOVED_SECRET,
       REMOVED_SECRET    </tr>\nREMOVED_SECRET,
       REMOVED_SECRET    <tr>\nREMOVED_SECRET,
       REMOVED_SECRET      <th>872</th>\nREMOVED_SECRET,
       REMOVED_SECRET      <td>double strength larginine 1000 mg by now foods...</td>\nREMOVED_SECRET,
       REMOVED_SECRET      <td>double strength larginine 1000 mg 180 tablet d...</td>\nREMOVED_SECRET,
       REMOVED_SECRET      <td>larginina 1000 mg a doppia resistenza ormai al...</td>\nREMOVED_SECRET,
       REMOVED_SECRET      <td>Larginina a doppia concentrazione 1000 mg 180 ...</td>\nREMOVED_SECRET,
       REMOVED_SECRET    </tr>\nREMOVED_SECRET,
       REMOVED_SECRET  </tbody>\nREMOVED_SECRET,
       REMOVED_SECRET</table>\nREMOVED_SECRET,
       REMOVED_SECRET<p>873 rows × 4 columns</p>\nREMOVED_SECRET,
       REMOVED_SECRET</div>REMOVED_SECRET
      ],
      REMOVED_SECRETtext/plainREMOVED_SECRET: [
       REMOVED_SECRET                                                 title  \\\nREMOVED_SECRET,
       REMOVED_SECRET0                      zwilling pro 2pc prep knife set   \nREMOVED_SECRET,
       REMOVED_SECRET1         womens slim fit drape wrap tshirt  a new day   \nREMOVED_SECRET,
       REMOVED_SECRET2    mens teenage mutant ninja turtles group shot l...   \nREMOVED_SECRET,
       REMOVED_SECRET3               mens wwe triple h the game logo tshirt   \nREMOVED_SECRET,
       REMOVED_SECRET4    purina fancy feast grilled gravy delights feas...   \nREMOVED_SECRET,
       REMOVED_SECRET..                                                 ...   \nREMOVED_SECRET,
       REMOVED_SECRET868  multi collagen protein powder types i ii  ii b...   \nREMOVED_SECRET,
       REMOVED_SECRET869      hope  henry mens waffle knit pullover sweater   \nREMOVED_SECRET,
       REMOVED_SECRET870    noritake colortrio 16piece coupe dinnerware set   \nREMOVED_SECRET,
       REMOVED_SECRET871  hope  henry mens fine gauge vneck pullover swe...   \nREMOVED_SECRET,
       REMOVED_SECRET872  double strength larginine 1000 mg by now foods...   \nREMOVED_SECRET,
       REMOVED_SECRET\nREMOVED_SECRET,
       REMOVED_SECRET                                   product_description  \\\nREMOVED_SECRET,
       REMOVED_SECRET0    this 2piece prep set will become the goto kniv...   \nREMOVED_SECRET,
       REMOVED_SECRET1    elevate your warmweather outfits with this sli...   \nREMOVED_SECRET,
       REMOVED_SECRET2    cowabunga dude its time to explore the new yor...   \nREMOVED_SECRET,
       REMOVED_SECRET3    ladies and gentlemen children of all ages from...   \nREMOVED_SECRET,
       REMOVED_SECRET4    give your cat a delightful gourmet meal with p...   \nREMOVED_SECRET,
       REMOVED_SECRET..                                                 ...   \nREMOVED_SECRET,
       REMOVED_SECRET868  multi collagen protein powder types i ii  ii 1...   \nREMOVED_SECRET,
       REMOVED_SECRET869  this sweater in our soft 100 organic cotton wi...   \nREMOVED_SECRET,
       REMOVED_SECRET870  noritake colortrio clay 16piece set coupe in b...   \nREMOVED_SECRET,
       REMOVED_SECRET871  this sweater in our soft 100 organic cotton wi...   \nREMOVED_SECRET,
       REMOVED_SECRET872  double strength larginine 1000 mg 180 tablet d...   \nREMOVED_SECRET,
       REMOVED_SECRET\nREMOVED_SECRET,
       REMOVED_SECRET                                         title_italian  \\\nREMOVED_SECRET,
       REMOVED_SECRET0                   Zwilling pro 2pc set coltello prep   \nREMOVED_SECRET,
       REMOVED_SECRET1    donne slim fit drappeggio avvolgere tshirt un ...   \nREMOVED_SECRET,
       REMOVED_SECRET2    mens adolescente mutante ninja tartarughe grup...   \nREMOVED_SECRET,
       REMOVED_SECRET3               mens wwe triplo h il gioco logo tshirt   \nREMOVED_SECRET,
       REMOVED_SECRET4    purina fantasia festa grigliato sugo delizie f...   \nREMOVED_SECRET,
       REMOVED_SECRET..                                                 ...   \nREMOVED_SECRET,
       REMOVED_SECRET868  proteine multi collageno in polvere ii ii ii o...   \nREMOVED_SECRET,
       REMOVED_SECRET869  speranza henry uomo waffle maglia pullover mag...   \nREMOVED_SECRET,
       REMOVED_SECRET870   noritake colortio 16 pezzi coupé set per la cena   \nREMOVED_SECRET,
       REMOVED_SECRET871  speranza henry mens maglione pullover fine gau...   \nREMOVED_SECRET,
       REMOVED_SECRET872  larginina 1000 mg a doppia resistenza ormai al...   \nREMOVED_SECRET,
       REMOVED_SECRET\nREMOVED_SECRET,
       REMOVED_SECRET                            productDescription_italian  \nREMOVED_SECRET,
       REMOVED_SECRET0    Questo set prep da 2 pezzi diventerà i coltell...  \nREMOVED_SECRET,
       REMOVED_SECRET1    elevare i vostri outfit warmweather con questo...  \nREMOVED_SECRET,
       REMOVED_SECRET2    cowabunga tizio il suo tempo per esplorare il ...  \nREMOVED_SECRET,
       REMOVED_SECRET3    signore e signori bambini di tutte le età dal ...  \nREMOVED_SECRET,
       REMOVED_SECRET4    dare al vostro gatto un delizioso pasto gourme...  \nREMOVED_SECRET,
       REMOVED_SECRET..                                                 ...  \nREMOVED_SECRET,
       REMOVED_SECRET868  Il collagene multi collageno in polvere ii ii ...  \nREMOVED_SECRET,
       REMOVED_SECRET869  questo maglione nel nostro morbido cotone biol...  \nREMOVED_SECRET,
       REMOVED_SECRET870  noritake colortrio argilla 16piece set coupé i...  \nREMOVED_SECRET,
       REMOVED_SECRET871  questo maglione nel nostro morbido cotone biol...  \nREMOVED_SECRET,
       REMOVED_SECRET872  Larginina a doppia concentrazione 1000 mg 180 ...  \nREMOVED_SECRET,
       REMOVED_SECRET\nREMOVED_SECRET,
       REMOVED_SECRET[873 rows x 4 columns]REMOVED_SECRET
      ]
     },
     REMOVED_SECRETexecution_countREMOVED_SECRET: 10,
     REMOVED_SECRETmetadataREMOVED_SECRET: {},
     REMOVED_SECREToutput_typeREMOVED_SECRET: REMOVED_SECRETexecute_resultREMOVED_SECRET
    }
   ],
   REMOVED_SECRETsourceREMOVED_SECRET: [
    REMOVED_SECRETitaly_df_cleanedREMOVED_SECRET
   ]
  },
  {
   REMOVED_SECRETcell_typeREMOVED_SECRET: REMOVED_SECRETcodeREMOVED_SECRET,
   REMOVED_SECRETexecution_countREMOVED_SECRET: 11,
   REMOVED_SECRETmetadataREMOVED_SECRET: {},
   REMOVED_SECREToutputsREMOVED_SECRET: [],
   REMOVED_SECRETsourceREMOVED_SECRET: [
    REMOVED_SECRETtitle_lengths = df['title'].str.len().describe()\nREMOVED_SECRET,
    REMOVED_SECRET#df['product_description'].str.split().apply(len).describe()\nREMOVED_SECRET,
    REMOVED_SECRET#df['title_italian'].str.len().describe()\nREMOVED_SECRET,
    REMOVED_SECRET#df['productDescription_italian'].str.split().apply(len).describe()REMOVED_SECRET
   ]
  },
  {
   REMOVED_SECRETcell_typeREMOVED_SECRET: REMOVED_SECRETcodeREMOVED_SECRET,
   REMOVED_SECRETexecution_countREMOVED_SECRET: 12,
   REMOVED_SECRETmetadataREMOVED_SECRET: {},
   REMOVED_SECREToutputsREMOVED_SECRET: [],
   REMOVED_SECRETsourceREMOVED_SECRET: [
    REMOVED_SECRETtitle_lengths_it = df['title_italian'].str.len().describe()REMOVED_SECRET
   ]
  },
  {
   REMOVED_SECRETcell_typeREMOVED_SECRET: REMOVED_SECRETcodeREMOVED_SECRET,
   REMOVED_SECRETexecution_countREMOVED_SECRET: 13,
   REMOVED_SECRETmetadataREMOVED_SECRET: {},
   REMOVED_SECREToutputsREMOVED_SECRET: [
    {
     REMOVED_SECRETdataREMOVED_SECRET: {
      REMOVED_SECRETtext/plainREMOVED_SECRET: [
       REMOVED_SECRET18REMOVED_SECRET
      ]
     },
     REMOVED_SECRETexecution_countREMOVED_SECRET: 13,
     REMOVED_SECRETmetadataREMOVED_SECRET: {},
     REMOVED_SECREToutput_typeREMOVED_SECRET: REMOVED_SECRETexecute_resultREMOVED_SECRET
    }
   ],
   REMOVED_SECRETsourceREMOVED_SECRET: [
    REMOVED_SECRET(df['title'] == df['title_italian']).sum()\nREMOVED_SECRET
   ]
  },
  {
   REMOVED_SECRETcell_typeREMOVED_SECRET: REMOVED_SECRETmarkdownREMOVED_SECRET,
   REMOVED_SECRETmetadataREMOVED_SECRET: {},
   REMOVED_SECRETsourceREMOVED_SECRET: [
    REMOVED_SECRETBasic Exploratory data analysis of Italy datasetREMOVED_SECRET
   ]
  },
  {
   REMOVED_SECRETcell_typeREMOVED_SECRET: REMOVED_SECRETcodeREMOVED_SECRET,
   REMOVED_SECRETexecution_countREMOVED_SECRET: 14,
   REMOVED_SECRETmetadataREMOVED_SECRET: {},
   REMOVED_SECREToutputsREMOVED_SECRET: [
    {
     REMOVED_SECRETdataREMOVED_SECRET: {
      REMOVED_SECRETimage/pngREMOVED_SECRET: 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,
      REMOVED_SECRETtext/plainREMOVED_SECRET: [
       REMOVED_SECRET<Figure size 640x480 with 1 Axes>REMOVED_SECRET
      ]
     },
     REMOVED_SECRETmetadataREMOVED_SECRET: {},
     REMOVED_SECREToutput_typeREMOVED_SECRET: REMOVED_SECRETdisplay_dataREMOVED_SECRET
    }
   ],
   REMOVED_SECRETsourceREMOVED_SECRET: [
    REMOVED_SECRETimport matplotlib.pyplot as plt\nREMOVED_SECRET,
    REMOVED_SECRET\nREMOVED_SECRET,
    REMOVED_SECRET\nREMOVED_SECRET,
    REMOVED_SECRETplt.hist(title_lengths, bins=20)\nREMOVED_SECRET,
    REMOVED_SECRETplt.title(\REMOVED_SECRETDistribution of Word Counts in English Titles\REMOVED_SECRET)\nREMOVED_SECRET,
    REMOVED_SECRETplt.xlabel(\REMOVED_SECRETNumber of Words\REMOVED_SECRET)\nREMOVED_SECRET,
    REMOVED_SECRETplt.ylabel(\REMOVED_SECRETFrequency\REMOVED_SECRET)\nREMOVED_SECRET,
    REMOVED_SECRETplt.show()\nREMOVED_SECRET
   ]
  },
  {
   REMOVED_SECRETcell_typeREMOVED_SECRET: REMOVED_SECRETcodeREMOVED_SECRET,
   REMOVED_SECRETexecution_countREMOVED_SECRET: 15,
   REMOVED_SECRETmetadataREMOVED_SECRET: {},
   REMOVED_SECREToutputsREMOVED_SECRET: [
    {
     REMOVED_SECRETdataREMOVED_SECRET: {
      REMOVED_SECRETimage/pngREMOVED_SECRET: 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REMOVED_SECRET,
      REMOVED_SECRETtext/plainREMOVED_SECRET: [
       REMOVED_SECRET<Figure size 640x480 with 1 Axes>REMOVED_SECRET
      ]
     },
     REMOVED_SECRETmetadataREMOVED_SECRET: {},
     REMOVED_SECREToutput_typeREMOVED_SECRET: REMOVED_SECRETdisplay_dataREMOVED_SECRET
    }
   ],
   REMOVED_SECRETsourceREMOVED_SECRET: [
    REMOVED_SECRETplt.hist(title_lengths_it, bins=20)\nREMOVED_SECRET,
    REMOVED_SECRETplt.title(\REMOVED_SECRETDistribution of Word Counts in Italian Titles\REMOVED_SECRET)\nREMOVED_SECRET,
    REMOVED_SECRETplt.xlabel(\REMOVED_SECRETNumber of Words\REMOVED_SECRET)\nREMOVED_SECRET,
    REMOVED_SECRETplt.ylabel(\REMOVED_SECRETFrequency\REMOVED_SECRET)\nREMOVED_SECRET,
    REMOVED_SECRETplt.show()\nREMOVED_SECRET
   ]
  },
  {
   REMOVED_SECRETcell_typeREMOVED_SECRET: REMOVED_SECRETcodeREMOVED_SECRET,
   REMOVED_SECRETexecution_countREMOVED_SECRET: null,
   REMOVED_SECRETmetadataREMOVED_SECRET: {},
   REMOVED_SECREToutputsREMOVED_SECRET: [
    {
     REMOVED_SECRETenameREMOVED_SECRET: REMOVED_SECRETNameErrorREMOVED_SECRET,
     REMOVED_SECRETevalueREMOVED_SECRET: REMOVED_SECRETname 'model' is not definedREMOVED_SECRET,
     REMOVED_SECREToutput_typeREMOVED_SECRET: REMOVED_SECRETerrorREMOVED_SECRET,
     REMOVED_SECRETtracebackREMOVED_SECRET: [
      REMOVED_SECRET\u001b[1;31m---------------------------------------------------------------------------\u001b[0mREMOVED_SECRET,
      REMOVED_SECRET\u001b[1;31mNameError\u001b[0m                                 Traceback (most recent call last)REMOVED_SECRET,
      REMOVED_SECRET\u001b[1;32m~\\AppData\\Local\\Temp\\ipykernel_18724\\1021337472.py\u001b[0m in \u001b[0;36m<module>\u001b[1;34m\u001b[0m\n\u001b[1;32m----> 1\u001b[1;33m \u001b[0menglish_embeddings\u001b[0m \u001b[1;33m=\u001b[0m \u001b[0mmodel\u001b[0m\u001b[1;33m.\u001b[0m\u001b[0mencode\u001b[0m\u001b[1;33m(\u001b[0m\u001b[0mdf\u001b[0m\u001b[1;33m[\u001b[0m\u001b[1;34m'title'\u001b[0m\u001b[1;33m]\u001b[0m\u001b[1;33m.\u001b[0m\u001b[0mtolist\u001b[0m\u001b[1;33m(\u001b[0m\u001b[1;33m)\u001b[0m\u001b[1;33m,\u001b[0m \u001b[0mshow_progress_bar\u001b[0m\u001b[1;33m=\u001b[0m\u001b[1;32mTrue\u001b[0m\u001b[1;33m)\u001b[0m\u001b[1;33m\u001b[0m\u001b[1;33m\u001b[0m\u001b[0m\n\u001b[0m\u001b[0;32m      2\u001b[0m \u001b[0mitalian_embeddings\u001b[0m \u001b[1;33m=\u001b[0m \u001b[0mmodel\u001b[0m\u001b[1;33m.\u001b[0m\u001b[0mencode\u001b[0m\u001b[1;33m(\u001b[0m\u001b[0mdf\u001b[0m\u001b[1;33m[\u001b[0m\u001b[1;34m'title_italian'\u001b[0m\u001b[1;33m]\u001b[0m\u001b[1;33m.\u001b[0m\u001b[0mtolist\u001b[0m\u001b[1;33m(\u001b[0m\u001b[1;33m)\u001b[0m\u001b[1;33m,\u001b[0m \u001b[0mshow_progress_bar\u001b[0m\u001b[1;33m=\u001b[0m\u001b[1;32mTrue\u001b[0m\u001b[1;33m)\u001b[0m\u001b[1;33m\u001b[0m\u001b[1;33m\u001b[0m\u001b[0m\nREMOVED_SECRET,
      REMOVED_SECRET\u001b[1;31mNameError\u001b[0m: name 'model' is not definedREMOVED_SECRET
     ]
    }
   ],
   REMOVED_SECRETsourceREMOVED_SECRET: [
    REMOVED_SECRETentoit_english_embeddings = model.encode(df['title'].tolist(), show_progress_bar=True)\nREMOVED_SECRET,
    REMOVED_SECRETentoit_italian_embeddings = model.encode(df['title_italian'].tolist(), show_progress_bar=True)\nREMOVED_SECRET
   ]
  },
  {
   REMOVED_SECRETcell_typeREMOVED_SECRET: REMOVED_SECRETcodeREMOVED_SECRET,
   REMOVED_SECRETexecution_countREMOVED_SECRET: null,
   REMOVED_SECRETmetadataREMOVED_SECRET: {},
   REMOVED_SECREToutputsREMOVED_SECRET: [
    {
     REMOVED_SECRETnameREMOVED_SECRET: REMOVED_SECRETstdoutREMOVED_SECRET,
     REMOVED_SECREToutput_typeREMOVED_SECRET: REMOVED_SECRETstreamREMOVED_SECRET,
     REMOVED_SECRETtextREMOVED_SECRET: [
      REMOVED_SECRET(997, 1024)\nREMOVED_SECRET,
      REMOVED_SECRET(997, 1024)\nREMOVED_SECRET
     ]
    }
   ],
   REMOVED_SECRETsourceREMOVED_SECRET: [
    REMOVED_SECRETprint(entoit_english_embeddings.shape)\nREMOVED_SECRET,
    REMOVED_SECRETprint(entoit_italian_embeddings.shape)\nREMOVED_SECRET
   ]
  },
  {
   REMOVED_SECRETcell_typeREMOVED_SECRET: REMOVED_SECRETcodeREMOVED_SECRET,
   REMOVED_SECRETexecution_countREMOVED_SECRET: null,
   REMOVED_SECRETmetadataREMOVED_SECRET: {},
   REMOVED_SECREToutputsREMOVED_SECRET: [
    {
     REMOVED_SECRETnameREMOVED_SECRET: REMOVED_SECRETstdoutREMOVED_SECRET,
     REMOVED_SECREToutput_typeREMOVED_SECRET: REMOVED_SECRETstreamREMOVED_SECRET,
     REMOVED_SECRETtextREMOVED_SECRET: [
      REMOVED_SECRETRow 0 - Cosine Similarity: 0.8534\nREMOVED_SECRET,
      REMOVED_SECRETRow 1 - Cosine Similarity: 0.8249\nREMOVED_SECRET,
      REMOVED_SECRETRow 2 - Cosine Similarity: 0.8868\nREMOVED_SECRET,
      REMOVED_SECRETRow 3 - Cosine Similarity: 0.9429\nREMOVED_SECRET,
      REMOVED_SECRETRow 4 - Cosine Similarity: 0.8051\nREMOVED_SECRET
     ]
    }
   ],
   REMOVED_SECRETsourceREMOVED_SECRET: [
    REMOVED_SECRETfrom sklearn.metrics.pairwise import cosine_similarity\nREMOVED_SECRET,
    REMOVED_SECRET\nREMOVED_SECRET,
    REMOVED_SECRET# Choose a few sample rows (e.g., first 5)\nREMOVED_SECRET,
    REMOVED_SECRETfor i in range(5):\nREMOVED_SECRET,
    REMOVED_SECRET    score = cosine_similarity([entoit_english_embeddings[i]], [entoit_italian_embeddings[i]])[0][0]\nREMOVED_SECRET,
    REMOVED_SECRET    print(f\REMOVED_SECRETRow {i} - Cosine Similarity: {score:.4f}\REMOVED_SECRET)\nREMOVED_SECRET
   ]
  },
  {
   REMOVED_SECRETcell_typeREMOVED_SECRET: REMOVED_SECRETcodeREMOVED_SECRET,
   REMOVED_SECRETexecution_countREMOVED_SECRET: null,
   REMOVED_SECRETmetadataREMOVED_SECRET: {},
   REMOVED_SECREToutputsREMOVED_SECRET: [
    {
     REMOVED_SECRETnameREMOVED_SECRET: REMOVED_SECRETstdoutREMOVED_SECRET,
     REMOVED_SECREToutput_typeREMOVED_SECRET: REMOVED_SECRETstreamREMOVED_SECRET,
     REMOVED_SECRETtextREMOVED_SECRET: [
      REMOVED_SECRETAverage cosine similarity: 0.8359\nREMOVED_SECRET
     ]
    }
   ],
   REMOVED_SECRETsourceREMOVED_SECRET: [
    REMOVED_SECRETfrom sklearn.metrics.pairwise import cosine_similarity\nREMOVED_SECRET,
    REMOVED_SECRETimport numpy as np\nREMOVED_SECRET,
    REMOVED_SECRET\nREMOVED_SECRET,
    REMOVED_SECRETsimilarities = []\nREMOVED_SECRET,
    REMOVED_SECRETfor i in range(len(entoit_english_embeddings)):\nREMOVED_SECRET,
    REMOVED_SECRET    sim = cosine_similarity([entoit_english_embeddings[i]], [entoit_italian_embeddings[i]])[0][0]\nREMOVED_SECRET,
    REMOVED_SECRET    similarities.append(sim)\nREMOVED_SECRET,
    REMOVED_SECRET\nREMOVED_SECRET,
    REMOVED_SECRET# Now compute the average\nREMOVED_SECRET,
    REMOVED_SECRETaverage_similarity = np.mean(similarities)\nREMOVED_SECRET,
    REMOVED_SECRETprint(f\REMOVED_SECRETAverage cosine similarity: {average_similarity:.4f}\REMOVED_SECRET)\nREMOVED_SECRET
   ]
  },
  {
   REMOVED_SECRETcell_typeREMOVED_SECRET: REMOVED_SECRETcodeREMOVED_SECRET,
   REMOVED_SECRETexecution_countREMOVED_SECRET: null,
   REMOVED_SECRETmetadataREMOVED_SECRET: {},
   REMOVED_SECREToutputsREMOVED_SECRET: [],
   REMOVED_SECRETsourceREMOVED_SECRET: [
    REMOVED_SECRET# Saving the embeddings to CSV files\nREMOVED_SECRET,
    REMOVED_SECRET\nREMOVED_SECRET,
    REMOVED_SECRETdf_embeddings = pd.DataFrame({\nREMOVED_SECRET,
    REMOVED_SECRET    \REMOVED_SECRETtitle\REMOVED_SECRET: df['title'],\nREMOVED_SECRET,
    REMOVED_SECRET    \REMOVED_SECRETtitle_italian\REMOVED_SECRET: df['title_italian'],\nREMOVED_SECRET,
    REMOVED_SECRET    \REMOVED_SECRETenglish_embedding\REMOVED_SECRET: list(entoit_english_embeddings),\nREMOVED_SECRET,
    REMOVED_SECRET    \REMOVED_SECRETitalian_embedding\REMOVED_SECRET: list(entoit_italian_embeddings),\nREMOVED_SECRET,
    REMOVED_SECRET})\nREMOVED_SECRET,
    REMOVED_SECRET\nREMOVED_SECRET,
    REMOVED_SECRETdf_embeddings.to_pickle(\REMOVED_SECRETen_to_it_embeddings.pkl\REMOVED_SECRET)\nREMOVED_SECRET,
    REMOVED_SECRET\nREMOVED_SECRET,
    REMOVED_SECRET#for loading the embeddings\nREMOVED_SECRET,
    REMOVED_SECRET\nREMOVED_SECRET,
    REMOVED_SECRET#df_embeddings = pd.read_pickle(\REMOVED_SECRETen_to_it_embeddings.pkl\REMOVED_SECRET)\nREMOVED_SECRET
   ]
  },
  {
   REMOVED_SECRETcell_typeREMOVED_SECRET: REMOVED_SECRETmarkdownREMOVED_SECRET,
   REMOVED_SECRETmetadataREMOVED_SECRET: {},
   REMOVED_SECRETsourceREMOVED_SECRET: [
    REMOVED_SECRETNow we are going to compare sentence level embeddings with word level embeddings. For word level embeddings, we will be using fastText embeddings as it has capabilities to align mutllingual word embeddings.\nREMOVED_SECRET,
    REMOVED_SECRET\nREMOVED_SECRET,
    REMOVED_SECRETWe use average embedding because it's the simplest way to get a fixed-size, meaning-aware sentence representation using word vectors.REMOVED_SECRET
   ]
  },
  {
   REMOVED_SECRETcell_typeREMOVED_SECRET: REMOVED_SECRETcodeREMOVED_SECRET,
   REMOVED_SECRETexecution_countREMOVED_SECRET: 29,
   REMOVED_SECRETmetadataREMOVED_SECRET: {},
   REMOVED_SECREToutputsREMOVED_SECRET: [
    {
     REMOVED_SECRETnameREMOVED_SECRET: REMOVED_SECRETstdoutREMOVED_SECRET,
     REMOVED_SECREToutput_typeREMOVED_SECRET: REMOVED_SECRETstreamREMOVED_SECRET,
     REMOVED_SECRETtextREMOVED_SECRET: [
      REMOVED_SECRETCollecting gensim\nREMOVED_SECRET,
      REMOVED_SECRET  Downloading gensim-4.3.3-cp311-cp311-win_amd64.whl.metadata (8.2 kB)\nREMOVED_SECRET,
      REMOVED_SECRETRequirement already satisfied: numpy<2.0,>=1.18.5 in c:\\users\\charran\\anaconda3\\envs\\pytorch_cuda\\lib\\site-packages (from gensim) (1.26.3)\nREMOVED_SECRET,
      REMOVED_SECRETCollecting scipy<1.14.0,>=1.7.0 (from gensim)\nREMOVED_SECRET,
      REMOVED_SECRET  Downloading scipy-1.13.1-cp311-cp311-win_amd64.whl.metadata (60 kB)\nREMOVED_SECRET,
      REMOVED_SECRETCollecting smart-open>=1.8.1 (from gensim)\nREMOVED_SECRET,
      REMOVED_SECRET  Using cached smart_open-7.1.0-py3-none-any.whl.metadata (24 kB)\nREMOVED_SECRET,
      REMOVED_SECRETCollecting wrapt (from smart-open>=1.8.1->gensim)\nREMOVED_SECRET,
      REMOVED_SECRET  Downloading wrapt-1.17.2-cp311-cp311-win_amd64.whl.metadata (6.5 kB)\nREMOVED_SECRET,
      REMOVED_SECRETDownloading gensim-4.3.3-cp311-cp311-win_amd64.whl (24.0 MB)\nREMOVED_SECRET,
      REMOVED_SECRET   ---------------------------------------- 0.0/24.0 MB ? eta -:--:--\nREMOVED_SECRET,
      REMOVED_SECRET   --- ------------------------------------ 1.8/24.0 MB 10.0 MB/s eta 0:00:03\nREMOVED_SECRET,
      REMOVED_SECRET   ------ --------------------------------- 3.9/24.0 MB 10.2 MB/s eta 0:00:02\nREMOVED_SECRET,
      REMOVED_SECRET   ---------- ----------------------------- 6.6/24.0 MB 10.9 MB/s eta 0:00:02\nREMOVED_SECRET,
      REMOVED_SECRET   ---------------- ----------------------- 9.7/24.0 MB 11.8 MB/s eta 0:00:02\nREMOVED_SECRET,
      REMOVED_SECRET   -------------------- ------------------- 12.6/24.0 MB 12.1 MB/s eta 0:00:01\nREMOVED_SECRET,
      REMOVED_SECRET   ------------------------- -------------- 15.5/24.0 MB 12.3 MB/s eta 0:00:01\nREMOVED_SECRET,
      REMOVED_SECRET   ----------------------------- ---------- 17.8/24.0 MB 12.5 MB/s eta 0:00:01\nREMOVED_SECRET,
      REMOVED_SECRET   ---------------------------------- ----- 20.4/24.0 MB 12.3 MB/s eta 0:00:01\nREMOVED_SECRET,
      REMOVED_SECRET   ------------------------------------- -- 22.8/24.0 MB 12.3 MB/s eta 0:00:01\nREMOVED_SECRET,
      REMOVED_SECRET   ---------------------------------------- 24.0/24.0 MB 11.9 MB/s eta 0:00:00\nREMOVED_SECRET,
      REMOVED_SECRETDownloading scipy-1.13.1-cp311-cp311-win_amd64.whl (46.2 MB)\nREMOVED_SECRET,
      REMOVED_SECRET   ---------------------------------------- 0.0/46.2 MB ? eta -:--:--\nREMOVED_SECRET,
      REMOVED_SECRET   -- ------------------------------------- 2.6/46.2 MB 12.5 MB/s eta 0:00:04\nREMOVED_SECRET,
      REMOVED_SECRET   ---- ----------------------------------- 5.0/46.2 MB 12.6 MB/s eta 0:00:04\nREMOVED_SECRET,
      REMOVED_SECRET   ----- ---------------------------------- 6.6/46.2 MB 10.6 MB/s eta 0:00:04\nREMOVED_SECRET,
      REMOVED_SECRET   ------ --------------------------------- 7.1/46.2 MB 9.3 MB/s eta 0:00:05\nREMOVED_SECRET,
      REMOVED_SECRET   ------- -------------------------------- 8.4/46.2 MB 8.8 MB/s eta 0:00:05\nREMOVED_SECRET,
      REMOVED_SECRET   -------- ------------------------------- 10.2/46.2 MB 8.2 MB/s eta 0:00:05\nREMOVED_SECRET,
      REMOVED_SECRET   ---------- ----------------------------- 12.1/46.2 MB 8.4 MB/s eta 0:00:05\nREMOVED_SECRET,
      REMOVED_SECRET   ----------- ---------------------------- 13.6/46.2 MB 8.3 MB/s eta 0:00:04\nREMOVED_SECRET,
      REMOVED_SECRET   ------------- -------------------------- 15.5/46.2 MB 8.3 MB/s eta 0:00:04\nREMOVED_SECRET,
      REMOVED_SECRET   -------------- ------------------------- 17.0/46.2 MB 8.3 MB/s eta 0:00:04\nREMOVED_SECRET,
      REMOVED_SECRET   ---------------- ----------------------- 18.9/46.2 MB 8.2 MB/s eta 0:00:04\nREMOVED_SECRET,
      REMOVED_SECRET   ------------------ --------------------- 21.2/46.2 MB 8.4 MB/s eta 0:00:03\nREMOVED_SECRET,
      REMOVED_SECRET   -------------------- ------------------- 23.6/46.2 MB 8.7 MB/s eta 0:00:03\nREMOVED_SECRET,
      REMOVED_SECRET   --------------------- ------------------ 25.2/46.2 MB 8.7 MB/s eta 0:00:03\nREMOVED_SECRET,
      REMOVED_SECRET   ------------------------ --------------- 27.8/46.2 MB 8.9 MB/s eta 0:00:03\nREMOVED_SECRET,
      REMOVED_SECRET   ------------------------- -------------- 29.4/46.2 MB 8.9 MB/s eta 0:00:02\nREMOVED_SECRET,
      REMOVED_SECRET   -------------------------- ------------- 30.7/46.2 MB 8.7 MB/s eta 0:00:02\nREMOVED_SECRET,
      REMOVED_SECRET   --------------------------- ------------ 31.5/46.2 MB 8.5 MB/s eta 0:00:02\nREMOVED_SECRET,
      REMOVED_SECRET   ---------------------------- ----------- 33.0/46.2 MB 8.3 MB/s eta 0:00:02\nREMOVED_SECRET,
      REMOVED_SECRET   ----------------------------- ---------- 34.6/46.2 MB 8.3 MB/s eta 0:00:02\nREMOVED_SECRET,
      REMOVED_SECRET   ------------------------------- -------- 35.9/46.2 MB 8.2 MB/s eta 0:00:02\nREMOVED_SECRET,
      REMOVED_SECRET   -------------------------------- ------- 38.0/46.2 MB 8.2 MB/s eta 0:00:01\nREMOVED_SECRET,
      REMOVED_SECRET   ---------------------------------- ----- 39.6/46.2 MB 8.3 MB/s eta 0:00:01\nREMOVED_SECRET,
      REMOVED_SECRET   ----------------------------------- ---- 40.6/46.2 MB 8.2 MB/s eta 0:00:01\nREMOVED_SECRET,
      REMOVED_SECRET   ------------------------------------ --- 42.5/46.2 MB 8.1 MB/s eta 0:00:01\nREMOVED_SECRET,
      REMOVED_SECRET   -------------------------------------- - 44.3/46.2 MB 8.2 MB/s eta 0:00:01\nREMOVED_SECRET,
      REMOVED_SECRET   ---------------------------------------  45.4/46.2 MB 8.2 MB/s eta 0:00:01\nREMOVED_SECRET,
      REMOVED_SECRET   ---------------------------------------  46.1/46.2 MB 8.0 MB/s eta 0:00:01\nREMOVED_SECRET,
      REMOVED_SECRET   ---------------------------------------- 46.2/46.2 MB 7.9 MB/s eta 0:00:00\nREMOVED_SECRET,
      REMOVED_SECRETUsing cached smart_open-7.1.0-py3-none-any.whl (61 kB)\nREMOVED_SECRET,
      REMOVED_SECRETDownloading wrapt-1.17.2-cp311-cp311-win_amd64.whl (38 kB)\nREMOVED_SECRET,
      REMOVED_SECRETInstalling collected packages: wrapt, scipy, smart-open, gensim\nREMOVED_SECRET,
      REMOVED_SECRET  Attempting uninstall: scipy\nREMOVED_SECRET,
      REMOVED_SECRET    Found existing installation: scipy 1.14.1\nREMOVED_SECRET,
      REMOVED_SECRET    Uninstalling scipy-1.14.1:\nREMOVED_SECRET,
      REMOVED_SECRET      Successfully uninstalled scipy-1.14.1\nREMOVED_SECRET,
      REMOVED_SECRETSuccessfully installed gensim-4.3.3 scipy-1.13.1 smart-open-7.1.0 wrapt-1.17.2\nREMOVED_SECRET,
      REMOVED_SECRETNote: you may need to restart the kernel to use updated packages.\nREMOVED_SECRET
     ]
    },
    {
     REMOVED_SECRETnameREMOVED_SECRET: REMOVED_SECRETstderrREMOVED_SECRET,
     REMOVED_SECREToutput_typeREMOVED_SECRET: REMOVED_SECRETstreamREMOVED_SECRET,
     REMOVED_SECRETtextREMOVED_SECRET: [
      REMOVED_SECRET  WARNING: Failed to remove contents in a temporary directory 'C:\\Users\\Charran\\anaconda3\\envs\\pytorch_cuda\\Lib\\site-packages\\~cipy.libs'.\nREMOVED_SECRET,
      REMOVED_SECRET  You can safely remove it manually.\nREMOVED_SECRET,
      REMOVED_SECRET  WARNING: Failed to remove contents in a temporary directory 'C:\\Users\\Charran\\anaconda3\\envs\\pytorch_cuda\\Lib\\site-packages\\~cipy'.\nREMOVED_SECRET,
      REMOVED_SECRET  You can safely remove it manually.\nREMOVED_SECRET
     ]
    }
   ],
   REMOVED_SECRETsourceREMOVED_SECRET: [
    REMOVED_SECRETpip install gensimREMOVED_SECRET
   ]
  },
  {
   REMOVED_SECRETcell_typeREMOVED_SECRET: REMOVED_SECRETcodeREMOVED_SECRET,
   REMOVED_SECRETexecution_countREMOVED_SECRET: null,
   REMOVED_SECRETmetadataREMOVED_SECRET: {},
   REMOVED_SECREToutputsREMOVED_SECRET: [],
   REMOVED_SECRETsourceREMOVED_SECRET: [
    REMOVED_SECRET#This function loads the word vectors from a file and returns the words and their corresponding vectors.\nREMOVED_SECRET,
    REMOVED_SECRET#This is the base Version of code. The below one is the improved version\nREMOVED_SECRET,
    REMOVED_SECRET\nREMOVED_SECRET,
    REMOVED_SECRETdef load_vecs(path, limit_no_words):\nREMOVED_SECRET,
    REMOVED_SECRET    import numpy as np\nREMOVED_SECRET,
    REMOVED_SECRET    words = []\nREMOVED_SECRET,
    REMOVED_SECRET    vectors = []\nREMOVED_SECRET,
    REMOVED_SECRET    with open(path, encoding=\REMOVED_SECRETutf-8\REMOVED_SECRET) as f:\nREMOVED_SECRET,
    REMOVED_SECRET        for ix, line in enumerate(f):\nREMOVED_SECRET,
    REMOVED_SECRET            if ix == 0:\nREMOVED_SECRET,
    REMOVED_SECRET                continue  # skip the header\nREMOVED_SECRET,
    REMOVED_SECRET            line = line.rstrip().split()\nREMOVED_SECRET,
    REMOVED_SECRET            word = line[0]\nREMOVED_SECRET,
    REMOVED_SECRET            if len(line[1:]) == 300:\nREMOVED_SECRET,
    REMOVED_SECRET                words.append(word)\nREMOVED_SECRET,
    REMOVED_SECRET                vectors.append(line[1:])\nREMOVED_SECRET,
    REMOVED_SECRET            if len(words) == limit_no_words:\nREMOVED_SECRET,
    REMOVED_SECRET                break\nREMOVED_SECRET,
    REMOVED_SECRET    return words, np.array(vectors, dtype=float)\nREMOVED_SECRET
   ]
  },
  {
   REMOVED_SECRETcell_typeREMOVED_SECRET: REMOVED_SECRETcodeREMOVED_SECRET,
   REMOVED_SECRETexecution_countREMOVED_SECRET: null,
   REMOVED_SECRETmetadataREMOVED_SECRET: {},
   REMOVED_SECREToutputsREMOVED_SECRET: [],
   REMOVED_SECRETsourceREMOVED_SECRET: [
    REMOVED_SECRETdef load_vecs(path, limit_no_words=None):\nREMOVED_SECRET,
    REMOVED_SECRET    import numpy as np\nREMOVED_SECRET,
    REMOVED_SECRET    words = [] #To store vocab words\nREMOVED_SECRET,
    REMOVED_SECRET    vectors = [] #To store corresponding word vectors\nREMOVED_SECRET,
    REMOVED_SECRET\nREMOVED_SECRET,
    REMOVED_SECRET    with open(path, encoding=\REMOVED_SECRETutf-8\REMOVED_SECRET) as f: #opening the first line which typically contains metadata\nREMOVED_SECRET,
    REMOVED_SECRET        first_line = f.readline()\nREMOVED_SECRET,
    REMOVED_SECRET        _, vec_size = map(int, first_line.strip().split()) #obtaining the vector size from the first line\nREMOVED_SECRET,
    REMOVED_SECRET        \nREMOVED_SECRET,
    REMOVED_SECRET        for ix, line in enumerate(f):\nREMOVED_SECRET,
    REMOVED_SECRET            line = line.rstrip().split() #removing trailing newline and split line by spaces\nREMOVED_SECRET,
    REMOVED_SECRET            word = line[0]  #first token i sthe word itself\nREMOVED_SECRET,
    REMOVED_SECRET            vector_vals = line[1:]  #remaining tokens are the vector values\nREMOVED_SECRET,
    REMOVED_SECRET\nREMOVED_SECRET,
    REMOVED_SECRET            if len(vector_vals) == vec_size:  # Now dynamically validated to see if vector has correct no of dim\nREMOVED_SECRET,
    REMOVED_SECRET                words.append(word) #Add the word to vocab list\nREMOVED_SECRET,
    REMOVED_SECRET                vectors.append(vector_vals) #Add the vector to the list (as strings)\nREMOVED_SECRET,
    REMOVED_SECRET            # If a word limit was set, stop once we've hit that limit\nREMOVED_SECRET,
    REMOVED_SECRET            if limit_no_words and len(words) == limit_no_words:\nREMOVED_SECRET,
    REMOVED_SECRET                break\nREMOVED_SECRET,
    REMOVED_SECRET    #Convert list of vectors from strings to a NumPy float array for numerical use\nREMOVED_SECRET,
    REMOVED_SECRET    return words, np.array(vectors, dtype=float)\nREMOVED_SECRET
   ]
  },
  {
   REMOVED_SECRETcell_typeREMOVED_SECRET: REMOVED_SECRETcodeREMOVED_SECRET,
   REMOVED_SECRETexecution_countREMOVED_SECRET: null,
   REMOVED_SECRETmetadataREMOVED_SECRET: {},
   REMOVED_SECREToutputsREMOVED_SECRET: [],
   REMOVED_SECRETsourceREMOVED_SECRET: [
    REMOVED_SECRETentoit_en_words, entoit_en_vectors = load_vecs(\REMOVED_SECRETwiki.en.align.vec\REMOVED_SECRET, limit_no_words=50000)\nREMOVED_SECRET,
    REMOVED_SECRETentoit_it_words, entoit_it_vectors = load_vecs(\REMOVED_SECRETwiki.it.align.vec\REMOVED_SECRET, limit_no_words=50000)\nREMOVED_SECRET
   ]
  },
  {
   REMOVED_SECRETcell_typeREMOVED_SECRET: REMOVED_SECRETcodeREMOVED_SECRET,
   REMOVED_SECRETexecution_countREMOVED_SECRET: null,
   REMOVED_SECRETmetadataREMOVED_SECRET: {},
   REMOVED_SECREToutputsREMOVED_SECRET: [],
   REMOVED_SECRETsourceREMOVED_SECRET: [
    REMOVED_SECRET# Create a dictionary mapping English and italina words to their corresponding vectors\nREMOVED_SECRET,
    REMOVED_SECRET#zip is to match each words with corresponding vector\nREMOVED_SECRET,
    REMOVED_SECRET#dict is to convert list of tuples into a dict obj \nREMOVED_SECRET,
    REMOVED_SECRETen_dict = dict(zip(entoit_en_words, entoit_en_vectors))\nREMOVED_SECRET,
    REMOVED_SECRETit_dict = dict(zip(entoit_it_words, entoit_it_vectors))\nREMOVED_SECRET
   ]
  },
  {
   REMOVED_SECRETcell_typeREMOVED_SECRET: REMOVED_SECRETcodeREMOVED_SECRET,
   REMOVED_SECRETexecution_countREMOVED_SECRET: 41,
   REMOVED_SECRETmetadataREMOVED_SECRET: {},
   REMOVED_SECREToutputsREMOVED_SECRET: [],
   REMOVED_SECRETsourceREMOVED_SECRET: [
    REMOVED_SECRETdef average_embedding(text, embedding_dict):\nREMOVED_SECRET,
    REMOVED_SECRET    words = text.lower().split()\nREMOVED_SECRET,
    REMOVED_SECRET    vectors = [embedding_dict[word] for word in words if word in embedding_dict]\nREMOVED_SECRET,
    REMOVED_SECRET    if vectors:\nREMOVED_SECRET,
    REMOVED_SECRET        return np.mean(vectors, axis=0)\nREMOVED_SECRET,
    REMOVED_SECRET    else:\nREMOVED_SECRET,
    REMOVED_SECRET        return np.zeros(300)\nREMOVED_SECRET
   ]
  },
  {
   REMOVED_SECRETcell_typeREMOVED_SECRET: REMOVED_SECRETcodeREMOVED_SECRET,
   REMOVED_SECRETexecution_countREMOVED_SECRET: 66,
   REMOVED_SECRETmetadataREMOVED_SECRET: {},
   REMOVED_SECREToutputsREMOVED_SECRET: [],
   REMOVED_SECRETsourceREMOVED_SECRET: [
    REMOVED_SECRETdef average_embedding(text, embedding_dict):\nREMOVED_SECRET,
    REMOVED_SECRET    # Convert text to lowercase and split it into individual words\nREMOVED_SECRET,
    REMOVED_SECRET    words = text.lower().split()\nREMOVED_SECRET,
    REMOVED_SECRET\nREMOVED_SECRET,
    REMOVED_SECRET    # Retrieve vectors for words that exist in the embedding dictionary\nREMOVED_SECRET,
    REMOVED_SECRET    vectors = [embedding_dict[word] for word in words if word in embedding_dict]\nREMOVED_SECRET,
    REMOVED_SECRET\nREMOVED_SECRET,
    REMOVED_SECRET    # If there are valid word vectors, compute their average\nREMOVED_SECRET,
    REMOVED_SECRET    if vectors:\nREMOVED_SECRET,
    REMOVED_SECRET        return np.mean(vectors, axis=0)  # Return the mean vector (sentence embedding)\nREMOVED_SECRET,
    REMOVED_SECRET    else:\nREMOVED_SECRET,
    REMOVED_SECRET        # No known words in the sentence — return a zero vector of the correct size\nREMOVED_SECRET,
    REMOVED_SECRET\nREMOVED_SECRET,
    REMOVED_SECRET        # Get the dimensionality of the vectors by checking one item in the dictionary\nREMOVED_SECRET,
    REMOVED_SECRET        vec_size = len(next(iter(embedding_dict.values())))\nREMOVED_SECRET,
    REMOVED_SECRET\nREMOVED_SECRET,
    REMOVED_SECRET        # Return a zero vector with that size\nREMOVED_SECRET,
    REMOVED_SECRET        return np.zeros(vec_size)\nREMOVED_SECRET
   ]
  },
  {
   REMOVED_SECRETcell_typeREMOVED_SECRET: REMOVED_SECRETcodeREMOVED_SECRET,
   REMOVED_SECRETexecution_countREMOVED_SECRET: null,
   REMOVED_SECRETmetadataREMOVED_SECRET: {},
   REMOVED_SECREToutputsREMOVED_SECRET: [],
   REMOVED_SECRETsourceREMOVED_SECRET: [
    REMOVED_SECRETentoit_english_avg_embeds = df['title'].apply(lambda x: average_embedding(x, en_dict))\nREMOVED_SECRET,
    REMOVED_SECRETentoit_italian_avg_embeds = df['title_italian'].apply(lambda x: average_embedding(x, it_dict))REMOVED_SECRET
   ]
  },
  {
   REMOVED_SECRETcell_typeREMOVED_SECRET: REMOVED_SECRETcodeREMOVED_SECRET,
   REMOVED_SECRETexecution_countREMOVED_SECRET: null,
   REMOVED_SECRETmetadataREMOVED_SECRET: {},
   REMOVED_SECREToutputsREMOVED_SECRET: [
    {
     REMOVED_SECRETnameREMOVED_SECRET: REMOVED_SECRETstdoutREMOVED_SECRET,
     REMOVED_SECREToutput_typeREMOVED_SECRET: REMOVED_SECRETstreamREMOVED_SECRET,
     REMOVED_SECRETtextREMOVED_SECRET: [
      REMOVED_SECRETAverage cosine similarity (avg word embeddings 50k): 0.1853\nREMOVED_SECRET
     ]
    }
   ],
   REMOVED_SECRETsourceREMOVED_SECRET: [
    REMOVED_SECRETsimilarities_word = []\nREMOVED_SECRET,
    REMOVED_SECRETfor i in range(len(df)):\nREMOVED_SECRET,
    REMOVED_SECRET    sim = cosine_similarity([entoit_english_avg_embeds[i]], [entoit_italian_avg_embeds[i]])[0][0]\nREMOVED_SECRET,
    REMOVED_SECRET    similarities_word.append(sim)\nREMOVED_SECRET,
    REMOVED_SECRET\nREMOVED_SECRET,
    REMOVED_SECRETavg_word_sim_50 = np.mean(similarities_word)\nREMOVED_SECRET,
    REMOVED_SECRETprint(f\REMOVED_SECRETAverage cosine similarity (avg word embeddings 50k): {avg_word_sim_50:.4f}\REMOVED_SECRET)REMOVED_SECRET
   ]
  },
  {
   REMOVED_SECRETcell_typeREMOVED_SECRET: REMOVED_SECRETcodeREMOVED_SECRET,
   REMOVED_SECRETexecution_countREMOVED_SECRET: null,
   REMOVED_SECRETmetadataREMOVED_SECRET: {},
   REMOVED_SECREToutputsREMOVED_SECRET: [
    {
     REMOVED_SECRETnameREMOVED_SECRET: REMOVED_SECRETstdoutREMOVED_SECRET,
     REMOVED_SECREToutput_typeREMOVED_SECRET: REMOVED_SECRETstreamREMOVED_SECRET,
     REMOVED_SECRETtextREMOVED_SECRET: [
      REMOVED_SECRETAverage cosine similarity (avg word embeddings 10k): 0.2078\nREMOVED_SECRET
     ]
    }
   ],
   REMOVED_SECRETsourceREMOVED_SECRET: [
    REMOVED_SECRETsimilarities_word = []\nREMOVED_SECRET,
    REMOVED_SECRETfor i in range(len(df)):\nREMOVED_SECRET,
    REMOVED_SECRET    sim = cosine_similarity([entoit_english_avg_embeds[i]], [entoit_italian_avg_embeds[i]])[0][0]\nREMOVED_SECRET,
    REMOVED_SECRET    similarities_word.append(sim)\nREMOVED_SECRET,
    REMOVED_SECRET\nREMOVED_SECRET,
    REMOVED_SECRETavg_word_sim_10 = np.mean(similarities_word)\nREMOVED_SECRET,
    REMOVED_SECRETprint(f\REMOVED_SECRETAverage cosine similarity (avg word embeddings 10k): {avg_word_sim_10:.4f}\REMOVED_SECRET)REMOVED_SECRET
   ]
  },
  {
   REMOVED_SECRETcell_typeREMOVED_SECRET: REMOVED_SECRETcodeREMOVED_SECRET,
   REMOVED_SECRETexecution_countREMOVED_SECRET: null,
   REMOVED_SECRETmetadataREMOVED_SECRET: {},
   REMOVED_SECREToutputsREMOVED_SECRET: [
    {
     REMOVED_SECRETnameREMOVED_SECRET: REMOVED_SECRETstdoutREMOVED_SECRET,
     REMOVED_SECREToutput_typeREMOVED_SECRET: REMOVED_SECRETstreamREMOVED_SECRET,
     REMOVED_SECRETtextREMOVED_SECRET: [
      REMOVED_SECRETAverage cosine similarity (avg word embeddings 5k): 0.2208\nREMOVED_SECRET
     ]
    }
   ],
   REMOVED_SECRETsourceREMOVED_SECRET: [
    REMOVED_SECRETsimilarities_word = []\nREMOVED_SECRET,
    REMOVED_SECRETfor i in range(len(df)):\nREMOVED_SECRET,
    REMOVED_SECRET    sim = cosine_similarity([entoit_english_avg_embeds[i]], [entoit_italian_avg_embeds[i]])[0][0]\nREMOVED_SECRET,
    REMOVED_SECRET    similarities_word.append(sim)\nREMOVED_SECRET,
    REMOVED_SECRET\nREMOVED_SECRET,
    REMOVED_SECRETavg_word_sim_5 = np.mean(similarities_word)\nREMOVED_SECRET,
    REMOVED_SECRETprint(f\REMOVED_SECRETAverage cosine similarity (avg word embeddings 5k): {avg_word_sim_5:.4f}\REMOVED_SECRET)REMOVED_SECRET
   ]
  },
  {
   REMOVED_SECRETcell_typeREMOVED_SECRET: REMOVED_SECRETcodeREMOVED_SECRET,
   REMOVED_SECRETexecution_countREMOVED_SECRET: 70,
   REMOVED_SECRETmetadataREMOVED_SECRET: {},
   REMOVED_SECREToutputsREMOVED_SECRET: [
    {
     REMOVED_SECRETdataREMOVED_SECRET: {
      REMOVED_SECRETimage/pngREMOVED_SECRET: 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,
      REMOVED_SECRETtext/plainREMOVED_SECRET: [
       REMOVED_SECRET<Figure size 800x500 with 1 Axes>REMOVED_SECRET
      ]
     },
     REMOVED_SECRETmetadataREMOVED_SECRET: {},
     REMOVED_SECREToutput_typeREMOVED_SECRET: REMOVED_SECRETdisplay_dataREMOVED_SECRET
    }
   ],
   REMOVED_SECRETsourceREMOVED_SECRET: [
    REMOVED_SECRET# X-axis: Word vector sizes used\nREMOVED_SECRET,
    REMOVED_SECRETx = [\REMOVED_SECRET5k words\REMOVED_SECRET, \REMOVED_SECRET10k words\REMOVED_SECRET, \REMOVED_SECRET50k words\REMOVED_SECRET]\nREMOVED_SECRET,
    REMOVED_SECRET\nREMOVED_SECRET,
    REMOVED_SECRETy = [avg_word_sim_5, avg_word_sim_10, avg_word_sim_50]\nREMOVED_SECRET,
    REMOVED_SECRET\nREMOVED_SECRET,
    REMOVED_SECRETplt.figure(figsize=(8, 5))\nREMOVED_SECRET,
    REMOVED_SECRET\nREMOVED_SECRET,
    REMOVED_SECRET# Bar chart for FastText similarities\nREMOVED_SECRET,
    REMOVED_SECRETplt.bar(x, y, color='skyblue', label=\REMOVED_SECRETFastText Avg Embedding\REMOVED_SECRET)\nREMOVED_SECRET,
    REMOVED_SECRET\nREMOVED_SECRET,
    REMOVED_SECRET# Horizontal line for BGE-M3 sentence embedding similarity\nREMOVED_SECRET,
    REMOVED_SECRETplt.axhline(y=average_similarity, color='orange', linestyle='--', label=\REMOVED_SECRETBGE-M3 Sentence Embedding\REMOVED_SECRET)\nREMOVED_SECRET,
    REMOVED_SECRET\nREMOVED_SECRET,
    REMOVED_SECRETplt.title(\REMOVED_SECRETComparison of Average Cosine Similarity\REMOVED_SECRET)\nREMOVED_SECRET,
    REMOVED_SECRETplt.ylabel(\REMOVED_SECRETCosine Similarity\REMOVED_SECRET)\nREMOVED_SECRET,
    REMOVED_SECRETplt.ylim(0, 1)\nREMOVED_SECRET,
    REMOVED_SECRETplt.legend()\nREMOVED_SECRET,
    REMOVED_SECRETplt.grid(True)\nREMOVED_SECRET,
    REMOVED_SECRETplt.tight_layout()\nREMOVED_SECRET,
    REMOVED_SECRETplt.show()REMOVED_SECRET
   ]
  },
  {
   REMOVED_SECRETcell_typeREMOVED_SECRET: REMOVED_SECRETmarkdownREMOVED_SECRET,
   REMOVED_SECRETmetadataREMOVED_SECRET: {},
   REMOVED_SECRETsourceREMOVED_SECRET: [
    REMOVED_SECRETSpanish Dataset ExplorationREMOVED_SECRET
   ]
  },
  {
   REMOVED_SECRETcell_typeREMOVED_SECRET: REMOVED_SECRETcodeREMOVED_SECRET,
   REMOVED_SECRETexecution_countREMOVED_SECRET: 30,
   REMOVED_SECRETmetadataREMOVED_SECRET: {},
   REMOVED_SECREToutputsREMOVED_SECRET: [],
   REMOVED_SECRETsourceREMOVED_SECRET: [
    REMOVED_SECRET#basic data cleaning \nREMOVED_SECRET,
    REMOVED_SECRETspanish_df_cleaned = spanish_df.drop_duplicates()\nREMOVED_SECRET,
    REMOVED_SECRET\nREMOVED_SECRET,
    REMOVED_SECRETspanish_df_cleaned.reset_index(drop=True, inplace=True)REMOVED_SECRET
   ]
  },
  {
   REMOVED_SECRETcell_typeREMOVED_SECRET: REMOVED_SECRETcodeREMOVED_SECRET,
   REMOVED_SECRETexecution_countREMOVED_SECRET: 32,
   REMOVED_SECRETmetadataREMOVED_SECRET: {},
   REMOVED_SECREToutputsREMOVED_SECRET: [
    {
     REMOVED_SECRETdataREMOVED_SECRET: {
      REMOVED_SECRETtext/htmlREMOVED_SECRET: [
       REMOVED_SECRET<div>\nREMOVED_SECRET,
       REMOVED_SECRET<style scoped>\nREMOVED_SECRET,
       REMOVED_SECRET    .dataframe tbody tr th:only-of-type {\nREMOVED_SECRET,
       REMOVED_SECRET        vertical-align: middle;\nREMOVED_SECRET,
       REMOVED_SECRET    }\nREMOVED_SECRET,
       REMOVED_SECRET\nREMOVED_SECRET,
       REMOVED_SECRET    .dataframe tbody tr th {\nREMOVED_SECRET,
       REMOVED_SECRET        vertical-align: top;\nREMOVED_SECRET,
       REMOVED_SECRET    }\nREMOVED_SECRET,
       REMOVED_SECRET\nREMOVED_SECRET,
       REMOVED_SECRET    .dataframe thead th {\nREMOVED_SECRET,
       REMOVED_SECRET        text-align: right;\nREMOVED_SECRET,
       REMOVED_SECRET    }\nREMOVED_SECRET,
       REMOVED_SECRET</style>\nREMOVED_SECRET,
       REMOVED_SECRET<table border=\REMOVED_SECRET1\REMOVED_SECRET class=\REMOVED_SECRETdataframe\REMOVED_SECRET>\nREMOVED_SECRET,
       REMOVED_SECRET  <thead>\nREMOVED_SECRET,
       REMOVED_SECRET    <tr style=\REMOVED_SECRETtext-align: right;\REMOVED_SECRET>\nREMOVED_SECRET,
       REMOVED_SECRET      <th></th>\nREMOVED_SECRET,
       REMOVED_SECRET      <th>title</th>\nREMOVED_SECRET,
       REMOVED_SECRET      <th>title_spanish</th>\nREMOVED_SECRET,
       REMOVED_SECRET    </tr>\nREMOVED_SECRET,
       REMOVED_SECRET  </thead>\nREMOVED_SECRET,
       REMOVED_SECRET  <tbody>\nREMOVED_SECRET,
       REMOVED_SECRET    <tr>\nREMOVED_SECRET,
       REMOVED_SECRET      <th>0</th>\nREMOVED_SECRET,
       REMOVED_SECRET      <td>brother genuine high yield toner cartridge tn4...</td>\nREMOVED_SECRET,
       REMOVED_SECRET      <td>hermano genuino cartucho tóner de alto rendimi...</td>\nREMOVED_SECRET,
       REMOVED_SECRET    </tr>\nREMOVED_SECRET,
       REMOVED_SECRET    <tr>\nREMOVED_SECRET,
       REMOVED_SECRET      <th>1</th>\nREMOVED_SECRET,
       REMOVED_SECRET      <td>fitbit inspire 3 health and fitness tracker wi...</td>\nREMOVED_SECRET,
       REMOVED_SECRET      <td>fitbit inspirar 3 seguimiento de salud y fitne...</td>\nREMOVED_SECRET,
       REMOVED_SECRET    </tr>\nREMOVED_SECRET,
       REMOVED_SECRET    <tr>\nREMOVED_SECRET,
       REMOVED_SECRET      <th>2</th>\nREMOVED_SECRET,
       REMOVED_SECRET      <td>mikes hot honey americas 1 brand of hot honey ...</td>\nREMOVED_SECRET,
       REMOVED_SECRET      <td>mikes miel caliente américas 1 marca de miel c...</td>\nREMOVED_SECRET,
       REMOVED_SECRET    </tr>\nREMOVED_SECRET,
       REMOVED_SECRET    <tr>\nREMOVED_SECRET,
       REMOVED_SECRET      <th>3</th>\nREMOVED_SECRET,
       REMOVED_SECRET      <td>krema kréma red fruits 100 recyclable 240g</td>\nREMOVED_SECRET,
       REMOVED_SECRET      <td>krema kréma frutos rojos 100 reciclables 240g</td>\nREMOVED_SECRET,
       REMOVED_SECRET    </tr>\nREMOVED_SECRET,
       REMOVED_SECRET    <tr>\nREMOVED_SECRET,
       REMOVED_SECRET      <th>4</th>\nREMOVED_SECRET,
       REMOVED_SECRET      <td>drsalts calming therapy epsom salts  soothing ...</td>\nREMOVED_SECRET,
       REMOVED_SECRET      <td>drsalts calmante terapia epsom sales calmantes...</td>\nREMOVED_SECRET,
       REMOVED_SECRET    </tr>\nREMOVED_SECRET,
       REMOVED_SECRET    <tr>\nREMOVED_SECRET,
       REMOVED_SECRET      <th>...</th>\nREMOVED_SECRET,
       REMOVED_SECRET      <td>...</td>\nREMOVED_SECRET,
       REMOVED_SECRET      <td>...</td>\nREMOVED_SECRET,
       REMOVED_SECRET    </tr>\nREMOVED_SECRET,
       REMOVED_SECRET    <tr>\nREMOVED_SECRET,
       REMOVED_SECRET      <th>991</th>\nREMOVED_SECRET,
       REMOVED_SECRET      <td>ruimen smart watches for men women answermake ...</td>\nREMOVED_SECRET,
       REMOVED_SECRET      <td>ruimen relojes inteligentes para hombres mujer...</td>\nREMOVED_SECRET,
       REMOVED_SECRET    </tr>\nREMOVED_SECRET,
       REMOVED_SECRET    <tr>\nREMOVED_SECRET,
       REMOVED_SECRET      <th>992</th>\nREMOVED_SECRET,
       REMOVED_SECRET      <td>musicozy sleep headphones bluetooth 54 headban...</td>\nREMOVED_SECRET,
       REMOVED_SECRET      <td>auriculares musicozy sueño bluetooth 54 diadem...</td>\nREMOVED_SECRET,
       REMOVED_SECRET    </tr>\nREMOVED_SECRET,
       REMOVED_SECRET    <tr>\nREMOVED_SECRET,
       REMOVED_SECRET      <th>993</th>\nREMOVED_SECRET,
       REMOVED_SECRET      <td>sun ninja pop up beach tent sun shelter upf50 ...</td>\nREMOVED_SECRET,
       REMOVED_SECRET      <td>sun ninja pop up playa refugio de sol upf50 co...</td>\nREMOVED_SECRET,
       REMOVED_SECRET    </tr>\nREMOVED_SECRET,
       REMOVED_SECRET    <tr>\nREMOVED_SECRET,
       REMOVED_SECRET      <th>994</th>\nREMOVED_SECRET,
       REMOVED_SECRET      <td>rhino usa trailer hitch pin 2 inch patented 58...</td>\nREMOVED_SECRET,
       REMOVED_SECRET      <td>enganche de remolque de rinoceronte usa pin de...</td>\nREMOVED_SECRET,
       REMOVED_SECRET    </tr>\nREMOVED_SECRET,
       REMOVED_SECRET    <tr>\nREMOVED_SECRET,
       REMOVED_SECRET      <th>995</th>\nREMOVED_SECRET,
       REMOVED_SECRET      <td>sun ninja pop up beach tent sun shelter upf50 ...</td>\nREMOVED_SECRET,
       REMOVED_SECRET      <td>sun ninja pop up playa tienda refugio de sol u...</td>\nREMOVED_SECRET,
       REMOVED_SECRET    </tr>\nREMOVED_SECRET,
       REMOVED_SECRET  </tbody>\nREMOVED_SECRET,
       REMOVED_SECRET</table>\nREMOVED_SECRET,
       REMOVED_SECRET<p>996 rows × 2 columns</p>\nREMOVED_SECRET,
       REMOVED_SECRET</div>REMOVED_SECRET
      ],
      REMOVED_SECRETtext/plainREMOVED_SECRET: [
       REMOVED_SECRET                                                 title  \\\nREMOVED_SECRET,
       REMOVED_SECRET0    brother genuine high yield toner cartridge tn4...   \nREMOVED_SECRET,
       REMOVED_SECRET1    fitbit inspire 3 health and fitness tracker wi...   \nREMOVED_SECRET,
       REMOVED_SECRET2    mikes hot honey americas 1 brand of hot honey ...   \nREMOVED_SECRET,
       REMOVED_SECRET3           krema kréma red fruits 100 recyclable 240g   \nREMOVED_SECRET,
       REMOVED_SECRET4    drsalts calming therapy epsom salts  soothing ...   \nREMOVED_SECRET,
       REMOVED_SECRET..                                                 ...   \nREMOVED_SECRET,
       REMOVED_SECRET991  ruimen smart watches for men women answermake ...   \nREMOVED_SECRET,
       REMOVED_SECRET992  musicozy sleep headphones bluetooth 54 headban...   \nREMOVED_SECRET,
       REMOVED_SECRET993  sun ninja pop up beach tent sun shelter upf50 ...   \nREMOVED_SECRET,
       REMOVED_SECRET994  rhino usa trailer hitch pin 2 inch patented 58...   \nREMOVED_SECRET,
       REMOVED_SECRET995  sun ninja pop up beach tent sun shelter upf50 ...   \nREMOVED_SECRET,
       REMOVED_SECRET\nREMOVED_SECRET,
       REMOVED_SECRET                                         title_spanish  \nREMOVED_SECRET,
       REMOVED_SECRET0    hermano genuino cartucho tóner de alto rendimi...  \nREMOVED_SECRET,
       REMOVED_SECRET1    fitbit inspirar 3 seguimiento de salud y fitne...  \nREMOVED_SECRET,
       REMOVED_SECRET2    mikes miel caliente américas 1 marca de miel c...  \nREMOVED_SECRET,
       REMOVED_SECRET3        krema kréma frutos rojos 100 reciclables 240g  \nREMOVED_SECRET,
       REMOVED_SECRET4    drsalts calmante terapia epsom sales calmantes...  \nREMOVED_SECRET,
       REMOVED_SECRET..                                                 ...  \nREMOVED_SECRET,
       REMOVED_SECRET991  ruimen relojes inteligentes para hombres mujer...  \nREMOVED_SECRET,
       REMOVED_SECRET992  auriculares musicozy sueño bluetooth 54 diadem...  \nREMOVED_SECRET,
       REMOVED_SECRET993  sun ninja pop up playa refugio de sol upf50 co...  \nREMOVED_SECRET,
       REMOVED_SECRET994  enganche de remolque de rinoceronte usa pin de...  \nREMOVED_SECRET,
       REMOVED_SECRET995  sun ninja pop up playa tienda refugio de sol u...  \nREMOVED_SECRET,
       REMOVED_SECRET\nREMOVED_SECRET,
       REMOVED_SECRET[996 rows x 2 columns]REMOVED_SECRET
      ]
     },
     REMOVED_SECRETexecution_countREMOVED_SECRET: 32,
     REMOVED_SECRETmetadataREMOVED_SECRET: {},
     REMOVED_SECREToutput_typeREMOVED_SECRET: REMOVED_SECRETexecute_resultREMOVED_SECRET
    }
   ],
   REMOVED_SECRETsourceREMOVED_SECRET: [
    REMOVED_SECRETspanish_df_cleanedREMOVED_SECRET
   ]
  },
  {
   REMOVED_SECRETcell_typeREMOVED_SECRET: REMOVED_SECRETcodeREMOVED_SECRET,
   REMOVED_SECRETexecution_countREMOVED_SECRET: 38,
   REMOVED_SECRETmetadataREMOVED_SECRET: {},
   REMOVED_SECREToutputsREMOVED_SECRET: [
    {
     REMOVED_SECRETdataREMOVED_SECRET: {
      REMOVED_SECRETtext/plainREMOVED_SECRET: [
       REMOVED_SECRET4REMOVED_SECRET
      ]
     },
     REMOVED_SECRETexecution_countREMOVED_SECRET: 38,
     REMOVED_SECRETmetadataREMOVED_SECRET: {},
     REMOVED_SECREToutput_typeREMOVED_SECRET: REMOVED_SECRETexecute_resultREMOVED_SECRET
    }
   ],
   REMOVED_SECRETsourceREMOVED_SECRET: [
    REMOVED_SECRET#Calculate the str length\nREMOVED_SECRET,
    REMOVED_SECRETspanish_title_lengths = spanish_df_cleaned['title'].str.len().describe()\nREMOVED_SECRET,
    REMOVED_SECRETspanish_title_lengths_it = spanish_df_cleaned['title'].str.len().describe()\nREMOVED_SECRET,
    REMOVED_SECRET(spanish_df_cleaned['title'] == spanish_df_cleaned['title_spanish']).sum()\nREMOVED_SECRET
   ]
  },
  {
   REMOVED_SECRETcell_typeREMOVED_SECRET: REMOVED_SECRETmarkdownREMOVED_SECRET,
   REMOVED_SECRETmetadataREMOVED_SECRET: {},
   REMOVED_SECRETsourceREMOVED_SECRET: [
    REMOVED_SECRETBasic Exploratory data analysis of Spanish datasetREMOVED_SECRET
   ]
  },
  {
   REMOVED_SECRETcell_typeREMOVED_SECRET: REMOVED_SECRETcodeREMOVED_SECRET,
   REMOVED_SECRETexecution_countREMOVED_SECRET: 39,
   REMOVED_SECRETmetadataREMOVED_SECRET: {},
   REMOVED_SECREToutputsREMOVED_SECRET: [
    {
     REMOVED_SECRETdataREMOVED_SECRET: {
      REMOVED_SECRETimage/pngREMOVED_SECRET: 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,
      REMOVED_SECRETtext/plainREMOVED_SECRET: [
       REMOVED_SECRET<Figure size 640x480 with 1 Axes>REMOVED_SECRET
      ]
     },
     REMOVED_SECRETmetadataREMOVED_SECRET: {},
     REMOVED_SECREToutput_typeREMOVED_SECRET: REMOVED_SECRETdisplay_dataREMOVED_SECRET
    }
   ],
   REMOVED_SECRETsourceREMOVED_SECRET: [
    REMOVED_SECRETimport matplotlib.pyplot as plt\nREMOVED_SECRET,
    REMOVED_SECRET\nREMOVED_SECRET,
    REMOVED_SECRET\nREMOVED_SECRET,
    REMOVED_SECRETplt.hist(spanish_title_lengths, bins=20)\nREMOVED_SECRET,
    REMOVED_SECRETplt.title(\REMOVED_SECRETDistribution of Word Counts in English Titles\REMOVED_SECRET)\nREMOVED_SECRET,
    REMOVED_SECRETplt.xlabel(\REMOVED_SECRETNumber of Words\REMOVED_SECRET)\nREMOVED_SECRET,
    REMOVED_SECRETplt.ylabel(\REMOVED_SECRETFrequency\REMOVED_SECRET)\nREMOVED_SECRET,
    REMOVED_SECRETplt.show()REMOVED_SECRET
   ]
  },
  {
   REMOVED_SECRETcell_typeREMOVED_SECRET: REMOVED_SECRETcodeREMOVED_SECRET,
   REMOVED_SECRETexecution_countREMOVED_SECRET: null,
   REMOVED_SECRETmetadataREMOVED_SECRET: {},
   REMOVED_SECREToutputsREMOVED_SECRET: [],
   REMOVED_SECRETsourceREMOVED_SECRET: [
    REMOVED_SECRETentoes_english_embeddings = model.encode(df['title'].tolist(), show_progress_bar=True)\nREMOVED_SECRET,
    REMOVED_SECRETentoes_spanish_embeddings = model.encode(df['title_spanish'].tolist(), show_progress_bar=True)REMOVED_SECRET
   ]
  },
  {
   REMOVED_SECRETcell_typeREMOVED_SECRET: REMOVED_SECRETcodeREMOVED_SECRET,
   REMOVED_SECRETexecution_countREMOVED_SECRET: null,
   REMOVED_SECRETmetadataREMOVED_SECRET: {},
   REMOVED_SECREToutputsREMOVED_SECRET: [],
   REMOVED_SECRETsourceREMOVED_SECRET: [
    REMOVED_SECRETprint(entoes_english_embeddings.shape)\nREMOVED_SECRET,
    REMOVED_SECRETprint(entoes_spanish_embeddings.shape)REMOVED_SECRET
   ]
  },
  {
   REMOVED_SECRETcell_typeREMOVED_SECRET: REMOVED_SECRETcodeREMOVED_SECRET,
   REMOVED_SECRETexecution_countREMOVED_SECRET: null,
   REMOVED_SECRETmetadataREMOVED_SECRET: {},
   REMOVED_SECREToutputsREMOVED_SECRET: [],
   REMOVED_SECRETsourceREMOVED_SECRET: [
    REMOVED_SECRET# Choose a few sample rows (e.g., first 5)\nREMOVED_SECRET,
    REMOVED_SECRETfor i in range(5):\nREMOVED_SECRET,
    REMOVED_SECRET    score = cosine_similarity([entoes_english_embeddings[i]], [entoes_spanish_embeddings[i]])[0][0]\nREMOVED_SECRET,
    REMOVED_SECRET    print(f\REMOVED_SECRETRow {i} - Cosine Similarity: {score:.4f}\REMOVED_SECRET)REMOVED_SECRET
   ]
  },
  {
   REMOVED_SECRETcell_typeREMOVED_SECRET: REMOVED_SECRETcodeREMOVED_SECRET,
   REMOVED_SECRETexecution_countREMOVED_SECRET: null,
   REMOVED_SECRETmetadataREMOVED_SECRET: {},
   REMOVED_SECREToutputsREMOVED_SECRET: [],
   REMOVED_SECRETsourceREMOVED_SECRET: [
    REMOVED_SECRETsimilarities = []\nREMOVED_SECRET,
    REMOVED_SECRETfor i in range(len(entoes_english_embeddings)):\nREMOVED_SECRET,
    REMOVED_SECRET    sim = cosine_similarity([entoes_english_embeddings[i]], [entoes_spanish_embeddings[i]])[0][0]\nREMOVED_SECRET,
    REMOVED_SECRET    similarities.append(sim)\nREMOVED_SECRET,
    REMOVED_SECRET\nREMOVED_SECRET,
    REMOVED_SECRET# Now compute the average\nREMOVED_SECRET,
    REMOVED_SECRETaverage_similarity = np.mean(similarities)\nREMOVED_SECRET,
    REMOVED_SECRETprint(f\REMOVED_SECRETAverage cosine similarity: {average_similarity:.4f}\REMOVED_SECRET)REMOVED_SECRET
   ]
  },
  {
   REMOVED_SECRETcell_typeREMOVED_SECRET: REMOVED_SECRETcodeREMOVED_SECRET,
   REMOVED_SECRETexecution_countREMOVED_SECRET: null,
   REMOVED_SECRETmetadataREMOVED_SECRET: {},
   REMOVED_SECREToutputsREMOVED_SECRET: [],
   REMOVED_SECRETsourceREMOVED_SECRET: [
    REMOVED_SECRET# Saving the embeddings to CSV files\nREMOVED_SECRET,
    REMOVED_SECRET\nREMOVED_SECRET,
    REMOVED_SECRETdf_embeddings = pd.DataFrame({\nREMOVED_SECRET,
    REMOVED_SECRET    \REMOVED_SECRETtitle\REMOVED_SECRET: df['title'],\nREMOVED_SECRET,
    REMOVED_SECRET    \REMOVED_SECRETtitle_italian\REMOVED_SECRET: df['title_italian'],\nREMOVED_SECRET,
    REMOVED_SECRET    \REMOVED_SECRETenglish_embedding\REMOVED_SECRET: list(entoes_english_embeddings),\nREMOVED_SECRET,
    REMOVED_SECRET    \REMOVED_SECRETspanish_embedding\REMOVED_SECRET: list(entoes_spanish_embeddings),\nREMOVED_SECRET,
    REMOVED_SECRET})\nREMOVED_SECRET,
    REMOVED_SECRET\nREMOVED_SECRET,
    REMOVED_SECRETdf_embeddings.to_pickle(\REMOVED_SECRETen_to_it_embeddings.pkl\REMOVED_SECRET)REMOVED_SECRET
   ]
  },
  {
   REMOVED_SECRETcell_typeREMOVED_SECRET: REMOVED_SECRETcodeREMOVED_SECRET,
   REMOVED_SECRETexecution_countREMOVED_SECRET: null,
   REMOVED_SECRETmetadataREMOVED_SECRET: {},
   REMOVED_SECREToutputsREMOVED_SECRET: [],
   REMOVED_SECRETsourceREMOVED_SECRET: [
    REMOVED_SECRETentoes_en_words, entoes_en_vectors = load_vecs(\REMOVED_SECRETwiki.en.align.vec\REMOVED_SECRET, limit_no_words=50000)\nREMOVED_SECRET,
    REMOVED_SECRETentoes_es_words, entoes_es_vectors = load_vecs(\REMOVED_SECRETwiki.it.align.vec\REMOVED_SECRET, limit_no_words=50000)REMOVED_SECRET
   ]
  },
  {
   REMOVED_SECRETcell_typeREMOVED_SECRET: REMOVED_SECRETcodeREMOVED_SECRET,
   REMOVED_SECRETexecution_countREMOVED_SECRET: null,
   REMOVED_SECRETmetadataREMOVED_SECRET: {},
   REMOVED_SECREToutputsREMOVED_SECRET: [],
   REMOVED_SECRETsourceREMOVED_SECRET: [
    REMOVED_SECRETentoes_english_avg_embeds = df['title'].apply(lambda x: average_embedding(x, en_dict))\nREMOVED_SECRET,
    REMOVED_SECRETentoes_spanish_avg_embeds = df['title_spanish'].apply(lambda x: average_embedding(x, it_dict))REMOVED_SECRET
   ]
  },
  {
   REMOVED_SECRETcell_typeREMOVED_SECRET: REMOVED_SECRETcodeREMOVED_SECRET,
   REMOVED_SECRETexecution_countREMOVED_SECRET: null,
   REMOVED_SECRETmetadataREMOVED_SECRET: {},
   REMOVED_SECREToutputsREMOVED_SECRET: [],
   REMOVED_SECRETsourceREMOVED_SECRET: [
    REMOVED_SECRETsimilarities_word = []\nREMOVED_SECRET,
    REMOVED_SECRETfor i in range(len(df)):\nREMOVED_SECRET,
    REMOVED_SECRET    sim = cosine_similarity([entoes_english_avg_embeds[i]], [entoit_italian_avg_embeds[i]])[0][0]\nREMOVED_SECRET,
    REMOVED_SECRET    similarities_word.append(sim)\nREMOVED_SECRET,
    REMOVED_SECRET\nREMOVED_SECRET,
    REMOVED_SECRETavg_word_sim_50 = np.mean(similarities_word)\nREMOVED_SECRET,
    REMOVED_SECRETprint(f\REMOVED_SECRETAverage cosine similarity (avg word embeddings 50k): {avg_word_sim_50:.4f}\REMOVED_SECRET)REMOVED_SECRET
   ]
  },
  {
   REMOVED_SECRETcell_typeREMOVED_SECRET: REMOVED_SECRETcodeREMOVED_SECRET,
   REMOVED_SECRETexecution_countREMOVED_SECRET: null,
   REMOVED_SECRETmetadataREMOVED_SECRET: {},
   REMOVED_SECREToutputsREMOVED_SECRET: [],
   REMOVED_SECRETsourceREMOVED_SECRET: [
    REMOVED_SECRETsimilarities_word = []\nREMOVED_SECRET,
    REMOVED_SECRETfor i in range(len(df)):\nREMOVED_SECRET,
    REMOVED_SECRET    sim = cosine_similarity([entoes_english_avg_embeds[i]], [entoes_spanish_avg_embeds[i]])[0][0]\nREMOVED_SECRET,
    REMOVED_SECRET    similarities_word.append(sim)\nREMOVED_SECRET,
    REMOVED_SECRET\nREMOVED_SECRET,
    REMOVED_SECRETavg_word_sim_5 = np.mean(similarities_word)\nREMOVED_SECRET,
    REMOVED_SECRETprint(f\REMOVED_SECRETAverage cosine similarity (avg word embeddings 5k): {avg_word_sim_5:.4f}\REMOVED_SECRET)REMOVED_SECRET
   ]
  },
  {
   REMOVED_SECRETcell_typeREMOVED_SECRET: REMOVED_SECRETcodeREMOVED_SECRET,
   REMOVED_SECRETexecution_countREMOVED_SECRET: null,
   REMOVED_SECRETmetadataREMOVED_SECRET: {},
   REMOVED_SECREToutputsREMOVED_SECRET: [],
   REMOVED_SECRETsourceREMOVED_SECRET: [
    REMOVED_SECRET# X-axis: Word vector sizes used\nREMOVED_SECRET,
    REMOVED_SECRETx = [\REMOVED_SECRET5k words\REMOVED_SECRET, \REMOVED_SECRET10k words\REMOVED_SECRET, \REMOVED_SECRET50k words\REMOVED_SECRET]\nREMOVED_SECRET,
    REMOVED_SECRET\nREMOVED_SECRET,
    REMOVED_SECRETy = [avg_word_sim_5, avg_word_sim_10, avg_word_sim_50]\nREMOVED_SECRET,
    REMOVED_SECRET\nREMOVED_SECRET,
    REMOVED_SECRETplt.figure(figsize=(8, 5))\nREMOVED_SECRET,
    REMOVED_SECRET\nREMOVED_SECRET,
    REMOVED_SECRET# Bar chart for FastText similarities\nREMOVED_SECRET,
    REMOVED_SECRETplt.bar(x, y, color='skyblue', label=\REMOVED_SECRETFastText Avg Embedding\REMOVED_SECRET)\nREMOVED_SECRET,
    REMOVED_SECRET\nREMOVED_SECRET,
    REMOVED_SECRET# Horizontal line for BGE-M3 sentence embedding similarity\nREMOVED_SECRET,
    REMOVED_SECRETplt.axhline(y=average_similarity, color='orange', linestyle='--', label=\REMOVED_SECRETBGE-M3 Sentence Embedding\REMOVED_SECRET)\nREMOVED_SECRET,
    REMOVED_SECRET\nREMOVED_SECRET,
    REMOVED_SECRETplt.title(\REMOVED_SECRETComparison of Average Cosine Similarity\REMOVED_SECRET)\nREMOVED_SECRET,
    REMOVED_SECRETplt.ylabel(\REMOVED_SECRETCosine Similarity\REMOVED_SECRET)\nREMOVED_SECRET,
    REMOVED_SECRETplt.ylim(0, 1)\nREMOVED_SECRET,
    REMOVED_SECRETplt.legend()\nREMOVED_SECRET,
    REMOVED_SECRETplt.grid(True)\nREMOVED_SECRET,
    REMOVED_SECRETplt.tight_layout()\nREMOVED_SECRET,
    REMOVED_SECRETplt.show()REMOVED_SECRET
   ]
  },
  {
   REMOVED_SECRETcell_typeREMOVED_SECRET: REMOVED_SECRETmarkdownREMOVED_SECRET,
   REMOVED_SECRETmetadataREMOVED_SECRET: {},
   REMOVED_SECRETsourceREMOVED_SECRET: [
    REMOVED_SECRETChinese Dataset ExplorationREMOVED_SECRET
   ]
  },
  {
   REMOVED_SECRETcell_typeREMOVED_SECRET: REMOVED_SECRETcodeREMOVED_SECRET,
   REMOVED_SECRETexecution_countREMOVED_SECRET: null,
   REMOVED_SECRETmetadataREMOVED_SECRET: {},
   REMOVED_SECREToutputsREMOVED_SECRET: [],
   REMOVED_SECRETsourceREMOVED_SECRET: []
  }
 ],
 REMOVED_SECRETmetadataREMOVED_SECRET: {
  REMOVED_SECRETkernelspecREMOVED_SECRET: {
   REMOVED_SECRETdisplay_nameREMOVED_SECRET: REMOVED_SECRETbaseREMOVED_SECRET,
   REMOVED_SECRETlanguageREMOVED_SECRET: REMOVED_SECRETpythonREMOVED_SECRET,
   REMOVED_SECRETnameREMOVED_SECRET: REMOVED_SECRETpython3REMOVED_SECRET
  },
  REMOVED_SECRETlanguage_infoREMOVED_SECRET: {
   REMOVED_SECRETcodemirror_modeREMOVED_SECRET: {
    REMOVED_SECRETnameREMOVED_SECRET: REMOVED_SECRETipythonREMOVED_SECRET,
    REMOVED_SECRETversionREMOVED_SECRET: 3
   },
   REMOVED_SECRETfile_extensionREMOVED_SECRET: REMOVED_SECRET.pyREMOVED_SECRET,
   REMOVED_SECRETmimetypeREMOVED_SECRET: REMOVED_SECRETtext/x-pythonREMOVED_SECRET,
   REMOVED_SECRETnameREMOVED_SECRET: REMOVED_SECRETpythonREMOVED_SECRET,
   REMOVED_SECRETnbconvert_exporterREMOVED_SECRET: REMOVED_SECRETpythonREMOVED_SECRET,
   REMOVED_SECRETpygments_lexerREMOVED_SECRET: REMOVED_SECRETipython3REMOVED_SECRET,
   REMOVED_SECRETversionREMOVED_SECRET: REMOVED_SECRET3.9.18REMOVED_SECRET
  }
 },
 REMOVED_SECRETnbformatREMOVED_SECRET: 4,
 REMOVED_SECRETnbformat_minorREMOVED_SECRET: 2
}
