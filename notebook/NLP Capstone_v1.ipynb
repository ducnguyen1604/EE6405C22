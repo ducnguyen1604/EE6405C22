{
 REMOVED_SECRETcellsREMOVED_SECRET: [
  {
   REMOVED_SECRETcell_typeREMOVED_SECRET: REMOVED_SECRETcodeREMOVED_SECRET,
   REMOVED_SECRETexecution_countREMOVED_SECRET: null,
   REMOVED_SECRETmetadataREMOVED_SECRET: {},
   REMOVED_SECREToutputsREMOVED_SECRET: [],
   REMOVED_SECRETsourceREMOVED_SECRET: [
    REMOVED_SECRET#All Imports\nREMOVED_SECRET,
    REMOVED_SECRETimport pandas as pd\nREMOVED_SECRET,
    REMOVED_SECRETimport os\nREMOVED_SECRET,
    REMOVED_SECRETimport numpy as np\nREMOVED_SECRET,
    REMOVED_SECRETfrom sentence_transformers import SentenceTransformer\nREMOVED_SECRET,
    REMOVED_SECRETfrom sklearn.metrics.pairwise import cosine_similarity\nREMOVED_SECRET
   ]
  },
  {
   REMOVED_SECRETcell_typeREMOVED_SECRET: REMOVED_SECRETcodeREMOVED_SECRET,
   REMOVED_SECRETexecution_countREMOVED_SECRET: 21,
   REMOVED_SECRETmetadataREMOVED_SECRET: {},
   REMOVED_SECREToutputsREMOVED_SECRET: [],
   REMOVED_SECRETsourceREMOVED_SECRET: [
    REMOVED_SECRETitaly_df = pd.read_csv('dataset/target_en_to_it.csv')\nREMOVED_SECRET,
    REMOVED_SECRETspanish_df = pd.read_csv('dataset/Amazon_en_to_es.csv')\nREMOVED_SECRET,
    REMOVED_SECRETchinese_df = pd.read_csv('dataset/Shopee_CN_to_EN.csv')\nREMOVED_SECRET
   ]
  },
  {
   REMOVED_SECRETcell_typeREMOVED_SECRET: REMOVED_SECRETmarkdownREMOVED_SECRET,
   REMOVED_SECRETmetadataREMOVED_SECRET: {},
   REMOVED_SECRETsourceREMOVED_SECRET: [
    REMOVED_SECRETItalian Dataset ExplorationREMOVED_SECRET
   ]
  },
  {
   REMOVED_SECRETcell_typeREMOVED_SECRET: REMOVED_SECRETcodeREMOVED_SECRET,
   REMOVED_SECRETexecution_countREMOVED_SECRET: 22,
   REMOVED_SECRETmetadataREMOVED_SECRET: {},
   REMOVED_SECREToutputsREMOVED_SECRET: [
    {
     REMOVED_SECRETdataREMOVED_SECRET: {
      REMOVED_SECRETtext/htmlREMOVED_SECRET: [
       REMOVED_SECRET<div>\nREMOVED_SECRET,
       REMOVED_SECRET<style scoped>\nREMOVED_SECRET,
       REMOVED_SECRET    .dataframe tbody tr th:only-of-type {\nREMOVED_SECRET,
       REMOVED_SECRET        vertical-align: middle;\nREMOVED_SECRET,
       REMOVED_SECRET    }\nREMOVED_SECRET,
       REMOVED_SECRET\nREMOVED_SECRET,
       REMOVED_SECRET    .dataframe tbody tr th {\nREMOVED_SECRET,
       REMOVED_SECRET        vertical-align: top;\nREMOVED_SECRET,
       REMOVED_SECRET    }\nREMOVED_SECRET,
       REMOVED_SECRET\nREMOVED_SECRET,
       REMOVED_SECRET    .dataframe thead th {\nREMOVED_SECRET,
       REMOVED_SECRET        text-align: right;\nREMOVED_SECRET,
       REMOVED_SECRET    }\nREMOVED_SECRET,
       REMOVED_SECRET</style>\nREMOVED_SECRET,
       REMOVED_SECRET<table border=\REMOVED_SECRET1\REMOVED_SECRET class=\REMOVED_SECRETdataframe\REMOVED_SECRET>\nREMOVED_SECRET,
       REMOVED_SECRET  <thead>\nREMOVED_SECRET,
       REMOVED_SECRET    <tr style=\REMOVED_SECRETtext-align: right;\REMOVED_SECRET>\nREMOVED_SECRET,
       REMOVED_SECRET      <th></th>\nREMOVED_SECRET,
       REMOVED_SECRET      <th>title</th>\nREMOVED_SECRET,
       REMOVED_SECRET      <th>product_description</th>\nREMOVED_SECRET,
       REMOVED_SECRET      <th>title_italian</th>\nREMOVED_SECRET,
       REMOVED_SECRET      <th>productDescription_italian</th>\nREMOVED_SECRET,
       REMOVED_SECRET    </tr>\nREMOVED_SECRET,
       REMOVED_SECRET  </thead>\nREMOVED_SECRET,
       REMOVED_SECRET  <tbody>\nREMOVED_SECRET,
       REMOVED_SECRET    <tr>\nREMOVED_SECRET,
       REMOVED_SECRET      <th>0</th>\nREMOVED_SECRET,
       REMOVED_SECRET      <td>zwilling pro 2pc prep knife set</td>\nREMOVED_SECRET,
       REMOVED_SECRET      <td>this 2piece prep set will become the goto kniv...</td>\nREMOVED_SECRET,
       REMOVED_SECRET      <td>Zwilling pro 2pc set coltello prep</td>\nREMOVED_SECRET,
       REMOVED_SECRET      <td>Questo set prep da 2 pezzi diventerà i coltell...</td>\nREMOVED_SECRET,
       REMOVED_SECRET    </tr>\nREMOVED_SECRET,
       REMOVED_SECRET    <tr>\nREMOVED_SECRET,
       REMOVED_SECRET      <th>1</th>\nREMOVED_SECRET,
       REMOVED_SECRET      <td>womens slim fit drape wrap tshirt  a new day</td>\nREMOVED_SECRET,
       REMOVED_SECRET      <td>elevate your warmweather outfits with this sli...</td>\nREMOVED_SECRET,
       REMOVED_SECRET      <td>donne slim fit drappeggio avvolgere tshirt un ...</td>\nREMOVED_SECRET,
       REMOVED_SECRET      <td>elevare i vostri outfit warmweather con questo...</td>\nREMOVED_SECRET,
       REMOVED_SECRET    </tr>\nREMOVED_SECRET,
       REMOVED_SECRET    <tr>\nREMOVED_SECRET,
       REMOVED_SECRET      <th>2</th>\nREMOVED_SECRET,
       REMOVED_SECRET      <td>mens teenage mutant ninja turtles group shot l...</td>\nREMOVED_SECRET,
       REMOVED_SECRET      <td>cowabunga dude its time to explore the new yor...</td>\nREMOVED_SECRET,
       REMOVED_SECRET      <td>mens adolescente mutante ninja tartarughe grup...</td>\nREMOVED_SECRET,
       REMOVED_SECRET      <td>cowabunga tizio il suo tempo per esplorare il ...</td>\nREMOVED_SECRET,
       REMOVED_SECRET    </tr>\nREMOVED_SECRET,
       REMOVED_SECRET    <tr>\nREMOVED_SECRET,
       REMOVED_SECRET      <th>3</th>\nREMOVED_SECRET,
       REMOVED_SECRET      <td>mens wwe triple h the game logo tshirt</td>\nREMOVED_SECRET,
       REMOVED_SECRET      <td>ladies and gentlemen children of all ages from...</td>\nREMOVED_SECRET,
       REMOVED_SECRET      <td>mens wwe triplo h il gioco logo tshirt</td>\nREMOVED_SECRET,
       REMOVED_SECRET      <td>signore e signori bambini di tutte le età dal ...</td>\nREMOVED_SECRET,
       REMOVED_SECRET    </tr>\nREMOVED_SECRET,
       REMOVED_SECRET    <tr>\nREMOVED_SECRET,
       REMOVED_SECRET      <th>4</th>\nREMOVED_SECRET,
       REMOVED_SECRET      <td>purina fancy feast grilled gravy delights feas...</td>\nREMOVED_SECRET,
       REMOVED_SECRET      <td>give your cat a delightful gourmet meal with p...</td>\nREMOVED_SECRET,
       REMOVED_SECRET      <td>purina fantasia festa grigliato sugo delizie f...</td>\nREMOVED_SECRET,
       REMOVED_SECRET      <td>dare al vostro gatto un delizioso pasto gourme...</td>\nREMOVED_SECRET,
       REMOVED_SECRET    </tr>\nREMOVED_SECRET,
       REMOVED_SECRET    <tr>\nREMOVED_SECRET,
       REMOVED_SECRET      <th>...</th>\nREMOVED_SECRET,
       REMOVED_SECRET      <td>...</td>\nREMOVED_SECRET,
       REMOVED_SECRET      <td>...</td>\nREMOVED_SECRET,
       REMOVED_SECRET      <td>...</td>\nREMOVED_SECRET,
       REMOVED_SECRET      <td>...</td>\nREMOVED_SECRET,
       REMOVED_SECRET    </tr>\nREMOVED_SECRET,
       REMOVED_SECRET    <tr>\nREMOVED_SECRET,
       REMOVED_SECRET      <th>992</th>\nREMOVED_SECRET,
       REMOVED_SECRET      <td>multi collagen protein powder types i ii  ii b...</td>\nREMOVED_SECRET,
       REMOVED_SECRET      <td>multi collagen protein powder types i ii  ii 1...</td>\nREMOVED_SECRET,
       REMOVED_SECRET      <td>proteine multi collageno in polvere ii ii ii o...</td>\nREMOVED_SECRET,
       REMOVED_SECRET      <td>Il collagene multi collageno in polvere ii ii ...</td>\nREMOVED_SECRET,
       REMOVED_SECRET    </tr>\nREMOVED_SECRET,
       REMOVED_SECRET    <tr>\nREMOVED_SECRET,
       REMOVED_SECRET      <th>993</th>\nREMOVED_SECRET,
       REMOVED_SECRET      <td>hope  henry mens waffle knit pullover sweater</td>\nREMOVED_SECRET,
       REMOVED_SECRET      <td>this sweater in our soft 100 organic cotton wi...</td>\nREMOVED_SECRET,
       REMOVED_SECRET      <td>speranza henry uomo waffle maglia pullover mag...</td>\nREMOVED_SECRET,
       REMOVED_SECRET      <td>questo maglione nel nostro morbido cotone biol...</td>\nREMOVED_SECRET,
       REMOVED_SECRET    </tr>\nREMOVED_SECRET,
       REMOVED_SECRET    <tr>\nREMOVED_SECRET,
       REMOVED_SECRET      <th>994</th>\nREMOVED_SECRET,
       REMOVED_SECRET      <td>noritake colortrio 16piece coupe dinnerware set</td>\nREMOVED_SECRET,
       REMOVED_SECRET      <td>noritake colortrio clay 16piece set coupe in b...</td>\nREMOVED_SECRET,
       REMOVED_SECRET      <td>noritake colortio 16 pezzi coupé set per la cena</td>\nREMOVED_SECRET,
       REMOVED_SECRET      <td>noritake colortrio argilla 16piece set coupé i...</td>\nREMOVED_SECRET,
       REMOVED_SECRET    </tr>\nREMOVED_SECRET,
       REMOVED_SECRET    <tr>\nREMOVED_SECRET,
       REMOVED_SECRET      <th>995</th>\nREMOVED_SECRET,
       REMOVED_SECRET      <td>hope  henry mens fine gauge vneck pullover swe...</td>\nREMOVED_SECRET,
       REMOVED_SECRET      <td>this sweater in our soft 100 organic cotton wi...</td>\nREMOVED_SECRET,
       REMOVED_SECRET      <td>speranza henry mens maglione pullover fine gau...</td>\nREMOVED_SECRET,
       REMOVED_SECRET      <td>questo maglione nel nostro morbido cotone biol...</td>\nREMOVED_SECRET,
       REMOVED_SECRET    </tr>\nREMOVED_SECRET,
       REMOVED_SECRET    <tr>\nREMOVED_SECRET,
       REMOVED_SECRET      <th>996</th>\nREMOVED_SECRET,
       REMOVED_SECRET      <td>double strength larginine 1000 mg by now foods...</td>\nREMOVED_SECRET,
       REMOVED_SECRET      <td>double strength larginine 1000 mg 180 tablet d...</td>\nREMOVED_SECRET,
       REMOVED_SECRET      <td>larginina 1000 mg a doppia resistenza ormai al...</td>\nREMOVED_SECRET,
       REMOVED_SECRET      <td>Larginina a doppia concentrazione 1000 mg 180 ...</td>\nREMOVED_SECRET,
       REMOVED_SECRET    </tr>\nREMOVED_SECRET,
       REMOVED_SECRET  </tbody>\nREMOVED_SECRET,
       REMOVED_SECRET</table>\nREMOVED_SECRET,
       REMOVED_SECRET<p>997 rows × 4 columns</p>\nREMOVED_SECRET,
       REMOVED_SECRET</div>REMOVED_SECRET
      ],
      REMOVED_SECRETtext/plainREMOVED_SECRET: [
       REMOVED_SECRET                                                 title  \\\nREMOVED_SECRET,
       REMOVED_SECRET0                      zwilling pro 2pc prep knife set   \nREMOVED_SECRET,
       REMOVED_SECRET1         womens slim fit drape wrap tshirt  a new day   \nREMOVED_SECRET,
       REMOVED_SECRET2    mens teenage mutant ninja turtles group shot l...   \nREMOVED_SECRET,
       REMOVED_SECRET3               mens wwe triple h the game logo tshirt   \nREMOVED_SECRET,
       REMOVED_SECRET4    purina fancy feast grilled gravy delights feas...   \nREMOVED_SECRET,
       REMOVED_SECRET..                                                 ...   \nREMOVED_SECRET,
       REMOVED_SECRET992  multi collagen protein powder types i ii  ii b...   \nREMOVED_SECRET,
       REMOVED_SECRET993      hope  henry mens waffle knit pullover sweater   \nREMOVED_SECRET,
       REMOVED_SECRET994    noritake colortrio 16piece coupe dinnerware set   \nREMOVED_SECRET,
       REMOVED_SECRET995  hope  henry mens fine gauge vneck pullover swe...   \nREMOVED_SECRET,
       REMOVED_SECRET996  double strength larginine 1000 mg by now foods...   \nREMOVED_SECRET,
       REMOVED_SECRET\nREMOVED_SECRET,
       REMOVED_SECRET                                   product_description  \\\nREMOVED_SECRET,
       REMOVED_SECRET0    this 2piece prep set will become the goto kniv...   \nREMOVED_SECRET,
       REMOVED_SECRET1    elevate your warmweather outfits with this sli...   \nREMOVED_SECRET,
       REMOVED_SECRET2    cowabunga dude its time to explore the new yor...   \nREMOVED_SECRET,
       REMOVED_SECRET3    ladies and gentlemen children of all ages from...   \nREMOVED_SECRET,
       REMOVED_SECRET4    give your cat a delightful gourmet meal with p...   \nREMOVED_SECRET,
       REMOVED_SECRET..                                                 ...   \nREMOVED_SECRET,
       REMOVED_SECRET992  multi collagen protein powder types i ii  ii 1...   \nREMOVED_SECRET,
       REMOVED_SECRET993  this sweater in our soft 100 organic cotton wi...   \nREMOVED_SECRET,
       REMOVED_SECRET994  noritake colortrio clay 16piece set coupe in b...   \nREMOVED_SECRET,
       REMOVED_SECRET995  this sweater in our soft 100 organic cotton wi...   \nREMOVED_SECRET,
       REMOVED_SECRET996  double strength larginine 1000 mg 180 tablet d...   \nREMOVED_SECRET,
       REMOVED_SECRET\nREMOVED_SECRET,
       REMOVED_SECRET                                         title_italian  \\\nREMOVED_SECRET,
       REMOVED_SECRET0                   Zwilling pro 2pc set coltello prep   \nREMOVED_SECRET,
       REMOVED_SECRET1    donne slim fit drappeggio avvolgere tshirt un ...   \nREMOVED_SECRET,
       REMOVED_SECRET2    mens adolescente mutante ninja tartarughe grup...   \nREMOVED_SECRET,
       REMOVED_SECRET3               mens wwe triplo h il gioco logo tshirt   \nREMOVED_SECRET,
       REMOVED_SECRET4    purina fantasia festa grigliato sugo delizie f...   \nREMOVED_SECRET,
       REMOVED_SECRET..                                                 ...   \nREMOVED_SECRET,
       REMOVED_SECRET992  proteine multi collageno in polvere ii ii ii o...   \nREMOVED_SECRET,
       REMOVED_SECRET993  speranza henry uomo waffle maglia pullover mag...   \nREMOVED_SECRET,
       REMOVED_SECRET994   noritake colortio 16 pezzi coupé set per la cena   \nREMOVED_SECRET,
       REMOVED_SECRET995  speranza henry mens maglione pullover fine gau...   \nREMOVED_SECRET,
       REMOVED_SECRET996  larginina 1000 mg a doppia resistenza ormai al...   \nREMOVED_SECRET,
       REMOVED_SECRET\nREMOVED_SECRET,
       REMOVED_SECRET                            productDescription_italian  \nREMOVED_SECRET,
       REMOVED_SECRET0    Questo set prep da 2 pezzi diventerà i coltell...  \nREMOVED_SECRET,
       REMOVED_SECRET1    elevare i vostri outfit warmweather con questo...  \nREMOVED_SECRET,
       REMOVED_SECRET2    cowabunga tizio il suo tempo per esplorare il ...  \nREMOVED_SECRET,
       REMOVED_SECRET3    signore e signori bambini di tutte le età dal ...  \nREMOVED_SECRET,
       REMOVED_SECRET4    dare al vostro gatto un delizioso pasto gourme...  \nREMOVED_SECRET,
       REMOVED_SECRET..                                                 ...  \nREMOVED_SECRET,
       REMOVED_SECRET992  Il collagene multi collageno in polvere ii ii ...  \nREMOVED_SECRET,
       REMOVED_SECRET993  questo maglione nel nostro morbido cotone biol...  \nREMOVED_SECRET,
       REMOVED_SECRET994  noritake colortrio argilla 16piece set coupé i...  \nREMOVED_SECRET,
       REMOVED_SECRET995  questo maglione nel nostro morbido cotone biol...  \nREMOVED_SECRET,
       REMOVED_SECRET996  Larginina a doppia concentrazione 1000 mg 180 ...  \nREMOVED_SECRET,
       REMOVED_SECRET\nREMOVED_SECRET,
       REMOVED_SECRET[997 rows x 4 columns]REMOVED_SECRET
      ]
     },
     REMOVED_SECRETexecution_countREMOVED_SECRET: 22,
     REMOVED_SECRETmetadataREMOVED_SECRET: {},
     REMOVED_SECREToutput_typeREMOVED_SECRET: REMOVED_SECRETexecute_resultREMOVED_SECRET
    }
   ],
   REMOVED_SECRETsourceREMOVED_SECRET: [
    REMOVED_SECRETitaly_dfREMOVED_SECRET
   ]
  },
  {
   REMOVED_SECRETcell_typeREMOVED_SECRET: REMOVED_SECRETcodeREMOVED_SECRET,
   REMOVED_SECRETexecution_countREMOVED_SECRET: 23,
   REMOVED_SECRETmetadataREMOVED_SECRET: {},
   REMOVED_SECREToutputsREMOVED_SECRET: [
    {
     REMOVED_SECRETenameREMOVED_SECRET: REMOVED_SECRETNameErrorREMOVED_SECRET,
     REMOVED_SECRETevalueREMOVED_SECRET: REMOVED_SECRETname 'SentenceTransformer' is not definedREMOVED_SECRET,
     REMOVED_SECREToutput_typeREMOVED_SECRET: REMOVED_SECRETerrorREMOVED_SECRET,
     REMOVED_SECRETtracebackREMOVED_SECRET: [
      REMOVED_SECRET\u001b[1;31m---------------------------------------------------------------------------\u001b[0mREMOVED_SECRET,
      REMOVED_SECRET\u001b[1;31mNameError\u001b[0m                                 Traceback (most recent call last)REMOVED_SECRET,
      REMOVED_SECRET\u001b[1;32m~\\AppData\\Local\\Temp\\ipykernel_14576\\3116261491.py\u001b[0m in \u001b[0;36m<module>\u001b[1;34m\u001b[0m\n\u001b[0;32m      1\u001b[0m \u001b[1;31m#Sample Code\u001b[0m\u001b[1;33m\u001b[0m\u001b[1;33m\u001b[0m\u001b[0m\n\u001b[1;32m----> 2\u001b[1;33m \u001b[0mmodel\u001b[0m \u001b[1;33m=\u001b[0m \u001b[0mSentenceTransformer\u001b[0m\u001b[1;33m(\u001b[0m\u001b[1;34m\REMOVED_SECRETBAAI/bge-m3\REMOVED_SECRET\u001b[0m\u001b[1;33m)\u001b[0m\u001b[1;33m\u001b[0m\u001b[1;33m\u001b[0m\u001b[0m\n\u001b[0m\u001b[0;32m      3\u001b[0m \u001b[1;33m\u001b[0m\u001b[0m\n\u001b[0;32m      4\u001b[0m sentences = [\n\u001b[0;32m      5\u001b[0m     \u001b[1;34m\REMOVED_SECRETThat is a happy person\REMOVED_SECRET\u001b[0m\u001b[1;33m,\u001b[0m\u001b[1;33m\u001b[0m\u001b[1;33m\u001b[0m\u001b[0m\nREMOVED_SECRET,
      REMOVED_SECRET\u001b[1;31mNameError\u001b[0m: name 'SentenceTransformer' is not definedREMOVED_SECRET
     ]
    }
   ],
   REMOVED_SECRETsourceREMOVED_SECRET: [
    REMOVED_SECRET#Sample Code\nREMOVED_SECRET,
    REMOVED_SECRETmodel = SentenceTransformer(\REMOVED_SECRETBAAI/bge-m3\REMOVED_SECRET)\nREMOVED_SECRET,
    REMOVED_SECRET\nREMOVED_SECRET,
    REMOVED_SECRETsentences = [\nREMOVED_SECRET,
    REMOVED_SECRET    \REMOVED_SECRETThat is a happy person\REMOVED_SECRET,\nREMOVED_SECRET,
    REMOVED_SECRET    \REMOVED_SECRETThat is a happy dog\REMOVED_SECRET,\nREMOVED_SECRET,
    REMOVED_SECRET    \REMOVED_SECRETThat is a very happy person\REMOVED_SECRET,\nREMOVED_SECRET,
    REMOVED_SECRET    \REMOVED_SECRETToday is a sunny day\REMOVED_SECRET\nREMOVED_SECRET,
    REMOVED_SECRET]\nREMOVED_SECRET,
    REMOVED_SECRETembeddings = model.encode(sentences)\nREMOVED_SECRET,
    REMOVED_SECRET\nREMOVED_SECRET,
    REMOVED_SECRET#similarities = model.similarity(embeddings, embeddings)\nREMOVED_SECRET,
    REMOVED_SECRETsimilarities = cosine_similarity(embeddings)\nREMOVED_SECRET,
    REMOVED_SECRETprint(similarities.shape)\nREMOVED_SECRET,
    REMOVED_SECRET# [4, 4]REMOVED_SECRET
   ]
  },
  {
   REMOVED_SECRETcell_typeREMOVED_SECRET: REMOVED_SECRETcodeREMOVED_SECRET,
   REMOVED_SECRETexecution_countREMOVED_SECRET: 7,
   REMOVED_SECRETmetadataREMOVED_SECRET: {},
   REMOVED_SECREToutputsREMOVED_SECRET: [],
   REMOVED_SECRETsourceREMOVED_SECRET: [
    REMOVED_SECRET#basic data cleaning \nREMOVED_SECRET,
    REMOVED_SECRETitaly_df_cleaned = italy_df.drop_duplicates()\nREMOVED_SECRET,
    REMOVED_SECRET\nREMOVED_SECRET,
    REMOVED_SECRETitaly_df_cleaned.reset_index(drop=True, inplace=True)REMOVED_SECRET
   ]
  },
  {
   REMOVED_SECRETcell_typeREMOVED_SECRET: REMOVED_SECRETcodeREMOVED_SECRET,
   REMOVED_SECRETexecution_countREMOVED_SECRET: 8,
   REMOVED_SECRETmetadataREMOVED_SECRET: {},
   REMOVED_SECREToutputsREMOVED_SECRET: [
    {
     REMOVED_SECRETdataREMOVED_SECRET: {
      REMOVED_SECRETtext/htmlREMOVED_SECRET: [
       REMOVED_SECRET<div>\nREMOVED_SECRET,
       REMOVED_SECRET<style scoped>\nREMOVED_SECRET,
       REMOVED_SECRET    .dataframe tbody tr th:only-of-type {\nREMOVED_SECRET,
       REMOVED_SECRET        vertical-align: middle;\nREMOVED_SECRET,
       REMOVED_SECRET    }\nREMOVED_SECRET,
       REMOVED_SECRET\nREMOVED_SECRET,
       REMOVED_SECRET    .dataframe tbody tr th {\nREMOVED_SECRET,
       REMOVED_SECRET        vertical-align: top;\nREMOVED_SECRET,
       REMOVED_SECRET    }\nREMOVED_SECRET,
       REMOVED_SECRET\nREMOVED_SECRET,
       REMOVED_SECRET    .dataframe thead th {\nREMOVED_SECRET,
       REMOVED_SECRET        text-align: right;\nREMOVED_SECRET,
       REMOVED_SECRET    }\nREMOVED_SECRET,
       REMOVED_SECRET</style>\nREMOVED_SECRET,
       REMOVED_SECRET<table border=\REMOVED_SECRET1\REMOVED_SECRET class=\REMOVED_SECRETdataframe\REMOVED_SECRET>\nREMOVED_SECRET,
       REMOVED_SECRET  <thead>\nREMOVED_SECRET,
       REMOVED_SECRET    <tr style=\REMOVED_SECRETtext-align: right;\REMOVED_SECRET>\nREMOVED_SECRET,
       REMOVED_SECRET      <th></th>\nREMOVED_SECRET,
       REMOVED_SECRET      <th>title</th>\nREMOVED_SECRET,
       REMOVED_SECRET      <th>product_description</th>\nREMOVED_SECRET,
       REMOVED_SECRET      <th>title_italian</th>\nREMOVED_SECRET,
       REMOVED_SECRET      <th>productDescription_italian</th>\nREMOVED_SECRET,
       REMOVED_SECRET    </tr>\nREMOVED_SECRET,
       REMOVED_SECRET  </thead>\nREMOVED_SECRET,
       REMOVED_SECRET  <tbody>\nREMOVED_SECRET,
       REMOVED_SECRET    <tr>\nREMOVED_SECRET,
       REMOVED_SECRET      <th>0</th>\nREMOVED_SECRET,
       REMOVED_SECRET      <td>zwilling pro 2pc prep knife set</td>\nREMOVED_SECRET,
       REMOVED_SECRET      <td>this 2piece prep set will become the goto kniv...</td>\nREMOVED_SECRET,
       REMOVED_SECRET      <td>Zwilling pro 2pc set coltello prep</td>\nREMOVED_SECRET,
       REMOVED_SECRET      <td>Questo set prep da 2 pezzi diventerà i coltell...</td>\nREMOVED_SECRET,
       REMOVED_SECRET    </tr>\nREMOVED_SECRET,
       REMOVED_SECRET    <tr>\nREMOVED_SECRET,
       REMOVED_SECRET      <th>1</th>\nREMOVED_SECRET,
       REMOVED_SECRET      <td>womens slim fit drape wrap tshirt  a new day</td>\nREMOVED_SECRET,
       REMOVED_SECRET      <td>elevate your warmweather outfits with this sli...</td>\nREMOVED_SECRET,
       REMOVED_SECRET      <td>donne slim fit drappeggio avvolgere tshirt un ...</td>\nREMOVED_SECRET,
       REMOVED_SECRET      <td>elevare i vostri outfit warmweather con questo...</td>\nREMOVED_SECRET,
       REMOVED_SECRET    </tr>\nREMOVED_SECRET,
       REMOVED_SECRET    <tr>\nREMOVED_SECRET,
       REMOVED_SECRET      <th>2</th>\nREMOVED_SECRET,
       REMOVED_SECRET      <td>mens teenage mutant ninja turtles group shot l...</td>\nREMOVED_SECRET,
       REMOVED_SECRET      <td>cowabunga dude its time to explore the new yor...</td>\nREMOVED_SECRET,
       REMOVED_SECRET      <td>mens adolescente mutante ninja tartarughe grup...</td>\nREMOVED_SECRET,
       REMOVED_SECRET      <td>cowabunga tizio il suo tempo per esplorare il ...</td>\nREMOVED_SECRET,
       REMOVED_SECRET    </tr>\nREMOVED_SECRET,
       REMOVED_SECRET    <tr>\nREMOVED_SECRET,
       REMOVED_SECRET      <th>3</th>\nREMOVED_SECRET,
       REMOVED_SECRET      <td>mens wwe triple h the game logo tshirt</td>\nREMOVED_SECRET,
       REMOVED_SECRET      <td>ladies and gentlemen children of all ages from...</td>\nREMOVED_SECRET,
       REMOVED_SECRET      <td>mens wwe triplo h il gioco logo tshirt</td>\nREMOVED_SECRET,
       REMOVED_SECRET      <td>signore e signori bambini di tutte le età dal ...</td>\nREMOVED_SECRET,
       REMOVED_SECRET    </tr>\nREMOVED_SECRET,
       REMOVED_SECRET    <tr>\nREMOVED_SECRET,
       REMOVED_SECRET      <th>4</th>\nREMOVED_SECRET,
       REMOVED_SECRET      <td>purina fancy feast grilled gravy delights feas...</td>\nREMOVED_SECRET,
       REMOVED_SECRET      <td>give your cat a delightful gourmet meal with p...</td>\nREMOVED_SECRET,
       REMOVED_SECRET      <td>purina fantasia festa grigliato sugo delizie f...</td>\nREMOVED_SECRET,
       REMOVED_SECRET      <td>dare al vostro gatto un delizioso pasto gourme...</td>\nREMOVED_SECRET,
       REMOVED_SECRET    </tr>\nREMOVED_SECRET,
       REMOVED_SECRET    <tr>\nREMOVED_SECRET,
       REMOVED_SECRET      <th>...</th>\nREMOVED_SECRET,
       REMOVED_SECRET      <td>...</td>\nREMOVED_SECRET,
       REMOVED_SECRET      <td>...</td>\nREMOVED_SECRET,
       REMOVED_SECRET      <td>...</td>\nREMOVED_SECRET,
       REMOVED_SECRET      <td>...</td>\nREMOVED_SECRET,
       REMOVED_SECRET    </tr>\nREMOVED_SECRET,
       REMOVED_SECRET    <tr>\nREMOVED_SECRET,
       REMOVED_SECRET      <th>868</th>\nREMOVED_SECRET,
       REMOVED_SECRET      <td>multi collagen protein powder types i ii  ii b...</td>\nREMOVED_SECRET,
       REMOVED_SECRET      <td>multi collagen protein powder types i ii  ii 1...</td>\nREMOVED_SECRET,
       REMOVED_SECRET      <td>proteine multi collageno in polvere ii ii ii o...</td>\nREMOVED_SECRET,
       REMOVED_SECRET      <td>Il collagene multi collageno in polvere ii ii ...</td>\nREMOVED_SECRET,
       REMOVED_SECRET    </tr>\nREMOVED_SECRET,
       REMOVED_SECRET    <tr>\nREMOVED_SECRET,
       REMOVED_SECRET      <th>869</th>\nREMOVED_SECRET,
       REMOVED_SECRET      <td>hope  henry mens waffle knit pullover sweater</td>\nREMOVED_SECRET,
       REMOVED_SECRET      <td>this sweater in our soft 100 organic cotton wi...</td>\nREMOVED_SECRET,
       REMOVED_SECRET      <td>speranza henry uomo waffle maglia pullover mag...</td>\nREMOVED_SECRET,
       REMOVED_SECRET      <td>questo maglione nel nostro morbido cotone biol...</td>\nREMOVED_SECRET,
       REMOVED_SECRET    </tr>\nREMOVED_SECRET,
       REMOVED_SECRET    <tr>\nREMOVED_SECRET,
       REMOVED_SECRET      <th>870</th>\nREMOVED_SECRET,
       REMOVED_SECRET      <td>noritake colortrio 16piece coupe dinnerware set</td>\nREMOVED_SECRET,
       REMOVED_SECRET      <td>noritake colortrio clay 16piece set coupe in b...</td>\nREMOVED_SECRET,
       REMOVED_SECRET      <td>noritake colortio 16 pezzi coupé set per la cena</td>\nREMOVED_SECRET,
       REMOVED_SECRET      <td>noritake colortrio argilla 16piece set coupé i...</td>\nREMOVED_SECRET,
       REMOVED_SECRET    </tr>\nREMOVED_SECRET,
       REMOVED_SECRET    <tr>\nREMOVED_SECRET,
       REMOVED_SECRET      <th>871</th>\nREMOVED_SECRET,
       REMOVED_SECRET      <td>hope  henry mens fine gauge vneck pullover swe...</td>\nREMOVED_SECRET,
       REMOVED_SECRET      <td>this sweater in our soft 100 organic cotton wi...</td>\nREMOVED_SECRET,
       REMOVED_SECRET      <td>speranza henry mens maglione pullover fine gau...</td>\nREMOVED_SECRET,
       REMOVED_SECRET      <td>questo maglione nel nostro morbido cotone biol...</td>\nREMOVED_SECRET,
       REMOVED_SECRET    </tr>\nREMOVED_SECRET,
       REMOVED_SECRET    <tr>\nREMOVED_SECRET,
       REMOVED_SECRET      <th>872</th>\nREMOVED_SECRET,
       REMOVED_SECRET      <td>double strength larginine 1000 mg by now foods...</td>\nREMOVED_SECRET,
       REMOVED_SECRET      <td>double strength larginine 1000 mg 180 tablet d...</td>\nREMOVED_SECRET,
       REMOVED_SECRET      <td>larginina 1000 mg a doppia resistenza ormai al...</td>\nREMOVED_SECRET,
       REMOVED_SECRET      <td>Larginina a doppia concentrazione 1000 mg 180 ...</td>\nREMOVED_SECRET,
       REMOVED_SECRET    </tr>\nREMOVED_SECRET,
       REMOVED_SECRET  </tbody>\nREMOVED_SECRET,
       REMOVED_SECRET</table>\nREMOVED_SECRET,
       REMOVED_SECRET<p>873 rows × 4 columns</p>\nREMOVED_SECRET,
       REMOVED_SECRET</div>REMOVED_SECRET
      ],
      REMOVED_SECRETtext/plainREMOVED_SECRET: [
       REMOVED_SECRET                                                 title  \\\nREMOVED_SECRET,
       REMOVED_SECRET0                      zwilling pro 2pc prep knife set   \nREMOVED_SECRET,
       REMOVED_SECRET1         womens slim fit drape wrap tshirt  a new day   \nREMOVED_SECRET,
       REMOVED_SECRET2    mens teenage mutant ninja turtles group shot l...   \nREMOVED_SECRET,
       REMOVED_SECRET3               mens wwe triple h the game logo tshirt   \nREMOVED_SECRET,
       REMOVED_SECRET4    purina fancy feast grilled gravy delights feas...   \nREMOVED_SECRET,
       REMOVED_SECRET..                                                 ...   \nREMOVED_SECRET,
       REMOVED_SECRET868  multi collagen protein powder types i ii  ii b...   \nREMOVED_SECRET,
       REMOVED_SECRET869      hope  henry mens waffle knit pullover sweater   \nREMOVED_SECRET,
       REMOVED_SECRET870    noritake colortrio 16piece coupe dinnerware set   \nREMOVED_SECRET,
       REMOVED_SECRET871  hope  henry mens fine gauge vneck pullover swe...   \nREMOVED_SECRET,
       REMOVED_SECRET872  double strength larginine 1000 mg by now foods...   \nREMOVED_SECRET,
       REMOVED_SECRET\nREMOVED_SECRET,
       REMOVED_SECRET                                   product_description  \\\nREMOVED_SECRET,
       REMOVED_SECRET0    this 2piece prep set will become the goto kniv...   \nREMOVED_SECRET,
       REMOVED_SECRET1    elevate your warmweather outfits with this sli...   \nREMOVED_SECRET,
       REMOVED_SECRET2    cowabunga dude its time to explore the new yor...   \nREMOVED_SECRET,
       REMOVED_SECRET3    ladies and gentlemen children of all ages from...   \nREMOVED_SECRET,
       REMOVED_SECRET4    give your cat a delightful gourmet meal with p...   \nREMOVED_SECRET,
       REMOVED_SECRET..                                                 ...   \nREMOVED_SECRET,
       REMOVED_SECRET868  multi collagen protein powder types i ii  ii 1...   \nREMOVED_SECRET,
       REMOVED_SECRET869  this sweater in our soft 100 organic cotton wi...   \nREMOVED_SECRET,
       REMOVED_SECRET870  noritake colortrio clay 16piece set coupe in b...   \nREMOVED_SECRET,
       REMOVED_SECRET871  this sweater in our soft 100 organic cotton wi...   \nREMOVED_SECRET,
       REMOVED_SECRET872  double strength larginine 1000 mg 180 tablet d...   \nREMOVED_SECRET,
       REMOVED_SECRET\nREMOVED_SECRET,
       REMOVED_SECRET                                         title_italian  \\\nREMOVED_SECRET,
       REMOVED_SECRET0                   Zwilling pro 2pc set coltello prep   \nREMOVED_SECRET,
       REMOVED_SECRET1    donne slim fit drappeggio avvolgere tshirt un ...   \nREMOVED_SECRET,
       REMOVED_SECRET2    mens adolescente mutante ninja tartarughe grup...   \nREMOVED_SECRET,
       REMOVED_SECRET3               mens wwe triplo h il gioco logo tshirt   \nREMOVED_SECRET,
       REMOVED_SECRET4    purina fantasia festa grigliato sugo delizie f...   \nREMOVED_SECRET,
       REMOVED_SECRET..                                                 ...   \nREMOVED_SECRET,
       REMOVED_SECRET868  proteine multi collageno in polvere ii ii ii o...   \nREMOVED_SECRET,
       REMOVED_SECRET869  speranza henry uomo waffle maglia pullover mag...   \nREMOVED_SECRET,
       REMOVED_SECRET870   noritake colortio 16 pezzi coupé set per la cena   \nREMOVED_SECRET,
       REMOVED_SECRET871  speranza henry mens maglione pullover fine gau...   \nREMOVED_SECRET,
       REMOVED_SECRET872  larginina 1000 mg a doppia resistenza ormai al...   \nREMOVED_SECRET,
       REMOVED_SECRET\nREMOVED_SECRET,
       REMOVED_SECRET                            productDescription_italian  \nREMOVED_SECRET,
       REMOVED_SECRET0    Questo set prep da 2 pezzi diventerà i coltell...  \nREMOVED_SECRET,
       REMOVED_SECRET1    elevare i vostri outfit warmweather con questo...  \nREMOVED_SECRET,
       REMOVED_SECRET2    cowabunga tizio il suo tempo per esplorare il ...  \nREMOVED_SECRET,
       REMOVED_SECRET3    signore e signori bambini di tutte le età dal ...  \nREMOVED_SECRET,
       REMOVED_SECRET4    dare al vostro gatto un delizioso pasto gourme...  \nREMOVED_SECRET,
       REMOVED_SECRET..                                                 ...  \nREMOVED_SECRET,
       REMOVED_SECRET868  Il collagene multi collageno in polvere ii ii ...  \nREMOVED_SECRET,
       REMOVED_SECRET869  questo maglione nel nostro morbido cotone biol...  \nREMOVED_SECRET,
       REMOVED_SECRET870  noritake colortrio argilla 16piece set coupé i...  \nREMOVED_SECRET,
       REMOVED_SECRET871  questo maglione nel nostro morbido cotone biol...  \nREMOVED_SECRET,
       REMOVED_SECRET872  Larginina a doppia concentrazione 1000 mg 180 ...  \nREMOVED_SECRET,
       REMOVED_SECRET\nREMOVED_SECRET,
       REMOVED_SECRET[873 rows x 4 columns]REMOVED_SECRET
      ]
     },
     REMOVED_SECRETexecution_countREMOVED_SECRET: 8,
     REMOVED_SECRETmetadataREMOVED_SECRET: {},
     REMOVED_SECREToutput_typeREMOVED_SECRET: REMOVED_SECRETexecute_resultREMOVED_SECRET
    }
   ],
   REMOVED_SECRETsourceREMOVED_SECRET: [
    REMOVED_SECRETitaly_df_cleanedREMOVED_SECRET
   ]
  },
  {
   REMOVED_SECRETcell_typeREMOVED_SECRET: REMOVED_SECRETcodeREMOVED_SECRET,
   REMOVED_SECRETexecution_countREMOVED_SECRET: null,
   REMOVED_SECRETmetadataREMOVED_SECRET: {},
   REMOVED_SECREToutputsREMOVED_SECRET: [],
   REMOVED_SECRETsourceREMOVED_SECRET: [
    REMOVED_SECRETtitle_lengths = italy_df_cleaned['title'].str.len().describe()\nREMOVED_SECRET,
    REMOVED_SECRET#df['product_description'].str.split().apply(len).describe()\nREMOVED_SECRET,
    REMOVED_SECRET#df['title_italian'].str.len().describe()\nREMOVED_SECRET,
    REMOVED_SECRET#df['productDescription_italian'].str.split().apply(len).describe()REMOVED_SECRET
   ]
  },
  {
   REMOVED_SECRETcell_typeREMOVED_SECRET: REMOVED_SECRETcodeREMOVED_SECRET,
   REMOVED_SECRETexecution_countREMOVED_SECRET: null,
   REMOVED_SECRETmetadataREMOVED_SECRET: {},
   REMOVED_SECREToutputsREMOVED_SECRET: [
    {
     REMOVED_SECRETenameREMOVED_SECRET: REMOVED_SECRETNameErrorREMOVED_SECRET,
     REMOVED_SECRETevalueREMOVED_SECRET: REMOVED_SECRETname 'df' is not definedREMOVED_SECRET,
     REMOVED_SECREToutput_typeREMOVED_SECRET: REMOVED_SECRETerrorREMOVED_SECRET,
     REMOVED_SECRETtracebackREMOVED_SECRET: [
      REMOVED_SECRET\u001b[1;31m---------------------------------------------------------------------------\u001b[0mREMOVED_SECRET,
      REMOVED_SECRET\u001b[1;31mNameError\u001b[0m                                 Traceback (most recent call last)REMOVED_SECRET,
      REMOVED_SECRET\u001b[1;32m~\\AppData\\Local\\Temp\\ipykernel_14576\\656943056.py\u001b[0m in \u001b[0;36m<module>\u001b[1;34m\u001b[0m\n\u001b[1;32m----> 1\u001b[1;33m \u001b[0mtitle_lengths_it\u001b[0m \u001b[1;33m=\u001b[0m \u001b[0mdf\u001b[0m\u001b[1;33m[\u001b[0m\u001b[1;34m'title_italian'\u001b[0m\u001b[1;33m]\u001b[0m\u001b[1;33m.\u001b[0m\u001b[0mstr\u001b[0m\u001b[1;33m.\u001b[0m\u001b[0mlen\u001b[0m\u001b[1;33m(\u001b[0m\u001b[1;33m)\u001b[0m\u001b[1;33m.\u001b[0m\u001b[0mdescribe\u001b[0m\u001b[1;33m(\u001b[0m\u001b[1;33m)\u001b[0m\u001b[1;33m\u001b[0m\u001b[1;33m\u001b[0m\u001b[0m\n\u001b[0mREMOVED_SECRET,
      REMOVED_SECRET\u001b[1;31mNameError\u001b[0m: name 'df' is not definedREMOVED_SECRET
     ]
    }
   ],
   REMOVED_SECRETsourceREMOVED_SECRET: [
    REMOVED_SECRETtitle_lengths_it = italy_df_cleaned['title_italian'].str.len().describe()REMOVED_SECRET
   ]
  },
  {
   REMOVED_SECRETcell_typeREMOVED_SECRET: REMOVED_SECRETcodeREMOVED_SECRET,
   REMOVED_SECRETexecution_countREMOVED_SECRET: null,
   REMOVED_SECRETmetadataREMOVED_SECRET: {},
   REMOVED_SECREToutputsREMOVED_SECRET: [
    {
     REMOVED_SECRETdataREMOVED_SECRET: {
      REMOVED_SECRETtext/plainREMOVED_SECRET: [
       REMOVED_SECRET18REMOVED_SECRET
      ]
     },
     REMOVED_SECRETexecution_countREMOVED_SECRET: 12,
     REMOVED_SECRETmetadataREMOVED_SECRET: {},
     REMOVED_SECREToutput_typeREMOVED_SECRET: REMOVED_SECRETexecute_resultREMOVED_SECRET
    }
   ],
   REMOVED_SECRETsourceREMOVED_SECRET: [
    REMOVED_SECRET(italy_df_cleaned['title'] == italy_df_cleaned['title_italian']).sum()\nREMOVED_SECRET
   ]
  },
  {
   REMOVED_SECRETcell_typeREMOVED_SECRET: REMOVED_SECRETmarkdownREMOVED_SECRET,
   REMOVED_SECRETmetadataREMOVED_SECRET: {},
   REMOVED_SECRETsourceREMOVED_SECRET: [
    REMOVED_SECRETBasic Exploratory data analysis of Italy datasetREMOVED_SECRET
   ]
  },
  {
   REMOVED_SECRETcell_typeREMOVED_SECRET: REMOVED_SECRETcodeREMOVED_SECRET,
   REMOVED_SECRETexecution_countREMOVED_SECRET: 13,
   REMOVED_SECRETmetadataREMOVED_SECRET: {},
   REMOVED_SECREToutputsREMOVED_SECRET: [
    {
     REMOVED_SECRETdataREMOVED_SECRET: {
      REMOVED_SECRETimage/pngREMOVED_SECRET: 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,
      REMOVED_SECRETtext/plainREMOVED_SECRET: [
       REMOVED_SECRET<Figure size 640x480 with 1 Axes>REMOVED_SECRET
      ]
     },
     REMOVED_SECRETmetadataREMOVED_SECRET: {},
     REMOVED_SECREToutput_typeREMOVED_SECRET: REMOVED_SECRETdisplay_dataREMOVED_SECRET
    }
   ],
   REMOVED_SECRETsourceREMOVED_SECRET: [
    REMOVED_SECRETimport matplotlib.pyplot as plt\nREMOVED_SECRET,
    REMOVED_SECRET\nREMOVED_SECRET,
    REMOVED_SECRET\nREMOVED_SECRET,
    REMOVED_SECRETplt.hist(title_lengths, bins=20)\nREMOVED_SECRET,
    REMOVED_SECRETplt.title(\REMOVED_SECRETDistribution of Word Counts in English Titles\REMOVED_SECRET)\nREMOVED_SECRET,
    REMOVED_SECRETplt.xlabel(\REMOVED_SECRETNumber of Words\REMOVED_SECRET)\nREMOVED_SECRET,
    REMOVED_SECRETplt.ylabel(\REMOVED_SECRETFrequency\REMOVED_SECRET)\nREMOVED_SECRET,
    REMOVED_SECRETplt.show()\nREMOVED_SECRET
   ]
  },
  {
   REMOVED_SECRETcell_typeREMOVED_SECRET: REMOVED_SECRETcodeREMOVED_SECRET,
   REMOVED_SECRETexecution_countREMOVED_SECRET: 14,
   REMOVED_SECRETmetadataREMOVED_SECRET: {},
   REMOVED_SECREToutputsREMOVED_SECRET: [
    {
     REMOVED_SECRETdataREMOVED_SECRET: {
      REMOVED_SECRETimage/pngREMOVED_SECRET: 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REMOVED_SECRET,
      REMOVED_SECRETtext/plainREMOVED_SECRET: [
       REMOVED_SECRET<Figure size 640x480 with 1 Axes>REMOVED_SECRET
      ]
     },
     REMOVED_SECRETmetadataREMOVED_SECRET: {},
     REMOVED_SECREToutput_typeREMOVED_SECRET: REMOVED_SECRETdisplay_dataREMOVED_SECRET
    }
   ],
   REMOVED_SECRETsourceREMOVED_SECRET: [
    REMOVED_SECRETplt.hist(title_lengths_it, bins=20)\nREMOVED_SECRET,
    REMOVED_SECRETplt.title(\REMOVED_SECRETDistribution of Word Counts in Italian Titles\REMOVED_SECRET)\nREMOVED_SECRET,
    REMOVED_SECRETplt.xlabel(\REMOVED_SECRETNumber of Words\REMOVED_SECRET)\nREMOVED_SECRET,
    REMOVED_SECRETplt.ylabel(\REMOVED_SECRETFrequency\REMOVED_SECRET)\nREMOVED_SECRET,
    REMOVED_SECRETplt.show()\nREMOVED_SECRET
   ]
  },
  {
   REMOVED_SECRETcell_typeREMOVED_SECRET: REMOVED_SECRETcodeREMOVED_SECRET,
   REMOVED_SECRETexecution_countREMOVED_SECRET: null,
   REMOVED_SECRETmetadataREMOVED_SECRET: {},
   REMOVED_SECREToutputsREMOVED_SECRET: [
    {
     REMOVED_SECRETdataREMOVED_SECRET: {
      REMOVED_SECRETapplication/vnd.jupyter.widget-view+jsonREMOVED_SECRET: {
       REMOVED_SECRETmodel_idREMOVED_SECRET: REMOVED_SECRET409858596f0d4cec8bfaac9f19c4e55fREMOVED_SECRET,
       REMOVED_SECRETversion_majorREMOVED_SECRET: 2,
       REMOVED_SECRETversion_minorREMOVED_SECRET: 0
      },
      REMOVED_SECRETtext/plainREMOVED_SECRET: [
       REMOVED_SECRETBatches:   0%|          | 0/32 [00:00<?, ?it/s]REMOVED_SECRET
      ]
     },
     REMOVED_SECRETmetadataREMOVED_SECRET: {},
     REMOVED_SECREToutput_typeREMOVED_SECRET: REMOVED_SECRETdisplay_dataREMOVED_SECRET
    },
    {
     REMOVED_SECRETdataREMOVED_SECRET: {
      REMOVED_SECRETapplication/vnd.jupyter.widget-view+jsonREMOVED_SECRET: {
       REMOVED_SECRETmodel_idREMOVED_SECRET: REMOVED_SECRETb03993621b4a4d48b8952ccb3c306b0aREMOVED_SECRET,
       REMOVED_SECRETversion_majorREMOVED_SECRET: 2,
       REMOVED_SECRETversion_minorREMOVED_SECRET: 0
      },
      REMOVED_SECRETtext/plainREMOVED_SECRET: [
       REMOVED_SECRETBatches:   0%|          | 0/32 [00:00<?, ?it/s]REMOVED_SECRET
      ]
     },
     REMOVED_SECRETmetadataREMOVED_SECRET: {},
     REMOVED_SECREToutput_typeREMOVED_SECRET: REMOVED_SECRETdisplay_dataREMOVED_SECRET
    }
   ],
   REMOVED_SECRETsourceREMOVED_SECRET: [
    REMOVED_SECRETentoit_english_embeddings = model.encode(italy_df_cleaned['title'].tolist(), show_progress_bar=True)\nREMOVED_SECRET,
    REMOVED_SECRETentoit_italian_embeddings = model.encode(italy_df_cleaned['title_italian'].tolist(), show_progress_bar=True)\nREMOVED_SECRET
   ]
  },
  {
   REMOVED_SECRETcell_typeREMOVED_SECRET: REMOVED_SECRETcodeREMOVED_SECRET,
   REMOVED_SECRETexecution_countREMOVED_SECRET: null,
   REMOVED_SECRETmetadataREMOVED_SECRET: {},
   REMOVED_SECREToutputsREMOVED_SECRET: [
    {
     REMOVED_SECRETnameREMOVED_SECRET: REMOVED_SECRETstdoutREMOVED_SECRET,
     REMOVED_SECREToutput_typeREMOVED_SECRET: REMOVED_SECRETstreamREMOVED_SECRET,
     REMOVED_SECRETtextREMOVED_SECRET: [
      REMOVED_SECRET(997, 1024)\nREMOVED_SECRET,
      REMOVED_SECRET(997, 1024)\nREMOVED_SECRET
     ]
    }
   ],
   REMOVED_SECRETsourceREMOVED_SECRET: [
    REMOVED_SECRETprint(entoit_english_embeddings.shape)\nREMOVED_SECRET,
    REMOVED_SECRETprint(entoit_italian_embeddings.shape)\nREMOVED_SECRET
   ]
  },
  {
   REMOVED_SECRETcell_typeREMOVED_SECRET: REMOVED_SECRETcodeREMOVED_SECRET,
   REMOVED_SECRETexecution_countREMOVED_SECRET: null,
   REMOVED_SECRETmetadataREMOVED_SECRET: {},
   REMOVED_SECREToutputsREMOVED_SECRET: [
    {
     REMOVED_SECRETnameREMOVED_SECRET: REMOVED_SECRETstdoutREMOVED_SECRET,
     REMOVED_SECREToutput_typeREMOVED_SECRET: REMOVED_SECRETstreamREMOVED_SECRET,
     REMOVED_SECRETtextREMOVED_SECRET: [
      REMOVED_SECRETRow 0 - Cosine Similarity: 0.8534\nREMOVED_SECRET,
      REMOVED_SECRETRow 1 - Cosine Similarity: 0.8249\nREMOVED_SECRET,
      REMOVED_SECRETRow 2 - Cosine Similarity: 0.8868\nREMOVED_SECRET,
      REMOVED_SECRETRow 3 - Cosine Similarity: 0.9429\nREMOVED_SECRET,
      REMOVED_SECRETRow 4 - Cosine Similarity: 0.8051\nREMOVED_SECRET
     ]
    }
   ],
   REMOVED_SECRETsourceREMOVED_SECRET: [
    REMOVED_SECRETfrom sklearn.metrics.pairwise import cosine_similarity\nREMOVED_SECRET,
    REMOVED_SECRET\nREMOVED_SECRET,
    REMOVED_SECRET# Choose a few sample rows (e.g., first 5)\nREMOVED_SECRET,
    REMOVED_SECRETfor i in range(5):\nREMOVED_SECRET,
    REMOVED_SECRET    score = cosine_similarity([entoit_english_embeddings[i]], [entoit_italian_embeddings[i]])[0][0]\nREMOVED_SECRET,
    REMOVED_SECRET    print(f\REMOVED_SECRETRow {i} - Cosine Similarity: {score:.4f}\REMOVED_SECRET)\nREMOVED_SECRET
   ]
  },
  {
   REMOVED_SECRETcell_typeREMOVED_SECRET: REMOVED_SECRETcodeREMOVED_SECRET,
   REMOVED_SECRETexecution_countREMOVED_SECRET: null,
   REMOVED_SECRETmetadataREMOVED_SECRET: {},
   REMOVED_SECREToutputsREMOVED_SECRET: [
    {
     REMOVED_SECRETnameREMOVED_SECRET: REMOVED_SECRETstdoutREMOVED_SECRET,
     REMOVED_SECREToutput_typeREMOVED_SECRET: REMOVED_SECRETstreamREMOVED_SECRET,
     REMOVED_SECRETtextREMOVED_SECRET: [
      REMOVED_SECRETAverage cosine similarity: 0.8359\nREMOVED_SECRET
     ]
    }
   ],
   REMOVED_SECRETsourceREMOVED_SECRET: [
    REMOVED_SECRETfrom sklearn.metrics.pairwise import cosine_similarity\nREMOVED_SECRET,
    REMOVED_SECRETimport numpy as np\nREMOVED_SECRET,
    REMOVED_SECRET\nREMOVED_SECRET,
    REMOVED_SECRETsimilarities = []\nREMOVED_SECRET,
    REMOVED_SECRETfor i in range(len(entoit_english_embeddings)):\nREMOVED_SECRET,
    REMOVED_SECRET    sim = cosine_similarity([entoit_english_embeddings[i]], [entoit_italian_embeddings[i]])[0][0]\nREMOVED_SECRET,
    REMOVED_SECRET    similarities.append(sim)\nREMOVED_SECRET,
    REMOVED_SECRET\nREMOVED_SECRET,
    REMOVED_SECRET# Now compute the average\nREMOVED_SECRET,
    REMOVED_SECRETaverage_similarity = np.mean(similarities)\nREMOVED_SECRET,
    REMOVED_SECRETprint(f\REMOVED_SECRETAverage cosine similarity: {average_similarity:.4f}\REMOVED_SECRET)\nREMOVED_SECRET
   ]
  },
  {
   REMOVED_SECRETcell_typeREMOVED_SECRET: REMOVED_SECRETcodeREMOVED_SECRET,
   REMOVED_SECRETexecution_countREMOVED_SECRET: null,
   REMOVED_SECRETmetadataREMOVED_SECRET: {},
   REMOVED_SECREToutputsREMOVED_SECRET: [],
   REMOVED_SECRETsourceREMOVED_SECRET: [
    REMOVED_SECRET# Saving the embeddings to CSV files\nREMOVED_SECRET,
    REMOVED_SECRET\nREMOVED_SECRET,
    REMOVED_SECRETdf_embeddings = pd.DataFrame({\nREMOVED_SECRET,
    REMOVED_SECRET    \REMOVED_SECRETtitle\REMOVED_SECRET: df['title'],\nREMOVED_SECRET,
    REMOVED_SECRET    \REMOVED_SECRETtitle_italian\REMOVED_SECRET: df['title_italian'],\nREMOVED_SECRET,
    REMOVED_SECRET    \REMOVED_SECRETenglish_embedding\REMOVED_SECRET: list(entoit_english_embeddings),\nREMOVED_SECRET,
    REMOVED_SECRET    \REMOVED_SECRETitalian_embedding\REMOVED_SECRET: list(entoit_italian_embeddings),\nREMOVED_SECRET,
    REMOVED_SECRET})\nREMOVED_SECRET,
    REMOVED_SECRET\nREMOVED_SECRET,
    REMOVED_SECRETdf_embeddings.to_pickle(\REMOVED_SECRETen_to_it_embeddings.pkl\REMOVED_SECRET)\nREMOVED_SECRET,
    REMOVED_SECRET\nREMOVED_SECRET,
    REMOVED_SECRET#for loading the embeddings\nREMOVED_SECRET,
    REMOVED_SECRET\nREMOVED_SECRET,
    REMOVED_SECRET#df_embeddings = pd.read_pickle(\REMOVED_SECRETen_to_it_embeddings.pkl\REMOVED_SECRET)\nREMOVED_SECRET
   ]
  },
  {
   REMOVED_SECRETcell_typeREMOVED_SECRET: REMOVED_SECRETmarkdownREMOVED_SECRET,
   REMOVED_SECRETmetadataREMOVED_SECRET: {},
   REMOVED_SECRETsourceREMOVED_SECRET: [
    REMOVED_SECRETNow we are going to compare sentence level embeddings with word level embeddings. For word level embeddings, we will be using fastText embeddings as it has capabilities to align mutllingual word embeddings.\nREMOVED_SECRET,
    REMOVED_SECRET\nREMOVED_SECRET,
    REMOVED_SECRETWe use average embedding because it's the simplest way to get a fixed-size, meaning-aware sentence representation using word vectors.REMOVED_SECRET
   ]
  },
  {
   REMOVED_SECRETcell_typeREMOVED_SECRET: REMOVED_SECRETcodeREMOVED_SECRET,
   REMOVED_SECRETexecution_countREMOVED_SECRET: null,
   REMOVED_SECRETmetadataREMOVED_SECRET: {},
   REMOVED_SECREToutputsREMOVED_SECRET: [
    {
     REMOVED_SECRETnameREMOVED_SECRET: REMOVED_SECRETstdoutREMOVED_SECRET,
     REMOVED_SECREToutput_typeREMOVED_SECRET: REMOVED_SECRETstreamREMOVED_SECRET,
     REMOVED_SECRETtextREMOVED_SECRET: [
      REMOVED_SECRETRequirement already satisfied: gensim in c:\\users\\liuru\\anaconda3\\envs\\tensorflow_base\\lib\\site-packages (4.3.2)\nREMOVED_SECRET,
      REMOVED_SECRETRequirement already satisfied: numpy>=1.18.5 in c:\\users\\liuru\\anaconda3\\envs\\tensorflow_base\\lib\\site-packages (from gensim) (1.25.2)\nREMOVED_SECRET,
      REMOVED_SECRETRequirement already satisfied: scipy>=1.7.0 in c:\\users\\liuru\\anaconda3\\envs\\tensorflow_base\\lib\\site-packages (from gensim) (1.10.1)\nREMOVED_SECRET,
      REMOVED_SECRETRequirement already satisfied: smart-open>=1.8.1 in c:\\users\\liuru\\anaconda3\\envs\\tensorflow_base\\lib\\site-packages (from gensim) (6.3.0)\nREMOVED_SECRET,
      REMOVED_SECRETNote: you may need to restart the kernel to use updated packages.\nREMOVED_SECRET
     ]
    }
   ],
   REMOVED_SECRETsourceREMOVED_SECRET: [
    REMOVED_SECRETpip install gensimREMOVED_SECRET
   ]
  },
  {
   REMOVED_SECRETcell_typeREMOVED_SECRET: REMOVED_SECRETcodeREMOVED_SECRET,
   REMOVED_SECRETexecution_countREMOVED_SECRET: null,
   REMOVED_SECRETmetadataREMOVED_SECRET: {},
   REMOVED_SECREToutputsREMOVED_SECRET: [],
   REMOVED_SECRETsourceREMOVED_SECRET: [
    REMOVED_SECRET#This function loads the word vectors from a file and returns the words and their corresponding vectors.\nREMOVED_SECRET,
    REMOVED_SECRET#This is the base Version of code. The below one is the improved version\nREMOVED_SECRET,
    REMOVED_SECRET\nREMOVED_SECRET,
    REMOVED_SECRETdef load_vecs(path, limit_no_words):\nREMOVED_SECRET,
    REMOVED_SECRET    import numpy as np\nREMOVED_SECRET,
    REMOVED_SECRET    words = []\nREMOVED_SECRET,
    REMOVED_SECRET    vectors = []\nREMOVED_SECRET,
    REMOVED_SECRET    with open(path, encoding=\REMOVED_SECRETutf-8\REMOVED_SECRET) as f:\nREMOVED_SECRET,
    REMOVED_SECRET        for ix, line in enumerate(f):\nREMOVED_SECRET,
    REMOVED_SECRET            if ix == 0:\nREMOVED_SECRET,
    REMOVED_SECRET                continue  # skip the header\nREMOVED_SECRET,
    REMOVED_SECRET            line = line.rstrip().split()\nREMOVED_SECRET,
    REMOVED_SECRET            word = line[0]\nREMOVED_SECRET,
    REMOVED_SECRET            if len(line[1:]) == 300:\nREMOVED_SECRET,
    REMOVED_SECRET                words.append(word)\nREMOVED_SECRET,
    REMOVED_SECRET                vectors.append(line[1:])\nREMOVED_SECRET,
    REMOVED_SECRET            if len(words) == limit_no_words:\nREMOVED_SECRET,
    REMOVED_SECRET                break\nREMOVED_SECRET,
    REMOVED_SECRET    return words, np.array(vectors, dtype=float)\nREMOVED_SECRET
   ]
  },
  {
   REMOVED_SECRETcell_typeREMOVED_SECRET: REMOVED_SECRETcodeREMOVED_SECRET,
   REMOVED_SECRETexecution_countREMOVED_SECRET: 21,
   REMOVED_SECRETmetadataREMOVED_SECRET: {},
   REMOVED_SECREToutputsREMOVED_SECRET: [],
   REMOVED_SECRETsourceREMOVED_SECRET: [
    REMOVED_SECRETdef load_vecs(path, limit_no_words=None):\nREMOVED_SECRET,
    REMOVED_SECRET    import numpy as np\nREMOVED_SECRET,
    REMOVED_SECRET    words = [] #To store vocab words\nREMOVED_SECRET,
    REMOVED_SECRET    vectors = [] #To store corresponding word vectors\nREMOVED_SECRET,
    REMOVED_SECRET\nREMOVED_SECRET,
    REMOVED_SECRET    with open(path, encoding=\REMOVED_SECRETutf-8\REMOVED_SECRET) as f: #opening the first line which typically contains metadata\nREMOVED_SECRET,
    REMOVED_SECRET        first_line = f.readline()\nREMOVED_SECRET,
    REMOVED_SECRET        _, vec_size = map(int, first_line.strip().split()) #obtaining the vector size from the first line\nREMOVED_SECRET,
    REMOVED_SECRET        \nREMOVED_SECRET,
    REMOVED_SECRET        for ix, line in enumerate(f):\nREMOVED_SECRET,
    REMOVED_SECRET            line = line.rstrip().split() #removing trailing newline and split line by spaces\nREMOVED_SECRET,
    REMOVED_SECRET            word = line[0]  #first token i sthe word itself\nREMOVED_SECRET,
    REMOVED_SECRET            vector_vals = line[1:]  #remaining tokens are the vector values\nREMOVED_SECRET,
    REMOVED_SECRET\nREMOVED_SECRET,
    REMOVED_SECRET            if len(vector_vals) == vec_size:  # Now dynamically validated to see if vector has correct no of dim\nREMOVED_SECRET,
    REMOVED_SECRET                words.append(word) #Add the word to vocab list\nREMOVED_SECRET,
    REMOVED_SECRET                vectors.append(vector_vals) #Add the vector to the list (as strings)\nREMOVED_SECRET,
    REMOVED_SECRET            # If a word limit was set, stop once we've hit that limit\nREMOVED_SECRET,
    REMOVED_SECRET            if limit_no_words and len(words) == limit_no_words:\nREMOVED_SECRET,
    REMOVED_SECRET                break\nREMOVED_SECRET,
    REMOVED_SECRET    #Convert list of vectors from strings to a NumPy float array for numerical use\nREMOVED_SECRET,
    REMOVED_SECRET    return words, np.array(vectors, dtype=float)\nREMOVED_SECRET
   ]
  },
  {
   REMOVED_SECRETcell_typeREMOVED_SECRET: REMOVED_SECRETcodeREMOVED_SECRET,
   REMOVED_SECRETexecution_countREMOVED_SECRET: null,
   REMOVED_SECRETmetadataREMOVED_SECRET: {},
   REMOVED_SECREToutputsREMOVED_SECRET: [],
   REMOVED_SECRETsourceREMOVED_SECRET: [
    REMOVED_SECRETentoit_en_words, entoit_en_vectors = load_vecs(\REMOVED_SECRETwiki.en.align.vec\REMOVED_SECRET, limit_no_words=50000)\nREMOVED_SECRET,
    REMOVED_SECRETentoit_it_words, entoit_it_vectors = load_vecs(\REMOVED_SECRETwiki.it.align.vec\REMOVED_SECRET, limit_no_words=50000)REMOVED_SECRET
   ]
  },
  {
   REMOVED_SECRETcell_typeREMOVED_SECRET: REMOVED_SECRETcodeREMOVED_SECRET,
   REMOVED_SECRETexecution_countREMOVED_SECRET: null,
   REMOVED_SECRETmetadataREMOVED_SECRET: {},
   REMOVED_SECREToutputsREMOVED_SECRET: [],
   REMOVED_SECRETsourceREMOVED_SECRET: [
    REMOVED_SECRET# Create a dictionary mapping English and italina words to their corresponding vectors\nREMOVED_SECRET,
    REMOVED_SECRET#zip is to match each words with corresponding vector\nREMOVED_SECRET,
    REMOVED_SECRET#dict is to convert list of tuples into a dict obj \nREMOVED_SECRET,
    REMOVED_SECRETen_dict = dict(zip(entoit_en_words, entoit_en_vectors))\nREMOVED_SECRET,
    REMOVED_SECRETit_dict = dict(zip(entoit_it_words, entoit_it_vectors))\nREMOVED_SECRET
   ]
  },
  {
   REMOVED_SECRETcell_typeREMOVED_SECRET: REMOVED_SECRETcodeREMOVED_SECRET,
   REMOVED_SECRETexecution_countREMOVED_SECRET: null,
   REMOVED_SECRETmetadataREMOVED_SECRET: {},
   REMOVED_SECREToutputsREMOVED_SECRET: [],
   REMOVED_SECRETsourceREMOVED_SECRET: [
    REMOVED_SECRETdef average_embedding(text, embedding_dict):\nREMOVED_SECRET,
    REMOVED_SECRET    words = text.lower().split()\nREMOVED_SECRET,
    REMOVED_SECRET    vectors = [embedding_dict[word] for word in words if word in embedding_dict]\nREMOVED_SECRET,
    REMOVED_SECRET    if vectors:\nREMOVED_SECRET,
    REMOVED_SECRET        return np.mean(vectors, axis=0)\nREMOVED_SECRET,
    REMOVED_SECRET    else:\nREMOVED_SECRET,
    REMOVED_SECRET        return np.zeros(300)\nREMOVED_SECRET
   ]
  },
  {
   REMOVED_SECRETcell_typeREMOVED_SECRET: REMOVED_SECRETcodeREMOVED_SECRET,
   REMOVED_SECRETexecution_countREMOVED_SECRET: 25,
   REMOVED_SECRETmetadataREMOVED_SECRET: {},
   REMOVED_SECREToutputsREMOVED_SECRET: [],
   REMOVED_SECRETsourceREMOVED_SECRET: [
    REMOVED_SECRETdef average_embedding(text, embedding_dict):\nREMOVED_SECRET,
    REMOVED_SECRET    # Convert text to lowercase and split it into individual words\nREMOVED_SECRET,
    REMOVED_SECRET    words = text.lower().split()\nREMOVED_SECRET,
    REMOVED_SECRET\nREMOVED_SECRET,
    REMOVED_SECRET    # Retrieve vectors for words that exist in the embedding dictionary\nREMOVED_SECRET,
    REMOVED_SECRET    vectors = [embedding_dict[word] for word in words if word in embedding_dict]\nREMOVED_SECRET,
    REMOVED_SECRET\nREMOVED_SECRET,
    REMOVED_SECRET    # If there are valid word vectors, compute their average\nREMOVED_SECRET,
    REMOVED_SECRET    if vectors:\nREMOVED_SECRET,
    REMOVED_SECRET        return np.mean(vectors, axis=0)  # Return the mean vector (sentence embedding)\nREMOVED_SECRET,
    REMOVED_SECRET    else:\nREMOVED_SECRET,
    REMOVED_SECRET        # No known words in the sentence — return a zero vector of the correct size\nREMOVED_SECRET,
    REMOVED_SECRET\nREMOVED_SECRET,
    REMOVED_SECRET        # Get the dimensionality of the vectors by checking one item in the dictionary\nREMOVED_SECRET,
    REMOVED_SECRET        vec_size = len(next(iter(embedding_dict.values())))\nREMOVED_SECRET,
    REMOVED_SECRET\nREMOVED_SECRET,
    REMOVED_SECRET        # Return a zero vector with that size\nREMOVED_SECRET,
    REMOVED_SECRET        return np.zeros(vec_size)\nREMOVED_SECRET
   ]
  },
  {
   REMOVED_SECRETcell_typeREMOVED_SECRET: REMOVED_SECRETcodeREMOVED_SECRET,
   REMOVED_SECRETexecution_countREMOVED_SECRET: null,
   REMOVED_SECRETmetadataREMOVED_SECRET: {},
   REMOVED_SECREToutputsREMOVED_SECRET: [],
   REMOVED_SECRETsourceREMOVED_SECRET: [
    REMOVED_SECRETentoit_english_avg_embeds = df['title'].apply(lambda x: average_embedding(x, en_dict))\nREMOVED_SECRET,
    REMOVED_SECRETentoit_italian_avg_embeds = df['title_italian'].apply(lambda x: average_embedding(x, it_dict))REMOVED_SECRET
   ]
  },
  {
   REMOVED_SECRETcell_typeREMOVED_SECRET: REMOVED_SECRETcodeREMOVED_SECRET,
   REMOVED_SECRETexecution_countREMOVED_SECRET: null,
   REMOVED_SECRETmetadataREMOVED_SECRET: {},
   REMOVED_SECREToutputsREMOVED_SECRET: [
    {
     REMOVED_SECRETnameREMOVED_SECRET: REMOVED_SECRETstdoutREMOVED_SECRET,
     REMOVED_SECREToutput_typeREMOVED_SECRET: REMOVED_SECRETstreamREMOVED_SECRET,
     REMOVED_SECRETtextREMOVED_SECRET: [
      REMOVED_SECRETAverage cosine similarity (avg word embeddings 50k): 0.1853\nREMOVED_SECRET
     ]
    }
   ],
   REMOVED_SECRETsourceREMOVED_SECRET: [
    REMOVED_SECRETsimilarities_word = []\nREMOVED_SECRET,
    REMOVED_SECRETfor i in range(len(df)):\nREMOVED_SECRET,
    REMOVED_SECRET    sim = cosine_similarity([entoit_english_avg_embeds[i]], [entoit_italian_avg_embeds[i]])[0][0]\nREMOVED_SECRET,
    REMOVED_SECRET    similarities_word.append(sim)\nREMOVED_SECRET,
    REMOVED_SECRET\nREMOVED_SECRET,
    REMOVED_SECRETavg_word_sim_50 = np.mean(similarities_word)\nREMOVED_SECRET,
    REMOVED_SECRETprint(f\REMOVED_SECRETAverage cosine similarity (avg word embeddings 50k): {avg_word_sim_50:.4f}\REMOVED_SECRET)REMOVED_SECRET
   ]
  },
  {
   REMOVED_SECRETcell_typeREMOVED_SECRET: REMOVED_SECRETcodeREMOVED_SECRET,
   REMOVED_SECRETexecution_countREMOVED_SECRET: null,
   REMOVED_SECRETmetadataREMOVED_SECRET: {},
   REMOVED_SECREToutputsREMOVED_SECRET: [
    {
     REMOVED_SECRETnameREMOVED_SECRET: REMOVED_SECRETstdoutREMOVED_SECRET,
     REMOVED_SECREToutput_typeREMOVED_SECRET: REMOVED_SECRETstreamREMOVED_SECRET,
     REMOVED_SECRETtextREMOVED_SECRET: [
      REMOVED_SECRETAverage cosine similarity (avg word embeddings 10k): 0.1853\nREMOVED_SECRET
     ]
    }
   ],
   REMOVED_SECRETsourceREMOVED_SECRET: [
    REMOVED_SECRETsimilarities_word = []\nREMOVED_SECRET,
    REMOVED_SECRETfor i in range(len(df)):\nREMOVED_SECRET,
    REMOVED_SECRET    sim = cosine_similarity([entoit_english_avg_embeds[i]], [entoit_italian_avg_embeds[i]])[0][0]\nREMOVED_SECRET,
    REMOVED_SECRET    similarities_word.append(sim)\nREMOVED_SECRET,
    REMOVED_SECRET\nREMOVED_SECRET,
    REMOVED_SECRETavg_word_sim_10 = np.mean(similarities_word)\nREMOVED_SECRET,
    REMOVED_SECRETprint(f\REMOVED_SECRETAverage cosine similarity (avg word embeddings 10k): {avg_word_sim_10:.4f}\REMOVED_SECRET)REMOVED_SECRET
   ]
  },
  {
   REMOVED_SECRETcell_typeREMOVED_SECRET: REMOVED_SECRETcodeREMOVED_SECRET,
   REMOVED_SECRETexecution_countREMOVED_SECRET: null,
   REMOVED_SECRETmetadataREMOVED_SECRET: {},
   REMOVED_SECREToutputsREMOVED_SECRET: [
    {
     REMOVED_SECRETnameREMOVED_SECRET: REMOVED_SECRETstdoutREMOVED_SECRET,
     REMOVED_SECREToutput_typeREMOVED_SECRET: REMOVED_SECRETstreamREMOVED_SECRET,
     REMOVED_SECRETtextREMOVED_SECRET: [
      REMOVED_SECRETAverage cosine similarity (avg word embeddings 5k): 0.1853\nREMOVED_SECRET
     ]
    }
   ],
   REMOVED_SECRETsourceREMOVED_SECRET: [
    REMOVED_SECRETsimilarities_word = []\nREMOVED_SECRET,
    REMOVED_SECRETfor i in range(len(df)):\nREMOVED_SECRET,
    REMOVED_SECRET    sim = cosine_similarity([entoit_english_avg_embeds[i]], [entoit_italian_avg_embeds[i]])[0][0]\nREMOVED_SECRET,
    REMOVED_SECRET    similarities_word.append(sim)\nREMOVED_SECRET,
    REMOVED_SECRET\nREMOVED_SECRET,
    REMOVED_SECRETavg_word_sim_5 = np.mean(similarities_word)\nREMOVED_SECRET,
    REMOVED_SECRETprint(f\REMOVED_SECRETAverage cosine similarity (avg word embeddings 5k): {avg_word_sim_5:.4f}\REMOVED_SECRET)REMOVED_SECRET
   ]
  },
  {
   REMOVED_SECRETcell_typeREMOVED_SECRET: REMOVED_SECRETcodeREMOVED_SECRET,
   REMOVED_SECRETexecution_countREMOVED_SECRET: null,
   REMOVED_SECRETmetadataREMOVED_SECRET: {},
   REMOVED_SECREToutputsREMOVED_SECRET: [
    {
     REMOVED_SECRETdataREMOVED_SECRET: {
      REMOVED_SECRETimage/pngREMOVED_SECRET: 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,
      REMOVED_SECRETtext/plainREMOVED_SECRET: [
       REMOVED_SECRET<Figure size 800x500 with 1 Axes>REMOVED_SECRET
      ]
     },
     REMOVED_SECRETmetadataREMOVED_SECRET: {},
     REMOVED_SECREToutput_typeREMOVED_SECRET: REMOVED_SECRETdisplay_dataREMOVED_SECRET
    }
   ],
   REMOVED_SECRETsourceREMOVED_SECRET: [
    REMOVED_SECRET# X-axis: Word vector sizes used\nREMOVED_SECRET,
    REMOVED_SECRETx = [\REMOVED_SECRET5k words\REMOVED_SECRET, \REMOVED_SECRET10k words\REMOVED_SECRET, \REMOVED_SECRET50k words\REMOVED_SECRET]\nREMOVED_SECRET,
    REMOVED_SECRET\nREMOVED_SECRET,
    REMOVED_SECRETy = [avg_word_sim_5, avg_word_sim_10, avg_word_sim_50]\nREMOVED_SECRET,
    REMOVED_SECRET\nREMOVED_SECRET,
    REMOVED_SECRETplt.figure(figsize=(8, 5))\nREMOVED_SECRET,
    REMOVED_SECRET\nREMOVED_SECRET,
    REMOVED_SECRET# Bar chart for FastText similarities\nREMOVED_SECRET,
    REMOVED_SECRETplt.bar(x, y, color='skyblue', label=\REMOVED_SECRETFastText Avg Embedding\REMOVED_SECRET)\nREMOVED_SECRET,
    REMOVED_SECRET\nREMOVED_SECRET,
    REMOVED_SECRET# Horizontal line for BGE-M3 sentence embedding similarity\nREMOVED_SECRET,
    REMOVED_SECRETplt.axhline(y=average_similarity, color='orange', linestyle='--', label=\REMOVED_SECRETBGE-M3 Sentence Embedding\REMOVED_SECRET)\nREMOVED_SECRET,
    REMOVED_SECRET\nREMOVED_SECRET,
    REMOVED_SECRETplt.title(\REMOVED_SECRETComparison of Average Cosine Similarity\REMOVED_SECRET)\nREMOVED_SECRET,
    REMOVED_SECRETplt.ylabel(\REMOVED_SECRETCosine Similarity\REMOVED_SECRET)\nREMOVED_SECRET,
    REMOVED_SECRETplt.ylim(0, 1)\nREMOVED_SECRET,
    REMOVED_SECRETplt.legend()\nREMOVED_SECRET,
    REMOVED_SECRETplt.grid(True)\nREMOVED_SECRET,
    REMOVED_SECRETplt.tight_layout()\nREMOVED_SECRET,
    REMOVED_SECRETplt.show()REMOVED_SECRET
   ]
  },
  {
   REMOVED_SECRETcell_typeREMOVED_SECRET: REMOVED_SECRETmarkdownREMOVED_SECRET,
   REMOVED_SECRETmetadataREMOVED_SECRET: {},
   REMOVED_SECRETsourceREMOVED_SECRET: [
    REMOVED_SECRETSpanish Dataset ExplorationREMOVED_SECRET
   ]
  },
  {
   REMOVED_SECRETcell_typeREMOVED_SECRET: REMOVED_SECRETcodeREMOVED_SECRET,
   REMOVED_SECRETexecution_countREMOVED_SECRET: 24,
   REMOVED_SECRETmetadataREMOVED_SECRET: {},
   REMOVED_SECREToutputsREMOVED_SECRET: [],
   REMOVED_SECRETsourceREMOVED_SECRET: [
    REMOVED_SECRET#basic data cleaning \nREMOVED_SECRET,
    REMOVED_SECRETspanish_df_cleaned = spanish_df.drop_duplicates()\nREMOVED_SECRET,
    REMOVED_SECRET\nREMOVED_SECRET,
    REMOVED_SECRETspanish_df_cleaned.reset_index(drop=True, inplace=True)REMOVED_SECRET
   ]
  },
  {
   REMOVED_SECRETcell_typeREMOVED_SECRET: REMOVED_SECRETcodeREMOVED_SECRET,
   REMOVED_SECRETexecution_countREMOVED_SECRET: 25,
   REMOVED_SECRETmetadataREMOVED_SECRET: {},
   REMOVED_SECREToutputsREMOVED_SECRET: [
    {
     REMOVED_SECRETdataREMOVED_SECRET: {
      REMOVED_SECRETtext/htmlREMOVED_SECRET: [
       REMOVED_SECRET<div>\nREMOVED_SECRET,
       REMOVED_SECRET<style scoped>\nREMOVED_SECRET,
       REMOVED_SECRET    .dataframe tbody tr th:only-of-type {\nREMOVED_SECRET,
       REMOVED_SECRET        vertical-align: middle;\nREMOVED_SECRET,
       REMOVED_SECRET    }\nREMOVED_SECRET,
       REMOVED_SECRET\nREMOVED_SECRET,
       REMOVED_SECRET    .dataframe tbody tr th {\nREMOVED_SECRET,
       REMOVED_SECRET        vertical-align: top;\nREMOVED_SECRET,
       REMOVED_SECRET    }\nREMOVED_SECRET,
       REMOVED_SECRET\nREMOVED_SECRET,
       REMOVED_SECRET    .dataframe thead th {\nREMOVED_SECRET,
       REMOVED_SECRET        text-align: right;\nREMOVED_SECRET,
       REMOVED_SECRET    }\nREMOVED_SECRET,
       REMOVED_SECRET</style>\nREMOVED_SECRET,
       REMOVED_SECRET<table border=\REMOVED_SECRET1\REMOVED_SECRET class=\REMOVED_SECRETdataframe\REMOVED_SECRET>\nREMOVED_SECRET,
       REMOVED_SECRET  <thead>\nREMOVED_SECRET,
       REMOVED_SECRET    <tr style=\REMOVED_SECRETtext-align: right;\REMOVED_SECRET>\nREMOVED_SECRET,
       REMOVED_SECRET      <th></th>\nREMOVED_SECRET,
       REMOVED_SECRET      <th>title</th>\nREMOVED_SECRET,
       REMOVED_SECRET      <th>title_spanish</th>\nREMOVED_SECRET,
       REMOVED_SECRET    </tr>\nREMOVED_SECRET,
       REMOVED_SECRET  </thead>\nREMOVED_SECRET,
       REMOVED_SECRET  <tbody>\nREMOVED_SECRET,
       REMOVED_SECRET    <tr>\nREMOVED_SECRET,
       REMOVED_SECRET      <th>0</th>\nREMOVED_SECRET,
       REMOVED_SECRET      <td>brother genuine high yield toner cartridge tn4...</td>\nREMOVED_SECRET,
       REMOVED_SECRET      <td>hermano genuino cartucho tóner de alto rendimi...</td>\nREMOVED_SECRET,
       REMOVED_SECRET    </tr>\nREMOVED_SECRET,
       REMOVED_SECRET    <tr>\nREMOVED_SECRET,
       REMOVED_SECRET      <th>1</th>\nREMOVED_SECRET,
       REMOVED_SECRET      <td>fitbit inspire 3 health and fitness tracker wi...</td>\nREMOVED_SECRET,
       REMOVED_SECRET      <td>fitbit inspirar 3 seguimiento de salud y fitne...</td>\nREMOVED_SECRET,
       REMOVED_SECRET    </tr>\nREMOVED_SECRET,
       REMOVED_SECRET    <tr>\nREMOVED_SECRET,
       REMOVED_SECRET      <th>2</th>\nREMOVED_SECRET,
       REMOVED_SECRET      <td>mikes hot honey americas 1 brand of hot honey ...</td>\nREMOVED_SECRET,
       REMOVED_SECRET      <td>mikes miel caliente américas 1 marca de miel c...</td>\nREMOVED_SECRET,
       REMOVED_SECRET    </tr>\nREMOVED_SECRET,
       REMOVED_SECRET    <tr>\nREMOVED_SECRET,
       REMOVED_SECRET      <th>3</th>\nREMOVED_SECRET,
       REMOVED_SECRET      <td>krema kréma red fruits 100 recyclable 240g</td>\nREMOVED_SECRET,
       REMOVED_SECRET      <td>krema kréma frutos rojos 100 reciclables 240g</td>\nREMOVED_SECRET,
       REMOVED_SECRET    </tr>\nREMOVED_SECRET,
       REMOVED_SECRET    <tr>\nREMOVED_SECRET,
       REMOVED_SECRET      <th>4</th>\nREMOVED_SECRET,
       REMOVED_SECRET      <td>drsalts calming therapy epsom salts  soothing ...</td>\nREMOVED_SECRET,
       REMOVED_SECRET      <td>drsalts calmante terapia epsom sales calmantes...</td>\nREMOVED_SECRET,
       REMOVED_SECRET    </tr>\nREMOVED_SECRET,
       REMOVED_SECRET    <tr>\nREMOVED_SECRET,
       REMOVED_SECRET      <th>...</th>\nREMOVED_SECRET,
       REMOVED_SECRET      <td>...</td>\nREMOVED_SECRET,
       REMOVED_SECRET      <td>...</td>\nREMOVED_SECRET,
       REMOVED_SECRET    </tr>\nREMOVED_SECRET,
       REMOVED_SECRET    <tr>\nREMOVED_SECRET,
       REMOVED_SECRET      <th>991</th>\nREMOVED_SECRET,
       REMOVED_SECRET      <td>ruimen smart watches for men women answermake ...</td>\nREMOVED_SECRET,
       REMOVED_SECRET      <td>ruimen relojes inteligentes para hombres mujer...</td>\nREMOVED_SECRET,
       REMOVED_SECRET    </tr>\nREMOVED_SECRET,
       REMOVED_SECRET    <tr>\nREMOVED_SECRET,
       REMOVED_SECRET      <th>992</th>\nREMOVED_SECRET,
       REMOVED_SECRET      <td>musicozy sleep headphones bluetooth 54 headban...</td>\nREMOVED_SECRET,
       REMOVED_SECRET      <td>auriculares musicozy sueño bluetooth 54 diadem...</td>\nREMOVED_SECRET,
       REMOVED_SECRET    </tr>\nREMOVED_SECRET,
       REMOVED_SECRET    <tr>\nREMOVED_SECRET,
       REMOVED_SECRET      <th>993</th>\nREMOVED_SECRET,
       REMOVED_SECRET      <td>sun ninja pop up beach tent sun shelter upf50 ...</td>\nREMOVED_SECRET,
       REMOVED_SECRET      <td>sun ninja pop up playa refugio de sol upf50 co...</td>\nREMOVED_SECRET,
       REMOVED_SECRET    </tr>\nREMOVED_SECRET,
       REMOVED_SECRET    <tr>\nREMOVED_SECRET,
       REMOVED_SECRET      <th>994</th>\nREMOVED_SECRET,
       REMOVED_SECRET      <td>rhino usa trailer hitch pin 2 inch patented 58...</td>\nREMOVED_SECRET,
       REMOVED_SECRET      <td>enganche de remolque de rinoceronte usa pin de...</td>\nREMOVED_SECRET,
       REMOVED_SECRET    </tr>\nREMOVED_SECRET,
       REMOVED_SECRET    <tr>\nREMOVED_SECRET,
       REMOVED_SECRET      <th>995</th>\nREMOVED_SECRET,
       REMOVED_SECRET      <td>sun ninja pop up beach tent sun shelter upf50 ...</td>\nREMOVED_SECRET,
       REMOVED_SECRET      <td>sun ninja pop up playa tienda refugio de sol u...</td>\nREMOVED_SECRET,
       REMOVED_SECRET    </tr>\nREMOVED_SECRET,
       REMOVED_SECRET  </tbody>\nREMOVED_SECRET,
       REMOVED_SECRET</table>\nREMOVED_SECRET,
       REMOVED_SECRET<p>996 rows × 2 columns</p>\nREMOVED_SECRET,
       REMOVED_SECRET</div>REMOVED_SECRET
      ],
      REMOVED_SECRETtext/plainREMOVED_SECRET: [
       REMOVED_SECRET                                                 title  \\\nREMOVED_SECRET,
       REMOVED_SECRET0    brother genuine high yield toner cartridge tn4...   \nREMOVED_SECRET,
       REMOVED_SECRET1    fitbit inspire 3 health and fitness tracker wi...   \nREMOVED_SECRET,
       REMOVED_SECRET2    mikes hot honey americas 1 brand of hot honey ...   \nREMOVED_SECRET,
       REMOVED_SECRET3           krema kréma red fruits 100 recyclable 240g   \nREMOVED_SECRET,
       REMOVED_SECRET4    drsalts calming therapy epsom salts  soothing ...   \nREMOVED_SECRET,
       REMOVED_SECRET..                                                 ...   \nREMOVED_SECRET,
       REMOVED_SECRET991  ruimen smart watches for men women answermake ...   \nREMOVED_SECRET,
       REMOVED_SECRET992  musicozy sleep headphones bluetooth 54 headban...   \nREMOVED_SECRET,
       REMOVED_SECRET993  sun ninja pop up beach tent sun shelter upf50 ...   \nREMOVED_SECRET,
       REMOVED_SECRET994  rhino usa trailer hitch pin 2 inch patented 58...   \nREMOVED_SECRET,
       REMOVED_SECRET995  sun ninja pop up beach tent sun shelter upf50 ...   \nREMOVED_SECRET,
       REMOVED_SECRET\nREMOVED_SECRET,
       REMOVED_SECRET                                         title_spanish  \nREMOVED_SECRET,
       REMOVED_SECRET0    hermano genuino cartucho tóner de alto rendimi...  \nREMOVED_SECRET,
       REMOVED_SECRET1    fitbit inspirar 3 seguimiento de salud y fitne...  \nREMOVED_SECRET,
       REMOVED_SECRET2    mikes miel caliente américas 1 marca de miel c...  \nREMOVED_SECRET,
       REMOVED_SECRET3        krema kréma frutos rojos 100 reciclables 240g  \nREMOVED_SECRET,
       REMOVED_SECRET4    drsalts calmante terapia epsom sales calmantes...  \nREMOVED_SECRET,
       REMOVED_SECRET..                                                 ...  \nREMOVED_SECRET,
       REMOVED_SECRET991  ruimen relojes inteligentes para hombres mujer...  \nREMOVED_SECRET,
       REMOVED_SECRET992  auriculares musicozy sueño bluetooth 54 diadem...  \nREMOVED_SECRET,
       REMOVED_SECRET993  sun ninja pop up playa refugio de sol upf50 co...  \nREMOVED_SECRET,
       REMOVED_SECRET994  enganche de remolque de rinoceronte usa pin de...  \nREMOVED_SECRET,
       REMOVED_SECRET995  sun ninja pop up playa tienda refugio de sol u...  \nREMOVED_SECRET,
       REMOVED_SECRET\nREMOVED_SECRET,
       REMOVED_SECRET[996 rows x 2 columns]REMOVED_SECRET
      ]
     },
     REMOVED_SECRETexecution_countREMOVED_SECRET: 25,
     REMOVED_SECRETmetadataREMOVED_SECRET: {},
     REMOVED_SECREToutput_typeREMOVED_SECRET: REMOVED_SECRETexecute_resultREMOVED_SECRET
    }
   ],
   REMOVED_SECRETsourceREMOVED_SECRET: [
    REMOVED_SECRETspanish_df_cleanedREMOVED_SECRET
   ]
  },
  {
   REMOVED_SECRETcell_typeREMOVED_SECRET: REMOVED_SECRETcodeREMOVED_SECRET,
   REMOVED_SECRETexecution_countREMOVED_SECRET: 26,
   REMOVED_SECRETmetadataREMOVED_SECRET: {},
   REMOVED_SECREToutputsREMOVED_SECRET: [
    {
     REMOVED_SECRETdataREMOVED_SECRET: {
      REMOVED_SECRETtext/plainREMOVED_SECRET: [
       REMOVED_SECRET4REMOVED_SECRET
      ]
     },
     REMOVED_SECRETexecution_countREMOVED_SECRET: 26,
     REMOVED_SECRETmetadataREMOVED_SECRET: {},
     REMOVED_SECREToutput_typeREMOVED_SECRET: REMOVED_SECRETexecute_resultREMOVED_SECRET
    }
   ],
   REMOVED_SECRETsourceREMOVED_SECRET: [
    REMOVED_SECRET#Calculate the str length\nREMOVED_SECRET,
    REMOVED_SECRETspanish_title_lengths = spanish_df_cleaned['title'].str.len().describe()\nREMOVED_SECRET,
    REMOVED_SECRETspanish_title_lengths_es = spanish_df_cleaned['title'].str.len().describe()\nREMOVED_SECRET,
    REMOVED_SECRET(spanish_df_cleaned['title'] == spanish_df_cleaned['title_spanish']).sum()\nREMOVED_SECRET
   ]
  },
  {
   REMOVED_SECRETcell_typeREMOVED_SECRET: REMOVED_SECRETmarkdownREMOVED_SECRET,
   REMOVED_SECRETmetadataREMOVED_SECRET: {},
   REMOVED_SECRETsourceREMOVED_SECRET: [
    REMOVED_SECRETBasic Exploratory data analysis of Spanish datasetREMOVED_SECRET
   ]
  },
  {
   REMOVED_SECRETcell_typeREMOVED_SECRET: REMOVED_SECRETcodeREMOVED_SECRET,
   REMOVED_SECRETexecution_countREMOVED_SECRET: 27,
   REMOVED_SECRETmetadataREMOVED_SECRET: {},
   REMOVED_SECREToutputsREMOVED_SECRET: [
    {
     REMOVED_SECRETdataREMOVED_SECRET: {
      REMOVED_SECRETimage/pngREMOVED_SECRET: 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,
      REMOVED_SECRETtext/plainREMOVED_SECRET: [
       REMOVED_SECRET<Figure size 640x480 with 1 Axes>REMOVED_SECRET
      ]
     },
     REMOVED_SECRETmetadataREMOVED_SECRET: {},
     REMOVED_SECREToutput_typeREMOVED_SECRET: REMOVED_SECRETdisplay_dataREMOVED_SECRET
    }
   ],
   REMOVED_SECRETsourceREMOVED_SECRET: [
    REMOVED_SECRETimport matplotlib.pyplot as plt\nREMOVED_SECRET,
    REMOVED_SECRET\nREMOVED_SECRET,
    REMOVED_SECRET\nREMOVED_SECRET,
    REMOVED_SECRETplt.hist(spanish_title_lengths, bins=20)\nREMOVED_SECRET,
    REMOVED_SECRETplt.title(\REMOVED_SECRETDistribution of Word Counts in English Titles\REMOVED_SECRET)\nREMOVED_SECRET,
    REMOVED_SECRETplt.xlabel(\REMOVED_SECRETNumber of Words\REMOVED_SECRET)\nREMOVED_SECRET,
    REMOVED_SECRETplt.ylabel(\REMOVED_SECRETFrequency\REMOVED_SECRET)\nREMOVED_SECRET,
    REMOVED_SECRETplt.show()REMOVED_SECRET
   ]
  },
  {
   REMOVED_SECRETcell_typeREMOVED_SECRET: REMOVED_SECRETcodeREMOVED_SECRET,
   REMOVED_SECRETexecution_countREMOVED_SECRET: 29,
   REMOVED_SECRETmetadataREMOVED_SECRET: {},
   REMOVED_SECREToutputsREMOVED_SECRET: [
    {
     REMOVED_SECRETdataREMOVED_SECRET: {
      REMOVED_SECRETimage/pngREMOVED_SECRET: REMOVED_SECRETiVBORw0KGgoAAAANSUhEUgAAAkAAAAHFCAYAAAAaD0bAAAAAOXRFWHRTb2Z0d2FyZQBNYXRwbG90bGliIHZlcnNpb24zLjkuMiwgaHR0cHM6Ly9tYXRwbG90bGliLm9yZy8hTgPZAAAACXBIWXMAAA9hAAAPYQGoP6dpAABO2ElEQVR4nO3deVhUZf8G8HsAGRBhFJQtFNFwYVERVMAUSMVwSTNT3wwlbfFNE7dKMhdsQdMUzS17UTITsXBNLTHBlTQVUCuXSsVliERlFBMEnt8fXpyf4wDCODDguT/Xda7L85zvPOc5h1luzzKjEEIIEBEREcmIibEHQERERFTTGICIiIhIdhiAiIiISHYYgIiIiEh2GICIiIhIdhiAiIiISHYYgIiIiEh2GICIiIhIdhiAiIiISHYYgEhHfHw8FAqFNFlYWMDR0REhISGIiYlBTk6OzmNmzZoFhUJRpfXcuXMHs2bNQmpqapUeV9a6mjdvjn79+lWpn0dZt24dYmNjy1ymUCgwa9Ysg67P0H766Sf4+fnBysoKCoUCmzdv1qn5559/YGJigv/+9786yyIjI6FQKBAVFaWzbPTo0TA1NcWNGzeqY+iSquznv//+G1OnToW3tzcaNGgACwsLuLu7IzIyEufOnavWcVbWoUOHMGvWLNy8edNgfQYHByM4ONhg/QHA77//jvDwcLRo0QIWFhZo3LgxOnbsiHHjxkGj0Rh0XfpKTU2FQqGo8vuHvu8VERERWu+L5U0RERFljm3Hjh3lPpebN2+OiIiIKo+JHo+ZsQdAtdfq1avRpk0b3Lt3Dzk5OThw4ADmzp2L+fPnIzExET179pRqX3vtNTz33HNV6v/OnTuIjo4GgCq9geuzLn2sW7cOp06dwoQJE3SWpaWlwcXFpdrHoC8hBIYMGYJWrVph69atsLKyQuvWrXXqmjRpAk9PT6SkpOgsS01NhZWVVbnLOnTogEaNGlXL+KvqyJEj6NevH4QQGDduHAICAmBubo4zZ85g7dq16Ny5c7WHtco4dOgQoqOjERERgYYNGxqkz2XLlhmkn1Lp6eno2rUr2rZtixkzZqB58+a4du0aMjMzsX79ekyZMgU2NjYGXac+OnbsiLS0NHh4eNTI+qZPn44xY8ZI88ePH8fYsWPxySefICQkRGpv0qQJmjRpojO2HTt2YOnSpbX+P05ywgBE5fLy8oKfn580/+KLL2LixIl45plnMGjQIJw7dw4ODg4AABcXl2oPBHfu3EH9+vVrZF2P4u/vb9T1P8rVq1dx/fp1vPDCC+jRo0eFtSEhIfj888+RnZ0NR0dHAMD169dx8uRJTJ48GbGxsbh16xasra0BAJcvX8Zff/2FyZMnP/Y4S/+mj0Oj0WDAgAGwsLDAoUOHtJ4bwcHBePPNN/Hdd9897lBrLUMHgNjYWJiYmCA1NVX6mwPA4MGD8eGHH6K2/HykjY1Njb4OW7ZsiZYtW0rzd+/eBQC4u7uXOY7a/h5BPAVGVdSsWTN89tlnuHXrFr744gupvazTUnv27EFwcDDs7OxgaWmJZs2a4cUXX8SdO3dw4cIFNGnSBAAQHR2tdfj4wf6OHz+OwYMHo1GjRtKbT0Wn2zZt2oR27drBwsICLVq0wOLFi7WWl57eu3Dhglb7w4esg4ODsX37dly8eFHr8Hapsk7NnDp1CgMGDECjRo1gYWGBDh064KuvvipzPQkJCZg2bRqcnZ1hY2ODnj174syZM+Xv+AccOHAAPXr0gLW1NerXr4/AwEBs375dWj5r1iwpBLz33ntQKBRo3rx5uf2V/u/1wcP1e/fuhZmZGaZMmQIA2L9/v7Ss9IjQg//rXbVqFdq3bw8LCwvY2trihRdewO+//661noiICDRo0AAnT55EaGgorK2tpXCm0Wjw+uuvw87ODg0aNMBzzz2Hs2fPVmp/fPnll8jOzsann35abjAePHiw1vzWrVsREBCA+vXrw9raGr169UJaWprOeMvab2U9/xQKBcaNG4evv/4abdu2Rf369dG+fXt8//33Wo975513AABubm7Sc6p0v1f0eqnIw6fALly4AIVCgfnz52PBggVwc3NDgwYNEBAQgJ9//rnCvgAgNzcXNjY2aNCgQZnLH9z24OBgeHl5Yf/+/fD394elpSWeeuopTJ8+HcXFxVqPi46ORpcuXWBrawsbGxt07NgRcXFxOoGq9BTVDz/8gI4dO8LS0hJt2rTBqlWrtOrKOs30119/YdiwYXB2doZSqYSDgwN69OiBjIwMne14VP+P4+GxRUREYOnSpQCg9X7y8PvQgzQaDaZMmQI3NzeYm5vjqaeewoQJE5Cfn69V9+2336JLly5QqVSoX78+WrRogVGjRhlsW55kDEBUZX369IGpqSn27dtXbs2FCxfQt29fmJubY9WqVfjhhx8wZ84cWFlZobCwEE5OTvjhhx8A3L+eJC0tDWlpaZg+fbpWP4MGDcLTTz+Nb7/9FitWrKhwXBkZGZgwYQImTpyITZs2ITAwEJGRkZg/f36Vt3HZsmXo2rUrHB0dpbE9/AH5oDNnziAwMBC//vorFi9ejI0bN8LDwwMRERH49NNPderff/99XLx4Ef/73/+wcuVKnDt3Dv3799f50HjY3r178eyzzyIvLw9xcXFISEiAtbU1+vfvj8TERAD3TxFu3LgRAPD2228jLS0NmzZtKrfPoKAgmJiYaJ3qSklJgZ+fHxwcHODr66v1IZOSkgJTU1N069YNABATE4PRo0fD09MTGzduxKJFi3DixAkEBAToXHtTWFiI559/Hs8++yy2bNmC6OhoCCEwcOBAfP3115g8eTI2bdoEf39/hIWFVbgvSu3atQumpqbo379/perXrVuHAQMGwMbGBgkJCYiLi8ONGzcQHByMAwcOVKqPsmzfvh1LlizB7NmzkZSUJAXBv/76C8D9v8vbb78NANi4caP0nOrYseMjXy/6WLp0KZKTkxEbG4tvvvkG+fn56NOnD/Ly8ip8XEBAANRqNYYPH469e/fi33//rbA+Ozsbw4YNw/Dhw7FlyxYMHjwYH330ESIjI7XqLly4gDfffBMbNmzAxo0bMWjQILz99tv48MMPdfrMzMzE5MmTMXHiRGzZsgXt2rXD6NGjK3zPAe6/Nx07dgyffvopkpOTsXz5cvj4+Ohcc6Vv//qaPn26FMIffD9xcnIqs/7OnTsICgrCV199hfHjx2Pnzp147733EB8fj+eff14KjWlpaRg6dChatGiB9evXY/v27ZgxYwaKioqqZTueOILoIatXrxYAxC+//FJujYODg2jbtq00P3PmTPHg0+m7774TAERGRka5ffzzzz8CgJg5c6bOstL+ZsyYUe6yB7m6ugqFQqGzvl69egkbGxuRn5+vtW3nz5/XqktJSREAREpKitTWt29f4erqWubYHx73sGHDhFKpFFlZWVp1YWFhon79+uLmzZta6+nTp49W3YYNGwQAkZaWVub6Svn7+wt7e3tx69Ytqa2oqEh4eXkJFxcXUVJSIoQQ4vz58wKAmDdvXoX9lerQoYNo1aqVNO/t7S2mTp0qhBDi3XffFX5+ftIyNzc30blzZyGEEDdu3BCWlpY625OVlSWUSqV4+eWXpbaRI0cKAGLVqlVatTt37hQAxKJFi7TaP/7443KfHw9q06aNcHR0rNR2FhcXC2dnZ+Ht7S2Ki4ul9lu3bgl7e3sRGBioNd6y/v5lPf8ACAcHB6HRaKS27OxsYWJiImJiYqS2efPmlfn8q8zrpTxBQUEiKChImi/923t7e4uioiKp/ciRIwKASEhIqLC/u3fvioEDBwoAAoAwNTUVPj4+Ytq0aSInJ0dn3QDEli1btNpff/11YWJiIi5evFjmOoqLi8W9e/fE7NmzhZ2dnfS8FeL+a9nCwkLrsf/++6+wtbUVb775ptT28Gv22rVrAoCIjY2tcPsq2/+jlK7/22+/LXfZg+8nY8eO1XnePDimkSNHSvMxMTHCxMRE5z249HmyY8cOIYQQ8+fPFwCk9xeqGh4BIr2IR1wH0KFDB5ibm+ONN97AV199Jf0vuKpefPHFStd6enqiffv2Wm0vv/wyNBoNjh8/rtf6K2vPnj3o0aMHmjZtqtUeERGBO3fu6Bw9ev7557Xm27VrBwC4ePFiuevIz8/H4cOHMXjwYK3TE6ampggPD8fly5crfRrtYSEhITh79iyuXr2K3NxcnDp1SjqtEhQUhPT0dOTl5SErKwvnz5+XTn+lpaXh33//1bmDpWnTpnj22Wfx008/6azr4b9p6ZGn4cOHa7W//PLLem1LRc6cOYOrV68iPDwcJib///bXoEEDvPjii/j5558fecqpPCEhIVrXzDg4OMDe3r7Cv2kpQ71eHtS3b1+YmppK85V5jgGAUqnEpk2b8Ntvv2HhwoUYNmwY/vnnH3z88cdo27atznPM2tpa5/n88ssvo6SkROuIyp49e9CzZ0+oVCqYmpqiXr16mDFjBnJzc3XuLO3QoQOaNWsmzVtYWKBVq1YVjt3W1hYtW7bEvHnzsGDBAqSnp6OkpKTMWn36r0nff/89vLy80KFDBxQVFUlT7969tU6tderUCQAwZMgQbNiwAVeuXDHiqOseBiCqsvz8fOTm5sLZ2bncmpYtW2L37t2wt7fH2LFjpQsIFy1aVKV1lXeIuCylF/CW1Zabm1ul9VZVbm5umWMt3UcPr9/Ozk5rXqlUAkCFpxtu3LgBIUSV1lNZD14HlJqaClNTU3Tt2hUA8MwzzwC4fx3Qw9f/lK6vvDE9PJ769evr3EGUm5sLMzMznX1S1t+zLM2aNcM///yjc21EWR413pKSEr3vFnt4/MD9v+ujTiEBhnu9VDSeyjzHHtS2bVtMmDABa9euRVZWFhYsWIDc3Fyd09SlN0I86OHX3ZEjRxAaGgrg/jVbBw8exC+//IJp06aVOSZ99qVCocBPP/2E3r1749NPP0XHjh3RpEkTjB8/Hrdu3Xrs/mvS33//jRMnTqBevXpak7W1NYQQuHbtGgCge/fu2Lx5M4qKijBixAi4uLjAy8sLCQkJRt6CuoF3gVGVbd++HcXFxY+8db1bt27o1q0biouLcfToUXz++eeYMGECHBwcMGzYsEqtqyrfLZSdnV1uW+kbnoWFBQCgoKBAq670DUVfdnZ2UKvVOu1Xr14FADRu3Pix+geARo0awcTEpFrW0717d5iamiI1NRVKpRIdO3aUjjLZ2NigQ4cOSElJwfXr12FmZiaFo9L9Wt6YHh5PWX9POzs7FBUVITc3V+uDqay/Z1l69+6NXbt2Ydu2bY98Xj1qvCYmJtKt/RYWFjrPE+DxnyvlMcTrpbooFApMnDgRs2fPxqlTp7SW/f333zr1D7/u1q9fj3r16uH777+XXoMAyvxuqsfh6uqKuLg4AMDZs2exYcMGzJo1C4WFhY+8hrA2ady4MSwtLcu9MPvB19WAAQMwYMAAFBQU4Oeff0ZMTAxefvllNG/eHAEBATU15DqJR4CoSrKysjBlyhSoVCq8+eablXqMqakpunTpIt0FUXo6qqr/I32UX3/9FZmZmVpt69atg7W1NTp27AgA0l09J06c0KrbunWrTn9V+R9hjx49sGfPHimIlFqzZg3q169vkFtirays0KVLF2zcuFFrXCUlJVi7di1cXFzQqlUrvfpWqVTw8fGRjgA9HG6DgoKQkpKC1NRUdO7cWQpHAQEBsLS0xNq1a7XqL1++LJ0WfJTSo0nffPONVvu6desqNfbRo0fD0dER7777brmnAEovCm/dujWeeuoprFu3Tus0bn5+PpKSkqQ7w4D7z5WcnBytD/jCwkL8+OOPlRpXWSrznC/v9VJTygqHwP2AqNFodI783rp1S+f1s27dOpiYmKB79+4A7gcoMzMzrVNy//77L77++msDj/7/tWrVCh988AG8vb1rfB+WpSrvd/369cOff/4JOzs7+Pn56Uxl3Z2oVCoRFBSEuXPnArj/fU5UMR4BonKdOnVKOveck5OD/fv3Y/Xq1TA1NcWmTZuk29jLsmLFCuzZswd9+/ZFs2bNcPfuXel/M6VfoGhtbQ1XV1ds2bIFPXr0gK2tLRo3blzhLdsVcXZ2xvPPP49Zs2bByckJa9euRXJyMubOnSt9qHXq1AmtW7fGlClTUFRUhEaNGmHTpk1l3v3j7e2NjRs3Yvny5fD19YWJiYnW9yI9aObMmfj+++8REhKCGTNmwNbWFt988w22b9+OTz/9FCqVSq9telhMTAx69eqFkJAQTJkyBebm5li2bBlOnTqFhISEKn8b94NCQkIwb948KBQK6U20VFBQEBYuXAghhNa1Og0bNsT06dPx/vvvY8SIEfjPf/6D3NxcREdHw8LCAjNnznzkekNDQ9G9e3e8++67yM/Ph5+fHw4ePFjpD0eVSoUtW7agX79+8PHx0foixHPnzmHt2rXIzMzEoEGDYGJigk8//RTDhw9Hv3798Oabb6KgoADz5s3DzZs3MWfOHKnfoUOHYsaMGRg2bBjeeecd3L17F4sXL37knXoV8fb2BgAsWrQII0eORL169dC6dWt88803j3y91JQ33ngDN2/exIsvvggvLy+Ympri9OnTWLhwIUxMTPDee+9p1dvZ2eG///0vsrKy0KpVK+zYsQNffvkl/vvf/0rX2fTt2xcLFizAyy+/jDfeeAO5ubmYP3++FAoM4cSJExg3bhxeeukluLu7w9zcHHv27MGJEycwdepUg61HX6V/+7lz5yIsLAympqZo164dzM3NdWonTJiApKQkdO/eHRMnTkS7du1QUlKCrKws7Nq1C5MnT0aXLl0wY8YMXL58GT169ICLiwtu3ryJRYsWoV69eggKCqrpTax7jHoJNtVKpXdKlU7m5ubC3t5eBAUFiU8++UTnThAhdO+MSUtLEy+88IJwdXUVSqVS2NnZiaCgILF161atx+3evVv4+PgIpVIpAEh3QpT2988//zxyXULcv4uib9++4rvvvhOenp7C3NxcNG/eXCxYsEDn8WfPnhWhoaHCxsZGNGnSRLz99tti+/btOndtXL9+XQwePFg0bNhQKBQKrXWijLuTTp48Kfr37y9UKpUwNzcX7du3F6tXr9aqKe/OkdI7dx6uL8v+/fvFs88+K6ysrISlpaXw9/cX27ZtK7O/yt4FJoQQO3bskO76ycvL01p2/fp1YWJiIgCI5ORkncf+73//E+3atRPm5uZCpVKJAQMGiF9//VWrZuTIkcLKyqrMdd+8eVOMGjVKNGzYUNSvX1/06tVLnD59ulJ3gZXKzs4W7733nvD09BT169cXSqVSPP300+LNN98UJ0+e1KrdvHmz6NKli7CwsBBWVlaiR48e4uDBg2Xukw4dOghLS0vRokULsWTJknLvAhs7dqzO4x++u0cIIaKiooSzs7O0P1NSUir9eilLeXeBlfW3r8z+/PHHH8WoUaOEh4eHUKlUwszMTDg5OYlBgwbp3KUYFBQkPD09RWpqqvDz8xNKpVI4OTmJ999/X9y7d0+rdtWqVaJ169ZCqVSKFi1aiJiYGBEXF6dzV1zpa/lR2/nwnVZ///23iIiIEG3atBFWVlaiQYMGol27dmLhwoVad8NVtv9HqepdYAUFBeK1114TTZo0kd5PSre7rOfJ7du3xQcffCBat24tva68vb3FxIkTRXZ2thBCiO+//16EhYWJp556Snqf7tOnj9i/f3+lt0POFELUkq/1JCKiOiU4OBjXrl3TuS6IqC7gNUBEREQkOwxAREREJDs8BUZERESywyNAREREJDsMQERERCQ7DEBEREQkO/wixDKUlJTg6tWrsLa2fqwvliMiIqKaI4TArVu34OzsrPWDx2VhACrD1atXdX7Vm4iIiOqGS5cuwcXFpcIaBqAyWFtbA7i/Ax/+5WoiIiKqnTQaDZo2bSp9jleEAagMpae9bGxsGICIiIjqmMpcvsKLoImIiEh2GICIiIhIdhiAiIiISHYYgIiIiEh2GICIiIhIdhiAiIiISHYYgIiIiEh2GICIiIhIdhiAiIiISHYYgIiIiEh2jBqAYmJi0KlTJ1hbW8Pe3h4DBw7EmTNnHvm4vXv3wtfXFxYWFmjRogVWrFihU5OUlAQPDw8olUp4eHhg06ZN1bEJREREVAcZNQDt3bsXY8eOxc8//4zk5GQUFRUhNDQU+fn55T7m/Pnz6NOnD7p164b09HS8//77GD9+PJKSkqSatLQ0DB06FOHh4cjMzER4eDiGDBmCw4cP18RmERERUS2nEEIIYw+i1D///AN7e3vs3bsX3bt3L7Pmvffew9atW/H7779LbWPGjEFmZibS0tIAAEOHDoVGo8HOnTulmueeew6NGjVCQkLCI8eh0WigUqmQl5fHH0MlIiKqI6ry+V2rrgHKy8sDANja2pZbk5aWhtDQUK223r174+jRo7h3716FNYcOHTLwiImIiKguMjP2AEoJITBp0iQ888wz8PLyKrcuOzsbDg4OWm0ODg4oKirCtWvX4OTkVG5NdnZ2mX0WFBSgoKBAmtdoNI+xJURERFTb1ZoANG7cOJw4cQIHDhx4ZK1CodCaLz2L92B7WTUPt5WKiYlBdHR0VYest+ZTt1dLvxfm9K2WfoHqG3N1qs79QUREdVutOAX29ttvY+vWrUhJSYGLi0uFtY6OjjpHcnJycmBmZgY7O7sKax4+KlQqKioKeXl50nTp0qXH2BoiIiKq7YwagIQQGDduHDZu3Ig9e/bAzc3tkY8JCAhAcnKyVtuuXbvg5+eHevXqVVgTGBhYZp9KpRI2NjZaExERET25jBqAxo4di7Vr12LdunWwtrZGdnY2srOz8e+//0o1UVFRGDFihDQ/ZswYXLx4EZMmTcLvv/+OVatWIS4uDlOmTJFqIiMjsWvXLsydOxenT5/G3LlzsXv3bkyYMKEmN4+IiIhqKaMGoOXLlyMvLw/BwcFwcnKSpsTERKlGrVYjKytLmndzc8OOHTuQmpqKDh064MMPP8TixYvx4osvSjWBgYFYv349Vq9ejXbt2iE+Ph6JiYno0qVLjW4fERER1U5GvQi6Ml9BFB8fr9MWFBSE48ePV/i4wYMHY/DgwfoOjYiIiJ5gteIiaCIiIqKaxABEREREssMARERERLLDAERERESywwBEREREssMARERERLLDAERERESywwBEREREssMARERERLLDAERERESywwBEREREssMARERERLLDAERERESywwBEREREssMARERERLLDAERERESywwBEREREssMARERERLLDAERERESywwBEREREssMARERERLLDAERERESywwBEREREssMARERERLLDAERERESywwBEREREssMARERERLLDAERERESywwBEREREssMARERERLLDAERERESywwBEREREssMARERERLJj1AC0b98+9O/fH87OzlAoFNi8eXOF9REREVAoFDqTp6enVBMfH19mzd27d6t5a4iIiKiuMGoAys/PR/v27bFkyZJK1S9atAhqtVqaLl26BFtbW7z00ktadTY2Nlp1arUaFhYW1bEJREREVAeZGXPlYWFhCAsLq3S9SqWCSqWS5jdv3owbN27g1Vdf1apTKBRwdHQ02DiJiIjoyVKnrwGKi4tDz5494erqqtV++/ZtuLq6wsXFBf369UN6erqRRkhERES1kVGPAD0OtVqNnTt3Yt26dVrtbdq0QXx8PLy9vaHRaLBo0SJ07doVmZmZcHd3L7OvgoICFBQUSPMajaZax05ERETGVWePAMXHx6Nhw4YYOHCgVru/vz9eeeUVtG/fHt26dcOGDRvQqlUrfP755+X2FRMTI51eU6lUaNq0aTWPnoiIiIypTgYgIQRWrVqF8PBwmJubV1hrYmKCTp064dy5c+XWREVFIS8vT5ouXbpk6CETERFRLVInT4Ht3bsXf/zxB0aPHv3IWiEEMjIy4O3tXW6NUqmEUqk05BCJiIioFjNqALp9+zb++OMPaf78+fPIyMiAra0tmjVrhqioKFy5cgVr1qzRelxcXBy6dOkCLy8vnT6jo6Ph7+8Pd3d3aDQaLF68GBkZGVi6dGm1bw8RERHVDUYNQEePHkVISIg0P2nSJADAyJEjER8fD7VajaysLK3H5OXlISkpCYsWLSqzz5s3b+KNN95AdnY2VCoVfHx8sG/fPnTu3Ln6NoSIiIjqFKMGoODgYAghyl0eHx+v06ZSqXDnzp1yH7Nw4UIsXLjQEMMjIiKiJ1SdvAiaiIiI6HEwABEREZHsMAARERGR7DAAERERkewwABEREZHsMAARERGR7DAAERERkewwABEREZHsMAARERGR7DAAERERkewwABEREZHsMAARERGR7DAAERERkewwABEREZHsMAARERGR7DAAERERkewwABEREZHsMAARERGR7DAAERERkewwABEREZHsMAARERGR7DAAERERkewwABEREZHsMAARERGR7DAAERERkewwABEREZHsMAARERGR7DAAERERkewwABEREZHsMAARERGR7DAAERERkewwABEREZHsMAARERGR7Bg1AO3btw/9+/eHs7MzFAoFNm/eXGF9amoqFAqFznT69GmtuqSkJHh4eECpVMLDwwObNm2qxq0gIiKiusaoASg/Px/t27fHkiVLqvS4M2fOQK1WS5O7u7u0LC0tDUOHDkV4eDgyMzMRHh6OIUOG4PDhw4YePhEREdVRZsZceVhYGMLCwqr8OHt7ezRs2LDMZbGxsejVqxeioqIAAFFRUdi7dy9iY2ORkJDwOMMlIiKiJ0SdvAbIx8cHTk5O6NGjB1JSUrSWpaWlITQ0VKutd+/eOHToUE0OkYiIiGoxox4BqionJyesXLkSvr6+KCgowNdff40ePXogNTUV3bt3BwBkZ2fDwcFB63EODg7Izs4ut9+CggIUFBRI8xqNpno2gIiIiGqFOhWAWrdujdatW0vzAQEBuHTpEubPny8FIABQKBRajxNC6LQ9KCYmBtHR0YYfMBEREdVKdfIU2IP8/f1x7tw5ad7R0VHnaE9OTo7OUaEHRUVFIS8vT5ouXbpUbeMlIiIi46vzASg9PR1OTk7SfEBAAJKTk7Vqdu3ahcDAwHL7UCqVsLGx0ZqIiIjoyWXUU2C3b9/GH3/8Ic2fP38eGRkZsLW1RbNmzRAVFYUrV65gzZo1AO7f4dW8eXN4enqisLAQa9euRVJSEpKSkqQ+IiMj0b17d8ydOxcDBgzAli1bsHv3bhw4cKDGt4+IiIhqJ6MGoKNHjyIkJESanzRpEgBg5MiRiI+Ph1qtRlZWlrS8sLAQU6ZMwZUrV2BpaQlPT09s374dffr0kWoCAwOxfv16fPDBB5g+fTpatmyJxMREdOnSpeY2jIiIiGo1hRBCGHsQtY1Go4FKpUJeXl61nA5rPnW7wfsEgAtz+lZLv0D1jbk6Vef+ICKi2qcqn991/hogIiIioqpiACIiIiLZYQAiIiIi2WEAIiIiItlhACIiIiLZYQAiIiIi2WEAIiIiItlhACIiIiLZYQAiIiIi2WEAIiIiItlhACIiIiLZYQAiIiIi2WEAIiIiItlhACIiIiLZYQAiIiIi2WEAIiIiItlhACIiIiLZYQAiIiIi2WEAIiIiItlhACIiIiLZYQAiIiIi2WEAIiIiItlhACIiIiLZYQAiIiIi2WEAIiIiItlhACIiIiLZYQAiIiIi2WEAIiIiItlhACIiIiLZYQAiIiIi2WEAIiIiItlhACIiIiLZYQAiIiIi2TFqANq3bx/69+8PZ2dnKBQKbN68ucL6jRs3olevXmjSpAlsbGwQEBCAH3/8UasmPj4eCoVCZ7p79241bgkRERHVJUYNQPn5+Wjfvj2WLFlSqfp9+/ahV69e2LFjB44dO4aQkBD0798f6enpWnU2NjZQq9Vak4WFRXVsAhEREdVBZsZceVhYGMLCwipdHxsbqzX/ySefYMuWLdi2bRt8fHykdoVCAUdHR0MNk4iIiJ4wdfoaoJKSEty6dQu2trZa7bdv34arqytcXFzQr18/nSNEREREJG91OgB99tlnyM/Px5AhQ6S2Nm3aID4+Hlu3bkVCQgIsLCzQtWtXnDt3rtx+CgoKoNFotCYiIiJ6chn1FNjjSEhIwKxZs7BlyxbY29tL7f7+/vD395fmu3btio4dO+Lzzz/H4sWLy+wrJiYG0dHR1T5mIiIiqh3q5BGgxMREjB49Ghs2bEDPnj0rrDUxMUGnTp0qPAIUFRWFvLw8abp06ZKhh0xERES1iF4B6Pz584YeR6UlJCQgIiIC69atQ9++fR9ZL4RARkYGnJycyq1RKpWwsbHRmoiIiOjJpVcAevrppxESEoK1a9c+1vfr3L59GxkZGcjIyABwP1hlZGQgKysLwP0jMyNGjJDqExISMGLECHz22Wfw9/dHdnY2srOzkZeXJ9VER0fjxx9/xF9//YWMjAyMHj0aGRkZGDNmjN7jJCIioieLXgEoMzMTPj4+mDx5MhwdHfHmm2/iyJEjVe7n6NGj8PHxkW5hnzRpEnx8fDBjxgwAgFqtlsIQAHzxxRcoKirC2LFj4eTkJE2RkZFSzc2bN/HGG2+gbdu2CA0NxZUrV7Bv3z507txZn00lIiKiJ5BCCCH0fXBRURG2bduG+Ph47Ny5E+7u7hg9ejTCw8PRpEkTQ46zRmk0GqhUKuTl5VXL6bDmU7cbvE8AuDDn0acE9VVdY65O1bk/iIio9qnK5/djXQRtZmaGF154ARs2bMDcuXPx559/YsqUKXBxccGIESOgVqsfp3siIiKiavFYAejo0aN466234OTkhAULFmDKlCn4888/sWfPHly5cgUDBgww1DiJiIiIDEav7wFasGABVq9ejTNnzqBPnz5Ys2YN+vTpAxOT+3nKzc0NX3zxBdq0aWPQwRIREREZgl4BaPny5Rg1ahReffXVcn9zq1mzZoiLi3uswRERERFVB70CUEVfKljK3NwcI0eO1Kd7IiIiomql1zVAq1evxrfffqvT/u233+Krr7567EERERERVSe9AtCcOXPQuHFjnXZ7e3t88sknjz0oIiIiouqkVwC6ePEi3NzcdNpdXV21vriQiIiIqDbSKwDZ29vjxIkTOu2ZmZmws7N77EERERERVSe9AtCwYcMwfvx4pKSkoLi4GMXFxdizZw8iIyMxbNgwQ4+RiIiIyKD0ugvso48+wsWLF9GjRw+Ymd3voqSkBCNGjOA1QERERFTr6RWAzM3NkZiYiA8//BCZmZmwtLSEt7c3XF1dDT0+IiIiIoPTKwCVatWqFVq1amWosRARERHVCL0CUHFxMeLj4/HTTz8hJycHJSUlWsv37NljkMERERERVQe9AlBkZCTi4+PRt29feHl5QaFQGHpcRERERNVGrwC0fv16bNiwAX369DH0eIiIiIiqnV63wZubm+Ppp5829FiIiIiIaoReAWjy5MlYtGgRhBCGHg8RERFRtdPrFNiBAweQkpKCnTt3wtPTE/Xq1dNavnHjRoMMjoiIiKg66BWAGjZsiBdeeMHQYyEiIiKqEXoFoNWrVxt6HEREREQ1Rq9rgACgqKgIu3fvxhdffIFbt24BAK5evYrbt28bbHBERERE1UGvI0AXL17Ec889h6ysLBQUFKBXr16wtrbGp59+irt372LFihWGHicRERGRweh1BCgyMhJ+fn64ceMGLC0tpfYXXngBP/30k8EGR0RERFQd9L4L7ODBgzA3N9dqd3V1xZUrVwwyMCIiIqLqotcRoJKSEhQXF+u0X758GdbW1o89KCIiIqLqpFcA6tWrF2JjY6V5hUKB27dvY+bMmfx5DCIiIqr19DoFtnDhQoSEhMDDwwN3797Fyy+/jHPnzqFx48ZISEgw9BiJiIiIDEqvAOTs7IyMjAwkJCTg+PHjKCkpwejRozF8+HCti6KJiIiIaiO9AhAAWFpaYtSoURg1apQhx0NERERU7fQKQGvWrKlw+YgRI/QaDBEREVFN0CsARUZGas3fu3cPd+7cgbm5OerXr88ARERERLWaXneB3bhxQ2u6ffs2zpw5g2eeeYYXQRMREVGtp/dvgT3M3d0dc+bM0Tk6VJF9+/ahf//+cHZ2hkKhwObNmx/5mL1798LX1xcWFhZo0aJFmT+7kZSUBA8PDyiVSnh4eGDTpk1V2RQiIiJ6whksAAGAqakprl69Wun6/Px8tG/fHkuWLKlU/fnz59GnTx9069YN6enpeP/99zF+/HgkJSVJNWlpaRg6dCjCw8ORmZmJ8PBwDBkyBIcPH67y9hAREdGTSa9rgLZu3ao1L4SAWq3GkiVL0LVr10r3ExYWhrCwsErXr1ixAs2aNZO+hLFt27Y4evQo5s+fjxdffBEAEBsbi169eiEqKgoAEBUVhb179yI2Npan54iIiAiAngFo4MCBWvMKhQJNmjTBs88+i88++8wQ4ypTWloaQkNDtdp69+6NuLg43Lt3D/Xq1UNaWhomTpyoU/PgN1cTERGRvOkVgEpKSgw9jkrJzs6Gg4ODVpuDgwOKiopw7do1ODk5lVuTnZ1dbr8FBQUoKCiQ5jUajWEHTkRERLWK3l+EaCwKhUJrXgih015WzcNtD4qJiUF0dLQBR2kczaduN/YQiIjoCVKdnysX5vSttr4rQ68ANGnSpErXLliwQJ9VlMnR0VHnSE5OTg7MzMxgZ2dXYc3DR4UeFBUVpbVNGo0GTZs2Ndi4iYiIqHbRKwClp6fj+PHjKCoqQuvWrQEAZ8+ehampKTp27CjVVXTURR8BAQHYtm2bVtuuXbvg5+eHevXqSTXJycla1wHt2rULgYGB5farVCqhVCoNOlYiIiKqvfQKQP3794e1tTW++uorNGrUCMD9L0d89dVX0a1bN0yePLlS/dy+fRt//PGHNH/+/HlkZGTA1tYWzZo1Q1RUFK5cuSL99MaYMWOwZMkSTJo0Ca+//jrS0tIQFxendXdXZGQkunfvjrlz52LAgAHYsmULdu/ejQMHDuizqURERPQE0ut7gD777DPExMRI4QcAGjVqhI8++qhKd4EdPXoUPj4+8PHxAXD/1JqPjw9mzJgBAFCr1cjKypLq3dzcsGPHDqSmpqJDhw748MMPsXjxYukWeAAIDAzE+vXrsXr1arRr1w7x8fFITExEly5d9NlUIiIiegLpdQRIo9Hg77//hqenp1Z7Tk4Obt26Vel+goODpYuYyxIfH6/TFhQUhOPHj1fY7+DBgzF48OBKj4OIiIjkRa8jQC+88AJeffVVfPfdd7h8+TIuX76M7777DqNHj8agQYMMPUYiIiIig9LrCNCKFSswZcoUvPLKK7h37979jszMMHr0aMybN8+gAyQiIiIyNL0CUP369bFs2TLMmzcPf/75J4QQePrpp2FlZWXo8REREREZ3GP9GKparYZarUarVq1gZWVV4fU8RERERLWFXgEoNzcXPXr0QKtWrdCnTx+o1WoAwGuvvVbpW+CJiIiIjEWvADRx4kTUq1cPWVlZqF+/vtQ+dOhQ/PDDDwYbHBEREVF10OsaoF27duHHH3+Ei4uLVru7uzsuXrxokIERERERVRe9jgDl5+drHfkpde3aNf6kBBEREdV6egWg7t27Sz9PAdz/za+SkhLMmzcPISEhBhscERERUXXQ6xTYvHnzEBwcjKNHj6KwsBDvvvsufv31V1y/fh0HDx409BiJiIiIDEqvI0AeHh44ceIEOnfujF69eiE/Px+DBg1Ceno6WrZsaegxEhERERlUlY8A3bt3D6Ghofjiiy8QHR1dHWMiIiIiqlZVPgJUr149nDp1CgqFojrGQ0RERFTt9DoFNmLECMTFxRl6LEREREQ1Qq+LoAsLC/G///0PycnJ8PPz0/kNsAULFhhkcERERETVoUoB6K+//kLz5s1x6tQpdOzYEQBw9uxZrRqeGiMiIqLarkoByN3dHWq1GikpKQDu//TF4sWL4eDgUC2DIyIiIqoOVboG6OFfe9+5cyfy8/MNOiAiIiKi6qbXRdClHg5ERERERHVBlQKQQqHQucaH1/wQERFRXVOla4CEEIiIiJB+8PTu3bsYM2aMzl1gGzduNNwIiYiIiAysSgFo5MiRWvOvvPKKQQdDREREVBOqFIBWr15dXeMgIiIiqjGPdRE0ERERUV3EAERERESywwBEREREssMARERERLLDAERERESywwBEREREssMARERERLLDAERERESywwBEREREssMARERERLJj9AC0bNkyuLm5wcLCAr6+vti/f3+5tREREdIv0j84eXp6SjXx8fFl1ty9e7cmNoeIiIjqAKMGoMTEREyYMAHTpk1Deno6unXrhrCwMGRlZZVZv2jRIqjVamm6dOkSbG1t8dJLL2nV2djYaNWp1WpYWFjUxCYRERFRHWDUALRgwQKMHj0ar732Gtq2bYvY2Fg0bdoUy5cvL7NepVLB0dFRmo4ePYobN27g1Vdf1apTKBRadY6OjjWxOURERFRHGC0AFRYW4tixYwgNDdVqDw0NxaFDhyrVR1xcHHr27AlXV1et9tu3b8PV1RUuLi7o168f0tPTDTZuIiIiqvvMjLXia9euobi4GA4ODlrtDg4OyM7OfuTj1Wo1du7ciXXr1mm1t2nTBvHx8fD29oZGo8GiRYvQtWtXZGZmwt3dvcy+CgoKUFBQIM1rNBo9toiIiIjqCqNfBK1QKLTmhRA6bWWJj49Hw4YNMXDgQK12f39/vPLKK2jfvj26deuGDRs2oFWrVvj888/L7SsmJgYqlUqamjZtqte2EBERUd1gtADUuHFjmJqa6hztycnJ0Tkq9DAhBFatWoXw8HCYm5tXWGtiYoJOnTrh3Llz5dZERUUhLy9Pmi5dulT5DSEiIqI6x2gByNzcHL6+vkhOTtZqT05ORmBgYIWP3bt3L/744w+MHj36kesRQiAjIwNOTk7l1iiVStjY2GhNRERE9OQy2jVAADBp0iSEh4fDz88PAQEBWLlyJbKysjBmzBgA94/MXLlyBWvWrNF6XFxcHLp06QIvLy+dPqOjo+Hv7w93d3doNBosXrwYGRkZWLp0aY1sExEREdV+Rg1AQ4cORW5uLmbPng21Wg0vLy/s2LFDuqtLrVbrfCdQXl4ekpKSsGjRojL7vHnzJt544w1kZ2dDpVLBx8cH+/btQ+fOnat9e4iIiKhuUAghhLEHUdtoNBqoVCrk5eVVy+mw5lO3G7xP0nVhTl9jD4GIqE6rzs+r6niPrsrnt9HvAiMiIiKqaQxAREREJDsMQERERCQ7DEBEREQkOwxAREREJDsMQERERCQ7DEBEREQkOwxAREREJDsMQERERCQ7DEBEREQkOwxAREREJDsMQERERCQ7DEBEREQkOwxAREREJDsMQERERCQ7DEBEREQkOwxAREREJDsMQERERCQ7DEBEREQkOwxAREREJDsMQERERCQ7DEBEREQkOwxAREREJDsMQERERCQ7DEBEREQkOwxAREREJDsMQERERCQ7DEBEREQkOwxAREREJDsMQERERCQ7DEBEREQkOwxAREREJDsMQERERCQ7Rg9Ay5Ytg5ubGywsLODr64v9+/eXW5uamgqFQqEznT59WqsuKSkJHh4eUCqV8PDwwKZNm6p7M4iIiKgOMWoASkxMxIQJEzBt2jSkp6ejW7duCAsLQ1ZWVoWPO3PmDNRqtTS5u7tLy9LS0jB06FCEh4cjMzMT4eHhGDJkCA4fPlzdm0NERER1hFED0IIFCzB69Gi89tpraNu2LWJjY9G0aVMsX768wsfZ29vD0dFRmkxNTaVlsbGx6NWrF6KiotCmTRtERUWhR48eiI2NreatISIiorrCaAGosLAQx44dQ2hoqFZ7aGgoDh06VOFjfXx84OTkhB49eiAlJUVrWVpamk6fvXv3fmSfREREJB9mxlrxtWvXUFxcDAcHB612BwcHZGdnl/kYJycnrFy5Er6+vigoKMDXX3+NHj16IDU1Fd27dwcAZGdnV6lPACgoKEBBQYE0r9Fo9N0sIiIiqgOMFoBKKRQKrXkhhE5bqdatW6N169bSfEBAAC5duoT58+dLAaiqfQJATEwMoqOj9Rk+ERER1UFGOwXWuHFjmJqa6hyZycnJ0TmCUxF/f3+cO3dOmnd0dKxyn1FRUcjLy5OmS5cuVXr9REREVPcYLQCZm5vD19cXycnJWu3JyckIDAysdD/p6elwcnKS5gMCAnT63LVrV4V9KpVK2NjYaE1ERET05DLqKbBJkyYhPDwcfn5+CAgIwMqVK5GVlYUxY8YAuH9k5sqVK1izZg2A+3d4NW/eHJ6enigsLMTatWuRlJSEpKQkqc/IyEh0794dc+fOxYABA7Blyxbs3r0bBw4cMMo2EhERUe1j1AA0dOhQ5ObmYvbs2VCr1fDy8sKOHTvg6uoKAFCr1VrfCVRYWIgpU6bgypUrsLS0hKenJ7Zv344+ffpINYGBgVi/fj0++OADTJ8+HS1btkRiYiK6dOlS49tHREREtZNCCCGMPYjaRqPRQKVSIS8vr1pOhzWfut3gfZKuC3P6GnsIRER1WnV+XlXHe3RVPr+N/lMYRERERDWNAYiIiIhkhwGIiIiIZIcBiIiIiGSHAYiIiIhkhwGIiIiIZIcBiIiIiGSHAYiIiIhkhwGIiIiIZIcBiIiIiGSHAYiIiIhkhwGIiIiIZIcBiIiIiGSHAYiIiIhkhwGIiIiIZIcBiIiIiGSHAYiIiIhkhwGIiIiIZIcBiIiIiGSHAYiIiIhkhwGIiIiIZIcBiIiIiGSHAYiIiIhkhwGIiIiIZIcBiIiIiGSHAYiIiIhkhwGIiIiIZIcBiIiIiGSHAYiIiIhkhwGIiIiIZIcBiIiIiGSHAYiIiIhkhwGIiIiIZMfoAWjZsmVwc3ODhYUFfH19sX///nJrN27ciF69eqFJkyawsbFBQEAAfvzxR62a+Ph4KBQKnenu3bvVvSlERERURxg1ACUmJmLChAmYNm0a0tPT0a1bN4SFhSErK6vM+n379qFXr17YsWMHjh07hpCQEPTv3x/p6eladTY2NlCr1VqThYVFTWwSERER1QFmxlz5ggULMHr0aLz22msAgNjYWPz4449Yvnw5YmJidOpjY2O15j/55BNs2bIF27Ztg4+Pj9SuUCjg6OhYrWMnIiKiustoR4AKCwtx7NgxhIaGarWHhobi0KFDleqjpKQEt27dgq2trVb77du34erqChcXF/Tr10/nCBERERHJm9EC0LVr11BcXAwHBwetdgcHB2RnZ1eqj88++wz5+fkYMmSI1NamTRvEx8dj69atSEhIgIWFBbp27Ypz586V209BQQE0Go3WRERERE8uo54CA+6frnqQEEKnrSwJCQmYNWsWtmzZAnt7e6nd398f/v7+0nzXrl3RsWNHfP7551i8eHGZfcXExCA6OlrPLSAiIqK6xmhHgBo3bgxTU1Odoz05OTk6R4UelpiYiNGjR2PDhg3o2bNnhbUmJibo1KlThUeAoqKikJeXJ02XLl2q/IYQERFRnWO0AGRubg5fX18kJydrtScnJyMwMLDcxyUkJCAiIgLr1q1D3759H7keIQQyMjLg5ORUbo1SqYSNjY3WRERERE8uo54CmzRpEsLDw+Hn54eAgACsXLkSWVlZGDNmDID7R2auXLmCNWvWALgffkaMGIFFixbB399fOnpkaWkJlUoFAIiOjoa/vz/c3d2h0WiwePFiZGRkYOnSpcbZSCIiIqp1jBqAhg4ditzcXMyePRtqtRpeXl7YsWMHXF1dAQBqtVrrO4G++OILFBUVYezYsRg7dqzUPnLkSMTHxwMAbt68iTfeeAPZ2dlQqVTw8fHBvn370Llz5xrdNiIiIqq9FEIIYexB1DYajQYqlQp5eXnVcjqs+dTtBu+TdF2Y8+hTpEREVL7q/Lyqjvfoqnx+G/2nMIiIiIhqGgMQERERyQ4DEBEREckOAxARERHJDgMQERERyQ4DEBEREckOAxARERHJDgMQERERyQ4DEBEREckOAxARERHJDgMQERERyQ4DEBEREckOAxARERHJDgMQERERyQ4DEBEREckOAxARERHJDgMQERERyQ4DEBEREckOAxARERHJDgMQERERyQ4DEBEREckOAxARERHJDgMQERERyQ4DEBEREckOAxARERHJDgMQERERyQ4DEBEREckOAxARERHJDgMQERERyQ4DEBEREckOAxARERHJDgMQERERyQ4DEBEREcmO0QPQsmXL4ObmBgsLC/j6+mL//v0V1u/duxe+vr6wsLBAixYtsGLFCp2apKQkeHh4QKlUwsPDA5s2baqu4RMREVEdZNQAlJiYiAkTJmDatGlIT09Ht27dEBYWhqysrDLrz58/jz59+qBbt25IT0/H+++/j/HjxyMpKUmqSUtLw9ChQxEeHo7MzEyEh4djyJAhOHz4cE1tFhEREdVyCiGEMNbKu3Tpgo4dO2L58uVSW9u2bTFw4EDExMTo1L/33nvYunUrfv/9d6ltzJgxyMzMRFpaGgBg6NCh0Gg02Llzp1Tz3HPPoVGjRkhISKjUuDQaDVQqFfLy8mBjY6Pv5pWr+dTtBu+TdF2Y09fYQyAiqtOq8/OqOt6jq/L5bbQjQIWFhTh27BhCQ0O12kNDQ3Ho0KEyH5OWlqZT37t3bxw9ehT37t2rsKa8PomIiEh+zIy14mvXrqG4uBgODg5a7Q4ODsjOzi7zMdnZ2WXWFxUV4dq1a3Byciq3prw+AaCgoAAFBQXSfF5eHoD7SbI6lBTcqZZ+SVt1/f2IiOSiOj+vquM9urTPypzcMloAKqVQKLTmhRA6bY+qf7i9qn3GxMQgOjpap71p06blD5xqPVWssUdARETlqc736Fu3bkGlUlVYY7QA1LhxY5iamuocmcnJydE5glPK0dGxzHozMzPY2dlVWFNenwAQFRWFSZMmSfMlJSW4fv067OzsKgxOZdFoNGjatCkuXbpULdcPkTbu75rF/V2zuL9rFvd3zTP0PhdC4NatW3B2dn5krdECkLm5OXx9fZGcnIwXXnhBak9OTsaAAQPKfExAQAC2bdum1bZr1y74+fmhXr16Uk1ycjImTpyoVRMYGFjuWJRKJZRKpVZbw4YNq7pJWmxsbPgCqkHc3zWL+7tmcX/XLO7vmmfIff6oIz+ljHoKbNKkSQgPD4efnx8CAgKwcuVKZGVlYcyYMQDuH5m5cuUK1qxZA+D+HV9LlizBpEmT8PrrryMtLQ1xcXFad3dFRkaie/fumDt3LgYMGIAtW7Zg9+7dOHDggFG2kYiIiGofowagoUOHIjc3F7Nnz4ZarYaXlxd27NgBV1dXAIBardb6TiA3Nzfs2LEDEydOxNKlS+Hs7IzFixfjxRdflGoCAwOxfv16fPDBB5g+fTpatmyJxMREdOnSpca3j4iIiGono18E/dZbb+Gtt94qc1l8fLxOW1BQEI4fP15hn4MHD8bgwYMNMbwqUyqVmDlzps4pNaoe3N81i/u7ZnF/1yzu75pnzH1u1C9CJCIiIjIGo/8WGBEREVFNYwAiIiIi2WEAIiIiItlhACIiIiLZYQAyoGXLlsHNzQ0WFhbw9fXF/v37jT2kOikmJgadOnWCtbU17O3tMXDgQJw5c0arRgiBWbNmwdnZGZaWlggODsavv/6qVVNQUIC3334bjRs3hpWVFZ5//nlcvny5JjelToqJiYFCocCECROkNu5vw7py5QpeeeUV2NnZoX79+ujQoQOOHTsmLef+NpyioiJ88MEHcHNzg6WlJVq0aIHZs2ejpKREquH+1t++ffvQv39/ODs7Q6FQYPPmzVrLDbVvb9y4gfDwcKhUKqhUKoSHh+PmzZuPN3hBBrF+/XpRr1498eWXX4rffvtNREZGCisrK3Hx4kVjD63O6d27t1i9erU4deqUyMjIEH379hXNmjUTt2/flmrmzJkjrK2tRVJSkjh58qQYOnSocHJyEhqNRqoZM2aMeOqpp0RycrI4fvy4CAkJEe3btxdFRUXG2Kw64ciRI6J58+aiXbt2IjIyUmrn/jac69evC1dXVxERESEOHz4szp8/L3bv3i3++OMPqYb723A++ugjYWdnJ77//ntx/vx58e2334oGDRqI2NhYqYb7W387duwQ06ZNE0lJSQKA2LRpk9ZyQ+3b5557Tnh5eYlDhw6JQ4cOCS8vL9GvX7/HGjsDkIF07txZjBkzRqutTZs2YurUqUYa0ZMjJydHABB79+4VQghRUlIiHB0dxZw5c6Sau3fvCpVKJVasWCGEEOLmzZuiXr16Yv369VLNlStXhImJifjhhx9qdgPqiFu3bgl3d3eRnJwsgoKCpADE/W1Y7733nnjmmWfKXc79bVh9+/YVo0aN0mobNGiQeOWVV4QQ3N+G9HAAMtS+/e233wQA8fPPP0s1aWlpAoA4ffq03uPlKTADKCwsxLFjxxAaGqrVHhoaikOHDhlpVE+OvLw8AICtrS0A4Pz588jOztba30qlEkFBQdL+PnbsGO7du6dV4+zsDC8vL/5NyjF27Fj07dsXPXv21Grn/jasrVu3ws/PDy+99BLs7e3h4+ODL7/8UlrO/W1YzzzzDH766SecPXsWAJCZmYkDBw6gT58+ALi/q5Oh9m1aWhpUKpXWLzr4+/tDpVI91v43+jdBPwmuXbuG4uJinV+cd3Bw0PlleqoaIQQmTZqEZ555Bl5eXgAg7dOy9vfFixelGnNzczRq1Einhn8TXevXr8fx48fxyy+/6Czj/jasv/76C8uXL8ekSZPw/vvv48iRIxg/fjyUSiVGjBjB/W1g7733HvLy8tCmTRuYmpqiuLgYH3/8Mf7zn/8A4PO7Ohlq32ZnZ8Pe3l6nf3t7+8fa/wxABqRQKLTmhRA6bVQ148aNw4kTJ8r8MVt99jf/JrouXbqEyMhI7Nq1CxYWFuXWcX8bRklJCfz8/PDJJ58AAHx8fPDrr79i+fLlGDFihFTH/W0YiYmJWLt2LdatWwdPT09kZGRgwoQJcHZ2xsiRI6U67u/qY4h9W1b94+5/ngIzgMaNG8PU1FQniebk5OgkX6q8t99+G1u3bkVKSgpcXFykdkdHRwCocH87OjqisLAQN27cKLeG7jt27BhycnLg6+sLMzMzmJmZYe/evVi8eDHMzMyk/cX9bRhOTk7w8PDQamvbtq30w898fhvWO++8g6lTp2LYsGHw9vZGeHg4Jk6ciJiYGADc39XJUPvW0dERf//9t07///zzz2PtfwYgAzA3N4evry+Sk5O12pOTkxEYGGikUdVdQgiMGzcOGzduxJ49e+Dm5qa13M3NDY6Ojlr7u7CwEHv37pX2t6+vL+rVq6dVo1arcerUKf5NHtKjRw+cPHkSGRkZ0uTn54fhw4cjIyMDLVq04P42oK5du+p8rcPZs2fh6uoKgM9vQ7tz5w5MTLQ/6kxNTaXb4Lm/q4+h9m1AQADy8vJw5MgRqebw4cPIy8t7vP2v9+XTpKX0Nvi4uDjx22+/iQkTJggrKytx4cIFYw+tzvnvf/8rVCqVSE1NFWq1Wpru3Lkj1cyZM0eoVCqxceNGcfLkSfGf//ynzFsrXVxcxO7du8Xx48fFs88+y9tWK+nBu8CE4P42pCNHjggzMzPx8ccfi3PnzolvvvlG1K9fX6xdu1aq4f42nJEjR4qnnnpKug1+48aNonHjxuLdd9+Vari/9Xfr1i2Rnp4u0tPTBQCxYMECkZ6eLn0FjKH27XPPPSfatWsn0tLSRFpamvD29uZt8LXJ0qVLhaurqzA3NxcdO3aUbtumqgFQ5rR69WqppqSkRMycOVM4OjoKpVIpunfvLk6ePKnVz7///ivGjRsnbG1thaWlpejXr5/Iysqq4a2pmx4OQNzfhrVt2zbh5eUllEqlaNOmjVi5cqXWcu5vw9FoNCIyMlI0a9ZMWFhYiBYtWohp06aJgoICqYb7W38pKSllvl+PHDlSCGG4fZubmyuGDx8urK2thbW1tRg+fLi4cePGY41dIYQQ+h8/IiIiIqp7eA0QERERyQ4DEBEREckOAxARERHJDgMQERERyQ4DEBEREckOAxARERHJDgMQERERyQ4DEBHVChcuXIBCoUBGRoaxhyI5ffo0/P39YWFhgQ4dOhh7OGVq3rw5YmNjjT0MojqHAYiIAAARERFQKBSYM2eOVvvmzZtl+4vXM2fOhJWVFc6cOYOffvpJZ/mKFStgbW2NoqIiqe327duoV68eunXrplW7f/9+KBQKnD17ttrHTUSPxgBERBILCwvMnTtX55eZ67LCwkK9H/vnn3/imWeegaurK+zs7HSWh4SE4Pbt2zh69KjUtn//fjg6OuKXX37BnTt3pPbU1FQ4OzujVatWVR5HcXGx9OOdRGQYDEBEJOnZsyccHR0RExNTbs2sWbN0TgfFxsaiefPm0nxERAQGDhyITz75BA4ODmjYsCGio6NRVFSEd955B7a2tnBxccGqVat0+j99+jQCAwNhYWEBT09PpKamai3/7bff0KdPHzRo0AAODg4IDw/HtWvXpOXBwcEYN24cJk2ahMaNG6NXr15lbkdJSQlmz54NFxcXKJVKdOjQAT/88IO0XKFQ4NixY5g9ezYUCgVmzZql00fr1q3h7OysNcbU1FQMGDAALVu2xKFDh7TaQ0JCAAA3btzAiBEj0KhRI9SvXx9hYWE4d+6cVBsfH4+GDRvi+++/h4eHB5RKJS5evIicnBz0798flpaWcHNzwzfffKMzplmzZqFZs2ZQKpVwdnbG+PHjy9x+IrljACIiiampKT755BN8/vnnuHz58mP1tWfPHly9ehX79u3DggULMGvWLPTr1w+NGjXC4cOHMWbMGIwZMwaXLl3Setw777yDyZMnIz09HYGBgXj++eeRm5sLAFCr1QgKCkKHDh1w9OhR/PDDD/j7778xZMgQrT6++uormJmZ4eDBg/jiiy/KHN+iRYvw2WefYf78+Thx4gR69+6N559/XgoiarUanp6emDx5MtRqNaZMmVJmP8HBwUhJSZHmU1JSEBwcjKCgIKm9sLAQaWlpUgCKiIjA0aNHsXXrVqSlpUEIgT59+uDevXtSP3fu3EFMTAz+97//4ddff4W9vT0iIiJw4cIF7NmzB9999x2WLVuGnJwc6THfffcdFi5ciC+++ALnzp3D5s2b4e3tXam/F5HsPNZPqRLRE2PkyJFiwIABQggh/P39xahRo4QQQmzatEk8+FYxc+ZM0b59e63HLly4ULi6umr15erqKoqLi6W21q1bi27duknzRUVFwsrKSiQkJAghhDh//rwAIObMmSPV3Lt3T7i4uIi5c+cKIYSYPn26CA0N1Vr3pUuXBABx5swZIcT9X7Lv0KHDI7fX2dlZfPzxx1ptnTp1Em+99ZY03759ezFz5swK+1m5cqWwsrIS9+7dExqNRpiZmYm///5brF+/XgQGBgohhNi7d68AIP78809x9uxZAUAcPHhQ6uPatWvC0tJSbNiwQQghxOrVqwUAkZGRIdWcOXNGABA///yz1Pb7778LAGLhwoVCCCE+++wz0apVK1FYWPjI7SeSOx4BIiIdc+fOxVdffYXffvtN7z48PT1hYvL/bzEODg5aRyNMTU1hZ2endQQDAAICAqR/m5mZwc/PD7///jsA4NixY0hJSUGDBg2kqU2bNgDuX69Tys/Pr8KxaTQaXL16FV27dtVq79q1q7SuygoJCUF+fj5++eUX7N+/H61atYK9vT2CgoLwyy+/ID8/H6mpqWjWrBlatGiB33//HWZmZujSpYvUh52dHVq3bq21bnNzc7Rr106aL33cg9vWpk0bNGzYUJp/6aWX8O+//6JFixZ4/fXXsWnTJq0LtIno/zEAEZGO7t27o3fv3nj//fd1lpmYmEAIodX24KmbUvXq1dOaVygUZbZV5uLe0rvQSkpK0L9/f2RkZGhN586dQ/fu3aV6KyurR/b5YL+lhBBVvuPt6aefhouLC1JSUpCSkoKgoCAAgKOjI9zc3HDw4EGkpKTg2WefldZRlofXbWlpqTVf+riKxte0aVOcOXMGS5cuhaWlJd566y107969zL8PkdwxABFRmebMmYNt27ZpXcgLAE2aNEF2drbWB7khv7vn559/lv5dVFSEY8eOSUd5OnbsiF9//RXNmzfH008/rTVVNvQAgI2NDZydnXHgwAGt9kOHDqFt27ZVHnNISAhSU1ORmpqK4OBgqT0oKAg//vgjfv75Z+n6Hw8PDxQVFeHw4cNSXW5uLs6ePVvhutu2bYuioiKtO87OnDmDmzdvatVZWlri+eefx+LFi5Gamoq0tDScPHmyyttE9KRjACKiMnl7e2P48OH4/PPPtdqDg4Pxzz//4NNPP8Wff/6JpUuXYufOnQZb79KlS7Fp0yacPn0aY8eOxY0bNzBq1CgAwNixY3H9+nX85z//wZEjR/DXX39h165dGDVqFIqLi6u0nnfeeQdz585FYmIizpw5g6lTpyIjIwORkZFVHnNISAgOHDiAjIwM6QgQcD8Affnll7h7964UgNzd3TFgwAC8/vrrOHDgADIzM/HKK6/gqaeewoABA8pdR+vWrfHcc8/h9ddfx+HDh3Hs2DG89tprsLS0lGri4+MRFxeHU6dO4a+//sLXX38NS0tLuLq6VnmbiJ50DEBEVK4PP/xQ55RN27ZtsWzZMixduhTt27fHkSNHyr1DSh9z5szB3Llz0b59e+zfvx9btmxB48aNAQDOzs44ePAgiouL0bt3b3h5eSEyMhIqlUrreqPKGD9+PCZPnozJkyfD29sbP/zwA7Zu3Qp3d/cqjzkkJAT//vsvnn76aTg4OEjtQUFBuHXrFlq2bImmTZtK7atXr4avry/69euHgIAACCGwY8cOnVOED1u9ejWaNm2KoKAgDBo0CG+88Qbs7e2l5Q0bNsSXX36Jrl27ol27dvjpp5+wbdu2Mr/DiEjuFKK8E9JERERETygeASIiIiLZYQAiIiIi2WEAIiIiItlhACIiIiLZYQAiIiIi2WEAIiIiItlhACIiIiLZYQAiIiIi2WEAIiIiItlhACIiIiLZYQAiIiIi2WEAIiIiItn5Pz+brSojjSoyAAAAAElFTkSuQmCCREMOVED_SECRET,
      REMOVED_SECRETtext/plainREMOVED_SECRET: [
       REMOVED_SECRET<Figure size 640x480 with 1 Axes>REMOVED_SECRET
      ]
     },
     REMOVED_SECRETmetadataREMOVED_SECRET: {},
     REMOVED_SECREToutput_typeREMOVED_SECRET: REMOVED_SECRETdisplay_dataREMOVED_SECRET
    }
   ],
   REMOVED_SECRETsourceREMOVED_SECRET: [
    REMOVED_SECRETplt.hist(spanish_title_lengths_es, bins=20)\nREMOVED_SECRET,
    REMOVED_SECRETplt.title(\REMOVED_SECRETDistribution of Word Counts in Spanish Titles\REMOVED_SECRET)\nREMOVED_SECRET,
    REMOVED_SECRETplt.xlabel(\REMOVED_SECRETNumber of Words\REMOVED_SECRET)\nREMOVED_SECRET,
    REMOVED_SECRETplt.ylabel(\REMOVED_SECRETFrequency\REMOVED_SECRET)\nREMOVED_SECRET,
    REMOVED_SECRETplt.show()REMOVED_SECRET
   ]
  },
  {
   REMOVED_SECRETcell_typeREMOVED_SECRET: REMOVED_SECRETcodeREMOVED_SECRET,
   REMOVED_SECRETexecution_countREMOVED_SECRET: 48,
   REMOVED_SECRETmetadataREMOVED_SECRET: {},
   REMOVED_SECREToutputsREMOVED_SECRET: [
    {
     REMOVED_SECRETdataREMOVED_SECRET: {
      REMOVED_SECRETapplication/vnd.jupyter.widget-view+jsonREMOVED_SECRET: {
       REMOVED_SECRETmodel_idREMOVED_SECRET: REMOVED_SECRET6c7a211ee831458b8397974974ee7ac8REMOVED_SECRET,
       REMOVED_SECRETversion_majorREMOVED_SECRET: 2,
       REMOVED_SECRETversion_minorREMOVED_SECRET: 0
      },
      REMOVED_SECRETtext/plainREMOVED_SECRET: [
       REMOVED_SECRETBatches:   0%|          | 0/32 [00:00<?, ?it/s]REMOVED_SECRET
      ]
     },
     REMOVED_SECRETmetadataREMOVED_SECRET: {},
     REMOVED_SECREToutput_typeREMOVED_SECRET: REMOVED_SECRETdisplay_dataREMOVED_SECRET
    },
    {
     REMOVED_SECRETdataREMOVED_SECRET: {
      REMOVED_SECRETapplication/vnd.jupyter.widget-view+jsonREMOVED_SECRET: {
       REMOVED_SECRETmodel_idREMOVED_SECRET: REMOVED_SECRET0afa5e80baed4f058d93fadf0ed5a855REMOVED_SECRET,
       REMOVED_SECRETversion_majorREMOVED_SECRET: 2,
       REMOVED_SECRETversion_minorREMOVED_SECRET: 0
      },
      REMOVED_SECRETtext/plainREMOVED_SECRET: [
       REMOVED_SECRETBatches:   0%|          | 0/32 [00:00<?, ?it/s]REMOVED_SECRET
      ]
     },
     REMOVED_SECRETmetadataREMOVED_SECRET: {},
     REMOVED_SECREToutput_typeREMOVED_SECRET: REMOVED_SECRETdisplay_dataREMOVED_SECRET
    }
   ],
   REMOVED_SECRETsourceREMOVED_SECRET: [
    REMOVED_SECRETentoes_english_embeddings = model.encode(spanish_df_cleaned['title'].tolist(), show_progress_bar=True)\nREMOVED_SECRET,
    REMOVED_SECRETentoes_spanish_embeddings = model.encode(spanish_df_cleaned['title_spanish'].tolist(), show_progress_bar=True)REMOVED_SECRET
   ]
  },
  {
   REMOVED_SECRETcell_typeREMOVED_SECRET: REMOVED_SECRETcodeREMOVED_SECRET,
   REMOVED_SECRETexecution_countREMOVED_SECRET: 58,
   REMOVED_SECRETmetadataREMOVED_SECRET: {},
   REMOVED_SECREToutputsREMOVED_SECRET: [
    {
     REMOVED_SECRETnameREMOVED_SECRET: REMOVED_SECRETstdoutREMOVED_SECRET,
     REMOVED_SECREToutput_typeREMOVED_SECRET: REMOVED_SECRETstreamREMOVED_SECRET,
     REMOVED_SECRETtextREMOVED_SECRET: [
      REMOVED_SECRET(996, 1024)\nREMOVED_SECRET,
      REMOVED_SECRET(996, 1024)\nREMOVED_SECRET
     ]
    }
   ],
   REMOVED_SECRETsourceREMOVED_SECRET: [
    REMOVED_SECRETprint(entoes_english_embeddings.shape)\nREMOVED_SECRET,
    REMOVED_SECRETprint(entoes_spanish_embeddings.shape)REMOVED_SECRET
   ]
  },
  {
   REMOVED_SECRETcell_typeREMOVED_SECRET: REMOVED_SECRETcodeREMOVED_SECRET,
   REMOVED_SECRETexecution_countREMOVED_SECRET: 59,
   REMOVED_SECRETmetadataREMOVED_SECRET: {},
   REMOVED_SECREToutputsREMOVED_SECRET: [
    {
     REMOVED_SECRETnameREMOVED_SECRET: REMOVED_SECRETstdoutREMOVED_SECRET,
     REMOVED_SECREToutput_typeREMOVED_SECRET: REMOVED_SECRETstreamREMOVED_SECRET,
     REMOVED_SECRETtextREMOVED_SECRET: [
      REMOVED_SECRETRow 0 - Cosine Similarity: 0.8633\nREMOVED_SECRET,
      REMOVED_SECRETRow 1 - Cosine Similarity: 0.8882\nREMOVED_SECRET,
      REMOVED_SECRETRow 2 - Cosine Similarity: 0.8030\nREMOVED_SECRET,
      REMOVED_SECRETRow 3 - Cosine Similarity: 0.8970\nREMOVED_SECRET,
      REMOVED_SECRETRow 4 - Cosine Similarity: 0.8868\nREMOVED_SECRET
     ]
    }
   ],
   REMOVED_SECRETsourceREMOVED_SECRET: [
    REMOVED_SECRET# Choose a few sample rows (e.g., first 5)\nREMOVED_SECRET,
    REMOVED_SECRETfor i in range(5):\nREMOVED_SECRET,
    REMOVED_SECRET    score = cosine_similarity([entoes_english_embeddings[i]], [entoes_spanish_embeddings[i]])[0][0]\nREMOVED_SECRET,
    REMOVED_SECRET    print(f\REMOVED_SECRETRow {i} - Cosine Similarity: {score:.4f}\REMOVED_SECRET)REMOVED_SECRET
   ]
  },
  {
   REMOVED_SECRETcell_typeREMOVED_SECRET: REMOVED_SECRETcodeREMOVED_SECRET,
   REMOVED_SECRETexecution_countREMOVED_SECRET: 60,
   REMOVED_SECRETmetadataREMOVED_SECRET: {},
   REMOVED_SECREToutputsREMOVED_SECRET: [
    {
     REMOVED_SECRETnameREMOVED_SECRET: REMOVED_SECRETstdoutREMOVED_SECRET,
     REMOVED_SECREToutput_typeREMOVED_SECRET: REMOVED_SECRETstreamREMOVED_SECRET,
     REMOVED_SECRETtextREMOVED_SECRET: [
      REMOVED_SECRETAverage cosine similarity: 0.8545\nREMOVED_SECRET
     ]
    }
   ],
   REMOVED_SECRETsourceREMOVED_SECRET: [
    REMOVED_SECRETsimilarities = []\nREMOVED_SECRET,
    REMOVED_SECRETfor i in range(len(entoes_english_embeddings)):\nREMOVED_SECRET,
    REMOVED_SECRET    sim = cosine_similarity([entoes_english_embeddings[i]], [entoes_spanish_embeddings[i]])[0][0]\nREMOVED_SECRET,
    REMOVED_SECRET    similarities.append(sim)\nREMOVED_SECRET,
    REMOVED_SECRET\nREMOVED_SECRET,
    REMOVED_SECRET# Now compute the average\nREMOVED_SECRET,
    REMOVED_SECRETaverage_similarity = np.mean(similarities)\nREMOVED_SECRET,
    REMOVED_SECRETprint(f\REMOVED_SECRETAverage cosine similarity: {average_similarity:.4f}\REMOVED_SECRET)REMOVED_SECRET
   ]
  },
  {
   REMOVED_SECRETcell_typeREMOVED_SECRET: REMOVED_SECRETcodeREMOVED_SECRET,
   REMOVED_SECRETexecution_countREMOVED_SECRET: 61,
   REMOVED_SECRETmetadataREMOVED_SECRET: {},
   REMOVED_SECREToutputsREMOVED_SECRET: [],
   REMOVED_SECRETsourceREMOVED_SECRET: [
    REMOVED_SECRET# Saving the embeddings to CSV files\nREMOVED_SECRET,
    REMOVED_SECRET\nREMOVED_SECRET,
    REMOVED_SECRETdf_embeddings = pd.DataFrame({\nREMOVED_SECRET,
    REMOVED_SECRET    \REMOVED_SECRETtitle\REMOVED_SECRET: spanish_df_cleaned['title'],\nREMOVED_SECRET,
    REMOVED_SECRET    \REMOVED_SECRETtitle_spanish\REMOVED_SECRET: spanish_df_cleaned['title_spanish'],\nREMOVED_SECRET,
    REMOVED_SECRET    \REMOVED_SECRETenglish_embedding\REMOVED_SECRET: list(entoes_english_embeddings),\nREMOVED_SECRET,
    REMOVED_SECRET    \REMOVED_SECRETspanish_embedding\REMOVED_SECRET: list(entoes_spanish_embeddings),\nREMOVED_SECRET,
    REMOVED_SECRET})\nREMOVED_SECRET,
    REMOVED_SECRET\nREMOVED_SECRET,
    REMOVED_SECRETdf_embeddings.to_pickle(\REMOVED_SECRETen_to_sp_embeddings.pkl\REMOVED_SECRET)REMOVED_SECRET
   ]
  },
  {
   REMOVED_SECRETcell_typeREMOVED_SECRET: REMOVED_SECRETcodeREMOVED_SECRET,
   REMOVED_SECRETexecution_countREMOVED_SECRET: 62,
   REMOVED_SECRETmetadataREMOVED_SECRET: {},
   REMOVED_SECREToutputsREMOVED_SECRET: [],
   REMOVED_SECRETsourceREMOVED_SECRET: [
    REMOVED_SECRETentoes_en_words, entoes_en_vectors = load_vecs(\REMOVED_SECRETwiki.en.align.vec\REMOVED_SECRET, limit_no_words=50000)\nREMOVED_SECRET,
    REMOVED_SECRETentoes_es_words, entoes_es_vectors = load_vecs(\REMOVED_SECRETwiki.es.align.vec\REMOVED_SECRET, limit_no_words=50000)REMOVED_SECRET
   ]
  },
  {
   REMOVED_SECRETcell_typeREMOVED_SECRET: REMOVED_SECRETcodeREMOVED_SECRET,
   REMOVED_SECRETexecution_countREMOVED_SECRET: 64,
   REMOVED_SECRETmetadataREMOVED_SECRET: {},
   REMOVED_SECREToutputsREMOVED_SECRET: [],
   REMOVED_SECRETsourceREMOVED_SECRET: [
    REMOVED_SECRETentoes_english_avg_embeds = spanish_df_cleaned['title'].apply(lambda x: average_embedding(x, en_dict))\nREMOVED_SECRET,
    REMOVED_SECRETentoes_spanish_avg_embeds = spanish_df_cleaned['title_spanish'].apply(lambda x: average_embedding(x, it_dict))REMOVED_SECRET
   ]
  },
  {
   REMOVED_SECRETcell_typeREMOVED_SECRET: REMOVED_SECRETcodeREMOVED_SECRET,
   REMOVED_SECRETexecution_countREMOVED_SECRET: 67,
   REMOVED_SECRETmetadataREMOVED_SECRET: {},
   REMOVED_SECREToutputsREMOVED_SECRET: [
    {
     REMOVED_SECRETnameREMOVED_SECRET: REMOVED_SECRETstdoutREMOVED_SECRET,
     REMOVED_SECREToutput_typeREMOVED_SECRET: REMOVED_SECRETstreamREMOVED_SECRET,
     REMOVED_SECRETtextREMOVED_SECRET: [
      REMOVED_SECRETAverage cosine similarity (avg word embeddings 50k): -0.0161\nREMOVED_SECRET
     ]
    }
   ],
   REMOVED_SECRETsourceREMOVED_SECRET: [
    REMOVED_SECRETsimilarities_word = []\nREMOVED_SECRET,
    REMOVED_SECRETfor i in range(len(spanish_df_cleaned)):\nREMOVED_SECRET,
    REMOVED_SECRET    sim = cosine_similarity([entoes_english_avg_embeds[i]], [entoes_spanish_avg_embeds[i]])[0][0]\nREMOVED_SECRET,
    REMOVED_SECRET    similarities_word.append(sim)\nREMOVED_SECRET,
    REMOVED_SECRET\nREMOVED_SECRET,
    REMOVED_SECRETavg_word_sim_50 = np.mean(similarities_word)\nREMOVED_SECRET,
    REMOVED_SECRETprint(f\REMOVED_SECRETAverage cosine similarity (avg word embeddings 50k): {avg_word_sim_50:.4f}\REMOVED_SECRET)REMOVED_SECRET
   ]
  },
  {
   REMOVED_SECRETcell_typeREMOVED_SECRET: REMOVED_SECRETcodeREMOVED_SECRET,
   REMOVED_SECRETexecution_countREMOVED_SECRET: 69,
   REMOVED_SECRETmetadataREMOVED_SECRET: {},
   REMOVED_SECREToutputsREMOVED_SECRET: [
    {
     REMOVED_SECRETnameREMOVED_SECRET: REMOVED_SECRETstdoutREMOVED_SECRET,
     REMOVED_SECREToutput_typeREMOVED_SECRET: REMOVED_SECRETstreamREMOVED_SECRET,
     REMOVED_SECRETtextREMOVED_SECRET: [
      REMOVED_SECRETAverage cosine similarity (avg word embeddings 5k): -0.0161\nREMOVED_SECRET
     ]
    }
   ],
   REMOVED_SECRETsourceREMOVED_SECRET: [
    REMOVED_SECRETsimilarities_word = []\nREMOVED_SECRET,
    REMOVED_SECRETfor i in range(len(spanish_df_cleaned)):\nREMOVED_SECRET,
    REMOVED_SECRET    sim = cosine_similarity([entoes_english_avg_embeds[i]], [entoes_spanish_avg_embeds[i]])[0][0]\nREMOVED_SECRET,
    REMOVED_SECRET    similarities_word.append(sim)\nREMOVED_SECRET,
    REMOVED_SECRET\nREMOVED_SECRET,
    REMOVED_SECRETavg_word_sim_5 = np.mean(similarities_word)\nREMOVED_SECRET,
    REMOVED_SECRETprint(f\REMOVED_SECRETAverage cosine similarity (avg word embeddings 5k): {avg_word_sim_5:.4f}\REMOVED_SECRET)REMOVED_SECRET
   ]
  },
  {
   REMOVED_SECRETcell_typeREMOVED_SECRET: REMOVED_SECRETcodeREMOVED_SECRET,
   REMOVED_SECRETexecution_countREMOVED_SECRET: 70,
   REMOVED_SECRETmetadataREMOVED_SECRET: {},
   REMOVED_SECREToutputsREMOVED_SECRET: [
    {
     REMOVED_SECRETdataREMOVED_SECRET: {
      REMOVED_SECRETimage/pngREMOVED_SECRET: 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REMOVED_SECRET,
      REMOVED_SECRETtext/plainREMOVED_SECRET: [
       REMOVED_SECRET<Figure size 800x500 with 1 Axes>REMOVED_SECRET
      ]
     },
     REMOVED_SECRETmetadataREMOVED_SECRET: {},
     REMOVED_SECREToutput_typeREMOVED_SECRET: REMOVED_SECRETdisplay_dataREMOVED_SECRET
    }
   ],
   REMOVED_SECRETsourceREMOVED_SECRET: [
    REMOVED_SECRET# X-axis: Word vector sizes used\nREMOVED_SECRET,
    REMOVED_SECRETx = [\REMOVED_SECRET5k words\REMOVED_SECRET, \REMOVED_SECRET10k words\REMOVED_SECRET, \REMOVED_SECRET50k words\REMOVED_SECRET]\nREMOVED_SECRET,
    REMOVED_SECRET\nREMOVED_SECRET,
    REMOVED_SECRETy = [avg_word_sim_5, avg_word_sim_10, avg_word_sim_50]\nREMOVED_SECRET,
    REMOVED_SECRET\nREMOVED_SECRET,
    REMOVED_SECRETplt.figure(figsize=(8, 5))\nREMOVED_SECRET,
    REMOVED_SECRET\nREMOVED_SECRET,
    REMOVED_SECRET# Bar chart for FastText similarities\nREMOVED_SECRET,
    REMOVED_SECRETplt.bar(x, y, color='skyblue', label=\REMOVED_SECRETFastText Avg Embedding\REMOVED_SECRET)\nREMOVED_SECRET,
    REMOVED_SECRET\nREMOVED_SECRET,
    REMOVED_SECRET# Horizontal line for BGE-M3 sentence embedding similarity\nREMOVED_SECRET,
    REMOVED_SECRETplt.axhline(y=average_similarity, color='orange', linestyle='--', label=\REMOVED_SECRETBGE-M3 Sentence Embedding\REMOVED_SECRET)\nREMOVED_SECRET,
    REMOVED_SECRET\nREMOVED_SECRET,
    REMOVED_SECRETplt.title(\REMOVED_SECRETComparison of Average Cosine Similarity\REMOVED_SECRET)\nREMOVED_SECRET,
    REMOVED_SECRETplt.ylabel(\REMOVED_SECRETCosine Similarity\REMOVED_SECRET)\nREMOVED_SECRET,
    REMOVED_SECRETplt.ylim(0, 1)\nREMOVED_SECRET,
    REMOVED_SECRETplt.legend()\nREMOVED_SECRET,
    REMOVED_SECRETplt.grid(True)\nREMOVED_SECRET,
    REMOVED_SECRETplt.tight_layout()\nREMOVED_SECRET,
    REMOVED_SECRETplt.show()REMOVED_SECRET
   ]
  },
  {
   REMOVED_SECRETcell_typeREMOVED_SECRET: REMOVED_SECRETmarkdownREMOVED_SECRET,
   REMOVED_SECRETmetadataREMOVED_SECRET: {},
   REMOVED_SECRETsourceREMOVED_SECRET: [
    REMOVED_SECRETChinese Dataset ExplorationREMOVED_SECRET
   ]
  },
  {
   REMOVED_SECRETcell_typeREMOVED_SECRET: REMOVED_SECRETcodeREMOVED_SECRET,
   REMOVED_SECRETexecution_countREMOVED_SECRET: 30,
   REMOVED_SECRETmetadataREMOVED_SECRET: {},
   REMOVED_SECREToutputsREMOVED_SECRET: [],
   REMOVED_SECRETsourceREMOVED_SECRET: [
    REMOVED_SECRET#basic data cleaning \nREMOVED_SECRET,
    REMOVED_SECRETchinese_df_cleaned = chinese_df.drop_duplicates()\nREMOVED_SECRET,
    REMOVED_SECRET\nREMOVED_SECRET,
    REMOVED_SECRETchinese_df_cleaned.reset_index(drop=True, inplace=True)REMOVED_SECRET
   ]
  },
  {
   REMOVED_SECRETcell_typeREMOVED_SECRET: REMOVED_SECRETcodeREMOVED_SECRET,
   REMOVED_SECRETexecution_countREMOVED_SECRET: 31,
   REMOVED_SECRETmetadataREMOVED_SECRET: {},
   REMOVED_SECREToutputsREMOVED_SECRET: [
    {
     REMOVED_SECRETdataREMOVED_SECRET: {
      REMOVED_SECRETtext/htmlREMOVED_SECRET: [
       REMOVED_SECRET<div>\nREMOVED_SECRET,
       REMOVED_SECRET<style scoped>\nREMOVED_SECRET,
       REMOVED_SECRET    .dataframe tbody tr th:only-of-type {\nREMOVED_SECRET,
       REMOVED_SECRET        vertical-align: middle;\nREMOVED_SECRET,
       REMOVED_SECRET    }\nREMOVED_SECRET,
       REMOVED_SECRET\nREMOVED_SECRET,
       REMOVED_SECRET    .dataframe tbody tr th {\nREMOVED_SECRET,
       REMOVED_SECRET        vertical-align: top;\nREMOVED_SECRET,
       REMOVED_SECRET    }\nREMOVED_SECRET,
       REMOVED_SECRET\nREMOVED_SECRET,
       REMOVED_SECRET    .dataframe thead th {\nREMOVED_SECRET,
       REMOVED_SECRET        text-align: right;\nREMOVED_SECRET,
       REMOVED_SECRET    }\nREMOVED_SECRET,
       REMOVED_SECRET</style>\nREMOVED_SECRET,
       REMOVED_SECRET<table border=\REMOVED_SECRET1\REMOVED_SECRET class=\REMOVED_SECRETdataframe\REMOVED_SECRET>\nREMOVED_SECRET,
       REMOVED_SECRET  <thead>\nREMOVED_SECRET,
       REMOVED_SECRET    <tr style=\REMOVED_SECRETtext-align: right;\REMOVED_SECRET>\nREMOVED_SECRET,
       REMOVED_SECRET      <th></th>\nREMOVED_SECRET,
       REMOVED_SECRET      <th>translation_output</th>\nREMOVED_SECRET,
       REMOVED_SECRET      <th>text</th>\nREMOVED_SECRET,
       REMOVED_SECRET      <th>split</th>\nREMOVED_SECRET,
       REMOVED_SECRET    </tr>\nREMOVED_SECRET,
       REMOVED_SECRET  </thead>\nREMOVED_SECRET,
       REMOVED_SECRET  <tbody>\nREMOVED_SECRET,
       REMOVED_SECRET    <tr>\nREMOVED_SECRET,
       REMOVED_SECRET      <th>0</th>\nREMOVED_SECRET,
       REMOVED_SECRET      <td>Oppo A75 A75S A73 Phone Case Soft Rabbit Silic...</td>\nREMOVED_SECRET,
       REMOVED_SECRET      <td>OPPO A75 A75s A73 手机壳 软壳 挂绳壳 大眼兔硅胶壳</td>\nREMOVED_SECRET,
       REMOVED_SECRET      <td>private</td>\nREMOVED_SECRET,
       REMOVED_SECRET    </tr>\nREMOVED_SECRET,
       REMOVED_SECRET    <tr>\nREMOVED_SECRET,
       REMOVED_SECRET      <th>1</th>\nREMOVED_SECRET,
       REMOVED_SECRET      <td>SOFT 99 Coating Car Wax Strong Water Watt</td>\nREMOVED_SECRET,
       REMOVED_SECRET      <td>SOFT 99 鍍膜車蠟(強力撥水型)</td>\nREMOVED_SECRET,
       REMOVED_SECRET      <td>private</td>\nREMOVED_SECRET,
       REMOVED_SECRET    </tr>\nREMOVED_SECRET,
       REMOVED_SECRET    <tr>\nREMOVED_SECRET,
       REMOVED_SECRET      <th>2</th>\nREMOVED_SECRET,
       REMOVED_SECRET      <td>Low Sugar Mango Dry 250g Be The Royal</td>\nREMOVED_SECRET,
       REMOVED_SECRET      <td>低糖芒果乾 250g 臻御行</td>\nREMOVED_SECRET,
       REMOVED_SECRET      <td>private</td>\nREMOVED_SECRET,
       REMOVED_SECRET    </tr>\nREMOVED_SECRET,
       REMOVED_SECRET    <tr>\nREMOVED_SECRET,
       REMOVED_SECRET      <th>3</th>\nREMOVED_SECRET,
       REMOVED_SECRET      <td>* the culture Japan Imported Round Top Space C...</td>\nREMOVED_SECRET,
       REMOVED_SECRET      <td>＊小徑文化＊日本進口ROUND TOP space craft - diamond (SC-...</td>\nREMOVED_SECRET,
       REMOVED_SECRET      <td>private</td>\nREMOVED_SECRET,
       REMOVED_SECRET    </tr>\nREMOVED_SECRET,
       REMOVED_SECRET    <tr>\nREMOVED_SECRET,
       REMOVED_SECRET      <th>4</th>\nREMOVED_SECRET,
       REMOVED_SECRET      <td>Hello Kitty Sandals Shoes White/Red Children n...</td>\nREMOVED_SECRET,
       REMOVED_SECRET      <td>Hello Kitty 凱蒂貓 KITTY 涼鞋 童鞋 白/紅色 小童 no739</td>\nREMOVED_SECRET,
       REMOVED_SECRET      <td>private</td>\nREMOVED_SECRET,
       REMOVED_SECRET    </tr>\nREMOVED_SECRET,
       REMOVED_SECRET    <tr>\nREMOVED_SECRET,
       REMOVED_SECRET      <th>...</th>\nREMOVED_SECRET,
       REMOVED_SECRET      <td>...</td>\nREMOVED_SECRET,
       REMOVED_SECRET      <td>...</td>\nREMOVED_SECRET,
       REMOVED_SECRET      <td>...</td>\nREMOVED_SECRET,
       REMOVED_SECRET    </tr>\nREMOVED_SECRET,
       REMOVED_SECRET    <tr>\nREMOVED_SECRET,
       REMOVED_SECRET      <th>995</th>\nREMOVED_SECRET,
       REMOVED_SECRET      <td>Hippored Torn Fun Unique Style Straight Jeans ...</td>\nREMOVED_SECRET,
       REMOVED_SECRET      <td>【HippoRed】撕破乐趣★独特风格★中直筒牛仔裤 O591_445</td>\nREMOVED_SECRET,
       REMOVED_SECRET      <td>private</td>\nREMOVED_SECRET,
       REMOVED_SECRET    </tr>\nREMOVED_SECRET,
       REMOVED_SECRET    <tr>\nREMOVED_SECRET,
       REMOVED_SECRET      <th>996</th>\nREMOVED_SECRET,
       REMOVED_SECRET      <td>Kids Set Table Bay - Thin Long Sleeve Home Sui...</td>\nREMOVED_SECRET,
       REMOVED_SECRET      <td>兒童套裝 台灣製薄長袖居家套裝 魔法Baby~k60092</td>\nREMOVED_SECRET,
       REMOVED_SECRET      <td>private</td>\nREMOVED_SECRET,
       REMOVED_SECRET    </tr>\nREMOVED_SECRET,
       REMOVED_SECRET    <tr>\nREMOVED_SECRET,
       REMOVED_SECRET      <th>997</th>\nREMOVED_SECRET,
       REMOVED_SECRET      <td>LONGCHAMP Le Pliage Neo High Density Nylon Bac...</td>\nREMOVED_SECRET,
       REMOVED_SECRET      <td>LONGCHAMP Le Pliage Neo高密尼龍後背包(中型)</td>\nREMOVED_SECRET,
       REMOVED_SECRET      <td>private</td>\nREMOVED_SECRET,
       REMOVED_SECRET    </tr>\nREMOVED_SECRET,
       REMOVED_SECRET    <tr>\nREMOVED_SECRET,
       REMOVED_SECRET      <th>998</th>\nREMOVED_SECRET,
       REMOVED_SECRET      <td>IFairies Opening Adjustable Ring ifairies [564...</td>\nREMOVED_SECRET,
       REMOVED_SECRET      <td>iFairies 開口可調節戒指★ifairies【56472】【56472】</td>\nREMOVED_SECRET,
       REMOVED_SECRET      <td>private</td>\nREMOVED_SECRET,
       REMOVED_SECRET    </tr>\nREMOVED_SECRET,
       REMOVED_SECRET    <tr>\nREMOVED_SECRET,
       REMOVED_SECRET      <th>999</th>\nREMOVED_SECRET,
       REMOVED_SECRET      <td>PolarStar Women Sweat Quick Dry T-shirt Black ...</td>\nREMOVED_SECRET,
       REMOVED_SECRET      <td>PolarStar 女 排汗快干T恤『黑』P18102</td>\nREMOVED_SECRET,
       REMOVED_SECRET      <td>private</td>\nREMOVED_SECRET,
       REMOVED_SECRET    </tr>\nREMOVED_SECRET,
       REMOVED_SECRET  </tbody>\nREMOVED_SECRET,
       REMOVED_SECRET</table>\nREMOVED_SECRET,
       REMOVED_SECRET<p>1000 rows × 3 columns</p>\nREMOVED_SECRET,
       REMOVED_SECRET</div>REMOVED_SECRET
      ],
      REMOVED_SECRETtext/plainREMOVED_SECRET: [
       REMOVED_SECRET                                    translation_output  \\\nREMOVED_SECRET,
       REMOVED_SECRET0    Oppo A75 A75S A73 Phone Case Soft Rabbit Silic...   \nREMOVED_SECRET,
       REMOVED_SECRET1            SOFT 99 Coating Car Wax Strong Water Watt   \nREMOVED_SECRET,
       REMOVED_SECRET2                Low Sugar Mango Dry 250g Be The Royal   \nREMOVED_SECRET,
       REMOVED_SECRET3    * the culture Japan Imported Round Top Space C...   \nREMOVED_SECRET,
       REMOVED_SECRET4    Hello Kitty Sandals Shoes White/Red Children n...   \nREMOVED_SECRET,
       REMOVED_SECRET..                                                 ...   \nREMOVED_SECRET,
       REMOVED_SECRET995  Hippored Torn Fun Unique Style Straight Jeans ...   \nREMOVED_SECRET,
       REMOVED_SECRET996  Kids Set Table Bay - Thin Long Sleeve Home Sui...   \nREMOVED_SECRET,
       REMOVED_SECRET997  LONGCHAMP Le Pliage Neo High Density Nylon Bac...   \nREMOVED_SECRET,
       REMOVED_SECRET998  IFairies Opening Adjustable Ring ifairies [564...   \nREMOVED_SECRET,
       REMOVED_SECRET999  PolarStar Women Sweat Quick Dry T-shirt Black ...   \nREMOVED_SECRET,
       REMOVED_SECRET\nREMOVED_SECRET,
       REMOVED_SECRET                                                  text    split  \nREMOVED_SECRET,
       REMOVED_SECRET0                  OPPO A75 A75s A73 手机壳 软壳 挂绳壳 大眼兔硅胶壳  private  \nREMOVED_SECRET,
       REMOVED_SECRET1                                  SOFT 99 鍍膜車蠟(強力撥水型)  private  \nREMOVED_SECRET,
       REMOVED_SECRET2                                       低糖芒果乾 250g 臻御行  private  \nREMOVED_SECRET,
       REMOVED_SECRET3    ＊小徑文化＊日本進口ROUND TOP space craft - diamond (SC-...  private  \nREMOVED_SECRET,
       REMOVED_SECRET4            Hello Kitty 凱蒂貓 KITTY 涼鞋 童鞋 白/紅色 小童 no739  private  \nREMOVED_SECRET,
       REMOVED_SECRET..                                                 ...      ...  \nREMOVED_SECRET,
       REMOVED_SECRET995                【HippoRed】撕破乐趣★独特风格★中直筒牛仔裤 O591_445  private  \nREMOVED_SECRET,
       REMOVED_SECRET996                      兒童套裝 台灣製薄長袖居家套裝 魔法Baby~k60092  private  \nREMOVED_SECRET,
       REMOVED_SECRET997                 LONGCHAMP Le Pliage Neo高密尼龍後背包(中型)  private  \nREMOVED_SECRET,
       REMOVED_SECRET998            iFairies 開口可調節戒指★ifairies【56472】【56472】  private  \nREMOVED_SECRET,
       REMOVED_SECRET999                        PolarStar 女 排汗快干T恤『黑』P18102  private  \nREMOVED_SECRET,
       REMOVED_SECRET\nREMOVED_SECRET,
       REMOVED_SECRET[1000 rows x 3 columns]REMOVED_SECRET
      ]
     },
     REMOVED_SECRETexecution_countREMOVED_SECRET: 31,
     REMOVED_SECRETmetadataREMOVED_SECRET: {},
     REMOVED_SECREToutput_typeREMOVED_SECRET: REMOVED_SECRETexecute_resultREMOVED_SECRET
    }
   ],
   REMOVED_SECRETsourceREMOVED_SECRET: [
    REMOVED_SECRETchinese_df_cleanedREMOVED_SECRET
   ]
  },
  {
   REMOVED_SECRETcell_typeREMOVED_SECRET: REMOVED_SECRETcodeREMOVED_SECRET,
   REMOVED_SECRETexecution_countREMOVED_SECRET: 32,
   REMOVED_SECRETmetadataREMOVED_SECRET: {},
   REMOVED_SECREToutputsREMOVED_SECRET: [
    {
     REMOVED_SECRETdataREMOVED_SECRET: {
      REMOVED_SECRETtext/plainREMOVED_SECRET: [
       REMOVED_SECRET1000REMOVED_SECRET
      ]
     },
     REMOVED_SECRETexecution_countREMOVED_SECRET: 32,
     REMOVED_SECRETmetadataREMOVED_SECRET: {},
     REMOVED_SECREToutput_typeREMOVED_SECRET: REMOVED_SECRETexecute_resultREMOVED_SECRET
    }
   ],
   REMOVED_SECRETsourceREMOVED_SECRET: [
    REMOVED_SECRET#Calculate the str length\nREMOVED_SECRET,
    REMOVED_SECRETchinese_title_lengths = chinese_df_cleaned['translation_output'].str.len().describe()\nREMOVED_SECRET,
    REMOVED_SECRETchinese_title_lengths_cn = chinese_df_cleaned['text'].str.len().describe()\nREMOVED_SECRET,
    REMOVED_SECRET(chinese_df_cleaned['text'] == chinese_df_cleaned['text']).sum()REMOVED_SECRET
   ]
  },
  {
   REMOVED_SECRETcell_typeREMOVED_SECRET: REMOVED_SECRETcodeREMOVED_SECRET,
   REMOVED_SECRETexecution_countREMOVED_SECRET: 33,
   REMOVED_SECRETmetadataREMOVED_SECRET: {},
   REMOVED_SECREToutputsREMOVED_SECRET: [
    {
     REMOVED_SECRETdataREMOVED_SECRET: {
      REMOVED_SECRETimage/pngREMOVED_SECRET: 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REMOVED_SECRET,
      REMOVED_SECRETtext/plainREMOVED_SECRET: [
       REMOVED_SECRET<Figure size 640x480 with 1 Axes>REMOVED_SECRET
      ]
     },
     REMOVED_SECRETmetadataREMOVED_SECRET: {},
     REMOVED_SECREToutput_typeREMOVED_SECRET: REMOVED_SECRETdisplay_dataREMOVED_SECRET
    }
   ],
   REMOVED_SECRETsourceREMOVED_SECRET: [
    REMOVED_SECRETimport matplotlib.pyplot as plt\nREMOVED_SECRET,
    REMOVED_SECRET\nREMOVED_SECRET,
    REMOVED_SECRET\nREMOVED_SECRET,
    REMOVED_SECRETplt.hist(chinese_title_lengths, bins=20)\nREMOVED_SECRET,
    REMOVED_SECRETplt.title(\REMOVED_SECRETDistribution of Word Counts in English Titles\REMOVED_SECRET)\nREMOVED_SECRET,
    REMOVED_SECRETplt.xlabel(\REMOVED_SECRETNumber of Words\REMOVED_SECRET)\nREMOVED_SECRET,
    REMOVED_SECRETplt.ylabel(\REMOVED_SECRETFrequency\REMOVED_SECRET)\nREMOVED_SECRET,
    REMOVED_SECRETplt.show()REMOVED_SECRET
   ]
  },
  {
   REMOVED_SECRETcell_typeREMOVED_SECRET: REMOVED_SECRETcodeREMOVED_SECRET,
   REMOVED_SECRETexecution_countREMOVED_SECRET: 35,
   REMOVED_SECRETmetadataREMOVED_SECRET: {},
   REMOVED_SECREToutputsREMOVED_SECRET: [
    {
     REMOVED_SECRETdataREMOVED_SECRET: {
      REMOVED_SECRETimage/pngREMOVED_SECRET: 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,
      REMOVED_SECRETtext/plainREMOVED_SECRET: [
       REMOVED_SECRET<Figure size 640x480 with 1 Axes>REMOVED_SECRET
      ]
     },
     REMOVED_SECRETmetadataREMOVED_SECRET: {},
     REMOVED_SECREToutput_typeREMOVED_SECRET: REMOVED_SECRETdisplay_dataREMOVED_SECRET
    }
   ],
   REMOVED_SECRETsourceREMOVED_SECRET: [
    REMOVED_SECRETplt.hist(chinese_title_lengths_cn, bins=20)\nREMOVED_SECRET,
    REMOVED_SECRETplt.title(\REMOVED_SECRETDistribution of Word Counts in Chinese Titles\REMOVED_SECRET)\nREMOVED_SECRET,
    REMOVED_SECRETplt.xlabel(\REMOVED_SECRETNumber of Words\REMOVED_SECRET)\nREMOVED_SECRET,
    REMOVED_SECRETplt.ylabel(\REMOVED_SECRETFrequency\REMOVED_SECRET)\nREMOVED_SECRET,
    REMOVED_SECRETplt.show()REMOVED_SECRET
   ]
  },
  {
   REMOVED_SECRETcell_typeREMOVED_SECRET: REMOVED_SECRETcodeREMOVED_SECRET,
   REMOVED_SECRETexecution_countREMOVED_SECRET: 12,
   REMOVED_SECRETmetadataREMOVED_SECRET: {},
   REMOVED_SECREToutputsREMOVED_SECRET: [
    {
     REMOVED_SECRETdataREMOVED_SECRET: {
      REMOVED_SECRETapplication/vnd.jupyter.widget-view+jsonREMOVED_SECRET: {
       REMOVED_SECRETmodel_idREMOVED_SECRET: REMOVED_SECRET81c3eb936b98481aa9135989a2182e74REMOVED_SECRET,
       REMOVED_SECRETversion_majorREMOVED_SECRET: 2,
       REMOVED_SECRETversion_minorREMOVED_SECRET: 0
      },
      REMOVED_SECRETtext/plainREMOVED_SECRET: [
       REMOVED_SECRETBatches:   0%|          | 0/32 [00:00<?, ?it/s]REMOVED_SECRET
      ]
     },
     REMOVED_SECRETmetadataREMOVED_SECRET: {},
     REMOVED_SECREToutput_typeREMOVED_SECRET: REMOVED_SECRETdisplay_dataREMOVED_SECRET
    },
    {
     REMOVED_SECRETdataREMOVED_SECRET: {
      REMOVED_SECRETapplication/vnd.jupyter.widget-view+jsonREMOVED_SECRET: {
       REMOVED_SECRETmodel_idREMOVED_SECRET: REMOVED_SECRET723e5fd2c31741b6a2985fd0636ddf69REMOVED_SECRET,
       REMOVED_SECRETversion_majorREMOVED_SECRET: 2,
       REMOVED_SECRETversion_minorREMOVED_SECRET: 0
      },
      REMOVED_SECRETtext/plainREMOVED_SECRET: [
       REMOVED_SECRETBatches:   0%|          | 0/32 [00:00<?, ?it/s]REMOVED_SECRET
      ]
     },
     REMOVED_SECRETmetadataREMOVED_SECRET: {},
     REMOVED_SECREToutput_typeREMOVED_SECRET: REMOVED_SECRETdisplay_dataREMOVED_SECRET
    }
   ],
   REMOVED_SECRETsourceREMOVED_SECRET: [
    REMOVED_SECRETentocn_english_embeddings = model.encode(chinese_df_cleaned['translation_output'].tolist(), show_progress_bar=True)\nREMOVED_SECRET,
    REMOVED_SECRETentocn_chinese_embeddings = model.encode(chinese_df_cleaned['text'].tolist(), show_progress_bar=True)REMOVED_SECRET
   ]
  },
  {
   REMOVED_SECRETcell_typeREMOVED_SECRET: REMOVED_SECRETcodeREMOVED_SECRET,
   REMOVED_SECRETexecution_countREMOVED_SECRET: 13,
   REMOVED_SECRETmetadataREMOVED_SECRET: {},
   REMOVED_SECREToutputsREMOVED_SECRET: [
    {
     REMOVED_SECRETnameREMOVED_SECRET: REMOVED_SECRETstdoutREMOVED_SECRET,
     REMOVED_SECREToutput_typeREMOVED_SECRET: REMOVED_SECRETstreamREMOVED_SECRET,
     REMOVED_SECRETtextREMOVED_SECRET: [
      REMOVED_SECRET(1000, 1024)\nREMOVED_SECRET,
      REMOVED_SECRET(1000, 1024)\nREMOVED_SECRET
     ]
    }
   ],
   REMOVED_SECRETsourceREMOVED_SECRET: [
    REMOVED_SECRETprint(entocn_english_embeddings.shape)\nREMOVED_SECRET,
    REMOVED_SECRETprint(entocn_chinese_embeddings.shape)REMOVED_SECRET
   ]
  },
  {
   REMOVED_SECRETcell_typeREMOVED_SECRET: REMOVED_SECRETcodeREMOVED_SECRET,
   REMOVED_SECRETexecution_countREMOVED_SECRET: 14,
   REMOVED_SECRETmetadataREMOVED_SECRET: {},
   REMOVED_SECREToutputsREMOVED_SECRET: [
    {
     REMOVED_SECRETnameREMOVED_SECRET: REMOVED_SECRETstdoutREMOVED_SECRET,
     REMOVED_SECREToutput_typeREMOVED_SECRET: REMOVED_SECRETstreamREMOVED_SECRET,
     REMOVED_SECRETtextREMOVED_SECRET: [
      REMOVED_SECRETRow 0 - Cosine Similarity: 0.7572\nREMOVED_SECRET,
      REMOVED_SECRETRow 1 - Cosine Similarity: 0.7349\nREMOVED_SECRET,
      REMOVED_SECRETRow 2 - Cosine Similarity: 0.6427\nREMOVED_SECRET,
      REMOVED_SECRETRow 3 - Cosine Similarity: 0.8146\nREMOVED_SECRET,
      REMOVED_SECRETRow 4 - Cosine Similarity: 0.7461\nREMOVED_SECRET
     ]
    }
   ],
   REMOVED_SECRETsourceREMOVED_SECRET: [
    REMOVED_SECRET# Choose a few sample rows (e.g., first 5)\nREMOVED_SECRET,
    REMOVED_SECRETfor i in range(5):\nREMOVED_SECRET,
    REMOVED_SECRET    score = cosine_similarity([entocn_english_embeddings[i]], [entocn_chinese_embeddings[i]])[0][0]\nREMOVED_SECRET,
    REMOVED_SECRET    print(f\REMOVED_SECRETRow {i} - Cosine Similarity: {score:.4f}\REMOVED_SECRET)REMOVED_SECRET
   ]
  },
  {
   REMOVED_SECRETcell_typeREMOVED_SECRET: REMOVED_SECRETcodeREMOVED_SECRET,
   REMOVED_SECRETexecution_countREMOVED_SECRET: 19,
   REMOVED_SECRETmetadataREMOVED_SECRET: {},
   REMOVED_SECREToutputsREMOVED_SECRET: [
    {
     REMOVED_SECRETnameREMOVED_SECRET: REMOVED_SECRETstdoutREMOVED_SECRET,
     REMOVED_SECREToutput_typeREMOVED_SECRET: REMOVED_SECRETstreamREMOVED_SECRET,
     REMOVED_SECRETtextREMOVED_SECRET: [
      REMOVED_SECRETAverage cosine similarity: 0.7325\nREMOVED_SECRET
     ]
    }
   ],
   REMOVED_SECRETsourceREMOVED_SECRET: [
    REMOVED_SECRETsimilarities = []\nREMOVED_SECRET,
    REMOVED_SECRETfor i in range(len(entocn_english_embeddings)):\nREMOVED_SECRET,
    REMOVED_SECRET    sim = cosine_similarity([entocn_english_embeddings[i]], [entocn_chinese_embeddings[i]])[0][0]\nREMOVED_SECRET,
    REMOVED_SECRET    similarities.append(sim)\nREMOVED_SECRET,
    REMOVED_SECRET\nREMOVED_SECRET,
    REMOVED_SECRET# Now compute the average\nREMOVED_SECRET,
    REMOVED_SECRETaverage_similarity = np.mean(similarities)\nREMOVED_SECRET,
    REMOVED_SECRETprint(f\REMOVED_SECRETAverage cosine similarity: {average_similarity:.4f}\REMOVED_SECRET)REMOVED_SECRET
   ]
  },
  {
   REMOVED_SECRETcell_typeREMOVED_SECRET: REMOVED_SECRETcodeREMOVED_SECRET,
   REMOVED_SECRETexecution_countREMOVED_SECRET: 20,
   REMOVED_SECRETmetadataREMOVED_SECRET: {},
   REMOVED_SECREToutputsREMOVED_SECRET: [],
   REMOVED_SECRETsourceREMOVED_SECRET: [
    REMOVED_SECRET# Saving the embeddings to CSV files\nREMOVED_SECRET,
    REMOVED_SECRET\nREMOVED_SECRET,
    REMOVED_SECRETdf_embeddings = pd.DataFrame({\nREMOVED_SECRET,
    REMOVED_SECRET    \REMOVED_SECRETtitle\REMOVED_SECRET: chinese_df_cleaned['translation_output'],\nREMOVED_SECRET,
    REMOVED_SECRET    \REMOVED_SECRETchinese translation\REMOVED_SECRET: chinese_df_cleaned['text'],\nREMOVED_SECRET,
    REMOVED_SECRET    \REMOVED_SECRETenglish_embedding\REMOVED_SECRET: list(entocn_english_embeddings),\nREMOVED_SECRET,
    REMOVED_SECRET    \REMOVED_SECRETchinese_embedding\REMOVED_SECRET: list(entocn_chinese_embeddings),\nREMOVED_SECRET,
    REMOVED_SECRET})\nREMOVED_SECRET,
    REMOVED_SECRET\nREMOVED_SECRET,
    REMOVED_SECRETdf_embeddings.to_pickle(\REMOVED_SECRETen_to_cn_embeddings.pkl\REMOVED_SECRET)REMOVED_SECRET
   ]
  },
  {
   REMOVED_SECRETcell_typeREMOVED_SECRET: REMOVED_SECRETcodeREMOVED_SECRET,
   REMOVED_SECRETexecution_countREMOVED_SECRET: 23,
   REMOVED_SECRETmetadataREMOVED_SECRET: {},
   REMOVED_SECREToutputsREMOVED_SECRET: [],
   REMOVED_SECRETsourceREMOVED_SECRET: [
    REMOVED_SECRETentocn_en_words, entocn_en_vectors = load_vecs(\REMOVED_SECRETwiki.en.align.vec\REMOVED_SECRET, limit_no_words=50000)\nREMOVED_SECRET,
    REMOVED_SECRETentocn_zh_words, entocn_zh_vectors = load_vecs(\REMOVED_SECRETwiki.zh.align.vec\REMOVED_SECRET, limit_no_words=50000)REMOVED_SECRET
   ]
  },
  {
   REMOVED_SECRETcell_typeREMOVED_SECRET: REMOVED_SECRETcodeREMOVED_SECRET,
   REMOVED_SECRETexecution_countREMOVED_SECRET: 27,
   REMOVED_SECRETmetadataREMOVED_SECRET: {},
   REMOVED_SECREToutputsREMOVED_SECRET: [],
   REMOVED_SECRETsourceREMOVED_SECRET: [
    REMOVED_SECRETen_dict = dict(zip(entocn_en_words, entocn_en_vectors))\nREMOVED_SECRET,
    REMOVED_SECRETzh_dict = dict(zip(entocn_zh_words, entocn_zh_vectors))REMOVED_SECRET
   ]
  },
  {
   REMOVED_SECRETcell_typeREMOVED_SECRET: REMOVED_SECRETcodeREMOVED_SECRET,
   REMOVED_SECRETexecution_countREMOVED_SECRET: 28,
   REMOVED_SECRETmetadataREMOVED_SECRET: {},
   REMOVED_SECREToutputsREMOVED_SECRET: [],
   REMOVED_SECRETsourceREMOVED_SECRET: [
    REMOVED_SECRETentocn_english_avg_embeds = chinese_df_cleaned['translation_output'].apply(lambda x: average_embedding(x, en_dict))\nREMOVED_SECRET,
    REMOVED_SECRETentocn_chinese_avg_embeds = chinese_df_cleaned['text'].apply(lambda x: average_embedding(x, zh_dict))REMOVED_SECRET
   ]
  },
  {
   REMOVED_SECRETcell_typeREMOVED_SECRET: REMOVED_SECRETcodeREMOVED_SECRET,
   REMOVED_SECRETexecution_countREMOVED_SECRET: 30,
   REMOVED_SECRETmetadataREMOVED_SECRET: {},
   REMOVED_SECREToutputsREMOVED_SECRET: [
    {
     REMOVED_SECRETnameREMOVED_SECRET: REMOVED_SECRETstdoutREMOVED_SECRET,
     REMOVED_SECREToutput_typeREMOVED_SECRET: REMOVED_SECRETstreamREMOVED_SECRET,
     REMOVED_SECRETtextREMOVED_SECRET: [
      REMOVED_SECRETAverage cosine similarity (avg word embeddings 50k): 0.0508\nREMOVED_SECRET
     ]
    }
   ],
   REMOVED_SECRETsourceREMOVED_SECRET: [
    REMOVED_SECRETsimilarities_word = []\nREMOVED_SECRET,
    REMOVED_SECRETfor i in range(len(chinese_df_cleaned)):\nREMOVED_SECRET,
    REMOVED_SECRET    sim = cosine_similarity([entocn_english_avg_embeds[i]], [entocn_chinese_avg_embeds[i]])[0][0]\nREMOVED_SECRET,
    REMOVED_SECRET    similarities_word.append(sim)\nREMOVED_SECRET,
    REMOVED_SECRET\nREMOVED_SECRET,
    REMOVED_SECRETavg_word_sim_50 = np.mean(similarities_word)\nREMOVED_SECRET,
    REMOVED_SECRETprint(f\REMOVED_SECRETAverage cosine similarity (avg word embeddings 50k): {avg_word_sim_50:.4f}\REMOVED_SECRET)REMOVED_SECRET
   ]
  },
  {
   REMOVED_SECRETcell_typeREMOVED_SECRET: REMOVED_SECRETcodeREMOVED_SECRET,
   REMOVED_SECRETexecution_countREMOVED_SECRET: 33,
   REMOVED_SECRETmetadataREMOVED_SECRET: {},
   REMOVED_SECREToutputsREMOVED_SECRET: [
    {
     REMOVED_SECRETnameREMOVED_SECRET: REMOVED_SECRETstdoutREMOVED_SECRET,
     REMOVED_SECREToutput_typeREMOVED_SECRET: REMOVED_SECRETstreamREMOVED_SECRET,
     REMOVED_SECRETtextREMOVED_SECRET: [
      REMOVED_SECRETAverage cosine similarity (avg word embeddings 5k): 0.0508\nREMOVED_SECRET
     ]
    }
   ],
   REMOVED_SECRETsourceREMOVED_SECRET: [
    REMOVED_SECRETsimilarities_word = []\nREMOVED_SECRET,
    REMOVED_SECRETfor i in range(len(chinese_df_cleaned)):\nREMOVED_SECRET,
    REMOVED_SECRET    sim = cosine_similarity([entocn_english_avg_embeds[i]], [entocn_chinese_avg_embeds[i]])[0][0]\nREMOVED_SECRET,
    REMOVED_SECRET    similarities_word.append(sim)\nREMOVED_SECRET,
    REMOVED_SECRET\nREMOVED_SECRET,
    REMOVED_SECRETavg_word_sim_10 = np.mean(similarities_word)\nREMOVED_SECRET,
    REMOVED_SECRETprint(f\REMOVED_SECRETAverage cosine similarity (avg word embeddings 5k): {avg_word_sim_10:.4f}\REMOVED_SECRET)REMOVED_SECRET
   ]
  },
  {
   REMOVED_SECRETcell_typeREMOVED_SECRET: REMOVED_SECRETcodeREMOVED_SECRET,
   REMOVED_SECRETexecution_countREMOVED_SECRET: 31,
   REMOVED_SECRETmetadataREMOVED_SECRET: {},
   REMOVED_SECREToutputsREMOVED_SECRET: [
    {
     REMOVED_SECRETnameREMOVED_SECRET: REMOVED_SECRETstdoutREMOVED_SECRET,
     REMOVED_SECREToutput_typeREMOVED_SECRET: REMOVED_SECRETstreamREMOVED_SECRET,
     REMOVED_SECRETtextREMOVED_SECRET: [
      REMOVED_SECRETAverage cosine similarity (avg word embeddings 5k): 0.0508\nREMOVED_SECRET
     ]
    }
   ],
   REMOVED_SECRETsourceREMOVED_SECRET: [
    REMOVED_SECRETsimilarities_word = []\nREMOVED_SECRET,
    REMOVED_SECRETfor i in range(len(chinese_df_cleaned)):\nREMOVED_SECRET,
    REMOVED_SECRET    sim = cosine_similarity([entocn_english_avg_embeds[i]], [entocn_chinese_avg_embeds[i]])[0][0]\nREMOVED_SECRET,
    REMOVED_SECRET    similarities_word.append(sim)\nREMOVED_SECRET,
    REMOVED_SECRET\nREMOVED_SECRET,
    REMOVED_SECRETavg_word_sim_5 = np.mean(similarities_word)\nREMOVED_SECRET,
    REMOVED_SECRETprint(f\REMOVED_SECRETAverage cosine similarity (avg word embeddings 5k): {avg_word_sim_5:.4f}\REMOVED_SECRET)REMOVED_SECRET
   ]
  },
  {
   REMOVED_SECRETcell_typeREMOVED_SECRET: REMOVED_SECRETcodeREMOVED_SECRET,
   REMOVED_SECRETexecution_countREMOVED_SECRET: 34,
   REMOVED_SECRETmetadataREMOVED_SECRET: {},
   REMOVED_SECREToutputsREMOVED_SECRET: [
    {
     REMOVED_SECRETdataREMOVED_SECRET: {
      REMOVED_SECRETimage/pngREMOVED_SECRET: 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,
      REMOVED_SECRETtext/plainREMOVED_SECRET: [
       REMOVED_SECRET<Figure size 800x500 with 1 Axes>REMOVED_SECRET
      ]
     },
     REMOVED_SECRETmetadataREMOVED_SECRET: {},
     REMOVED_SECREToutput_typeREMOVED_SECRET: REMOVED_SECRETdisplay_dataREMOVED_SECRET
    }
   ],
   REMOVED_SECRETsourceREMOVED_SECRET: [
    REMOVED_SECRET# X-axis: Word vector sizes used\nREMOVED_SECRET,
    REMOVED_SECRETx = [\REMOVED_SECRET5k words\REMOVED_SECRET, \REMOVED_SECRET10k words\REMOVED_SECRET, \REMOVED_SECRET50k words\REMOVED_SECRET]\nREMOVED_SECRET,
    REMOVED_SECRET\nREMOVED_SECRET,
    REMOVED_SECRETy = [avg_word_sim_5, avg_word_sim_10, avg_word_sim_50]\nREMOVED_SECRET,
    REMOVED_SECRET\nREMOVED_SECRET,
    REMOVED_SECRETplt.figure(figsize=(8, 5))\nREMOVED_SECRET,
    REMOVED_SECRET\nREMOVED_SECRET,
    REMOVED_SECRET# Bar chart for FastText similarities\nREMOVED_SECRET,
    REMOVED_SECRETplt.bar(x, y, color='skyblue', label=\REMOVED_SECRETFastText Avg Embedding\REMOVED_SECRET)\nREMOVED_SECRET,
    REMOVED_SECRET\nREMOVED_SECRET,
    REMOVED_SECRET# Horizontal line for BGE-M3 sentence embedding similarity\nREMOVED_SECRET,
    REMOVED_SECRETplt.axhline(y=average_similarity, color='orange', linestyle='--', label=\REMOVED_SECRETBGE-M3 Sentence Embedding\REMOVED_SECRET)\nREMOVED_SECRET,
    REMOVED_SECRET\nREMOVED_SECRET,
    REMOVED_SECRETplt.title(\REMOVED_SECRETComparison of Average Cosine Similarity\REMOVED_SECRET)\nREMOVED_SECRET,
    REMOVED_SECRETplt.ylabel(\REMOVED_SECRETCosine Similarity\REMOVED_SECRET)\nREMOVED_SECRET,
    REMOVED_SECRETplt.ylim(0, 1)\nREMOVED_SECRET,
    REMOVED_SECRETplt.legend()\nREMOVED_SECRET,
    REMOVED_SECRETplt.grid(True)\nREMOVED_SECRET,
    REMOVED_SECRETplt.tight_layout()\nREMOVED_SECRET,
    REMOVED_SECRETplt.show()REMOVED_SECRET
   ]
  }
 ],
 REMOVED_SECRETmetadataREMOVED_SECRET: {
  REMOVED_SECRETkernelspecREMOVED_SECRET: {
   REMOVED_SECRETdisplay_nameREMOVED_SECRET: REMOVED_SECRETbaseREMOVED_SECRET,
   REMOVED_SECRETlanguageREMOVED_SECRET: REMOVED_SECRETpythonREMOVED_SECRET,
   REMOVED_SECRETnameREMOVED_SECRET: REMOVED_SECRETpython3REMOVED_SECRET
  },
  REMOVED_SECRETlanguage_infoREMOVED_SECRET: {
   REMOVED_SECRETcodemirror_modeREMOVED_SECRET: {
    REMOVED_SECRETnameREMOVED_SECRET: REMOVED_SECRETipythonREMOVED_SECRET,
    REMOVED_SECRETversionREMOVED_SECRET: 3
   },
   REMOVED_SECRETfile_extensionREMOVED_SECRET: REMOVED_SECRET.pyREMOVED_SECRET,
   REMOVED_SECRETmimetypeREMOVED_SECRET: REMOVED_SECRETtext/x-pythonREMOVED_SECRET,
   REMOVED_SECRETnameREMOVED_SECRET: REMOVED_SECRETpythonREMOVED_SECRET,
   REMOVED_SECRETnbconvert_exporterREMOVED_SECRET: REMOVED_SECRETpythonREMOVED_SECRET,
   REMOVED_SECRETpygments_lexerREMOVED_SECRET: REMOVED_SECRETipython3REMOVED_SECRET,
   REMOVED_SECRETversionREMOVED_SECRET: REMOVED_SECRET3.9.18REMOVED_SECRET
  }
 },
 REMOVED_SECRETnbformatREMOVED_SECRET: 4,
 REMOVED_SECRETnbformat_minorREMOVED_SECRET: 2
}
