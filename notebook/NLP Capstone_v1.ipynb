{
 REMOVED_SECRETcellsREMOVED_SECRET: [
  {
   REMOVED_SECRETcell_typeREMOVED_SECRET: REMOVED_SECRETmarkdownREMOVED_SECRET,
   REMOVED_SECRETmetadataREMOVED_SECRET: {},
   REMOVED_SECRETsourceREMOVED_SECRET: [
    REMOVED_SECRET## CAPSTONE V1REMOVED_SECRET
   ]
  },
  {
   REMOVED_SECRETcell_typeREMOVED_SECRET: REMOVED_SECRETmarkdownREMOVED_SECRET,
   REMOVED_SECRETmetadataREMOVED_SECRET: {},
   REMOVED_SECRETsourceREMOVED_SECRET: [
    REMOVED_SECRETThe NLP Capstone V1 focuses on dataset exploration and BGE against FastText cosine similarity. The trials are done on all three datasets.REMOVED_SECRET
   ]
  },
  {
   REMOVED_SECRETcell_typeREMOVED_SECRET: REMOVED_SECRETcodeREMOVED_SECRET,
   REMOVED_SECRETexecution_countREMOVED_SECRET: 1,
   REMOVED_SECRETmetadataREMOVED_SECRET: {},
   REMOVED_SECREToutputsREMOVED_SECRET: [],
   REMOVED_SECRETsourceREMOVED_SECRET: [
    REMOVED_SECRET#All Imports and BGE Model\nREMOVED_SECRET,
    REMOVED_SECRETimport os\nREMOVED_SECRET,
    REMOVED_SECRETimport pandas as pd\nREMOVED_SECRET,
    REMOVED_SECRETimport numpy as np\nREMOVED_SECRET,
    REMOVED_SECRETimport matplotlib.pyplot as plt\nREMOVED_SECRET,
    REMOVED_SECRET\nREMOVED_SECRET,
    REMOVED_SECRETfrom sklearn.metrics.pairwise import cosine_similarity\nREMOVED_SECRET,
    REMOVED_SECRETfrom sentence_transformers import SentenceTransformer\nREMOVED_SECRET,
    REMOVED_SECRETmodel = SentenceTransformer(\REMOVED_SECRETBAAI/bge-m3\REMOVED_SECRET)REMOVED_SECRET
   ]
  },
  {
   REMOVED_SECRETcell_typeREMOVED_SECRET: REMOVED_SECRETcodeREMOVED_SECRET,
   REMOVED_SECRETexecution_countREMOVED_SECRET: 2,
   REMOVED_SECRETmetadataREMOVED_SECRET: {},
   REMOVED_SECREToutputsREMOVED_SECRET: [],
   REMOVED_SECRETsourceREMOVED_SECRET: [
    REMOVED_SECRET#Reading the italian, spanish, and chinese datase\nREMOVED_SECRET,
    REMOVED_SECRETitaly_df = pd.read_csv('dataset/target_en_to_it.csv')\nREMOVED_SECRET,
    REMOVED_SECRETspanish_df = pd.read_csv('dataset/Amazon_en_to_es.csv')\nREMOVED_SECRET,
    REMOVED_SECRETchinese_df = pd.read_csv('dataset/Shopee_CN_to_EN.csv')REMOVED_SECRET
   ]
  },
  {
   REMOVED_SECRETcell_typeREMOVED_SECRET: REMOVED_SECRETmarkdownREMOVED_SECRET,
   REMOVED_SECRETmetadataREMOVED_SECRET: {},
   REMOVED_SECRETsourceREMOVED_SECRET: [
    REMOVED_SECRET## 1. Italian Dataset ExplorationREMOVED_SECRET
   ]
  },
  {
   REMOVED_SECRETcell_typeREMOVED_SECRET: REMOVED_SECRETmarkdownREMOVED_SECRET,
   REMOVED_SECRETmetadataREMOVED_SECRET: {},
   REMOVED_SECRETsourceREMOVED_SECRET: [
    REMOVED_SECRET1.1 Cleaning of DatasetREMOVED_SECRET
   ]
  },
  {
   REMOVED_SECRETcell_typeREMOVED_SECRET: REMOVED_SECRETcodeREMOVED_SECRET,
   REMOVED_SECRETexecution_countREMOVED_SECRET: 3,
   REMOVED_SECRETmetadataREMOVED_SECRET: {},
   REMOVED_SECREToutputsREMOVED_SECRET: [
    {
     REMOVED_SECRETdataREMOVED_SECRET: {
      REMOVED_SECRETtext/htmlREMOVED_SECRET: [
       REMOVED_SECRET<div>\nREMOVED_SECRET,
       REMOVED_SECRET<style scoped>\nREMOVED_SECRET,
       REMOVED_SECRET    .dataframe tbody tr th:only-of-type {\nREMOVED_SECRET,
       REMOVED_SECRET        vertical-align: middle;\nREMOVED_SECRET,
       REMOVED_SECRET    }\nREMOVED_SECRET,
       REMOVED_SECRET\nREMOVED_SECRET,
       REMOVED_SECRET    .dataframe tbody tr th {\nREMOVED_SECRET,
       REMOVED_SECRET        vertical-align: top;\nREMOVED_SECRET,
       REMOVED_SECRET    }\nREMOVED_SECRET,
       REMOVED_SECRET\nREMOVED_SECRET,
       REMOVED_SECRET    .dataframe thead th {\nREMOVED_SECRET,
       REMOVED_SECRET        text-align: right;\nREMOVED_SECRET,
       REMOVED_SECRET    }\nREMOVED_SECRET,
       REMOVED_SECRET</style>\nREMOVED_SECRET,
       REMOVED_SECRET<table border=\REMOVED_SECRET1\REMOVED_SECRET class=\REMOVED_SECRETdataframe\REMOVED_SECRET>\nREMOVED_SECRET,
       REMOVED_SECRET  <thead>\nREMOVED_SECRET,
       REMOVED_SECRET    <tr style=\REMOVED_SECRETtext-align: right;\REMOVED_SECRET>\nREMOVED_SECRET,
       REMOVED_SECRET      <th></th>\nREMOVED_SECRET,
       REMOVED_SECRET      <th>title</th>\nREMOVED_SECRET,
       REMOVED_SECRET      <th>product_description</th>\nREMOVED_SECRET,
       REMOVED_SECRET      <th>title_italian</th>\nREMOVED_SECRET,
       REMOVED_SECRET      <th>productDescription_italian</th>\nREMOVED_SECRET,
       REMOVED_SECRET    </tr>\nREMOVED_SECRET,
       REMOVED_SECRET  </thead>\nREMOVED_SECRET,
       REMOVED_SECRET  <tbody>\nREMOVED_SECRET,
       REMOVED_SECRET    <tr>\nREMOVED_SECRET,
       REMOVED_SECRET      <th>0</th>\nREMOVED_SECRET,
       REMOVED_SECRET      <td>zwilling pro 2pc prep knife set</td>\nREMOVED_SECRET,
       REMOVED_SECRET      <td>this 2piece prep set will become the goto kniv...</td>\nREMOVED_SECRET,
       REMOVED_SECRET      <td>Zwilling pro 2pc set coltello prep</td>\nREMOVED_SECRET,
       REMOVED_SECRET      <td>Questo set prep da 2 pezzi diventerà i coltell...</td>\nREMOVED_SECRET,
       REMOVED_SECRET    </tr>\nREMOVED_SECRET,
       REMOVED_SECRET    <tr>\nREMOVED_SECRET,
       REMOVED_SECRET      <th>1</th>\nREMOVED_SECRET,
       REMOVED_SECRET      <td>womens slim fit drape wrap tshirt  a new day</td>\nREMOVED_SECRET,
       REMOVED_SECRET      <td>elevate your warmweather outfits with this sli...</td>\nREMOVED_SECRET,
       REMOVED_SECRET      <td>donne slim fit drappeggio avvolgere tshirt un ...</td>\nREMOVED_SECRET,
       REMOVED_SECRET      <td>elevare i vostri outfit warmweather con questo...</td>\nREMOVED_SECRET,
       REMOVED_SECRET    </tr>\nREMOVED_SECRET,
       REMOVED_SECRET    <tr>\nREMOVED_SECRET,
       REMOVED_SECRET      <th>2</th>\nREMOVED_SECRET,
       REMOVED_SECRET      <td>mens teenage mutant ninja turtles group shot l...</td>\nREMOVED_SECRET,
       REMOVED_SECRET      <td>cowabunga dude its time to explore the new yor...</td>\nREMOVED_SECRET,
       REMOVED_SECRET      <td>mens adolescente mutante ninja tartarughe grup...</td>\nREMOVED_SECRET,
       REMOVED_SECRET      <td>cowabunga tizio il suo tempo per esplorare il ...</td>\nREMOVED_SECRET,
       REMOVED_SECRET    </tr>\nREMOVED_SECRET,
       REMOVED_SECRET    <tr>\nREMOVED_SECRET,
       REMOVED_SECRET      <th>3</th>\nREMOVED_SECRET,
       REMOVED_SECRET      <td>mens wwe triple h the game logo tshirt</td>\nREMOVED_SECRET,
       REMOVED_SECRET      <td>ladies and gentlemen children of all ages from...</td>\nREMOVED_SECRET,
       REMOVED_SECRET      <td>mens wwe triplo h il gioco logo tshirt</td>\nREMOVED_SECRET,
       REMOVED_SECRET      <td>signore e signori bambini di tutte le età dal ...</td>\nREMOVED_SECRET,
       REMOVED_SECRET    </tr>\nREMOVED_SECRET,
       REMOVED_SECRET    <tr>\nREMOVED_SECRET,
       REMOVED_SECRET      <th>4</th>\nREMOVED_SECRET,
       REMOVED_SECRET      <td>purina fancy feast grilled gravy delights feas...</td>\nREMOVED_SECRET,
       REMOVED_SECRET      <td>give your cat a delightful gourmet meal with p...</td>\nREMOVED_SECRET,
       REMOVED_SECRET      <td>purina fantasia festa grigliato sugo delizie f...</td>\nREMOVED_SECRET,
       REMOVED_SECRET      <td>dare al vostro gatto un delizioso pasto gourme...</td>\nREMOVED_SECRET,
       REMOVED_SECRET    </tr>\nREMOVED_SECRET,
       REMOVED_SECRET    <tr>\nREMOVED_SECRET,
       REMOVED_SECRET      <th>...</th>\nREMOVED_SECRET,
       REMOVED_SECRET      <td>...</td>\nREMOVED_SECRET,
       REMOVED_SECRET      <td>...</td>\nREMOVED_SECRET,
       REMOVED_SECRET      <td>...</td>\nREMOVED_SECRET,
       REMOVED_SECRET      <td>...</td>\nREMOVED_SECRET,
       REMOVED_SECRET    </tr>\nREMOVED_SECRET,
       REMOVED_SECRET    <tr>\nREMOVED_SECRET,
       REMOVED_SECRET      <th>992</th>\nREMOVED_SECRET,
       REMOVED_SECRET      <td>multi collagen protein powder types i ii  ii b...</td>\nREMOVED_SECRET,
       REMOVED_SECRET      <td>multi collagen protein powder types i ii  ii 1...</td>\nREMOVED_SECRET,
       REMOVED_SECRET      <td>proteine multi collageno in polvere ii ii ii o...</td>\nREMOVED_SECRET,
       REMOVED_SECRET      <td>Il collagene multi collageno in polvere ii ii ...</td>\nREMOVED_SECRET,
       REMOVED_SECRET    </tr>\nREMOVED_SECRET,
       REMOVED_SECRET    <tr>\nREMOVED_SECRET,
       REMOVED_SECRET      <th>993</th>\nREMOVED_SECRET,
       REMOVED_SECRET      <td>hope  henry mens waffle knit pullover sweater</td>\nREMOVED_SECRET,
       REMOVED_SECRET      <td>this sweater in our soft 100 organic cotton wi...</td>\nREMOVED_SECRET,
       REMOVED_SECRET      <td>speranza henry uomo waffle maglia pullover mag...</td>\nREMOVED_SECRET,
       REMOVED_SECRET      <td>questo maglione nel nostro morbido cotone biol...</td>\nREMOVED_SECRET,
       REMOVED_SECRET    </tr>\nREMOVED_SECRET,
       REMOVED_SECRET    <tr>\nREMOVED_SECRET,
       REMOVED_SECRET      <th>994</th>\nREMOVED_SECRET,
       REMOVED_SECRET      <td>noritake colortrio 16piece coupe dinnerware set</td>\nREMOVED_SECRET,
       REMOVED_SECRET      <td>noritake colortrio clay 16piece set coupe in b...</td>\nREMOVED_SECRET,
       REMOVED_SECRET      <td>noritake colortio 16 pezzi coupé set per la cena</td>\nREMOVED_SECRET,
       REMOVED_SECRET      <td>noritake colortrio argilla 16piece set coupé i...</td>\nREMOVED_SECRET,
       REMOVED_SECRET    </tr>\nREMOVED_SECRET,
       REMOVED_SECRET    <tr>\nREMOVED_SECRET,
       REMOVED_SECRET      <th>995</th>\nREMOVED_SECRET,
       REMOVED_SECRET      <td>hope  henry mens fine gauge vneck pullover swe...</td>\nREMOVED_SECRET,
       REMOVED_SECRET      <td>this sweater in our soft 100 organic cotton wi...</td>\nREMOVED_SECRET,
       REMOVED_SECRET      <td>speranza henry mens maglione pullover fine gau...</td>\nREMOVED_SECRET,
       REMOVED_SECRET      <td>questo maglione nel nostro morbido cotone biol...</td>\nREMOVED_SECRET,
       REMOVED_SECRET    </tr>\nREMOVED_SECRET,
       REMOVED_SECRET    <tr>\nREMOVED_SECRET,
       REMOVED_SECRET      <th>996</th>\nREMOVED_SECRET,
       REMOVED_SECRET      <td>double strength larginine 1000 mg by now foods...</td>\nREMOVED_SECRET,
       REMOVED_SECRET      <td>double strength larginine 1000 mg 180 tablet d...</td>\nREMOVED_SECRET,
       REMOVED_SECRET      <td>larginina 1000 mg a doppia resistenza ormai al...</td>\nREMOVED_SECRET,
       REMOVED_SECRET      <td>Larginina a doppia concentrazione 1000 mg 180 ...</td>\nREMOVED_SECRET,
       REMOVED_SECRET    </tr>\nREMOVED_SECRET,
       REMOVED_SECRET  </tbody>\nREMOVED_SECRET,
       REMOVED_SECRET</table>\nREMOVED_SECRET,
       REMOVED_SECRET<p>997 rows × 4 columns</p>\nREMOVED_SECRET,
       REMOVED_SECRET</div>REMOVED_SECRET
      ],
      REMOVED_SECRETtext/plainREMOVED_SECRET: [
       REMOVED_SECRET                                                 title  \\\nREMOVED_SECRET,
       REMOVED_SECRET0                      zwilling pro 2pc prep knife set   \nREMOVED_SECRET,
       REMOVED_SECRET1         womens slim fit drape wrap tshirt  a new day   \nREMOVED_SECRET,
       REMOVED_SECRET2    mens teenage mutant ninja turtles group shot l...   \nREMOVED_SECRET,
       REMOVED_SECRET3               mens wwe triple h the game logo tshirt   \nREMOVED_SECRET,
       REMOVED_SECRET4    purina fancy feast grilled gravy delights feas...   \nREMOVED_SECRET,
       REMOVED_SECRET..                                                 ...   \nREMOVED_SECRET,
       REMOVED_SECRET992  multi collagen protein powder types i ii  ii b...   \nREMOVED_SECRET,
       REMOVED_SECRET993      hope  henry mens waffle knit pullover sweater   \nREMOVED_SECRET,
       REMOVED_SECRET994    noritake colortrio 16piece coupe dinnerware set   \nREMOVED_SECRET,
       REMOVED_SECRET995  hope  henry mens fine gauge vneck pullover swe...   \nREMOVED_SECRET,
       REMOVED_SECRET996  double strength larginine 1000 mg by now foods...   \nREMOVED_SECRET,
       REMOVED_SECRET\nREMOVED_SECRET,
       REMOVED_SECRET                                   product_description  \\\nREMOVED_SECRET,
       REMOVED_SECRET0    this 2piece prep set will become the goto kniv...   \nREMOVED_SECRET,
       REMOVED_SECRET1    elevate your warmweather outfits with this sli...   \nREMOVED_SECRET,
       REMOVED_SECRET2    cowabunga dude its time to explore the new yor...   \nREMOVED_SECRET,
       REMOVED_SECRET3    ladies and gentlemen children of all ages from...   \nREMOVED_SECRET,
       REMOVED_SECRET4    give your cat a delightful gourmet meal with p...   \nREMOVED_SECRET,
       REMOVED_SECRET..                                                 ...   \nREMOVED_SECRET,
       REMOVED_SECRET992  multi collagen protein powder types i ii  ii 1...   \nREMOVED_SECRET,
       REMOVED_SECRET993  this sweater in our soft 100 organic cotton wi...   \nREMOVED_SECRET,
       REMOVED_SECRET994  noritake colortrio clay 16piece set coupe in b...   \nREMOVED_SECRET,
       REMOVED_SECRET995  this sweater in our soft 100 organic cotton wi...   \nREMOVED_SECRET,
       REMOVED_SECRET996  double strength larginine 1000 mg 180 tablet d...   \nREMOVED_SECRET,
       REMOVED_SECRET\nREMOVED_SECRET,
       REMOVED_SECRET                                         title_italian  \\\nREMOVED_SECRET,
       REMOVED_SECRET0                   Zwilling pro 2pc set coltello prep   \nREMOVED_SECRET,
       REMOVED_SECRET1    donne slim fit drappeggio avvolgere tshirt un ...   \nREMOVED_SECRET,
       REMOVED_SECRET2    mens adolescente mutante ninja tartarughe grup...   \nREMOVED_SECRET,
       REMOVED_SECRET3               mens wwe triplo h il gioco logo tshirt   \nREMOVED_SECRET,
       REMOVED_SECRET4    purina fantasia festa grigliato sugo delizie f...   \nREMOVED_SECRET,
       REMOVED_SECRET..                                                 ...   \nREMOVED_SECRET,
       REMOVED_SECRET992  proteine multi collageno in polvere ii ii ii o...   \nREMOVED_SECRET,
       REMOVED_SECRET993  speranza henry uomo waffle maglia pullover mag...   \nREMOVED_SECRET,
       REMOVED_SECRET994   noritake colortio 16 pezzi coupé set per la cena   \nREMOVED_SECRET,
       REMOVED_SECRET995  speranza henry mens maglione pullover fine gau...   \nREMOVED_SECRET,
       REMOVED_SECRET996  larginina 1000 mg a doppia resistenza ormai al...   \nREMOVED_SECRET,
       REMOVED_SECRET\nREMOVED_SECRET,
       REMOVED_SECRET                            productDescription_italian  \nREMOVED_SECRET,
       REMOVED_SECRET0    Questo set prep da 2 pezzi diventerà i coltell...  \nREMOVED_SECRET,
       REMOVED_SECRET1    elevare i vostri outfit warmweather con questo...  \nREMOVED_SECRET,
       REMOVED_SECRET2    cowabunga tizio il suo tempo per esplorare il ...  \nREMOVED_SECRET,
       REMOVED_SECRET3    signore e signori bambini di tutte le età dal ...  \nREMOVED_SECRET,
       REMOVED_SECRET4    dare al vostro gatto un delizioso pasto gourme...  \nREMOVED_SECRET,
       REMOVED_SECRET..                                                 ...  \nREMOVED_SECRET,
       REMOVED_SECRET992  Il collagene multi collageno in polvere ii ii ...  \nREMOVED_SECRET,
       REMOVED_SECRET993  questo maglione nel nostro morbido cotone biol...  \nREMOVED_SECRET,
       REMOVED_SECRET994  noritake colortrio argilla 16piece set coupé i...  \nREMOVED_SECRET,
       REMOVED_SECRET995  questo maglione nel nostro morbido cotone biol...  \nREMOVED_SECRET,
       REMOVED_SECRET996  Larginina a doppia concentrazione 1000 mg 180 ...  \nREMOVED_SECRET,
       REMOVED_SECRET\nREMOVED_SECRET,
       REMOVED_SECRET[997 rows x 4 columns]REMOVED_SECRET
      ]
     },
     REMOVED_SECRETexecution_countREMOVED_SECRET: 3,
     REMOVED_SECRETmetadataREMOVED_SECRET: {},
     REMOVED_SECREToutput_typeREMOVED_SECRET: REMOVED_SECRETexecute_resultREMOVED_SECRET
    }
   ],
   REMOVED_SECRETsourceREMOVED_SECRET: [
    REMOVED_SECRETitaly_dfREMOVED_SECRET
   ]
  },
  {
   REMOVED_SECRETcell_typeREMOVED_SECRET: REMOVED_SECRETcodeREMOVED_SECRET,
   REMOVED_SECRETexecution_countREMOVED_SECRET: 4,
   REMOVED_SECRETmetadataREMOVED_SECRET: {},
   REMOVED_SECREToutputsREMOVED_SECRET: [
    {
     REMOVED_SECRETdataREMOVED_SECRET: {
      REMOVED_SECRETtext/htmlREMOVED_SECRET: [
       REMOVED_SECRET<div>\nREMOVED_SECRET,
       REMOVED_SECRET<style scoped>\nREMOVED_SECRET,
       REMOVED_SECRET    .dataframe tbody tr th:only-of-type {\nREMOVED_SECRET,
       REMOVED_SECRET        vertical-align: middle;\nREMOVED_SECRET,
       REMOVED_SECRET    }\nREMOVED_SECRET,
       REMOVED_SECRET\nREMOVED_SECRET,
       REMOVED_SECRET    .dataframe tbody tr th {\nREMOVED_SECRET,
       REMOVED_SECRET        vertical-align: top;\nREMOVED_SECRET,
       REMOVED_SECRET    }\nREMOVED_SECRET,
       REMOVED_SECRET\nREMOVED_SECRET,
       REMOVED_SECRET    .dataframe thead th {\nREMOVED_SECRET,
       REMOVED_SECRET        text-align: right;\nREMOVED_SECRET,
       REMOVED_SECRET    }\nREMOVED_SECRET,
       REMOVED_SECRET</style>\nREMOVED_SECRET,
       REMOVED_SECRET<table border=\REMOVED_SECRET1\REMOVED_SECRET class=\REMOVED_SECRETdataframe\REMOVED_SECRET>\nREMOVED_SECRET,
       REMOVED_SECRET  <thead>\nREMOVED_SECRET,
       REMOVED_SECRET    <tr style=\REMOVED_SECRETtext-align: right;\REMOVED_SECRET>\nREMOVED_SECRET,
       REMOVED_SECRET      <th></th>\nREMOVED_SECRET,
       REMOVED_SECRET      <th>title</th>\nREMOVED_SECRET,
       REMOVED_SECRET      <th>product_description</th>\nREMOVED_SECRET,
       REMOVED_SECRET      <th>title_italian</th>\nREMOVED_SECRET,
       REMOVED_SECRET      <th>productDescription_italian</th>\nREMOVED_SECRET,
       REMOVED_SECRET    </tr>\nREMOVED_SECRET,
       REMOVED_SECRET  </thead>\nREMOVED_SECRET,
       REMOVED_SECRET  <tbody>\nREMOVED_SECRET,
       REMOVED_SECRET    <tr>\nREMOVED_SECRET,
       REMOVED_SECRET      <th>0</th>\nREMOVED_SECRET,
       REMOVED_SECRET      <td>zwilling pro 2pc prep knife set</td>\nREMOVED_SECRET,
       REMOVED_SECRET      <td>this 2piece prep set will become the goto kniv...</td>\nREMOVED_SECRET,
       REMOVED_SECRET      <td>Zwilling pro 2pc set coltello prep</td>\nREMOVED_SECRET,
       REMOVED_SECRET      <td>Questo set prep da 2 pezzi diventerà i coltell...</td>\nREMOVED_SECRET,
       REMOVED_SECRET    </tr>\nREMOVED_SECRET,
       REMOVED_SECRET    <tr>\nREMOVED_SECRET,
       REMOVED_SECRET      <th>1</th>\nREMOVED_SECRET,
       REMOVED_SECRET      <td>womens slim fit drape wrap tshirt  a new day</td>\nREMOVED_SECRET,
       REMOVED_SECRET      <td>elevate your warmweather outfits with this sli...</td>\nREMOVED_SECRET,
       REMOVED_SECRET      <td>donne slim fit drappeggio avvolgere tshirt un ...</td>\nREMOVED_SECRET,
       REMOVED_SECRET      <td>elevare i vostri outfit warmweather con questo...</td>\nREMOVED_SECRET,
       REMOVED_SECRET    </tr>\nREMOVED_SECRET,
       REMOVED_SECRET    <tr>\nREMOVED_SECRET,
       REMOVED_SECRET      <th>2</th>\nREMOVED_SECRET,
       REMOVED_SECRET      <td>mens teenage mutant ninja turtles group shot l...</td>\nREMOVED_SECRET,
       REMOVED_SECRET      <td>cowabunga dude its time to explore the new yor...</td>\nREMOVED_SECRET,
       REMOVED_SECRET      <td>mens adolescente mutante ninja tartarughe grup...</td>\nREMOVED_SECRET,
       REMOVED_SECRET      <td>cowabunga tizio il suo tempo per esplorare il ...</td>\nREMOVED_SECRET,
       REMOVED_SECRET    </tr>\nREMOVED_SECRET,
       REMOVED_SECRET    <tr>\nREMOVED_SECRET,
       REMOVED_SECRET      <th>3</th>\nREMOVED_SECRET,
       REMOVED_SECRET      <td>mens wwe triple h the game logo tshirt</td>\nREMOVED_SECRET,
       REMOVED_SECRET      <td>ladies and gentlemen children of all ages from...</td>\nREMOVED_SECRET,
       REMOVED_SECRET      <td>mens wwe triplo h il gioco logo tshirt</td>\nREMOVED_SECRET,
       REMOVED_SECRET      <td>signore e signori bambini di tutte le età dal ...</td>\nREMOVED_SECRET,
       REMOVED_SECRET    </tr>\nREMOVED_SECRET,
       REMOVED_SECRET    <tr>\nREMOVED_SECRET,
       REMOVED_SECRET      <th>4</th>\nREMOVED_SECRET,
       REMOVED_SECRET      <td>purina fancy feast grilled gravy delights feas...</td>\nREMOVED_SECRET,
       REMOVED_SECRET      <td>give your cat a delightful gourmet meal with p...</td>\nREMOVED_SECRET,
       REMOVED_SECRET      <td>purina fantasia festa grigliato sugo delizie f...</td>\nREMOVED_SECRET,
       REMOVED_SECRET      <td>dare al vostro gatto un delizioso pasto gourme...</td>\nREMOVED_SECRET,
       REMOVED_SECRET    </tr>\nREMOVED_SECRET,
       REMOVED_SECRET    <tr>\nREMOVED_SECRET,
       REMOVED_SECRET      <th>...</th>\nREMOVED_SECRET,
       REMOVED_SECRET      <td>...</td>\nREMOVED_SECRET,
       REMOVED_SECRET      <td>...</td>\nREMOVED_SECRET,
       REMOVED_SECRET      <td>...</td>\nREMOVED_SECRET,
       REMOVED_SECRET      <td>...</td>\nREMOVED_SECRET,
       REMOVED_SECRET    </tr>\nREMOVED_SECRET,
       REMOVED_SECRET    <tr>\nREMOVED_SECRET,
       REMOVED_SECRET      <th>868</th>\nREMOVED_SECRET,
       REMOVED_SECRET      <td>multi collagen protein powder types i ii  ii b...</td>\nREMOVED_SECRET,
       REMOVED_SECRET      <td>multi collagen protein powder types i ii  ii 1...</td>\nREMOVED_SECRET,
       REMOVED_SECRET      <td>proteine multi collageno in polvere ii ii ii o...</td>\nREMOVED_SECRET,
       REMOVED_SECRET      <td>Il collagene multi collageno in polvere ii ii ...</td>\nREMOVED_SECRET,
       REMOVED_SECRET    </tr>\nREMOVED_SECRET,
       REMOVED_SECRET    <tr>\nREMOVED_SECRET,
       REMOVED_SECRET      <th>869</th>\nREMOVED_SECRET,
       REMOVED_SECRET      <td>hope  henry mens waffle knit pullover sweater</td>\nREMOVED_SECRET,
       REMOVED_SECRET      <td>this sweater in our soft 100 organic cotton wi...</td>\nREMOVED_SECRET,
       REMOVED_SECRET      <td>speranza henry uomo waffle maglia pullover mag...</td>\nREMOVED_SECRET,
       REMOVED_SECRET      <td>questo maglione nel nostro morbido cotone biol...</td>\nREMOVED_SECRET,
       REMOVED_SECRET    </tr>\nREMOVED_SECRET,
       REMOVED_SECRET    <tr>\nREMOVED_SECRET,
       REMOVED_SECRET      <th>870</th>\nREMOVED_SECRET,
       REMOVED_SECRET      <td>noritake colortrio 16piece coupe dinnerware set</td>\nREMOVED_SECRET,
       REMOVED_SECRET      <td>noritake colortrio clay 16piece set coupe in b...</td>\nREMOVED_SECRET,
       REMOVED_SECRET      <td>noritake colortio 16 pezzi coupé set per la cena</td>\nREMOVED_SECRET,
       REMOVED_SECRET      <td>noritake colortrio argilla 16piece set coupé i...</td>\nREMOVED_SECRET,
       REMOVED_SECRET    </tr>\nREMOVED_SECRET,
       REMOVED_SECRET    <tr>\nREMOVED_SECRET,
       REMOVED_SECRET      <th>871</th>\nREMOVED_SECRET,
       REMOVED_SECRET      <td>hope  henry mens fine gauge vneck pullover swe...</td>\nREMOVED_SECRET,
       REMOVED_SECRET      <td>this sweater in our soft 100 organic cotton wi...</td>\nREMOVED_SECRET,
       REMOVED_SECRET      <td>speranza henry mens maglione pullover fine gau...</td>\nREMOVED_SECRET,
       REMOVED_SECRET      <td>questo maglione nel nostro morbido cotone biol...</td>\nREMOVED_SECRET,
       REMOVED_SECRET    </tr>\nREMOVED_SECRET,
       REMOVED_SECRET    <tr>\nREMOVED_SECRET,
       REMOVED_SECRET      <th>872</th>\nREMOVED_SECRET,
       REMOVED_SECRET      <td>double strength larginine 1000 mg by now foods...</td>\nREMOVED_SECRET,
       REMOVED_SECRET      <td>double strength larginine 1000 mg 180 tablet d...</td>\nREMOVED_SECRET,
       REMOVED_SECRET      <td>larginina 1000 mg a doppia resistenza ormai al...</td>\nREMOVED_SECRET,
       REMOVED_SECRET      <td>Larginina a doppia concentrazione 1000 mg 180 ...</td>\nREMOVED_SECRET,
       REMOVED_SECRET    </tr>\nREMOVED_SECRET,
       REMOVED_SECRET  </tbody>\nREMOVED_SECRET,
       REMOVED_SECRET</table>\nREMOVED_SECRET,
       REMOVED_SECRET<p>873 rows × 4 columns</p>\nREMOVED_SECRET,
       REMOVED_SECRET</div>REMOVED_SECRET
      ],
      REMOVED_SECRETtext/plainREMOVED_SECRET: [
       REMOVED_SECRET                                                 title  \\\nREMOVED_SECRET,
       REMOVED_SECRET0                      zwilling pro 2pc prep knife set   \nREMOVED_SECRET,
       REMOVED_SECRET1         womens slim fit drape wrap tshirt  a new day   \nREMOVED_SECRET,
       REMOVED_SECRET2    mens teenage mutant ninja turtles group shot l...   \nREMOVED_SECRET,
       REMOVED_SECRET3               mens wwe triple h the game logo tshirt   \nREMOVED_SECRET,
       REMOVED_SECRET4    purina fancy feast grilled gravy delights feas...   \nREMOVED_SECRET,
       REMOVED_SECRET..                                                 ...   \nREMOVED_SECRET,
       REMOVED_SECRET868  multi collagen protein powder types i ii  ii b...   \nREMOVED_SECRET,
       REMOVED_SECRET869      hope  henry mens waffle knit pullover sweater   \nREMOVED_SECRET,
       REMOVED_SECRET870    noritake colortrio 16piece coupe dinnerware set   \nREMOVED_SECRET,
       REMOVED_SECRET871  hope  henry mens fine gauge vneck pullover swe...   \nREMOVED_SECRET,
       REMOVED_SECRET872  double strength larginine 1000 mg by now foods...   \nREMOVED_SECRET,
       REMOVED_SECRET\nREMOVED_SECRET,
       REMOVED_SECRET                                   product_description  \\\nREMOVED_SECRET,
       REMOVED_SECRET0    this 2piece prep set will become the goto kniv...   \nREMOVED_SECRET,
       REMOVED_SECRET1    elevate your warmweather outfits with this sli...   \nREMOVED_SECRET,
       REMOVED_SECRET2    cowabunga dude its time to explore the new yor...   \nREMOVED_SECRET,
       REMOVED_SECRET3    ladies and gentlemen children of all ages from...   \nREMOVED_SECRET,
       REMOVED_SECRET4    give your cat a delightful gourmet meal with p...   \nREMOVED_SECRET,
       REMOVED_SECRET..                                                 ...   \nREMOVED_SECRET,
       REMOVED_SECRET868  multi collagen protein powder types i ii  ii 1...   \nREMOVED_SECRET,
       REMOVED_SECRET869  this sweater in our soft 100 organic cotton wi...   \nREMOVED_SECRET,
       REMOVED_SECRET870  noritake colortrio clay 16piece set coupe in b...   \nREMOVED_SECRET,
       REMOVED_SECRET871  this sweater in our soft 100 organic cotton wi...   \nREMOVED_SECRET,
       REMOVED_SECRET872  double strength larginine 1000 mg 180 tablet d...   \nREMOVED_SECRET,
       REMOVED_SECRET\nREMOVED_SECRET,
       REMOVED_SECRET                                         title_italian  \\\nREMOVED_SECRET,
       REMOVED_SECRET0                   Zwilling pro 2pc set coltello prep   \nREMOVED_SECRET,
       REMOVED_SECRET1    donne slim fit drappeggio avvolgere tshirt un ...   \nREMOVED_SECRET,
       REMOVED_SECRET2    mens adolescente mutante ninja tartarughe grup...   \nREMOVED_SECRET,
       REMOVED_SECRET3               mens wwe triplo h il gioco logo tshirt   \nREMOVED_SECRET,
       REMOVED_SECRET4    purina fantasia festa grigliato sugo delizie f...   \nREMOVED_SECRET,
       REMOVED_SECRET..                                                 ...   \nREMOVED_SECRET,
       REMOVED_SECRET868  proteine multi collageno in polvere ii ii ii o...   \nREMOVED_SECRET,
       REMOVED_SECRET869  speranza henry uomo waffle maglia pullover mag...   \nREMOVED_SECRET,
       REMOVED_SECRET870   noritake colortio 16 pezzi coupé set per la cena   \nREMOVED_SECRET,
       REMOVED_SECRET871  speranza henry mens maglione pullover fine gau...   \nREMOVED_SECRET,
       REMOVED_SECRET872  larginina 1000 mg a doppia resistenza ormai al...   \nREMOVED_SECRET,
       REMOVED_SECRET\nREMOVED_SECRET,
       REMOVED_SECRET                            productDescription_italian  \nREMOVED_SECRET,
       REMOVED_SECRET0    Questo set prep da 2 pezzi diventerà i coltell...  \nREMOVED_SECRET,
       REMOVED_SECRET1    elevare i vostri outfit warmweather con questo...  \nREMOVED_SECRET,
       REMOVED_SECRET2    cowabunga tizio il suo tempo per esplorare il ...  \nREMOVED_SECRET,
       REMOVED_SECRET3    signore e signori bambini di tutte le età dal ...  \nREMOVED_SECRET,
       REMOVED_SECRET4    dare al vostro gatto un delizioso pasto gourme...  \nREMOVED_SECRET,
       REMOVED_SECRET..                                                 ...  \nREMOVED_SECRET,
       REMOVED_SECRET868  Il collagene multi collageno in polvere ii ii ...  \nREMOVED_SECRET,
       REMOVED_SECRET869  questo maglione nel nostro morbido cotone biol...  \nREMOVED_SECRET,
       REMOVED_SECRET870  noritake colortrio argilla 16piece set coupé i...  \nREMOVED_SECRET,
       REMOVED_SECRET871  questo maglione nel nostro morbido cotone biol...  \nREMOVED_SECRET,
       REMOVED_SECRET872  Larginina a doppia concentrazione 1000 mg 180 ...  \nREMOVED_SECRET,
       REMOVED_SECRET\nREMOVED_SECRET,
       REMOVED_SECRET[873 rows x 4 columns]REMOVED_SECRET
      ]
     },
     REMOVED_SECRETexecution_countREMOVED_SECRET: 4,
     REMOVED_SECRETmetadataREMOVED_SECRET: {},
     REMOVED_SECREToutput_typeREMOVED_SECRET: REMOVED_SECRETexecute_resultREMOVED_SECRET
    }
   ],
   REMOVED_SECRETsourceREMOVED_SECRET: [
    REMOVED_SECRET#Basic data cleaning, dropping duplicates\nREMOVED_SECRET,
    REMOVED_SECRETitaly_df_cleaned = italy_df.drop_duplicates()\nREMOVED_SECRET,
    REMOVED_SECRETitaly_df_cleaned.reset_index(drop=True, inplace=True)\nREMOVED_SECRET,
    REMOVED_SECRET\nREMOVED_SECRET,
    REMOVED_SECRETitaly_df_cleanedREMOVED_SECRET
   ]
  },
  {
   REMOVED_SECRETcell_typeREMOVED_SECRET: REMOVED_SECRETcodeREMOVED_SECRET,
   REMOVED_SECRETexecution_countREMOVED_SECRET: 5,
   REMOVED_SECRETmetadataREMOVED_SECRET: {},
   REMOVED_SECREToutputsREMOVED_SECRET: [
    {
     REMOVED_SECRETdataREMOVED_SECRET: {
      REMOVED_SECRETtext/plainREMOVED_SECRET: [
       REMOVED_SECRET15REMOVED_SECRET
      ]
     },
     REMOVED_SECRETexecution_countREMOVED_SECRET: 5,
     REMOVED_SECRETmetadataREMOVED_SECRET: {},
     REMOVED_SECREToutput_typeREMOVED_SECRET: REMOVED_SECRETexecute_resultREMOVED_SECRET
    }
   ],
   REMOVED_SECRETsourceREMOVED_SECRET: [
    REMOVED_SECRET#Declare length of title for both english and Italian\nREMOVED_SECRET,
    REMOVED_SECRETtitle_lengths = italy_df_cleaned['title'].str.len().describe()\nREMOVED_SECRET,
    REMOVED_SECRETtitle_lengths_it = italy_df_cleaned['title_italian'].str.len().describe()\nREMOVED_SECRET,
    REMOVED_SECRET(italy_df_cleaned['title'] == italy_df_cleaned['title_italian']).sum()REMOVED_SECRET
   ]
  },
  {
   REMOVED_SECRETcell_typeREMOVED_SECRET: REMOVED_SECRETmarkdownREMOVED_SECRET,
   REMOVED_SECRETmetadataREMOVED_SECRET: {},
   REMOVED_SECRETsourceREMOVED_SECRET: [
    REMOVED_SECRET1.2 Word Count for Both English and ItalianREMOVED_SECRET
   ]
  },
  {
   REMOVED_SECRETcell_typeREMOVED_SECRET: REMOVED_SECRETcodeREMOVED_SECRET,
   REMOVED_SECRETexecution_countREMOVED_SECRET: 6,
   REMOVED_SECRETmetadataREMOVED_SECRET: {},
   REMOVED_SECREToutputsREMOVED_SECRET: [
    {
     REMOVED_SECRETdataREMOVED_SECRET: {
      REMOVED_SECRETimage/pngREMOVED_SECRET: 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REMOVED_SECRET,
      REMOVED_SECRETtext/plainREMOVED_SECRET: [
       REMOVED_SECRET<Figure size 640x480 with 1 Axes>REMOVED_SECRET
      ]
     },
     REMOVED_SECRETmetadataREMOVED_SECRET: {},
     REMOVED_SECREToutput_typeREMOVED_SECRET: REMOVED_SECRETdisplay_dataREMOVED_SECRET
    }
   ],
   REMOVED_SECRETsourceREMOVED_SECRET: [
    REMOVED_SECRET#Distribution of Word Count for English\nREMOVED_SECRET,
    REMOVED_SECRETplt.hist(title_lengths, bins=20)\nREMOVED_SECRET,
    REMOVED_SECRETplt.title(\REMOVED_SECRETDistribution of Word Counts in English Titles\REMOVED_SECRET)\nREMOVED_SECRET,
    REMOVED_SECRETplt.xlabel(\REMOVED_SECRETNumber of Words\REMOVED_SECRET)\nREMOVED_SECRET,
    REMOVED_SECRETplt.ylabel(\REMOVED_SECRETFrequency\REMOVED_SECRET)\nREMOVED_SECRET,
    REMOVED_SECRETplt.show()REMOVED_SECRET
   ]
  },
  {
   REMOVED_SECRETcell_typeREMOVED_SECRET: REMOVED_SECRETcodeREMOVED_SECRET,
   REMOVED_SECRETexecution_countREMOVED_SECRET: 7,
   REMOVED_SECRETmetadataREMOVED_SECRET: {},
   REMOVED_SECREToutputsREMOVED_SECRET: [
    {
     REMOVED_SECRETdataREMOVED_SECRET: {
      REMOVED_SECRETimage/pngREMOVED_SECRET: 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REMOVED_SECRET,
      REMOVED_SECRETtext/plainREMOVED_SECRET: [
       REMOVED_SECRET<Figure size 640x480 with 1 Axes>REMOVED_SECRET
      ]
     },
     REMOVED_SECRETmetadataREMOVED_SECRET: {},
     REMOVED_SECREToutput_typeREMOVED_SECRET: REMOVED_SECRETdisplay_dataREMOVED_SECRET
    }
   ],
   REMOVED_SECRETsourceREMOVED_SECRET: [
    REMOVED_SECRET#Distribution of Word Count for Italian\nREMOVED_SECRET,
    REMOVED_SECRETplt.hist(title_lengths_it, bins=20)\nREMOVED_SECRET,
    REMOVED_SECRETplt.title(\REMOVED_SECRETDistribution of Word Counts in Italian Titles\REMOVED_SECRET)\nREMOVED_SECRET,
    REMOVED_SECRETplt.xlabel(\REMOVED_SECRETNumber of Words\REMOVED_SECRET)\nREMOVED_SECRET,
    REMOVED_SECRETplt.ylabel(\REMOVED_SECRETFrequency\REMOVED_SECRET)\nREMOVED_SECRET,
    REMOVED_SECRETplt.show()REMOVED_SECRET
   ]
  },
  {
   REMOVED_SECRETcell_typeREMOVED_SECRET: REMOVED_SECRETmarkdownREMOVED_SECRET,
   REMOVED_SECRETmetadataREMOVED_SECRET: {},
   REMOVED_SECRETsourceREMOVED_SECRET: [
    REMOVED_SECRET1.3 Embed both English and Italian DataREMOVED_SECRET
   ]
  },
  {
   REMOVED_SECRETcell_typeREMOVED_SECRET: REMOVED_SECRETcodeREMOVED_SECRET,
   REMOVED_SECRETexecution_countREMOVED_SECRET: 8,
   REMOVED_SECRETmetadataREMOVED_SECRET: {},
   REMOVED_SECREToutputsREMOVED_SECRET: [
    {
     REMOVED_SECRETdataREMOVED_SECRET: {
      REMOVED_SECRETapplication/vnd.jupyter.widget-view+jsonREMOVED_SECRET: {
       REMOVED_SECRETmodel_idREMOVED_SECRET: REMOVED_SECRET1e9f696766f24b7d8d8a7ceb10b26668REMOVED_SECRET,
       REMOVED_SECRETversion_majorREMOVED_SECRET: 2,
       REMOVED_SECRETversion_minorREMOVED_SECRET: 0
      },
      REMOVED_SECRETtext/plainREMOVED_SECRET: [
       REMOVED_SECRETBatches:   0%|          | 0/28 [00:00<?, ?it/s]REMOVED_SECRET
      ]
     },
     REMOVED_SECRETmetadataREMOVED_SECRET: {},
     REMOVED_SECREToutput_typeREMOVED_SECRET: REMOVED_SECRETdisplay_dataREMOVED_SECRET
    },
    {
     REMOVED_SECRETnameREMOVED_SECRET: REMOVED_SECRETstderrREMOVED_SECRET,
     REMOVED_SECREToutput_typeREMOVED_SECRET: REMOVED_SECRETstreamREMOVED_SECRET,
     REMOVED_SECRETtextREMOVED_SECRET: [
      REMOVED_SECRETc:\\Users\\User\\anaconda3\\lib\\site-packages\\transformers\\models\\xlm_roberta\\modeling_xlm_roberta.py:371: UserWarning: 1Torch was not compiled with flash attention. (Triggered internally at C:\\cb\\pytorch_1000000000000\\work\\aten\\src\\ATen\\native\\transformers\\cuda\\sdp_utils.cpp:455.)\nREMOVED_SECRET,
      REMOVED_SECRET  attn_output = torch.nn.functional.scaled_dot_product_attention(\nREMOVED_SECRET
     ]
    },
    {
     REMOVED_SECRETdataREMOVED_SECRET: {
      REMOVED_SECRETapplication/vnd.jupyter.widget-view+jsonREMOVED_SECRET: {
       REMOVED_SECRETmodel_idREMOVED_SECRET: REMOVED_SECRET3af88c3b56aa48f0b70d9d61d7a074ddREMOVED_SECRET,
       REMOVED_SECRETversion_majorREMOVED_SECRET: 2,
       REMOVED_SECRETversion_minorREMOVED_SECRET: 0
      },
      REMOVED_SECRETtext/plainREMOVED_SECRET: [
       REMOVED_SECRETBatches:   0%|          | 0/28 [00:00<?, ?it/s]REMOVED_SECRET
      ]
     },
     REMOVED_SECRETmetadataREMOVED_SECRET: {},
     REMOVED_SECREToutput_typeREMOVED_SECRET: REMOVED_SECRETdisplay_dataREMOVED_SECRET
    },
    {
     REMOVED_SECRETnameREMOVED_SECRET: REMOVED_SECRETstdoutREMOVED_SECRET,
     REMOVED_SECREToutput_typeREMOVED_SECRET: REMOVED_SECRETstreamREMOVED_SECRET,
     REMOVED_SECRETtextREMOVED_SECRET: [
      REMOVED_SECRETEnglish Embeddings Shape: (873, 1024)\nREMOVED_SECRET,
      REMOVED_SECRETItalian Embeddings Shape: (873, 1024)\nREMOVED_SECRET
     ]
    }
   ],
   REMOVED_SECRETsourceREMOVED_SECRET: [
    REMOVED_SECRET#Embed both English and Italian with the BGE Hugging Face Model\nREMOVED_SECRET,
    REMOVED_SECRETentoit_english_embeddings = model.encode(italy_df_cleaned['title'].tolist(), show_progress_bar=True)\nREMOVED_SECRET,
    REMOVED_SECRETentoit_italian_embeddings = model.encode(italy_df_cleaned['title_italian'].tolist(), show_progress_bar=True)\nREMOVED_SECRET,
    REMOVED_SECRETprint(\REMOVED_SECRETEnglish Embeddings Shape:\REMOVED_SECRET, entoit_english_embeddings.shape)\nREMOVED_SECRET,
    REMOVED_SECRETprint(\REMOVED_SECRETItalian Embeddings Shape:\REMOVED_SECRET, entoit_italian_embeddings.shape)REMOVED_SECRET
   ]
  },
  {
   REMOVED_SECRETcell_typeREMOVED_SECRET: REMOVED_SECRETcodeREMOVED_SECRET,
   REMOVED_SECRETexecution_countREMOVED_SECRET: 9,
   REMOVED_SECRETmetadataREMOVED_SECRET: {},
   REMOVED_SECREToutputsREMOVED_SECRET: [],
   REMOVED_SECRETsourceREMOVED_SECRET: [
    REMOVED_SECRET# Saving the embeddings to CSV files\nREMOVED_SECRET,
    REMOVED_SECRET\nREMOVED_SECRET,
    REMOVED_SECRETdf_embeddings = pd.DataFrame({\nREMOVED_SECRET,
    REMOVED_SECRET    \REMOVED_SECRETtitle\REMOVED_SECRET: italy_df_cleaned['title'],\nREMOVED_SECRET,
    REMOVED_SECRET    \REMOVED_SECRETtitle_italian\REMOVED_SECRET: italy_df_cleaned['title_italian'],\nREMOVED_SECRET,
    REMOVED_SECRET    \REMOVED_SECRETenglish_embedding\REMOVED_SECRET: list(entoit_english_embeddings),\nREMOVED_SECRET,
    REMOVED_SECRET    \REMOVED_SECRETitalian_embedding\REMOVED_SECRET: list(entoit_italian_embeddings),\nREMOVED_SECRET,
    REMOVED_SECRET})\nREMOVED_SECRET,
    REMOVED_SECRET\nREMOVED_SECRET,
    REMOVED_SECRETdf_embeddings.to_pickle(\REMOVED_SECRETen_to_it_embeddings.pkl\REMOVED_SECRET)REMOVED_SECRET
   ]
  },
  {
   REMOVED_SECRETcell_typeREMOVED_SECRET: REMOVED_SECRETmarkdownREMOVED_SECRET,
   REMOVED_SECRETmetadataREMOVED_SECRET: {},
   REMOVED_SECRETsourceREMOVED_SECRET: [
    REMOVED_SECRET1.4 Italian Sentence (BGE) Cosine SimilarityREMOVED_SECRET
   ]
  },
  {
   REMOVED_SECRETcell_typeREMOVED_SECRET: REMOVED_SECRETcodeREMOVED_SECRET,
   REMOVED_SECRETexecution_countREMOVED_SECRET: 10,
   REMOVED_SECRETmetadataREMOVED_SECRET: {},
   REMOVED_SECREToutputsREMOVED_SECRET: [
    {
     REMOVED_SECRETnameREMOVED_SECRET: REMOVED_SECRETstdoutREMOVED_SECRET,
     REMOVED_SECREToutput_typeREMOVED_SECRET: REMOVED_SECRETstreamREMOVED_SECRET,
     REMOVED_SECRETtextREMOVED_SECRET: [
      REMOVED_SECRETRow 0 - Cosine Similarity: 0.8534\nREMOVED_SECRET,
      REMOVED_SECRETRow 1 - Cosine Similarity: 0.8249\nREMOVED_SECRET,
      REMOVED_SECRETRow 2 - Cosine Similarity: 0.8868\nREMOVED_SECRET,
      REMOVED_SECRETRow 3 - Cosine Similarity: 0.9429\nREMOVED_SECRET,
      REMOVED_SECRETRow 4 - Cosine Similarity: 0.8051\nREMOVED_SECRET
     ]
    }
   ],
   REMOVED_SECRETsourceREMOVED_SECRET: [
    REMOVED_SECRET# Choose the First 5 Rows\nREMOVED_SECRET,
    REMOVED_SECRETfor i in range(5):\nREMOVED_SECRET,
    REMOVED_SECRET    score = cosine_similarity([entoit_english_embeddings[i]], [entoit_italian_embeddings[i]])[0][0]\nREMOVED_SECRET,
    REMOVED_SECRET    print(f\REMOVED_SECRETRow {i} - Cosine Similarity: {score:.4f}\REMOVED_SECRET)REMOVED_SECRET
   ]
  },
  {
   REMOVED_SECRETcell_typeREMOVED_SECRET: REMOVED_SECRETcodeREMOVED_SECRET,
   REMOVED_SECRETexecution_countREMOVED_SECRET: 11,
   REMOVED_SECRETmetadataREMOVED_SECRET: {},
   REMOVED_SECREToutputsREMOVED_SECRET: [
    {
     REMOVED_SECRETnameREMOVED_SECRET: REMOVED_SECRETstdoutREMOVED_SECRET,
     REMOVED_SECREToutput_typeREMOVED_SECRET: REMOVED_SECRETstreamREMOVED_SECRET,
     REMOVED_SECRETtextREMOVED_SECRET: [
      REMOVED_SECRETAverage cosine similarity: 0.8367\nREMOVED_SECRET
     ]
    }
   ],
   REMOVED_SECRETsourceREMOVED_SECRET: [
    REMOVED_SECRETsimilarities = []\nREMOVED_SECRET,
    REMOVED_SECRETfor i in range(len(entoit_english_embeddings)):\nREMOVED_SECRET,
    REMOVED_SECRET    sim = cosine_similarity([entoit_english_embeddings[i]], [entoit_italian_embeddings[i]])[0][0]\nREMOVED_SECRET,
    REMOVED_SECRET    similarities.append(sim)\nREMOVED_SECRET,
    REMOVED_SECRET\nREMOVED_SECRET,
    REMOVED_SECRET# Now compute the average\nREMOVED_SECRET,
    REMOVED_SECRETaverage_similarity = np.mean(similarities)\nREMOVED_SECRET,
    REMOVED_SECRETprint(f\REMOVED_SECRETAverage cosine similarity: {average_similarity:.4f}\REMOVED_SECRET)REMOVED_SECRET
   ]
  },
  {
   REMOVED_SECRETcell_typeREMOVED_SECRET: REMOVED_SECRETmarkdownREMOVED_SECRET,
   REMOVED_SECRETmetadataREMOVED_SECRET: {},
   REMOVED_SECRETsourceREMOVED_SECRET: [
    REMOVED_SECRET1.5 Italian Word (FastText) Cosine SimilarityREMOVED_SECRET
   ]
  },
  {
   REMOVED_SECRETcell_typeREMOVED_SECRET: REMOVED_SECRETmarkdownREMOVED_SECRET,
   REMOVED_SECRETmetadataREMOVED_SECRET: {},
   REMOVED_SECRETsourceREMOVED_SECRET: [
    REMOVED_SECRETFastText is used as it has capabilities to align multilingual word embeddings. Average Embeddings is used as it is the simplest method to obtain fixed-size, meaning aware sentence representation using word vectors.REMOVED_SECRET
   ]
  },
  {
   REMOVED_SECRETcell_typeREMOVED_SECRET: REMOVED_SECRETcodeREMOVED_SECRET,
   REMOVED_SECRETexecution_countREMOVED_SECRET: 12,
   REMOVED_SECRETmetadataREMOVED_SECRET: {},
   REMOVED_SECREToutputsREMOVED_SECRET: [],
   REMOVED_SECRETsourceREMOVED_SECRET: [
    REMOVED_SECRET#This function loads the word vectors from a file and returns the words and their corresponding vectors.\nREMOVED_SECRET,
    REMOVED_SECRETdef load_vecs(path, limit_no_words=None):\nREMOVED_SECRET,
    REMOVED_SECRET    import numpy as np\nREMOVED_SECRET,
    REMOVED_SECRET    words = [] #To store vocab words\nREMOVED_SECRET,
    REMOVED_SECRET    vectors = [] #To store corresponding word vectors\nREMOVED_SECRET,
    REMOVED_SECRET\nREMOVED_SECRET,
    REMOVED_SECRET    with open(path, encoding=\REMOVED_SECRETutf-8\REMOVED_SECRET) as f: #opening the first line which typically contains metadata\nREMOVED_SECRET,
    REMOVED_SECRET        first_line = f.readline()\nREMOVED_SECRET,
    REMOVED_SECRET        _, vec_size = map(int, first_line.strip().split()) #obtaining the vector size from the first line\nREMOVED_SECRET,
    REMOVED_SECRET        \nREMOVED_SECRET,
    REMOVED_SECRET        for ix, line in enumerate(f):\nREMOVED_SECRET,
    REMOVED_SECRET            line = line.rstrip().split() #removing trailing newline and split line by spaces\nREMOVED_SECRET,
    REMOVED_SECRET            word = line[0]  #first token i sthe word itself\nREMOVED_SECRET,
    REMOVED_SECRET            vector_vals = line[1:]  #remaining tokens are the vector values\nREMOVED_SECRET,
    REMOVED_SECRET\nREMOVED_SECRET,
    REMOVED_SECRET            if len(vector_vals) == vec_size:  # Now dynamically validated to see if vector has correct no of dim\nREMOVED_SECRET,
    REMOVED_SECRET                words.append(word) #Add the word to vocab list\nREMOVED_SECRET,
    REMOVED_SECRET                vectors.append(vector_vals) #Add the vector to the list (as strings)\nREMOVED_SECRET,
    REMOVED_SECRET            # If a word limit was set, stop once we've hit that limit\nREMOVED_SECRET,
    REMOVED_SECRET            if limit_no_words and len(words) == limit_no_words:\nREMOVED_SECRET,
    REMOVED_SECRET                break\nREMOVED_SECRET,
    REMOVED_SECRET    #Convert list of vectors from strings to a NumPy float array for numerical use\nREMOVED_SECRET,
    REMOVED_SECRET    return words, np.array(vectors, dtype=float)\nREMOVED_SECRET
   ]
  },
  {
   REMOVED_SECRETcell_typeREMOVED_SECRET: REMOVED_SECRETcodeREMOVED_SECRET,
   REMOVED_SECRETexecution_countREMOVED_SECRET: 13,
   REMOVED_SECRETmetadataREMOVED_SECRET: {},
   REMOVED_SECREToutputsREMOVED_SECRET: [],
   REMOVED_SECRETsourceREMOVED_SECRET: [
    REMOVED_SECRETdef average_embedding(text, embedding_dict):\nREMOVED_SECRET,
    REMOVED_SECRET    # Convert text to lowercase and split it into individual words\nREMOVED_SECRET,
    REMOVED_SECRET    words = text.lower().split()\nREMOVED_SECRET,
    REMOVED_SECRET\nREMOVED_SECRET,
    REMOVED_SECRET    # Retrieve vectors for words that exist in the embedding dictionary\nREMOVED_SECRET,
    REMOVED_SECRET    vectors = [embedding_dict[word] for word in words if word in embedding_dict]\nREMOVED_SECRET,
    REMOVED_SECRET\nREMOVED_SECRET,
    REMOVED_SECRET    # If there are valid word vectors, compute their average\nREMOVED_SECRET,
    REMOVED_SECRET    if vectors:\nREMOVED_SECRET,
    REMOVED_SECRET        return np.mean(vectors, axis=0)  # Return the mean vector (sentence embedding)\nREMOVED_SECRET,
    REMOVED_SECRET    else:\nREMOVED_SECRET,
    REMOVED_SECRET        # No known words in the sentence — return a zero vector of the correct size\nREMOVED_SECRET,
    REMOVED_SECRET\nREMOVED_SECRET,
    REMOVED_SECRET        # Get the dimensionality of the vectors by checking one item in the dictionary\nREMOVED_SECRET,
    REMOVED_SECRET        vec_size = len(next(iter(embedding_dict.values())))\nREMOVED_SECRET,
    REMOVED_SECRET\nREMOVED_SECRET,
    REMOVED_SECRET        # Return a zero vector with that size\nREMOVED_SECRET,
    REMOVED_SECRET        return np.zeros(vec_size)\nREMOVED_SECRET
   ]
  },
  {
   REMOVED_SECRETcell_typeREMOVED_SECRET: REMOVED_SECRETcodeREMOVED_SECRET,
   REMOVED_SECRETexecution_countREMOVED_SECRET: 14,
   REMOVED_SECRETmetadataREMOVED_SECRET: {},
   REMOVED_SECREToutputsREMOVED_SECRET: [
    {
     REMOVED_SECRETnameREMOVED_SECRET: REMOVED_SECRETstdoutREMOVED_SECRET,
     REMOVED_SECREToutput_typeREMOVED_SECRET: REMOVED_SECRETstreamREMOVED_SECRET,
     REMOVED_SECRETtextREMOVED_SECRET: [
      REMOVED_SECRETAverage cosine similarity (avg word embeddings 50k): 0.1837\nREMOVED_SECRET
     ]
    }
   ],
   REMOVED_SECRETsourceREMOVED_SECRET: [
    REMOVED_SECRET#FastText Cosine Similarity for 50k Words\nREMOVED_SECRET,
    REMOVED_SECRETentoit_en_words, entoit_en_vectors = load_vecs(\REMOVED_SECRETwiki.en.align.vec\REMOVED_SECRET, limit_no_words=50000)\nREMOVED_SECRET,
    REMOVED_SECRETentoit_it_words, entoit_it_vectors = load_vecs(\REMOVED_SECRETwiki.it.align.vec\REMOVED_SECRET, limit_no_words=50000)\nREMOVED_SECRET,
    REMOVED_SECRET\nREMOVED_SECRET,
    REMOVED_SECRET#Create a dictionary mapping English and Italian words to their corresponding vectors\nREMOVED_SECRET,
    REMOVED_SECRET#zip is to match each words with corresponding vector\nREMOVED_SECRET,
    REMOVED_SECRET#dict is to convert list of tuples into a dict obj \nREMOVED_SECRET,
    REMOVED_SECRETen_dict = dict(zip(entoit_en_words, entoit_en_vectors))\nREMOVED_SECRET,
    REMOVED_SECRETit_dict = dict(zip(entoit_it_words, entoit_it_vectors))\nREMOVED_SECRET,
    REMOVED_SECRET\nREMOVED_SECRET,
    REMOVED_SECRETentoit_english_avg_embeds = italy_df_cleaned['title'].apply(lambda x: average_embedding(x, en_dict))\nREMOVED_SECRET,
    REMOVED_SECRETentoit_italian_avg_embeds = italy_df_cleaned['title_italian'].apply(lambda x: average_embedding(x, it_dict))\nREMOVED_SECRET,
    REMOVED_SECRET\nREMOVED_SECRET,
    REMOVED_SECRETsimilarities_word = []\nREMOVED_SECRET,
    REMOVED_SECRETfor i in range(len(italy_df_cleaned)):\nREMOVED_SECRET,
    REMOVED_SECRET    sim = cosine_similarity([entoit_english_avg_embeds[i]], [entoit_italian_avg_embeds[i]])[0][0]\nREMOVED_SECRET,
    REMOVED_SECRET    similarities_word.append(sim)\nREMOVED_SECRET,
    REMOVED_SECRET\nREMOVED_SECRET,
    REMOVED_SECRETavg_word_sim_50 = np.mean(similarities_word)\nREMOVED_SECRET,
    REMOVED_SECRETprint(f\REMOVED_SECRETAverage cosine similarity (avg word embeddings 50k): {avg_word_sim_50:.4f}\REMOVED_SECRET)REMOVED_SECRET
   ]
  },
  {
   REMOVED_SECRETcell_typeREMOVED_SECRET: REMOVED_SECRETcodeREMOVED_SECRET,
   REMOVED_SECRETexecution_countREMOVED_SECRET: 15,
   REMOVED_SECRETmetadataREMOVED_SECRET: {},
   REMOVED_SECREToutputsREMOVED_SECRET: [
    {
     REMOVED_SECRETnameREMOVED_SECRET: REMOVED_SECRETstdoutREMOVED_SECRET,
     REMOVED_SECREToutput_typeREMOVED_SECRET: REMOVED_SECRETstreamREMOVED_SECRET,
     REMOVED_SECRETtextREMOVED_SECRET: [
      REMOVED_SECRETAverage cosine similarity (avg word embeddings 50k): 0.2054\nREMOVED_SECRET
     ]
    }
   ],
   REMOVED_SECRETsourceREMOVED_SECRET: [
    REMOVED_SECRET#FastText Cosine Similarity for 10k Words\nREMOVED_SECRET,
    REMOVED_SECRETentoit_en_words, entoit_en_vectors = load_vecs(\REMOVED_SECRETwiki.en.align.vec\REMOVED_SECRET, limit_no_words=10000)\nREMOVED_SECRET,
    REMOVED_SECRETentoit_it_words, entoit_it_vectors = load_vecs(\REMOVED_SECRETwiki.it.align.vec\REMOVED_SECRET, limit_no_words=10000)\nREMOVED_SECRET,
    REMOVED_SECRET\nREMOVED_SECRET,
    REMOVED_SECRET#Create a dictionary mapping English and Italian words to their corresponding vectors\nREMOVED_SECRET,
    REMOVED_SECRET#zip is to match each words with corresponding vector\nREMOVED_SECRET,
    REMOVED_SECRET#dict is to convert list of tuples into a dict obj \nREMOVED_SECRET,
    REMOVED_SECRETen_dict = dict(zip(entoit_en_words, entoit_en_vectors))\nREMOVED_SECRET,
    REMOVED_SECRETit_dict = dict(zip(entoit_it_words, entoit_it_vectors))\nREMOVED_SECRET,
    REMOVED_SECRET\nREMOVED_SECRET,
    REMOVED_SECRETentoit_english_avg_embeds = italy_df_cleaned['title'].apply(lambda x: average_embedding(x, en_dict))\nREMOVED_SECRET,
    REMOVED_SECRETentoit_italian_avg_embeds = italy_df_cleaned['title_italian'].apply(lambda x: average_embedding(x, it_dict))\nREMOVED_SECRET,
    REMOVED_SECRET\nREMOVED_SECRET,
    REMOVED_SECRETsimilarities_word = []\nREMOVED_SECRET,
    REMOVED_SECRETfor i in range(len(italy_df_cleaned)):\nREMOVED_SECRET,
    REMOVED_SECRET    sim = cosine_similarity([entoit_english_avg_embeds[i]], [entoit_italian_avg_embeds[i]])[0][0]\nREMOVED_SECRET,
    REMOVED_SECRET    similarities_word.append(sim)\nREMOVED_SECRET,
    REMOVED_SECRET\nREMOVED_SECRET,
    REMOVED_SECRETavg_word_sim_10 = np.mean(similarities_word)\nREMOVED_SECRET,
    REMOVED_SECRETprint(f\REMOVED_SECRETAverage cosine similarity (avg word embeddings 50k): {avg_word_sim_10:.4f}\REMOVED_SECRET)REMOVED_SECRET
   ]
  },
  {
   REMOVED_SECRETcell_typeREMOVED_SECRET: REMOVED_SECRETcodeREMOVED_SECRET,
   REMOVED_SECRETexecution_countREMOVED_SECRET: 16,
   REMOVED_SECRETmetadataREMOVED_SECRET: {},
   REMOVED_SECREToutputsREMOVED_SECRET: [
    {
     REMOVED_SECRETnameREMOVED_SECRET: REMOVED_SECRETstdoutREMOVED_SECRET,
     REMOVED_SECREToutput_typeREMOVED_SECRET: REMOVED_SECRETstreamREMOVED_SECRET,
     REMOVED_SECRETtextREMOVED_SECRET: [
      REMOVED_SECRETAverage cosine similarity (avg word embeddings 50k): 0.2194\nREMOVED_SECRET
     ]
    }
   ],
   REMOVED_SECRETsourceREMOVED_SECRET: [
    REMOVED_SECRET#FastText Cosine Similarity for 5k Words\nREMOVED_SECRET,
    REMOVED_SECRETentoit_en_words, entoit_en_vectors = load_vecs(\REMOVED_SECRETwiki.en.align.vec\REMOVED_SECRET, limit_no_words=5000)\nREMOVED_SECRET,
    REMOVED_SECRETentoit_it_words, entoit_it_vectors = load_vecs(\REMOVED_SECRETwiki.it.align.vec\REMOVED_SECRET, limit_no_words=5000)\nREMOVED_SECRET,
    REMOVED_SECRET\nREMOVED_SECRET,
    REMOVED_SECRET#Create a dictionary mapping English and Italian words to their corresponding vectors\nREMOVED_SECRET,
    REMOVED_SECRET#zip is to match each words with corresponding vector\nREMOVED_SECRET,
    REMOVED_SECRET#dict is to convert list of tuples into a dict obj \nREMOVED_SECRET,
    REMOVED_SECRETen_dict = dict(zip(entoit_en_words, entoit_en_vectors))\nREMOVED_SECRET,
    REMOVED_SECRETit_dict = dict(zip(entoit_it_words, entoit_it_vectors))\nREMOVED_SECRET,
    REMOVED_SECRET\nREMOVED_SECRET,
    REMOVED_SECRETentoit_english_avg_embeds = italy_df_cleaned['title'].apply(lambda x: average_embedding(x, en_dict))\nREMOVED_SECRET,
    REMOVED_SECRETentoit_italian_avg_embeds = italy_df_cleaned['title_italian'].apply(lambda x: average_embedding(x, it_dict))\nREMOVED_SECRET,
    REMOVED_SECRET\nREMOVED_SECRET,
    REMOVED_SECRETsimilarities_word = []\nREMOVED_SECRET,
    REMOVED_SECRETfor i in range(len(italy_df_cleaned)):\nREMOVED_SECRET,
    REMOVED_SECRET    sim = cosine_similarity([entoit_english_avg_embeds[i]], [entoit_italian_avg_embeds[i]])[0][0]\nREMOVED_SECRET,
    REMOVED_SECRET    similarities_word.append(sim)\nREMOVED_SECRET,
    REMOVED_SECRET\nREMOVED_SECRET,
    REMOVED_SECRETavg_word_sim_5 = np.mean(similarities_word)\nREMOVED_SECRET,
    REMOVED_SECRETprint(f\REMOVED_SECRETAverage cosine similarity (avg word embeddings 50k): {avg_word_sim_5:.4f}\REMOVED_SECRET)REMOVED_SECRET
   ]
  },
  {
   REMOVED_SECRETcell_typeREMOVED_SECRET: REMOVED_SECRETcodeREMOVED_SECRET,
   REMOVED_SECRETexecution_countREMOVED_SECRET: 17,
   REMOVED_SECRETmetadataREMOVED_SECRET: {},
   REMOVED_SECREToutputsREMOVED_SECRET: [
    {
     REMOVED_SECRETdataREMOVED_SECRET: {
      REMOVED_SECRETimage/pngREMOVED_SECRET: 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REMOVED_SECRET,
      REMOVED_SECRETtext/plainREMOVED_SECRET: [
       REMOVED_SECRET<Figure size 800x500 with 1 Axes>REMOVED_SECRET
      ]
     },
     REMOVED_SECRETmetadataREMOVED_SECRET: {},
     REMOVED_SECREToutput_typeREMOVED_SECRET: REMOVED_SECRETdisplay_dataREMOVED_SECRET
    }
   ],
   REMOVED_SECRETsourceREMOVED_SECRET: [
    REMOVED_SECRET# X-axis: Word vector sizes used\nREMOVED_SECRET,
    REMOVED_SECRETx = [\REMOVED_SECRET5k words\REMOVED_SECRET, \REMOVED_SECRET10k words\REMOVED_SECRET, \REMOVED_SECRET50k words\REMOVED_SECRET]\nREMOVED_SECRET,
    REMOVED_SECRET\nREMOVED_SECRET,
    REMOVED_SECRETy = [avg_word_sim_5, avg_word_sim_10, avg_word_sim_50]\nREMOVED_SECRET,
    REMOVED_SECRET\nREMOVED_SECRET,
    REMOVED_SECRETplt.figure(figsize=(8, 5))\nREMOVED_SECRET,
    REMOVED_SECRET\nREMOVED_SECRET,
    REMOVED_SECRET# Bar chart for FastText similarities\nREMOVED_SECRET,
    REMOVED_SECRETplt.bar(x, y, color='skyblue', label=\REMOVED_SECRETFastText Avg Embedding\REMOVED_SECRET)\nREMOVED_SECRET,
    REMOVED_SECRET\nREMOVED_SECRET,
    REMOVED_SECRET# Horizontal line for BGE-M3 sentence embedding similarity\nREMOVED_SECRET,
    REMOVED_SECRETplt.axhline(y=average_similarity, color='orange', linestyle='--', label=\REMOVED_SECRETBGE-M3 Sentence Embedding\REMOVED_SECRET)\nREMOVED_SECRET,
    REMOVED_SECRET\nREMOVED_SECRET,
    REMOVED_SECRETplt.title(\REMOVED_SECRETComparison of Average Cosine Similarity\REMOVED_SECRET)\nREMOVED_SECRET,
    REMOVED_SECRETplt.ylabel(\REMOVED_SECRETCosine Similarity\REMOVED_SECRET)\nREMOVED_SECRET,
    REMOVED_SECRETplt.ylim(0, 1)\nREMOVED_SECRET,
    REMOVED_SECRETplt.legend()\nREMOVED_SECRET,
    REMOVED_SECRETplt.grid(True)\nREMOVED_SECRET,
    REMOVED_SECRETplt.tight_layout()\nREMOVED_SECRET,
    REMOVED_SECRETplt.show()REMOVED_SECRET
   ]
  },
  {
   REMOVED_SECRETcell_typeREMOVED_SECRET: REMOVED_SECRETmarkdownREMOVED_SECRET,
   REMOVED_SECRETmetadataREMOVED_SECRET: {},
   REMOVED_SECRETsourceREMOVED_SECRET: [
    REMOVED_SECRET## 2. Spanish Dataset ExplorationREMOVED_SECRET
   ]
  },
  {
   REMOVED_SECRETcell_typeREMOVED_SECRET: REMOVED_SECRETmarkdownREMOVED_SECRET,
   REMOVED_SECRETmetadataREMOVED_SECRET: {},
   REMOVED_SECRETsourceREMOVED_SECRET: [
    REMOVED_SECRET2.1 Cleaning of DatasetREMOVED_SECRET
   ]
  },
  {
   REMOVED_SECRETcell_typeREMOVED_SECRET: REMOVED_SECRETcodeREMOVED_SECRET,
   REMOVED_SECRETexecution_countREMOVED_SECRET: 18,
   REMOVED_SECRETmetadataREMOVED_SECRET: {},
   REMOVED_SECREToutputsREMOVED_SECRET: [
    {
     REMOVED_SECRETdataREMOVED_SECRET: {
      REMOVED_SECRETtext/htmlREMOVED_SECRET: [
       REMOVED_SECRET<div>\nREMOVED_SECRET,
       REMOVED_SECRET<style scoped>\nREMOVED_SECRET,
       REMOVED_SECRET    .dataframe tbody tr th:only-of-type {\nREMOVED_SECRET,
       REMOVED_SECRET        vertical-align: middle;\nREMOVED_SECRET,
       REMOVED_SECRET    }\nREMOVED_SECRET,
       REMOVED_SECRET\nREMOVED_SECRET,
       REMOVED_SECRET    .dataframe tbody tr th {\nREMOVED_SECRET,
       REMOVED_SECRET        vertical-align: top;\nREMOVED_SECRET,
       REMOVED_SECRET    }\nREMOVED_SECRET,
       REMOVED_SECRET\nREMOVED_SECRET,
       REMOVED_SECRET    .dataframe thead th {\nREMOVED_SECRET,
       REMOVED_SECRET        text-align: right;\nREMOVED_SECRET,
       REMOVED_SECRET    }\nREMOVED_SECRET,
       REMOVED_SECRET</style>\nREMOVED_SECRET,
       REMOVED_SECRET<table border=\REMOVED_SECRET1\REMOVED_SECRET class=\REMOVED_SECRETdataframe\REMOVED_SECRET>\nREMOVED_SECRET,
       REMOVED_SECRET  <thead>\nREMOVED_SECRET,
       REMOVED_SECRET    <tr style=\REMOVED_SECRETtext-align: right;\REMOVED_SECRET>\nREMOVED_SECRET,
       REMOVED_SECRET      <th></th>\nREMOVED_SECRET,
       REMOVED_SECRET      <th>title</th>\nREMOVED_SECRET,
       REMOVED_SECRET      <th>title_spanish</th>\nREMOVED_SECRET,
       REMOVED_SECRET    </tr>\nREMOVED_SECRET,
       REMOVED_SECRET  </thead>\nREMOVED_SECRET,
       REMOVED_SECRET  <tbody>\nREMOVED_SECRET,
       REMOVED_SECRET    <tr>\nREMOVED_SECRET,
       REMOVED_SECRET      <th>0</th>\nREMOVED_SECRET,
       REMOVED_SECRET      <td>brother genuine high yield toner cartridge tn4...</td>\nREMOVED_SECRET,
       REMOVED_SECRET      <td>hermano genuino cartucho tóner de alto rendimi...</td>\nREMOVED_SECRET,
       REMOVED_SECRET    </tr>\nREMOVED_SECRET,
       REMOVED_SECRET    <tr>\nREMOVED_SECRET,
       REMOVED_SECRET      <th>1</th>\nREMOVED_SECRET,
       REMOVED_SECRET      <td>fitbit inspire 3 health and fitness tracker wi...</td>\nREMOVED_SECRET,
       REMOVED_SECRET      <td>fitbit inspirar 3 seguimiento de salud y fitne...</td>\nREMOVED_SECRET,
       REMOVED_SECRET    </tr>\nREMOVED_SECRET,
       REMOVED_SECRET    <tr>\nREMOVED_SECRET,
       REMOVED_SECRET      <th>2</th>\nREMOVED_SECRET,
       REMOVED_SECRET      <td>mikes hot honey americas 1 brand of hot honey ...</td>\nREMOVED_SECRET,
       REMOVED_SECRET      <td>mikes miel caliente américas 1 marca de miel c...</td>\nREMOVED_SECRET,
       REMOVED_SECRET    </tr>\nREMOVED_SECRET,
       REMOVED_SECRET    <tr>\nREMOVED_SECRET,
       REMOVED_SECRET      <th>3</th>\nREMOVED_SECRET,
       REMOVED_SECRET      <td>krema kréma red fruits 100 recyclable 240g</td>\nREMOVED_SECRET,
       REMOVED_SECRET      <td>krema kréma frutos rojos 100 reciclables 240g</td>\nREMOVED_SECRET,
       REMOVED_SECRET    </tr>\nREMOVED_SECRET,
       REMOVED_SECRET    <tr>\nREMOVED_SECRET,
       REMOVED_SECRET      <th>4</th>\nREMOVED_SECRET,
       REMOVED_SECRET      <td>drsalts calming therapy epsom salts  soothing ...</td>\nREMOVED_SECRET,
       REMOVED_SECRET      <td>drsalts calmante terapia epsom sales calmantes...</td>\nREMOVED_SECRET,
       REMOVED_SECRET    </tr>\nREMOVED_SECRET,
       REMOVED_SECRET    <tr>\nREMOVED_SECRET,
       REMOVED_SECRET      <th>...</th>\nREMOVED_SECRET,
       REMOVED_SECRET      <td>...</td>\nREMOVED_SECRET,
       REMOVED_SECRET      <td>...</td>\nREMOVED_SECRET,
       REMOVED_SECRET    </tr>\nREMOVED_SECRET,
       REMOVED_SECRET    <tr>\nREMOVED_SECRET,
       REMOVED_SECRET      <th>995</th>\nREMOVED_SECRET,
       REMOVED_SECRET      <td>ruimen smart watches for men women answermake ...</td>\nREMOVED_SECRET,
       REMOVED_SECRET      <td>ruimen relojes inteligentes para hombres mujer...</td>\nREMOVED_SECRET,
       REMOVED_SECRET    </tr>\nREMOVED_SECRET,
       REMOVED_SECRET    <tr>\nREMOVED_SECRET,
       REMOVED_SECRET      <th>996</th>\nREMOVED_SECRET,
       REMOVED_SECRET      <td>musicozy sleep headphones bluetooth 54 headban...</td>\nREMOVED_SECRET,
       REMOVED_SECRET      <td>auriculares musicozy sueño bluetooth 54 diadem...</td>\nREMOVED_SECRET,
       REMOVED_SECRET    </tr>\nREMOVED_SECRET,
       REMOVED_SECRET    <tr>\nREMOVED_SECRET,
       REMOVED_SECRET      <th>997</th>\nREMOVED_SECRET,
       REMOVED_SECRET      <td>sun ninja pop up beach tent sun shelter upf50 ...</td>\nREMOVED_SECRET,
       REMOVED_SECRET      <td>sun ninja pop up playa refugio de sol upf50 co...</td>\nREMOVED_SECRET,
       REMOVED_SECRET    </tr>\nREMOVED_SECRET,
       REMOVED_SECRET    <tr>\nREMOVED_SECRET,
       REMOVED_SECRET      <th>998</th>\nREMOVED_SECRET,
       REMOVED_SECRET      <td>rhino usa trailer hitch pin 2 inch patented 58...</td>\nREMOVED_SECRET,
       REMOVED_SECRET      <td>enganche de remolque de rinoceronte usa pin de...</td>\nREMOVED_SECRET,
       REMOVED_SECRET    </tr>\nREMOVED_SECRET,
       REMOVED_SECRET    <tr>\nREMOVED_SECRET,
       REMOVED_SECRET      <th>999</th>\nREMOVED_SECRET,
       REMOVED_SECRET      <td>sun ninja pop up beach tent sun shelter upf50 ...</td>\nREMOVED_SECRET,
       REMOVED_SECRET      <td>sun ninja pop up playa tienda refugio de sol u...</td>\nREMOVED_SECRET,
       REMOVED_SECRET    </tr>\nREMOVED_SECRET,
       REMOVED_SECRET  </tbody>\nREMOVED_SECRET,
       REMOVED_SECRET</table>\nREMOVED_SECRET,
       REMOVED_SECRET<p>1000 rows × 2 columns</p>\nREMOVED_SECRET,
       REMOVED_SECRET</div>REMOVED_SECRET
      ],
      REMOVED_SECRETtext/plainREMOVED_SECRET: [
       REMOVED_SECRET                                                 title  \\\nREMOVED_SECRET,
       REMOVED_SECRET0    brother genuine high yield toner cartridge tn4...   \nREMOVED_SECRET,
       REMOVED_SECRET1    fitbit inspire 3 health and fitness tracker wi...   \nREMOVED_SECRET,
       REMOVED_SECRET2    mikes hot honey americas 1 brand of hot honey ...   \nREMOVED_SECRET,
       REMOVED_SECRET3           krema kréma red fruits 100 recyclable 240g   \nREMOVED_SECRET,
       REMOVED_SECRET4    drsalts calming therapy epsom salts  soothing ...   \nREMOVED_SECRET,
       REMOVED_SECRET..                                                 ...   \nREMOVED_SECRET,
       REMOVED_SECRET995  ruimen smart watches for men women answermake ...   \nREMOVED_SECRET,
       REMOVED_SECRET996  musicozy sleep headphones bluetooth 54 headban...   \nREMOVED_SECRET,
       REMOVED_SECRET997  sun ninja pop up beach tent sun shelter upf50 ...   \nREMOVED_SECRET,
       REMOVED_SECRET998  rhino usa trailer hitch pin 2 inch patented 58...   \nREMOVED_SECRET,
       REMOVED_SECRET999  sun ninja pop up beach tent sun shelter upf50 ...   \nREMOVED_SECRET,
       REMOVED_SECRET\nREMOVED_SECRET,
       REMOVED_SECRET                                         title_spanish  \nREMOVED_SECRET,
       REMOVED_SECRET0    hermano genuino cartucho tóner de alto rendimi...  \nREMOVED_SECRET,
       REMOVED_SECRET1    fitbit inspirar 3 seguimiento de salud y fitne...  \nREMOVED_SECRET,
       REMOVED_SECRET2    mikes miel caliente américas 1 marca de miel c...  \nREMOVED_SECRET,
       REMOVED_SECRET3        krema kréma frutos rojos 100 reciclables 240g  \nREMOVED_SECRET,
       REMOVED_SECRET4    drsalts calmante terapia epsom sales calmantes...  \nREMOVED_SECRET,
       REMOVED_SECRET..                                                 ...  \nREMOVED_SECRET,
       REMOVED_SECRET995  ruimen relojes inteligentes para hombres mujer...  \nREMOVED_SECRET,
       REMOVED_SECRET996  auriculares musicozy sueño bluetooth 54 diadem...  \nREMOVED_SECRET,
       REMOVED_SECRET997  sun ninja pop up playa refugio de sol upf50 co...  \nREMOVED_SECRET,
       REMOVED_SECRET998  enganche de remolque de rinoceronte usa pin de...  \nREMOVED_SECRET,
       REMOVED_SECRET999  sun ninja pop up playa tienda refugio de sol u...  \nREMOVED_SECRET,
       REMOVED_SECRET\nREMOVED_SECRET,
       REMOVED_SECRET[1000 rows x 2 columns]REMOVED_SECRET
      ]
     },
     REMOVED_SECRETexecution_countREMOVED_SECRET: 18,
     REMOVED_SECRETmetadataREMOVED_SECRET: {},
     REMOVED_SECREToutput_typeREMOVED_SECRET: REMOVED_SECRETexecute_resultREMOVED_SECRET
    }
   ],
   REMOVED_SECRETsourceREMOVED_SECRET: [
    REMOVED_SECRETspanish_dfREMOVED_SECRET
   ]
  },
  {
   REMOVED_SECRETcell_typeREMOVED_SECRET: REMOVED_SECRETcodeREMOVED_SECRET,
   REMOVED_SECRETexecution_countREMOVED_SECRET: 19,
   REMOVED_SECRETmetadataREMOVED_SECRET: {},
   REMOVED_SECREToutputsREMOVED_SECRET: [
    {
     REMOVED_SECRETdataREMOVED_SECRET: {
      REMOVED_SECRETtext/htmlREMOVED_SECRET: [
       REMOVED_SECRET<div>\nREMOVED_SECRET,
       REMOVED_SECRET<style scoped>\nREMOVED_SECRET,
       REMOVED_SECRET    .dataframe tbody tr th:only-of-type {\nREMOVED_SECRET,
       REMOVED_SECRET        vertical-align: middle;\nREMOVED_SECRET,
       REMOVED_SECRET    }\nREMOVED_SECRET,
       REMOVED_SECRET\nREMOVED_SECRET,
       REMOVED_SECRET    .dataframe tbody tr th {\nREMOVED_SECRET,
       REMOVED_SECRET        vertical-align: top;\nREMOVED_SECRET,
       REMOVED_SECRET    }\nREMOVED_SECRET,
       REMOVED_SECRET\nREMOVED_SECRET,
       REMOVED_SECRET    .dataframe thead th {\nREMOVED_SECRET,
       REMOVED_SECRET        text-align: right;\nREMOVED_SECRET,
       REMOVED_SECRET    }\nREMOVED_SECRET,
       REMOVED_SECRET</style>\nREMOVED_SECRET,
       REMOVED_SECRET<table border=\REMOVED_SECRET1\REMOVED_SECRET class=\REMOVED_SECRETdataframe\REMOVED_SECRET>\nREMOVED_SECRET,
       REMOVED_SECRET  <thead>\nREMOVED_SECRET,
       REMOVED_SECRET    <tr style=\REMOVED_SECRETtext-align: right;\REMOVED_SECRET>\nREMOVED_SECRET,
       REMOVED_SECRET      <th></th>\nREMOVED_SECRET,
       REMOVED_SECRET      <th>title</th>\nREMOVED_SECRET,
       REMOVED_SECRET      <th>title_spanish</th>\nREMOVED_SECRET,
       REMOVED_SECRET    </tr>\nREMOVED_SECRET,
       REMOVED_SECRET  </thead>\nREMOVED_SECRET,
       REMOVED_SECRET  <tbody>\nREMOVED_SECRET,
       REMOVED_SECRET    <tr>\nREMOVED_SECRET,
       REMOVED_SECRET      <th>0</th>\nREMOVED_SECRET,
       REMOVED_SECRET      <td>brother genuine high yield toner cartridge tn4...</td>\nREMOVED_SECRET,
       REMOVED_SECRET      <td>hermano genuino cartucho tóner de alto rendimi...</td>\nREMOVED_SECRET,
       REMOVED_SECRET    </tr>\nREMOVED_SECRET,
       REMOVED_SECRET    <tr>\nREMOVED_SECRET,
       REMOVED_SECRET      <th>1</th>\nREMOVED_SECRET,
       REMOVED_SECRET      <td>fitbit inspire 3 health and fitness tracker wi...</td>\nREMOVED_SECRET,
       REMOVED_SECRET      <td>fitbit inspirar 3 seguimiento de salud y fitne...</td>\nREMOVED_SECRET,
       REMOVED_SECRET    </tr>\nREMOVED_SECRET,
       REMOVED_SECRET    <tr>\nREMOVED_SECRET,
       REMOVED_SECRET      <th>2</th>\nREMOVED_SECRET,
       REMOVED_SECRET      <td>mikes hot honey americas 1 brand of hot honey ...</td>\nREMOVED_SECRET,
       REMOVED_SECRET      <td>mikes miel caliente américas 1 marca de miel c...</td>\nREMOVED_SECRET,
       REMOVED_SECRET    </tr>\nREMOVED_SECRET,
       REMOVED_SECRET    <tr>\nREMOVED_SECRET,
       REMOVED_SECRET      <th>3</th>\nREMOVED_SECRET,
       REMOVED_SECRET      <td>krema kréma red fruits 100 recyclable 240g</td>\nREMOVED_SECRET,
       REMOVED_SECRET      <td>krema kréma frutos rojos 100 reciclables 240g</td>\nREMOVED_SECRET,
       REMOVED_SECRET    </tr>\nREMOVED_SECRET,
       REMOVED_SECRET    <tr>\nREMOVED_SECRET,
       REMOVED_SECRET      <th>4</th>\nREMOVED_SECRET,
       REMOVED_SECRET      <td>drsalts calming therapy epsom salts  soothing ...</td>\nREMOVED_SECRET,
       REMOVED_SECRET      <td>drsalts calmante terapia epsom sales calmantes...</td>\nREMOVED_SECRET,
       REMOVED_SECRET    </tr>\nREMOVED_SECRET,
       REMOVED_SECRET    <tr>\nREMOVED_SECRET,
       REMOVED_SECRET      <th>...</th>\nREMOVED_SECRET,
       REMOVED_SECRET      <td>...</td>\nREMOVED_SECRET,
       REMOVED_SECRET      <td>...</td>\nREMOVED_SECRET,
       REMOVED_SECRET    </tr>\nREMOVED_SECRET,
       REMOVED_SECRET    <tr>\nREMOVED_SECRET,
       REMOVED_SECRET      <th>991</th>\nREMOVED_SECRET,
       REMOVED_SECRET      <td>ruimen smart watches for men women answermake ...</td>\nREMOVED_SECRET,
       REMOVED_SECRET      <td>ruimen relojes inteligentes para hombres mujer...</td>\nREMOVED_SECRET,
       REMOVED_SECRET    </tr>\nREMOVED_SECRET,
       REMOVED_SECRET    <tr>\nREMOVED_SECRET,
       REMOVED_SECRET      <th>992</th>\nREMOVED_SECRET,
       REMOVED_SECRET      <td>musicozy sleep headphones bluetooth 54 headban...</td>\nREMOVED_SECRET,
       REMOVED_SECRET      <td>auriculares musicozy sueño bluetooth 54 diadem...</td>\nREMOVED_SECRET,
       REMOVED_SECRET    </tr>\nREMOVED_SECRET,
       REMOVED_SECRET    <tr>\nREMOVED_SECRET,
       REMOVED_SECRET      <th>993</th>\nREMOVED_SECRET,
       REMOVED_SECRET      <td>sun ninja pop up beach tent sun shelter upf50 ...</td>\nREMOVED_SECRET,
       REMOVED_SECRET      <td>sun ninja pop up playa refugio de sol upf50 co...</td>\nREMOVED_SECRET,
       REMOVED_SECRET    </tr>\nREMOVED_SECRET,
       REMOVED_SECRET    <tr>\nREMOVED_SECRET,
       REMOVED_SECRET      <th>994</th>\nREMOVED_SECRET,
       REMOVED_SECRET      <td>rhino usa trailer hitch pin 2 inch patented 58...</td>\nREMOVED_SECRET,
       REMOVED_SECRET      <td>enganche de remolque de rinoceronte usa pin de...</td>\nREMOVED_SECRET,
       REMOVED_SECRET    </tr>\nREMOVED_SECRET,
       REMOVED_SECRET    <tr>\nREMOVED_SECRET,
       REMOVED_SECRET      <th>995</th>\nREMOVED_SECRET,
       REMOVED_SECRET      <td>sun ninja pop up beach tent sun shelter upf50 ...</td>\nREMOVED_SECRET,
       REMOVED_SECRET      <td>sun ninja pop up playa tienda refugio de sol u...</td>\nREMOVED_SECRET,
       REMOVED_SECRET    </tr>\nREMOVED_SECRET,
       REMOVED_SECRET  </tbody>\nREMOVED_SECRET,
       REMOVED_SECRET</table>\nREMOVED_SECRET,
       REMOVED_SECRET<p>996 rows × 2 columns</p>\nREMOVED_SECRET,
       REMOVED_SECRET</div>REMOVED_SECRET
      ],
      REMOVED_SECRETtext/plainREMOVED_SECRET: [
       REMOVED_SECRET                                                 title  \\\nREMOVED_SECRET,
       REMOVED_SECRET0    brother genuine high yield toner cartridge tn4...   \nREMOVED_SECRET,
       REMOVED_SECRET1    fitbit inspire 3 health and fitness tracker wi...   \nREMOVED_SECRET,
       REMOVED_SECRET2    mikes hot honey americas 1 brand of hot honey ...   \nREMOVED_SECRET,
       REMOVED_SECRET3           krema kréma red fruits 100 recyclable 240g   \nREMOVED_SECRET,
       REMOVED_SECRET4    drsalts calming therapy epsom salts  soothing ...   \nREMOVED_SECRET,
       REMOVED_SECRET..                                                 ...   \nREMOVED_SECRET,
       REMOVED_SECRET991  ruimen smart watches for men women answermake ...   \nREMOVED_SECRET,
       REMOVED_SECRET992  musicozy sleep headphones bluetooth 54 headban...   \nREMOVED_SECRET,
       REMOVED_SECRET993  sun ninja pop up beach tent sun shelter upf50 ...   \nREMOVED_SECRET,
       REMOVED_SECRET994  rhino usa trailer hitch pin 2 inch patented 58...   \nREMOVED_SECRET,
       REMOVED_SECRET995  sun ninja pop up beach tent sun shelter upf50 ...   \nREMOVED_SECRET,
       REMOVED_SECRET\nREMOVED_SECRET,
       REMOVED_SECRET                                         title_spanish  \nREMOVED_SECRET,
       REMOVED_SECRET0    hermano genuino cartucho tóner de alto rendimi...  \nREMOVED_SECRET,
       REMOVED_SECRET1    fitbit inspirar 3 seguimiento de salud y fitne...  \nREMOVED_SECRET,
       REMOVED_SECRET2    mikes miel caliente américas 1 marca de miel c...  \nREMOVED_SECRET,
       REMOVED_SECRET3        krema kréma frutos rojos 100 reciclables 240g  \nREMOVED_SECRET,
       REMOVED_SECRET4    drsalts calmante terapia epsom sales calmantes...  \nREMOVED_SECRET,
       REMOVED_SECRET..                                                 ...  \nREMOVED_SECRET,
       REMOVED_SECRET991  ruimen relojes inteligentes para hombres mujer...  \nREMOVED_SECRET,
       REMOVED_SECRET992  auriculares musicozy sueño bluetooth 54 diadem...  \nREMOVED_SECRET,
       REMOVED_SECRET993  sun ninja pop up playa refugio de sol upf50 co...  \nREMOVED_SECRET,
       REMOVED_SECRET994  enganche de remolque de rinoceronte usa pin de...  \nREMOVED_SECRET,
       REMOVED_SECRET995  sun ninja pop up playa tienda refugio de sol u...  \nREMOVED_SECRET,
       REMOVED_SECRET\nREMOVED_SECRET,
       REMOVED_SECRET[996 rows x 2 columns]REMOVED_SECRET
      ]
     },
     REMOVED_SECRETexecution_countREMOVED_SECRET: 19,
     REMOVED_SECRETmetadataREMOVED_SECRET: {},
     REMOVED_SECREToutput_typeREMOVED_SECRET: REMOVED_SECRETexecute_resultREMOVED_SECRET
    }
   ],
   REMOVED_SECRETsourceREMOVED_SECRET: [
    REMOVED_SECRET#Basic Data Cleaning\nREMOVED_SECRET,
    REMOVED_SECRETspanish_df_cleaned = spanish_df.drop_duplicates()\nREMOVED_SECRET,
    REMOVED_SECRETspanish_df_cleaned.reset_index(drop=True, inplace=True)\nREMOVED_SECRET,
    REMOVED_SECRET\nREMOVED_SECRET,
    REMOVED_SECRETspanish_df_cleanedREMOVED_SECRET
   ]
  },
  {
   REMOVED_SECRETcell_typeREMOVED_SECRET: REMOVED_SECRETcodeREMOVED_SECRET,
   REMOVED_SECRETexecution_countREMOVED_SECRET: 20,
   REMOVED_SECRETmetadataREMOVED_SECRET: {},
   REMOVED_SECREToutputsREMOVED_SECRET: [
    {
     REMOVED_SECRETdataREMOVED_SECRET: {
      REMOVED_SECRETtext/plainREMOVED_SECRET: [
       REMOVED_SECRET4REMOVED_SECRET
      ]
     },
     REMOVED_SECRETexecution_countREMOVED_SECRET: 20,
     REMOVED_SECRETmetadataREMOVED_SECRET: {},
     REMOVED_SECREToutput_typeREMOVED_SECRET: REMOVED_SECRETexecute_resultREMOVED_SECRET
    }
   ],
   REMOVED_SECRETsourceREMOVED_SECRET: [
    REMOVED_SECRET#Declare Length of Title for Both English and Spanish\nREMOVED_SECRET,
    REMOVED_SECRETspanish_title_lengths = spanish_df_cleaned['title'].str.len().describe()\nREMOVED_SECRET,
    REMOVED_SECRETspanish_title_lengths_es = spanish_df_cleaned['title'].str.len().describe()\nREMOVED_SECRET,
    REMOVED_SECRET(spanish_df_cleaned['title'] == spanish_df_cleaned['title_spanish']).sum()REMOVED_SECRET
   ]
  },
  {
   REMOVED_SECRETcell_typeREMOVED_SECRET: REMOVED_SECRETmarkdownREMOVED_SECRET,
   REMOVED_SECRETmetadataREMOVED_SECRET: {},
   REMOVED_SECRETsourceREMOVED_SECRET: [
    REMOVED_SECRET2.2 Word Count for Both English and SpanishREMOVED_SECRET
   ]
  },
  {
   REMOVED_SECRETcell_typeREMOVED_SECRET: REMOVED_SECRETcodeREMOVED_SECRET,
   REMOVED_SECRETexecution_countREMOVED_SECRET: 21,
   REMOVED_SECRETmetadataREMOVED_SECRET: {},
   REMOVED_SECREToutputsREMOVED_SECRET: [
    {
     REMOVED_SECRETdataREMOVED_SECRET: {
      REMOVED_SECRETimage/pngREMOVED_SECRET: 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,
      REMOVED_SECRETtext/plainREMOVED_SECRET: [
       REMOVED_SECRET<Figure size 640x480 with 1 Axes>REMOVED_SECRET
      ]
     },
     REMOVED_SECRETmetadataREMOVED_SECRET: {},
     REMOVED_SECREToutput_typeREMOVED_SECRET: REMOVED_SECRETdisplay_dataREMOVED_SECRET
    }
   ],
   REMOVED_SECRETsourceREMOVED_SECRET: [
    REMOVED_SECRET#Distribution of Word Count for English\nREMOVED_SECRET,
    REMOVED_SECRETplt.hist(spanish_title_lengths, bins=20)\nREMOVED_SECRET,
    REMOVED_SECRETplt.title(\REMOVED_SECRETDistribution of Word Counts in English Titles\REMOVED_SECRET)\nREMOVED_SECRET,
    REMOVED_SECRETplt.xlabel(\REMOVED_SECRETNumber of Words\REMOVED_SECRET)\nREMOVED_SECRET,
    REMOVED_SECRETplt.ylabel(\REMOVED_SECRETFrequency\REMOVED_SECRET)\nREMOVED_SECRET,
    REMOVED_SECRETplt.show()REMOVED_SECRET
   ]
  },
  {
   REMOVED_SECRETcell_typeREMOVED_SECRET: REMOVED_SECRETcodeREMOVED_SECRET,
   REMOVED_SECRETexecution_countREMOVED_SECRET: 22,
   REMOVED_SECRETmetadataREMOVED_SECRET: {},
   REMOVED_SECREToutputsREMOVED_SECRET: [
    {
     REMOVED_SECRETdataREMOVED_SECRET: {
      REMOVED_SECRETimage/pngREMOVED_SECRET: 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,
      REMOVED_SECRETtext/plainREMOVED_SECRET: [
       REMOVED_SECRET<Figure size 640x480 with 1 Axes>REMOVED_SECRET
      ]
     },
     REMOVED_SECRETmetadataREMOVED_SECRET: {},
     REMOVED_SECREToutput_typeREMOVED_SECRET: REMOVED_SECRETdisplay_dataREMOVED_SECRET
    }
   ],
   REMOVED_SECRETsourceREMOVED_SECRET: [
    REMOVED_SECRET#Distribution of Word Count for Spanish\nREMOVED_SECRET,
    REMOVED_SECRETplt.hist(spanish_title_lengths_es, bins=20)\nREMOVED_SECRET,
    REMOVED_SECRETplt.title(\REMOVED_SECRETDistribution of Word Counts in Spanish Titles\REMOVED_SECRET)\nREMOVED_SECRET,
    REMOVED_SECRETplt.xlabel(\REMOVED_SECRETNumber of Words\REMOVED_SECRET)\nREMOVED_SECRET,
    REMOVED_SECRETplt.ylabel(\REMOVED_SECRETFrequency\REMOVED_SECRET)\nREMOVED_SECRET,
    REMOVED_SECRETplt.show()REMOVED_SECRET
   ]
  },
  {
   REMOVED_SECRETcell_typeREMOVED_SECRET: REMOVED_SECRETmarkdownREMOVED_SECRET,
   REMOVED_SECRETmetadataREMOVED_SECRET: {},
   REMOVED_SECRETsourceREMOVED_SECRET: [
    REMOVED_SECRET2.3 Embed Both English and Spanish DataREMOVED_SECRET
   ]
  },
  {
   REMOVED_SECRETcell_typeREMOVED_SECRET: REMOVED_SECRETcodeREMOVED_SECRET,
   REMOVED_SECRETexecution_countREMOVED_SECRET: 23,
   REMOVED_SECRETmetadataREMOVED_SECRET: {},
   REMOVED_SECREToutputsREMOVED_SECRET: [
    {
     REMOVED_SECRETdataREMOVED_SECRET: {
      REMOVED_SECRETapplication/vnd.jupyter.widget-view+jsonREMOVED_SECRET: {
       REMOVED_SECRETmodel_idREMOVED_SECRET: REMOVED_SECRETa83194f91c73451eb2d57086815143beREMOVED_SECRET,
       REMOVED_SECRETversion_majorREMOVED_SECRET: 2,
       REMOVED_SECRETversion_minorREMOVED_SECRET: 0
      },
      REMOVED_SECRETtext/plainREMOVED_SECRET: [
       REMOVED_SECRETBatches:   0%|          | 0/32 [00:00<?, ?it/s]REMOVED_SECRET
      ]
     },
     REMOVED_SECRETmetadataREMOVED_SECRET: {},
     REMOVED_SECREToutput_typeREMOVED_SECRET: REMOVED_SECRETdisplay_dataREMOVED_SECRET
    },
    {
     REMOVED_SECRETdataREMOVED_SECRET: {
      REMOVED_SECRETapplication/vnd.jupyter.widget-view+jsonREMOVED_SECRET: {
       REMOVED_SECRETmodel_idREMOVED_SECRET: REMOVED_SECRETbd8419dc2b6649efae524de232674b83REMOVED_SECRET,
       REMOVED_SECRETversion_majorREMOVED_SECRET: 2,
       REMOVED_SECRETversion_minorREMOVED_SECRET: 0
      },
      REMOVED_SECRETtext/plainREMOVED_SECRET: [
       REMOVED_SECRETBatches:   0%|          | 0/32 [00:00<?, ?it/s]REMOVED_SECRET
      ]
     },
     REMOVED_SECRETmetadataREMOVED_SECRET: {},
     REMOVED_SECREToutput_typeREMOVED_SECRET: REMOVED_SECRETdisplay_dataREMOVED_SECRET
    },
    {
     REMOVED_SECRETnameREMOVED_SECRET: REMOVED_SECRETstdoutREMOVED_SECRET,
     REMOVED_SECREToutput_typeREMOVED_SECRET: REMOVED_SECRETstreamREMOVED_SECRET,
     REMOVED_SECRETtextREMOVED_SECRET: [
      REMOVED_SECRETEnglish Embeddings Shape: (996, 1024)\nREMOVED_SECRET,
      REMOVED_SECRETSpanish Emebeddings Shape: (996, 1024)\nREMOVED_SECRET
     ]
    }
   ],
   REMOVED_SECRETsourceREMOVED_SECRET: [
    REMOVED_SECRET#Embed both English and Spanish with the BGE Hugging Face Model\nREMOVED_SECRET,
    REMOVED_SECRETentoes_english_embeddings = model.encode(spanish_df_cleaned['title'].tolist(), show_progress_bar=True)\nREMOVED_SECRET,
    REMOVED_SECRETentoes_spanish_embeddings = model.encode(spanish_df_cleaned['title_spanish'].tolist(), show_progress_bar=True)\nREMOVED_SECRET,
    REMOVED_SECRETprint(\REMOVED_SECRETEnglish Embeddings Shape:\REMOVED_SECRET, entoes_english_embeddings.shape)\nREMOVED_SECRET,
    REMOVED_SECRETprint(\REMOVED_SECRETSpanish Emebeddings Shape:\REMOVED_SECRET, entoes_spanish_embeddings.shape)REMOVED_SECRET
   ]
  },
  {
   REMOVED_SECRETcell_typeREMOVED_SECRET: REMOVED_SECRETcodeREMOVED_SECRET,
   REMOVED_SECRETexecution_countREMOVED_SECRET: 24,
   REMOVED_SECRETmetadataREMOVED_SECRET: {},
   REMOVED_SECREToutputsREMOVED_SECRET: [],
   REMOVED_SECRETsourceREMOVED_SECRET: [
    REMOVED_SECRET# Saving the embeddings to CSV files\nREMOVED_SECRET,
    REMOVED_SECRET\nREMOVED_SECRET,
    REMOVED_SECRETdf_embeddings = pd.DataFrame({\nREMOVED_SECRET,
    REMOVED_SECRET    \REMOVED_SECRETtitle\REMOVED_SECRET: spanish_df_cleaned['title'],\nREMOVED_SECRET,
    REMOVED_SECRET    \REMOVED_SECRETtitle_spanish\REMOVED_SECRET: spanish_df_cleaned['title_spanish'],\nREMOVED_SECRET,
    REMOVED_SECRET    \REMOVED_SECRETenglish_embedding\REMOVED_SECRET: list(entoes_english_embeddings),\nREMOVED_SECRET,
    REMOVED_SECRET    \REMOVED_SECRETspanish_embedding\REMOVED_SECRET: list(entoes_spanish_embeddings),\nREMOVED_SECRET,
    REMOVED_SECRET})\nREMOVED_SECRET,
    REMOVED_SECRET\nREMOVED_SECRET,
    REMOVED_SECRETdf_embeddings.to_pickle(\REMOVED_SECRETen_to_sp_embeddings.pkl\REMOVED_SECRET)REMOVED_SECRET
   ]
  },
  {
   REMOVED_SECRETcell_typeREMOVED_SECRET: REMOVED_SECRETmarkdownREMOVED_SECRET,
   REMOVED_SECRETmetadataREMOVED_SECRET: {},
   REMOVED_SECRETsourceREMOVED_SECRET: [
    REMOVED_SECRET2.4 Spanish Sentence (BGE) Cosine SimilarityREMOVED_SECRET
   ]
  },
  {
   REMOVED_SECRETcell_typeREMOVED_SECRET: REMOVED_SECRETcodeREMOVED_SECRET,
   REMOVED_SECRETexecution_countREMOVED_SECRET: 25,
   REMOVED_SECRETmetadataREMOVED_SECRET: {},
   REMOVED_SECREToutputsREMOVED_SECRET: [
    {
     REMOVED_SECRETnameREMOVED_SECRET: REMOVED_SECRETstdoutREMOVED_SECRET,
     REMOVED_SECREToutput_typeREMOVED_SECRET: REMOVED_SECRETstreamREMOVED_SECRET,
     REMOVED_SECRETtextREMOVED_SECRET: [
      REMOVED_SECRETRow 0 - Cosine Similarity: 0.8633\nREMOVED_SECRET,
      REMOVED_SECRETRow 1 - Cosine Similarity: 0.8882\nREMOVED_SECRET,
      REMOVED_SECRETRow 2 - Cosine Similarity: 0.8030\nREMOVED_SECRET,
      REMOVED_SECRETRow 3 - Cosine Similarity: 0.8970\nREMOVED_SECRET,
      REMOVED_SECRETRow 4 - Cosine Similarity: 0.8868\nREMOVED_SECRET
     ]
    }
   ],
   REMOVED_SECRETsourceREMOVED_SECRET: [
    REMOVED_SECRET# Choose the First 5 Rows\nREMOVED_SECRET,
    REMOVED_SECRETfor i in range(5):\nREMOVED_SECRET,
    REMOVED_SECRET    score = cosine_similarity([entoes_english_embeddings[i]], [entoes_spanish_embeddings[i]])[0][0]\nREMOVED_SECRET,
    REMOVED_SECRET    print(f\REMOVED_SECRETRow {i} - Cosine Similarity: {score:.4f}\REMOVED_SECRET)REMOVED_SECRET
   ]
  },
  {
   REMOVED_SECRETcell_typeREMOVED_SECRET: REMOVED_SECRETcodeREMOVED_SECRET,
   REMOVED_SECRETexecution_countREMOVED_SECRET: 26,
   REMOVED_SECRETmetadataREMOVED_SECRET: {},
   REMOVED_SECREToutputsREMOVED_SECRET: [
    {
     REMOVED_SECRETnameREMOVED_SECRET: REMOVED_SECRETstdoutREMOVED_SECRET,
     REMOVED_SECREToutput_typeREMOVED_SECRET: REMOVED_SECRETstreamREMOVED_SECRET,
     REMOVED_SECRETtextREMOVED_SECRET: [
      REMOVED_SECRETAverage cosine similarity: 0.8545\nREMOVED_SECRET
     ]
    }
   ],
   REMOVED_SECRETsourceREMOVED_SECRET: [
    REMOVED_SECRETsimilarities = []\nREMOVED_SECRET,
    REMOVED_SECRETfor i in range(len(entoes_english_embeddings)):\nREMOVED_SECRET,
    REMOVED_SECRET    sim = cosine_similarity([entoes_english_embeddings[i]], [entoes_spanish_embeddings[i]])[0][0]\nREMOVED_SECRET,
    REMOVED_SECRET    similarities.append(sim)\nREMOVED_SECRET,
    REMOVED_SECRET\nREMOVED_SECRET,
    REMOVED_SECRET# Now compute the average\nREMOVED_SECRET,
    REMOVED_SECRETaverage_similarity = np.mean(similarities)\nREMOVED_SECRET,
    REMOVED_SECRETprint(f\REMOVED_SECRETAverage cosine similarity: {average_similarity:.4f}\REMOVED_SECRET)REMOVED_SECRET
   ]
  },
  {
   REMOVED_SECRETcell_typeREMOVED_SECRET: REMOVED_SECRETmarkdownREMOVED_SECRET,
   REMOVED_SECRETmetadataREMOVED_SECRET: {},
   REMOVED_SECRETsourceREMOVED_SECRET: [
    REMOVED_SECRET2.5 Spanish Word (FastText) Cosine SimilarityREMOVED_SECRET
   ]
  },
  {
   REMOVED_SECRETcell_typeREMOVED_SECRET: REMOVED_SECRETcodeREMOVED_SECRET,
   REMOVED_SECRETexecution_countREMOVED_SECRET: 27,
   REMOVED_SECRETmetadataREMOVED_SECRET: {},
   REMOVED_SECREToutputsREMOVED_SECRET: [
    {
     REMOVED_SECRETnameREMOVED_SECRET: REMOVED_SECRETstdoutREMOVED_SECRET,
     REMOVED_SECREToutput_typeREMOVED_SECRET: REMOVED_SECRETstreamREMOVED_SECRET,
     REMOVED_SECRETtextREMOVED_SECRET: [
      REMOVED_SECRETAverage cosine similarity (avg word embeddings 50k): 0.1602\nREMOVED_SECRET
     ]
    }
   ],
   REMOVED_SECRETsourceREMOVED_SECRET: [
    REMOVED_SECRET#FastText Cosine Similarity for 50k Words\nREMOVED_SECRET,
    REMOVED_SECRETentoes_en_words, entoes_en_vectors = load_vecs(\REMOVED_SECRETwiki.en.align.vec\REMOVED_SECRET, limit_no_words=50000)\nREMOVED_SECRET,
    REMOVED_SECRETentoes_es_words, entoes_es_vectors = load_vecs(\REMOVED_SECRETwiki.es.align.vec\REMOVED_SECRET, limit_no_words=50000)\nREMOVED_SECRET,
    REMOVED_SECRET\nREMOVED_SECRET,
    REMOVED_SECRETen_dict = dict(zip(entoit_en_words, entoit_en_vectors))\nREMOVED_SECRET,
    REMOVED_SECRETit_dict = dict(zip(entoes_es_words, entoes_es_vectors))\nREMOVED_SECRET,
    REMOVED_SECRET\nREMOVED_SECRET,
    REMOVED_SECRETentoes_english_avg_embeds = spanish_df_cleaned['title'].apply(lambda x: average_embedding(x, en_dict))\nREMOVED_SECRET,
    REMOVED_SECRETentoes_spanish_avg_embeds = spanish_df_cleaned['title_spanish'].apply(lambda x: average_embedding(x, it_dict))\nREMOVED_SECRET,
    REMOVED_SECRET\nREMOVED_SECRET,
    REMOVED_SECRETsimilarities_word = []\nREMOVED_SECRET,
    REMOVED_SECRETfor i in range(len(spanish_df_cleaned)):\nREMOVED_SECRET,
    REMOVED_SECRET    sim = cosine_similarity([entoes_english_avg_embeds[i]], [entoes_spanish_avg_embeds[i]])[0][0]\nREMOVED_SECRET,
    REMOVED_SECRET    similarities_word.append(sim)\nREMOVED_SECRET,
    REMOVED_SECRET\nREMOVED_SECRET,
    REMOVED_SECRETavg_word_sim_50 = np.mean(similarities_word)\nREMOVED_SECRET,
    REMOVED_SECRETprint(f\REMOVED_SECRETAverage cosine similarity (avg word embeddings 50k): {avg_word_sim_50:.4f}\REMOVED_SECRET)REMOVED_SECRET
   ]
  },
  {
   REMOVED_SECRETcell_typeREMOVED_SECRET: REMOVED_SECRETcodeREMOVED_SECRET,
   REMOVED_SECRETexecution_countREMOVED_SECRET: 28,
   REMOVED_SECRETmetadataREMOVED_SECRET: {},
   REMOVED_SECREToutputsREMOVED_SECRET: [
    {
     REMOVED_SECRETnameREMOVED_SECRET: REMOVED_SECRETstdoutREMOVED_SECRET,
     REMOVED_SECREToutput_typeREMOVED_SECRET: REMOVED_SECRETstreamREMOVED_SECRET,
     REMOVED_SECRETtextREMOVED_SECRET: [
      REMOVED_SECRETAverage cosine similarity (avg word embeddings 10k): 0.2413\nREMOVED_SECRET
     ]
    }
   ],
   REMOVED_SECRETsourceREMOVED_SECRET: [
    REMOVED_SECRET#FastText Cosine Similarity for 10k Words\nREMOVED_SECRET,
    REMOVED_SECRETentoes_en_words, entoes_en_vectors = load_vecs(\REMOVED_SECRETwiki.en.align.vec\REMOVED_SECRET, limit_no_words=10000)\nREMOVED_SECRET,
    REMOVED_SECRETentoes_es_words, entoes_es_vectors = load_vecs(\REMOVED_SECRETwiki.es.align.vec\REMOVED_SECRET, limit_no_words=10000)\nREMOVED_SECRET,
    REMOVED_SECRET\nREMOVED_SECRET,
    REMOVED_SECRETen_dict = dict(zip(entoit_en_words, entoit_en_vectors))\nREMOVED_SECRET,
    REMOVED_SECRETit_dict = dict(zip(entoes_es_words, entoes_es_vectors))\nREMOVED_SECRET,
    REMOVED_SECRET\nREMOVED_SECRET,
    REMOVED_SECRETentoes_english_avg_embeds = spanish_df_cleaned['title'].apply(lambda x: average_embedding(x, en_dict))\nREMOVED_SECRET,
    REMOVED_SECRETentoes_spanish_avg_embeds = spanish_df_cleaned['title_spanish'].apply(lambda x: average_embedding(x, it_dict))\nREMOVED_SECRET,
    REMOVED_SECRET\nREMOVED_SECRET,
    REMOVED_SECRETsimilarities_word = []\nREMOVED_SECRET,
    REMOVED_SECRETfor i in range(len(spanish_df_cleaned)):\nREMOVED_SECRET,
    REMOVED_SECRET    sim = cosine_similarity([entoes_english_avg_embeds[i]], [entoes_spanish_avg_embeds[i]])[0][0]\nREMOVED_SECRET,
    REMOVED_SECRET    similarities_word.append(sim)\nREMOVED_SECRET,
    REMOVED_SECRET\nREMOVED_SECRET,
    REMOVED_SECRETavg_word_sim_10 = np.mean(similarities_word)\nREMOVED_SECRET,
    REMOVED_SECRETprint(f\REMOVED_SECRETAverage cosine similarity (avg word embeddings 10k): {avg_word_sim_10:.4f}\REMOVED_SECRET)REMOVED_SECRET
   ]
  },
  {
   REMOVED_SECRETcell_typeREMOVED_SECRET: REMOVED_SECRETcodeREMOVED_SECRET,
   REMOVED_SECRETexecution_countREMOVED_SECRET: 29,
   REMOVED_SECRETmetadataREMOVED_SECRET: {},
   REMOVED_SECREToutputsREMOVED_SECRET: [
    {
     REMOVED_SECRETnameREMOVED_SECRET: REMOVED_SECRETstdoutREMOVED_SECRET,
     REMOVED_SECREToutput_typeREMOVED_SECRET: REMOVED_SECRETstreamREMOVED_SECRET,
     REMOVED_SECRETtextREMOVED_SECRET: [
      REMOVED_SECRETAverage cosine similarity (avg word embeddings 5k): 0.2497\nREMOVED_SECRET
     ]
    }
   ],
   REMOVED_SECRETsourceREMOVED_SECRET: [
    REMOVED_SECRET#FastText Cosine Similarity for 5k Words\nREMOVED_SECRET,
    REMOVED_SECRETentoes_en_words, entoes_en_vectors = load_vecs(\REMOVED_SECRETwiki.en.align.vec\REMOVED_SECRET, limit_no_words=5000)\nREMOVED_SECRET,
    REMOVED_SECRETentoes_es_words, entoes_es_vectors = load_vecs(\REMOVED_SECRETwiki.es.align.vec\REMOVED_SECRET, limit_no_words=5000)\nREMOVED_SECRET,
    REMOVED_SECRET\nREMOVED_SECRET,
    REMOVED_SECRETen_dict = dict(zip(entoit_en_words, entoit_en_vectors))\nREMOVED_SECRET,
    REMOVED_SECRETit_dict = dict(zip(entoes_es_words, entoes_es_vectors))\nREMOVED_SECRET,
    REMOVED_SECRET\nREMOVED_SECRET,
    REMOVED_SECRETentoes_english_avg_embeds = spanish_df_cleaned['title'].apply(lambda x: average_embedding(x, en_dict))\nREMOVED_SECRET,
    REMOVED_SECRETentoes_spanish_avg_embeds = spanish_df_cleaned['title_spanish'].apply(lambda x: average_embedding(x, it_dict))\nREMOVED_SECRET,
    REMOVED_SECRETsimilarities_word = []\nREMOVED_SECRET,
    REMOVED_SECRETfor i in range(len(spanish_df_cleaned)):\nREMOVED_SECRET,
    REMOVED_SECRET    sim = cosine_similarity([entoes_english_avg_embeds[i]], [entoes_spanish_avg_embeds[i]])[0][0]\nREMOVED_SECRET,
    REMOVED_SECRET    similarities_word.append(sim)\nREMOVED_SECRET,
    REMOVED_SECRET\nREMOVED_SECRET,
    REMOVED_SECRETavg_word_sim_5 = np.mean(similarities_word)\nREMOVED_SECRET,
    REMOVED_SECRETprint(f\REMOVED_SECRETAverage cosine similarity (avg word embeddings 5k): {avg_word_sim_5:.4f}\REMOVED_SECRET)REMOVED_SECRET
   ]
  },
  {
   REMOVED_SECRETcell_typeREMOVED_SECRET: REMOVED_SECRETcodeREMOVED_SECRET,
   REMOVED_SECRETexecution_countREMOVED_SECRET: 30,
   REMOVED_SECRETmetadataREMOVED_SECRET: {},
   REMOVED_SECREToutputsREMOVED_SECRET: [
    {
     REMOVED_SECRETdataREMOVED_SECRET: {
      REMOVED_SECRETimage/pngREMOVED_SECRET: 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REMOVED_SECRET,
      REMOVED_SECRETtext/plainREMOVED_SECRET: [
       REMOVED_SECRET<Figure size 800x500 with 1 Axes>REMOVED_SECRET
      ]
     },
     REMOVED_SECRETmetadataREMOVED_SECRET: {},
     REMOVED_SECREToutput_typeREMOVED_SECRET: REMOVED_SECRETdisplay_dataREMOVED_SECRET
    }
   ],
   REMOVED_SECRETsourceREMOVED_SECRET: [
    REMOVED_SECRET# X-axis: Word vector sizes used\nREMOVED_SECRET,
    REMOVED_SECRETx = [\REMOVED_SECRET5k words\REMOVED_SECRET, \REMOVED_SECRET10k words\REMOVED_SECRET, \REMOVED_SECRET50k words\REMOVED_SECRET]\nREMOVED_SECRET,
    REMOVED_SECRET\nREMOVED_SECRET,
    REMOVED_SECRETy = [avg_word_sim_5, avg_word_sim_10, avg_word_sim_50]\nREMOVED_SECRET,
    REMOVED_SECRET\nREMOVED_SECRET,
    REMOVED_SECRETplt.figure(figsize=(8, 5))\nREMOVED_SECRET,
    REMOVED_SECRET\nREMOVED_SECRET,
    REMOVED_SECRET# Bar chart for FastText similarities\nREMOVED_SECRET,
    REMOVED_SECRETplt.bar(x, y, color='skyblue', label=\REMOVED_SECRETFastText Avg Embedding\REMOVED_SECRET)\nREMOVED_SECRET,
    REMOVED_SECRET\nREMOVED_SECRET,
    REMOVED_SECRET# Horizontal line for BGE-M3 sentence embedding similarity\nREMOVED_SECRET,
    REMOVED_SECRETplt.axhline(y=average_similarity, color='orange', linestyle='--', label=\REMOVED_SECRETBGE-M3 Sentence Embedding\REMOVED_SECRET)\nREMOVED_SECRET,
    REMOVED_SECRET\nREMOVED_SECRET,
    REMOVED_SECRETplt.title(\REMOVED_SECRETComparison of Average Cosine Similarity\REMOVED_SECRET)\nREMOVED_SECRET,
    REMOVED_SECRETplt.ylabel(\REMOVED_SECRETCosine Similarity\REMOVED_SECRET)\nREMOVED_SECRET,
    REMOVED_SECRETplt.ylim(0, 1)\nREMOVED_SECRET,
    REMOVED_SECRETplt.legend()\nREMOVED_SECRET,
    REMOVED_SECRETplt.grid(True)\nREMOVED_SECRET,
    REMOVED_SECRETplt.tight_layout()\nREMOVED_SECRET,
    REMOVED_SECRETplt.show()REMOVED_SECRET
   ]
  },
  {
   REMOVED_SECRETcell_typeREMOVED_SECRET: REMOVED_SECRETmarkdownREMOVED_SECRET,
   REMOVED_SECRETmetadataREMOVED_SECRET: {},
   REMOVED_SECRETsourceREMOVED_SECRET: [
    REMOVED_SECRET## 3. Chinese Dataset ExplorationREMOVED_SECRET
   ]
  },
  {
   REMOVED_SECRETcell_typeREMOVED_SECRET: REMOVED_SECRETmarkdownREMOVED_SECRET,
   REMOVED_SECRETmetadataREMOVED_SECRET: {},
   REMOVED_SECRETsourceREMOVED_SECRET: [
    REMOVED_SECRET3.1 Cleaning of DatasetREMOVED_SECRET
   ]
  },
  {
   REMOVED_SECRETcell_typeREMOVED_SECRET: REMOVED_SECRETcodeREMOVED_SECRET,
   REMOVED_SECRETexecution_countREMOVED_SECRET: 31,
   REMOVED_SECRETmetadataREMOVED_SECRET: {},
   REMOVED_SECREToutputsREMOVED_SECRET: [
    {
     REMOVED_SECRETdataREMOVED_SECRET: {
      REMOVED_SECRETtext/htmlREMOVED_SECRET: [
       REMOVED_SECRET<div>\nREMOVED_SECRET,
       REMOVED_SECRET<style scoped>\nREMOVED_SECRET,
       REMOVED_SECRET    .dataframe tbody tr th:only-of-type {\nREMOVED_SECRET,
       REMOVED_SECRET        vertical-align: middle;\nREMOVED_SECRET,
       REMOVED_SECRET    }\nREMOVED_SECRET,
       REMOVED_SECRET\nREMOVED_SECRET,
       REMOVED_SECRET    .dataframe tbody tr th {\nREMOVED_SECRET,
       REMOVED_SECRET        vertical-align: top;\nREMOVED_SECRET,
       REMOVED_SECRET    }\nREMOVED_SECRET,
       REMOVED_SECRET\nREMOVED_SECRET,
       REMOVED_SECRET    .dataframe thead th {\nREMOVED_SECRET,
       REMOVED_SECRET        text-align: right;\nREMOVED_SECRET,
       REMOVED_SECRET    }\nREMOVED_SECRET,
       REMOVED_SECRET</style>\nREMOVED_SECRET,
       REMOVED_SECRET<table border=\REMOVED_SECRET1\REMOVED_SECRET class=\REMOVED_SECRETdataframe\REMOVED_SECRET>\nREMOVED_SECRET,
       REMOVED_SECRET  <thead>\nREMOVED_SECRET,
       REMOVED_SECRET    <tr style=\REMOVED_SECRETtext-align: right;\REMOVED_SECRET>\nREMOVED_SECRET,
       REMOVED_SECRET      <th></th>\nREMOVED_SECRET,
       REMOVED_SECRET      <th>translation_output</th>\nREMOVED_SECRET,
       REMOVED_SECRET      <th>text</th>\nREMOVED_SECRET,
       REMOVED_SECRET      <th>split</th>\nREMOVED_SECRET,
       REMOVED_SECRET    </tr>\nREMOVED_SECRET,
       REMOVED_SECRET  </thead>\nREMOVED_SECRET,
       REMOVED_SECRET  <tbody>\nREMOVED_SECRET,
       REMOVED_SECRET    <tr>\nREMOVED_SECRET,
       REMOVED_SECRET      <th>0</th>\nREMOVED_SECRET,
       REMOVED_SECRET      <td>Oppo A75 A75S A73 Phone Case Soft Rabbit Silic...</td>\nREMOVED_SECRET,
       REMOVED_SECRET      <td>OPPO A75 A75s A73 手机壳 软壳 挂绳壳 大眼兔硅胶壳</td>\nREMOVED_SECRET,
       REMOVED_SECRET      <td>private</td>\nREMOVED_SECRET,
       REMOVED_SECRET    </tr>\nREMOVED_SECRET,
       REMOVED_SECRET    <tr>\nREMOVED_SECRET,
       REMOVED_SECRET      <th>1</th>\nREMOVED_SECRET,
       REMOVED_SECRET      <td>SOFT 99 Coating Car Wax Strong Water Watt</td>\nREMOVED_SECRET,
       REMOVED_SECRET      <td>SOFT 99 鍍膜車蠟(強力撥水型)</td>\nREMOVED_SECRET,
       REMOVED_SECRET      <td>private</td>\nREMOVED_SECRET,
       REMOVED_SECRET    </tr>\nREMOVED_SECRET,
       REMOVED_SECRET    <tr>\nREMOVED_SECRET,
       REMOVED_SECRET      <th>2</th>\nREMOVED_SECRET,
       REMOVED_SECRET      <td>Low Sugar Mango Dry 250g Be The Royal</td>\nREMOVED_SECRET,
       REMOVED_SECRET      <td>低糖芒果乾 250g 臻御行</td>\nREMOVED_SECRET,
       REMOVED_SECRET      <td>private</td>\nREMOVED_SECRET,
       REMOVED_SECRET    </tr>\nREMOVED_SECRET,
       REMOVED_SECRET    <tr>\nREMOVED_SECRET,
       REMOVED_SECRET      <th>3</th>\nREMOVED_SECRET,
       REMOVED_SECRET      <td>* the culture Japan Imported Round Top Space C...</td>\nREMOVED_SECRET,
       REMOVED_SECRET      <td>＊小徑文化＊日本進口ROUND TOP space craft - diamond (SC-...</td>\nREMOVED_SECRET,
       REMOVED_SECRET      <td>private</td>\nREMOVED_SECRET,
       REMOVED_SECRET    </tr>\nREMOVED_SECRET,
       REMOVED_SECRET    <tr>\nREMOVED_SECRET,
       REMOVED_SECRET      <th>4</th>\nREMOVED_SECRET,
       REMOVED_SECRET      <td>Hello Kitty Sandals Shoes White/Red Children n...</td>\nREMOVED_SECRET,
       REMOVED_SECRET      <td>Hello Kitty 凱蒂貓 KITTY 涼鞋 童鞋 白/紅色 小童 no739</td>\nREMOVED_SECRET,
       REMOVED_SECRET      <td>private</td>\nREMOVED_SECRET,
       REMOVED_SECRET    </tr>\nREMOVED_SECRET,
       REMOVED_SECRET    <tr>\nREMOVED_SECRET,
       REMOVED_SECRET      <th>...</th>\nREMOVED_SECRET,
       REMOVED_SECRET      <td>...</td>\nREMOVED_SECRET,
       REMOVED_SECRET      <td>...</td>\nREMOVED_SECRET,
       REMOVED_SECRET      <td>...</td>\nREMOVED_SECRET,
       REMOVED_SECRET    </tr>\nREMOVED_SECRET,
       REMOVED_SECRET    <tr>\nREMOVED_SECRET,
       REMOVED_SECRET      <th>995</th>\nREMOVED_SECRET,
       REMOVED_SECRET      <td>Hippored Torn Fun Unique Style Straight Jeans ...</td>\nREMOVED_SECRET,
       REMOVED_SECRET      <td>【HippoRed】撕破乐趣★独特风格★中直筒牛仔裤 O591_445</td>\nREMOVED_SECRET,
       REMOVED_SECRET      <td>private</td>\nREMOVED_SECRET,
       REMOVED_SECRET    </tr>\nREMOVED_SECRET,
       REMOVED_SECRET    <tr>\nREMOVED_SECRET,
       REMOVED_SECRET      <th>996</th>\nREMOVED_SECRET,
       REMOVED_SECRET      <td>Kids Set Table Bay - Thin Long Sleeve Home Sui...</td>\nREMOVED_SECRET,
       REMOVED_SECRET      <td>兒童套裝 台灣製薄長袖居家套裝 魔法Baby~k60092</td>\nREMOVED_SECRET,
       REMOVED_SECRET      <td>private</td>\nREMOVED_SECRET,
       REMOVED_SECRET    </tr>\nREMOVED_SECRET,
       REMOVED_SECRET    <tr>\nREMOVED_SECRET,
       REMOVED_SECRET      <th>997</th>\nREMOVED_SECRET,
       REMOVED_SECRET      <td>LONGCHAMP Le Pliage Neo High Density Nylon Bac...</td>\nREMOVED_SECRET,
       REMOVED_SECRET      <td>LONGCHAMP Le Pliage Neo高密尼龍後背包(中型)</td>\nREMOVED_SECRET,
       REMOVED_SECRET      <td>private</td>\nREMOVED_SECRET,
       REMOVED_SECRET    </tr>\nREMOVED_SECRET,
       REMOVED_SECRET    <tr>\nREMOVED_SECRET,
       REMOVED_SECRET      <th>998</th>\nREMOVED_SECRET,
       REMOVED_SECRET      <td>IFairies Opening Adjustable Ring ifairies [564...</td>\nREMOVED_SECRET,
       REMOVED_SECRET      <td>iFairies 開口可調節戒指★ifairies【56472】【56472】</td>\nREMOVED_SECRET,
       REMOVED_SECRET      <td>private</td>\nREMOVED_SECRET,
       REMOVED_SECRET    </tr>\nREMOVED_SECRET,
       REMOVED_SECRET    <tr>\nREMOVED_SECRET,
       REMOVED_SECRET      <th>999</th>\nREMOVED_SECRET,
       REMOVED_SECRET      <td>PolarStar Women Sweat Quick Dry T-shirt Black ...</td>\nREMOVED_SECRET,
       REMOVED_SECRET      <td>PolarStar 女 排汗快干T恤『黑』P18102</td>\nREMOVED_SECRET,
       REMOVED_SECRET      <td>private</td>\nREMOVED_SECRET,
       REMOVED_SECRET    </tr>\nREMOVED_SECRET,
       REMOVED_SECRET  </tbody>\nREMOVED_SECRET,
       REMOVED_SECRET</table>\nREMOVED_SECRET,
       REMOVED_SECRET<p>1000 rows × 3 columns</p>\nREMOVED_SECRET,
       REMOVED_SECRET</div>REMOVED_SECRET
      ],
      REMOVED_SECRETtext/plainREMOVED_SECRET: [
       REMOVED_SECRET                                    translation_output  \\\nREMOVED_SECRET,
       REMOVED_SECRET0    Oppo A75 A75S A73 Phone Case Soft Rabbit Silic...   \nREMOVED_SECRET,
       REMOVED_SECRET1            SOFT 99 Coating Car Wax Strong Water Watt   \nREMOVED_SECRET,
       REMOVED_SECRET2                Low Sugar Mango Dry 250g Be The Royal   \nREMOVED_SECRET,
       REMOVED_SECRET3    * the culture Japan Imported Round Top Space C...   \nREMOVED_SECRET,
       REMOVED_SECRET4    Hello Kitty Sandals Shoes White/Red Children n...   \nREMOVED_SECRET,
       REMOVED_SECRET..                                                 ...   \nREMOVED_SECRET,
       REMOVED_SECRET995  Hippored Torn Fun Unique Style Straight Jeans ...   \nREMOVED_SECRET,
       REMOVED_SECRET996  Kids Set Table Bay - Thin Long Sleeve Home Sui...   \nREMOVED_SECRET,
       REMOVED_SECRET997  LONGCHAMP Le Pliage Neo High Density Nylon Bac...   \nREMOVED_SECRET,
       REMOVED_SECRET998  IFairies Opening Adjustable Ring ifairies [564...   \nREMOVED_SECRET,
       REMOVED_SECRET999  PolarStar Women Sweat Quick Dry T-shirt Black ...   \nREMOVED_SECRET,
       REMOVED_SECRET\nREMOVED_SECRET,
       REMOVED_SECRET                                                  text    split  \nREMOVED_SECRET,
       REMOVED_SECRET0                  OPPO A75 A75s A73 手机壳 软壳 挂绳壳 大眼兔硅胶壳  private  \nREMOVED_SECRET,
       REMOVED_SECRET1                                  SOFT 99 鍍膜車蠟(強力撥水型)  private  \nREMOVED_SECRET,
       REMOVED_SECRET2                                       低糖芒果乾 250g 臻御行  private  \nREMOVED_SECRET,
       REMOVED_SECRET3    ＊小徑文化＊日本進口ROUND TOP space craft - diamond (SC-...  private  \nREMOVED_SECRET,
       REMOVED_SECRET4            Hello Kitty 凱蒂貓 KITTY 涼鞋 童鞋 白/紅色 小童 no739  private  \nREMOVED_SECRET,
       REMOVED_SECRET..                                                 ...      ...  \nREMOVED_SECRET,
       REMOVED_SECRET995                【HippoRed】撕破乐趣★独特风格★中直筒牛仔裤 O591_445  private  \nREMOVED_SECRET,
       REMOVED_SECRET996                      兒童套裝 台灣製薄長袖居家套裝 魔法Baby~k60092  private  \nREMOVED_SECRET,
       REMOVED_SECRET997                 LONGCHAMP Le Pliage Neo高密尼龍後背包(中型)  private  \nREMOVED_SECRET,
       REMOVED_SECRET998            iFairies 開口可調節戒指★ifairies【56472】【56472】  private  \nREMOVED_SECRET,
       REMOVED_SECRET999                        PolarStar 女 排汗快干T恤『黑』P18102  private  \nREMOVED_SECRET,
       REMOVED_SECRET\nREMOVED_SECRET,
       REMOVED_SECRET[1000 rows x 3 columns]REMOVED_SECRET
      ]
     },
     REMOVED_SECRETexecution_countREMOVED_SECRET: 31,
     REMOVED_SECRETmetadataREMOVED_SECRET: {},
     REMOVED_SECREToutput_typeREMOVED_SECRET: REMOVED_SECRETexecute_resultREMOVED_SECRET
    }
   ],
   REMOVED_SECRETsourceREMOVED_SECRET: [
    REMOVED_SECRETchinese_dfREMOVED_SECRET
   ]
  },
  {
   REMOVED_SECRETcell_typeREMOVED_SECRET: REMOVED_SECRETcodeREMOVED_SECRET,
   REMOVED_SECRETexecution_countREMOVED_SECRET: 32,
   REMOVED_SECRETmetadataREMOVED_SECRET: {},
   REMOVED_SECREToutputsREMOVED_SECRET: [
    {
     REMOVED_SECRETdataREMOVED_SECRET: {
      REMOVED_SECRETtext/htmlREMOVED_SECRET: [
       REMOVED_SECRET<div>\nREMOVED_SECRET,
       REMOVED_SECRET<style scoped>\nREMOVED_SECRET,
       REMOVED_SECRET    .dataframe tbody tr th:only-of-type {\nREMOVED_SECRET,
       REMOVED_SECRET        vertical-align: middle;\nREMOVED_SECRET,
       REMOVED_SECRET    }\nREMOVED_SECRET,
       REMOVED_SECRET\nREMOVED_SECRET,
       REMOVED_SECRET    .dataframe tbody tr th {\nREMOVED_SECRET,
       REMOVED_SECRET        vertical-align: top;\nREMOVED_SECRET,
       REMOVED_SECRET    }\nREMOVED_SECRET,
       REMOVED_SECRET\nREMOVED_SECRET,
       REMOVED_SECRET    .dataframe thead th {\nREMOVED_SECRET,
       REMOVED_SECRET        text-align: right;\nREMOVED_SECRET,
       REMOVED_SECRET    }\nREMOVED_SECRET,
       REMOVED_SECRET</style>\nREMOVED_SECRET,
       REMOVED_SECRET<table border=\REMOVED_SECRET1\REMOVED_SECRET class=\REMOVED_SECRETdataframe\REMOVED_SECRET>\nREMOVED_SECRET,
       REMOVED_SECRET  <thead>\nREMOVED_SECRET,
       REMOVED_SECRET    <tr style=\REMOVED_SECRETtext-align: right;\REMOVED_SECRET>\nREMOVED_SECRET,
       REMOVED_SECRET      <th></th>\nREMOVED_SECRET,
       REMOVED_SECRET      <th>translation_output</th>\nREMOVED_SECRET,
       REMOVED_SECRET      <th>text</th>\nREMOVED_SECRET,
       REMOVED_SECRET      <th>split</th>\nREMOVED_SECRET,
       REMOVED_SECRET    </tr>\nREMOVED_SECRET,
       REMOVED_SECRET  </thead>\nREMOVED_SECRET,
       REMOVED_SECRET  <tbody>\nREMOVED_SECRET,
       REMOVED_SECRET    <tr>\nREMOVED_SECRET,
       REMOVED_SECRET      <th>0</th>\nREMOVED_SECRET,
       REMOVED_SECRET      <td>Oppo A75 A75S A73 Phone Case Soft Rabbit Silic...</td>\nREMOVED_SECRET,
       REMOVED_SECRET      <td>OPPO A75 A75s A73 手机壳 软壳 挂绳壳 大眼兔硅胶壳</td>\nREMOVED_SECRET,
       REMOVED_SECRET      <td>private</td>\nREMOVED_SECRET,
       REMOVED_SECRET    </tr>\nREMOVED_SECRET,
       REMOVED_SECRET    <tr>\nREMOVED_SECRET,
       REMOVED_SECRET      <th>1</th>\nREMOVED_SECRET,
       REMOVED_SECRET      <td>SOFT 99 Coating Car Wax Strong Water Watt</td>\nREMOVED_SECRET,
       REMOVED_SECRET      <td>SOFT 99 鍍膜車蠟(強力撥水型)</td>\nREMOVED_SECRET,
       REMOVED_SECRET      <td>private</td>\nREMOVED_SECRET,
       REMOVED_SECRET    </tr>\nREMOVED_SECRET,
       REMOVED_SECRET    <tr>\nREMOVED_SECRET,
       REMOVED_SECRET      <th>2</th>\nREMOVED_SECRET,
       REMOVED_SECRET      <td>Low Sugar Mango Dry 250g Be The Royal</td>\nREMOVED_SECRET,
       REMOVED_SECRET      <td>低糖芒果乾 250g 臻御行</td>\nREMOVED_SECRET,
       REMOVED_SECRET      <td>private</td>\nREMOVED_SECRET,
       REMOVED_SECRET    </tr>\nREMOVED_SECRET,
       REMOVED_SECRET    <tr>\nREMOVED_SECRET,
       REMOVED_SECRET      <th>3</th>\nREMOVED_SECRET,
       REMOVED_SECRET      <td>* the culture Japan Imported Round Top Space C...</td>\nREMOVED_SECRET,
       REMOVED_SECRET      <td>＊小徑文化＊日本進口ROUND TOP space craft - diamond (SC-...</td>\nREMOVED_SECRET,
       REMOVED_SECRET      <td>private</td>\nREMOVED_SECRET,
       REMOVED_SECRET    </tr>\nREMOVED_SECRET,
       REMOVED_SECRET    <tr>\nREMOVED_SECRET,
       REMOVED_SECRET      <th>4</th>\nREMOVED_SECRET,
       REMOVED_SECRET      <td>Hello Kitty Sandals Shoes White/Red Children n...</td>\nREMOVED_SECRET,
       REMOVED_SECRET      <td>Hello Kitty 凱蒂貓 KITTY 涼鞋 童鞋 白/紅色 小童 no739</td>\nREMOVED_SECRET,
       REMOVED_SECRET      <td>private</td>\nREMOVED_SECRET,
       REMOVED_SECRET    </tr>\nREMOVED_SECRET,
       REMOVED_SECRET    <tr>\nREMOVED_SECRET,
       REMOVED_SECRET      <th>...</th>\nREMOVED_SECRET,
       REMOVED_SECRET      <td>...</td>\nREMOVED_SECRET,
       REMOVED_SECRET      <td>...</td>\nREMOVED_SECRET,
       REMOVED_SECRET      <td>...</td>\nREMOVED_SECRET,
       REMOVED_SECRET    </tr>\nREMOVED_SECRET,
       REMOVED_SECRET    <tr>\nREMOVED_SECRET,
       REMOVED_SECRET      <th>995</th>\nREMOVED_SECRET,
       REMOVED_SECRET      <td>Hippored Torn Fun Unique Style Straight Jeans ...</td>\nREMOVED_SECRET,
       REMOVED_SECRET      <td>【HippoRed】撕破乐趣★独特风格★中直筒牛仔裤 O591_445</td>\nREMOVED_SECRET,
       REMOVED_SECRET      <td>private</td>\nREMOVED_SECRET,
       REMOVED_SECRET    </tr>\nREMOVED_SECRET,
       REMOVED_SECRET    <tr>\nREMOVED_SECRET,
       REMOVED_SECRET      <th>996</th>\nREMOVED_SECRET,
       REMOVED_SECRET      <td>Kids Set Table Bay - Thin Long Sleeve Home Sui...</td>\nREMOVED_SECRET,
       REMOVED_SECRET      <td>兒童套裝 台灣製薄長袖居家套裝 魔法Baby~k60092</td>\nREMOVED_SECRET,
       REMOVED_SECRET      <td>private</td>\nREMOVED_SECRET,
       REMOVED_SECRET    </tr>\nREMOVED_SECRET,
       REMOVED_SECRET    <tr>\nREMOVED_SECRET,
       REMOVED_SECRET      <th>997</th>\nREMOVED_SECRET,
       REMOVED_SECRET      <td>LONGCHAMP Le Pliage Neo High Density Nylon Bac...</td>\nREMOVED_SECRET,
       REMOVED_SECRET      <td>LONGCHAMP Le Pliage Neo高密尼龍後背包(中型)</td>\nREMOVED_SECRET,
       REMOVED_SECRET      <td>private</td>\nREMOVED_SECRET,
       REMOVED_SECRET    </tr>\nREMOVED_SECRET,
       REMOVED_SECRET    <tr>\nREMOVED_SECRET,
       REMOVED_SECRET      <th>998</th>\nREMOVED_SECRET,
       REMOVED_SECRET      <td>IFairies Opening Adjustable Ring ifairies [564...</td>\nREMOVED_SECRET,
       REMOVED_SECRET      <td>iFairies 開口可調節戒指★ifairies【56472】【56472】</td>\nREMOVED_SECRET,
       REMOVED_SECRET      <td>private</td>\nREMOVED_SECRET,
       REMOVED_SECRET    </tr>\nREMOVED_SECRET,
       REMOVED_SECRET    <tr>\nREMOVED_SECRET,
       REMOVED_SECRET      <th>999</th>\nREMOVED_SECRET,
       REMOVED_SECRET      <td>PolarStar Women Sweat Quick Dry T-shirt Black ...</td>\nREMOVED_SECRET,
       REMOVED_SECRET      <td>PolarStar 女 排汗快干T恤『黑』P18102</td>\nREMOVED_SECRET,
       REMOVED_SECRET      <td>private</td>\nREMOVED_SECRET,
       REMOVED_SECRET    </tr>\nREMOVED_SECRET,
       REMOVED_SECRET  </tbody>\nREMOVED_SECRET,
       REMOVED_SECRET</table>\nREMOVED_SECRET,
       REMOVED_SECRET<p>1000 rows × 3 columns</p>\nREMOVED_SECRET,
       REMOVED_SECRET</div>REMOVED_SECRET
      ],
      REMOVED_SECRETtext/plainREMOVED_SECRET: [
       REMOVED_SECRET                                    translation_output  \\\nREMOVED_SECRET,
       REMOVED_SECRET0    Oppo A75 A75S A73 Phone Case Soft Rabbit Silic...   \nREMOVED_SECRET,
       REMOVED_SECRET1            SOFT 99 Coating Car Wax Strong Water Watt   \nREMOVED_SECRET,
       REMOVED_SECRET2                Low Sugar Mango Dry 250g Be The Royal   \nREMOVED_SECRET,
       REMOVED_SECRET3    * the culture Japan Imported Round Top Space C...   \nREMOVED_SECRET,
       REMOVED_SECRET4    Hello Kitty Sandals Shoes White/Red Children n...   \nREMOVED_SECRET,
       REMOVED_SECRET..                                                 ...   \nREMOVED_SECRET,
       REMOVED_SECRET995  Hippored Torn Fun Unique Style Straight Jeans ...   \nREMOVED_SECRET,
       REMOVED_SECRET996  Kids Set Table Bay - Thin Long Sleeve Home Sui...   \nREMOVED_SECRET,
       REMOVED_SECRET997  LONGCHAMP Le Pliage Neo High Density Nylon Bac...   \nREMOVED_SECRET,
       REMOVED_SECRET998  IFairies Opening Adjustable Ring ifairies [564...   \nREMOVED_SECRET,
       REMOVED_SECRET999  PolarStar Women Sweat Quick Dry T-shirt Black ...   \nREMOVED_SECRET,
       REMOVED_SECRET\nREMOVED_SECRET,
       REMOVED_SECRET                                                  text    split  \nREMOVED_SECRET,
       REMOVED_SECRET0                  OPPO A75 A75s A73 手机壳 软壳 挂绳壳 大眼兔硅胶壳  private  \nREMOVED_SECRET,
       REMOVED_SECRET1                                  SOFT 99 鍍膜車蠟(強力撥水型)  private  \nREMOVED_SECRET,
       REMOVED_SECRET2                                       低糖芒果乾 250g 臻御行  private  \nREMOVED_SECRET,
       REMOVED_SECRET3    ＊小徑文化＊日本進口ROUND TOP space craft - diamond (SC-...  private  \nREMOVED_SECRET,
       REMOVED_SECRET4            Hello Kitty 凱蒂貓 KITTY 涼鞋 童鞋 白/紅色 小童 no739  private  \nREMOVED_SECRET,
       REMOVED_SECRET..                                                 ...      ...  \nREMOVED_SECRET,
       REMOVED_SECRET995                【HippoRed】撕破乐趣★独特风格★中直筒牛仔裤 O591_445  private  \nREMOVED_SECRET,
       REMOVED_SECRET996                      兒童套裝 台灣製薄長袖居家套裝 魔法Baby~k60092  private  \nREMOVED_SECRET,
       REMOVED_SECRET997                 LONGCHAMP Le Pliage Neo高密尼龍後背包(中型)  private  \nREMOVED_SECRET,
       REMOVED_SECRET998            iFairies 開口可調節戒指★ifairies【56472】【56472】  private  \nREMOVED_SECRET,
       REMOVED_SECRET999                        PolarStar 女 排汗快干T恤『黑』P18102  private  \nREMOVED_SECRET,
       REMOVED_SECRET\nREMOVED_SECRET,
       REMOVED_SECRET[1000 rows x 3 columns]REMOVED_SECRET
      ]
     },
     REMOVED_SECRETexecution_countREMOVED_SECRET: 32,
     REMOVED_SECRETmetadataREMOVED_SECRET: {},
     REMOVED_SECREToutput_typeREMOVED_SECRET: REMOVED_SECRETexecute_resultREMOVED_SECRET
    }
   ],
   REMOVED_SECRETsourceREMOVED_SECRET: [
    REMOVED_SECRET#Basic Data Cleaning\nREMOVED_SECRET,
    REMOVED_SECRETchinese_df_cleaned = chinese_df.drop_duplicates()\nREMOVED_SECRET,
    REMOVED_SECRETchinese_df_cleaned.reset_index(drop=True, inplace=True)\nREMOVED_SECRET,
    REMOVED_SECRET\nREMOVED_SECRET,
    REMOVED_SECRETchinese_df_cleanedREMOVED_SECRET
   ]
  },
  {
   REMOVED_SECRETcell_typeREMOVED_SECRET: REMOVED_SECRETmarkdownREMOVED_SECRET,
   REMOVED_SECRETmetadataREMOVED_SECRET: {},
   REMOVED_SECRETsourceREMOVED_SECRET: [
    REMOVED_SECRET3.2 Word Count for Both English and ChineseREMOVED_SECRET
   ]
  },
  {
   REMOVED_SECRETcell_typeREMOVED_SECRET: REMOVED_SECRETcodeREMOVED_SECRET,
   REMOVED_SECRETexecution_countREMOVED_SECRET: 33,
   REMOVED_SECRETmetadataREMOVED_SECRET: {},
   REMOVED_SECREToutputsREMOVED_SECRET: [
    {
     REMOVED_SECRETdataREMOVED_SECRET: {
      REMOVED_SECRETtext/plainREMOVED_SECRET: [
       REMOVED_SECRET1000REMOVED_SECRET
      ]
     },
     REMOVED_SECRETexecution_countREMOVED_SECRET: 33,
     REMOVED_SECRETmetadataREMOVED_SECRET: {},
     REMOVED_SECREToutput_typeREMOVED_SECRET: REMOVED_SECRETexecute_resultREMOVED_SECRET
    }
   ],
   REMOVED_SECRETsourceREMOVED_SECRET: [
    REMOVED_SECRET#Declare length of title for both english and chinese\nREMOVED_SECRET,
    REMOVED_SECRETchinese_title_lengths = chinese_df_cleaned['translation_output'].str.len().describe()\nREMOVED_SECRET,
    REMOVED_SECRETchinese_title_lengths_cn = chinese_df_cleaned['text'].str.len().describe()\nREMOVED_SECRET,
    REMOVED_SECRET(chinese_df_cleaned['text'] == chinese_df_cleaned['text']).sum()REMOVED_SECRET
   ]
  },
  {
   REMOVED_SECRETcell_typeREMOVED_SECRET: REMOVED_SECRETcodeREMOVED_SECRET,
   REMOVED_SECRETexecution_countREMOVED_SECRET: 34,
   REMOVED_SECRETmetadataREMOVED_SECRET: {},
   REMOVED_SECREToutputsREMOVED_SECRET: [
    {
     REMOVED_SECRETdataREMOVED_SECRET: {
      REMOVED_SECRETimage/pngREMOVED_SECRET: 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REMOVED_SECRET,
      REMOVED_SECRETtext/plainREMOVED_SECRET: [
       REMOVED_SECRET<Figure size 640x480 with 1 Axes>REMOVED_SECRET
      ]
     },
     REMOVED_SECRETmetadataREMOVED_SECRET: {},
     REMOVED_SECREToutput_typeREMOVED_SECRET: REMOVED_SECRETdisplay_dataREMOVED_SECRET
    }
   ],
   REMOVED_SECRETsourceREMOVED_SECRET: [
    REMOVED_SECRET#Distribution of Word Count for English\nREMOVED_SECRET,
    REMOVED_SECRETplt.hist(chinese_title_lengths, bins=20)\nREMOVED_SECRET,
    REMOVED_SECRETplt.title(\REMOVED_SECRETDistribution of Word Counts in English Titles\REMOVED_SECRET)\nREMOVED_SECRET,
    REMOVED_SECRETplt.xlabel(\REMOVED_SECRETNumber of Words\REMOVED_SECRET)\nREMOVED_SECRET,
    REMOVED_SECRETplt.ylabel(\REMOVED_SECRETFrequency\REMOVED_SECRET)\nREMOVED_SECRET,
    REMOVED_SECRETplt.show()REMOVED_SECRET
   ]
  },
  {
   REMOVED_SECRETcell_typeREMOVED_SECRET: REMOVED_SECRETcodeREMOVED_SECRET,
   REMOVED_SECRETexecution_countREMOVED_SECRET: 35,
   REMOVED_SECRETmetadataREMOVED_SECRET: {},
   REMOVED_SECREToutputsREMOVED_SECRET: [
    {
     REMOVED_SECRETdataREMOVED_SECRET: {
      REMOVED_SECRETimage/pngREMOVED_SECRET: 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,
      REMOVED_SECRETtext/plainREMOVED_SECRET: [
       REMOVED_SECRET<Figure size 640x480 with 1 Axes>REMOVED_SECRET
      ]
     },
     REMOVED_SECRETmetadataREMOVED_SECRET: {},
     REMOVED_SECREToutput_typeREMOVED_SECRET: REMOVED_SECRETdisplay_dataREMOVED_SECRET
    }
   ],
   REMOVED_SECRETsourceREMOVED_SECRET: [
    REMOVED_SECRET#Distribution of Word Count for Chinese\nREMOVED_SECRET,
    REMOVED_SECRETplt.hist(chinese_title_lengths_cn, bins=20)\nREMOVED_SECRET,
    REMOVED_SECRETplt.title(\REMOVED_SECRETDistribution of Word Counts in Chinese Titles\REMOVED_SECRET)\nREMOVED_SECRET,
    REMOVED_SECRETplt.xlabel(\REMOVED_SECRETNumber of Words\REMOVED_SECRET)\nREMOVED_SECRET,
    REMOVED_SECRETplt.ylabel(\REMOVED_SECRETFrequency\REMOVED_SECRET)\nREMOVED_SECRET,
    REMOVED_SECRETplt.show()REMOVED_SECRET
   ]
  },
  {
   REMOVED_SECRETcell_typeREMOVED_SECRET: REMOVED_SECRETmarkdownREMOVED_SECRET,
   REMOVED_SECRETmetadataREMOVED_SECRET: {},
   REMOVED_SECRETsourceREMOVED_SECRET: [
    REMOVED_SECRET3.3 Embed Both English and Chinese DataREMOVED_SECRET
   ]
  },
  {
   REMOVED_SECRETcell_typeREMOVED_SECRET: REMOVED_SECRETcodeREMOVED_SECRET,
   REMOVED_SECRETexecution_countREMOVED_SECRET: 36,
   REMOVED_SECRETmetadataREMOVED_SECRET: {},
   REMOVED_SECREToutputsREMOVED_SECRET: [
    {
     REMOVED_SECRETdataREMOVED_SECRET: {
      REMOVED_SECRETapplication/vnd.jupyter.widget-view+jsonREMOVED_SECRET: {
       REMOVED_SECRETmodel_idREMOVED_SECRET: REMOVED_SECRET292a56bc1f3b417f99e85a289ed42ff1REMOVED_SECRET,
       REMOVED_SECRETversion_majorREMOVED_SECRET: 2,
       REMOVED_SECRETversion_minorREMOVED_SECRET: 0
      },
      REMOVED_SECRETtext/plainREMOVED_SECRET: [
       REMOVED_SECRETBatches:   0%|          | 0/32 [00:00<?, ?it/s]REMOVED_SECRET
      ]
     },
     REMOVED_SECRETmetadataREMOVED_SECRET: {},
     REMOVED_SECREToutput_typeREMOVED_SECRET: REMOVED_SECRETdisplay_dataREMOVED_SECRET
    },
    {
     REMOVED_SECRETdataREMOVED_SECRET: {
      REMOVED_SECRETapplication/vnd.jupyter.widget-view+jsonREMOVED_SECRET: {
       REMOVED_SECRETmodel_idREMOVED_SECRET: REMOVED_SECRET330c93a58aba42179780d0882d1ad11eREMOVED_SECRET,
       REMOVED_SECRETversion_majorREMOVED_SECRET: 2,
       REMOVED_SECRETversion_minorREMOVED_SECRET: 0
      },
      REMOVED_SECRETtext/plainREMOVED_SECRET: [
       REMOVED_SECRETBatches:   0%|          | 0/32 [00:00<?, ?it/s]REMOVED_SECRET
      ]
     },
     REMOVED_SECRETmetadataREMOVED_SECRET: {},
     REMOVED_SECREToutput_typeREMOVED_SECRET: REMOVED_SECRETdisplay_dataREMOVED_SECRET
    },
    {
     REMOVED_SECRETnameREMOVED_SECRET: REMOVED_SECRETstdoutREMOVED_SECRET,
     REMOVED_SECREToutput_typeREMOVED_SECRET: REMOVED_SECRETstreamREMOVED_SECRET,
     REMOVED_SECRETtextREMOVED_SECRET: [
      REMOVED_SECRETEnglish Embeddings Shape: (1000, 1024)\nREMOVED_SECRET,
      REMOVED_SECRETChinese Embeddings Shape: (1000, 1024)\nREMOVED_SECRET
     ]
    }
   ],
   REMOVED_SECRETsourceREMOVED_SECRET: [
    REMOVED_SECRETentocn_english_embeddings = model.encode(chinese_df_cleaned['translation_output'].tolist(), show_progress_bar=True)\nREMOVED_SECRET,
    REMOVED_SECRETentocn_chinese_embeddings = model.encode(chinese_df_cleaned['text'].tolist(), show_progress_bar=True)\nREMOVED_SECRET,
    REMOVED_SECRETprint(\REMOVED_SECRETEnglish Embeddings Shape:\REMOVED_SECRET, entocn_english_embeddings.shape)\nREMOVED_SECRET,
    REMOVED_SECRETprint(\REMOVED_SECRETChinese Embeddings Shape:\REMOVED_SECRET, entocn_chinese_embeddings.shape)REMOVED_SECRET
   ]
  },
  {
   REMOVED_SECRETcell_typeREMOVED_SECRET: REMOVED_SECRETcodeREMOVED_SECRET,
   REMOVED_SECRETexecution_countREMOVED_SECRET: 37,
   REMOVED_SECRETmetadataREMOVED_SECRET: {},
   REMOVED_SECREToutputsREMOVED_SECRET: [],
   REMOVED_SECRETsourceREMOVED_SECRET: [
    REMOVED_SECRET# Saving the embeddings to CSV files\nREMOVED_SECRET,
    REMOVED_SECRET\nREMOVED_SECRET,
    REMOVED_SECRETdf_embeddings = pd.DataFrame({\nREMOVED_SECRET,
    REMOVED_SECRET    \REMOVED_SECRETtitle\REMOVED_SECRET: chinese_df_cleaned['translation_output'],\nREMOVED_SECRET,
    REMOVED_SECRET    \REMOVED_SECRETchinese translation\REMOVED_SECRET: chinese_df_cleaned['text'],\nREMOVED_SECRET,
    REMOVED_SECRET    \REMOVED_SECRETenglish_embedding\REMOVED_SECRET: list(entocn_english_embeddings),\nREMOVED_SECRET,
    REMOVED_SECRET    \REMOVED_SECRETchinese_embedding\REMOVED_SECRET: list(entocn_chinese_embeddings),\nREMOVED_SECRET,
    REMOVED_SECRET})\nREMOVED_SECRET,
    REMOVED_SECRET\nREMOVED_SECRET,
    REMOVED_SECRETdf_embeddings.to_pickle(\REMOVED_SECRETen_to_cn_embeddings.pkl\REMOVED_SECRET)REMOVED_SECRET
   ]
  },
  {
   REMOVED_SECRETcell_typeREMOVED_SECRET: REMOVED_SECRETmarkdownREMOVED_SECRET,
   REMOVED_SECRETmetadataREMOVED_SECRET: {},
   REMOVED_SECRETsourceREMOVED_SECRET: [
    REMOVED_SECRET3.4 Chinese Sentence (BGE) Cosine SimilarityREMOVED_SECRET
   ]
  },
  {
   REMOVED_SECRETcell_typeREMOVED_SECRET: REMOVED_SECRETcodeREMOVED_SECRET,
   REMOVED_SECRETexecution_countREMOVED_SECRET: 38,
   REMOVED_SECRETmetadataREMOVED_SECRET: {},
   REMOVED_SECREToutputsREMOVED_SECRET: [
    {
     REMOVED_SECRETnameREMOVED_SECRET: REMOVED_SECRETstdoutREMOVED_SECRET,
     REMOVED_SECREToutput_typeREMOVED_SECRET: REMOVED_SECRETstreamREMOVED_SECRET,
     REMOVED_SECRETtextREMOVED_SECRET: [
      REMOVED_SECRETRow 0 - Cosine Similarity: 0.7572\nREMOVED_SECRET,
      REMOVED_SECRETRow 1 - Cosine Similarity: 0.7349\nREMOVED_SECRET,
      REMOVED_SECRETRow 2 - Cosine Similarity: 0.6427\nREMOVED_SECRET,
      REMOVED_SECRETRow 3 - Cosine Similarity: 0.8146\nREMOVED_SECRET,
      REMOVED_SECRETRow 4 - Cosine Similarity: 0.7461\nREMOVED_SECRET
     ]
    }
   ],
   REMOVED_SECRETsourceREMOVED_SECRET: [
    REMOVED_SECRET# Choose the First 5 Rows\nREMOVED_SECRET,
    REMOVED_SECRETfor i in range(5):\nREMOVED_SECRET,
    REMOVED_SECRET    score = cosine_similarity([entocn_english_embeddings[i]], [entocn_chinese_embeddings[i]])[0][0]\nREMOVED_SECRET,
    REMOVED_SECRET    print(f\REMOVED_SECRETRow {i} - Cosine Similarity: {score:.4f}\REMOVED_SECRET)REMOVED_SECRET
   ]
  },
  {
   REMOVED_SECRETcell_typeREMOVED_SECRET: REMOVED_SECRETcodeREMOVED_SECRET,
   REMOVED_SECRETexecution_countREMOVED_SECRET: 39,
   REMOVED_SECRETmetadataREMOVED_SECRET: {},
   REMOVED_SECREToutputsREMOVED_SECRET: [
    {
     REMOVED_SECRETnameREMOVED_SECRET: REMOVED_SECRETstdoutREMOVED_SECRET,
     REMOVED_SECREToutput_typeREMOVED_SECRET: REMOVED_SECRETstreamREMOVED_SECRET,
     REMOVED_SECRETtextREMOVED_SECRET: [
      REMOVED_SECRETAverage cosine similarity: 0.7325\nREMOVED_SECRET
     ]
    }
   ],
   REMOVED_SECRETsourceREMOVED_SECRET: [
    REMOVED_SECRETsimilarities = []\nREMOVED_SECRET,
    REMOVED_SECRETfor i in range(len(entocn_english_embeddings)):\nREMOVED_SECRET,
    REMOVED_SECRET    sim = cosine_similarity([entocn_english_embeddings[i]], [entocn_chinese_embeddings[i]])[0][0]\nREMOVED_SECRET,
    REMOVED_SECRET    similarities.append(sim)\nREMOVED_SECRET,
    REMOVED_SECRET\nREMOVED_SECRET,
    REMOVED_SECRET# Now compute the average\nREMOVED_SECRET,
    REMOVED_SECRETaverage_similarity = np.mean(similarities)\nREMOVED_SECRET,
    REMOVED_SECRETprint(f\REMOVED_SECRETAverage cosine similarity: {average_similarity:.4f}\REMOVED_SECRET)REMOVED_SECRET
   ]
  },
  {
   REMOVED_SECRETcell_typeREMOVED_SECRET: REMOVED_SECRETmarkdownREMOVED_SECRET,
   REMOVED_SECRETmetadataREMOVED_SECRET: {},
   REMOVED_SECRETsourceREMOVED_SECRET: [
    REMOVED_SECRET3.5 Chinese Word (FastText) Cosine SimilarityREMOVED_SECRET
   ]
  },
  {
   REMOVED_SECRETcell_typeREMOVED_SECRET: REMOVED_SECRETcodeREMOVED_SECRET,
   REMOVED_SECRETexecution_countREMOVED_SECRET: 40,
   REMOVED_SECRETmetadataREMOVED_SECRET: {},
   REMOVED_SECREToutputsREMOVED_SECRET: [
    {
     REMOVED_SECRETnameREMOVED_SECRET: REMOVED_SECRETstdoutREMOVED_SECRET,
     REMOVED_SECREToutput_typeREMOVED_SECRET: REMOVED_SECRETstreamREMOVED_SECRET,
     REMOVED_SECRETtextREMOVED_SECRET: [
      REMOVED_SECRETAverage cosine similarity (avg word embeddings 50k): 0.0508\nREMOVED_SECRET
     ]
    }
   ],
   REMOVED_SECRETsourceREMOVED_SECRET: [
    REMOVED_SECRET#FastText Cosine Similarity for 50k Words\nREMOVED_SECRET,
    REMOVED_SECRETentocn_en_words, entocn_en_vectors = load_vecs(\REMOVED_SECRETwiki.en.align.vec\REMOVED_SECRET, limit_no_words=50000)\nREMOVED_SECRET,
    REMOVED_SECRETentocn_zh_words, entocn_zh_vectors = load_vecs(\REMOVED_SECRETwiki.zh.align.vec\REMOVED_SECRET, limit_no_words=50000)\nREMOVED_SECRET,
    REMOVED_SECRET\nREMOVED_SECRET,
    REMOVED_SECRETen_dict = dict(zip(entocn_en_words, entocn_en_vectors))\nREMOVED_SECRET,
    REMOVED_SECRETzh_dict = dict(zip(entocn_zh_words, entocn_zh_vectors))\nREMOVED_SECRET,
    REMOVED_SECRET\nREMOVED_SECRET,
    REMOVED_SECRETentocn_english_avg_embeds = chinese_df_cleaned['translation_output'].apply(lambda x: average_embedding(x, en_dict))\nREMOVED_SECRET,
    REMOVED_SECRETentocn_chinese_avg_embeds = chinese_df_cleaned['text'].apply(lambda x: average_embedding(x, zh_dict))\nREMOVED_SECRET,
    REMOVED_SECRET\nREMOVED_SECRET,
    REMOVED_SECRETsimilarities_word = []\nREMOVED_SECRET,
    REMOVED_SECRETfor i in range(len(chinese_df_cleaned)):\nREMOVED_SECRET,
    REMOVED_SECRET    sim = cosine_similarity([entocn_english_avg_embeds[i]], [entocn_chinese_avg_embeds[i]])[0][0]\nREMOVED_SECRET,
    REMOVED_SECRET    similarities_word.append(sim)\nREMOVED_SECRET,
    REMOVED_SECRET\nREMOVED_SECRET,
    REMOVED_SECRETavg_word_sim_50 = np.mean(similarities_word)\nREMOVED_SECRET,
    REMOVED_SECRETprint(f\REMOVED_SECRETAverage cosine similarity (avg word embeddings 50k): {avg_word_sim_50:.4f}\REMOVED_SECRET)REMOVED_SECRET
   ]
  },
  {
   REMOVED_SECRETcell_typeREMOVED_SECRET: REMOVED_SECRETcodeREMOVED_SECRET,
   REMOVED_SECRETexecution_countREMOVED_SECRET: 41,
   REMOVED_SECRETmetadataREMOVED_SECRET: {},
   REMOVED_SECREToutputsREMOVED_SECRET: [
    {
     REMOVED_SECRETnameREMOVED_SECRET: REMOVED_SECRETstdoutREMOVED_SECRET,
     REMOVED_SECREToutput_typeREMOVED_SECRET: REMOVED_SECRETstreamREMOVED_SECRET,
     REMOVED_SECRETtextREMOVED_SECRET: [
      REMOVED_SECRETAverage cosine similarity (avg word embeddings 10k): 0.0724\nREMOVED_SECRET
     ]
    }
   ],
   REMOVED_SECRETsourceREMOVED_SECRET: [
    REMOVED_SECRET#FastText Cosine Similarity for 10k Words\nREMOVED_SECRET,
    REMOVED_SECRETentocn_en_words, entocn_en_vectors = load_vecs(\REMOVED_SECRETwiki.en.align.vec\REMOVED_SECRET, limit_no_words=10000)\nREMOVED_SECRET,
    REMOVED_SECRETentocn_zh_words, entocn_zh_vectors = load_vecs(\REMOVED_SECRETwiki.zh.align.vec\REMOVED_SECRET, limit_no_words=10000)\nREMOVED_SECRET,
    REMOVED_SECRET\nREMOVED_SECRET,
    REMOVED_SECRETen_dict = dict(zip(entocn_en_words, entocn_en_vectors))\nREMOVED_SECRET,
    REMOVED_SECRETzh_dict = dict(zip(entocn_zh_words, entocn_zh_vectors))\nREMOVED_SECRET,
    REMOVED_SECRET\nREMOVED_SECRET,
    REMOVED_SECRETentocn_english_avg_embeds = chinese_df_cleaned['translation_output'].apply(lambda x: average_embedding(x, en_dict))\nREMOVED_SECRET,
    REMOVED_SECRETentocn_chinese_avg_embeds = chinese_df_cleaned['text'].apply(lambda x: average_embedding(x, zh_dict))\nREMOVED_SECRET,
    REMOVED_SECRETsimilarities_word = []\nREMOVED_SECRET,
    REMOVED_SECRETfor i in range(len(chinese_df_cleaned)):\nREMOVED_SECRET,
    REMOVED_SECRET    sim = cosine_similarity([entocn_english_avg_embeds[i]], [entocn_chinese_avg_embeds[i]])[0][0]\nREMOVED_SECRET,
    REMOVED_SECRET    similarities_word.append(sim)\nREMOVED_SECRET,
    REMOVED_SECRET\nREMOVED_SECRET,
    REMOVED_SECRETavg_word_sim_10 = np.mean(similarities_word)\nREMOVED_SECRET,
    REMOVED_SECRETprint(f\REMOVED_SECRETAverage cosine similarity (avg word embeddings 10k): {avg_word_sim_10:.4f}\REMOVED_SECRET)REMOVED_SECRET
   ]
  },
  {
   REMOVED_SECRETcell_typeREMOVED_SECRET: REMOVED_SECRETcodeREMOVED_SECRET,
   REMOVED_SECRETexecution_countREMOVED_SECRET: 42,
   REMOVED_SECRETmetadataREMOVED_SECRET: {},
   REMOVED_SECREToutputsREMOVED_SECRET: [
    {
     REMOVED_SECRETnameREMOVED_SECRET: REMOVED_SECRETstdoutREMOVED_SECRET,
     REMOVED_SECREToutput_typeREMOVED_SECRET: REMOVED_SECRETstreamREMOVED_SECRET,
     REMOVED_SECRETtextREMOVED_SECRET: [
      REMOVED_SECRETAverage cosine similarity (avg word embeddings 5k): 0.0770\nREMOVED_SECRET
     ]
    }
   ],
   REMOVED_SECRETsourceREMOVED_SECRET: [
    REMOVED_SECRET#FastText Cosine Similarity for 50k Words\nREMOVED_SECRET,
    REMOVED_SECRETentocn_en_words, entocn_en_vectors = load_vecs(\REMOVED_SECRETwiki.en.align.vec\REMOVED_SECRET, limit_no_words=5000)\nREMOVED_SECRET,
    REMOVED_SECRETentocn_zh_words, entocn_zh_vectors = load_vecs(\REMOVED_SECRETwiki.zh.align.vec\REMOVED_SECRET, limit_no_words=5000)\nREMOVED_SECRET,
    REMOVED_SECRET\nREMOVED_SECRET,
    REMOVED_SECRETen_dict = dict(zip(entocn_en_words, entocn_en_vectors))\nREMOVED_SECRET,
    REMOVED_SECRETzh_dict = dict(zip(entocn_zh_words, entocn_zh_vectors))\nREMOVED_SECRET,
    REMOVED_SECRET\nREMOVED_SECRET,
    REMOVED_SECRETentocn_english_avg_embeds = chinese_df_cleaned['translation_output'].apply(lambda x: average_embedding(x, en_dict))\nREMOVED_SECRET,
    REMOVED_SECRETentocn_chinese_avg_embeds = chinese_df_cleaned['text'].apply(lambda x: average_embedding(x, zh_dict))\nREMOVED_SECRET,
    REMOVED_SECRETsimilarities_word = []\nREMOVED_SECRET,
    REMOVED_SECRETfor i in range(len(chinese_df_cleaned)):\nREMOVED_SECRET,
    REMOVED_SECRET    sim = cosine_similarity([entocn_english_avg_embeds[i]], [entocn_chinese_avg_embeds[i]])[0][0]\nREMOVED_SECRET,
    REMOVED_SECRET    similarities_word.append(sim)\nREMOVED_SECRET,
    REMOVED_SECRET\nREMOVED_SECRET,
    REMOVED_SECRETavg_word_sim_5 = np.mean(similarities_word)\nREMOVED_SECRET,
    REMOVED_SECRETprint(f\REMOVED_SECRETAverage cosine similarity (avg word embeddings 5k): {avg_word_sim_5:.4f}\REMOVED_SECRET)REMOVED_SECRET
   ]
  },
  {
   REMOVED_SECRETcell_typeREMOVED_SECRET: REMOVED_SECRETcodeREMOVED_SECRET,
   REMOVED_SECRETexecution_countREMOVED_SECRET: 43,
   REMOVED_SECRETmetadataREMOVED_SECRET: {},
   REMOVED_SECREToutputsREMOVED_SECRET: [
    {
     REMOVED_SECRETdataREMOVED_SECRET: {
      REMOVED_SECRETimage/pngREMOVED_SECRET: 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,
      REMOVED_SECRETtext/plainREMOVED_SECRET: [
       REMOVED_SECRET<Figure size 800x500 with 1 Axes>REMOVED_SECRET
      ]
     },
     REMOVED_SECRETmetadataREMOVED_SECRET: {},
     REMOVED_SECREToutput_typeREMOVED_SECRET: REMOVED_SECRETdisplay_dataREMOVED_SECRET
    }
   ],
   REMOVED_SECRETsourceREMOVED_SECRET: [
    REMOVED_SECRET# X-axis: Word vector sizes used\nREMOVED_SECRET,
    REMOVED_SECRETx = [\REMOVED_SECRET5k words\REMOVED_SECRET, \REMOVED_SECRET10k words\REMOVED_SECRET, \REMOVED_SECRET50k words\REMOVED_SECRET]\nREMOVED_SECRET,
    REMOVED_SECRET\nREMOVED_SECRET,
    REMOVED_SECRETy = [avg_word_sim_5, avg_word_sim_10, avg_word_sim_50]\nREMOVED_SECRET,
    REMOVED_SECRET\nREMOVED_SECRET,
    REMOVED_SECRETplt.figure(figsize=(8, 5))\nREMOVED_SECRET,
    REMOVED_SECRET\nREMOVED_SECRET,
    REMOVED_SECRET# Bar chart for FastText similarities\nREMOVED_SECRET,
    REMOVED_SECRETplt.bar(x, y, color='skyblue', label=\REMOVED_SECRETFastText Avg Embedding\REMOVED_SECRET)\nREMOVED_SECRET,
    REMOVED_SECRET\nREMOVED_SECRET,
    REMOVED_SECRET# Horizontal line for BGE-M3 sentence embedding similarity\nREMOVED_SECRET,
    REMOVED_SECRETplt.axhline(y=average_similarity, color='orange', linestyle='--', label=\REMOVED_SECRETBGE-M3 Sentence Embedding\REMOVED_SECRET)\nREMOVED_SECRET,
    REMOVED_SECRET\nREMOVED_SECRET,
    REMOVED_SECRETplt.title(\REMOVED_SECRETComparison of Average Cosine Similarity\REMOVED_SECRET)\nREMOVED_SECRET,
    REMOVED_SECRETplt.ylabel(\REMOVED_SECRETCosine Similarity\REMOVED_SECRET)\nREMOVED_SECRET,
    REMOVED_SECRETplt.ylim(0, 1)\nREMOVED_SECRET,
    REMOVED_SECRETplt.legend()\nREMOVED_SECRET,
    REMOVED_SECRETplt.grid(True)\nREMOVED_SECRET,
    REMOVED_SECRETplt.tight_layout()\nREMOVED_SECRET,
    REMOVED_SECRETplt.show()REMOVED_SECRET
   ]
  }
 ],
 REMOVED_SECRETmetadataREMOVED_SECRET: {
  REMOVED_SECRETkernelspecREMOVED_SECRET: {
   REMOVED_SECRETdisplay_nameREMOVED_SECRET: REMOVED_SECRETbaseREMOVED_SECRET,
   REMOVED_SECRETlanguageREMOVED_SECRET: REMOVED_SECRETpythonREMOVED_SECRET,
   REMOVED_SECRETnameREMOVED_SECRET: REMOVED_SECRETpython3REMOVED_SECRET
  },
  REMOVED_SECRETlanguage_infoREMOVED_SECRET: {
   REMOVED_SECRETcodemirror_modeREMOVED_SECRET: {
    REMOVED_SECRETnameREMOVED_SECRET: REMOVED_SECRETipythonREMOVED_SECRET,
    REMOVED_SECRETversionREMOVED_SECRET: 3
   },
   REMOVED_SECRETfile_extensionREMOVED_SECRET: REMOVED_SECRET.pyREMOVED_SECRET,
   REMOVED_SECRETmimetypeREMOVED_SECRET: REMOVED_SECRETtext/x-pythonREMOVED_SECRET,
   REMOVED_SECRETnameREMOVED_SECRET: REMOVED_SECRETpythonREMOVED_SECRET,
   REMOVED_SECRETnbconvert_exporterREMOVED_SECRET: REMOVED_SECRETpythonREMOVED_SECRET,
   REMOVED_SECRETpygments_lexerREMOVED_SECRET: REMOVED_SECRETipython3REMOVED_SECRET,
   REMOVED_SECRETversionREMOVED_SECRET: REMOVED_SECRET3.9.18REMOVED_SECRET
  }
 },
 REMOVED_SECRETnbformatREMOVED_SECRET: 4,
 REMOVED_SECRETnbformat_minorREMOVED_SECRET: 2
}
