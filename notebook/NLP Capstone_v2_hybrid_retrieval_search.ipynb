{
 REMOVED_SECRETcellsREMOVED_SECRET: [
  {
   REMOVED_SECRETcell_typeREMOVED_SECRET: REMOVED_SECRETmarkdownREMOVED_SECRET,
   REMOVED_SECRETmetadataREMOVED_SECRET: {},
   REMOVED_SECRETsourceREMOVED_SECRET: [
    REMOVED_SECRET## Start of Phase 2REMOVED_SECRET
   ]
  },
  {
   REMOVED_SECRETcell_typeREMOVED_SECRET: REMOVED_SECRETmarkdownREMOVED_SECRET,
   REMOVED_SECRETmetadataREMOVED_SECRET: {},
   REMOVED_SECRETsourceREMOVED_SECRET: [
    REMOVED_SECRETFor this phase, for each of the three datasets, we will be comparing the performances in search retrieval models between traditional sparse retrieval techniques using term weighting schemes like BM25 and TF-IDF versus hybrid search retrieval models which incorporates dense retrieval from the embeddings generated using BAAI BGE-M3 sentence transformer model with the sparse retrieval methods\nREMOVED_SECRET,
    REMOVED_SECRET\nREMOVED_SECRET,
    REMOVED_SECRETWe will be doing it for each target language specifically .REMOVED_SECRET
   ]
  },
  {
   REMOVED_SECRETcell_typeREMOVED_SECRET: REMOVED_SECRETmarkdownREMOVED_SECRET,
   REMOVED_SECRETmetadataREMOVED_SECRET: {},
   REMOVED_SECRETsourceREMOVED_SECRET: [
    REMOVED_SECRET2.1 Hybrid Retrieval Phase for ItalyREMOVED_SECRET
   ]
  },
  {
   REMOVED_SECRETcell_typeREMOVED_SECRET: REMOVED_SECRETcodeREMOVED_SECRET,
   REMOVED_SECRETexecution_countREMOVED_SECRET: 1,
   REMOVED_SECRETmetadataREMOVED_SECRET: {},
   REMOVED_SECREToutputsREMOVED_SECRET: [],
   REMOVED_SECRETsourceREMOVED_SECRET: [
    REMOVED_SECRETfrom sklearn.metrics.pairwise import cosine_similarityREMOVED_SECRET
   ]
  },
  {
   REMOVED_SECRETcell_typeREMOVED_SECRET: REMOVED_SECRETcodeREMOVED_SECRET,
   REMOVED_SECRETexecution_countREMOVED_SECRET: 3,
   REMOVED_SECRETmetadataREMOVED_SECRET: {},
   REMOVED_SECREToutputsREMOVED_SECRET: [],
   REMOVED_SECRETsourceREMOVED_SECRET: [
    REMOVED_SECRETfrom dotenv import load_dotenv\nREMOVED_SECRET,
    REMOVED_SECRETimport os\nREMOVED_SECRET,
    REMOVED_SECRETload_dotenv(dotenv_path='../.env')\nREMOVED_SECRET,
    REMOVED_SECRETCHARRAN_API = os.getenv('CHARRAN_API')\nREMOVED_SECRET,
    REMOVED_SECRETCHERYL_API = os.getenv('CHERYL_API')REMOVED_SECRET
   ]
  },
  {
   REMOVED_SECRETcell_typeREMOVED_SECRET: REMOVED_SECRETcodeREMOVED_SECRET,
   REMOVED_SECRETexecution_countREMOVED_SECRET: 3,
   REMOVED_SECRETmetadataREMOVED_SECRET: {},
   REMOVED_SECREToutputsREMOVED_SECRET: [
    {
     REMOVED_SECRETdataREMOVED_SECRET: {
      REMOVED_SECRETtext/htmlREMOVED_SECRET: [
       REMOVED_SECRET<div>\nREMOVED_SECRET,
       REMOVED_SECRET<style scoped>\nREMOVED_SECRET,
       REMOVED_SECRET    .dataframe tbody tr th:only-of-type {\nREMOVED_SECRET,
       REMOVED_SECRET        vertical-align: middle;\nREMOVED_SECRET,
       REMOVED_SECRET    }\nREMOVED_SECRET,
       REMOVED_SECRET\nREMOVED_SECRET,
       REMOVED_SECRET    .dataframe tbody tr th {\nREMOVED_SECRET,
       REMOVED_SECRET        vertical-align: top;\nREMOVED_SECRET,
       REMOVED_SECRET    }\nREMOVED_SECRET,
       REMOVED_SECRET\nREMOVED_SECRET,
       REMOVED_SECRET    .dataframe thead th {\nREMOVED_SECRET,
       REMOVED_SECRET        text-align: right;\nREMOVED_SECRET,
       REMOVED_SECRET    }\nREMOVED_SECRET,
       REMOVED_SECRET</style>\nREMOVED_SECRET,
       REMOVED_SECRET<table border=\REMOVED_SECRET1\REMOVED_SECRET class=\REMOVED_SECRETdataframe\REMOVED_SECRET>\nREMOVED_SECRET,
       REMOVED_SECRET  <thead>\nREMOVED_SECRET,
       REMOVED_SECRET    <tr style=\REMOVED_SECRETtext-align: right;\REMOVED_SECRET>\nREMOVED_SECRET,
       REMOVED_SECRET      <th></th>\nREMOVED_SECRET,
       REMOVED_SECRET      <th>title</th>\nREMOVED_SECRET,
       REMOVED_SECRET      <th>title_italian</th>\nREMOVED_SECRET,
       REMOVED_SECRET      <th>english_embedding</th>\nREMOVED_SECRET,
       REMOVED_SECRET      <th>italian_embedding</th>\nREMOVED_SECRET,
       REMOVED_SECRET    </tr>\nREMOVED_SECRET,
       REMOVED_SECRET  </thead>\nREMOVED_SECRET,
       REMOVED_SECRET  <tbody>\nREMOVED_SECRET,
       REMOVED_SECRET    <tr>\nREMOVED_SECRET,
       REMOVED_SECRET      <th>0</th>\nREMOVED_SECRET,
       REMOVED_SECRET      <td>zwilling pro 2pc prep knife set</td>\nREMOVED_SECRET,
       REMOVED_SECRET      <td>Zwilling pro 2pc set coltello prep</td>\nREMOVED_SECRET,
       REMOVED_SECRET      <td>[-0.07585622, -0.006632321, -0.039237764, 0.04...</td>\nREMOVED_SECRET,
       REMOVED_SECRET      <td>[-0.058768444, 0.012960452, -0.029929288, 0.05...</td>\nREMOVED_SECRET,
       REMOVED_SECRET    </tr>\nREMOVED_SECRET,
       REMOVED_SECRET    <tr>\nREMOVED_SECRET,
       REMOVED_SECRET      <th>1</th>\nREMOVED_SECRET,
       REMOVED_SECRET      <td>womens slim fit drape wrap tshirt  a new day</td>\nREMOVED_SECRET,
       REMOVED_SECRET      <td>donne slim fit drappeggio avvolgere tshirt un ...</td>\nREMOVED_SECRET,
       REMOVED_SECRET      <td>[-0.023722176, -0.02756558, -0.07540757, 0.011...</td>\nREMOVED_SECRET,
       REMOVED_SECRET      <td>[-0.056372743, -0.038858823, -0.07786548, 0.00...</td>\nREMOVED_SECRET,
       REMOVED_SECRET    </tr>\nREMOVED_SECRET,
       REMOVED_SECRET    <tr>\nREMOVED_SECRET,
       REMOVED_SECRET      <th>2</th>\nREMOVED_SECRET,
       REMOVED_SECRET      <td>mens teenage mutant ninja turtles group shot l...</td>\nREMOVED_SECRET,
       REMOVED_SECRET      <td>mens adolescente mutante ninja tartarughe grup...</td>\nREMOVED_SECRET,
       REMOVED_SECRET      <td>[-0.02781372, 0.004972987, -0.055929173, 0.013...</td>\nREMOVED_SECRET,
       REMOVED_SECRET      <td>[-0.004044311, 0.008419336, -0.05591273, 0.015...</td>\nREMOVED_SECRET,
       REMOVED_SECRET    </tr>\nREMOVED_SECRET,
       REMOVED_SECRET    <tr>\nREMOVED_SECRET,
       REMOVED_SECRET      <th>3</th>\nREMOVED_SECRET,
       REMOVED_SECRET      <td>mens wwe triple h the game logo tshirt</td>\nREMOVED_SECRET,
       REMOVED_SECRET      <td>mens wwe triplo h il gioco logo tshirt</td>\nREMOVED_SECRET,
       REMOVED_SECRET      <td>[-0.037347108, -0.009183998, -0.082188, 0.0122...</td>\nREMOVED_SECRET,
       REMOVED_SECRET      <td>[-0.03912319, -0.015832098, -0.07382396, 0.008...</td>\nREMOVED_SECRET,
       REMOVED_SECRET    </tr>\nREMOVED_SECRET,
       REMOVED_SECRET    <tr>\nREMOVED_SECRET,
       REMOVED_SECRET      <th>4</th>\nREMOVED_SECRET,
       REMOVED_SECRET      <td>purina fancy feast grilled gravy delights feas...</td>\nREMOVED_SECRET,
       REMOVED_SECRET      <td>purina fantasia festa grigliato sugo delizie f...</td>\nREMOVED_SECRET,
       REMOVED_SECRET      <td>[-0.0551254, 0.024768988, -0.02036258, -0.0108...</td>\nREMOVED_SECRET,
       REMOVED_SECRET      <td>[-0.0431343, 0.017949222, -0.023515861, -0.024...</td>\nREMOVED_SECRET,
       REMOVED_SECRET    </tr>\nREMOVED_SECRET,
       REMOVED_SECRET    <tr>\nREMOVED_SECRET,
       REMOVED_SECRET      <th>...</th>\nREMOVED_SECRET,
       REMOVED_SECRET      <td>...</td>\nREMOVED_SECRET,
       REMOVED_SECRET      <td>...</td>\nREMOVED_SECRET,
       REMOVED_SECRET      <td>...</td>\nREMOVED_SECRET,
       REMOVED_SECRET      <td>...</td>\nREMOVED_SECRET,
       REMOVED_SECRET    </tr>\nREMOVED_SECRET,
       REMOVED_SECRET    <tr>\nREMOVED_SECRET,
       REMOVED_SECRET      <th>868</th>\nREMOVED_SECRET,
       REMOVED_SECRET      <td>multi collagen protein powder types i ii  ii b...</td>\nREMOVED_SECRET,
       REMOVED_SECRET      <td>proteine multi collageno in polvere ii ii ii o...</td>\nREMOVED_SECRET,
       REMOVED_SECRET      <td>[-0.007071648, 0.013024846, -0.026673753, -0.0...</td>\nREMOVED_SECRET,
       REMOVED_SECRET      <td>[0.036605842, 0.03628495, -0.027457794, -0.008...</td>\nREMOVED_SECRET,
       REMOVED_SECRET    </tr>\nREMOVED_SECRET,
       REMOVED_SECRET    <tr>\nREMOVED_SECRET,
       REMOVED_SECRET      <th>869</th>\nREMOVED_SECRET,
       REMOVED_SECRET      <td>hope  henry mens waffle knit pullover sweater</td>\nREMOVED_SECRET,
       REMOVED_SECRET      <td>speranza henry uomo waffle maglia pullover mag...</td>\nREMOVED_SECRET,
       REMOVED_SECRET      <td>[-0.026264952, -0.008562797, -0.05641582, -0.0...</td>\nREMOVED_SECRET,
       REMOVED_SECRET      <td>[-0.0020557789, -0.0039152885, -0.04709097, -0...</td>\nREMOVED_SECRET,
       REMOVED_SECRET    </tr>\nREMOVED_SECRET,
       REMOVED_SECRET    <tr>\nREMOVED_SECRET,
       REMOVED_SECRET      <th>870</th>\nREMOVED_SECRET,
       REMOVED_SECRET      <td>noritake colortrio 16piece coupe dinnerware set</td>\nREMOVED_SECRET,
       REMOVED_SECRET      <td>noritake colortio 16 pezzi coupé set per la cena</td>\nREMOVED_SECRET,
       REMOVED_SECRET      <td>[-0.0055267178, -0.03823672, -0.024558328, 0.0...</td>\nREMOVED_SECRET,
       REMOVED_SECRET      <td>[0.0011833841, -0.014286156, -0.01681679, 0.03...</td>\nREMOVED_SECRET,
       REMOVED_SECRET    </tr>\nREMOVED_SECRET,
       REMOVED_SECRET    <tr>\nREMOVED_SECRET,
       REMOVED_SECRET      <th>871</th>\nREMOVED_SECRET,
       REMOVED_SECRET      <td>hope  henry mens fine gauge vneck pullover swe...</td>\nREMOVED_SECRET,
       REMOVED_SECRET      <td>speranza henry mens maglione pullover fine gau...</td>\nREMOVED_SECRET,
       REMOVED_SECRET      <td>[-0.03244666, -0.026627203, -0.07740165, 0.004...</td>\nREMOVED_SECRET,
       REMOVED_SECRET      <td>[-0.017570777, -0.00990813, -0.071718924, 0.01...</td>\nREMOVED_SECRET,
       REMOVED_SECRET    </tr>\nREMOVED_SECRET,
       REMOVED_SECRET    <tr>\nREMOVED_SECRET,
       REMOVED_SECRET      <th>872</th>\nREMOVED_SECRET,
       REMOVED_SECRET      <td>double strength larginine 1000 mg by now foods...</td>\nREMOVED_SECRET,
       REMOVED_SECRET      <td>larginina 1000 mg a doppia resistenza ormai al...</td>\nREMOVED_SECRET,
       REMOVED_SECRET      <td>[-0.032500178, 0.013463285, -0.05747889, -0.04...</td>\nREMOVED_SECRET,
       REMOVED_SECRET      <td>[-0.010276856, 0.006340458, -0.052428123, -0.0...</td>\nREMOVED_SECRET,
       REMOVED_SECRET    </tr>\nREMOVED_SECRET,
       REMOVED_SECRET  </tbody>\nREMOVED_SECRET,
       REMOVED_SECRET</table>\nREMOVED_SECRET,
       REMOVED_SECRET<p>873 rows × 4 columns</p>\nREMOVED_SECRET,
       REMOVED_SECRET</div>REMOVED_SECRET
      ],
      REMOVED_SECRETtext/plainREMOVED_SECRET: [
       REMOVED_SECRET                                                 title  \\\nREMOVED_SECRET,
       REMOVED_SECRET0                      zwilling pro 2pc prep knife set   \nREMOVED_SECRET,
       REMOVED_SECRET1         womens slim fit drape wrap tshirt  a new day   \nREMOVED_SECRET,
       REMOVED_SECRET2    mens teenage mutant ninja turtles group shot l...   \nREMOVED_SECRET,
       REMOVED_SECRET3               mens wwe triple h the game logo tshirt   \nREMOVED_SECRET,
       REMOVED_SECRET4    purina fancy feast grilled gravy delights feas...   \nREMOVED_SECRET,
       REMOVED_SECRET..                                                 ...   \nREMOVED_SECRET,
       REMOVED_SECRET868  multi collagen protein powder types i ii  ii b...   \nREMOVED_SECRET,
       REMOVED_SECRET869      hope  henry mens waffle knit pullover sweater   \nREMOVED_SECRET,
       REMOVED_SECRET870    noritake colortrio 16piece coupe dinnerware set   \nREMOVED_SECRET,
       REMOVED_SECRET871  hope  henry mens fine gauge vneck pullover swe...   \nREMOVED_SECRET,
       REMOVED_SECRET872  double strength larginine 1000 mg by now foods...   \nREMOVED_SECRET,
       REMOVED_SECRET\nREMOVED_SECRET,
       REMOVED_SECRET                                         title_italian  \\\nREMOVED_SECRET,
       REMOVED_SECRET0                   Zwilling pro 2pc set coltello prep   \nREMOVED_SECRET,
       REMOVED_SECRET1    donne slim fit drappeggio avvolgere tshirt un ...   \nREMOVED_SECRET,
       REMOVED_SECRET2    mens adolescente mutante ninja tartarughe grup...   \nREMOVED_SECRET,
       REMOVED_SECRET3               mens wwe triplo h il gioco logo tshirt   \nREMOVED_SECRET,
       REMOVED_SECRET4    purina fantasia festa grigliato sugo delizie f...   \nREMOVED_SECRET,
       REMOVED_SECRET..                                                 ...   \nREMOVED_SECRET,
       REMOVED_SECRET868  proteine multi collageno in polvere ii ii ii o...   \nREMOVED_SECRET,
       REMOVED_SECRET869  speranza henry uomo waffle maglia pullover mag...   \nREMOVED_SECRET,
       REMOVED_SECRET870   noritake colortio 16 pezzi coupé set per la cena   \nREMOVED_SECRET,
       REMOVED_SECRET871  speranza henry mens maglione pullover fine gau...   \nREMOVED_SECRET,
       REMOVED_SECRET872  larginina 1000 mg a doppia resistenza ormai al...   \nREMOVED_SECRET,
       REMOVED_SECRET\nREMOVED_SECRET,
       REMOVED_SECRET                                     english_embedding  \\\nREMOVED_SECRET,
       REMOVED_SECRET0    [-0.07585622, -0.006632321, -0.039237764, 0.04...   \nREMOVED_SECRET,
       REMOVED_SECRET1    [-0.023722176, -0.02756558, -0.07540757, 0.011...   \nREMOVED_SECRET,
       REMOVED_SECRET2    [-0.02781372, 0.004972987, -0.055929173, 0.013...   \nREMOVED_SECRET,
       REMOVED_SECRET3    [-0.037347108, -0.009183998, -0.082188, 0.0122...   \nREMOVED_SECRET,
       REMOVED_SECRET4    [-0.0551254, 0.024768988, -0.02036258, -0.0108...   \nREMOVED_SECRET,
       REMOVED_SECRET..                                                 ...   \nREMOVED_SECRET,
       REMOVED_SECRET868  [-0.007071648, 0.013024846, -0.026673753, -0.0...   \nREMOVED_SECRET,
       REMOVED_SECRET869  [-0.026264952, -0.008562797, -0.05641582, -0.0...   \nREMOVED_SECRET,
       REMOVED_SECRET870  [-0.0055267178, -0.03823672, -0.024558328, 0.0...   \nREMOVED_SECRET,
       REMOVED_SECRET871  [-0.03244666, -0.026627203, -0.07740165, 0.004...   \nREMOVED_SECRET,
       REMOVED_SECRET872  [-0.032500178, 0.013463285, -0.05747889, -0.04...   \nREMOVED_SECRET,
       REMOVED_SECRET\nREMOVED_SECRET,
       REMOVED_SECRET                                     italian_embedding  \nREMOVED_SECRET,
       REMOVED_SECRET0    [-0.058768444, 0.012960452, -0.029929288, 0.05...  \nREMOVED_SECRET,
       REMOVED_SECRET1    [-0.056372743, -0.038858823, -0.07786548, 0.00...  \nREMOVED_SECRET,
       REMOVED_SECRET2    [-0.004044311, 0.008419336, -0.05591273, 0.015...  \nREMOVED_SECRET,
       REMOVED_SECRET3    [-0.03912319, -0.015832098, -0.07382396, 0.008...  \nREMOVED_SECRET,
       REMOVED_SECRET4    [-0.0431343, 0.017949222, -0.023515861, -0.024...  \nREMOVED_SECRET,
       REMOVED_SECRET..                                                 ...  \nREMOVED_SECRET,
       REMOVED_SECRET868  [0.036605842, 0.03628495, -0.027457794, -0.008...  \nREMOVED_SECRET,
       REMOVED_SECRET869  [-0.0020557789, -0.0039152885, -0.04709097, -0...  \nREMOVED_SECRET,
       REMOVED_SECRET870  [0.0011833841, -0.014286156, -0.01681679, 0.03...  \nREMOVED_SECRET,
       REMOVED_SECRET871  [-0.017570777, -0.00990813, -0.071718924, 0.01...  \nREMOVED_SECRET,
       REMOVED_SECRET872  [-0.010276856, 0.006340458, -0.052428123, -0.0...  \nREMOVED_SECRET,
       REMOVED_SECRET\nREMOVED_SECRET,
       REMOVED_SECRET[873 rows x 4 columns]REMOVED_SECRET
      ]
     },
     REMOVED_SECRETexecution_countREMOVED_SECRET: 3,
     REMOVED_SECRETmetadataREMOVED_SECRET: {},
     REMOVED_SECREToutput_typeREMOVED_SECRET: REMOVED_SECRETexecute_resultREMOVED_SECRET
    }
   ],
   REMOVED_SECRETsourceREMOVED_SECRET: [
    REMOVED_SECRET#Read the Italy Embeddings\nREMOVED_SECRET,
    REMOVED_SECRETimport pandas as pd\nREMOVED_SECRET,
    REMOVED_SECRETitalian_embeddings = pd.read_pickle(\REMOVED_SECRETen_to_it_embeddings.pkl\REMOVED_SECRET)\nREMOVED_SECRET,
    REMOVED_SECRETitalian_embeddingsREMOVED_SECRET
   ]
  },
  {
   REMOVED_SECRETcell_typeREMOVED_SECRET: REMOVED_SECRETcodeREMOVED_SECRET,
   REMOVED_SECRETexecution_countREMOVED_SECRET: 4,
   REMOVED_SECRETmetadataREMOVED_SECRET: {},
   REMOVED_SECREToutputsREMOVED_SECRET: [],
   REMOVED_SECRETsourceREMOVED_SECRET: [
    REMOVED_SECRETfrom rank_bm25 import BM25Okapi\nREMOVED_SECRET,
    REMOVED_SECRET\nREMOVED_SECRET,
    REMOVED_SECRET#Extracting English and Italian product titles from the dataset\nREMOVED_SECRET,
    REMOVED_SECRETentoit_english_titles = italian_embeddings['title']\nREMOVED_SECRET,
    REMOVED_SECRETentoit_italian_titles = italian_embeddings['title_italian']\nREMOVED_SECRET,
    REMOVED_SECRET\nREMOVED_SECRET,
    REMOVED_SECRET#Tokenize the english and italian titles by splitting on whitespaces\nREMOVED_SECRET,
    REMOVED_SECRETentoit_tokenized_en = [title.split() for title in entoit_english_titles]\nREMOVED_SECRET,
    REMOVED_SECRETentoit_tokenized_it = [title.split() for title in entoit_italian_titles]\nREMOVED_SECRET,
    REMOVED_SECRET\nREMOVED_SECRET,
    REMOVED_SECRET#Create a BM25 index for each language titles\nREMOVED_SECRET,
    REMOVED_SECRETbm25_en = BM25Okapi(entoit_tokenized_en)\nREMOVED_SECRET,
    REMOVED_SECRETbm25_it = BM25Okapi(entoit_tokenized_it)\nREMOVED_SECRET
   ]
  },
  {
   REMOVED_SECRETcell_typeREMOVED_SECRET: REMOVED_SECRETcodeREMOVED_SECRET,
   REMOVED_SECRETexecution_countREMOVED_SECRET: 5,
   REMOVED_SECRETmetadataREMOVED_SECRET: {},
   REMOVED_SECREToutputsREMOVED_SECRET: [],
   REMOVED_SECRETsourceREMOVED_SECRET: [
    REMOVED_SECRET#This function is especially made for en and it, need to be redeclared for es and cn\nREMOVED_SECRET,
    REMOVED_SECRET#Even though the BM25 could be modularised by declaring the BM25 indexes in a dictionary, it has not be done so that each language can be shown visually\nREMOVED_SECRET,
    REMOVED_SECRET\nREMOVED_SECRET,
    REMOVED_SECRET\REMOVED_SECRET\REMOVED_SECRET\REMOVED_SECRET\REMOVED_SECRET \nREMOVED_SECRET,
    REMOVED_SECRETThis function performs a BM25-based search for a given query and language. \nREMOVED_SECRET,
    REMOVED_SECRET   Parameters:\nREMOVED_SECRET,
    REMOVED_SECRET        query (str): The input search string.\nREMOVED_SECRET,
    REMOVED_SECRET        lang (str): The language of the search corpus ('en' or 'it').\nREMOVED_SECRET,
    REMOVED_SECRET        top_k (int): The number of top matching results to return. Default is 5.\nREMOVED_SECRET,
    REMOVED_SECRET\nREMOVED_SECRET,
    REMOVED_SECRET    Returns:\nREMOVED_SECRET,
    REMOVED_SECRET        top_k_ids (List[int]): Indices of the top_k most relevant documents.\nREMOVED_SECRET,
    REMOVED_SECRET        top_k_scores (List[float]): Corresponding BM25 relevance scores.\nREMOVED_SECRET,
    REMOVED_SECRET\nREMOVED_SECRET,
    REMOVED_SECRET\nREMOVED_SECRET,
    REMOVED_SECRET\REMOVED_SECRET\REMOVED_SECRET\REMOVED_SECRET\nREMOVED_SECRET,
    REMOVED_SECRET\nREMOVED_SECRET,
    REMOVED_SECRET\nREMOVED_SECRET,
    REMOVED_SECRETdef search(query, lang='en', top_k=5):\nREMOVED_SECRET,
    REMOVED_SECRET    tokens = query.lower().split() #Tokenize and lowercase the query\nREMOVED_SECRET,
    REMOVED_SECRET\nREMOVED_SECRET,
    REMOVED_SECRET    #Compute BM25 relevance scores using the appropriate model\nREMOVED_SECRET,
    REMOVED_SECRET    if lang == 'en':\nREMOVED_SECRET,
    REMOVED_SECRET        scores = bm25_en.get_scores(tokens)\nREMOVED_SECRET,
    REMOVED_SECRET    else:\nREMOVED_SECRET,
    REMOVED_SECRET        scores = bm25_it.get_scores(tokens)\nREMOVED_SECRET,
    REMOVED_SECRET    \nREMOVED_SECRET,
    REMOVED_SECRET    #Rank results by score and get indices of top_k matches\nREMOVED_SECRET,
    REMOVED_SECRET    top_k_ids = sorted(range(len(scores)), key=lambda i: scores[i], reverse=True)[:top_k]\nREMOVED_SECRET,
    REMOVED_SECRET\nREMOVED_SECRET,
    REMOVED_SECRET    # Return both the document indices and their scores\nREMOVED_SECRET,
    REMOVED_SECRET    return top_k_ids, [scores[i] for i in top_k_ids]REMOVED_SECRET
   ]
  },
  {
   REMOVED_SECRETcell_typeREMOVED_SECRET: REMOVED_SECRETcodeREMOVED_SECRET,
   REMOVED_SECRETexecution_countREMOVED_SECRET: 6,
   REMOVED_SECRETmetadataREMOVED_SECRET: {},
   REMOVED_SECREToutputsREMOVED_SECRET: [],
   REMOVED_SECRETsourceREMOVED_SECRET: [
    REMOVED_SECRETfrom langdetect import detect\nREMOVED_SECRET,
    REMOVED_SECRET#This function is similar to the previous code, but it has the autodetection of english or italian queries using the langdetect library\nREMOVED_SECRET,
    REMOVED_SECRETdef search_bm25(query, top_k=5):\nREMOVED_SECRET,
    REMOVED_SECRET    lang = detect(query)  # auto-detect 'en', 'it', etc.\nREMOVED_SECRET,
    REMOVED_SECRET    tokens = query.lower().split()  # simple tokenization\nREMOVED_SECRET,
    REMOVED_SECRET\nREMOVED_SECRET,
    REMOVED_SECRET    if lang == 'it':\nREMOVED_SECRET,
    REMOVED_SECRET        scores = bm25_it.get_scores(tokens)\nREMOVED_SECRET,
    REMOVED_SECRET    else:\nREMOVED_SECRET,
    REMOVED_SECRET        scores = bm25_en.get_scores(tokens)\nREMOVED_SECRET,
    REMOVED_SECRET\nREMOVED_SECRET,
    REMOVED_SECRET    # Get top-k ranked indices\nREMOVED_SECRET,
    REMOVED_SECRET    top_k_ids = sorted(range(len(scores)), key=lambda i: scores[i], reverse=True)[:top_k]\nREMOVED_SECRET,
    REMOVED_SECRET    return top_k_ids, [scores[i] for i in top_k_ids]\nREMOVED_SECRET
   ]
  },
  {
   REMOVED_SECRETcell_typeREMOVED_SECRET: REMOVED_SECRETcodeREMOVED_SECRET,
   REMOVED_SECRETexecution_countREMOVED_SECRET: 7,
   REMOVED_SECRETmetadataREMOVED_SECRET: {},
   REMOVED_SECREToutputsREMOVED_SECRET: [
    {
     REMOVED_SECRETnameREMOVED_SECRET: REMOVED_SECRETstdoutREMOVED_SECRET,
     REMOVED_SECREToutput_typeREMOVED_SECRET: REMOVED_SECRETstreamREMOVED_SECRET,
     REMOVED_SECRETtextREMOVED_SECRET: [
      REMOVED_SECRET7.1469 | lands end womens anyweather fleece adjustable earmuffs\nREMOVED_SECRET,
      REMOVED_SECRET4.9215 | girls39 fleece footless tights  cat 38 jack8482\nREMOVED_SECRET,
      REMOVED_SECRET4.6791 | womens short sleeve vneck seamless tshirt  wild fable\nREMOVED_SECRET,
      REMOVED_SECRET4.6791 | womens seamless short sleeve shirt  all in motion\nREMOVED_SECRET,
      REMOVED_SECRET4.4594 | lands end womens no iron supima cotton long sleeve shirt\nREMOVED_SECRET
     ]
    }
   ],
   REMOVED_SECRETsourceREMOVED_SECRET: [
    REMOVED_SECRET#Performs a BM25 search for the italian query \nREMOVED_SECRET,
    REMOVED_SECRETresults, scores = search_bm25(\REMOVED_SECRETcuffie senza fili\REMOVED_SECRET)\nREMOVED_SECRET,
    REMOVED_SECRET\nREMOVED_SECRET,
    REMOVED_SECRET# Loop through the top results and print each score with its corresponding English product title\nREMOVED_SECRET,
    REMOVED_SECRETfor i, score in zip(results, scores):\nREMOVED_SECRET,
    REMOVED_SECRET    print(f\REMOVED_SECRET{score:.4f} | {italian_embeddings['title'][i]}\REMOVED_SECRET)\nREMOVED_SECRET
   ]
  },
  {
   REMOVED_SECRETcell_typeREMOVED_SECRET: REMOVED_SECRETcodeREMOVED_SECRET,
   REMOVED_SECRETexecution_countREMOVED_SECRET: 8,
   REMOVED_SECRETmetadataREMOVED_SECRET: {},
   REMOVED_SECREToutputsREMOVED_SECRET: [],
   REMOVED_SECRETsourceREMOVED_SECRET: [
    REMOVED_SECRET#Loading PineCone vectordatabase library\nREMOVED_SECRET,
    REMOVED_SECRET\nREMOVED_SECRET,
    REMOVED_SECRETfrom pinecone import Pinecone, ServerlessSpec\nREMOVED_SECRET,
    REMOVED_SECRET\nREMOVED_SECRET,
    REMOVED_SECRET#This is Charran's API\nREMOVED_SECRET,
    REMOVED_SECRETpc = Pinecone(api_key=CHARRAN_API)\nREMOVED_SECRET
   ]
  },
  {
   REMOVED_SECRETcell_typeREMOVED_SECRET: REMOVED_SECRETcodeREMOVED_SECRET,
   REMOVED_SECRETexecution_countREMOVED_SECRET: 9,
   REMOVED_SECRETmetadataREMOVED_SECRET: {},
   REMOVED_SECREToutputsREMOVED_SECRET: [],
   REMOVED_SECRETsourceREMOVED_SECRET: [
    REMOVED_SECRET#Initialising Pinecone index\nREMOVED_SECRET,
    REMOVED_SECRET#This is the Index for the English to Italian vector database\nREMOVED_SECRET,
    REMOVED_SECRETindex = pc.Index('product-title-embeddings')\nREMOVED_SECRET
   ]
  },
  {
   REMOVED_SECRETcell_typeREMOVED_SECRET: REMOVED_SECRETcodeREMOVED_SECRET,
   REMOVED_SECRETexecution_countREMOVED_SECRET: 10,
   REMOVED_SECRETmetadataREMOVED_SECRET: {},
   REMOVED_SECREToutputsREMOVED_SECRET: [],
   REMOVED_SECRETsourceREMOVED_SECRET: [
    REMOVED_SECRET# Helper function to batch upsert\nREMOVED_SECRET,
    REMOVED_SECRETdef batch_upsert(index, vectors, batch_size=50):\nREMOVED_SECRET,
    REMOVED_SECRET    \REMOVED_SECRET\REMOVED_SECRET\REMOVED_SECRET\nREMOVED_SECRET,
    REMOVED_SECRET    Helper function to upsert (insert or update) vectors into a vector index in batches.\nREMOVED_SECRET,
    REMOVED_SECRET\nREMOVED_SECRET,
    REMOVED_SECRET    Parameters:\nREMOVED_SECRET,
    REMOVED_SECRET        index: The vector index (e.g., Pinecone index or FAISS wrapper) supporting the `upsert` method.\nREMOVED_SECRET,
    REMOVED_SECRET        vectors (list): A list of vector records, typically in the format expected by the index (e.g., [{\REMOVED_SECRETid\REMOVED_SECRET: ..., \REMOVED_SECRETvalues\REMOVED_SECRET: [...]}]).\nREMOVED_SECRET,
    REMOVED_SECRET        batch_size (int): Number of vectors to upsert in each batch. Default is 50.\nREMOVED_SECRET,
    REMOVED_SECRET\nREMOVED_SECRET,
    REMOVED_SECRET    Returns:\nREMOVED_SECRET,
    REMOVED_SECRET        None\nREMOVED_SECRET,
    REMOVED_SECRET    \REMOVED_SECRET\REMOVED_SECRET\REMOVED_SECRET\nREMOVED_SECRET,
    REMOVED_SECRET    for i in range(0, len(vectors), batch_size):\nREMOVED_SECRET,
    REMOVED_SECRET        batch = vectors[i:i+batch_size] #Slicing the current  batch\nREMOVED_SECRET,
    REMOVED_SECRET        index.upsert(vectors=batch) #Upsert the batch into index\nREMOVED_SECRET
   ]
  },
  {
   REMOVED_SECRETcell_typeREMOVED_SECRET: REMOVED_SECRETcodeREMOVED_SECRET,
   REMOVED_SECRETexecution_countREMOVED_SECRET: 11,
   REMOVED_SECRETmetadataREMOVED_SECRET: {},
   REMOVED_SECREToutputsREMOVED_SECRET: [],
   REMOVED_SECRETsourceREMOVED_SECRET: [
    REMOVED_SECRET# Generate unique IDs for English embeddings in the format: en-0, en-1, ..., en-N\nREMOVED_SECRET,
    REMOVED_SECRETen_ids = [f\REMOVED_SECRETen-{i}\REMOVED_SECRET for i in range(len(italian_embeddings['english_embedding']))]\nREMOVED_SECRET,
    REMOVED_SECRET\nREMOVED_SECRET,
    REMOVED_SECRET# Generate unique IDs for Italian embeddings in the format: it-0, it-1, ..., it-N\nREMOVED_SECRET,
    REMOVED_SECRETit_ids = [f\REMOVED_SECRETit-{i}\REMOVED_SECRET for i in range(len(italian_embeddings['italian_embedding']))]\nREMOVED_SECRET
   ]
  },
  {
   REMOVED_SECRETcell_typeREMOVED_SECRET: REMOVED_SECRETcodeREMOVED_SECRET,
   REMOVED_SECRETexecution_countREMOVED_SECRET: 12,
   REMOVED_SECRETmetadataREMOVED_SECRET: {},
   REMOVED_SECREToutputsREMOVED_SECRET: [],
   REMOVED_SECRETsourceREMOVED_SECRET: [
    REMOVED_SECRET# Combine English + Italian vectors with unique IDs\nREMOVED_SECRET,
    REMOVED_SECRET# Each tuple is in the form (id, embedding)\nREMOVED_SECRET,
    REMOVED_SECRETcombined_vectors = (\nREMOVED_SECRET,
    REMOVED_SECRET    list(zip(en_ids, italian_embeddings['english_embedding'])) +\nREMOVED_SECRET,
    REMOVED_SECRET    list(zip(it_ids, italian_embeddings['italian_embedding']))\nREMOVED_SECRET,
    REMOVED_SECRET)\nREMOVED_SECRET,
    REMOVED_SECRET\nREMOVED_SECRET,
    REMOVED_SECRET#Convert each tuple to the expected format for upsert\nREMOVED_SECRET,
    REMOVED_SECRET# Required format: {\REMOVED_SECRETid\REMOVED_SECRET: str, \REMOVED_SECRETvalues\REMOVED_SECRET: List[float]}\nREMOVED_SECRET,
    REMOVED_SECRETto_upsert = [{\REMOVED_SECRETid\REMOVED_SECRET: id, \REMOVED_SECRETvalues\REMOVED_SECRET: vector} for id, vector in combined_vectors]\nREMOVED_SECRET,
    REMOVED_SECRET\nREMOVED_SECRET,
    REMOVED_SECRET# Step 3: Upsert to index in batches\nREMOVED_SECRET,
    REMOVED_SECRETbatch_upsert(index, to_upsert, batch_size=50)REMOVED_SECRET
   ]
  },
  {
   REMOVED_SECRETcell_typeREMOVED_SECRET: REMOVED_SECRETcodeREMOVED_SECRET,
   REMOVED_SECRETexecution_countREMOVED_SECRET: 13,
   REMOVED_SECRETmetadataREMOVED_SECRET: {},
   REMOVED_SECREToutputsREMOVED_SECRET: [],
   REMOVED_SECRETsourceREMOVED_SECRET: [
    REMOVED_SECRET# Combine English + Italian vectors with unique IDs\nREMOVED_SECRET,
    REMOVED_SECRET# Each tuple is in the form (id, embedding)\nREMOVED_SECRET,
    REMOVED_SECRETto_upsert = list(zip(en_ids, italian_embeddings['english_embedding'])) + \\\nREMOVED_SECRET,
    REMOVED_SECRET            list(zip(it_ids, italian_embeddings['italian_embedding']))\nREMOVED_SECRET,
    REMOVED_SECRET\nREMOVED_SECRET,
    REMOVED_SECRET# Run batch upload\nREMOVED_SECRET,
    REMOVED_SECRETbatch_upsert(index, to_upsert, batch_size=50)\nREMOVED_SECRET,
    REMOVED_SECRET\nREMOVED_SECRET,
    REMOVED_SECRET\nREMOVED_SECRET,
    REMOVED_SECRET#With this code, the vectorDB has been established for en to it.   REMOVED_SECRET
   ]
  },
  {
   REMOVED_SECRETcell_typeREMOVED_SECRET: REMOVED_SECRETmarkdownREMOVED_SECRET,
   REMOVED_SECRETmetadataREMOVED_SECRET: {},
   REMOVED_SECRETsourceREMOVED_SECRET: [
    REMOVED_SECRETAt this point, the vectorDB has been established for english and italian vectors.REMOVED_SECRET
   ]
  },
  {
   REMOVED_SECRETcell_typeREMOVED_SECRET: REMOVED_SECRETmarkdownREMOVED_SECRET,
   REMOVED_SECRETmetadataREMOVED_SECRET: {},
   REMOVED_SECRETsourceREMOVED_SECRET: [
    REMOVED_SECRETSince BM25 is working, the next step is to proceed building a hybrid retrieval of BM25 + BGE-M3 search engine\nREMOVED_SECRET,
    REMOVED_SECRETfor the product titlesREMOVED_SECRET
   ]
  },
  {
   REMOVED_SECRETcell_typeREMOVED_SECRET: REMOVED_SECRETcodeREMOVED_SECRET,
   REMOVED_SECRETexecution_countREMOVED_SECRET: 14,
   REMOVED_SECRETmetadataREMOVED_SECRET: {},
   REMOVED_SECREToutputsREMOVED_SECRET: [],
   REMOVED_SECRETsourceREMOVED_SECRET: [
    REMOVED_SECRETfrom sentence_transformers import SentenceTransformer\nREMOVED_SECRET,
    REMOVED_SECRET\nREMOVED_SECRET,
    REMOVED_SECRETmodel = SentenceTransformer(\REMOVED_SECRETBAAI/bge-m3\REMOVED_SECRET)REMOVED_SECRET
   ]
  },
  {
   REMOVED_SECRETcell_typeREMOVED_SECRET: REMOVED_SECRETcodeREMOVED_SECRET,
   REMOVED_SECRETexecution_countREMOVED_SECRET: 15,
   REMOVED_SECRETmetadataREMOVED_SECRET: {},
   REMOVED_SECREToutputsREMOVED_SECRET: [],
   REMOVED_SECRETsourceREMOVED_SECRET: [
    REMOVED_SECRETimport numpy as np\nREMOVED_SECRET,
    REMOVED_SECRET\nREMOVED_SECRET,
    REMOVED_SECRETdef scores_to_ranking(scores: list[float]) -> list[int]:\nREMOVED_SECRET,
    REMOVED_SECRET    \REMOVED_SECRET\REMOVED_SECRET\REMOVED_SECRET\nREMOVED_SECRET,
    REMOVED_SECRET    Converts a list of float scores into integer rankings.\nREMOVED_SECRET,
    REMOVED_SECRET\nREMOVED_SECRET,
    REMOVED_SECRET    Higher scores get better (lower) ranks — e.g., the highest score gets rank 1.\nREMOVED_SECRET,
    REMOVED_SECRET\nREMOVED_SECRET,
    REMOVED_SECRET    Args:\nREMOVED_SECRET,
    REMOVED_SECRET        scores (list[float]): List of similarity or relevance scores.\nREMOVED_SECRET,
    REMOVED_SECRET\nREMOVED_SECRET,
    REMOVED_SECRET    Returns:\nREMOVED_SECRET,
    REMOVED_SECRET        list[int]: List of ranks where 1 is the highest rank.\nREMOVED_SECRET,
    REMOVED_SECRET    \REMOVED_SECRET\REMOVED_SECRET\REMOVED_SECRET\nREMOVED_SECRET,
    REMOVED_SECRET    # argsort returns indices that would sort the array — we reverse to get descending order\nREMOVED_SECRET,
    REMOVED_SECRET    return list(np.argsort(scores)[::-1] + 1)  # Ranks start at 1\nREMOVED_SECRET
   ]
  },
  {
   REMOVED_SECRETcell_typeREMOVED_SECRET: REMOVED_SECRETcodeREMOVED_SECRET,
   REMOVED_SECRETexecution_countREMOVED_SECRET: 16,
   REMOVED_SECRETmetadataREMOVED_SECRET: {},
   REMOVED_SECREToutputsREMOVED_SECRET: [],
   REMOVED_SECRETsourceREMOVED_SECRET: [
    REMOVED_SECRETdef rrf(keyword_rank: int, semantic_rank: int, k: int = 60) -> float:\nREMOVED_SECRET,
    REMOVED_SECRET    \REMOVED_SECRET\REMOVED_SECRET\REMOVED_SECRET\nREMOVED_SECRET,
    REMOVED_SECRET    Computes a Reciprocal Rank Fusion (RRF) score from keyword and semantic ranks.\nREMOVED_SECRET,
    REMOVED_SECRET\nREMOVED_SECRET,
    REMOVED_SECRET    RRF helps combine multiple ranking signals (e.g., BM25 + embeddings) into a single score\nREMOVED_SECRET,
    REMOVED_SECRET    that rewards high rank in either list.\nREMOVED_SECRET,
    REMOVED_SECRET\nREMOVED_SECRET,
    REMOVED_SECRET    Args:\nREMOVED_SECRET,
    REMOVED_SECRET        keyword_rank (int): Rank from keyword-based retrieval (e.g., BM25).\nREMOVED_SECRET,
    REMOVED_SECRET        semantic_rank (int): Rank from semantic search (e.g., BGE/LaBSE embeddings).\nREMOVED_SECRET,
    REMOVED_SECRET        k (int, optional): Smoothing constant to dampen large ranks. Default is 60.\nREMOVED_SECRET,
    REMOVED_SECRET\nREMOVED_SECRET,
    REMOVED_SECRET    Returns:\nREMOVED_SECRET,
    REMOVED_SECRET        float: The combined RRF score (higher is better).\nREMOVED_SECRET,
    REMOVED_SECRET    \REMOVED_SECRET\REMOVED_SECRET\REMOVED_SECRET\nREMOVED_SECRET,
    REMOVED_SECRET    return 1 / (k + keyword_rank) + 1 / (k + semantic_rank)\nREMOVED_SECRET
   ]
  },
  {
   REMOVED_SECRETcell_typeREMOVED_SECRET: REMOVED_SECRETmarkdownREMOVED_SECRET,
   REMOVED_SECRETmetadataREMOVED_SECRET: {},
   REMOVED_SECRETsourceREMOVED_SECRET: [
    REMOVED_SECRETBM25 + BGE ItalianREMOVED_SECRET
   ]
  },
  {
   REMOVED_SECRETcell_typeREMOVED_SECRET: REMOVED_SECRETcodeREMOVED_SECRET,
   REMOVED_SECRETexecution_countREMOVED_SECRET: 17,
   REMOVED_SECRETmetadataREMOVED_SECRET: {},
   REMOVED_SECREToutputsREMOVED_SECRET: [],
   REMOVED_SECRETsourceREMOVED_SECRET: [
    REMOVED_SECRETdef hybrid_search_rrf(query, top_k=5):\nREMOVED_SECRET,
    REMOVED_SECRET\nREMOVED_SECRET,
    REMOVED_SECRET    #To detect the language from the query\nREMOVED_SECRET,
    REMOVED_SECRET    from langdetect import detect\nREMOVED_SECRET,
    REMOVED_SECRET\nREMOVED_SECRET,
    REMOVED_SECRET    lang = detect(query)\nREMOVED_SECRET,
    REMOVED_SECRET    #tokenising the query to be suitable for BM25\nREMOVED_SECRET,
    REMOVED_SECRET    tokens = query.lower().split()\nREMOVED_SECRET,
    REMOVED_SECRET\nREMOVED_SECRET,
    REMOVED_SECRET    # --- BM25 Retrieval ---(Routes the tokenized query to the appropiate BM25 engine)\nREMOVED_SECRET,
    REMOVED_SECRET    if lang == 'it':\nREMOVED_SECRET,
    REMOVED_SECRET        bm25_scores = bm25_it.get_scores(tokens)\nREMOVED_SECRET,
    REMOVED_SECRET    else:\nREMOVED_SECRET,
    REMOVED_SECRET        bm25_scores = bm25_en.get_scores(tokens) #returns a list of scores, one for each document in the dataset\nREMOVED_SECRET,
    REMOVED_SECRET\nREMOVED_SECRET,
    REMOVED_SECRET    bm25_ranks = scores_to_ranking(bm25_scores)  #Converts the float BM25 scores to rankings for Reciprocal rank fusion(rrf)\nREMOVED_SECRET,
    REMOVED_SECRET\nREMOVED_SECRET,
    REMOVED_SECRET    # --- Semantic Retrieval (Pinecone) ---\nREMOVED_SECRET,
    REMOVED_SECRET    query_vec = model.encode(query).tolist() #generate the query's embedding and convert it a list\nREMOVED_SECRET,
    REMOVED_SECRET    pinecone_results = index.query(vector=query_vec, top_k=top_k, include_metadata=False) #Submits the query vector to Pinecone to retrieve top-k similar vectors, based on cosine similarity\nREMOVED_SECRET,
    REMOVED_SECRET\nREMOVED_SECRET,
    REMOVED_SECRET    pinecone_ids = [int(match['id'].split('-')[1]) for match in pinecone_results['matches']] #extracts og row index from pinecone's ID\nREMOVED_SECRET,
    REMOVED_SECRET    pinecone_scores = [match['score'] for match in pinecone_results['matches']] #Obtain cosine similarity scores from pinecone\nREMOVED_SECRET,
    REMOVED_SECRET    semantic_ranks = scores_to_ranking(pinecone_scores) #Converting pinecone scores to ranks (lower rank = better match)\nREMOVED_SECRET,
    REMOVED_SECRET\nREMOVED_SECRET,
    REMOVED_SECRET    # --- Combine using RRF ---\nREMOVED_SECRET,
    REMOVED_SECRET    combined_scores = {} #placeholder to store RRF combined scores for each shortlisted document\nREMOVED_SECRET,
    REMOVED_SECRET    for idx in pinecone_ids:\nREMOVED_SECRET,
    REMOVED_SECRET        #For each doc idx returned by pinecone\nREMOVED_SECRET,
    REMOVED_SECRET        # Retrieve the BM25 rank and semantic rank, and using rrf function defined on prev cell to combine them into one score\nREMOVED_SECRET,
    REMOVED_SECRET        rrf_score = rrf(\nREMOVED_SECRET,
    REMOVED_SECRET            keyword_rank=bm25_ranks[idx],\nREMOVED_SECRET,
    REMOVED_SECRET            semantic_rank=semantic_ranks[pinecone_ids.index(idx)]\nREMOVED_SECRET,
    REMOVED_SECRET        )\nREMOVED_SECRET,
    REMOVED_SECRET        combined_scores[idx] = rrf_score\nREMOVED_SECRET,
    REMOVED_SECRET\nREMOVED_SECRET,
    REMOVED_SECRET    # Sort by RRF score\nREMOVED_SECRET,
    REMOVED_SECRET    ranked = sorted(combined_scores.items(), key=lambda x: x[1], reverse=True)  #Sorting the docs by their RRF score, with the highest first.\nREMOVED_SECRET,
    REMOVED_SECRET\nREMOVED_SECRET,
    REMOVED_SECRET    return ranked[:top_k]  # list of (doc_id, final_score)\nREMOVED_SECRET
   ]
  },
  {
   REMOVED_SECRETcell_typeREMOVED_SECRET: REMOVED_SECRETcodeREMOVED_SECRET,
   REMOVED_SECRETexecution_countREMOVED_SECRET: 18,
   REMOVED_SECRETmetadataREMOVED_SECRET: {},
   REMOVED_SECREToutputsREMOVED_SECRET: [
    {
     REMOVED_SECRETdataREMOVED_SECRET: {
      REMOVED_SECRETtext/plainREMOVED_SECRET: [
       REMOVED_SECRET'def hybrid_search_rrf(query, top_k=5):\\n\\n    # To detect the language from the query\\n    from langdetect import detect\\n    lang = detect(query)\\n\\n    # Tokenising the query to be suitable for BM25\\n    tokens = query.lower().split()\\n\\n    # --- BM25 Retrieval --- (Routes the tokenized query to the appropriate BM25 engine)\\n    if lang == \\'it\\':\\n        bm25_scores = bm25_it.get_scores(tokens)  # returns a list of scores, one for each document in the dataset\\n    else:\\n        bm25_scores = bm25_en.get_scores(tokens)\\n\\n    bm25_ranks = scores_to_ranking(bm25_scores)  # Converts the float BM25 scores to rankings for RRF (lower rank = better)\\n\\n    # Create a mapping from document index to BM25 rank for fast lookup\\n    bm25_rank_map = {i: rank for i, rank in enumerate(bm25_ranks)}\\n\\n    # --- Semantic Retrieval (Pinecone) ---\\n    query_vec = model.encode(query).tolist()  # Generate the query\\'s embedding and convert it to a list\\n\\n    # Submits the query vector to Pinecone to retrieve top-k similar vectors, based on cosine similarity\\n    pinecone_results = index.query(vector=query_vec, top_k=top_k * 2, include_metadata=False)\\n\\n    # Extracts original row index from Pinecone\\'s vector ID (e.g., \REMOVED_SECRETen-123\REMOVED_SECRET → 123)\\n    pinecone_ids = [int(match[\\'id\\'].split(\\'-\\')[1]) for match in pinecone_results[\\'matches\\']]\\n\\n    # Obtain cosine similarity scores from Pinecone\\n    pinecone_scores = [match[\\'score\\'] for match in pinecone_results[\\'matches\\']]\\n\\n    # Converting Pinecone scores to ranks (lower rank = better match)\\n    semantic_ranks = scores_to_ranking(pinecone_scores)\\n\\n    # Create a mapping from document index to semantic rank for fast lookup\\n    semantic_rank_map = {idx: rank for idx, rank in zip(pinecone_ids, semantic_ranks)}\\n\\n    # --- Combine using RRF ---\\n    combined_scores = {}  # Placeholder to store RRF combined scores for each shortlisted document\\n\\n    # For each doc idx returned by Pinecone\\n    # Retrieve the BM25 rank and semantic rank, and use rrf() to combine them into a hybrid score\\n    for idx in pinecone_ids:\\n        rrf_score = rrf(\\n            keyword_rank=bm25_rank_map.get(idx, top_k + 1),            # Fallback rank if not found in BM25\\n            semantic_rank=semantic_rank_map.get(idx, top_k + 1)        # Fallback rank if not found in semantic\\n        )\\n        combined_scores[idx] = rrf_score  # Store the fused score\\n\\n    # Sort the docs by their RRF score, with the highest first\\n    ranked = sorted(combined_scores.items(), key=lambda x: x[1], reverse=True)\\n\\n    return ranked[:top_k]  # Return top-k results as a list of (doc_id, final_score)'REMOVED_SECRET
      ]
     },
     REMOVED_SECRETexecution_countREMOVED_SECRET: 18,
     REMOVED_SECRETmetadataREMOVED_SECRET: {},
     REMOVED_SECREToutput_typeREMOVED_SECRET: REMOVED_SECRETexecute_resultREMOVED_SECRET
    }
   ],
   REMOVED_SECRETsourceREMOVED_SECRET: [
    REMOVED_SECRET#Improved code\nREMOVED_SECRET,
    REMOVED_SECRET\nREMOVED_SECRET,
    REMOVED_SECRET\REMOVED_SECRET\REMOVED_SECRET\REMOVED_SECRETdef hybrid_search_rrf(query, top_k=5):\nREMOVED_SECRET,
    REMOVED_SECRET\nREMOVED_SECRET,
    REMOVED_SECRET    # To detect the language from the query\nREMOVED_SECRET,
    REMOVED_SECRET    from langdetect import detect\nREMOVED_SECRET,
    REMOVED_SECRET    lang = detect(query)\nREMOVED_SECRET,
    REMOVED_SECRET\nREMOVED_SECRET,
    REMOVED_SECRET    # Tokenising the query to be suitable for BM25\nREMOVED_SECRET,
    REMOVED_SECRET    tokens = query.lower().split()\nREMOVED_SECRET,
    REMOVED_SECRET\nREMOVED_SECRET,
    REMOVED_SECRET    # --- BM25 Retrieval --- (Routes the tokenized query to the appropriate BM25 engine)\nREMOVED_SECRET,
    REMOVED_SECRET    if lang == 'it':\nREMOVED_SECRET,
    REMOVED_SECRET        bm25_scores = bm25_it.get_scores(tokens)  # returns a list of scores, one for each document in the dataset\nREMOVED_SECRET,
    REMOVED_SECRET    else:\nREMOVED_SECRET,
    REMOVED_SECRET        bm25_scores = bm25_en.get_scores(tokens)\nREMOVED_SECRET,
    REMOVED_SECRET\nREMOVED_SECRET,
    REMOVED_SECRET    bm25_ranks = scores_to_ranking(bm25_scores)  # Converts the float BM25 scores to rankings for RRF (lower rank = better)\nREMOVED_SECRET,
    REMOVED_SECRET\nREMOVED_SECRET,
    REMOVED_SECRET    # Create a mapping from document index to BM25 rank for fast lookup\nREMOVED_SECRET,
    REMOVED_SECRET    bm25_rank_map = {i: rank for i, rank in enumerate(bm25_ranks)}\nREMOVED_SECRET,
    REMOVED_SECRET\nREMOVED_SECRET,
    REMOVED_SECRET    # --- Semantic Retrieval (Pinecone) ---\nREMOVED_SECRET,
    REMOVED_SECRET    query_vec = model.encode(query).tolist()  # Generate the query's embedding and convert it to a list\nREMOVED_SECRET,
    REMOVED_SECRET\nREMOVED_SECRET,
    REMOVED_SECRET    # Submits the query vector to Pinecone to retrieve top-k similar vectors, based on cosine similarity\nREMOVED_SECRET,
    REMOVED_SECRET    pinecone_results = index.query(vector=query_vec, top_k=top_k * 2, include_metadata=False)\nREMOVED_SECRET,
    REMOVED_SECRET\nREMOVED_SECRET,
    REMOVED_SECRET    # Extracts original row index from Pinecone's vector ID (e.g., \REMOVED_SECRETen-123\REMOVED_SECRET → 123)\nREMOVED_SECRET,
    REMOVED_SECRET    pinecone_ids = [int(match['id'].split('-')[1]) for match in pinecone_results['matches']]\nREMOVED_SECRET,
    REMOVED_SECRET\nREMOVED_SECRET,
    REMOVED_SECRET    # Obtain cosine similarity scores from Pinecone\nREMOVED_SECRET,
    REMOVED_SECRET    pinecone_scores = [match['score'] for match in pinecone_results['matches']]\nREMOVED_SECRET,
    REMOVED_SECRET\nREMOVED_SECRET,
    REMOVED_SECRET    # Converting Pinecone scores to ranks (lower rank = better match)\nREMOVED_SECRET,
    REMOVED_SECRET    semantic_ranks = scores_to_ranking(pinecone_scores)\nREMOVED_SECRET,
    REMOVED_SECRET\nREMOVED_SECRET,
    REMOVED_SECRET    # Create a mapping from document index to semantic rank for fast lookup\nREMOVED_SECRET,
    REMOVED_SECRET    semantic_rank_map = {idx: rank for idx, rank in zip(pinecone_ids, semantic_ranks)}\nREMOVED_SECRET,
    REMOVED_SECRET\nREMOVED_SECRET,
    REMOVED_SECRET    # --- Combine using RRF ---\nREMOVED_SECRET,
    REMOVED_SECRET    combined_scores = {}  # Placeholder to store RRF combined scores for each shortlisted document\nREMOVED_SECRET,
    REMOVED_SECRET\nREMOVED_SECRET,
    REMOVED_SECRET    # For each doc idx returned by Pinecone\nREMOVED_SECRET,
    REMOVED_SECRET    # Retrieve the BM25 rank and semantic rank, and use rrf() to combine them into a hybrid score\nREMOVED_SECRET,
    REMOVED_SECRET    for idx in pinecone_ids:\nREMOVED_SECRET,
    REMOVED_SECRET        rrf_score = rrf(\nREMOVED_SECRET,
    REMOVED_SECRET            keyword_rank=bm25_rank_map.get(idx, top_k + 1),            # Fallback rank if not found in BM25\nREMOVED_SECRET,
    REMOVED_SECRET            semantic_rank=semantic_rank_map.get(idx, top_k + 1)        # Fallback rank if not found in semantic\nREMOVED_SECRET,
    REMOVED_SECRET        )\nREMOVED_SECRET,
    REMOVED_SECRET        combined_scores[idx] = rrf_score  # Store the fused score\nREMOVED_SECRET,
    REMOVED_SECRET\nREMOVED_SECRET,
    REMOVED_SECRET    # Sort the docs by their RRF score, with the highest first\nREMOVED_SECRET,
    REMOVED_SECRET    ranked = sorted(combined_scores.items(), key=lambda x: x[1], reverse=True)\nREMOVED_SECRET,
    REMOVED_SECRET\nREMOVED_SECRET,
    REMOVED_SECRET    return ranked[:top_k]  # Return top-k results as a list of (doc_id, final_score)\REMOVED_SECRET\REMOVED_SECRET\REMOVED_SECRET\nREMOVED_SECRET
   ]
  },
  {
   REMOVED_SECRETcell_typeREMOVED_SECRET: REMOVED_SECRETcodeREMOVED_SECRET,
   REMOVED_SECRETexecution_countREMOVED_SECRET: 19,
   REMOVED_SECRETmetadataREMOVED_SECRET: {},
   REMOVED_SECREToutputsREMOVED_SECRET: [
    {
     REMOVED_SECRETdataREMOVED_SECRET: {
      REMOVED_SECRETtext/plainREMOVED_SECRET: [
       REMOVED_SECRET[(968, 0.02964426877470356),\nREMOVED_SECRET,
       REMOVED_SECRET (237, 0.018844423015107685),\nREMOVED_SECRET,
       REMOVED_SECRET (219, 0.01807278742762614),\nREMOVED_SECRET,
       REMOVED_SECRET (771, 0.017395085888236572),\nREMOVED_SECRET,
       REMOVED_SECRET (698, 0.017346170395869193)]REMOVED_SECRET
      ]
     },
     REMOVED_SECRETexecution_countREMOVED_SECRET: 19,
     REMOVED_SECRETmetadataREMOVED_SECRET: {},
     REMOVED_SECREToutput_typeREMOVED_SECRET: REMOVED_SECRETexecute_resultREMOVED_SECRET
    }
   ],
   REMOVED_SECRETsourceREMOVED_SECRET: [
    REMOVED_SECREThybrid_resultsREMOVED_SECRET
   ]
  },
  {
   REMOVED_SECRETcell_typeREMOVED_SECRET: REMOVED_SECRETcodeREMOVED_SECRET,
   REMOVED_SECRETexecution_countREMOVED_SECRET: 16,
   REMOVED_SECRETmetadataREMOVED_SECRET: {},
   REMOVED_SECREToutputsREMOVED_SECRET: [
    {
     REMOVED_SECRETnameREMOVED_SECRET: REMOVED_SECRETstdoutREMOVED_SECRET,
     REMOVED_SECREToutput_typeREMOVED_SECRET: REMOVED_SECRETstreamREMOVED_SECRET,
     REMOVED_SECRETtextREMOVED_SECRET: [
      REMOVED_SECRET0.0190 | womens aladdin classic scene tshirt\nREMOVED_SECRET,
      REMOVED_SECRET0.0186 | toddler girls printed short sleeve tshirt  cat  jack\nREMOVED_SECRET,
      REMOVED_SECRET0.0174 | girls disney princess friends make everything better short sleeve graphic tshirt  black\nREMOVED_SECRET,
      REMOVED_SECRET0.0173 | wink pro womens snap front warmup jacket\nREMOVED_SECRET,
      REMOVED_SECRET0.0169 | toddler boys39 dino graphic short sleeve graphic tshirt  cat 38 jack8482\nREMOVED_SECRET
     ]
    }
   ],
   REMOVED_SECRETsourceREMOVED_SECRET: [
    REMOVED_SECRET#Testing phase for hybrid (Italian to English)\nREMOVED_SECRET,
    REMOVED_SECRET\nREMOVED_SECRET,
    REMOVED_SECREThybrid_results = hybrid_search_rrf(\REMOVED_SECRETgiacca da donna\REMOVED_SECRET)\nREMOVED_SECRET,
    REMOVED_SECRET\nREMOVED_SECRET,
    REMOVED_SECRETfor idx, score in hybrid_results:\nREMOVED_SECRET,
    REMOVED_SECRET    print(f\REMOVED_SECRET{score:.4f} | {italian_embeddings['title'][idx]}\REMOVED_SECRET)\nREMOVED_SECRET
   ]
  },
  {
   REMOVED_SECRETcell_typeREMOVED_SECRET: REMOVED_SECRETmarkdownREMOVED_SECRET,
   REMOVED_SECRETmetadataREMOVED_SECRET: {},
   REMOVED_SECRETsourceREMOVED_SECRET: [
    REMOVED_SECRET\REMOVED_SECRET\REMOVED_SECRET\REMOVED_SECRETexpanded_queries=get_expanded_queries(\REMOVED_SECRETruning shoos\REMOVED_SECRET)\nREMOVED_SECRET,
    REMOVED_SECRETprint(expanded_queries)\REMOVED_SECRET\REMOVED_SECRET\REMOVED_SECRET\nREMOVED_SECRET
   ]
  },
  {
   REMOVED_SECRETcell_typeREMOVED_SECRET: REMOVED_SECRETcodeREMOVED_SECRET,
   REMOVED_SECRETexecution_countREMOVED_SECRET: 21,
   REMOVED_SECRETmetadataREMOVED_SECRET: {},
   REMOVED_SECREToutputsREMOVED_SECRET: [
    {
     REMOVED_SECRETnameREMOVED_SECRET: REMOVED_SECRETstdoutREMOVED_SECRET,
     REMOVED_SECREToutput_typeREMOVED_SECRET: REMOVED_SECRETstreamREMOVED_SECRET,
     REMOVED_SECRETtextREMOVED_SECRET: [
      REMOVED_SECRET0.0203 | ragazze39 solido giacca trapuntato gatto 38 jack8482\nREMOVED_SECRET,
      REMOVED_SECRET0.0200 | ragazze puffer giacca tutto in movimento\nREMOVED_SECRET,
      REMOVED_SECRET0.0184 | jockey generazione donne cotone biologico stretch cropped tshirt\nREMOVED_SECRET,
      REMOVED_SECRET0.0178 | wink pro donne snap giacca di riscaldamento anteriore\nREMOVED_SECRET,
      REMOVED_SECRET0.0173 | ragazze solido puffer giacca classe d'arte\nREMOVED_SECRET
     ]
    }
   ],
   REMOVED_SECRETsourceREMOVED_SECRET: [
    REMOVED_SECRET#Testing phase for hybrid (English to Italian)\nREMOVED_SECRET,
    REMOVED_SECRET\nREMOVED_SECRET,
    REMOVED_SECREThybrid_results = hybrid_search_rrf(\REMOVED_SECRETwomen jacket\REMOVED_SECRET)\nREMOVED_SECRET,
    REMOVED_SECRET\nREMOVED_SECRET,
    REMOVED_SECRETfor idx, score in hybrid_results:\nREMOVED_SECRET,
    REMOVED_SECRET    print(f\REMOVED_SECRET{score:.4f} | {italian_embeddings['title_italian'][idx]}\REMOVED_SECRET)\nREMOVED_SECRET
   ]
  },
  {
   REMOVED_SECRETcell_typeREMOVED_SECRET: REMOVED_SECRETmarkdownREMOVED_SECRET,
   REMOVED_SECRETmetadataREMOVED_SECRET: {},
   REMOVED_SECRETsourceREMOVED_SECRET: [
    REMOVED_SECRETBM25 Alone ItalianREMOVED_SECRET
   ]
  },
  {
   REMOVED_SECRETcell_typeREMOVED_SECRET: REMOVED_SECRETcodeREMOVED_SECRET,
   REMOVED_SECRETexecution_countREMOVED_SECRET: 22,
   REMOVED_SECRETmetadataREMOVED_SECRET: {},
   REMOVED_SECREToutputsREMOVED_SECRET: [],
   REMOVED_SECRETsourceREMOVED_SECRET: [
    REMOVED_SECRETdef BM25(query, top_k=5):\nREMOVED_SECRET,
    REMOVED_SECRET\nREMOVED_SECRET,
    REMOVED_SECRET    #To detect the language from the query\nREMOVED_SECRET,
    REMOVED_SECRET    from langdetect import detect\nREMOVED_SECRET,
    REMOVED_SECRET\nREMOVED_SECRET,
    REMOVED_SECRET    lang = detect(query)\nREMOVED_SECRET,
    REMOVED_SECRET    #tokenising the query to be suitable for BM25\nREMOVED_SECRET,
    REMOVED_SECRET    tokens = query.lower().split()\nREMOVED_SECRET,
    REMOVED_SECRET\nREMOVED_SECRET,
    REMOVED_SECRET    # --- BM25 Retrieval ---(Routes the tokenized query to the appropiate BM25 engine)\nREMOVED_SECRET,
    REMOVED_SECRET    if lang == 'it':\nREMOVED_SECRET,
    REMOVED_SECRET        bm25_scores = bm25_it.get_scores(tokens)\nREMOVED_SECRET,
    REMOVED_SECRET    else:\nREMOVED_SECRET,
    REMOVED_SECRET        bm25_scores = bm25_en.get_scores(tokens) #returns a list of scores, one for each document in the dataset\nREMOVED_SECRET,
    REMOVED_SECRET\nREMOVED_SECRET,
    REMOVED_SECRET    bm25_ranks = scores_to_ranking(bm25_scores)  #Converts the float BM25 scores to rankings for Reciprocal rank fusion(rrf)\nREMOVED_SECRET,
    REMOVED_SECRET\nREMOVED_SECRET,
    REMOVED_SECRET    # Sort by RRF score\nREMOVED_SECRET,
    REMOVED_SECRET    ranked = sorted(bm25_ranks.items(), key=lambda x: x[1], reverse=True)  #Sorting the docs by their RRF score, with the highest first.\nREMOVED_SECRET,
    REMOVED_SECRET\nREMOVED_SECRET,
    REMOVED_SECRET    return ranked[:top_k]  # list of (doc_id, final_score)\nREMOVED_SECRET
   ]
  },
  {
   REMOVED_SECRETcell_typeREMOVED_SECRET: REMOVED_SECRETcodeREMOVED_SECRET,
   REMOVED_SECRETexecution_countREMOVED_SECRET: 28,
   REMOVED_SECRETmetadataREMOVED_SECRET: {},
   REMOVED_SECREToutputsREMOVED_SECRET: [],
   REMOVED_SECRETsourceREMOVED_SECRET: [
    REMOVED_SECRET#This code works better\nREMOVED_SECRET,
    REMOVED_SECRET\nREMOVED_SECRET,
    REMOVED_SECRETdef BM25(query, top_k=5):\nREMOVED_SECRET,
    REMOVED_SECRET    \REMOVED_SECRET\REMOVED_SECRET\REMOVED_SECRET\nREMOVED_SECRET,
    REMOVED_SECRET    Perform BM25 keyword search based on query language.\nREMOVED_SECRET,
    REMOVED_SECRET\nREMOVED_SECRET,
    REMOVED_SECRET    Args:\nREMOVED_SECRET,
    REMOVED_SECRET        query (str): The user's search query.\nREMOVED_SECRET,
    REMOVED_SECRET        top_k (int): Number of top documents to return.\nREMOVED_SECRET,
    REMOVED_SECRET\nREMOVED_SECRET,
    REMOVED_SECRET    Returns:\nREMOVED_SECRET,
    REMOVED_SECRET        list of (doc_id, bm25_score)\nREMOVED_SECRET,
    REMOVED_SECRET    \REMOVED_SECRET\REMOVED_SECRET\REMOVED_SECRET\nREMOVED_SECRET,
    REMOVED_SECRET    #To detect the language from the query\nREMOVED_SECRET,
    REMOVED_SECRET    from langdetect import detect\nREMOVED_SECRET,
    REMOVED_SECRET    lang = detect(query)\nREMOVED_SECRET,
    REMOVED_SECRET    tokens = query.lower().split()\nREMOVED_SECRET,
    REMOVED_SECRET\nREMOVED_SECRET,
    REMOVED_SECRET    # Score retrieval\nREMOVED_SECRET,
    REMOVED_SECRET    if lang == 'it':\nREMOVED_SECRET,
    REMOVED_SECRET        bm25_scores = bm25_it.get_scores(tokens)\nREMOVED_SECRET,
    REMOVED_SECRET    else:\nREMOVED_SECRET,
    REMOVED_SECRET        bm25_scores = bm25_en.get_scores(tokens)\nREMOVED_SECRET,
    REMOVED_SECRET\nREMOVED_SECRET,
    REMOVED_SECRET    # Get top-k doc IDs based on raw BM25 scores\nREMOVED_SECRET,
    REMOVED_SECRET    top_k_ids = sorted(range(len(bm25_scores)), key=lambda i: bm25_scores[i], reverse=True)[:top_k]\nREMOVED_SECRET,
    REMOVED_SECRET    \nREMOVED_SECRET,
    REMOVED_SECRET    return [(i, bm25_scores[i]) for i in top_k_ids] #Returns a list of (document ID, score) pairs.\nREMOVED_SECRET
   ]
  },
  {
   REMOVED_SECRETcell_typeREMOVED_SECRET: REMOVED_SECRETcodeREMOVED_SECRET,
   REMOVED_SECRETexecution_countREMOVED_SECRET: 29,
   REMOVED_SECRETmetadataREMOVED_SECRET: {},
   REMOVED_SECREToutputsREMOVED_SECRET: [
    {
     REMOVED_SECRETnameREMOVED_SECRET: REMOVED_SECRETstdoutREMOVED_SECRET,
     REMOVED_SECREToutput_typeREMOVED_SECRET: REMOVED_SECRETstreamREMOVED_SECRET,
     REMOVED_SECRETtextREMOVED_SECRET: [
      REMOVED_SECRET7.1452 | womens highrise straight jeans  universal thread\nREMOVED_SECRET,
      REMOVED_SECRET6.4611 | womens linen short sleeve buttondown camp shirt  a new day\nREMOVED_SECRET,
      REMOVED_SECRET6.4048 | hanes comfort fit scrubs womens scrub pants\nREMOVED_SECRET,
      REMOVED_SECRET6.4048 | timberland womens dunstan short sleeve tshirt\nREMOVED_SECRET,
      REMOVED_SECRET6.0893 | womens fitted short sleeve tshirt  universal thread\nREMOVED_SECRET
     ]
    }
   ],
   REMOVED_SECRETsourceREMOVED_SECRET: [
    REMOVED_SECRET#Testing phase for BM25 alone\nREMOVED_SECRET,
    REMOVED_SECRET\nREMOVED_SECRET,
    REMOVED_SECRETresults = BM25(\REMOVED_SECRETgiacca da donna\REMOVED_SECRET)\nREMOVED_SECRET,
    REMOVED_SECRET\nREMOVED_SECRET,
    REMOVED_SECRETfor idx, score in results:\nREMOVED_SECRET,
    REMOVED_SECRET    print(f\REMOVED_SECRET{score:.4f} | {italian_embeddings['title'][idx]}\REMOVED_SECRET)REMOVED_SECRET
   ]
  },
  {
   REMOVED_SECRETcell_typeREMOVED_SECRET: REMOVED_SECRETcodeREMOVED_SECRET,
   REMOVED_SECRETexecution_countREMOVED_SECRET: 30,
   REMOVED_SECRETmetadataREMOVED_SECRET: {},
   REMOVED_SECREToutputsREMOVED_SECRET: [
    {
     REMOVED_SECRETnameREMOVED_SECRET: REMOVED_SECRETstdoutREMOVED_SECRET,
     REMOVED_SECREToutput_typeREMOVED_SECRET: REMOVED_SECRETstreamREMOVED_SECRET,
     REMOVED_SECRETtextREMOVED_SECRET: [
      REMOVED_SECRET5.4298 | ragazze puffer giacca tutto in movimento\nREMOVED_SECRET,
      REMOVED_SECRET5.4298 | ragazze solido puffer giacca classe d'arte\nREMOVED_SECRET,
      REMOVED_SECRET5.1272 | Bambini39 giacca gonfiabile solida tutto in movimento8482\nREMOVED_SECRET,
      REMOVED_SECRET5.1272 | ragazze39 solido giacca trapuntato gatto 38 jack8482\nREMOVED_SECRET,
      REMOVED_SECRET5.1272 | wink pro donne snap giacca di riscaldamento anteriore\nREMOVED_SECRET
     ]
    }
   ],
   REMOVED_SECRETsourceREMOVED_SECRET: [
    REMOVED_SECRET#Testing phase for BM25 alone\nREMOVED_SECRET,
    REMOVED_SECRET\nREMOVED_SECRET,
    REMOVED_SECRETresults = BM25(\REMOVED_SECRETwomen jacket\REMOVED_SECRET)\nREMOVED_SECRET,
    REMOVED_SECRET\nREMOVED_SECRET,
    REMOVED_SECRETfor idx, score in results:\nREMOVED_SECRET,
    REMOVED_SECRET    print(f\REMOVED_SECRET{score:.4f} | {italian_embeddings['title_italian'][idx]}\REMOVED_SECRET)REMOVED_SECRET
   ]
  },
  {
   REMOVED_SECRETcell_typeREMOVED_SECRET: REMOVED_SECRETmarkdownREMOVED_SECRET,
   REMOVED_SECRETmetadataREMOVED_SECRET: {},
   REMOVED_SECRETsourceREMOVED_SECRET: [
    REMOVED_SECRETTF-IDF + BGE ItalianREMOVED_SECRET
   ]
  },
  {
   REMOVED_SECRETcell_typeREMOVED_SECRET: REMOVED_SECRETcodeREMOVED_SECRET,
   REMOVED_SECRETexecution_countREMOVED_SECRET: 17,
   REMOVED_SECRETmetadataREMOVED_SECRET: {},
   REMOVED_SECREToutputsREMOVED_SECRET: [],
   REMOVED_SECRETsourceREMOVED_SECRET: [
    REMOVED_SECRET#For both Sparse and Sparse + Dense\nREMOVED_SECRET,
    REMOVED_SECRET\nREMOVED_SECRET,
    REMOVED_SECRETfrom sklearn.feature_extraction.text import TfidfVectorizer\nREMOVED_SECRET,
    REMOVED_SECRET\nREMOVED_SECRET,
    REMOVED_SECRETtfidf_vectorizer_en = TfidfVectorizer()\nREMOVED_SECRET,
    REMOVED_SECRETtfidf_matrix_en = tfidf_vectorizer_en.fit_transform(italian_embeddings['title'])\nREMOVED_SECRET,
    REMOVED_SECRET\nREMOVED_SECRET,
    REMOVED_SECRETtfidf_vectorizer_it = TfidfVectorizer()\nREMOVED_SECRET,
    REMOVED_SECRETtfidf_matrix_it = tfidf_vectorizer_it.fit_transform(italian_embeddings['title_italian'])REMOVED_SECRET
   ]
  },
  {
   REMOVED_SECRETcell_typeREMOVED_SECRET: REMOVED_SECRETcodeREMOVED_SECRET,
   REMOVED_SECRETexecution_countREMOVED_SECRET: 21,
   REMOVED_SECRETmetadataREMOVED_SECRET: {},
   REMOVED_SECREToutputsREMOVED_SECRET: [],
   REMOVED_SECRETsourceREMOVED_SECRET: [
    REMOVED_SECRETdef hybrid_search_tfidf(query, top_k=5):\nREMOVED_SECRET,
    REMOVED_SECRET\nREMOVED_SECRET,
    REMOVED_SECRET    # To detect the language from the query\nREMOVED_SECRET,
    REMOVED_SECRET    from langdetect import detect\nREMOVED_SECRET,
    REMOVED_SECRET    lang = detect(query)\nREMOVED_SECRET,
    REMOVED_SECRET    \nREMOVED_SECRET,
    REMOVED_SECRET    # Ensure correct tf-idf matrix based on language\nREMOVED_SECRET,
    REMOVED_SECRET    if lang == 'it':\nREMOVED_SECRET,
    REMOVED_SECRET        query_vec = tfidf_vectorizer_it.transform([query])  # Spanish vectorizer\nREMOVED_SECRET,
    REMOVED_SECRET        similarities = cosine_similarity(query_vec, tfidf_matrix_it)[0]  # Cosine similarity for Spanish\nREMOVED_SECRET,
    REMOVED_SECRET    else:\nREMOVED_SECRET,
    REMOVED_SECRET        query_vec = tfidf_vectorizer_en.transform([query])\nREMOVED_SECRET,
    REMOVED_SECRET        similarities = cosine_similarity(query_vec, tfidf_matrix_en)[0]  # Cosine similarity for English\nREMOVED_SECRET,
    REMOVED_SECRET\nREMOVED_SECRET,
    REMOVED_SECRET    # Rank documents by similarity\nREMOVED_SECRET,
    REMOVED_SECRET    ranked_indices = np.argsort(similarities)[::-1]\nREMOVED_SECRET,
    REMOVED_SECRET    \nREMOVED_SECRET,
    REMOVED_SECRET    # Return top_k document indices with their similarity scores\nREMOVED_SECRET,
    REMOVED_SECRET    tfidf_rank_map = {int(idx): rank for rank, idx in enumerate(ranked_indices[:top_k], start=1)}\nREMOVED_SECRET,
    REMOVED_SECRET\nREMOVED_SECRET,
    REMOVED_SECRET\nREMOVED_SECRET,
    REMOVED_SECRET    # --- Semantic Retrieval (Pinecone) ---\nREMOVED_SECRET,
    REMOVED_SECRET    query_vec = model.encode(query).tolist()  # Generate the query's embedding and convert it to a list\nREMOVED_SECRET,
    REMOVED_SECRET\nREMOVED_SECRET,
    REMOVED_SECRET    # Submits the query vector to Pinecone to retrieve top-k similar vectors\nREMOVED_SECRET,
    REMOVED_SECRET    pinecone_results = index.query(vector=query_vec, top_k=top_k * 2, include_metadata=False)\nREMOVED_SECRET,
    REMOVED_SECRET\nREMOVED_SECRET,
    REMOVED_SECRET    # Extracts original row index from Pinecone's vector ID (e.g., \REMOVED_SECRETen-123\REMOVED_SECRET → 123)\nREMOVED_SECRET,
    REMOVED_SECRET    pinecone_ids = [int(match['id'].split('-')[1]) for match in pinecone_results['matches']]\nREMOVED_SECRET,
    REMOVED_SECRET\nREMOVED_SECRET,
    REMOVED_SECRET    # Obtain cosine similarity scores from Pinecone\nREMOVED_SECRET,
    REMOVED_SECRET    pinecone_scores = [match['score'] for match in pinecone_results['matches']]\nREMOVED_SECRET,
    REMOVED_SECRET\nREMOVED_SECRET,
    REMOVED_SECRET    # Converting Pinecone scores to ranks (lower rank = better match)\nREMOVED_SECRET,
    REMOVED_SECRET    semantic_ranks = scores_to_ranking(pinecone_scores)\nREMOVED_SECRET,
    REMOVED_SECRET\nREMOVED_SECRET,
    REMOVED_SECRET    # Create a mapping from document index to semantic rank for fast lookup (converted to dictionary)\nREMOVED_SECRET,
    REMOVED_SECRET    semantic_rank_map = {idx: rank for idx, rank in zip(pinecone_ids, semantic_ranks)}\nREMOVED_SECRET,
    REMOVED_SECRET\nREMOVED_SECRET,
    REMOVED_SECRET    # --- Combine using RRF ---\nREMOVED_SECRET,
    REMOVED_SECRET    combined_scores = {}\nREMOVED_SECRET,
    REMOVED_SECRET\nREMOVED_SECRET,
    REMOVED_SECRET    # For each doc idx returned by Pinecone\nREMOVED_SECRET,
    REMOVED_SECRET    # Retrieve the BM25 rank and semantic rank, and use rrf() to combine them into a hybrid score\nREMOVED_SECRET,
    REMOVED_SECRET    for idx in pinecone_ids:\nREMOVED_SECRET,
    REMOVED_SECRET        rrf_score = rrf(\nREMOVED_SECRET,
    REMOVED_SECRET            keyword_rank=tfidf_rank_map.get(idx, top_k + 1),  # Fallback rank if not found in BM25\nREMOVED_SECRET,
    REMOVED_SECRET            semantic_rank=semantic_rank_map.get(idx, top_k + 1)  # Fallback rank if not found in semantic\nREMOVED_SECRET,
    REMOVED_SECRET        )\nREMOVED_SECRET,
    REMOVED_SECRET        combined_scores[idx] = rrf_score  # Store the fused score\nREMOVED_SECRET,
    REMOVED_SECRET\nREMOVED_SECRET,
    REMOVED_SECRET    # Sort the docs by their RRF score, with the highest first\nREMOVED_SECRET,
    REMOVED_SECRET    ranked = sorted(combined_scores.items(), key=lambda x: x[1], reverse=True)\nREMOVED_SECRET,
    REMOVED_SECRET\nREMOVED_SECRET,
    REMOVED_SECRET    return ranked[:top_k]  # Return top-k results as a list of (doc_id, final_score)\nREMOVED_SECRET
   ]
  },
  {
   REMOVED_SECRETcell_typeREMOVED_SECRET: REMOVED_SECRETcodeREMOVED_SECRET,
   REMOVED_SECRETexecution_countREMOVED_SECRET: 22,
   REMOVED_SECRETmetadataREMOVED_SECRET: {},
   REMOVED_SECREToutputsREMOVED_SECRET: [
    {
     REMOVED_SECRETnameREMOVED_SECRET: REMOVED_SECRETstdoutREMOVED_SECRET,
     REMOVED_SECREToutput_typeREMOVED_SECRET: REMOVED_SECRETstreamREMOVED_SECRET,
     REMOVED_SECRETtextREMOVED_SECRET: [
      REMOVED_SECRET0.0313 | toddler girls printed short sleeve tshirt  cat  jack\nREMOVED_SECRET,
      REMOVED_SECRET0.0310 | girls disney princess friends make everything better short sleeve graphic tshirt  black\nREMOVED_SECRET,
      REMOVED_SECRET0.0308 | wink pro womens snap front warmup jacket\nREMOVED_SECRET,
      REMOVED_SECRET0.0305 | toddler boys39 dino graphic short sleeve graphic tshirt  cat 38 jack8482\nREMOVED_SECRET,
      REMOVED_SECRET0.0303 | womens teddy bear pumpkin short sleeve graphic boyfriend tshirt  beige\nREMOVED_SECRET
     ]
    }
   ],
   REMOVED_SECRETsourceREMOVED_SECRET: [
    REMOVED_SECRET#Testing phase for TFIDF alone\nREMOVED_SECRET,
    REMOVED_SECRETfrom sklearn.metrics.pairwise import cosine_similarity\nREMOVED_SECRET,
    REMOVED_SECRETresults = hybrid_search_tfidf(\REMOVED_SECRETgiacca da donna\REMOVED_SECRET)\nREMOVED_SECRET,
    REMOVED_SECRET\nREMOVED_SECRET,
    REMOVED_SECRETfor idx, score in results:\nREMOVED_SECRET,
    REMOVED_SECRET    print(f\REMOVED_SECRET{score:.4f} | {italian_embeddings['title_italian'][idx]}\REMOVED_SECRET)REMOVED_SECRET
   ]
  },
  {
   REMOVED_SECRETcell_typeREMOVED_SECRET: REMOVED_SECRETmarkdownREMOVED_SECRET,
   REMOVED_SECRETmetadataREMOVED_SECRET: {},
   REMOVED_SECRETsourceREMOVED_SECRET: [
    REMOVED_SECRETTF-IDF Alone ItalianREMOVED_SECRET
   ]
  },
  {
   REMOVED_SECRETcell_typeREMOVED_SECRET: REMOVED_SECRETcodeREMOVED_SECRET,
   REMOVED_SECRETexecution_countREMOVED_SECRET: 23,
   REMOVED_SECRETmetadataREMOVED_SECRET: {},
   REMOVED_SECREToutputsREMOVED_SECRET: [],
   REMOVED_SECRETsourceREMOVED_SECRET: [
    REMOVED_SECRETfrom langdetect import detect\nREMOVED_SECRET,
    REMOVED_SECRETfrom sklearn.metrics.pairwise import cosine_similarity\nREMOVED_SECRET,
    REMOVED_SECRETimport numpy as np\nREMOVED_SECRET,
    REMOVED_SECRET\nREMOVED_SECRET,
    REMOVED_SECRETdef TFIDF(query, top_k=5):\nREMOVED_SECRET,
    REMOVED_SECRET    lang = detect(query)\nREMOVED_SECRET,
    REMOVED_SECRET    \nREMOVED_SECRET,
    REMOVED_SECRET    if lang == 'it':\nREMOVED_SECRET,
    REMOVED_SECRET        query_vec = tfidf_vectorizer_it.transform([query])  # query vector\nREMOVED_SECRET,
    REMOVED_SECRET        similarities = cosine_similarity(query_vec, tfidf_matrix_it)[0]  # cosine similarity with each doc\nREMOVED_SECRET,
    REMOVED_SECRET    else:\nREMOVED_SECRET,
    REMOVED_SECRET        query_vec = tfidf_vectorizer_en.transform([query])\nREMOVED_SECRET,
    REMOVED_SECRET        similarities = cosine_similarity(query_vec, tfidf_matrix_en)[0]\nREMOVED_SECRET,
    REMOVED_SECRET\nREMOVED_SECRET,
    REMOVED_SECRET    # Rank documents by similarity\nREMOVED_SECRET,
    REMOVED_SECRET    ranked_indices = np.argsort(similarities)[::-1]\nREMOVED_SECRET,
    REMOVED_SECRET    \nREMOVED_SECRET,
    REMOVED_SECRET    # Return top_k document indices with their similarity scores\nREMOVED_SECRET,
    REMOVED_SECRET    top_results = [(int(idx), float(similarities[idx])) for idx in ranked_indices[:top_k]]\nREMOVED_SECRET,
    REMOVED_SECRET    \nREMOVED_SECRET,
    REMOVED_SECRET    return top_resultsREMOVED_SECRET
   ]
  },
  {
   REMOVED_SECRETcell_typeREMOVED_SECRET: REMOVED_SECRETcodeREMOVED_SECRET,
   REMOVED_SECRETexecution_countREMOVED_SECRET: 29,
   REMOVED_SECRETmetadataREMOVED_SECRET: {},
   REMOVED_SECREToutputsREMOVED_SECRET: [
    {
     REMOVED_SECRETnameREMOVED_SECRET: REMOVED_SECRETstdoutREMOVED_SECRET,
     REMOVED_SECREToutput_typeREMOVED_SECRET: REMOVED_SECRETstreamREMOVED_SECRET,
     REMOVED_SECRETtextREMOVED_SECRET: [
      REMOVED_SECRET0.3772 | timberland womens dunstan short sleeve tshirt\nREMOVED_SECRET,
      REMOVED_SECRET0.3743 | womens linen short sleeve buttondown camp shirt  a new day\nREMOVED_SECRET,
      REMOVED_SECRET0.3412 | womens fitted short sleeve tshirt  universal thread\nREMOVED_SECRET,
      REMOVED_SECRET0.3339 | mens rocky mobilite waterproof work boot\nREMOVED_SECRET,
      REMOVED_SECRET0.3271 | girls puffer jacket  all in motion\nREMOVED_SECRET
     ]
    }
   ],
   REMOVED_SECRETsourceREMOVED_SECRET: [
    REMOVED_SECRET#Testing phase for TFIDF alone\nREMOVED_SECRET,
    REMOVED_SECRET\nREMOVED_SECRET,
    REMOVED_SECRETresults = TFIDF(\REMOVED_SECRETgiacca da donna\REMOVED_SECRET)\nREMOVED_SECRET,
    REMOVED_SECRET\nREMOVED_SECRET,
    REMOVED_SECRETfor idx, score in results:\nREMOVED_SECRET,
    REMOVED_SECRET    print(f\REMOVED_SECRET{score:.4f} | {italian_embeddings['title'][idx]}\REMOVED_SECRET)REMOVED_SECRET
   ]
  },
  {
   REMOVED_SECRETcell_typeREMOVED_SECRET: REMOVED_SECRETmarkdownREMOVED_SECRET,
   REMOVED_SECRETmetadataREMOVED_SECRET: {},
   REMOVED_SECRETsourceREMOVED_SECRET: [
    REMOVED_SECRETNow, let's do a comparison between the scores obtained by just using the BM25 retriever VS using the hybrid retrieval\nREMOVED_SECRET,
    REMOVED_SECRET\nREMOVED_SECRET,
    REMOVED_SECRETWe will probably have to do  NDCG\nREMOVED_SECRET
   ]
  },
  {
   REMOVED_SECRETcell_typeREMOVED_SECRET: REMOVED_SECRETcodeREMOVED_SECRET,
   REMOVED_SECRETexecution_countREMOVED_SECRET: 24,
   REMOVED_SECRETmetadataREMOVED_SECRET: {},
   REMOVED_SECREToutputsREMOVED_SECRET: [],
   REMOVED_SECRETsourceREMOVED_SECRET: [
    REMOVED_SECRETenglish_queries = [\nREMOVED_SECRET,
    REMOVED_SECRET    \REMOVED_SECRETmen's white dress shirt\REMOVED_SECRET,\nREMOVED_SECRET,
    REMOVED_SECRET    \REMOVED_SECRETwomen's floral summer dress\REMOVED_SECRET,\nREMOVED_SECRET,
    REMOVED_SECRET    \REMOVED_SECRETblack women's ankle boots\REMOVED_SECRET,\nREMOVED_SECRET,
    REMOVED_SECRET    \REMOVED_SECRETmen's crewneck t-shirt\REMOVED_SECRET,\nREMOVED_SECRET,
    REMOVED_SECRET    \REMOVED_SECRETwomen's cropped denim jacket\REMOVED_SECRET\nREMOVED_SECRET,
    REMOVED_SECRET]\nREMOVED_SECRET,
    REMOVED_SECRET\nREMOVED_SECRET,
    REMOVED_SECRETitalian_queries = [\nREMOVED_SECRET,
    REMOVED_SECRET    \REMOVED_SECRETcamicia bianca da uomo\REMOVED_SECRET,                  # men's white dress shirt\nREMOVED_SECRET,
    REMOVED_SECRET    \REMOVED_SECRETvestito estivo floreale da donna\REMOVED_SECRET,        # women's floral summer dress\nREMOVED_SECRET,
    REMOVED_SECRET    \REMOVED_SECRETstivaletti neri da donna\REMOVED_SECRET,                # black women's ankle boots\nREMOVED_SECRET,
    REMOVED_SECRET    \REMOVED_SECRETmaglietta girocollo uomo\REMOVED_SECRET,                # men's crewneck t-shirt\nREMOVED_SECRET,
    REMOVED_SECRET    \REMOVED_SECRETgiacca di jeans corta da donna\REMOVED_SECRET           # women's cropped denim jacket\nREMOVED_SECRET,
    REMOVED_SECRET]\nREMOVED_SECRET
   ]
  },
  {
   REMOVED_SECRETcell_typeREMOVED_SECRET: REMOVED_SECRETcodeREMOVED_SECRET,
   REMOVED_SECRETexecution_countREMOVED_SECRET: 25,
   REMOVED_SECRETmetadataREMOVED_SECRET: {},
   REMOVED_SECREToutputsREMOVED_SECRET: [],
   REMOVED_SECRETsourceREMOVED_SECRET: [
    REMOVED_SECRETimport json\nREMOVED_SECRET,
    REMOVED_SECRET\nREMOVED_SECRET,
    REMOVED_SECRETwith open(\REMOVED_SECRETground_truth_fashion.json\REMOVED_SECRET, \REMOVED_SECRETr\REMOVED_SECRET) as f:\nREMOVED_SECRET,
    REMOVED_SECRET    ground_truth = json.load(f)REMOVED_SECRET
   ]
  },
  {
   REMOVED_SECRETcell_typeREMOVED_SECRET: REMOVED_SECRETcodeREMOVED_SECRET,
   REMOVED_SECRETexecution_countREMOVED_SECRET: null,
   REMOVED_SECRETmetadataREMOVED_SECRET: {},
   REMOVED_SECREToutputsREMOVED_SECRET: [],
   REMOVED_SECRETsourceREMOVED_SECRET: [
    REMOVED_SECRETimport numpy as np  # Import NumPy for efficient numerical operations\nREMOVED_SECRET,
    REMOVED_SECRET\nREMOVED_SECRET,
    REMOVED_SECRET# --- Function to calculate Discounted Cumulative Gain (DCG) ---\nREMOVED_SECRET,
    REMOVED_SECRET# DCG measures how good a ranked list is by rewarding relevant documents appearing earlier in the list\nREMOVED_SECRET,
    REMOVED_SECRETdef dcg(relevances):\nREMOVED_SECRET,
    REMOVED_SECRET    # For each position i, divide the relevance score by log2(i+2) to apply discounting\nREMOVED_SECRET,
    REMOVED_SECRET    # i + 2 ensures that the first position is divided by log2(2) = 1\nREMOVED_SECRET,
    REMOVED_SECRET    return sum(rel / np.log2(i + 2) for i, rel in enumerate(relevances))\nREMOVED_SECRET,
    REMOVED_SECRET\nREMOVED_SECRET,
    REMOVED_SECRET# --- Function to calculate Normalized Discounted Cumulative Gain (NDCG) ---\nREMOVED_SECRET,
    REMOVED_SECRET# NDCG compares the DCG of a predicted ranking to the ideal ranking\nREMOVED_SECRET,
    REMOVED_SECRETdef ndcg(ranked_ids, relevance_dict, k=5):\nREMOVED_SECRET,
    REMOVED_SECRET    # Retrieve the relevance score for each of the top-k ranked document IDs\nREMOVED_SECRET,
    REMOVED_SECRET    # If a doc ID is not in the relevance_dict, assume relevance = 0\nREMOVED_SECRET,
    REMOVED_SECRET    relevances = [relevance_dict.get(str(doc_id), 0) for doc_id in ranked_ids[:k]]\nREMOVED_SECRET,
    REMOVED_SECRET    \nREMOVED_SECRET,
    REMOVED_SECRET    # Sort all known relevance scores in descending order to get the ideal ranking\nREMOVED_SECRET,
    REMOVED_SECRET    ideal_relevances = sorted(relevance_dict.values(), reverse=True)[:k]\nREMOVED_SECRET,
    REMOVED_SECRET    \nREMOVED_SECRET,
    REMOVED_SECRET    # Compute NDCG as the ratio of actual DCG to ideal DCG\nREMOVED_SECRET,
    REMOVED_SECRET    # If there are no ideal relevances (e.g., empty dict), return 0.0 to avoid division by zero\nREMOVED_SECRET,
    REMOVED_SECRET    return dcg(relevances) / dcg(ideal_relevances) if ideal_relevances else 0.0\nREMOVED_SECRET
   ]
  },
  {
   REMOVED_SECRETcell_typeREMOVED_SECRET: REMOVED_SECRETcodeREMOVED_SECRET,
   REMOVED_SECRETexecution_countREMOVED_SECRET: null,
   REMOVED_SECRETmetadataREMOVED_SECRET: {},
   REMOVED_SECREToutputsREMOVED_SECRET: [
    {
     REMOVED_SECRETnameREMOVED_SECRET: REMOVED_SECRETstdoutREMOVED_SECRET,
     REMOVED_SECREToutput_typeREMOVED_SECRET: REMOVED_SECRETstreamREMOVED_SECRET,
     REMOVED_SECRETtextREMOVED_SECRET: [
      REMOVED_SECRET🔍 NDCG Comparison (BM25 vs Hybrid RRF)\nREMOVED_SECRET,
      REMOVED_SECRET\nREMOVED_SECRET,
      REMOVED_SECRETQuery: men's white dress shirt\nREMOVED_SECRET,
      REMOVED_SECRET  NDCG@10 - BM25   : 0.0000\nREMOVED_SECRET,
      REMOVED_SECRET  NDCG@10 - Hybrid : 0.1210\nREMOVED_SECRET,
      REMOVED_SECRET----------------------------------------\nREMOVED_SECRET,
      REMOVED_SECRETQuery: women's floral summer dress\nREMOVED_SECRET,
      REMOVED_SECRET  NDCG@10 - BM25   : 0.0692\nREMOVED_SECRET,
      REMOVED_SECRET  NDCG@10 - Hybrid : 0.3230\nREMOVED_SECRET,
      REMOVED_SECRET----------------------------------------\nREMOVED_SECRET,
      REMOVED_SECRETQuery: black women's ankle boots\nREMOVED_SECRET,
      REMOVED_SECRET  NDCG@10 - BM25   : 0.0316\nREMOVED_SECRET,
      REMOVED_SECRET  NDCG@10 - Hybrid : 0.0000\nREMOVED_SECRET,
      REMOVED_SECRET----------------------------------------\nREMOVED_SECRET,
      REMOVED_SECRETQuery: men's crewneck t-shirt\nREMOVED_SECRET,
      REMOVED_SECRET  NDCG@10 - BM25   : 0.0000\nREMOVED_SECRET,
      REMOVED_SECRET  NDCG@10 - Hybrid : 0.0000\nREMOVED_SECRET,
      REMOVED_SECRET----------------------------------------\nREMOVED_SECRET,
      REMOVED_SECRETQuery: women's cropped denim jacket\nREMOVED_SECRET,
      REMOVED_SECRET  NDCG@10 - BM25   : 0.0000\nREMOVED_SECRET,
      REMOVED_SECRET  NDCG@10 - Hybrid : 0.0000\nREMOVED_SECRET,
      REMOVED_SECRET----------------------------------------\nREMOVED_SECRET
     ]
    }
   ],
   REMOVED_SECRETsourceREMOVED_SECRET: [
    REMOVED_SECRET# List of test queries from the ground truth dictionary\nREMOVED_SECRET,
    REMOVED_SECRETtest_queries = list(ground_truth.keys())\nREMOVED_SECRET,
    REMOVED_SECRET\nREMOVED_SECRET,
    REMOVED_SECRET# Evaluation depth: compute NDCG@10\nREMOVED_SECRET,
    REMOVED_SECRETk = 10\nREMOVED_SECRET,
    REMOVED_SECRET\nREMOVED_SECRET,
    REMOVED_SECRETprint(\REMOVED_SECRET NDCG Comparison (BM25 vs Hybrid RRF)\\n\REMOVED_SECRET)\nREMOVED_SECRET,
    REMOVED_SECRET\nREMOVED_SECRET,
    REMOVED_SECRET# Loop through each test query\nREMOVED_SECRET,
    REMOVED_SECRETfor query in test_queries:\nREMOVED_SECRET,
    REMOVED_SECRET    # gt: the ground truth relevance scores for documents related to this query\nREMOVED_SECRET,
    REMOVED_SECRET    gt = ground_truth[query]\nREMOVED_SECRET,
    REMOVED_SECRET    \nREMOVED_SECRET,
    REMOVED_SECRET    # Get top-k ranked document IDs from BM25 (ignore scores)\nREMOVED_SECRET,
    REMOVED_SECRET    bm25_ids = [doc_id for doc_id, _ in BM25(query, top_k=k)]\nREMOVED_SECRET,
    REMOVED_SECRET\nREMOVED_SECRET,
    REMOVED_SECRET    # Get top-k ranked document IDs from the hybrid RRF system\nREMOVED_SECRET,
    REMOVED_SECRET    hybrid_ids = [doc_id for doc_id, _ in hybrid_search_rrf(query, top_k=k)]\nREMOVED_SECRET,
    REMOVED_SECRET\nREMOVED_SECRET,
    REMOVED_SECRET    # Compute NDCG score for BM25 rankings using the ground truth\nREMOVED_SECRET,
    REMOVED_SECRET    score_bm25 = ndcg(bm25_ids, gt, k)\nREMOVED_SECRET,
    REMOVED_SECRET\nREMOVED_SECRET,
    REMOVED_SECRET    # Compute NDCG score for Hybrid (BM25 + semantic) rankings\nREMOVED_SECRET,
    REMOVED_SECRET    score_hybrid = ndcg(hybrid_ids, gt, k)\nREMOVED_SECRET,
    REMOVED_SECRET\nREMOVED_SECRET,
    REMOVED_SECRET    # Print the results for this query\nREMOVED_SECRET,
    REMOVED_SECRET    print(f\REMOVED_SECRETQuery: {query}\REMOVED_SECRET)\nREMOVED_SECRET,
    REMOVED_SECRET    print(f\REMOVED_SECRET  NDCG@{k} - BM25   : {score_bm25:.4f}\REMOVED_SECRET)\nREMOVED_SECRET,
    REMOVED_SECRET    print(f\REMOVED_SECRET  NDCG@{k} - Hybrid : {score_hybrid:.4f}\REMOVED_SECRET)\nREMOVED_SECRET,
    REMOVED_SECRET    print(\REMOVED_SECRET-\REMOVED_SECRET * 40)\nREMOVED_SECRET
   ]
  },
  {
   REMOVED_SECRETcell_typeREMOVED_SECRET: REMOVED_SECRETmarkdownREMOVED_SECRET,
   REMOVED_SECRETmetadataREMOVED_SECRET: {},
   REMOVED_SECRETsourceREMOVED_SECRET: [
    REMOVED_SECRETHybrid Retrieval Phase for SpanishREMOVED_SECRET
   ]
  },
  {
   REMOVED_SECRETcell_typeREMOVED_SECRET: REMOVED_SECRETcodeREMOVED_SECRET,
   REMOVED_SECRETexecution_countREMOVED_SECRET: 38,
   REMOVED_SECRETmetadataREMOVED_SECRET: {},
   REMOVED_SECREToutputsREMOVED_SECRET: [
    {
     REMOVED_SECRETdataREMOVED_SECRET: {
      REMOVED_SECRETtext/htmlREMOVED_SECRET: [
       REMOVED_SECRET<div>\nREMOVED_SECRET,
       REMOVED_SECRET<style scoped>\nREMOVED_SECRET,
       REMOVED_SECRET    .dataframe tbody tr th:only-of-type {\nREMOVED_SECRET,
       REMOVED_SECRET        vertical-align: middle;\nREMOVED_SECRET,
       REMOVED_SECRET    }\nREMOVED_SECRET,
       REMOVED_SECRET\nREMOVED_SECRET,
       REMOVED_SECRET    .dataframe tbody tr th {\nREMOVED_SECRET,
       REMOVED_SECRET        vertical-align: top;\nREMOVED_SECRET,
       REMOVED_SECRET    }\nREMOVED_SECRET,
       REMOVED_SECRET\nREMOVED_SECRET,
       REMOVED_SECRET    .dataframe thead th {\nREMOVED_SECRET,
       REMOVED_SECRET        text-align: right;\nREMOVED_SECRET,
       REMOVED_SECRET    }\nREMOVED_SECRET,
       REMOVED_SECRET</style>\nREMOVED_SECRET,
       REMOVED_SECRET<table border=\REMOVED_SECRET1\REMOVED_SECRET class=\REMOVED_SECRETdataframe\REMOVED_SECRET>\nREMOVED_SECRET,
       REMOVED_SECRET  <thead>\nREMOVED_SECRET,
       REMOVED_SECRET    <tr style=\REMOVED_SECRETtext-align: right;\REMOVED_SECRET>\nREMOVED_SECRET,
       REMOVED_SECRET      <th></th>\nREMOVED_SECRET,
       REMOVED_SECRET      <th>title</th>\nREMOVED_SECRET,
       REMOVED_SECRET      <th>title_spanish</th>\nREMOVED_SECRET,
       REMOVED_SECRET      <th>english_embedding</th>\nREMOVED_SECRET,
       REMOVED_SECRET      <th>spanish_embedding</th>\nREMOVED_SECRET,
       REMOVED_SECRET    </tr>\nREMOVED_SECRET,
       REMOVED_SECRET  </thead>\nREMOVED_SECRET,
       REMOVED_SECRET  <tbody>\nREMOVED_SECRET,
       REMOVED_SECRET    <tr>\nREMOVED_SECRET,
       REMOVED_SECRET      <th>0</th>\nREMOVED_SECRET,
       REMOVED_SECRET      <td>brother genuine high yield toner cartridge tn4...</td>\nREMOVED_SECRET,
       REMOVED_SECRET      <td>hermano genuino cartucho tóner de alto rendimi...</td>\nREMOVED_SECRET,
       REMOVED_SECRET      <td>[-0.03431117, 0.025899883, -0.00967014, -0.019...</td>\nREMOVED_SECRET,
       REMOVED_SECRET      <td>[0.012239528, 0.02652684, 0.002397126, -0.0288...</td>\nREMOVED_SECRET,
       REMOVED_SECRET    </tr>\nREMOVED_SECRET,
       REMOVED_SECRET    <tr>\nREMOVED_SECRET,
       REMOVED_SECRET      <th>1</th>\nREMOVED_SECRET,
       REMOVED_SECRET      <td>fitbit inspire 3 health and fitness tracker wi...</td>\nREMOVED_SECRET,
       REMOVED_SECRET      <td>fitbit inspirar 3 seguimiento de salud y fitne...</td>\nREMOVED_SECRET,
       REMOVED_SECRET      <td>[-0.0016011602, -0.002595037, -0.07348455, 0.0...</td>\nREMOVED_SECRET,
       REMOVED_SECRET      <td>[-0.011861571, -0.009732766, -0.06545575, -0.0...</td>\nREMOVED_SECRET,
       REMOVED_SECRET    </tr>\nREMOVED_SECRET,
       REMOVED_SECRET    <tr>\nREMOVED_SECRET,
       REMOVED_SECRET      <th>2</th>\nREMOVED_SECRET,
       REMOVED_SECRET      <td>mikes hot honey americas 1 brand of hot honey ...</td>\nREMOVED_SECRET,
       REMOVED_SECRET      <td>mikes miel caliente américas 1 marca de miel c...</td>\nREMOVED_SECRET,
       REMOVED_SECRET      <td>[-0.0004525112, -0.009976895, -0.015700651, 0....</td>\nREMOVED_SECRET,
       REMOVED_SECRET      <td>[-0.031901788, 0.017521167, -0.04371976, 0.039...</td>\nREMOVED_SECRET,
       REMOVED_SECRET    </tr>\nREMOVED_SECRET,
       REMOVED_SECRET    <tr>\nREMOVED_SECRET,
       REMOVED_SECRET      <th>3</th>\nREMOVED_SECRET,
       REMOVED_SECRET      <td>krema kréma red fruits 100 recyclable 240g</td>\nREMOVED_SECRET,
       REMOVED_SECRET      <td>krema kréma frutos rojos 100 reciclables 240g</td>\nREMOVED_SECRET,
       REMOVED_SECRET      <td>[-0.011189645, 0.033041686, -0.005376764, -0.0...</td>\nREMOVED_SECRET,
       REMOVED_SECRET      <td>[-0.013215443, 0.0015486346, -0.020853952, -0....</td>\nREMOVED_SECRET,
       REMOVED_SECRET    </tr>\nREMOVED_SECRET,
       REMOVED_SECRET    <tr>\nREMOVED_SECRET,
       REMOVED_SECRET      <th>4</th>\nREMOVED_SECRET,
       REMOVED_SECRET      <td>drsalts calming therapy epsom salts  soothing ...</td>\nREMOVED_SECRET,
       REMOVED_SECRET      <td>drsalts calmante terapia epsom sales calmantes...</td>\nREMOVED_SECRET,
       REMOVED_SECRET      <td>[0.018024862, -0.015684763, -0.062142983, -0.0...</td>\nREMOVED_SECRET,
       REMOVED_SECRET      <td>[0.008137982, 0.009916707, -0.07349886, -0.013...</td>\nREMOVED_SECRET,
       REMOVED_SECRET    </tr>\nREMOVED_SECRET,
       REMOVED_SECRET    <tr>\nREMOVED_SECRET,
       REMOVED_SECRET      <th>...</th>\nREMOVED_SECRET,
       REMOVED_SECRET      <td>...</td>\nREMOVED_SECRET,
       REMOVED_SECRET      <td>...</td>\nREMOVED_SECRET,
       REMOVED_SECRET      <td>...</td>\nREMOVED_SECRET,
       REMOVED_SECRET      <td>...</td>\nREMOVED_SECRET,
       REMOVED_SECRET    </tr>\nREMOVED_SECRET,
       REMOVED_SECRET    <tr>\nREMOVED_SECRET,
       REMOVED_SECRET      <th>991</th>\nREMOVED_SECRET,
       REMOVED_SECRET      <td>ruimen smart watches for men women answermake ...</td>\nREMOVED_SECRET,
       REMOVED_SECRET      <td>ruimen relojes inteligentes para hombres mujer...</td>\nREMOVED_SECRET,
       REMOVED_SECRET      <td>[-0.022698322, 0.004262252, -0.06492456, -0.01...</td>\nREMOVED_SECRET,
       REMOVED_SECRET      <td>[-0.015060791, 0.010321501, -0.057668064, -0.0...</td>\nREMOVED_SECRET,
       REMOVED_SECRET    </tr>\nREMOVED_SECRET,
       REMOVED_SECRET    <tr>\nREMOVED_SECRET,
       REMOVED_SECRET      <th>992</th>\nREMOVED_SECRET,
       REMOVED_SECRET      <td>musicozy sleep headphones bluetooth 54 headban...</td>\nREMOVED_SECRET,
       REMOVED_SECRET      <td>auriculares musicozy sueño bluetooth 54 diadem...</td>\nREMOVED_SECRET,
       REMOVED_SECRET      <td>[-0.0110038, 0.028441783, -0.065515295, 0.0328...</td>\nREMOVED_SECRET,
       REMOVED_SECRET      <td>[0.006726083, 0.042338137, -0.0548927, 0.00642...</td>\nREMOVED_SECRET,
       REMOVED_SECRET    </tr>\nREMOVED_SECRET,
       REMOVED_SECRET    <tr>\nREMOVED_SECRET,
       REMOVED_SECRET      <th>993</th>\nREMOVED_SECRET,
       REMOVED_SECRET      <td>sun ninja pop up beach tent sun shelter upf50 ...</td>\nREMOVED_SECRET,
       REMOVED_SECRET      <td>sun ninja pop up playa refugio de sol upf50 co...</td>\nREMOVED_SECRET,
       REMOVED_SECRET      <td>[-0.018024122, -0.008911157, -0.09137453, 0.00...</td>\nREMOVED_SECRET,
       REMOVED_SECRET      <td>[-0.0045234896, 0.003032705, -0.079418756, 0.0...</td>\nREMOVED_SECRET,
       REMOVED_SECRET    </tr>\nREMOVED_SECRET,
       REMOVED_SECRET    <tr>\nREMOVED_SECRET,
       REMOVED_SECRET      <th>994</th>\nREMOVED_SECRET,
       REMOVED_SECRET      <td>rhino usa trailer hitch pin 2 inch patented 58...</td>\nREMOVED_SECRET,
       REMOVED_SECRET      <td>enganche de remolque de rinoceronte usa pin de...</td>\nREMOVED_SECRET,
       REMOVED_SECRET      <td>[-0.011390688, -0.004701349, -0.009233302, 0.0...</td>\nREMOVED_SECRET,
       REMOVED_SECRET      <td>[0.023057196, 0.013233271, 0.0004464224, 0.017...</td>\nREMOVED_SECRET,
       REMOVED_SECRET    </tr>\nREMOVED_SECRET,
       REMOVED_SECRET    <tr>\nREMOVED_SECRET,
       REMOVED_SECRET      <th>995</th>\nREMOVED_SECRET,
       REMOVED_SECRET      <td>sun ninja pop up beach tent sun shelter upf50 ...</td>\nREMOVED_SECRET,
       REMOVED_SECRET      <td>sun ninja pop up playa tienda refugio de sol u...</td>\nREMOVED_SECRET,
       REMOVED_SECRET      <td>[-0.010519517, -0.017002273, -0.08655271, 0.01...</td>\nREMOVED_SECRET,
       REMOVED_SECRET      <td>[-0.0049236235, -0.005282401, -0.06757761, 0.0...</td>\nREMOVED_SECRET,
       REMOVED_SECRET    </tr>\nREMOVED_SECRET,
       REMOVED_SECRET  </tbody>\nREMOVED_SECRET,
       REMOVED_SECRET</table>\nREMOVED_SECRET,
       REMOVED_SECRET<p>996 rows × 4 columns</p>\nREMOVED_SECRET,
       REMOVED_SECRET</div>REMOVED_SECRET
      ],
      REMOVED_SECRETtext/plainREMOVED_SECRET: [
       REMOVED_SECRET                                                 title  \\\nREMOVED_SECRET,
       REMOVED_SECRET0    brother genuine high yield toner cartridge tn4...   \nREMOVED_SECRET,
       REMOVED_SECRET1    fitbit inspire 3 health and fitness tracker wi...   \nREMOVED_SECRET,
       REMOVED_SECRET2    mikes hot honey americas 1 brand of hot honey ...   \nREMOVED_SECRET,
       REMOVED_SECRET3           krema kréma red fruits 100 recyclable 240g   \nREMOVED_SECRET,
       REMOVED_SECRET4    drsalts calming therapy epsom salts  soothing ...   \nREMOVED_SECRET,
       REMOVED_SECRET..                                                 ...   \nREMOVED_SECRET,
       REMOVED_SECRET991  ruimen smart watches for men women answermake ...   \nREMOVED_SECRET,
       REMOVED_SECRET992  musicozy sleep headphones bluetooth 54 headban...   \nREMOVED_SECRET,
       REMOVED_SECRET993  sun ninja pop up beach tent sun shelter upf50 ...   \nREMOVED_SECRET,
       REMOVED_SECRET994  rhino usa trailer hitch pin 2 inch patented 58...   \nREMOVED_SECRET,
       REMOVED_SECRET995  sun ninja pop up beach tent sun shelter upf50 ...   \nREMOVED_SECRET,
       REMOVED_SECRET\nREMOVED_SECRET,
       REMOVED_SECRET                                         title_spanish  \\\nREMOVED_SECRET,
       REMOVED_SECRET0    hermano genuino cartucho tóner de alto rendimi...   \nREMOVED_SECRET,
       REMOVED_SECRET1    fitbit inspirar 3 seguimiento de salud y fitne...   \nREMOVED_SECRET,
       REMOVED_SECRET2    mikes miel caliente américas 1 marca de miel c...   \nREMOVED_SECRET,
       REMOVED_SECRET3        krema kréma frutos rojos 100 reciclables 240g   \nREMOVED_SECRET,
       REMOVED_SECRET4    drsalts calmante terapia epsom sales calmantes...   \nREMOVED_SECRET,
       REMOVED_SECRET..                                                 ...   \nREMOVED_SECRET,
       REMOVED_SECRET991  ruimen relojes inteligentes para hombres mujer...   \nREMOVED_SECRET,
       REMOVED_SECRET992  auriculares musicozy sueño bluetooth 54 diadem...   \nREMOVED_SECRET,
       REMOVED_SECRET993  sun ninja pop up playa refugio de sol upf50 co...   \nREMOVED_SECRET,
       REMOVED_SECRET994  enganche de remolque de rinoceronte usa pin de...   \nREMOVED_SECRET,
       REMOVED_SECRET995  sun ninja pop up playa tienda refugio de sol u...   \nREMOVED_SECRET,
       REMOVED_SECRET\nREMOVED_SECRET,
       REMOVED_SECRET                                     english_embedding  \\\nREMOVED_SECRET,
       REMOVED_SECRET0    [-0.03431117, 0.025899883, -0.00967014, -0.019...   \nREMOVED_SECRET,
       REMOVED_SECRET1    [-0.0016011602, -0.002595037, -0.07348455, 0.0...   \nREMOVED_SECRET,
       REMOVED_SECRET2    [-0.0004525112, -0.009976895, -0.015700651, 0....   \nREMOVED_SECRET,
       REMOVED_SECRET3    [-0.011189645, 0.033041686, -0.005376764, -0.0...   \nREMOVED_SECRET,
       REMOVED_SECRET4    [0.018024862, -0.015684763, -0.062142983, -0.0...   \nREMOVED_SECRET,
       REMOVED_SECRET..                                                 ...   \nREMOVED_SECRET,
       REMOVED_SECRET991  [-0.022698322, 0.004262252, -0.06492456, -0.01...   \nREMOVED_SECRET,
       REMOVED_SECRET992  [-0.0110038, 0.028441783, -0.065515295, 0.0328...   \nREMOVED_SECRET,
       REMOVED_SECRET993  [-0.018024122, -0.008911157, -0.09137453, 0.00...   \nREMOVED_SECRET,
       REMOVED_SECRET994  [-0.011390688, -0.004701349, -0.009233302, 0.0...   \nREMOVED_SECRET,
       REMOVED_SECRET995  [-0.010519517, -0.017002273, -0.08655271, 0.01...   \nREMOVED_SECRET,
       REMOVED_SECRET\nREMOVED_SECRET,
       REMOVED_SECRET                                     spanish_embedding  \nREMOVED_SECRET,
       REMOVED_SECRET0    [0.012239528, 0.02652684, 0.002397126, -0.0288...  \nREMOVED_SECRET,
       REMOVED_SECRET1    [-0.011861571, -0.009732766, -0.06545575, -0.0...  \nREMOVED_SECRET,
       REMOVED_SECRET2    [-0.031901788, 0.017521167, -0.04371976, 0.039...  \nREMOVED_SECRET,
       REMOVED_SECRET3    [-0.013215443, 0.0015486346, -0.020853952, -0....  \nREMOVED_SECRET,
       REMOVED_SECRET4    [0.008137982, 0.009916707, -0.07349886, -0.013...  \nREMOVED_SECRET,
       REMOVED_SECRET..                                                 ...  \nREMOVED_SECRET,
       REMOVED_SECRET991  [-0.015060791, 0.010321501, -0.057668064, -0.0...  \nREMOVED_SECRET,
       REMOVED_SECRET992  [0.006726083, 0.042338137, -0.0548927, 0.00642...  \nREMOVED_SECRET,
       REMOVED_SECRET993  [-0.0045234896, 0.003032705, -0.079418756, 0.0...  \nREMOVED_SECRET,
       REMOVED_SECRET994  [0.023057196, 0.013233271, 0.0004464224, 0.017...  \nREMOVED_SECRET,
       REMOVED_SECRET995  [-0.0049236235, -0.005282401, -0.06757761, 0.0...  \nREMOVED_SECRET,
       REMOVED_SECRET\nREMOVED_SECRET,
       REMOVED_SECRET[996 rows x 4 columns]REMOVED_SECRET
      ]
     },
     REMOVED_SECRETexecution_countREMOVED_SECRET: 38,
     REMOVED_SECRETmetadataREMOVED_SECRET: {},
     REMOVED_SECREToutput_typeREMOVED_SECRET: REMOVED_SECRETexecute_resultREMOVED_SECRET
    }
   ],
   REMOVED_SECRETsourceREMOVED_SECRET: [
    REMOVED_SECRET#Read the Spanish Embeddings\nREMOVED_SECRET,
    REMOVED_SECRETimport pandas as pd\nREMOVED_SECRET,
    REMOVED_SECRETspanish_embeddings = pd.read_pickle(\REMOVED_SECRETen_to_sp_embeddings.pkl\REMOVED_SECRET)\nREMOVED_SECRET,
    REMOVED_SECRETspanish_embeddingsREMOVED_SECRET
   ]
  },
  {
   REMOVED_SECRETcell_typeREMOVED_SECRET: REMOVED_SECRETcodeREMOVED_SECRET,
   REMOVED_SECRETexecution_countREMOVED_SECRET: 39,
   REMOVED_SECRETmetadataREMOVED_SECRET: {},
   REMOVED_SECREToutputsREMOVED_SECRET: [],
   REMOVED_SECRETsourceREMOVED_SECRET: [
    REMOVED_SECRET#Building BM25 for Spanish\nREMOVED_SECRET,
    REMOVED_SECRETentoes_english_titles = spanish_embeddings['title']\nREMOVED_SECRET,
    REMOVED_SECRETentoes_spanish_titles = spanish_embeddings['title_spanish']\nREMOVED_SECRET,
    REMOVED_SECRET\nREMOVED_SECRET,
    REMOVED_SECRETentoes_tokenized_en = [title.split() for title in entoes_english_titles]\nREMOVED_SECRET,
    REMOVED_SECRETentoes_tokenized_es = [title.split() for title in entoes_spanish_titles]\nREMOVED_SECRET,
    REMOVED_SECRET\nREMOVED_SECRET,
    REMOVED_SECRETfrom rank_bm25 import BM25Okapi\nREMOVED_SECRET,
    REMOVED_SECRET\nREMOVED_SECRET,
    REMOVED_SECRETbm25_en = BM25Okapi(entoes_tokenized_en)\nREMOVED_SECRET,
    REMOVED_SECRETbm25_es = BM25Okapi(entoes_tokenized_es)REMOVED_SECRET
   ]
  },
  {
   REMOVED_SECRETcell_typeREMOVED_SECRET: REMOVED_SECRETcodeREMOVED_SECRET,
   REMOVED_SECRETexecution_countREMOVED_SECRET: 40,
   REMOVED_SECRETmetadataREMOVED_SECRET: {},
   REMOVED_SECREToutputsREMOVED_SECRET: [],
   REMOVED_SECRETsourceREMOVED_SECRET: [
    REMOVED_SECRET#This function is especially made for en and es, need to be redeclared for en and es\nREMOVED_SECRET,
    REMOVED_SECRETdef search(query, lang='en', top_k=5):\nREMOVED_SECRET,
    REMOVED_SECRET    tokens = query.lower().split()\nREMOVED_SECRET,
    REMOVED_SECRET    if lang == 'en':\nREMOVED_SECRET,
    REMOVED_SECRET        scores = bm25_en.get_scores(tokens)\nREMOVED_SECRET,
    REMOVED_SECRET    else:\nREMOVED_SECRET,
    REMOVED_SECRET        scores = bm25_es.get_scores(tokens)\nREMOVED_SECRET,
    REMOVED_SECRET    \nREMOVED_SECRET,
    REMOVED_SECRET    top_k_ids = sorted(range(len(scores)), key=lambda i: scores[i], reverse=True)[:top_k]\nREMOVED_SECRET,
    REMOVED_SECRET    return top_k_ids, [scores[i] for i in top_k_ids]REMOVED_SECRET
   ]
  },
  {
   REMOVED_SECRETcell_typeREMOVED_SECRET: REMOVED_SECRETcodeREMOVED_SECRET,
   REMOVED_SECRETexecution_countREMOVED_SECRET: 41,
   REMOVED_SECRETmetadataREMOVED_SECRET: {},
   REMOVED_SECREToutputsREMOVED_SECRET: [],
   REMOVED_SECRETsourceREMOVED_SECRET: [
    REMOVED_SECRETfrom langdetect import detect\nREMOVED_SECRET,
    REMOVED_SECRET#This function is made for en and es\nREMOVED_SECRET,
    REMOVED_SECRETdef search_bm25(query, top_k=5):\nREMOVED_SECRET,
    REMOVED_SECRET    lang = detect(query)  # auto-detect 'en', 'es', etc.\nREMOVED_SECRET,
    REMOVED_SECRET    tokens = query.lower().split()  # simple tokenization\nREMOVED_SECRET,
    REMOVED_SECRET\nREMOVED_SECRET,
    REMOVED_SECRET    if lang == 'es':\nREMOVED_SECRET,
    REMOVED_SECRET        scores = bm25_es.get_scores(tokens)\nREMOVED_SECRET,
    REMOVED_SECRET    else:\nREMOVED_SECRET,
    REMOVED_SECRET        scores = bm25_en.get_scores(tokens)\nREMOVED_SECRET,
    REMOVED_SECRET\nREMOVED_SECRET,
    REMOVED_SECRET    # Get top-k ranked indices\nREMOVED_SECRET,
    REMOVED_SECRET    top_k_ids = sorted(range(len(scores)), key=lambda i: scores[i], reverse=True)[:top_k]\nREMOVED_SECRET,
    REMOVED_SECRET    return top_k_ids, [scores[i] for i in top_k_ids]REMOVED_SECRET
   ]
  },
  {
   REMOVED_SECRETcell_typeREMOVED_SECRET: REMOVED_SECRETcodeREMOVED_SECRET,
   REMOVED_SECRETexecution_countREMOVED_SECRET: 42,
   REMOVED_SECRETmetadataREMOVED_SECRET: {},
   REMOVED_SECREToutputsREMOVED_SECRET: [
    {
     REMOVED_SECRETnameREMOVED_SECRET: REMOVED_SECRETstdoutREMOVED_SECRET,
     REMOVED_SECREToutput_typeREMOVED_SECRET: REMOVED_SECRETstreamREMOVED_SECRET,
     REMOVED_SECRETtextREMOVED_SECRET: [
      REMOVED_SECRET19.4874 | brother genuine high yield toner cartridge tn450 replacement black toner page yield up to 2600 pages\nREMOVED_SECRET,
      REMOVED_SECRET17.1048 | brother genuine tn436 super high yield toner black\nREMOVED_SECRET,
      REMOVED_SECRET13.1930 | compatible toner cartridge replacement for brother tn770 tn770 toner for brother printer hll2370dw l2370dwxl mfcl2750dw l2750dwxl 4500 page black 2 pack\nREMOVED_SECRET,
      REMOVED_SECRET6.3196 | lxtek compatible toner cartridge replacement for canon 137 black toner cartridge 137 crg137 to use with imageclass d570 mf232w mf242dw mf240 mf230 mf216n mf236n2 pack 137 black\nREMOVED_SECRET,
      REMOVED_SECRET5.8940 | tokyoink 232xl ink cartridges combo pack replacement for epson 232 xl t232 ink cartridge for expression home xp4200 xp4205 workforce wf2930 wf2950 printer ink cartridge cyan magenta yellow black\nREMOVED_SECRET
     ]
    }
   ],
   REMOVED_SECRETsourceREMOVED_SECRET: [
    REMOVED_SECRETresults, scores = search_bm25(\REMOVED_SECREThermano genuino cartucho\REMOVED_SECRET)\nREMOVED_SECRET,
    REMOVED_SECRET\nREMOVED_SECRET,
    REMOVED_SECRETfor i, score in zip(results, scores):\nREMOVED_SECRET,
    REMOVED_SECRET    print(f\REMOVED_SECRET{score:.4f} | {spanish_embeddings['title'][i]}\REMOVED_SECRET)REMOVED_SECRET
   ]
  },
  {
   REMOVED_SECRETcell_typeREMOVED_SECRET: REMOVED_SECRETcodeREMOVED_SECRET,
   REMOVED_SECRETexecution_countREMOVED_SECRET: 43,
   REMOVED_SECRETmetadataREMOVED_SECRET: {},
   REMOVED_SECREToutputsREMOVED_SECRET: [],
   REMOVED_SECRETsourceREMOVED_SECRET: [
    REMOVED_SECRETfrom pinecone import Pinecone, ServerlessSpec\nREMOVED_SECRET,
    REMOVED_SECRET\nREMOVED_SECRET,
    REMOVED_SECRET#This is Cheryl's API\nREMOVED_SECRET,
    REMOVED_SECRETpc = Pinecone(api_key=CHERYL_API)REMOVED_SECRET
   ]
  },
  {
   REMOVED_SECRETcell_typeREMOVED_SECRET: REMOVED_SECRETcodeREMOVED_SECRET,
   REMOVED_SECRETexecution_countREMOVED_SECRET: 44,
   REMOVED_SECRETmetadataREMOVED_SECRET: {},
   REMOVED_SECREToutputsREMOVED_SECRET: [],
   REMOVED_SECRETsourceREMOVED_SECRET: [
    REMOVED_SECRET#Initialising Pinecone index\nREMOVED_SECRET,
    REMOVED_SECRET#This is the Index for the ENTOIT\nREMOVED_SECRET,
    REMOVED_SECRETindex = pc.Index('entoes')REMOVED_SECRET
   ]
  },
  {
   REMOVED_SECRETcell_typeREMOVED_SECRET: REMOVED_SECRETcodeREMOVED_SECRET,
   REMOVED_SECRETexecution_countREMOVED_SECRET: 45,
   REMOVED_SECRETmetadataREMOVED_SECRET: {},
   REMOVED_SECREToutputsREMOVED_SECRET: [],
   REMOVED_SECRETsourceREMOVED_SECRET: [
    REMOVED_SECRETen_ids = [f\REMOVED_SECRETen-{i}\REMOVED_SECRET for i in range(len(spanish_embeddings['english_embedding']))]\nREMOVED_SECRET,
    REMOVED_SECRETes_ids = [f\REMOVED_SECRETes-{i}\REMOVED_SECRET for i in range(len(spanish_embeddings['spanish_embedding']))]REMOVED_SECRET
   ]
  },
  {
   REMOVED_SECRETcell_typeREMOVED_SECRET: REMOVED_SECRETcodeREMOVED_SECRET,
   REMOVED_SECRETexecution_countREMOVED_SECRET: 38,
   REMOVED_SECRETmetadataREMOVED_SECRET: {},
   REMOVED_SECREToutputsREMOVED_SECRET: [],
   REMOVED_SECRETsourceREMOVED_SECRET: [
    REMOVED_SECRET# Combine English + Spanish as before\nREMOVED_SECRET,
    REMOVED_SECRETto_upsert = list(zip(en_ids, spanish_embeddings['english_embedding'])) + \\\nREMOVED_SECRET,
    REMOVED_SECRET            list(zip(es_ids, spanish_embeddings['spanish_embedding']))\nREMOVED_SECRET,
    REMOVED_SECRET\nREMOVED_SECRET,
    REMOVED_SECRET# Run batch upload\nREMOVED_SECRET,
    REMOVED_SECRETbatch_upsert(index, to_upsert, batch_size=50)\nREMOVED_SECRET,
    REMOVED_SECRET\nREMOVED_SECRET,
    REMOVED_SECRET\nREMOVED_SECRET,
    REMOVED_SECRET#With this code, the vectorDB has been established for en to it.  REMOVED_SECRET
   ]
  },
  {
   REMOVED_SECRETcell_typeREMOVED_SECRET: REMOVED_SECRETcodeREMOVED_SECRET,
   REMOVED_SECRETexecution_countREMOVED_SECRET: 46,
   REMOVED_SECRETmetadataREMOVED_SECRET: {},
   REMOVED_SECREToutputsREMOVED_SECRET: [],
   REMOVED_SECRETsourceREMOVED_SECRET: [
    REMOVED_SECRETimport numpy as np\nREMOVED_SECRET,
    REMOVED_SECRET\nREMOVED_SECRET,
    REMOVED_SECRETdef scores_to_ranking(scores: list[float]) -> list[int]:\nREMOVED_SECRET,
    REMOVED_SECRET    \REMOVED_SECRET\REMOVED_SECRET\REMOVED_SECRETConvert float scores into int rankings (1 = best).\REMOVED_SECRET\REMOVED_SECRET\REMOVED_SECRET\nREMOVED_SECRET,
    REMOVED_SECRET    return np.argsort(scores)[::-1] + 1  # ranks start at 1\nREMOVED_SECRET,
    REMOVED_SECRET\nREMOVED_SECRET,
    REMOVED_SECRETdef rrf(keyword_rank: int, semantic_rank: int, k: int = 60) -> float:\nREMOVED_SECRET,
    REMOVED_SECRET    \REMOVED_SECRET\REMOVED_SECRET\REMOVED_SECRETCombine keyword rank and semantic rank into a hybrid score using RRF.\REMOVED_SECRET\REMOVED_SECRET\REMOVED_SECRET\nREMOVED_SECRET,
    REMOVED_SECRET    return 1 / (k + keyword_rank) + 1 / (k + semantic_rank)\nREMOVED_SECRET
   ]
  },
  {
   REMOVED_SECRETcell_typeREMOVED_SECRET: REMOVED_SECRETmarkdownREMOVED_SECRET,
   REMOVED_SECRETmetadataREMOVED_SECRET: {},
   REMOVED_SECRETsourceREMOVED_SECRET: [
    REMOVED_SECRETBM25 + BGE SpanishREMOVED_SECRET
   ]
  },
  {
   REMOVED_SECRETcell_typeREMOVED_SECRET: REMOVED_SECRETcodeREMOVED_SECRET,
   REMOVED_SECRETexecution_countREMOVED_SECRET: 47,
   REMOVED_SECRETmetadataREMOVED_SECRET: {},
   REMOVED_SECREToutputsREMOVED_SECRET: [],
   REMOVED_SECRETsourceREMOVED_SECRET: [
    REMOVED_SECRETdef hybrid_search_rrf(query, top_k=5):\nREMOVED_SECRET,
    REMOVED_SECRET\nREMOVED_SECRET,
    REMOVED_SECRET    #To detect the language from the query\nREMOVED_SECRET,
    REMOVED_SECRET    from langdetect import detect\nREMOVED_SECRET,
    REMOVED_SECRET\nREMOVED_SECRET,
    REMOVED_SECRET    lang = detect(query)\nREMOVED_SECRET,
    REMOVED_SECRET    #tokenising the query to be suitable for BM25\nREMOVED_SECRET,
    REMOVED_SECRET    tokens = query.lower().split()\nREMOVED_SECRET,
    REMOVED_SECRET\nREMOVED_SECRET,
    REMOVED_SECRET    # --- BM25 Retrieval ---(Routes the tokenized query to the appropiate BM25 engine)\nREMOVED_SECRET,
    REMOVED_SECRET    if lang == 'es':\nREMOVED_SECRET,
    REMOVED_SECRET        bm25_scores = bm25_es.get_scores(tokens)\nREMOVED_SECRET,
    REMOVED_SECRET    else:\nREMOVED_SECRET,
    REMOVED_SECRET        bm25_scores = bm25_en.get_scores(tokens) #returns a list of scores, one for each document in the dataset\nREMOVED_SECRET,
    REMOVED_SECRET\nREMOVED_SECRET,
    REMOVED_SECRET    bm25_ranks = scores_to_ranking(bm25_scores)  #Converts the float BM25 scores to rankings for Reciprocal rank fusion(rrf)\nREMOVED_SECRET,
    REMOVED_SECRET\nREMOVED_SECRET,
    REMOVED_SECRET    # --- Semantic Retrieval (Pinecone) ---\nREMOVED_SECRET,
    REMOVED_SECRET    query_vec = model.encode(query).tolist() #generate the query's embedding and convert it a list\nREMOVED_SECRET,
    REMOVED_SECRET    pinecone_results = index.query(vector=query_vec, top_k=top_k, include_metadata=False) #Submits the query vector to Pinecone to retrieve top-k similar vectors, based on cosine similarity\nREMOVED_SECRET,
    REMOVED_SECRET\nREMOVED_SECRET,
    REMOVED_SECRET    pinecone_ids = [int(match['id'].split('-')[1]) for match in pinecone_results['matches']] #extracts og row index from pinecone's ID\nREMOVED_SECRET,
    REMOVED_SECRET    pinecone_scores = [match['score'] for match in pinecone_results['matches']] #Obtain cosine similarity scores from pinecone\nREMOVED_SECRET,
    REMOVED_SECRET    semantic_ranks = scores_to_ranking(pinecone_scores) #Converting pinecone scores to ranks (lower rank = better match)\nREMOVED_SECRET,
    REMOVED_SECRET\nREMOVED_SECRET,
    REMOVED_SECRET    # --- Combine using RRF ---\nREMOVED_SECRET,
    REMOVED_SECRET    combined_scores = {} #placeholder to store RRF combined scores for each shortlisted document\nREMOVED_SECRET,
    REMOVED_SECRET    for idx in pinecone_ids:\nREMOVED_SECRET,
    REMOVED_SECRET        #For each doc idx returned by pinecone\nREMOVED_SECRET,
    REMOVED_SECRET        # Retrieve the BM25 rank and semantic rank, and using rrf function defined on prev cell to combine them into one score\nREMOVED_SECRET,
    REMOVED_SECRET        rrf_score = rrf(\nREMOVED_SECRET,
    REMOVED_SECRET            keyword_rank=bm25_ranks[idx],\nREMOVED_SECRET,
    REMOVED_SECRET            semantic_rank=semantic_ranks[pinecone_ids.index(idx)]\nREMOVED_SECRET,
    REMOVED_SECRET        )\nREMOVED_SECRET,
    REMOVED_SECRET        combined_scores[idx] = rrf_score\nREMOVED_SECRET,
    REMOVED_SECRET\nREMOVED_SECRET,
    REMOVED_SECRET    # Sort by RRF score\nREMOVED_SECRET,
    REMOVED_SECRET    ranked = sorted(combined_scores.items(), key=lambda x: x[1], reverse=True)  #Sorting the docs by their RRF score, with the highest first.\nREMOVED_SECRET,
    REMOVED_SECRET\nREMOVED_SECRET,
    REMOVED_SECRET    return ranked[:top_k]  # list of (doc_id, final_score)\nREMOVED_SECRET
   ]
  },
  {
   REMOVED_SECRETcell_typeREMOVED_SECRET: REMOVED_SECRETcodeREMOVED_SECRET,
   REMOVED_SECRETexecution_countREMOVED_SECRET: 48,
   REMOVED_SECRETmetadataREMOVED_SECRET: {},
   REMOVED_SECREToutputsREMOVED_SECRET: [
    {
     REMOVED_SECRETnameREMOVED_SECRET: REMOVED_SECRETstdoutREMOVED_SECRET,
     REMOVED_SECREToutput_typeREMOVED_SECRET: REMOVED_SECRETstreamREMOVED_SECRET,
     REMOVED_SECRETtextREMOVED_SECRET: [
      REMOVED_SECRET0.0194 | simplicity creative patterns sleeves for tops vest jackets coats a 10121416182022\nREMOVED_SECRET,
      REMOVED_SECRET0.0189 | fit  fresh lunch bag for women insulated womens lunch bag for work leakproof  stainresistant large lunch box for women with containers tumbler  ice pack zipper closure wichita bag palm leaves\nREMOVED_SECRET,
      REMOVED_SECRET0.0166 | artelaris lunch backpack for women stylish insulated backpack for women waterproof travel backpack lunch bag womens cooler backpack lunchbox backpack for teacher nurse work picnic book bag\nREMOVED_SECRET
     ]
    }
   ],
   REMOVED_SECRETsourceREMOVED_SECRET: [
    REMOVED_SECRET#Testing phase\nREMOVED_SECRET,
    REMOVED_SECRET\nREMOVED_SECRET,
    REMOVED_SECRETresults = hybrid_search_rrf(\REMOVED_SECRETchaqueta de mujer\REMOVED_SECRET)\nREMOVED_SECRET,
    REMOVED_SECRET\nREMOVED_SECRET,
    REMOVED_SECRETfor idx, score in results:\nREMOVED_SECRET,
    REMOVED_SECRET    print(f\REMOVED_SECRET{score:.4f} | {spanish_embeddings['title'][idx]}\REMOVED_SECRET)REMOVED_SECRET
   ]
  },
  {
   REMOVED_SECRETcell_typeREMOVED_SECRET: REMOVED_SECRETmarkdownREMOVED_SECRET,
   REMOVED_SECRETmetadataREMOVED_SECRET: {},
   REMOVED_SECRETsourceREMOVED_SECRET: [
    REMOVED_SECRETBM25 Alone SpanishREMOVED_SECRET
   ]
  },
  {
   REMOVED_SECRETcell_typeREMOVED_SECRET: REMOVED_SECRETcodeREMOVED_SECRET,
   REMOVED_SECRETexecution_countREMOVED_SECRET: 51,
   REMOVED_SECRETmetadataREMOVED_SECRET: {},
   REMOVED_SECREToutputsREMOVED_SECRET: [],
   REMOVED_SECRETsourceREMOVED_SECRET: [
    REMOVED_SECRETdef BM25(query, top_k=5):\nREMOVED_SECRET,
    REMOVED_SECRET    #To detect the language from the query\nREMOVED_SECRET,
    REMOVED_SECRET    from langdetect import detect\nREMOVED_SECRET,
    REMOVED_SECRET    lang = detect(query)\nREMOVED_SECRET,
    REMOVED_SECRET    tokens = query.lower().split()\nREMOVED_SECRET,
    REMOVED_SECRET\nREMOVED_SECRET,
    REMOVED_SECRET    # Score retrieval\nREMOVED_SECRET,
    REMOVED_SECRET    if lang == 'es':\nREMOVED_SECRET,
    REMOVED_SECRET        bm25_scores = bm25_es.get_scores(tokens)\nREMOVED_SECRET,
    REMOVED_SECRET    else:\nREMOVED_SECRET,
    REMOVED_SECRET        bm25_scores = bm25_en.get_scores(tokens)\nREMOVED_SECRET,
    REMOVED_SECRET\nREMOVED_SECRET,
    REMOVED_SECRET    bm25_ranks = scores_to_ranking(bm25_scores)  #Converts the float BM25 scores to rankings for Reciprocal rank fusion(rrf)\nREMOVED_SECRET,
    REMOVED_SECRET\nREMOVED_SECRET,
    REMOVED_SECRET    # Sort by RRF score\nREMOVED_SECRET,
    REMOVED_SECRET    top_k_ids = sorted(range(len(bm25_scores)), key=lambda i: bm25_scores[i], reverse=True)[:top_k]  #Sorting the docs by their RRF score, with the highest first.\nREMOVED_SECRET,
    REMOVED_SECRET\nREMOVED_SECRET,
    REMOVED_SECRET    return [(i, bm25_scores[i]) for i in top_k_ids]  #Returns a list of (document ID, score) pairs.\nREMOVED_SECRET
   ]
  },
  {
   REMOVED_SECRETcell_typeREMOVED_SECRET: REMOVED_SECRETcodeREMOVED_SECRET,
   REMOVED_SECRETexecution_countREMOVED_SECRET: null,
   REMOVED_SECRETmetadataREMOVED_SECRET: {},
   REMOVED_SECREToutputsREMOVED_SECRET: [],
   REMOVED_SECRETsourceREMOVED_SECRET: [
    REMOVED_SECRET\nREMOVED_SECRET,
    REMOVED_SECRETdef BM25(query, top_k=5):\nREMOVED_SECRET,
    REMOVED_SECRET    \REMOVED_SECRET\REMOVED_SECRET\REMOVED_SECRET\nREMOVED_SECRET,
    REMOVED_SECRET    Perform BM25 keyword search based on query language.\nREMOVED_SECRET,
    REMOVED_SECRET\nREMOVED_SECRET,
    REMOVED_SECRET    Args:\nREMOVED_SECRET,
    REMOVED_SECRET        query (str): The user's search query.\nREMOVED_SECRET,
    REMOVED_SECRET        top_k (int): Number of top documents to return.\nREMOVED_SECRET,
    REMOVED_SECRET\nREMOVED_SECRET,
    REMOVED_SECRET    Returns:\nREMOVED_SECRET,
    REMOVED_SECRET        list of (doc_id, bm25_score)\nREMOVED_SECRET,
    REMOVED_SECRET    \REMOVED_SECRET\REMOVED_SECRET\REMOVED_SECRET\nREMOVED_SECRET,
    REMOVED_SECRET    #To detect the language from the query\nREMOVED_SECRET,
    REMOVED_SECRET    from langdetect import detect\nREMOVED_SECRET,
    REMOVED_SECRET    lang = detect(query)\nREMOVED_SECRET,
    REMOVED_SECRET    tokens = query.lower().split()\nREMOVED_SECRET,
    REMOVED_SECRET\nREMOVED_SECRET,
    REMOVED_SECRET    # Score retrieval\nREMOVED_SECRET,
    REMOVED_SECRET    if lang == 'es':\nREMOVED_SECRET,
    REMOVED_SECRET        bm25_scores = bm25_es.get_scores(tokens)\nREMOVED_SECRET,
    REMOVED_SECRET    else:\nREMOVED_SECRET,
    REMOVED_SECRET        bm25_scores = bm25_en.get_scores(tokens)\nREMOVED_SECRET,
    REMOVED_SECRET\nREMOVED_SECRET,
    REMOVED_SECRET    # Get top-k doc IDs based on raw BM25 scores\nREMOVED_SECRET,
    REMOVED_SECRET    top_k_ids = sorted(range(len(bm25_scores)), key=lambda i: bm25_scores[i], reverse=True)[:top_k]\nREMOVED_SECRET,
    REMOVED_SECRET    \nREMOVED_SECRET,
    REMOVED_SECRET    return [(i, bm25_scores[i]) for i in top_k_ids] #Returns a list of (document ID, score) pairs.REMOVED_SECRET
   ]
  },
  {
   REMOVED_SECRETcell_typeREMOVED_SECRET: REMOVED_SECRETcodeREMOVED_SECRET,
   REMOVED_SECRETexecution_countREMOVED_SECRET: 52,
   REMOVED_SECRETmetadataREMOVED_SECRET: {},
   REMOVED_SECREToutputsREMOVED_SECRET: [
    {
     REMOVED_SECRETnameREMOVED_SECRET: REMOVED_SECRETstdoutREMOVED_SECRET,
     REMOVED_SECREToutput_typeREMOVED_SECRET: REMOVED_SECRETstreamREMOVED_SECRET,
     REMOVED_SECRETtextREMOVED_SECRET: [
      REMOVED_SECRET6.6092 | christian art gifts wide mouth bpafree reusable plastic sports water bottle for men  women inspirational scripture wlocking fliptop lid  carry strap 28 oz\nREMOVED_SECRET,
      REMOVED_SECRET6.4951 | one a day womens active metabolism multivitamin supplement with vitamin a c d e and zinc for immune health support iron calcium folic acid  more 50 count\nREMOVED_SECRET,
      REMOVED_SECRET6.3409 | huefull gua sha facial tools  jade roller set for skin care reduce puffiness and improve wrinkles guasha tool for face gua sha stone self care gift for woman man christmas gifts\nREMOVED_SECRET,
      REMOVED_SECRET6.1578 | smartypants womens multivitamin gummies sugar free biotin methylfolate omega 3 ala vitamin d3 c vitamin b12 b6 vitamin a k  zinc gluten free 60 count 20 day supply\nREMOVED_SECRET,
      REMOVED_SECRET4.8513 | skg smart watch for men women android iphone with alexa builtin  bluetooth callanswermake call 169 fitness tracker with ip68 waterproof 60 sports heart rate spo2 monitor v7 pro\nREMOVED_SECRET
     ]
    }
   ],
   REMOVED_SECRETsourceREMOVED_SECRET: [
    REMOVED_SECRET#Testing phase for BM25\nREMOVED_SECRET,
    REMOVED_SECRET\nREMOVED_SECRET,
    REMOVED_SECRETresults = BM25(\REMOVED_SECRETchaqueta de mujer\REMOVED_SECRET)\nREMOVED_SECRET,
    REMOVED_SECRET\nREMOVED_SECRET,
    REMOVED_SECRETfor idx, score in results:\nREMOVED_SECRET,
    REMOVED_SECRET    print(f\REMOVED_SECRET{score:.4f} | {spanish_embeddings['title'][idx]}\REMOVED_SECRET)REMOVED_SECRET
   ]
  },
  {
   REMOVED_SECRETcell_typeREMOVED_SECRET: REMOVED_SECRETmarkdownREMOVED_SECRET,
   REMOVED_SECRETmetadataREMOVED_SECRET: {},
   REMOVED_SECRETsourceREMOVED_SECRET: [
    REMOVED_SECRETTF-IDF + BGE SpanishREMOVED_SECRET
   ]
  },
  {
   REMOVED_SECRETcell_typeREMOVED_SECRET: REMOVED_SECRETcodeREMOVED_SECRET,
   REMOVED_SECRETexecution_countREMOVED_SECRET: 53,
   REMOVED_SECRETmetadataREMOVED_SECRET: {},
   REMOVED_SECREToutputsREMOVED_SECRET: [],
   REMOVED_SECRETsourceREMOVED_SECRET: [
    REMOVED_SECRET#For both Sparse and Sparse + Dense\nREMOVED_SECRET,
    REMOVED_SECRET\nREMOVED_SECRET,
    REMOVED_SECRETfrom sklearn.feature_extraction.text import TfidfVectorizer\nREMOVED_SECRET,
    REMOVED_SECRET\nREMOVED_SECRET,
    REMOVED_SECRETtfidf_vectorizer_en = TfidfVectorizer()\nREMOVED_SECRET,
    REMOVED_SECRETtfidf_matrix_en = tfidf_vectorizer_en.fit_transform(spanish_embeddings['title'])\nREMOVED_SECRET,
    REMOVED_SECRET\nREMOVED_SECRET,
    REMOVED_SECRETtfidf_vectorizer_es = TfidfVectorizer()\nREMOVED_SECRET,
    REMOVED_SECRETtfidf_matrix_es = tfidf_vectorizer_es.fit_transform(spanish_embeddings['title_spanish'])REMOVED_SECRET
   ]
  },
  {
   REMOVED_SECRETcell_typeREMOVED_SECRET: REMOVED_SECRETcodeREMOVED_SECRET,
   REMOVED_SECRETexecution_countREMOVED_SECRET: 58,
   REMOVED_SECRETmetadataREMOVED_SECRET: {},
   REMOVED_SECREToutputsREMOVED_SECRET: [],
   REMOVED_SECRETsourceREMOVED_SECRET: [
    REMOVED_SECRETdef hybrid_search_tfidf(query, top_k=5):\nREMOVED_SECRET,
    REMOVED_SECRET\nREMOVED_SECRET,
    REMOVED_SECRET    from langdetect import detect\nREMOVED_SECRET,
    REMOVED_SECRET    lang = detect(query)\nREMOVED_SECRET,
    REMOVED_SECRET    \nREMOVED_SECRET,
    REMOVED_SECRET    if lang == 'es':\nREMOVED_SECRET,
    REMOVED_SECRET        query_vec = tfidf_vectorizer_es.transform([query])  # query vector\nREMOVED_SECRET,
    REMOVED_SECRET        similarities = cosine_similarity(query_vec, tfidf_matrix_es)[0]  # cosine similarity with each doc\nREMOVED_SECRET,
    REMOVED_SECRET    else:\nREMOVED_SECRET,
    REMOVED_SECRET        query_vec = tfidf_vectorizer_en.transform([query])\nREMOVED_SECRET,
    REMOVED_SECRET        similarities = cosine_similarity(query_vec, tfidf_matrix_en)[0]  # Cosine similarity for English\nREMOVED_SECRET,
    REMOVED_SECRET\nREMOVED_SECRET,
    REMOVED_SECRET    ranked_indices = np.argsort(similarities)[::-1]\nREMOVED_SECRET,
    REMOVED_SECRET    \nREMOVED_SECRET,
    REMOVED_SECRET    # Return top_k document indices with their similarity scores\nREMOVED_SECRET,
    REMOVED_SECRET    tfidf_rank_map = {int(idx): rank for rank, idx in enumerate(ranked_indices[:top_k], start=1)}\nREMOVED_SECRET,
    REMOVED_SECRET\nREMOVED_SECRET,
    REMOVED_SECRET    # --- Semantic Retrieval (Pinecone) ---\nREMOVED_SECRET,
    REMOVED_SECRET    query_vec = model.encode(query).tolist() \nREMOVED_SECRET,
    REMOVED_SECRET\nREMOVED_SECRET,
    REMOVED_SECRET    pinecone_results = index.query(vector=query_vec, top_k=top_k * 2, include_metadata=False)\nREMOVED_SECRET,
    REMOVED_SECRET\nREMOVED_SECRET,
    REMOVED_SECRET    pinecone_ids = [int(match['id'].split('-')[1]) for match in pinecone_results['matches']]\nREMOVED_SECRET,
    REMOVED_SECRET\nREMOVED_SECRET,
    REMOVED_SECRET    pinecone_scores = [match['score'] for match in pinecone_results['matches']]\nREMOVED_SECRET,
    REMOVED_SECRET\nREMOVED_SECRET,
    REMOVED_SECRET    semantic_ranks = scores_to_ranking(pinecone_scores)\nREMOVED_SECRET,
    REMOVED_SECRET\nREMOVED_SECRET,
    REMOVED_SECRET    semantic_rank_map = {idx: rank for idx, rank in zip(pinecone_ids, semantic_ranks)}\nREMOVED_SECRET,
    REMOVED_SECRET\nREMOVED_SECRET,
    REMOVED_SECRET    # --- Combine using RRF ---\nREMOVED_SECRET,
    REMOVED_SECRET    combined_scores = {}\nREMOVED_SECRET,
    REMOVED_SECRET\nREMOVED_SECRET,
    REMOVED_SECRET    for idx in pinecone_ids:\nREMOVED_SECRET,
    REMOVED_SECRET        rrf_score = rrf(\nREMOVED_SECRET,
    REMOVED_SECRET            keyword_rank=tfidf_rank_map.get(idx, top_k + 1),  # Fallback rank if not found in BM25\nREMOVED_SECRET,
    REMOVED_SECRET            semantic_rank=semantic_rank_map.get(idx, top_k + 1)  # Fallback rank if not found in semantic\nREMOVED_SECRET,
    REMOVED_SECRET        )\nREMOVED_SECRET,
    REMOVED_SECRET        combined_scores[idx] = rrf_score  # Store the fused score\nREMOVED_SECRET,
    REMOVED_SECRET\nREMOVED_SECRET,
    REMOVED_SECRET    ranked = sorted(combined_scores.items(), key=lambda x: x[1], reverse=True)\nREMOVED_SECRET,
    REMOVED_SECRET\nREMOVED_SECRET,
    REMOVED_SECRET    return ranked[:top_k]REMOVED_SECRET
   ]
  },
  {
   REMOVED_SECRETcell_typeREMOVED_SECRET: REMOVED_SECRETcodeREMOVED_SECRET,
   REMOVED_SECRETexecution_countREMOVED_SECRET: 60,
   REMOVED_SECRETmetadataREMOVED_SECRET: {},
   REMOVED_SECREToutputsREMOVED_SECRET: [
    {
     REMOVED_SECRETnameREMOVED_SECRET: REMOVED_SECRETstdoutREMOVED_SECRET,
     REMOVED_SECREToutput_typeREMOVED_SECRET: REMOVED_SECRETstreamREMOVED_SECRET,
     REMOVED_SECRETtextREMOVED_SECRET: [
      REMOVED_SECRET0.0310 | simplicity creative patterns sleeves for tops vest jackets coats a 10121416182022\nREMOVED_SECRET,
      REMOVED_SECRET0.0305 | fit  fresh lunch bag for women insulated womens lunch bag for work leakproof  stainresistant large lunch box for women with containers tumbler  ice pack zipper closure wichita bag palm leaves\nREMOVED_SECRET,
      REMOVED_SECRET0.0301 | artelaris lunch backpack for women stylish insulated backpack for women waterproof travel backpack lunch bag womens cooler backpack lunchbox backpack for teacher nurse work picnic book bag\nREMOVED_SECRET,
      REMOVED_SECRET0.0299 | vlando viaggio small jewelry case box travel essential accessories for women gifts for travelers couples mom friends bridesmaid\nREMOVED_SECRET,
      REMOVED_SECRET0.0296 | indressme cotton basket 17¾ x 15¾ x 13¾ inches woven hamper pink girl basket for gift toy blanket corner basket in living room\nREMOVED_SECRET
     ]
    }
   ],
   REMOVED_SECRETsourceREMOVED_SECRET: [
    REMOVED_SECRET#Testing phase for TFIDF\nREMOVED_SECRET,
    REMOVED_SECRET\nREMOVED_SECRET,
    REMOVED_SECRETresults = hybrid_search_tfidf(\REMOVED_SECRETchaqueta de mujer\REMOVED_SECRET)\nREMOVED_SECRET,
    REMOVED_SECRET\nREMOVED_SECRET,
    REMOVED_SECRETfor idx, score in results:\nREMOVED_SECRET,
    REMOVED_SECRET    print(f\REMOVED_SECRET{score:.4f} | {spanish_embeddings['title'][idx]}\REMOVED_SECRET)REMOVED_SECRET
   ]
  },
  {
   REMOVED_SECRETcell_typeREMOVED_SECRET: REMOVED_SECRETmarkdownREMOVED_SECRET,
   REMOVED_SECRETmetadataREMOVED_SECRET: {},
   REMOVED_SECRETsourceREMOVED_SECRET: [
    REMOVED_SECRETTFIDF Alone SpanishREMOVED_SECRET
   ]
  },
  {
   REMOVED_SECRETcell_typeREMOVED_SECRET: REMOVED_SECRETcodeREMOVED_SECRET,
   REMOVED_SECRETexecution_countREMOVED_SECRET: 61,
   REMOVED_SECRETmetadataREMOVED_SECRET: {},
   REMOVED_SECREToutputsREMOVED_SECRET: [],
   REMOVED_SECRETsourceREMOVED_SECRET: [
    REMOVED_SECRETfrom langdetect import detect\nREMOVED_SECRET,
    REMOVED_SECRETfrom sklearn.metrics.pairwise import cosine_similarity\nREMOVED_SECRET,
    REMOVED_SECRETimport numpy as np\nREMOVED_SECRET,
    REMOVED_SECRET\nREMOVED_SECRET,
    REMOVED_SECRETdef TFIDF(query, top_k=5):\nREMOVED_SECRET,
    REMOVED_SECRET    lang = detect(query)\nREMOVED_SECRET,
    REMOVED_SECRET    \nREMOVED_SECRET,
    REMOVED_SECRET    if lang == 'es':\nREMOVED_SECRET,
    REMOVED_SECRET        query_vec = tfidf_vectorizer_es.transform([query])  # query vector\nREMOVED_SECRET,
    REMOVED_SECRET        similarities = cosine_similarity(query_vec, tfidf_matrix_es)[0]  # cosine similarity with each doc\nREMOVED_SECRET,
    REMOVED_SECRET    else:\nREMOVED_SECRET,
    REMOVED_SECRET        query_vec = tfidf_vectorizer_en.transform([query])\nREMOVED_SECRET,
    REMOVED_SECRET        similarities = cosine_similarity(query_vec, tfidf_matrix_en)[0]\nREMOVED_SECRET,
    REMOVED_SECRET\nREMOVED_SECRET,
    REMOVED_SECRET    # Rank documents by similarity\nREMOVED_SECRET,
    REMOVED_SECRET    ranked_indices = np.argsort(similarities)[::-1]\nREMOVED_SECRET,
    REMOVED_SECRET    \nREMOVED_SECRET,
    REMOVED_SECRET    # Return top_k document indices with their similarity scores\nREMOVED_SECRET,
    REMOVED_SECRET    top_results = [(int(idx), float(similarities[idx])) for idx in ranked_indices[:top_k]]\nREMOVED_SECRET,
    REMOVED_SECRET    \nREMOVED_SECRET,
    REMOVED_SECRET    return top_resultsREMOVED_SECRET
   ]
  },
  {
   REMOVED_SECRETcell_typeREMOVED_SECRET: REMOVED_SECRETcodeREMOVED_SECRET,
   REMOVED_SECRETexecution_countREMOVED_SECRET: 62,
   REMOVED_SECRETmetadataREMOVED_SECRET: {},
   REMOVED_SECREToutputsREMOVED_SECRET: [
    {
     REMOVED_SECRETnameREMOVED_SECRET: REMOVED_SECRETstdoutREMOVED_SECRET,
     REMOVED_SECREToutput_typeREMOVED_SECRET: REMOVED_SECRETstreamREMOVED_SECRET,
     REMOVED_SECRETtextREMOVED_SECRET: [
      REMOVED_SECRET0.2474 | suplemento multivitamínico del metabolismo activo de una mujer al día con vitamina a c d e y zinc para el apoyo de la salud inmune hierro calcio ácido fólico más 50 recuento\nREMOVED_SECRET,
      REMOVED_SECRET0.2248 | skg reloj inteligente para hombres mujer iphone android con alexa incorporado bluetooth callanswermake llamada 169 fitness tracker con ip68 impermeable 60 deportes frecuencia cardíaca spo2 monitor v7 pro\nREMOVED_SECRET,
      REMOVED_SECRET0.2248 | arte cristiano regalos boca ancha bpafree reutilizable plástico deportes botella de agua para los hombres mujer inspiración escritura wlocking fliptop tapa llevar correa 28 oz\nREMOVED_SECRET,
      REMOVED_SECRET0.2034 | smartypants mujer gomas multivitamínicas azúcar libre de biotina metilfolato omega 3 ala vitamina d3 c vitamina b12 b6 vitamina a k zinc sin gluten 60 cuenta 20 días suministro\nREMOVED_SECRET,
      REMOVED_SECRET0.1855 | huefull gua sha herramientas faciales jade juego de rodillos para el cuidado de la piel reducir la hinchazón y mejorar las arrugas guasha herramienta para cara gua sha piedra auto cuidado regalo para mujer hombre regalos de Navidad\nREMOVED_SECRET
     ]
    }
   ],
   REMOVED_SECRETsourceREMOVED_SECRET: [
    REMOVED_SECRET#Testing phase for TFIDF\nREMOVED_SECRET,
    REMOVED_SECRET\nREMOVED_SECRET,
    REMOVED_SECRETresults = TFIDF(\REMOVED_SECRETchaqueta de mujer\REMOVED_SECRET)\nREMOVED_SECRET,
    REMOVED_SECRET\nREMOVED_SECRET,
    REMOVED_SECRETfor idx, score in results:\nREMOVED_SECRET,
    REMOVED_SECRET    print(f\REMOVED_SECRET{score:.4f} | {spanish_embeddings['title_spanish'][idx]}\REMOVED_SECRET)REMOVED_SECRET
   ]
  },
  {
   REMOVED_SECRETcell_typeREMOVED_SECRET: REMOVED_SECRETmarkdownREMOVED_SECRET,
   REMOVED_SECRETmetadataREMOVED_SECRET: {},
   REMOVED_SECRETsourceREMOVED_SECRET: [
    REMOVED_SECRETHybrid Retrieval Phase for CNREMOVED_SECRET
   ]
  },
  {
   REMOVED_SECRETcell_typeREMOVED_SECRET: REMOVED_SECRETcodeREMOVED_SECRET,
   REMOVED_SECRETexecution_countREMOVED_SECRET: 63,
   REMOVED_SECRETmetadataREMOVED_SECRET: {},
   REMOVED_SECREToutputsREMOVED_SECRET: [
    {
     REMOVED_SECRETnameREMOVED_SECRET: REMOVED_SECRETstdoutREMOVED_SECRET,
     REMOVED_SECREToutput_typeREMOVED_SECRET: REMOVED_SECRETstreamREMOVED_SECRET,
     REMOVED_SECRETtextREMOVED_SECRET: [
      REMOVED_SECRETCollecting jieba\nREMOVED_SECRET,
      REMOVED_SECRET  Downloading jieba-0.42.1.tar.gz (19.2 MB)\nREMOVED_SECRET,
      REMOVED_SECRET     ---------------------------------------- 0.0/19.2 MB ? eta -:--:--\nREMOVED_SECRET,
      REMOVED_SECRET     -------- ------------------------------- 4.2/19.2 MB 22.9 MB/s eta 0:00:01\nREMOVED_SECRET,
      REMOVED_SECRET     ---------------- ----------------------- 8.1/19.2 MB 21.0 MB/s eta 0:00:01\nREMOVED_SECRET,
      REMOVED_SECRET     --------------------------- ----------- 13.6/19.2 MB 23.1 MB/s eta 0:00:01\nREMOVED_SECRET,
      REMOVED_SECRET     ------------------------------------- - 18.4/19.2 MB 22.7 MB/s eta 0:00:01\nREMOVED_SECRET,
      REMOVED_SECRET     --------------------------------------- 19.2/19.2 MB 22.0 MB/s eta 0:00:00\nREMOVED_SECRET,
      REMOVED_SECRET  Preparing metadata (setup.py): started\nREMOVED_SECRET,
      REMOVED_SECRET  Preparing metadata (setup.py): finished with status 'done'\nREMOVED_SECRET,
      REMOVED_SECRETBuilding wheels for collected packages: jieba\nREMOVED_SECRET,
      REMOVED_SECRET  Building wheel for jieba (setup.py): started\nREMOVED_SECRET,
      REMOVED_SECRET  Building wheel for jieba (setup.py): finished with status 'done'\nREMOVED_SECRET,
      REMOVED_SECRET  Created wheel for jieba: filename=jieba-0.42.1-py3-none-any.whl size=19314474 sha256=9ccb0c093f291412100b8346be0dc20060156367a2a06fdc0d7598d6f3afb517\nREMOVED_SECRET,
      REMOVED_SECRET  Stored in directory: c:\\users\\charran\\appdata\\local\\pip\\cache\\wheels\\ac\\60\\cf\\538a1f183409caf1fc136b5d2c2dee329001ef6da2c5084bef\nREMOVED_SECRET,
      REMOVED_SECRETSuccessfully built jieba\nREMOVED_SECRET,
      REMOVED_SECRETInstalling collected packages: jieba\nREMOVED_SECRET,
      REMOVED_SECRETSuccessfully installed jieba-0.42.1\nREMOVED_SECRET,
      REMOVED_SECRETNote: you may need to restart the kernel to use updated packages.\nREMOVED_SECRET
     ]
    }
   ],
   REMOVED_SECRETsourceREMOVED_SECRET: [
    REMOVED_SECRETpip install jiebaREMOVED_SECRET
   ]
  },
  {
   REMOVED_SECRETcell_typeREMOVED_SECRET: REMOVED_SECRETcodeREMOVED_SECRET,
   REMOVED_SECRETexecution_countREMOVED_SECRET: 64,
   REMOVED_SECRETmetadataREMOVED_SECRET: {},
   REMOVED_SECREToutputsREMOVED_SECRET: [
    {
     REMOVED_SECRETdataREMOVED_SECRET: {
      REMOVED_SECRETtext/htmlREMOVED_SECRET: [
       REMOVED_SECRET<div>\nREMOVED_SECRET,
       REMOVED_SECRET<style scoped>\nREMOVED_SECRET,
       REMOVED_SECRET    .dataframe tbody tr th:only-of-type {\nREMOVED_SECRET,
       REMOVED_SECRET        vertical-align: middle;\nREMOVED_SECRET,
       REMOVED_SECRET    }\nREMOVED_SECRET,
       REMOVED_SECRET\nREMOVED_SECRET,
       REMOVED_SECRET    .dataframe tbody tr th {\nREMOVED_SECRET,
       REMOVED_SECRET        vertical-align: top;\nREMOVED_SECRET,
       REMOVED_SECRET    }\nREMOVED_SECRET,
       REMOVED_SECRET\nREMOVED_SECRET,
       REMOVED_SECRET    .dataframe thead th {\nREMOVED_SECRET,
       REMOVED_SECRET        text-align: right;\nREMOVED_SECRET,
       REMOVED_SECRET    }\nREMOVED_SECRET,
       REMOVED_SECRET</style>\nREMOVED_SECRET,
       REMOVED_SECRET<table border=\REMOVED_SECRET1\REMOVED_SECRET class=\REMOVED_SECRETdataframe\REMOVED_SECRET>\nREMOVED_SECRET,
       REMOVED_SECRET  <thead>\nREMOVED_SECRET,
       REMOVED_SECRET    <tr style=\REMOVED_SECRETtext-align: right;\REMOVED_SECRET>\nREMOVED_SECRET,
       REMOVED_SECRET      <th></th>\nREMOVED_SECRET,
       REMOVED_SECRET      <th>title</th>\nREMOVED_SECRET,
       REMOVED_SECRET      <th>chinese translation</th>\nREMOVED_SECRET,
       REMOVED_SECRET      <th>english_embedding</th>\nREMOVED_SECRET,
       REMOVED_SECRET      <th>chinese_embedding</th>\nREMOVED_SECRET,
       REMOVED_SECRET    </tr>\nREMOVED_SECRET,
       REMOVED_SECRET  </thead>\nREMOVED_SECRET,
       REMOVED_SECRET  <tbody>\nREMOVED_SECRET,
       REMOVED_SECRET    <tr>\nREMOVED_SECRET,
       REMOVED_SECRET      <th>0</th>\nREMOVED_SECRET,
       REMOVED_SECRET      <td>Oppo A75 A75S A73 Phone Case Soft Rabbit Silic...</td>\nREMOVED_SECRET,
       REMOVED_SECRET      <td>OPPO A75 A75s A73 手机壳 软壳 挂绳壳 大眼兔硅胶壳</td>\nREMOVED_SECRET,
       REMOVED_SECRET      <td>[-0.030606616, 0.010501585, -0.04400219, -0.00...</td>\nREMOVED_SECRET,
       REMOVED_SECRET      <td>[-0.020788355, 0.032136466, -0.03952156, -0.04...</td>\nREMOVED_SECRET,
       REMOVED_SECRET    </tr>\nREMOVED_SECRET,
       REMOVED_SECRET    <tr>\nREMOVED_SECRET,
       REMOVED_SECRET      <th>1</th>\nREMOVED_SECRET,
       REMOVED_SECRET      <td>SOFT 99 Coating Car Wax Strong Water Watt</td>\nREMOVED_SECRET,
       REMOVED_SECRET      <td>SOFT 99 鍍膜車蠟(強力撥水型)</td>\nREMOVED_SECRET,
       REMOVED_SECRET      <td>[-0.02521394, -0.0062141055, -0.02523462, -0.0...</td>\nREMOVED_SECRET,
       REMOVED_SECRET      <td>[-0.013580757, -0.013445883, 0.013568486, -0.0...</td>\nREMOVED_SECRET,
       REMOVED_SECRET    </tr>\nREMOVED_SECRET,
       REMOVED_SECRET    <tr>\nREMOVED_SECRET,
       REMOVED_SECRET      <th>2</th>\nREMOVED_SECRET,
       REMOVED_SECRET      <td>Low Sugar Mango Dry 250g Be The Royal</td>\nREMOVED_SECRET,
       REMOVED_SECRET      <td>低糖芒果乾 250g 臻御行</td>\nREMOVED_SECRET,
       REMOVED_SECRET      <td>[-0.06998538, 0.025515176, -0.006934945, -0.02...</td>\nREMOVED_SECRET,
       REMOVED_SECRET      <td>[-0.056555215, 0.015317621, 0.0015813652, -0.0...</td>\nREMOVED_SECRET,
       REMOVED_SECRET    </tr>\nREMOVED_SECRET,
       REMOVED_SECRET    <tr>\nREMOVED_SECRET,
       REMOVED_SECRET      <th>3</th>\nREMOVED_SECRET,
       REMOVED_SECRET      <td>* the culture Japan Imported Round Top Space C...</td>\nREMOVED_SECRET,
       REMOVED_SECRET      <td>＊小徑文化＊日本進口ROUND TOP space craft - diamond (SC-...</td>\nREMOVED_SECRET,
       REMOVED_SECRET      <td>[-0.003708915, 0.024768945, -0.062792934, 0.02...</td>\nREMOVED_SECRET,
       REMOVED_SECRET      <td>[-0.018781146, 0.033165023, -0.05913993, 0.019...</td>\nREMOVED_SECRET,
       REMOVED_SECRET    </tr>\nREMOVED_SECRET,
       REMOVED_SECRET    <tr>\nREMOVED_SECRET,
       REMOVED_SECRET      <th>4</th>\nREMOVED_SECRET,
       REMOVED_SECRET      <td>Hello Kitty Sandals Shoes White/Red Children n...</td>\nREMOVED_SECRET,
       REMOVED_SECRET      <td>Hello Kitty 凱蒂貓 KITTY 涼鞋 童鞋 白/紅色 小童 no739</td>\nREMOVED_SECRET,
       REMOVED_SECRET      <td>[-0.019042147, 0.031313036, -0.06666778, 0.049...</td>\nREMOVED_SECRET,
       REMOVED_SECRET      <td>[-0.043943617, 0.021419879, -0.059569906, 0.03...</td>\nREMOVED_SECRET,
       REMOVED_SECRET    </tr>\nREMOVED_SECRET,
       REMOVED_SECRET    <tr>\nREMOVED_SECRET,
       REMOVED_SECRET      <th>...</th>\nREMOVED_SECRET,
       REMOVED_SECRET      <td>...</td>\nREMOVED_SECRET,
       REMOVED_SECRET      <td>...</td>\nREMOVED_SECRET,
       REMOVED_SECRET      <td>...</td>\nREMOVED_SECRET,
       REMOVED_SECRET      <td>...</td>\nREMOVED_SECRET,
       REMOVED_SECRET    </tr>\nREMOVED_SECRET,
       REMOVED_SECRET    <tr>\nREMOVED_SECRET,
       REMOVED_SECRET      <th>995</th>\nREMOVED_SECRET,
       REMOVED_SECRET      <td>Hippored Torn Fun Unique Style Straight Jeans ...</td>\nREMOVED_SECRET,
       REMOVED_SECRET      <td>【HippoRed】撕破乐趣★独特风格★中直筒牛仔裤 O591_445</td>\nREMOVED_SECRET,
       REMOVED_SECRET      <td>[-0.015312562, 0.002696402, -0.046150953, 0.00...</td>\nREMOVED_SECRET,
       REMOVED_SECRET      <td>[-0.04397009, -0.013235806, -0.034632586, 0.03...</td>\nREMOVED_SECRET,
       REMOVED_SECRET    </tr>\nREMOVED_SECRET,
       REMOVED_SECRET    <tr>\nREMOVED_SECRET,
       REMOVED_SECRET      <th>996</th>\nREMOVED_SECRET,
       REMOVED_SECRET      <td>Kids Set Table Bay - Thin Long Sleeve Home Sui...</td>\nREMOVED_SECRET,
       REMOVED_SECRET      <td>兒童套裝 台灣製薄長袖居家套裝 魔法Baby~k60092</td>\nREMOVED_SECRET,
       REMOVED_SECRET      <td>[-0.00460147, 0.029976973, -0.080628425, 0.003...</td>\nREMOVED_SECRET,
       REMOVED_SECRET      <td>[0.00086109334, 0.012746421, -0.04744607, 0.00...</td>\nREMOVED_SECRET,
       REMOVED_SECRET    </tr>\nREMOVED_SECRET,
       REMOVED_SECRET    <tr>\nREMOVED_SECRET,
       REMOVED_SECRET      <th>997</th>\nREMOVED_SECRET,
       REMOVED_SECRET      <td>LONGCHAMP Le Pliage Neo High Density Nylon Bac...</td>\nREMOVED_SECRET,
       REMOVED_SECRET      <td>LONGCHAMP Le Pliage Neo高密尼龍後背包(中型)</td>\nREMOVED_SECRET,
       REMOVED_SECRET      <td>[-0.025269749, -0.050276544, -0.059641942, -0....</td>\nREMOVED_SECRET,
       REMOVED_SECRET      <td>[-0.0399163, -0.031578567, -0.04178574, 0.0254...</td>\nREMOVED_SECRET,
       REMOVED_SECRET    </tr>\nREMOVED_SECRET,
       REMOVED_SECRET    <tr>\nREMOVED_SECRET,
       REMOVED_SECRET      <th>998</th>\nREMOVED_SECRET,
       REMOVED_SECRET      <td>IFairies Opening Adjustable Ring ifairies [564...</td>\nREMOVED_SECRET,
       REMOVED_SECRET      <td>iFairies 開口可調節戒指★ifairies【56472】【56472】</td>\nREMOVED_SECRET,
       REMOVED_SECRET      <td>[0.018464142, 0.016518341, -0.034174442, 0.007...</td>\nREMOVED_SECRET,
       REMOVED_SECRET      <td>[0.029656759, 0.03718795, -0.042785533, -0.027...</td>\nREMOVED_SECRET,
       REMOVED_SECRET    </tr>\nREMOVED_SECRET,
       REMOVED_SECRET    <tr>\nREMOVED_SECRET,
       REMOVED_SECRET      <th>999</th>\nREMOVED_SECRET,
       REMOVED_SECRET      <td>PolarStar Women Sweat Quick Dry T-shirt Black ...</td>\nREMOVED_SECRET,
       REMOVED_SECRET      <td>PolarStar 女 排汗快干T恤『黑』P18102</td>\nREMOVED_SECRET,
       REMOVED_SECRET      <td>[-0.015415181, 0.011347521, -0.09535644, -0.01...</td>\nREMOVED_SECRET,
       REMOVED_SECRET      <td>[0.029322254, -0.00047185787, -0.0952496, -0.0...</td>\nREMOVED_SECRET,
       REMOVED_SECRET    </tr>\nREMOVED_SECRET,
       REMOVED_SECRET  </tbody>\nREMOVED_SECRET,
       REMOVED_SECRET</table>\nREMOVED_SECRET,
       REMOVED_SECRET<p>1000 rows × 4 columns</p>\nREMOVED_SECRET,
       REMOVED_SECRET</div>REMOVED_SECRET
      ],
      REMOVED_SECRETtext/plainREMOVED_SECRET: [
       REMOVED_SECRET                                                 title  \\\nREMOVED_SECRET,
       REMOVED_SECRET0    Oppo A75 A75S A73 Phone Case Soft Rabbit Silic...   \nREMOVED_SECRET,
       REMOVED_SECRET1            SOFT 99 Coating Car Wax Strong Water Watt   \nREMOVED_SECRET,
       REMOVED_SECRET2                Low Sugar Mango Dry 250g Be The Royal   \nREMOVED_SECRET,
       REMOVED_SECRET3    * the culture Japan Imported Round Top Space C...   \nREMOVED_SECRET,
       REMOVED_SECRET4    Hello Kitty Sandals Shoes White/Red Children n...   \nREMOVED_SECRET,
       REMOVED_SECRET..                                                 ...   \nREMOVED_SECRET,
       REMOVED_SECRET995  Hippored Torn Fun Unique Style Straight Jeans ...   \nREMOVED_SECRET,
       REMOVED_SECRET996  Kids Set Table Bay - Thin Long Sleeve Home Sui...   \nREMOVED_SECRET,
       REMOVED_SECRET997  LONGCHAMP Le Pliage Neo High Density Nylon Bac...   \nREMOVED_SECRET,
       REMOVED_SECRET998  IFairies Opening Adjustable Ring ifairies [564...   \nREMOVED_SECRET,
       REMOVED_SECRET999  PolarStar Women Sweat Quick Dry T-shirt Black ...   \nREMOVED_SECRET,
       REMOVED_SECRET\nREMOVED_SECRET,
       REMOVED_SECRET                                   chinese translation  \\\nREMOVED_SECRET,
       REMOVED_SECRET0                  OPPO A75 A75s A73 手机壳 软壳 挂绳壳 大眼兔硅胶壳   \nREMOVED_SECRET,
       REMOVED_SECRET1                                  SOFT 99 鍍膜車蠟(強力撥水型)   \nREMOVED_SECRET,
       REMOVED_SECRET2                                       低糖芒果乾 250g 臻御行   \nREMOVED_SECRET,
       REMOVED_SECRET3    ＊小徑文化＊日本進口ROUND TOP space craft - diamond (SC-...   \nREMOVED_SECRET,
       REMOVED_SECRET4            Hello Kitty 凱蒂貓 KITTY 涼鞋 童鞋 白/紅色 小童 no739   \nREMOVED_SECRET,
       REMOVED_SECRET..                                                 ...   \nREMOVED_SECRET,
       REMOVED_SECRET995                【HippoRed】撕破乐趣★独特风格★中直筒牛仔裤 O591_445   \nREMOVED_SECRET,
       REMOVED_SECRET996                      兒童套裝 台灣製薄長袖居家套裝 魔法Baby~k60092   \nREMOVED_SECRET,
       REMOVED_SECRET997                 LONGCHAMP Le Pliage Neo高密尼龍後背包(中型)   \nREMOVED_SECRET,
       REMOVED_SECRET998            iFairies 開口可調節戒指★ifairies【56472】【56472】   \nREMOVED_SECRET,
       REMOVED_SECRET999                        PolarStar 女 排汗快干T恤『黑』P18102   \nREMOVED_SECRET,
       REMOVED_SECRET\nREMOVED_SECRET,
       REMOVED_SECRET                                     english_embedding  \\\nREMOVED_SECRET,
       REMOVED_SECRET0    [-0.030606616, 0.010501585, -0.04400219, -0.00...   \nREMOVED_SECRET,
       REMOVED_SECRET1    [-0.02521394, -0.0062141055, -0.02523462, -0.0...   \nREMOVED_SECRET,
       REMOVED_SECRET2    [-0.06998538, 0.025515176, -0.006934945, -0.02...   \nREMOVED_SECRET,
       REMOVED_SECRET3    [-0.003708915, 0.024768945, -0.062792934, 0.02...   \nREMOVED_SECRET,
       REMOVED_SECRET4    [-0.019042147, 0.031313036, -0.06666778, 0.049...   \nREMOVED_SECRET,
       REMOVED_SECRET..                                                 ...   \nREMOVED_SECRET,
       REMOVED_SECRET995  [-0.015312562, 0.002696402, -0.046150953, 0.00...   \nREMOVED_SECRET,
       REMOVED_SECRET996  [-0.00460147, 0.029976973, -0.080628425, 0.003...   \nREMOVED_SECRET,
       REMOVED_SECRET997  [-0.025269749, -0.050276544, -0.059641942, -0....   \nREMOVED_SECRET,
       REMOVED_SECRET998  [0.018464142, 0.016518341, -0.034174442, 0.007...   \nREMOVED_SECRET,
       REMOVED_SECRET999  [-0.015415181, 0.011347521, -0.09535644, -0.01...   \nREMOVED_SECRET,
       REMOVED_SECRET\nREMOVED_SECRET,
       REMOVED_SECRET                                     chinese_embedding  \nREMOVED_SECRET,
       REMOVED_SECRET0    [-0.020788355, 0.032136466, -0.03952156, -0.04...  \nREMOVED_SECRET,
       REMOVED_SECRET1    [-0.013580757, -0.013445883, 0.013568486, -0.0...  \nREMOVED_SECRET,
       REMOVED_SECRET2    [-0.056555215, 0.015317621, 0.0015813652, -0.0...  \nREMOVED_SECRET,
       REMOVED_SECRET3    [-0.018781146, 0.033165023, -0.05913993, 0.019...  \nREMOVED_SECRET,
       REMOVED_SECRET4    [-0.043943617, 0.021419879, -0.059569906, 0.03...  \nREMOVED_SECRET,
       REMOVED_SECRET..                                                 ...  \nREMOVED_SECRET,
       REMOVED_SECRET995  [-0.04397009, -0.013235806, -0.034632586, 0.03...  \nREMOVED_SECRET,
       REMOVED_SECRET996  [0.00086109334, 0.012746421, -0.04744607, 0.00...  \nREMOVED_SECRET,
       REMOVED_SECRET997  [-0.0399163, -0.031578567, -0.04178574, 0.0254...  \nREMOVED_SECRET,
       REMOVED_SECRET998  [0.029656759, 0.03718795, -0.042785533, -0.027...  \nREMOVED_SECRET,
       REMOVED_SECRET999  [0.029322254, -0.00047185787, -0.0952496, -0.0...  \nREMOVED_SECRET,
       REMOVED_SECRET\nREMOVED_SECRET,
       REMOVED_SECRET[1000 rows x 4 columns]REMOVED_SECRET
      ]
     },
     REMOVED_SECRETexecution_countREMOVED_SECRET: 64,
     REMOVED_SECRETmetadataREMOVED_SECRET: {},
     REMOVED_SECREToutput_typeREMOVED_SECRET: REMOVED_SECRETexecute_resultREMOVED_SECRET
    }
   ],
   REMOVED_SECRETsourceREMOVED_SECRET: [
    REMOVED_SECRET#Read the Chinese Embeddings\nREMOVED_SECRET,
    REMOVED_SECRETimport pandas as pd\nREMOVED_SECRET,
    REMOVED_SECRETchinese_embeddings = pd.read_pickle(\REMOVED_SECRETen_to_cn_embeddings.pkl\REMOVED_SECRET)\nREMOVED_SECRET,
    REMOVED_SECRETchinese_embeddingsREMOVED_SECRET
   ]
  },
  {
   REMOVED_SECRETcell_typeREMOVED_SECRET: REMOVED_SECRETcodeREMOVED_SECRET,
   REMOVED_SECRETexecution_countREMOVED_SECRET: 69,
   REMOVED_SECRETmetadataREMOVED_SECRET: {},
   REMOVED_SECREToutputsREMOVED_SECRET: [],
   REMOVED_SECRETsourceREMOVED_SECRET: [
    REMOVED_SECRET#Building BM25 for Chinese\nREMOVED_SECRET,
    REMOVED_SECRETentocn_english_titles = chinese_embeddings['title']\nREMOVED_SECRET,
    REMOVED_SECRETentocn_chinese_titles = chinese_embeddings['chinese translation']\nREMOVED_SECRET,
    REMOVED_SECRET\nREMOVED_SECRET,
    REMOVED_SECRETentocn_tokenized_en = [title.split() for title in entocn_english_titles]\nREMOVED_SECRET,
    REMOVED_SECRET#entocn_tokenized_cn = [title.split() for title in entocn_chinese_titles]\nREMOVED_SECRET,
    REMOVED_SECRET\nREMOVED_SECRET,
    REMOVED_SECRET#Using jieba for Chinese tokenization\nREMOVED_SECRET,
    REMOVED_SECRETimport jieba\nREMOVED_SECRET,
    REMOVED_SECRET#entocn_tokenized_en = [list(jieba.cut(title)) for title in entocn_english_titles]\nREMOVED_SECRET,
    REMOVED_SECRETentocn_tokenized_cn = [list(jieba.cut(title)) for title in entocn_chinese_titles]\nREMOVED_SECRET,
    REMOVED_SECRET\nREMOVED_SECRET,
    REMOVED_SECRETfrom rank_bm25 import BM25Okapi\nREMOVED_SECRET,
    REMOVED_SECRET\nREMOVED_SECRET,
    REMOVED_SECRETbm25_en = BM25Okapi(entocn_tokenized_en)\nREMOVED_SECRET,
    REMOVED_SECRETbm25_cn = BM25Okapi(entocn_tokenized_cn)REMOVED_SECRET
   ]
  },
  {
   REMOVED_SECRETcell_typeREMOVED_SECRET: REMOVED_SECRETcodeREMOVED_SECRET,
   REMOVED_SECRETexecution_countREMOVED_SECRET: 73,
   REMOVED_SECRETmetadataREMOVED_SECRET: {},
   REMOVED_SECREToutputsREMOVED_SECRET: [],
   REMOVED_SECRETsourceREMOVED_SECRET: [
    REMOVED_SECRETimport re\nREMOVED_SECRET,
    REMOVED_SECRETimport jieba\nREMOVED_SECRET,
    REMOVED_SECRETfrom rank_bm25 import BM25Okapi\nREMOVED_SECRET,
    REMOVED_SECRET\nREMOVED_SECRET,
    REMOVED_SECRET# Text cleaner\nREMOVED_SECRET,
    REMOVED_SECRETdef clean_text(text):\nREMOVED_SECRET,
    REMOVED_SECRET    text = text.strip()\nREMOVED_SECRET,
    REMOVED_SECRET    text = re.sub(r\REMOVED_SECRET[^\\u4e00-\\u9fa5a-zA-Z0-9]\REMOVED_SECRET, \REMOVED_SECRET\REMOVED_SECRET, text)\nREMOVED_SECRET,
    REMOVED_SECRET    return text\nREMOVED_SECRET,
    REMOVED_SECRET\nREMOVED_SECRET,
    REMOVED_SECRET# Clean + tokenize\nREMOVED_SECRET,
    REMOVED_SECRETentocn_chinese_titles = chinese_embeddings['chinese translation'].apply(clean_text)\nREMOVED_SECRET,
    REMOVED_SECRETentocn_tokenized_cn = [list(jieba.cut(title)) for title in entocn_chinese_titles]\nREMOVED_SECRET,
    REMOVED_SECRET\nREMOVED_SECRET,
    REMOVED_SECRET# Build BM25 index\nREMOVED_SECRET,
    REMOVED_SECRETbm25_cn = BM25Okapi(entocn_tokenized_cn)\nREMOVED_SECRET
   ]
  },
  {
   REMOVED_SECRETcell_typeREMOVED_SECRET: REMOVED_SECRETcodeREMOVED_SECRET,
   REMOVED_SECRETexecution_countREMOVED_SECRET: 66,
   REMOVED_SECRETmetadataREMOVED_SECRET: {},
   REMOVED_SECREToutputsREMOVED_SECRET: [],
   REMOVED_SECRETsourceREMOVED_SECRET: [
    REMOVED_SECRET#This function is especially made for en and it, need to be redeclared for es and cn\nREMOVED_SECRET,
    REMOVED_SECRETdef search(query, lang='en', top_k=5):\nREMOVED_SECRET,
    REMOVED_SECRET    tokens = query.lower().split()\nREMOVED_SECRET,
    REMOVED_SECRET    if lang == 'en':\nREMOVED_SECRET,
    REMOVED_SECRET        scores = bm25_en.get_scores(tokens)\nREMOVED_SECRET,
    REMOVED_SECRET    else:\nREMOVED_SECRET,
    REMOVED_SECRET        scores = bm25_cn.get_scores(tokens)\nREMOVED_SECRET,
    REMOVED_SECRET    \nREMOVED_SECRET,
    REMOVED_SECRET    top_k_ids = sorted(range(len(scores)), key=lambda i: scores[i], reverse=True)[:top_k]\nREMOVED_SECRET,
    REMOVED_SECRET    return top_k_ids, [scores[i] for i in top_k_ids]REMOVED_SECRET
   ]
  },
  {
   REMOVED_SECRETcell_typeREMOVED_SECRET: REMOVED_SECRETcodeREMOVED_SECRET,
   REMOVED_SECRETexecution_countREMOVED_SECRET: 79,
   REMOVED_SECRETmetadataREMOVED_SECRET: {},
   REMOVED_SECREToutputsREMOVED_SECRET: [],
   REMOVED_SECRETsourceREMOVED_SECRET: [
    REMOVED_SECRETfrom langdetect import detect\nREMOVED_SECRET,
    REMOVED_SECRETimport jieba\nREMOVED_SECRET,
    REMOVED_SECRET\nREMOVED_SECRET,
    REMOVED_SECRETdef search_bm25(query, top_k=5):\nREMOVED_SECRET,
    REMOVED_SECRET    lang = detect(query)\nREMOVED_SECRET,
    REMOVED_SECRET\nREMOVED_SECRET,
    REMOVED_SECRET    # Tokenize appropriately based on detected language\nREMOVED_SECRET,
    REMOVED_SECRET    if lang in ['zh', 'zh-cn', 'cn']:\nREMOVED_SECRET,
    REMOVED_SECRET        tokens = list(jieba.cut(query))\nREMOVED_SECRET,
    REMOVED_SECRET        scores = bm25_cn.get_scores(tokens)\nREMOVED_SECRET,
    REMOVED_SECRET    else:\nREMOVED_SECRET,
    REMOVED_SECRET        tokens = query.lower().split()\nREMOVED_SECRET,
    REMOVED_SECRET        scores = bm25_en.get_scores(tokens)\nREMOVED_SECRET,
    REMOVED_SECRET\nREMOVED_SECRET,
    REMOVED_SECRET    # Get top-k ranked document indices\nREMOVED_SECRET,
    REMOVED_SECRET    top_k_ids = sorted(range(len(scores)), key=lambda i: scores[i], reverse=True)[:top_k]\nREMOVED_SECRET,
    REMOVED_SECRET\nREMOVED_SECRET,
    REMOVED_SECRET    return top_k_ids, [scores[i] for i in top_k_ids]\nREMOVED_SECRET
   ]
  },
  {
   REMOVED_SECRETcell_typeREMOVED_SECRET: REMOVED_SECRETcodeREMOVED_SECRET,
   REMOVED_SECRETexecution_countREMOVED_SECRET: 80,
   REMOVED_SECRETmetadataREMOVED_SECRET: {},
   REMOVED_SECREToutputsREMOVED_SECRET: [
    {
     REMOVED_SECRETnameREMOVED_SECRET: REMOVED_SECRETstdoutREMOVED_SECRET,
     REMOVED_SECREToutput_typeREMOVED_SECRET: REMOVED_SECRETstreamREMOVED_SECRET,
     REMOVED_SECRETtextREMOVED_SECRET: [
      REMOVED_SECRET0.0000 | Oppo A75 A75S A73 Phone Case Soft Rabbit Silicone Case\nREMOVED_SECRET,
      REMOVED_SECRET0.0000 | SOFT 99 Coating Car Wax Strong Water Watt\nREMOVED_SECRET,
      REMOVED_SECRET0.0000 | Low Sugar Mango Dry 250g Be The Royal\nREMOVED_SECRET,
      REMOVED_SECRET0.0000 | * the culture Japan Imported Round Top Space Craft - Diamond SC - MK - 010\nREMOVED_SECRET,
      REMOVED_SECRET0.0000 | Hello Kitty Sandals Shoes White/Red Children no739\nREMOVED_SECRET
     ]
    }
   ],
   REMOVED_SECRETsourceREMOVED_SECRET: [
    REMOVED_SECRETresults, scores = search_bm25(\REMOVED_SECRET女 排汗\REMOVED_SECRET)\nREMOVED_SECRET,
    REMOVED_SECRET\nREMOVED_SECRET,
    REMOVED_SECRETfor i, score in zip(results, scores):\nREMOVED_SECRET,
    REMOVED_SECRET    print(f\REMOVED_SECRET{score:.4f} | {chinese_embeddings['title'][i]}\REMOVED_SECRET)REMOVED_SECRET
   ]
  },
  {
   REMOVED_SECRETcell_typeREMOVED_SECRET: REMOVED_SECRETcodeREMOVED_SECRET,
   REMOVED_SECRETexecution_countREMOVED_SECRET: 81,
   REMOVED_SECRETmetadataREMOVED_SECRET: {},
   REMOVED_SECREToutputsREMOVED_SECRET: [],
   REMOVED_SECRETsourceREMOVED_SECRET: [
    REMOVED_SECRETfrom pinecone import Pinecone, ServerlessSpec\nREMOVED_SECRET,
    REMOVED_SECRET\nREMOVED_SECRET,
    REMOVED_SECRET#This is Cheryl's API\nREMOVED_SECRET,
    REMOVED_SECRETpc = Pinecone(api_key=CHERYL_API)REMOVED_SECRET
   ]
  },
  {
   REMOVED_SECRETcell_typeREMOVED_SECRET: REMOVED_SECRETcodeREMOVED_SECRET,
   REMOVED_SECRETexecution_countREMOVED_SECRET: 82,
   REMOVED_SECRETmetadataREMOVED_SECRET: {},
   REMOVED_SECREToutputsREMOVED_SECRET: [],
   REMOVED_SECRETsourceREMOVED_SECRET: [
    REMOVED_SECRET#Initialising Pinecone index\nREMOVED_SECRET,
    REMOVED_SECRET#This is the Index for the ENTOIT\nREMOVED_SECRET,
    REMOVED_SECRETindex = pc.Index('entocn')REMOVED_SECRET
   ]
  },
  {
   REMOVED_SECRETcell_typeREMOVED_SECRET: REMOVED_SECRETcodeREMOVED_SECRET,
   REMOVED_SECRETexecution_countREMOVED_SECRET: 83,
   REMOVED_SECRETmetadataREMOVED_SECRET: {},
   REMOVED_SECREToutputsREMOVED_SECRET: [],
   REMOVED_SECRETsourceREMOVED_SECRET: [
    REMOVED_SECRETen_ids = [f\REMOVED_SECRETen-{i}\REMOVED_SECRET for i in range(len(chinese_embeddings['english_embedding']))]\nREMOVED_SECRET,
    REMOVED_SECRETcn_ids = [f\REMOVED_SECRETcn-{i}\REMOVED_SECRET for i in range(len(chinese_embeddings['chinese_embedding']))]REMOVED_SECRET
   ]
  },
  {
   REMOVED_SECRETcell_typeREMOVED_SECRET: REMOVED_SECRETcodeREMOVED_SECRET,
   REMOVED_SECRETexecution_countREMOVED_SECRET: 57,
   REMOVED_SECRETmetadataREMOVED_SECRET: {},
   REMOVED_SECREToutputsREMOVED_SECRET: [],
   REMOVED_SECRETsourceREMOVED_SECRET: [
    REMOVED_SECRET# Combine English + Chinese as before\nREMOVED_SECRET,
    REMOVED_SECRETto_upsert = list(zip(en_ids, chinese_embeddings['english_embedding'])) + \\\nREMOVED_SECRET,
    REMOVED_SECRET            list(zip(cn_ids, chinese_embeddings['chinese_embedding']))\nREMOVED_SECRET,
    REMOVED_SECRET\nREMOVED_SECRET,
    REMOVED_SECRET# Run batch upload\nREMOVED_SECRET,
    REMOVED_SECRETbatch_upsert(index, to_upsert, batch_size=50)\nREMOVED_SECRET,
    REMOVED_SECRET\nREMOVED_SECRET,
    REMOVED_SECRET\nREMOVED_SECRET,
    REMOVED_SECRET#With this code, the vectorDB has been established for en to cn.  REMOVED_SECRET
   ]
  },
  {
   REMOVED_SECRETcell_typeREMOVED_SECRET: REMOVED_SECRETcodeREMOVED_SECRET,
   REMOVED_SECRETexecution_countREMOVED_SECRET: 84,
   REMOVED_SECRETmetadataREMOVED_SECRET: {},
   REMOVED_SECREToutputsREMOVED_SECRET: [],
   REMOVED_SECRETsourceREMOVED_SECRET: [
    REMOVED_SECRETimport numpy as np\nREMOVED_SECRET,
    REMOVED_SECRET\nREMOVED_SECRET,
    REMOVED_SECRETdef scores_to_ranking(scores: list[float]) -> list[int]:\nREMOVED_SECRET,
    REMOVED_SECRET    \REMOVED_SECRET\REMOVED_SECRET\REMOVED_SECRETConvert float scores into int rankings (1 = best).\REMOVED_SECRET\REMOVED_SECRET\REMOVED_SECRET\nREMOVED_SECRET,
    REMOVED_SECRET    return np.argsort(scores)[::-1] + 1  # ranks start at 1\nREMOVED_SECRET,
    REMOVED_SECRET\nREMOVED_SECRET,
    REMOVED_SECRETdef rrf(keyword_rank: int, semantic_rank: int, k: int = 60) -> float:\nREMOVED_SECRET,
    REMOVED_SECRET    \REMOVED_SECRET\REMOVED_SECRET\REMOVED_SECRETCombine keyword rank and semantic rank into a hybrid score using RRF.\REMOVED_SECRET\REMOVED_SECRET\REMOVED_SECRET\nREMOVED_SECRET,
    REMOVED_SECRET    return 1 / (k + keyword_rank) + 1 / (k + semantic_rank)REMOVED_SECRET
   ]
  },
  {
   REMOVED_SECRETcell_typeREMOVED_SECRET: REMOVED_SECRETmarkdownREMOVED_SECRET,
   REMOVED_SECRETmetadataREMOVED_SECRET: {},
   REMOVED_SECRETsourceREMOVED_SECRET: [
    REMOVED_SECRETBM25 + BGE ChineseREMOVED_SECRET
   ]
  },
  {
   REMOVED_SECRETcell_typeREMOVED_SECRET: REMOVED_SECRETcodeREMOVED_SECRET,
   REMOVED_SECRETexecution_countREMOVED_SECRET: 80,
   REMOVED_SECRETmetadataREMOVED_SECRET: {},
   REMOVED_SECREToutputsREMOVED_SECRET: [],
   REMOVED_SECRETsourceREMOVED_SECRET: [
    REMOVED_SECRETdef hybrid_search_rrf(query, top_k=5):\nREMOVED_SECRET,
    REMOVED_SECRET\nREMOVED_SECRET,
    REMOVED_SECRET    #To detect the language from the query\nREMOVED_SECRET,
    REMOVED_SECRET    from langdetect import detect\nREMOVED_SECRET,
    REMOVED_SECRET\nREMOVED_SECRET,
    REMOVED_SECRET    lang = detect(query)\nREMOVED_SECRET,
    REMOVED_SECRET    #tokenising the query to be suitable for BM25\nREMOVED_SECRET,
    REMOVED_SECRET    tokens = list(jieba.cut(query))\nREMOVED_SECRET,
    REMOVED_SECRET\nREMOVED_SECRET,
    REMOVED_SECRET    # --- BM25 Retrieval ---(Routes the tokenized query to the appropiate BM25 engine)\nREMOVED_SECRET,
    REMOVED_SECRET    if lang == 'cn':\nREMOVED_SECRET,
    REMOVED_SECRET        bm25_scores = bm25_cn.get_scores(tokens)\nREMOVED_SECRET,
    REMOVED_SECRET    else:\nREMOVED_SECRET,
    REMOVED_SECRET        bm25_scores = bm25_en.get_scores(tokens) #returns a list of scores, one for each document in the dataset\nREMOVED_SECRET,
    REMOVED_SECRET\nREMOVED_SECRET,
    REMOVED_SECRET    bm25_ranks = scores_to_ranking(bm25_scores)  #Converts the float BM25 scores to rankings for Reciprocal rank fusion(rrf)\nREMOVED_SECRET,
    REMOVED_SECRET\nREMOVED_SECRET,
    REMOVED_SECRET    # --- Semantic Retrieval (Pinecone) ---\nREMOVED_SECRET,
    REMOVED_SECRET    query_vec = model.encode(query).tolist() #generate the query's embedding and convert it a list\nREMOVED_SECRET,
    REMOVED_SECRET    pinecone_results = index.query(vector=query_vec, top_k=top_k, include_metadata=False) #Submits the query vector to Pinecone to retrieve top-k similar vectors, based on cosine similarity\nREMOVED_SECRET,
    REMOVED_SECRET\nREMOVED_SECRET,
    REMOVED_SECRET    pinecone_ids = [int(match['id'].split('-')[1]) for match in pinecone_results['matches']] #extracts og row index from pinecone's ID\nREMOVED_SECRET,
    REMOVED_SECRET    pinecone_scores = [match['score'] for match in pinecone_results['matches']] #Obtain cosine similarity scores from pinecone\nREMOVED_SECRET,
    REMOVED_SECRET    semantic_ranks = scores_to_ranking(pinecone_scores) #Converting pinecone scores to ranks (lower rank = better match)\nREMOVED_SECRET,
    REMOVED_SECRET\nREMOVED_SECRET,
    REMOVED_SECRET    # --- Combine using RRF ---\nREMOVED_SECRET,
    REMOVED_SECRET    combined_scores = {} #placeholder to store RRF combined scores for each shortlisted document\nREMOVED_SECRET,
    REMOVED_SECRET    for idx in pinecone_ids:\nREMOVED_SECRET,
    REMOVED_SECRET        #For each doc idx returned by pinecone\nREMOVED_SECRET,
    REMOVED_SECRET        # Retrieve the BM25 rank and semantic rank, and using rrf function defined on prev cell to combine them into one score\nREMOVED_SECRET,
    REMOVED_SECRET        rrf_score = rrf(\nREMOVED_SECRET,
    REMOVED_SECRET            keyword_rank=bm25_ranks[idx],\nREMOVED_SECRET,
    REMOVED_SECRET            semantic_rank=semantic_ranks[pinecone_ids.index(idx)]\nREMOVED_SECRET,
    REMOVED_SECRET        )\nREMOVED_SECRET,
    REMOVED_SECRET        combined_scores[idx] = rrf_score\nREMOVED_SECRET,
    REMOVED_SECRET\nREMOVED_SECRET,
    REMOVED_SECRET    # Sort by RRF score\nREMOVED_SECRET,
    REMOVED_SECRET    ranked = sorted(combined_scores.items(), key=lambda x: x[1], reverse=True)  #Sorting the docs by their RRF score, with the highest first.\nREMOVED_SECRET,
    REMOVED_SECRET\nREMOVED_SECRET,
    REMOVED_SECRET    return ranked[:top_k]  # list of (doc_id, final_score)\nREMOVED_SECRET
   ]
  },
  {
   REMOVED_SECRETcell_typeREMOVED_SECRET: REMOVED_SECRETcodeREMOVED_SECRET,
   REMOVED_SECRETexecution_countREMOVED_SECRET: 81,
   REMOVED_SECRETmetadataREMOVED_SECRET: {},
   REMOVED_SECREToutputsREMOVED_SECRET: [
    {
     REMOVED_SECRETnameREMOVED_SECRET: REMOVED_SECRETstdoutREMOVED_SECRET,
     REMOVED_SECREToutput_typeREMOVED_SECRET: REMOVED_SECRETstreamREMOVED_SECRET,
     REMOVED_SECRETtextREMOVED_SECRET: [
      REMOVED_SECRET0.0246 | College Sexy Pleated Culottes\nREMOVED_SECRET,
      REMOVED_SECRET0.0237 | Long version Pocket Cardigan Knit Coat\nREMOVED_SECRET,
      REMOVED_SECRET0.0192 | Korean Made. Thick Straps Cross Vest\nREMOVED_SECRET,
      REMOVED_SECRET0.0170 | Two-piece Set Thick Thread Coat + Skirt M - XXL\nREMOVED_SECRET
     ]
    }
   ],
   REMOVED_SECRETsourceREMOVED_SECRET: [
    REMOVED_SECRET#Testing phase\nREMOVED_SECRET,
    REMOVED_SECRET\nREMOVED_SECRET,
    REMOVED_SECRETresults = hybrid_search_rrf(\REMOVED_SECRET女式夹克\REMOVED_SECRET)\nREMOVED_SECRET,
    REMOVED_SECRET\nREMOVED_SECRET,
    REMOVED_SECRETfor idx, score in results:\nREMOVED_SECRET,
    REMOVED_SECRET    print(f\REMOVED_SECRET{score:.4f} | {chinese_embeddings['title'][idx]}\REMOVED_SECRET)REMOVED_SECRET
   ]
  },
  {
   REMOVED_SECRETcell_typeREMOVED_SECRET: REMOVED_SECRETmarkdownREMOVED_SECRET,
   REMOVED_SECRETmetadataREMOVED_SECRET: {},
   REMOVED_SECRETsourceREMOVED_SECRET: [
    REMOVED_SECRETBM 25 Alone ChineseREMOVED_SECRET
   ]
  },
  {
   REMOVED_SECRETcell_typeREMOVED_SECRET: REMOVED_SECRETcodeREMOVED_SECRET,
   REMOVED_SECRETexecution_countREMOVED_SECRET: 82,
   REMOVED_SECRETmetadataREMOVED_SECRET: {},
   REMOVED_SECREToutputsREMOVED_SECRET: [],
   REMOVED_SECRETsourceREMOVED_SECRET: [
    REMOVED_SECRETdef BM25(query, top_k=5):\nREMOVED_SECRET,
    REMOVED_SECRET\nREMOVED_SECRET,
    REMOVED_SECRET    #To detect the language from the query\nREMOVED_SECRET,
    REMOVED_SECRET    from langdetect import detect\nREMOVED_SECRET,
    REMOVED_SECRET\nREMOVED_SECRET,
    REMOVED_SECRET    lang = detect(query)\nREMOVED_SECRET,
    REMOVED_SECRET    #tokenising the query to be suitable for BM25\nREMOVED_SECRET,
    REMOVED_SECRET    tokens = list(jieba.cut(query))\nREMOVED_SECRET,
    REMOVED_SECRET\nREMOVED_SECRET,
    REMOVED_SECRET    # --- BM25 Retrieval ---(Routes the tokenized query to the appropiate BM25 engine)\nREMOVED_SECRET,
    REMOVED_SECRET    if lang == 'cn':\nREMOVED_SECRET,
    REMOVED_SECRET        bm25_scores = bm25_cn.get_scores(tokens)\nREMOVED_SECRET,
    REMOVED_SECRET    else:\nREMOVED_SECRET,
    REMOVED_SECRET        bm25_scores = bm25_en.get_scores(tokens) #returns a list of scores, one for each document in the dataset\nREMOVED_SECRET,
    REMOVED_SECRET\nREMOVED_SECRET,
    REMOVED_SECRET    bm25_ranks = {i: rank for rank, i in enumerate(np.argsort(bm25_scores)[::-1], start=1)} #Converts the float BM25 scores to rankings for Reciprocal rank fusion(rrf)\nREMOVED_SECRET,
    REMOVED_SECRET\nREMOVED_SECRET,
    REMOVED_SECRET    # Sort by RRF score\nREMOVED_SECRET,
    REMOVED_SECRET    ranked = sorted(bm25_ranks.items(), key=lambda x: x[1], reverse=True)  #Sorting the docs by their RRF score, with the highest first.\nREMOVED_SECRET,
    REMOVED_SECRET\nREMOVED_SECRET,
    REMOVED_SECRET    return ranked[:top_k]  # list of (doc_id, final_score)\nREMOVED_SECRET
   ]
  },
  {
   REMOVED_SECRETcell_typeREMOVED_SECRET: REMOVED_SECRETcodeREMOVED_SECRET,
   REMOVED_SECRETexecution_countREMOVED_SECRET: 83,
   REMOVED_SECRETmetadataREMOVED_SECRET: {},
   REMOVED_SECREToutputsREMOVED_SECRET: [
    {
     REMOVED_SECRETnameREMOVED_SECRET: REMOVED_SECRETstdoutREMOVED_SECRET,
     REMOVED_SECREToutput_typeREMOVED_SECRET: REMOVED_SECRETstreamREMOVED_SECRET,
     REMOVED_SECRETtextREMOVED_SECRET: [
      REMOVED_SECRET1000.0000 | Oppo A75 A75S A73 Phone Case Soft Rabbit Silicone Case\nREMOVED_SECRET,
      REMOVED_SECRET999.0000 | Tree De Sc Multifunctional Locker - Scm3 - 3M6S\nREMOVED_SECRET,
      REMOVED_SECRET998.0000 | COGHLANS Canada 0044 Finger Compass Thermometer Whistle\nREMOVED_SECRET,
      REMOVED_SECRET997.0000 | [With Incense] Jujube Pack 5 Pc / Pack (2 Pack) 【\nREMOVED_SECRET,
      REMOVED_SECRET996.0000 | Japan gex schisandra Kittens Water Dispenser 900Ml GE2316\nREMOVED_SECRET
     ]
    }
   ],
   REMOVED_SECRETsourceREMOVED_SECRET: [
    REMOVED_SECRET#Testing phase for BM 25\nREMOVED_SECRET,
    REMOVED_SECRET\nREMOVED_SECRET,
    REMOVED_SECRETresults = BM25(\REMOVED_SECRET女式夹克\REMOVED_SECRET)\nREMOVED_SECRET,
    REMOVED_SECRET\nREMOVED_SECRET,
    REMOVED_SECRETfor idx, score in results:\nREMOVED_SECRET,
    REMOVED_SECRET    print(f\REMOVED_SECRET{score:.4f} | {chinese_embeddings['title'][idx]}\REMOVED_SECRET)REMOVED_SECRET
   ]
  },
  {
   REMOVED_SECRETcell_typeREMOVED_SECRET: REMOVED_SECRETmarkdownREMOVED_SECRET,
   REMOVED_SECRETmetadataREMOVED_SECRET: {},
   REMOVED_SECRETsourceREMOVED_SECRET: [
    REMOVED_SECRETTFIDF + BGE ChineseREMOVED_SECRET
   ]
  },
  {
   REMOVED_SECRETcell_typeREMOVED_SECRET: REMOVED_SECRETcodeREMOVED_SECRET,
   REMOVED_SECRETexecution_countREMOVED_SECRET: 91,
   REMOVED_SECRETmetadataREMOVED_SECRET: {},
   REMOVED_SECREToutputsREMOVED_SECRET: [],
   REMOVED_SECRETsourceREMOVED_SECRET: [
    REMOVED_SECRET#For both Sparse and Sparse + Dense\nREMOVED_SECRET,
    REMOVED_SECRET\nREMOVED_SECRET,
    REMOVED_SECRETfrom sklearn.feature_extraction.text import TfidfVectorizer\nREMOVED_SECRET,
    REMOVED_SECRET\nREMOVED_SECRET,
    REMOVED_SECRETtfidf_vectorizer_en = TfidfVectorizer()\nREMOVED_SECRET,
    REMOVED_SECRETtfidf_matrix_en = tfidf_vectorizer_en.fit_transform(chinese_embeddings['title'])\nREMOVED_SECRET,
    REMOVED_SECRET\nREMOVED_SECRET,
    REMOVED_SECRETtfidf_vectorizer_cn = TfidfVectorizer()\nREMOVED_SECRET,
    REMOVED_SECRETtfidf_matrix_cn = tfidf_vectorizer_cn.fit_transform(chinese_embeddings['chinese translation'])REMOVED_SECRET
   ]
  },
  {
   REMOVED_SECRETcell_typeREMOVED_SECRET: REMOVED_SECRETcodeREMOVED_SECRET,
   REMOVED_SECRETexecution_countREMOVED_SECRET: 86,
   REMOVED_SECRETmetadataREMOVED_SECRET: {},
   REMOVED_SECREToutputsREMOVED_SECRET: [],
   REMOVED_SECRETsourceREMOVED_SECRET: [
    REMOVED_SECRETfrom langdetect import detect\nREMOVED_SECRET,
    REMOVED_SECRETfrom sklearn.metrics.pairwise import cosine_similarity\nREMOVED_SECRET,
    REMOVED_SECRETimport jieba\nREMOVED_SECRET,
    REMOVED_SECRET\nREMOVED_SECRET,
    REMOVED_SECRETdef hybrid_search_tfidf(query, top_k=5):\nREMOVED_SECRET,
    REMOVED_SECRET    lang = detect(query)\nREMOVED_SECRET,
    REMOVED_SECRET\nREMOVED_SECRET,
    REMOVED_SECRET    # --- TF-IDF Query Vectorization ---\nREMOVED_SECRET,
    REMOVED_SECRET    if lang in ['zh', 'zh-cn', 'cn']:\nREMOVED_SECRET,
    REMOVED_SECRET        tokens = list(jieba.cut(query))\nREMOVED_SECRET,
    REMOVED_SECRET        query_joined = \REMOVED_SECRET \REMOVED_SECRET.join(tokens)  # convert token list to string input\nREMOVED_SECRET,
    REMOVED_SECRET        query_vec = tfidf_vectorizer_cn.transform([query_joined])\nREMOVED_SECRET,
    REMOVED_SECRET        similarities = cosine_similarity(query_vec, tfidf_matrix_cn)[0]\nREMOVED_SECRET,
    REMOVED_SECRET    else:\nREMOVED_SECRET,
    REMOVED_SECRET        query_vec = tfidf_vectorizer_en.transform([query])\nREMOVED_SECRET,
    REMOVED_SECRET        similarities = cosine_similarity(query_vec, tfidf_matrix_en)[0]\nREMOVED_SECRET,
    REMOVED_SECRET\nREMOVED_SECRET,
    REMOVED_SECRET    # --- TF-IDF Ranking Map (doc_id → rank) ---\nREMOVED_SECRET,
    REMOVED_SECRET    ranked_indices = np.argsort(similarities)[::-1]\nREMOVED_SECRET,
    REMOVED_SECRET    tfidf_rank_map = {int(idx): rank for rank, idx in enumerate(ranked_indices[:top_k], start=1)}\nREMOVED_SECRET,
    REMOVED_SECRET\nREMOVED_SECRET,
    REMOVED_SECRET    # --- Semantic Retrieval (Pinecone) ---\nREMOVED_SECRET,
    REMOVED_SECRET    query_vec_dense = model.encode(query).tolist()\nREMOVED_SECRET,
    REMOVED_SECRET    pinecone_results = index.query(vector=query_vec_dense, top_k=top_k * 2, include_metadata=False)\nREMOVED_SECRET,
    REMOVED_SECRET\nREMOVED_SECRET,
    REMOVED_SECRET    pinecone_ids = [int(match['id'].split('-')[1]) for match in pinecone_results['matches']]\nREMOVED_SECRET,
    REMOVED_SECRET    pinecone_scores = [match['score'] for match in pinecone_results['matches']]\nREMOVED_SECRET,
    REMOVED_SECRET\nREMOVED_SECRET,
    REMOVED_SECRET    # Convert scores to semantic ranks (lower = better)\nREMOVED_SECRET,
    REMOVED_SECRET    semantic_ranks = scores_to_ranking(pinecone_scores)\nREMOVED_SECRET,
    REMOVED_SECRET    semantic_rank_map = {idx: rank for idx, rank in zip(pinecone_ids, semantic_ranks)}\nREMOVED_SECRET,
    REMOVED_SECRET\nREMOVED_SECRET,
    REMOVED_SECRET    # --- Reciprocal Rank Fusion (RRF) ---\nREMOVED_SECRET,
    REMOVED_SECRET    combined_scores = {}\nREMOVED_SECRET,
    REMOVED_SECRET    for idx in pinecone_ids:\nREMOVED_SECRET,
    REMOVED_SECRET        rrf_score = rrf(\nREMOVED_SECRET,
    REMOVED_SECRET            keyword_rank=tfidf_rank_map.get(idx, top_k + 1),\nREMOVED_SECRET,
    REMOVED_SECRET            semantic_rank=semantic_rank_map.get(idx, top_k + 1)\nREMOVED_SECRET,
    REMOVED_SECRET        )\nREMOVED_SECRET,
    REMOVED_SECRET        combined_scores[idx] = rrf_score\nREMOVED_SECRET,
    REMOVED_SECRET\nREMOVED_SECRET,
    REMOVED_SECRET    # Sort by final RRF score\nREMOVED_SECRET,
    REMOVED_SECRET    ranked = sorted(combined_scores.items(), key=lambda x: x[1], reverse=True)\nREMOVED_SECRET,
    REMOVED_SECRET\nREMOVED_SECRET,
    REMOVED_SECRET    return ranked[:top_k]\nREMOVED_SECRET
   ]
  },
  {
   REMOVED_SECRETcell_typeREMOVED_SECRET: REMOVED_SECRETcodeREMOVED_SECRET,
   REMOVED_SECRETexecution_countREMOVED_SECRET: 87,
   REMOVED_SECRETmetadataREMOVED_SECRET: {},
   REMOVED_SECREToutputsREMOVED_SECRET: [
    {
     REMOVED_SECRETnameREMOVED_SECRET: REMOVED_SECRETstdoutREMOVED_SECRET,
     REMOVED_SECREToutput_typeREMOVED_SECRET: REMOVED_SECRETstreamREMOVED_SECRET,
     REMOVED_SECRETtextREMOVED_SECRET: [
      REMOVED_SECRET0.0313 | 韩制。粗肩带交叉背心\nREMOVED_SECRET,
      REMOVED_SECRET0.0308 | 学院感百褶裤裙\nREMOVED_SECRET,
      REMOVED_SECRET0.0305 | 現貨-兩件式套裝加厚螺紋外套+長裙 M-XXL\nREMOVED_SECRET,
      REMOVED_SECRET0.0303 | 🎀真皮女用小手提/斜背二用包🎀\nREMOVED_SECRET,
      REMOVED_SECRET0.0301 | 長版口袋開襟針織外套\nREMOVED_SECRET
     ]
    }
   ],
   REMOVED_SECRETsourceREMOVED_SECRET: [
    REMOVED_SECRET#Testing phase for TFIDF + BGE\nREMOVED_SECRET,
    REMOVED_SECRET\nREMOVED_SECRET,
    REMOVED_SECRETresults = hybrid_search_tfidf(\REMOVED_SECRET女式夹克\REMOVED_SECRET)\nREMOVED_SECRET,
    REMOVED_SECRET\nREMOVED_SECRET,
    REMOVED_SECRETfor idx, score in results:\nREMOVED_SECRET,
    REMOVED_SECRET    print(f\REMOVED_SECRET{score:.4f} | {chinese_embeddings['chinese translation'][idx]}\REMOVED_SECRET)REMOVED_SECRET
   ]
  },
  {
   REMOVED_SECRETcell_typeREMOVED_SECRET: REMOVED_SECRETmarkdownREMOVED_SECRET,
   REMOVED_SECRETmetadataREMOVED_SECRET: {},
   REMOVED_SECRETsourceREMOVED_SECRET: [
    REMOVED_SECRETTFIDF Alone ChineseREMOVED_SECRET
   ]
  },
  {
   REMOVED_SECRETcell_typeREMOVED_SECRET: REMOVED_SECRETcodeREMOVED_SECRET,
   REMOVED_SECRETexecution_countREMOVED_SECRET: 92,
   REMOVED_SECRETmetadataREMOVED_SECRET: {},
   REMOVED_SECREToutputsREMOVED_SECRET: [],
   REMOVED_SECRETsourceREMOVED_SECRET: [
    REMOVED_SECRETfrom langdetect import detect\nREMOVED_SECRET,
    REMOVED_SECRETfrom sklearn.metrics.pairwise import cosine_similarity\nREMOVED_SECRET,
    REMOVED_SECRETimport numpy as np\nREMOVED_SECRET,
    REMOVED_SECRET\nREMOVED_SECRET,
    REMOVED_SECRETdef TFIDF(query, top_k=5):\nREMOVED_SECRET,
    REMOVED_SECRET    lang = detect(query)\nREMOVED_SECRET,
    REMOVED_SECRET\nREMOVED_SECRET,
    REMOVED_SECRET    # --- TF-IDF Query Vectorization ---\nREMOVED_SECRET,
    REMOVED_SECRET    if lang in ['zh', 'zh-cn', 'cn']:\nREMOVED_SECRET,
    REMOVED_SECRET        tokens = list(jieba.cut(query))\nREMOVED_SECRET,
    REMOVED_SECRET        query_joined = \REMOVED_SECRET \REMOVED_SECRET.join(tokens)  # convert token list to string input\nREMOVED_SECRET,
    REMOVED_SECRET        query_vec = tfidf_vectorizer_cn.transform([query_joined])\nREMOVED_SECRET,
    REMOVED_SECRET        similarities = cosine_similarity(query_vec, tfidf_matrix_cn)[0]\nREMOVED_SECRET,
    REMOVED_SECRET    else:\nREMOVED_SECRET,
    REMOVED_SECRET        query_vec = tfidf_vectorizer_en.transform([query])\nREMOVED_SECRET,
    REMOVED_SECRET        similarities = cosine_similarity(query_vec, tfidf_matrix_en)[0]\nREMOVED_SECRET,
    REMOVED_SECRET\nREMOVED_SECRET,
    REMOVED_SECRET    # --- TF-IDF Ranking Map (doc_id → rank) ---\nREMOVED_SECRET,
    REMOVED_SECRET    ranked_indices = np.argsort(similarities)[::-1]\nREMOVED_SECRET,
    REMOVED_SECRET    tfidf_rank_map = {int(idx): rank for rank, idx in enumerate(ranked_indices[:top_k], start=1)}\nREMOVED_SECRET,
    REMOVED_SECRET    \nREMOVED_SECRET,
    REMOVED_SECRET    return tfidf_rank_mapREMOVED_SECRET
   ]
  },
  {
   REMOVED_SECRETcell_typeREMOVED_SECRET: REMOVED_SECRETcodeREMOVED_SECRET,
   REMOVED_SECRETexecution_countREMOVED_SECRET: 95,
   REMOVED_SECRETmetadataREMOVED_SECRET: {},
   REMOVED_SECREToutputsREMOVED_SECRET: [
    {
     REMOVED_SECRETnameREMOVED_SECRET: REMOVED_SECRETstdoutREMOVED_SECRET,
     REMOVED_SECREToutput_typeREMOVED_SECRET: REMOVED_SECRETstreamREMOVED_SECRET,
     REMOVED_SECRETtextREMOVED_SECRET: [
      REMOVED_SECRET1.0000 | PolarStar 女 排汗快干T恤『黑』P18102\nREMOVED_SECRET,
      REMOVED_SECRET2.0000 | ALPINE PARTY PLUG PRO 頂級 音樂耳塞 聲音濾波器 荷蘭進口 20816\nREMOVED_SECRET,
      REMOVED_SECRET3.0000 | 時尚簡約實用抱枕109 靠墊 沙發裝飾靠枕\nREMOVED_SECRET,
      REMOVED_SECRET4.0000 | 寶寶外套 毛圈拉鍊休閒外套夾克 UG13220 好娃娃\nREMOVED_SECRET,
      REMOVED_SECRET5.0000 | 自強牌 A480 資料夾 / 箱\nREMOVED_SECRET
     ]
    }
   ],
   REMOVED_SECRETsourceREMOVED_SECRET: [
    REMOVED_SECRET#Testing phase for TFIDF + BGE\nREMOVED_SECRET,
    REMOVED_SECRET\nREMOVED_SECRET,
    REMOVED_SECRETresults = TFIDF(\REMOVED_SECRET女式夹克\REMOVED_SECRET)\nREMOVED_SECRET,
    REMOVED_SECRET\nREMOVED_SECRET,
    REMOVED_SECRETfor idx, score in results.items():\nREMOVED_SECRET,
    REMOVED_SECRET    print(f\REMOVED_SECRET{score:.4f} | {chinese_embeddings['chinese translation'][idx]}\REMOVED_SECRET)REMOVED_SECRET
   ]
  }
 ],
 REMOVED_SECRETmetadataREMOVED_SECRET: {
  REMOVED_SECRETkernelspecREMOVED_SECRET: {
   REMOVED_SECRETdisplay_nameREMOVED_SECRET: REMOVED_SECRETbaseREMOVED_SECRET,
   REMOVED_SECRETlanguageREMOVED_SECRET: REMOVED_SECRETpythonREMOVED_SECRET,
   REMOVED_SECRETnameREMOVED_SECRET: REMOVED_SECRETpython3REMOVED_SECRET
  },
  REMOVED_SECRETlanguage_infoREMOVED_SECRET: {
   REMOVED_SECRETcodemirror_modeREMOVED_SECRET: {
    REMOVED_SECRETnameREMOVED_SECRET: REMOVED_SECRETipythonREMOVED_SECRET,
    REMOVED_SECRETversionREMOVED_SECRET: 3
   },
   REMOVED_SECRETfile_extensionREMOVED_SECRET: REMOVED_SECRET.pyREMOVED_SECRET,
   REMOVED_SECRETmimetypeREMOVED_SECRET: REMOVED_SECRETtext/x-pythonREMOVED_SECRET,
   REMOVED_SECRETnameREMOVED_SECRET: REMOVED_SECRETpythonREMOVED_SECRET,
   REMOVED_SECRETnbconvert_exporterREMOVED_SECRET: REMOVED_SECRETpythonREMOVED_SECRET,
   REMOVED_SECRETpygments_lexerREMOVED_SECRET: REMOVED_SECRETipython3REMOVED_SECRET,
   REMOVED_SECRETversionREMOVED_SECRET: REMOVED_SECRET3.9.18REMOVED_SECRET
  }
 },
 REMOVED_SECRETnbformatREMOVED_SECRET: 4,
 REMOVED_SECRETnbformat_minorREMOVED_SECRET: 2
}
