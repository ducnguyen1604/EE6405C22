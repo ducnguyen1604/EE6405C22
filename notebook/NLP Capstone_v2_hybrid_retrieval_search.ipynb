{
 REMOVED_SECRETcellsREMOVED_SECRET: [
  {
   REMOVED_SECRETcell_typeREMOVED_SECRET: REMOVED_SECRETmarkdownREMOVED_SECRET,
   REMOVED_SECRETmetadataREMOVED_SECRET: {},
   REMOVED_SECRETsourceREMOVED_SECRET: [
    REMOVED_SECRETRepeat of NLP Capstone V1 - ItalyREMOVED_SECRET
   ]
  },
  {
   REMOVED_SECRETcell_typeREMOVED_SECRET: REMOVED_SECRETcodeREMOVED_SECRET,
   REMOVED_SECRETexecution_countREMOVED_SECRET: null,
   REMOVED_SECRETmetadataREMOVED_SECRET: {},
   REMOVED_SECREToutputsREMOVED_SECRET: [],
   REMOVED_SECRETsourceREMOVED_SECRET: [
    REMOVED_SECRETimport pandas as pd\nREMOVED_SECRET,
    REMOVED_SECRET\nREMOVED_SECRET,
    REMOVED_SECRET\nREMOVED_SECRET,
    REMOVED_SECRET# Sample DataFrame with mixed titles\nREMOVED_SECRET,
    REMOVED_SECRETdata = pd.read_csv(r\REMOVED_SECRETC:\\Users\\Charran\\Documents\\General NLP Stuff\\EE6405-NLP\\target_en_to_it.csv\REMOVED_SECRET)\nREMOVED_SECRET,
    REMOVED_SECRETdf = pd.DataFrame(data)\nREMOVED_SECRET,
    REMOVED_SECRET#df = df[['title', 'product_description']]REMOVED_SECRET
   ]
  },
  {
   REMOVED_SECRETcell_typeREMOVED_SECRET: REMOVED_SECRETcodeREMOVED_SECRET,
   REMOVED_SECRETexecution_countREMOVED_SECRET: 3,
   REMOVED_SECRETmetadataREMOVED_SECRET: {},
   REMOVED_SECREToutputsREMOVED_SECRET: [
    {
     REMOVED_SECRETdataREMOVED_SECRET: {
      REMOVED_SECRETtext/htmlREMOVED_SECRET: [
       REMOVED_SECRET<div>\nREMOVED_SECRET,
       REMOVED_SECRET<style scoped>\nREMOVED_SECRET,
       REMOVED_SECRET    .dataframe tbody tr th:only-of-type {\nREMOVED_SECRET,
       REMOVED_SECRET        vertical-align: middle;\nREMOVED_SECRET,
       REMOVED_SECRET    }\nREMOVED_SECRET,
       REMOVED_SECRET\nREMOVED_SECRET,
       REMOVED_SECRET    .dataframe tbody tr th {\nREMOVED_SECRET,
       REMOVED_SECRET        vertical-align: top;\nREMOVED_SECRET,
       REMOVED_SECRET    }\nREMOVED_SECRET,
       REMOVED_SECRET\nREMOVED_SECRET,
       REMOVED_SECRET    .dataframe thead th {\nREMOVED_SECRET,
       REMOVED_SECRET        text-align: right;\nREMOVED_SECRET,
       REMOVED_SECRET    }\nREMOVED_SECRET,
       REMOVED_SECRET</style>\nREMOVED_SECRET,
       REMOVED_SECRET<table border=\REMOVED_SECRET1\REMOVED_SECRET class=\REMOVED_SECRETdataframe\REMOVED_SECRET>\nREMOVED_SECRET,
       REMOVED_SECRET  <thead>\nREMOVED_SECRET,
       REMOVED_SECRET    <tr style=\REMOVED_SECRETtext-align: right;\REMOVED_SECRET>\nREMOVED_SECRET,
       REMOVED_SECRET      <th></th>\nREMOVED_SECRET,
       REMOVED_SECRET      <th>title</th>\nREMOVED_SECRET,
       REMOVED_SECRET      <th>product_description</th>\nREMOVED_SECRET,
       REMOVED_SECRET      <th>title_italian</th>\nREMOVED_SECRET,
       REMOVED_SECRET      <th>productDescription_italian</th>\nREMOVED_SECRET,
       REMOVED_SECRET    </tr>\nREMOVED_SECRET,
       REMOVED_SECRET  </thead>\nREMOVED_SECRET,
       REMOVED_SECRET  <tbody>\nREMOVED_SECRET,
       REMOVED_SECRET    <tr>\nREMOVED_SECRET,
       REMOVED_SECRET      <th>0</th>\nREMOVED_SECRET,
       REMOVED_SECRET      <td>zwilling pro 2pc prep knife set</td>\nREMOVED_SECRET,
       REMOVED_SECRET      <td>this 2piece prep set will become the goto kniv...</td>\nREMOVED_SECRET,
       REMOVED_SECRET      <td>Zwilling pro 2pc set coltello prep</td>\nREMOVED_SECRET,
       REMOVED_SECRET      <td>Questo set prep da 2 pezzi diventerà i coltell...</td>\nREMOVED_SECRET,
       REMOVED_SECRET    </tr>\nREMOVED_SECRET,
       REMOVED_SECRET    <tr>\nREMOVED_SECRET,
       REMOVED_SECRET      <th>1</th>\nREMOVED_SECRET,
       REMOVED_SECRET      <td>womens slim fit drape wrap tshirt  a new day</td>\nREMOVED_SECRET,
       REMOVED_SECRET      <td>elevate your warmweather outfits with this sli...</td>\nREMOVED_SECRET,
       REMOVED_SECRET      <td>donne slim fit drappeggio avvolgere tshirt un ...</td>\nREMOVED_SECRET,
       REMOVED_SECRET      <td>elevare i vostri outfit warmweather con questo...</td>\nREMOVED_SECRET,
       REMOVED_SECRET    </tr>\nREMOVED_SECRET,
       REMOVED_SECRET    <tr>\nREMOVED_SECRET,
       REMOVED_SECRET      <th>2</th>\nREMOVED_SECRET,
       REMOVED_SECRET      <td>mens teenage mutant ninja turtles group shot l...</td>\nREMOVED_SECRET,
       REMOVED_SECRET      <td>cowabunga dude its time to explore the new yor...</td>\nREMOVED_SECRET,
       REMOVED_SECRET      <td>mens adolescente mutante ninja tartarughe grup...</td>\nREMOVED_SECRET,
       REMOVED_SECRET      <td>cowabunga tizio il suo tempo per esplorare il ...</td>\nREMOVED_SECRET,
       REMOVED_SECRET    </tr>\nREMOVED_SECRET,
       REMOVED_SECRET    <tr>\nREMOVED_SECRET,
       REMOVED_SECRET      <th>3</th>\nREMOVED_SECRET,
       REMOVED_SECRET      <td>mens wwe triple h the game logo tshirt</td>\nREMOVED_SECRET,
       REMOVED_SECRET      <td>ladies and gentlemen children of all ages from...</td>\nREMOVED_SECRET,
       REMOVED_SECRET      <td>mens wwe triplo h il gioco logo tshirt</td>\nREMOVED_SECRET,
       REMOVED_SECRET      <td>signore e signori bambini di tutte le età dal ...</td>\nREMOVED_SECRET,
       REMOVED_SECRET    </tr>\nREMOVED_SECRET,
       REMOVED_SECRET    <tr>\nREMOVED_SECRET,
       REMOVED_SECRET      <th>4</th>\nREMOVED_SECRET,
       REMOVED_SECRET      <td>purina fancy feast grilled gravy delights feas...</td>\nREMOVED_SECRET,
       REMOVED_SECRET      <td>give your cat a delightful gourmet meal with p...</td>\nREMOVED_SECRET,
       REMOVED_SECRET      <td>purina fantasia festa grigliato sugo delizie f...</td>\nREMOVED_SECRET,
       REMOVED_SECRET      <td>dare al vostro gatto un delizioso pasto gourme...</td>\nREMOVED_SECRET,
       REMOVED_SECRET    </tr>\nREMOVED_SECRET,
       REMOVED_SECRET    <tr>\nREMOVED_SECRET,
       REMOVED_SECRET      <th>...</th>\nREMOVED_SECRET,
       REMOVED_SECRET      <td>...</td>\nREMOVED_SECRET,
       REMOVED_SECRET      <td>...</td>\nREMOVED_SECRET,
       REMOVED_SECRET      <td>...</td>\nREMOVED_SECRET,
       REMOVED_SECRET      <td>...</td>\nREMOVED_SECRET,
       REMOVED_SECRET    </tr>\nREMOVED_SECRET,
       REMOVED_SECRET    <tr>\nREMOVED_SECRET,
       REMOVED_SECRET      <th>992</th>\nREMOVED_SECRET,
       REMOVED_SECRET      <td>multi collagen protein powder types i ii  ii b...</td>\nREMOVED_SECRET,
       REMOVED_SECRET      <td>multi collagen protein powder types i ii  ii 1...</td>\nREMOVED_SECRET,
       REMOVED_SECRET      <td>proteine multi collageno in polvere ii ii ii o...</td>\nREMOVED_SECRET,
       REMOVED_SECRET      <td>Il collagene multi collageno in polvere ii ii ...</td>\nREMOVED_SECRET,
       REMOVED_SECRET    </tr>\nREMOVED_SECRET,
       REMOVED_SECRET    <tr>\nREMOVED_SECRET,
       REMOVED_SECRET      <th>993</th>\nREMOVED_SECRET,
       REMOVED_SECRET      <td>hope  henry mens waffle knit pullover sweater</td>\nREMOVED_SECRET,
       REMOVED_SECRET      <td>this sweater in our soft 100 organic cotton wi...</td>\nREMOVED_SECRET,
       REMOVED_SECRET      <td>speranza henry uomo waffle maglia pullover mag...</td>\nREMOVED_SECRET,
       REMOVED_SECRET      <td>questo maglione nel nostro morbido cotone biol...</td>\nREMOVED_SECRET,
       REMOVED_SECRET    </tr>\nREMOVED_SECRET,
       REMOVED_SECRET    <tr>\nREMOVED_SECRET,
       REMOVED_SECRET      <th>994</th>\nREMOVED_SECRET,
       REMOVED_SECRET      <td>noritake colortrio 16piece coupe dinnerware set</td>\nREMOVED_SECRET,
       REMOVED_SECRET      <td>noritake colortrio clay 16piece set coupe in b...</td>\nREMOVED_SECRET,
       REMOVED_SECRET      <td>noritake colortio 16 pezzi coupé set per la cena</td>\nREMOVED_SECRET,
       REMOVED_SECRET      <td>noritake colortrio argilla 16piece set coupé i...</td>\nREMOVED_SECRET,
       REMOVED_SECRET    </tr>\nREMOVED_SECRET,
       REMOVED_SECRET    <tr>\nREMOVED_SECRET,
       REMOVED_SECRET      <th>995</th>\nREMOVED_SECRET,
       REMOVED_SECRET      <td>hope  henry mens fine gauge vneck pullover swe...</td>\nREMOVED_SECRET,
       REMOVED_SECRET      <td>this sweater in our soft 100 organic cotton wi...</td>\nREMOVED_SECRET,
       REMOVED_SECRET      <td>speranza henry mens maglione pullover fine gau...</td>\nREMOVED_SECRET,
       REMOVED_SECRET      <td>questo maglione nel nostro morbido cotone biol...</td>\nREMOVED_SECRET,
       REMOVED_SECRET    </tr>\nREMOVED_SECRET,
       REMOVED_SECRET    <tr>\nREMOVED_SECRET,
       REMOVED_SECRET      <th>996</th>\nREMOVED_SECRET,
       REMOVED_SECRET      <td>double strength larginine 1000 mg by now foods...</td>\nREMOVED_SECRET,
       REMOVED_SECRET      <td>double strength larginine 1000 mg 180 tablet d...</td>\nREMOVED_SECRET,
       REMOVED_SECRET      <td>larginina 1000 mg a doppia resistenza ormai al...</td>\nREMOVED_SECRET,
       REMOVED_SECRET      <td>Larginina a doppia concentrazione 1000 mg 180 ...</td>\nREMOVED_SECRET,
       REMOVED_SECRET    </tr>\nREMOVED_SECRET,
       REMOVED_SECRET  </tbody>\nREMOVED_SECRET,
       REMOVED_SECRET</table>\nREMOVED_SECRET,
       REMOVED_SECRET<p>997 rows × 4 columns</p>\nREMOVED_SECRET,
       REMOVED_SECRET</div>REMOVED_SECRET
      ],
      REMOVED_SECRETtext/plainREMOVED_SECRET: [
       REMOVED_SECRET                                                 title  \\\nREMOVED_SECRET,
       REMOVED_SECRET0                      zwilling pro 2pc prep knife set   \nREMOVED_SECRET,
       REMOVED_SECRET1         womens slim fit drape wrap tshirt  a new day   \nREMOVED_SECRET,
       REMOVED_SECRET2    mens teenage mutant ninja turtles group shot l...   \nREMOVED_SECRET,
       REMOVED_SECRET3               mens wwe triple h the game logo tshirt   \nREMOVED_SECRET,
       REMOVED_SECRET4    purina fancy feast grilled gravy delights feas...   \nREMOVED_SECRET,
       REMOVED_SECRET..                                                 ...   \nREMOVED_SECRET,
       REMOVED_SECRET992  multi collagen protein powder types i ii  ii b...   \nREMOVED_SECRET,
       REMOVED_SECRET993      hope  henry mens waffle knit pullover sweater   \nREMOVED_SECRET,
       REMOVED_SECRET994    noritake colortrio 16piece coupe dinnerware set   \nREMOVED_SECRET,
       REMOVED_SECRET995  hope  henry mens fine gauge vneck pullover swe...   \nREMOVED_SECRET,
       REMOVED_SECRET996  double strength larginine 1000 mg by now foods...   \nREMOVED_SECRET,
       REMOVED_SECRET\nREMOVED_SECRET,
       REMOVED_SECRET                                   product_description  \\\nREMOVED_SECRET,
       REMOVED_SECRET0    this 2piece prep set will become the goto kniv...   \nREMOVED_SECRET,
       REMOVED_SECRET1    elevate your warmweather outfits with this sli...   \nREMOVED_SECRET,
       REMOVED_SECRET2    cowabunga dude its time to explore the new yor...   \nREMOVED_SECRET,
       REMOVED_SECRET3    ladies and gentlemen children of all ages from...   \nREMOVED_SECRET,
       REMOVED_SECRET4    give your cat a delightful gourmet meal with p...   \nREMOVED_SECRET,
       REMOVED_SECRET..                                                 ...   \nREMOVED_SECRET,
       REMOVED_SECRET992  multi collagen protein powder types i ii  ii 1...   \nREMOVED_SECRET,
       REMOVED_SECRET993  this sweater in our soft 100 organic cotton wi...   \nREMOVED_SECRET,
       REMOVED_SECRET994  noritake colortrio clay 16piece set coupe in b...   \nREMOVED_SECRET,
       REMOVED_SECRET995  this sweater in our soft 100 organic cotton wi...   \nREMOVED_SECRET,
       REMOVED_SECRET996  double strength larginine 1000 mg 180 tablet d...   \nREMOVED_SECRET,
       REMOVED_SECRET\nREMOVED_SECRET,
       REMOVED_SECRET                                         title_italian  \\\nREMOVED_SECRET,
       REMOVED_SECRET0                   Zwilling pro 2pc set coltello prep   \nREMOVED_SECRET,
       REMOVED_SECRET1    donne slim fit drappeggio avvolgere tshirt un ...   \nREMOVED_SECRET,
       REMOVED_SECRET2    mens adolescente mutante ninja tartarughe grup...   \nREMOVED_SECRET,
       REMOVED_SECRET3               mens wwe triplo h il gioco logo tshirt   \nREMOVED_SECRET,
       REMOVED_SECRET4    purina fantasia festa grigliato sugo delizie f...   \nREMOVED_SECRET,
       REMOVED_SECRET..                                                 ...   \nREMOVED_SECRET,
       REMOVED_SECRET992  proteine multi collageno in polvere ii ii ii o...   \nREMOVED_SECRET,
       REMOVED_SECRET993  speranza henry uomo waffle maglia pullover mag...   \nREMOVED_SECRET,
       REMOVED_SECRET994   noritake colortio 16 pezzi coupé set per la cena   \nREMOVED_SECRET,
       REMOVED_SECRET995  speranza henry mens maglione pullover fine gau...   \nREMOVED_SECRET,
       REMOVED_SECRET996  larginina 1000 mg a doppia resistenza ormai al...   \nREMOVED_SECRET,
       REMOVED_SECRET\nREMOVED_SECRET,
       REMOVED_SECRET                            productDescription_italian  \nREMOVED_SECRET,
       REMOVED_SECRET0    Questo set prep da 2 pezzi diventerà i coltell...  \nREMOVED_SECRET,
       REMOVED_SECRET1    elevare i vostri outfit warmweather con questo...  \nREMOVED_SECRET,
       REMOVED_SECRET2    cowabunga tizio il suo tempo per esplorare il ...  \nREMOVED_SECRET,
       REMOVED_SECRET3    signore e signori bambini di tutte le età dal ...  \nREMOVED_SECRET,
       REMOVED_SECRET4    dare al vostro gatto un delizioso pasto gourme...  \nREMOVED_SECRET,
       REMOVED_SECRET..                                                 ...  \nREMOVED_SECRET,
       REMOVED_SECRET992  Il collagene multi collageno in polvere ii ii ...  \nREMOVED_SECRET,
       REMOVED_SECRET993  questo maglione nel nostro morbido cotone biol...  \nREMOVED_SECRET,
       REMOVED_SECRET994  noritake colortrio argilla 16piece set coupé i...  \nREMOVED_SECRET,
       REMOVED_SECRET995  questo maglione nel nostro morbido cotone biol...  \nREMOVED_SECRET,
       REMOVED_SECRET996  Larginina a doppia concentrazione 1000 mg 180 ...  \nREMOVED_SECRET,
       REMOVED_SECRET\nREMOVED_SECRET,
       REMOVED_SECRET[997 rows x 4 columns]REMOVED_SECRET
      ]
     },
     REMOVED_SECRETexecution_countREMOVED_SECRET: 3,
     REMOVED_SECRETmetadataREMOVED_SECRET: {},
     REMOVED_SECREToutput_typeREMOVED_SECRET: REMOVED_SECRETexecute_resultREMOVED_SECRET
    }
   ],
   REMOVED_SECRETsourceREMOVED_SECRET: [
    REMOVED_SECRETdfREMOVED_SECRET
   ]
  },
  {
   REMOVED_SECRETcell_typeREMOVED_SECRET: REMOVED_SECRETcodeREMOVED_SECRET,
   REMOVED_SECRETexecution_countREMOVED_SECRET: 4,
   REMOVED_SECRETmetadataREMOVED_SECRET: {},
   REMOVED_SECREToutputsREMOVED_SECRET: [
    {
     REMOVED_SECRETnameREMOVED_SECRET: REMOVED_SECRETstderrREMOVED_SECRET,
     REMOVED_SECREToutput_typeREMOVED_SECRET: REMOVED_SECRETstreamREMOVED_SECRET,
     REMOVED_SECRETtextREMOVED_SECRET: [
      REMOVED_SECRETc:\\Users\\Charran\\anaconda3\\envs\\pytorch_cuda\\Lib\\site-packages\\torch\\_utils.py:776: UserWarning: TypedStorage is deprecated. It will be removed in the future and UntypedStorage will be the only storage class. This should only matter to you if you are using storages directly.  To access UntypedStorage directly, use tensor.untyped_storage() instead of tensor.storage()\nREMOVED_SECRET,
      REMOVED_SECRET  return self.fget.__get__(instance, owner)()\nREMOVED_SECRET
     ]
    },
    {
     REMOVED_SECRETnameREMOVED_SECRET: REMOVED_SECRETstdoutREMOVED_SECRET,
     REMOVED_SECREToutput_typeREMOVED_SECRET: REMOVED_SECRETstreamREMOVED_SECRET,
     REMOVED_SECRETtextREMOVED_SECRET: [
      REMOVED_SECRETtorch.Size([4, 4])\nREMOVED_SECRET
     ]
    }
   ],
   REMOVED_SECRETsourceREMOVED_SECRET: [
    REMOVED_SECRETfrom sentence_transformers import SentenceTransformer\nREMOVED_SECRET,
    REMOVED_SECRET\nREMOVED_SECRET,
    REMOVED_SECRETmodel = SentenceTransformer(\REMOVED_SECRETBAAI/bge-m3\REMOVED_SECRET)\nREMOVED_SECRET,
    REMOVED_SECRET\nREMOVED_SECRET,
    REMOVED_SECRETsentences = [\nREMOVED_SECRET,
    REMOVED_SECRET    \REMOVED_SECRETThat is a happy person\REMOVED_SECRET,\nREMOVED_SECRET,
    REMOVED_SECRET    \REMOVED_SECRETThat is a happy dog\REMOVED_SECRET,\nREMOVED_SECRET,
    REMOVED_SECRET    \REMOVED_SECRETThat is a very happy person\REMOVED_SECRET,\nREMOVED_SECRET,
    REMOVED_SECRET    \REMOVED_SECRETToday is a sunny day\REMOVED_SECRET\nREMOVED_SECRET,
    REMOVED_SECRET]\nREMOVED_SECRET,
    REMOVED_SECRETembeddings = model.encode(sentences)\nREMOVED_SECRET,
    REMOVED_SECRET\nREMOVED_SECRET,
    REMOVED_SECRETsimilarities = model.similarity(embeddings, embeddings)\nREMOVED_SECRET,
    REMOVED_SECRETprint(similarities.shape)\nREMOVED_SECRET,
    REMOVED_SECRET# [4, 4]REMOVED_SECRET
   ]
  },
  {
   REMOVED_SECRETcell_typeREMOVED_SECRET: REMOVED_SECRETcodeREMOVED_SECRET,
   REMOVED_SECRETexecution_countREMOVED_SECRET: null,
   REMOVED_SECRETmetadataREMOVED_SECRET: {},
   REMOVED_SECREToutputsREMOVED_SECRET: [],
   REMOVED_SECRETsourceREMOVED_SECRET: [
    REMOVED_SECRET#basic data cleaning \nREMOVED_SECRET,
    REMOVED_SECRETdf1 = df.drop_duplicates()\nREMOVED_SECRET,
    REMOVED_SECRET\nREMOVED_SECRET,
    REMOVED_SECRETdf1.reset_index(drop=True, inplace=True)REMOVED_SECRET
   ]
  },
  {
   REMOVED_SECRETcell_typeREMOVED_SECRET: REMOVED_SECRETcodeREMOVED_SECRET,
   REMOVED_SECRETexecution_countREMOVED_SECRET: 9,
   REMOVED_SECRETmetadataREMOVED_SECRET: {},
   REMOVED_SECREToutputsREMOVED_SECRET: [
    {
     REMOVED_SECRETdataREMOVED_SECRET: {
      REMOVED_SECRETtext/htmlREMOVED_SECRET: [
       REMOVED_SECRET<div>\nREMOVED_SECRET,
       REMOVED_SECRET<style scoped>\nREMOVED_SECRET,
       REMOVED_SECRET    .dataframe tbody tr th:only-of-type {\nREMOVED_SECRET,
       REMOVED_SECRET        vertical-align: middle;\nREMOVED_SECRET,
       REMOVED_SECRET    }\nREMOVED_SECRET,
       REMOVED_SECRET\nREMOVED_SECRET,
       REMOVED_SECRET    .dataframe tbody tr th {\nREMOVED_SECRET,
       REMOVED_SECRET        vertical-align: top;\nREMOVED_SECRET,
       REMOVED_SECRET    }\nREMOVED_SECRET,
       REMOVED_SECRET\nREMOVED_SECRET,
       REMOVED_SECRET    .dataframe thead th {\nREMOVED_SECRET,
       REMOVED_SECRET        text-align: right;\nREMOVED_SECRET,
       REMOVED_SECRET    }\nREMOVED_SECRET,
       REMOVED_SECRET</style>\nREMOVED_SECRET,
       REMOVED_SECRET<table border=\REMOVED_SECRET1\REMOVED_SECRET class=\REMOVED_SECRETdataframe\REMOVED_SECRET>\nREMOVED_SECRET,
       REMOVED_SECRET  <thead>\nREMOVED_SECRET,
       REMOVED_SECRET    <tr style=\REMOVED_SECRETtext-align: right;\REMOVED_SECRET>\nREMOVED_SECRET,
       REMOVED_SECRET      <th></th>\nREMOVED_SECRET,
       REMOVED_SECRET      <th>title</th>\nREMOVED_SECRET,
       REMOVED_SECRET      <th>product_description</th>\nREMOVED_SECRET,
       REMOVED_SECRET      <th>title_italian</th>\nREMOVED_SECRET,
       REMOVED_SECRET      <th>productDescription_italian</th>\nREMOVED_SECRET,
       REMOVED_SECRET    </tr>\nREMOVED_SECRET,
       REMOVED_SECRET  </thead>\nREMOVED_SECRET,
       REMOVED_SECRET  <tbody>\nREMOVED_SECRET,
       REMOVED_SECRET    <tr>\nREMOVED_SECRET,
       REMOVED_SECRET      <th>0</th>\nREMOVED_SECRET,
       REMOVED_SECRET      <td>zwilling pro 2pc prep knife set</td>\nREMOVED_SECRET,
       REMOVED_SECRET      <td>this 2piece prep set will become the goto kniv...</td>\nREMOVED_SECRET,
       REMOVED_SECRET      <td>Zwilling pro 2pc set coltello prep</td>\nREMOVED_SECRET,
       REMOVED_SECRET      <td>Questo set prep da 2 pezzi diventerà i coltell...</td>\nREMOVED_SECRET,
       REMOVED_SECRET    </tr>\nREMOVED_SECRET,
       REMOVED_SECRET    <tr>\nREMOVED_SECRET,
       REMOVED_SECRET      <th>1</th>\nREMOVED_SECRET,
       REMOVED_SECRET      <td>womens slim fit drape wrap tshirt  a new day</td>\nREMOVED_SECRET,
       REMOVED_SECRET      <td>elevate your warmweather outfits with this sli...</td>\nREMOVED_SECRET,
       REMOVED_SECRET      <td>donne slim fit drappeggio avvolgere tshirt un ...</td>\nREMOVED_SECRET,
       REMOVED_SECRET      <td>elevare i vostri outfit warmweather con questo...</td>\nREMOVED_SECRET,
       REMOVED_SECRET    </tr>\nREMOVED_SECRET,
       REMOVED_SECRET    <tr>\nREMOVED_SECRET,
       REMOVED_SECRET      <th>2</th>\nREMOVED_SECRET,
       REMOVED_SECRET      <td>mens teenage mutant ninja turtles group shot l...</td>\nREMOVED_SECRET,
       REMOVED_SECRET      <td>cowabunga dude its time to explore the new yor...</td>\nREMOVED_SECRET,
       REMOVED_SECRET      <td>mens adolescente mutante ninja tartarughe grup...</td>\nREMOVED_SECRET,
       REMOVED_SECRET      <td>cowabunga tizio il suo tempo per esplorare il ...</td>\nREMOVED_SECRET,
       REMOVED_SECRET    </tr>\nREMOVED_SECRET,
       REMOVED_SECRET    <tr>\nREMOVED_SECRET,
       REMOVED_SECRET      <th>3</th>\nREMOVED_SECRET,
       REMOVED_SECRET      <td>mens wwe triple h the game logo tshirt</td>\nREMOVED_SECRET,
       REMOVED_SECRET      <td>ladies and gentlemen children of all ages from...</td>\nREMOVED_SECRET,
       REMOVED_SECRET      <td>mens wwe triplo h il gioco logo tshirt</td>\nREMOVED_SECRET,
       REMOVED_SECRET      <td>signore e signori bambini di tutte le età dal ...</td>\nREMOVED_SECRET,
       REMOVED_SECRET    </tr>\nREMOVED_SECRET,
       REMOVED_SECRET    <tr>\nREMOVED_SECRET,
       REMOVED_SECRET      <th>4</th>\nREMOVED_SECRET,
       REMOVED_SECRET      <td>purina fancy feast grilled gravy delights feas...</td>\nREMOVED_SECRET,
       REMOVED_SECRET      <td>give your cat a delightful gourmet meal with p...</td>\nREMOVED_SECRET,
       REMOVED_SECRET      <td>purina fantasia festa grigliato sugo delizie f...</td>\nREMOVED_SECRET,
       REMOVED_SECRET      <td>dare al vostro gatto un delizioso pasto gourme...</td>\nREMOVED_SECRET,
       REMOVED_SECRET    </tr>\nREMOVED_SECRET,
       REMOVED_SECRET    <tr>\nREMOVED_SECRET,
       REMOVED_SECRET      <th>...</th>\nREMOVED_SECRET,
       REMOVED_SECRET      <td>...</td>\nREMOVED_SECRET,
       REMOVED_SECRET      <td>...</td>\nREMOVED_SECRET,
       REMOVED_SECRET      <td>...</td>\nREMOVED_SECRET,
       REMOVED_SECRET      <td>...</td>\nREMOVED_SECRET,
       REMOVED_SECRET    </tr>\nREMOVED_SECRET,
       REMOVED_SECRET    <tr>\nREMOVED_SECRET,
       REMOVED_SECRET      <th>868</th>\nREMOVED_SECRET,
       REMOVED_SECRET      <td>multi collagen protein powder types i ii  ii b...</td>\nREMOVED_SECRET,
       REMOVED_SECRET      <td>multi collagen protein powder types i ii  ii 1...</td>\nREMOVED_SECRET,
       REMOVED_SECRET      <td>proteine multi collageno in polvere ii ii ii o...</td>\nREMOVED_SECRET,
       REMOVED_SECRET      <td>Il collagene multi collageno in polvere ii ii ...</td>\nREMOVED_SECRET,
       REMOVED_SECRET    </tr>\nREMOVED_SECRET,
       REMOVED_SECRET    <tr>\nREMOVED_SECRET,
       REMOVED_SECRET      <th>869</th>\nREMOVED_SECRET,
       REMOVED_SECRET      <td>hope  henry mens waffle knit pullover sweater</td>\nREMOVED_SECRET,
       REMOVED_SECRET      <td>this sweater in our soft 100 organic cotton wi...</td>\nREMOVED_SECRET,
       REMOVED_SECRET      <td>speranza henry uomo waffle maglia pullover mag...</td>\nREMOVED_SECRET,
       REMOVED_SECRET      <td>questo maglione nel nostro morbido cotone biol...</td>\nREMOVED_SECRET,
       REMOVED_SECRET    </tr>\nREMOVED_SECRET,
       REMOVED_SECRET    <tr>\nREMOVED_SECRET,
       REMOVED_SECRET      <th>870</th>\nREMOVED_SECRET,
       REMOVED_SECRET      <td>noritake colortrio 16piece coupe dinnerware set</td>\nREMOVED_SECRET,
       REMOVED_SECRET      <td>noritake colortrio clay 16piece set coupe in b...</td>\nREMOVED_SECRET,
       REMOVED_SECRET      <td>noritake colortio 16 pezzi coupé set per la cena</td>\nREMOVED_SECRET,
       REMOVED_SECRET      <td>noritake colortrio argilla 16piece set coupé i...</td>\nREMOVED_SECRET,
       REMOVED_SECRET    </tr>\nREMOVED_SECRET,
       REMOVED_SECRET    <tr>\nREMOVED_SECRET,
       REMOVED_SECRET      <th>871</th>\nREMOVED_SECRET,
       REMOVED_SECRET      <td>hope  henry mens fine gauge vneck pullover swe...</td>\nREMOVED_SECRET,
       REMOVED_SECRET      <td>this sweater in our soft 100 organic cotton wi...</td>\nREMOVED_SECRET,
       REMOVED_SECRET      <td>speranza henry mens maglione pullover fine gau...</td>\nREMOVED_SECRET,
       REMOVED_SECRET      <td>questo maglione nel nostro morbido cotone biol...</td>\nREMOVED_SECRET,
       REMOVED_SECRET    </tr>\nREMOVED_SECRET,
       REMOVED_SECRET    <tr>\nREMOVED_SECRET,
       REMOVED_SECRET      <th>872</th>\nREMOVED_SECRET,
       REMOVED_SECRET      <td>double strength larginine 1000 mg by now foods...</td>\nREMOVED_SECRET,
       REMOVED_SECRET      <td>double strength larginine 1000 mg 180 tablet d...</td>\nREMOVED_SECRET,
       REMOVED_SECRET      <td>larginina 1000 mg a doppia resistenza ormai al...</td>\nREMOVED_SECRET,
       REMOVED_SECRET      <td>Larginina a doppia concentrazione 1000 mg 180 ...</td>\nREMOVED_SECRET,
       REMOVED_SECRET    </tr>\nREMOVED_SECRET,
       REMOVED_SECRET  </tbody>\nREMOVED_SECRET,
       REMOVED_SECRET</table>\nREMOVED_SECRET,
       REMOVED_SECRET<p>873 rows × 4 columns</p>\nREMOVED_SECRET,
       REMOVED_SECRET</div>REMOVED_SECRET
      ],
      REMOVED_SECRETtext/plainREMOVED_SECRET: [
       REMOVED_SECRET                                                 title  \\\nREMOVED_SECRET,
       REMOVED_SECRET0                      zwilling pro 2pc prep knife set   \nREMOVED_SECRET,
       REMOVED_SECRET1         womens slim fit drape wrap tshirt  a new day   \nREMOVED_SECRET,
       REMOVED_SECRET2    mens teenage mutant ninja turtles group shot l...   \nREMOVED_SECRET,
       REMOVED_SECRET3               mens wwe triple h the game logo tshirt   \nREMOVED_SECRET,
       REMOVED_SECRET4    purina fancy feast grilled gravy delights feas...   \nREMOVED_SECRET,
       REMOVED_SECRET..                                                 ...   \nREMOVED_SECRET,
       REMOVED_SECRET868  multi collagen protein powder types i ii  ii b...   \nREMOVED_SECRET,
       REMOVED_SECRET869      hope  henry mens waffle knit pullover sweater   \nREMOVED_SECRET,
       REMOVED_SECRET870    noritake colortrio 16piece coupe dinnerware set   \nREMOVED_SECRET,
       REMOVED_SECRET871  hope  henry mens fine gauge vneck pullover swe...   \nREMOVED_SECRET,
       REMOVED_SECRET872  double strength larginine 1000 mg by now foods...   \nREMOVED_SECRET,
       REMOVED_SECRET\nREMOVED_SECRET,
       REMOVED_SECRET                                   product_description  \\\nREMOVED_SECRET,
       REMOVED_SECRET0    this 2piece prep set will become the goto kniv...   \nREMOVED_SECRET,
       REMOVED_SECRET1    elevate your warmweather outfits with this sli...   \nREMOVED_SECRET,
       REMOVED_SECRET2    cowabunga dude its time to explore the new yor...   \nREMOVED_SECRET,
       REMOVED_SECRET3    ladies and gentlemen children of all ages from...   \nREMOVED_SECRET,
       REMOVED_SECRET4    give your cat a delightful gourmet meal with p...   \nREMOVED_SECRET,
       REMOVED_SECRET..                                                 ...   \nREMOVED_SECRET,
       REMOVED_SECRET868  multi collagen protein powder types i ii  ii 1...   \nREMOVED_SECRET,
       REMOVED_SECRET869  this sweater in our soft 100 organic cotton wi...   \nREMOVED_SECRET,
       REMOVED_SECRET870  noritake colortrio clay 16piece set coupe in b...   \nREMOVED_SECRET,
       REMOVED_SECRET871  this sweater in our soft 100 organic cotton wi...   \nREMOVED_SECRET,
       REMOVED_SECRET872  double strength larginine 1000 mg 180 tablet d...   \nREMOVED_SECRET,
       REMOVED_SECRET\nREMOVED_SECRET,
       REMOVED_SECRET                                         title_italian  \\\nREMOVED_SECRET,
       REMOVED_SECRET0                   Zwilling pro 2pc set coltello prep   \nREMOVED_SECRET,
       REMOVED_SECRET1    donne slim fit drappeggio avvolgere tshirt un ...   \nREMOVED_SECRET,
       REMOVED_SECRET2    mens adolescente mutante ninja tartarughe grup...   \nREMOVED_SECRET,
       REMOVED_SECRET3               mens wwe triplo h il gioco logo tshirt   \nREMOVED_SECRET,
       REMOVED_SECRET4    purina fantasia festa grigliato sugo delizie f...   \nREMOVED_SECRET,
       REMOVED_SECRET..                                                 ...   \nREMOVED_SECRET,
       REMOVED_SECRET868  proteine multi collageno in polvere ii ii ii o...   \nREMOVED_SECRET,
       REMOVED_SECRET869  speranza henry uomo waffle maglia pullover mag...   \nREMOVED_SECRET,
       REMOVED_SECRET870   noritake colortio 16 pezzi coupé set per la cena   \nREMOVED_SECRET,
       REMOVED_SECRET871  speranza henry mens maglione pullover fine gau...   \nREMOVED_SECRET,
       REMOVED_SECRET872  larginina 1000 mg a doppia resistenza ormai al...   \nREMOVED_SECRET,
       REMOVED_SECRET\nREMOVED_SECRET,
       REMOVED_SECRET                            productDescription_italian  \nREMOVED_SECRET,
       REMOVED_SECRET0    Questo set prep da 2 pezzi diventerà i coltell...  \nREMOVED_SECRET,
       REMOVED_SECRET1    elevare i vostri outfit warmweather con questo...  \nREMOVED_SECRET,
       REMOVED_SECRET2    cowabunga tizio il suo tempo per esplorare il ...  \nREMOVED_SECRET,
       REMOVED_SECRET3    signore e signori bambini di tutte le età dal ...  \nREMOVED_SECRET,
       REMOVED_SECRET4    dare al vostro gatto un delizioso pasto gourme...  \nREMOVED_SECRET,
       REMOVED_SECRET..                                                 ...  \nREMOVED_SECRET,
       REMOVED_SECRET868  Il collagene multi collageno in polvere ii ii ...  \nREMOVED_SECRET,
       REMOVED_SECRET869  questo maglione nel nostro morbido cotone biol...  \nREMOVED_SECRET,
       REMOVED_SECRET870  noritake colortrio argilla 16piece set coupé i...  \nREMOVED_SECRET,
       REMOVED_SECRET871  questo maglione nel nostro morbido cotone biol...  \nREMOVED_SECRET,
       REMOVED_SECRET872  Larginina a doppia concentrazione 1000 mg 180 ...  \nREMOVED_SECRET,
       REMOVED_SECRET\nREMOVED_SECRET,
       REMOVED_SECRET[873 rows x 4 columns]REMOVED_SECRET
      ]
     },
     REMOVED_SECRETexecution_countREMOVED_SECRET: 9,
     REMOVED_SECRETmetadataREMOVED_SECRET: {},
     REMOVED_SECREToutput_typeREMOVED_SECRET: REMOVED_SECRETexecute_resultREMOVED_SECRET
    }
   ],
   REMOVED_SECRETsourceREMOVED_SECRET: [
    REMOVED_SECRETdf1REMOVED_SECRET
   ]
  },
  {
   REMOVED_SECRETcell_typeREMOVED_SECRET: REMOVED_SECRETcodeREMOVED_SECRET,
   REMOVED_SECRETexecution_countREMOVED_SECRET: 14,
   REMOVED_SECRETmetadataREMOVED_SECRET: {},
   REMOVED_SECREToutputsREMOVED_SECRET: [],
   REMOVED_SECRETsourceREMOVED_SECRET: [
    REMOVED_SECRETtitle_lengths = df['title'].str.len().describe()\nREMOVED_SECRET,
    REMOVED_SECRET#df['product_description'].str.split().apply(len).describe()\nREMOVED_SECRET,
    REMOVED_SECRET#df['title_italian'].str.len().describe()\nREMOVED_SECRET,
    REMOVED_SECRET#df['productDescription_italian'].str.split().apply(len).describe()REMOVED_SECRET
   ]
  },
  {
   REMOVED_SECRETcell_typeREMOVED_SECRET: REMOVED_SECRETcodeREMOVED_SECRET,
   REMOVED_SECRETexecution_countREMOVED_SECRET: 17,
   REMOVED_SECRETmetadataREMOVED_SECRET: {},
   REMOVED_SECREToutputsREMOVED_SECRET: [],
   REMOVED_SECRETsourceREMOVED_SECRET: [
    REMOVED_SECRETtitle_lengths_it = df['title_italian'].str.len().describe()REMOVED_SECRET
   ]
  },
  {
   REMOVED_SECRETcell_typeREMOVED_SECRET: REMOVED_SECRETcodeREMOVED_SECRET,
   REMOVED_SECRETexecution_countREMOVED_SECRET: 13,
   REMOVED_SECRETmetadataREMOVED_SECRET: {},
   REMOVED_SECREToutputsREMOVED_SECRET: [
    {
     REMOVED_SECRETdataREMOVED_SECRET: {
      REMOVED_SECRETtext/plainREMOVED_SECRET: [
       REMOVED_SECRET18REMOVED_SECRET
      ]
     },
     REMOVED_SECRETexecution_countREMOVED_SECRET: 13,
     REMOVED_SECRETmetadataREMOVED_SECRET: {},
     REMOVED_SECREToutput_typeREMOVED_SECRET: REMOVED_SECRETexecute_resultREMOVED_SECRET
    }
   ],
   REMOVED_SECRETsourceREMOVED_SECRET: [
    REMOVED_SECRET(df['title'] == df['title_italian']).sum()\nREMOVED_SECRET
   ]
  },
  {
   REMOVED_SECRETcell_typeREMOVED_SECRET: REMOVED_SECRETmarkdownREMOVED_SECRET,
   REMOVED_SECRETmetadataREMOVED_SECRET: {},
   REMOVED_SECRETsourceREMOVED_SECRET: [
    REMOVED_SECRETBasic Exploratory data analysisREMOVED_SECRET
   ]
  },
  {
   REMOVED_SECRETcell_typeREMOVED_SECRET: REMOVED_SECRETcodeREMOVED_SECRET,
   REMOVED_SECRETexecution_countREMOVED_SECRET: 15,
   REMOVED_SECRETmetadataREMOVED_SECRET: {},
   REMOVED_SECREToutputsREMOVED_SECRET: [
    {
     REMOVED_SECRETdataREMOVED_SECRET: {
      REMOVED_SECRETimage/pngREMOVED_SECRET: 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REMOVED_SECRET,
      REMOVED_SECRETtext/plainREMOVED_SECRET: [
       REMOVED_SECRET<Figure size 640x480 with 1 Axes>REMOVED_SECRET
      ]
     },
     REMOVED_SECRETmetadataREMOVED_SECRET: {},
     REMOVED_SECREToutput_typeREMOVED_SECRET: REMOVED_SECRETdisplay_dataREMOVED_SECRET
    }
   ],
   REMOVED_SECRETsourceREMOVED_SECRET: [
    REMOVED_SECRETimport matplotlib.pyplot as plt\nREMOVED_SECRET,
    REMOVED_SECRET\nREMOVED_SECRET,
    REMOVED_SECRET\nREMOVED_SECRET,
    REMOVED_SECRETplt.hist(title_lengths, bins=20)\nREMOVED_SECRET,
    REMOVED_SECRETplt.title(\REMOVED_SECRETDistribution of Word Counts in English Titles\REMOVED_SECRET)\nREMOVED_SECRET,
    REMOVED_SECRETplt.xlabel(\REMOVED_SECRETNumber of Words\REMOVED_SECRET)\nREMOVED_SECRET,
    REMOVED_SECRETplt.ylabel(\REMOVED_SECRETFrequency\REMOVED_SECRET)\nREMOVED_SECRET,
    REMOVED_SECRETplt.show()\nREMOVED_SECRET
   ]
  },
  {
   REMOVED_SECRETcell_typeREMOVED_SECRET: REMOVED_SECRETcodeREMOVED_SECRET,
   REMOVED_SECRETexecution_countREMOVED_SECRET: null,
   REMOVED_SECRETmetadataREMOVED_SECRET: {},
   REMOVED_SECREToutputsREMOVED_SECRET: [
    {
     REMOVED_SECRETdataREMOVED_SECRET: {
      REMOVED_SECRETimage/pngREMOVED_SECRET: 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,
      REMOVED_SECRETtext/plainREMOVED_SECRET: [
       REMOVED_SECRET<Figure size 640x480 with 1 Axes>REMOVED_SECRET
      ]
     },
     REMOVED_SECRETmetadataREMOVED_SECRET: {},
     REMOVED_SECREToutput_typeREMOVED_SECRET: REMOVED_SECRETdisplay_dataREMOVED_SECRET
    }
   ],
   REMOVED_SECRETsourceREMOVED_SECRET: [
    REMOVED_SECRETplt.hist(title_lengths_it, bins=20)\nREMOVED_SECRET,
    REMOVED_SECRETplt.title(\REMOVED_SECRETDistribution of Word Counts in Italian Titles\REMOVED_SECRET)\nREMOVED_SECRET,
    REMOVED_SECRETplt.xlabel(\REMOVED_SECRETNumber of Words\REMOVED_SECRET)\nREMOVED_SECRET,
    REMOVED_SECRETplt.ylabel(\REMOVED_SECRETFrequency\REMOVED_SECRET)\nREMOVED_SECRET,
    REMOVED_SECRETplt.show()\nREMOVED_SECRET
   ]
  },
  {
   REMOVED_SECRETcell_typeREMOVED_SECRET: REMOVED_SECRETcodeREMOVED_SECRET,
   REMOVED_SECRETexecution_countREMOVED_SECRET: 19,
   REMOVED_SECRETmetadataREMOVED_SECRET: {},
   REMOVED_SECREToutputsREMOVED_SECRET: [
    {
     REMOVED_SECRETdataREMOVED_SECRET: {
      REMOVED_SECRETapplication/vnd.jupyter.widget-view+jsonREMOVED_SECRET: {
       REMOVED_SECRETmodel_idREMOVED_SECRET: REMOVED_SECRETbeeabfc96b014c3bba5d6373d73ea669REMOVED_SECRET,
       REMOVED_SECRETversion_majorREMOVED_SECRET: 2,
       REMOVED_SECRETversion_minorREMOVED_SECRET: 0
      },
      REMOVED_SECRETtext/plainREMOVED_SECRET: [
       REMOVED_SECRETBatches:   0%|          | 0/32 [00:00<?, ?it/s]REMOVED_SECRET
      ]
     },
     REMOVED_SECRETmetadataREMOVED_SECRET: {},
     REMOVED_SECREToutput_typeREMOVED_SECRET: REMOVED_SECRETdisplay_dataREMOVED_SECRET
    },
    {
     REMOVED_SECRETdataREMOVED_SECRET: {
      REMOVED_SECRETapplication/vnd.jupyter.widget-view+jsonREMOVED_SECRET: {
       REMOVED_SECRETmodel_idREMOVED_SECRET: REMOVED_SECRET425f88a194664988bc5b3300e6c3aed4REMOVED_SECRET,
       REMOVED_SECRETversion_majorREMOVED_SECRET: 2,
       REMOVED_SECRETversion_minorREMOVED_SECRET: 0
      },
      REMOVED_SECRETtext/plainREMOVED_SECRET: [
       REMOVED_SECRETBatches:   0%|          | 0/32 [00:00<?, ?it/s]REMOVED_SECRET
      ]
     },
     REMOVED_SECRETmetadataREMOVED_SECRET: {},
     REMOVED_SECREToutput_typeREMOVED_SECRET: REMOVED_SECRETdisplay_dataREMOVED_SECRET
    }
   ],
   REMOVED_SECRETsourceREMOVED_SECRET: [
    REMOVED_SECRETenglish_embeddings = model.encode(df['title'].tolist(), show_progress_bar=True)\nREMOVED_SECRET,
    REMOVED_SECRETitalian_embeddings = model.encode(df['title_italian'].tolist(), show_progress_bar=True)\nREMOVED_SECRET
   ]
  },
  {
   REMOVED_SECRETcell_typeREMOVED_SECRET: REMOVED_SECRETcodeREMOVED_SECRET,
   REMOVED_SECRETexecution_countREMOVED_SECRET: 20,
   REMOVED_SECRETmetadataREMOVED_SECRET: {},
   REMOVED_SECREToutputsREMOVED_SECRET: [
    {
     REMOVED_SECRETnameREMOVED_SECRET: REMOVED_SECRETstdoutREMOVED_SECRET,
     REMOVED_SECREToutput_typeREMOVED_SECRET: REMOVED_SECRETstreamREMOVED_SECRET,
     REMOVED_SECRETtextREMOVED_SECRET: [
      REMOVED_SECRET(997, 1024)\nREMOVED_SECRET,
      REMOVED_SECRET(997, 1024)\nREMOVED_SECRET
     ]
    }
   ],
   REMOVED_SECRETsourceREMOVED_SECRET: [
    REMOVED_SECRETprint(english_embeddings.shape)\nREMOVED_SECRET,
    REMOVED_SECRETprint(italian_embeddings.shape)\nREMOVED_SECRET
   ]
  },
  {
   REMOVED_SECRETcell_typeREMOVED_SECRET: REMOVED_SECRETcodeREMOVED_SECRET,
   REMOVED_SECRETexecution_countREMOVED_SECRET: 23,
   REMOVED_SECRETmetadataREMOVED_SECRET: {},
   REMOVED_SECREToutputsREMOVED_SECRET: [
    {
     REMOVED_SECRETnameREMOVED_SECRET: REMOVED_SECRETstdoutREMOVED_SECRET,
     REMOVED_SECREToutput_typeREMOVED_SECRET: REMOVED_SECRETstreamREMOVED_SECRET,
     REMOVED_SECRETtextREMOVED_SECRET: [
      REMOVED_SECRETRow 0 - Cosine Similarity: 0.8534\nREMOVED_SECRET,
      REMOVED_SECRETRow 1 - Cosine Similarity: 0.8249\nREMOVED_SECRET,
      REMOVED_SECRETRow 2 - Cosine Similarity: 0.8868\nREMOVED_SECRET,
      REMOVED_SECRETRow 3 - Cosine Similarity: 0.9429\nREMOVED_SECRET,
      REMOVED_SECRETRow 4 - Cosine Similarity: 0.8051\nREMOVED_SECRET
     ]
    }
   ],
   REMOVED_SECRETsourceREMOVED_SECRET: [
    REMOVED_SECRETfrom sklearn.metrics.pairwise import cosine_similarity\nREMOVED_SECRET,
    REMOVED_SECRET\nREMOVED_SECRET,
    REMOVED_SECRET# Choose a few sample rows (e.g., first 5)\nREMOVED_SECRET,
    REMOVED_SECRETfor i in range(5):\nREMOVED_SECRET,
    REMOVED_SECRET    score = cosine_similarity([english_embeddings[i]], [italian_embeddings[i]])[0][0]\nREMOVED_SECRET,
    REMOVED_SECRET    print(f\REMOVED_SECRETRow {i} - Cosine Similarity: {score:.4f}\REMOVED_SECRET)\nREMOVED_SECRET
   ]
  },
  {
   REMOVED_SECRETcell_typeREMOVED_SECRET: REMOVED_SECRETcodeREMOVED_SECRET,
   REMOVED_SECRETexecution_countREMOVED_SECRET: 24,
   REMOVED_SECRETmetadataREMOVED_SECRET: {},
   REMOVED_SECREToutputsREMOVED_SECRET: [
    {
     REMOVED_SECRETnameREMOVED_SECRET: REMOVED_SECRETstdoutREMOVED_SECRET,
     REMOVED_SECREToutput_typeREMOVED_SECRET: REMOVED_SECRETstreamREMOVED_SECRET,
     REMOVED_SECRETtextREMOVED_SECRET: [
      REMOVED_SECRETAverage cosine similarity: 0.8359\nREMOVED_SECRET
     ]
    }
   ],
   REMOVED_SECRETsourceREMOVED_SECRET: [
    REMOVED_SECRETfrom sklearn.metrics.pairwise import cosine_similarity\nREMOVED_SECRET,
    REMOVED_SECRETimport numpy as np\nREMOVED_SECRET,
    REMOVED_SECRET\nREMOVED_SECRET,
    REMOVED_SECRETsimilarities = []\nREMOVED_SECRET,
    REMOVED_SECRETfor i in range(len(english_embeddings)):\nREMOVED_SECRET,
    REMOVED_SECRET    sim = cosine_similarity([english_embeddings[i]], [italian_embeddings[i]])[0][0]\nREMOVED_SECRET,
    REMOVED_SECRET    similarities.append(sim)\nREMOVED_SECRET,
    REMOVED_SECRET\nREMOVED_SECRET,
    REMOVED_SECRET# Now compute the average\nREMOVED_SECRET,
    REMOVED_SECRETaverage_similarity = np.mean(similarities)\nREMOVED_SECRET,
    REMOVED_SECRETprint(f\REMOVED_SECRETAverage cosine similarity: {average_similarity:.4f}\REMOVED_SECRET)\nREMOVED_SECRET
   ]
  },
  {
   REMOVED_SECRETcell_typeREMOVED_SECRET: REMOVED_SECRETcodeREMOVED_SECRET,
   REMOVED_SECRETexecution_countREMOVED_SECRET: null,
   REMOVED_SECRETmetadataREMOVED_SECRET: {},
   REMOVED_SECREToutputsREMOVED_SECRET: [],
   REMOVED_SECRETsourceREMOVED_SECRET: [
    REMOVED_SECRET# Saving the embeddings to CSV files\nREMOVED_SECRET,
    REMOVED_SECRET\nREMOVED_SECRET,
    REMOVED_SECRETdf_embeddings = pd.DataFrame({\nREMOVED_SECRET,
    REMOVED_SECRET    \REMOVED_SECRETtitle\REMOVED_SECRET: df['title'],\nREMOVED_SECRET,
    REMOVED_SECRET    \REMOVED_SECRETtitle_italian\REMOVED_SECRET: df['title_italian'],\nREMOVED_SECRET,
    REMOVED_SECRET    \REMOVED_SECRETenglish_embedding\REMOVED_SECRET: list(english_embeddings),\nREMOVED_SECRET,
    REMOVED_SECRET    \REMOVED_SECRETitalian_embedding\REMOVED_SECRET: list(italian_embeddings),\nREMOVED_SECRET,
    REMOVED_SECRET})\nREMOVED_SECRET,
    REMOVED_SECRET\nREMOVED_SECRET,
    REMOVED_SECRETdf_embeddings.to_pickle(\REMOVED_SECRETen_to_it_embeddings.pkl\REMOVED_SECRET)\nREMOVED_SECRET,
    REMOVED_SECRET\nREMOVED_SECRET,
    REMOVED_SECRET#for loading the embeddings\nREMOVED_SECRET,
    REMOVED_SECRET\nREMOVED_SECRET,
    REMOVED_SECRET#df_embeddings = pd.read_pickle(\REMOVED_SECRETen_to_it_embeddings.pkl\REMOVED_SECRET)\nREMOVED_SECRET
   ]
  },
  {
   REMOVED_SECRETcell_typeREMOVED_SECRET: REMOVED_SECRETmarkdownREMOVED_SECRET,
   REMOVED_SECRETmetadataREMOVED_SECRET: {},
   REMOVED_SECRETsourceREMOVED_SECRET: [
    REMOVED_SECRETNow we are going to compare sentence level embeddings with word level embeddings. For word level embeddings, we will be using fastText embeddings as it has capabilities to align mutllingual word embeddings.\nREMOVED_SECRET,
    REMOVED_SECRET\nREMOVED_SECRET,
    REMOVED_SECRETWe use average embedding because it's the simplest way to get a fixed-size, meaning-aware sentence representation using word vectors.REMOVED_SECRET
   ]
  },
  {
   REMOVED_SECRETcell_typeREMOVED_SECRET: REMOVED_SECRETcodeREMOVED_SECRET,
   REMOVED_SECRETexecution_countREMOVED_SECRET: 29,
   REMOVED_SECRETmetadataREMOVED_SECRET: {},
   REMOVED_SECREToutputsREMOVED_SECRET: [
    {
     REMOVED_SECRETnameREMOVED_SECRET: REMOVED_SECRETstdoutREMOVED_SECRET,
     REMOVED_SECREToutput_typeREMOVED_SECRET: REMOVED_SECRETstreamREMOVED_SECRET,
     REMOVED_SECRETtextREMOVED_SECRET: [
      REMOVED_SECRETCollecting gensim\nREMOVED_SECRET,
      REMOVED_SECRET  Downloading gensim-4.3.3-cp311-cp311-win_amd64.whl.metadata (8.2 kB)\nREMOVED_SECRET,
      REMOVED_SECRETRequirement already satisfied: numpy<2.0,>=1.18.5 in c:\\users\\charran\\anaconda3\\envs\\pytorch_cuda\\lib\\site-packages (from gensim) (1.26.3)\nREMOVED_SECRET,
      REMOVED_SECRETCollecting scipy<1.14.0,>=1.7.0 (from gensim)\nREMOVED_SECRET,
      REMOVED_SECRET  Downloading scipy-1.13.1-cp311-cp311-win_amd64.whl.metadata (60 kB)\nREMOVED_SECRET,
      REMOVED_SECRETCollecting smart-open>=1.8.1 (from gensim)\nREMOVED_SECRET,
      REMOVED_SECRET  Using cached smart_open-7.1.0-py3-none-any.whl.metadata (24 kB)\nREMOVED_SECRET,
      REMOVED_SECRETCollecting wrapt (from smart-open>=1.8.1->gensim)\nREMOVED_SECRET,
      REMOVED_SECRET  Downloading wrapt-1.17.2-cp311-cp311-win_amd64.whl.metadata (6.5 kB)\nREMOVED_SECRET,
      REMOVED_SECRETDownloading gensim-4.3.3-cp311-cp311-win_amd64.whl (24.0 MB)\nREMOVED_SECRET,
      REMOVED_SECRET   ---------------------------------------- 0.0/24.0 MB ? eta -:--:--\nREMOVED_SECRET,
      REMOVED_SECRET   --- ------------------------------------ 1.8/24.0 MB 10.0 MB/s eta 0:00:03\nREMOVED_SECRET,
      REMOVED_SECRET   ------ --------------------------------- 3.9/24.0 MB 10.2 MB/s eta 0:00:02\nREMOVED_SECRET,
      REMOVED_SECRET   ---------- ----------------------------- 6.6/24.0 MB 10.9 MB/s eta 0:00:02\nREMOVED_SECRET,
      REMOVED_SECRET   ---------------- ----------------------- 9.7/24.0 MB 11.8 MB/s eta 0:00:02\nREMOVED_SECRET,
      REMOVED_SECRET   -------------------- ------------------- 12.6/24.0 MB 12.1 MB/s eta 0:00:01\nREMOVED_SECRET,
      REMOVED_SECRET   ------------------------- -------------- 15.5/24.0 MB 12.3 MB/s eta 0:00:01\nREMOVED_SECRET,
      REMOVED_SECRET   ----------------------------- ---------- 17.8/24.0 MB 12.5 MB/s eta 0:00:01\nREMOVED_SECRET,
      REMOVED_SECRET   ---------------------------------- ----- 20.4/24.0 MB 12.3 MB/s eta 0:00:01\nREMOVED_SECRET,
      REMOVED_SECRET   ------------------------------------- -- 22.8/24.0 MB 12.3 MB/s eta 0:00:01\nREMOVED_SECRET,
      REMOVED_SECRET   ---------------------------------------- 24.0/24.0 MB 11.9 MB/s eta 0:00:00\nREMOVED_SECRET,
      REMOVED_SECRETDownloading scipy-1.13.1-cp311-cp311-win_amd64.whl (46.2 MB)\nREMOVED_SECRET,
      REMOVED_SECRET   ---------------------------------------- 0.0/46.2 MB ? eta -:--:--\nREMOVED_SECRET,
      REMOVED_SECRET   -- ------------------------------------- 2.6/46.2 MB 12.5 MB/s eta 0:00:04\nREMOVED_SECRET,
      REMOVED_SECRET   ---- ----------------------------------- 5.0/46.2 MB 12.6 MB/s eta 0:00:04\nREMOVED_SECRET,
      REMOVED_SECRET   ----- ---------------------------------- 6.6/46.2 MB 10.6 MB/s eta 0:00:04\nREMOVED_SECRET,
      REMOVED_SECRET   ------ --------------------------------- 7.1/46.2 MB 9.3 MB/s eta 0:00:05\nREMOVED_SECRET,
      REMOVED_SECRET   ------- -------------------------------- 8.4/46.2 MB 8.8 MB/s eta 0:00:05\nREMOVED_SECRET,
      REMOVED_SECRET   -------- ------------------------------- 10.2/46.2 MB 8.2 MB/s eta 0:00:05\nREMOVED_SECRET,
      REMOVED_SECRET   ---------- ----------------------------- 12.1/46.2 MB 8.4 MB/s eta 0:00:05\nREMOVED_SECRET,
      REMOVED_SECRET   ----------- ---------------------------- 13.6/46.2 MB 8.3 MB/s eta 0:00:04\nREMOVED_SECRET,
      REMOVED_SECRET   ------------- -------------------------- 15.5/46.2 MB 8.3 MB/s eta 0:00:04\nREMOVED_SECRET,
      REMOVED_SECRET   -------------- ------------------------- 17.0/46.2 MB 8.3 MB/s eta 0:00:04\nREMOVED_SECRET,
      REMOVED_SECRET   ---------------- ----------------------- 18.9/46.2 MB 8.2 MB/s eta 0:00:04\nREMOVED_SECRET,
      REMOVED_SECRET   ------------------ --------------------- 21.2/46.2 MB 8.4 MB/s eta 0:00:03\nREMOVED_SECRET,
      REMOVED_SECRET   -------------------- ------------------- 23.6/46.2 MB 8.7 MB/s eta 0:00:03\nREMOVED_SECRET,
      REMOVED_SECRET   --------------------- ------------------ 25.2/46.2 MB 8.7 MB/s eta 0:00:03\nREMOVED_SECRET,
      REMOVED_SECRET   ------------------------ --------------- 27.8/46.2 MB 8.9 MB/s eta 0:00:03\nREMOVED_SECRET,
      REMOVED_SECRET   ------------------------- -------------- 29.4/46.2 MB 8.9 MB/s eta 0:00:02\nREMOVED_SECRET,
      REMOVED_SECRET   -------------------------- ------------- 30.7/46.2 MB 8.7 MB/s eta 0:00:02\nREMOVED_SECRET,
      REMOVED_SECRET   --------------------------- ------------ 31.5/46.2 MB 8.5 MB/s eta 0:00:02\nREMOVED_SECRET,
      REMOVED_SECRET   ---------------------------- ----------- 33.0/46.2 MB 8.3 MB/s eta 0:00:02\nREMOVED_SECRET,
      REMOVED_SECRET   ----------------------------- ---------- 34.6/46.2 MB 8.3 MB/s eta 0:00:02\nREMOVED_SECRET,
      REMOVED_SECRET   ------------------------------- -------- 35.9/46.2 MB 8.2 MB/s eta 0:00:02\nREMOVED_SECRET,
      REMOVED_SECRET   -------------------------------- ------- 38.0/46.2 MB 8.2 MB/s eta 0:00:01\nREMOVED_SECRET,
      REMOVED_SECRET   ---------------------------------- ----- 39.6/46.2 MB 8.3 MB/s eta 0:00:01\nREMOVED_SECRET,
      REMOVED_SECRET   ----------------------------------- ---- 40.6/46.2 MB 8.2 MB/s eta 0:00:01\nREMOVED_SECRET,
      REMOVED_SECRET   ------------------------------------ --- 42.5/46.2 MB 8.1 MB/s eta 0:00:01\nREMOVED_SECRET,
      REMOVED_SECRET   -------------------------------------- - 44.3/46.2 MB 8.2 MB/s eta 0:00:01\nREMOVED_SECRET,
      REMOVED_SECRET   ---------------------------------------  45.4/46.2 MB 8.2 MB/s eta 0:00:01\nREMOVED_SECRET,
      REMOVED_SECRET   ---------------------------------------  46.1/46.2 MB 8.0 MB/s eta 0:00:01\nREMOVED_SECRET,
      REMOVED_SECRET   ---------------------------------------- 46.2/46.2 MB 7.9 MB/s eta 0:00:00\nREMOVED_SECRET,
      REMOVED_SECRETUsing cached smart_open-7.1.0-py3-none-any.whl (61 kB)\nREMOVED_SECRET,
      REMOVED_SECRETDownloading wrapt-1.17.2-cp311-cp311-win_amd64.whl (38 kB)\nREMOVED_SECRET,
      REMOVED_SECRETInstalling collected packages: wrapt, scipy, smart-open, gensim\nREMOVED_SECRET,
      REMOVED_SECRET  Attempting uninstall: scipy\nREMOVED_SECRET,
      REMOVED_SECRET    Found existing installation: scipy 1.14.1\nREMOVED_SECRET,
      REMOVED_SECRET    Uninstalling scipy-1.14.1:\nREMOVED_SECRET,
      REMOVED_SECRET      Successfully uninstalled scipy-1.14.1\nREMOVED_SECRET,
      REMOVED_SECRETSuccessfully installed gensim-4.3.3 scipy-1.13.1 smart-open-7.1.0 wrapt-1.17.2\nREMOVED_SECRET,
      REMOVED_SECRETNote: you may need to restart the kernel to use updated packages.\nREMOVED_SECRET
     ]
    },
    {
     REMOVED_SECRETnameREMOVED_SECRET: REMOVED_SECRETstderrREMOVED_SECRET,
     REMOVED_SECREToutput_typeREMOVED_SECRET: REMOVED_SECRETstreamREMOVED_SECRET,
     REMOVED_SECRETtextREMOVED_SECRET: [
      REMOVED_SECRET  WARNING: Failed to remove contents in a temporary directory 'C:\\Users\\Charran\\anaconda3\\envs\\pytorch_cuda\\Lib\\site-packages\\~cipy.libs'.\nREMOVED_SECRET,
      REMOVED_SECRET  You can safely remove it manually.\nREMOVED_SECRET,
      REMOVED_SECRET  WARNING: Failed to remove contents in a temporary directory 'C:\\Users\\Charran\\anaconda3\\envs\\pytorch_cuda\\Lib\\site-packages\\~cipy'.\nREMOVED_SECRET,
      REMOVED_SECRET  You can safely remove it manually.\nREMOVED_SECRET
     ]
    }
   ],
   REMOVED_SECRETsourceREMOVED_SECRET: [
    REMOVED_SECRETpip install gensimREMOVED_SECRET
   ]
  },
  {
   REMOVED_SECRETcell_typeREMOVED_SECRET: REMOVED_SECRETcodeREMOVED_SECRET,
   REMOVED_SECRETexecution_countREMOVED_SECRET: null,
   REMOVED_SECRETmetadataREMOVED_SECRET: {},
   REMOVED_SECREToutputsREMOVED_SECRET: [],
   REMOVED_SECRETsourceREMOVED_SECRET: [
    REMOVED_SECRET#This function loads the word vectors from a file and returns the words and their corresponding vectors.\nREMOVED_SECRET,
    REMOVED_SECRET#This is the base Version of code. The below one is the improved version\nREMOVED_SECRET,
    REMOVED_SECRET\nREMOVED_SECRET,
    REMOVED_SECRETdef load_vecs(path, limit_no_words):\nREMOVED_SECRET,
    REMOVED_SECRET    import numpy as np\nREMOVED_SECRET,
    REMOVED_SECRET    words = []\nREMOVED_SECRET,
    REMOVED_SECRET    vectors = []\nREMOVED_SECRET,
    REMOVED_SECRET    with open(path, encoding=\REMOVED_SECRETutf-8\REMOVED_SECRET) as f:\nREMOVED_SECRET,
    REMOVED_SECRET        for ix, line in enumerate(f):\nREMOVED_SECRET,
    REMOVED_SECRET            if ix == 0:\nREMOVED_SECRET,
    REMOVED_SECRET                continue  # skip the header\nREMOVED_SECRET,
    REMOVED_SECRET            line = line.rstrip().split()\nREMOVED_SECRET,
    REMOVED_SECRET            word = line[0]\nREMOVED_SECRET,
    REMOVED_SECRET            if len(line[1:]) == 300:\nREMOVED_SECRET,
    REMOVED_SECRET                words.append(word)\nREMOVED_SECRET,
    REMOVED_SECRET                vectors.append(line[1:])\nREMOVED_SECRET,
    REMOVED_SECRET            if len(words) == limit_no_words:\nREMOVED_SECRET,
    REMOVED_SECRET                break\nREMOVED_SECRET,
    REMOVED_SECRET    return words, np.array(vectors, dtype=float)\nREMOVED_SECRET
   ]
  },
  {
   REMOVED_SECRETcell_typeREMOVED_SECRET: REMOVED_SECRETcodeREMOVED_SECRET,
   REMOVED_SECRETexecution_countREMOVED_SECRET: null,
   REMOVED_SECRETmetadataREMOVED_SECRET: {},
   REMOVED_SECREToutputsREMOVED_SECRET: [],
   REMOVED_SECRETsourceREMOVED_SECRET: [
    REMOVED_SECRETdef load_vecs(path, limit_no_words=None):\nREMOVED_SECRET,
    REMOVED_SECRET    import numpy as np\nREMOVED_SECRET,
    REMOVED_SECRET    words = [] #To store vocab words\nREMOVED_SECRET,
    REMOVED_SECRET    vectors = [] #To store corresponding word vectors\nREMOVED_SECRET,
    REMOVED_SECRET\nREMOVED_SECRET,
    REMOVED_SECRET    with open(path, encoding=\REMOVED_SECRETutf-8\REMOVED_SECRET) as f: #opening the first line which typically contains metadata\nREMOVED_SECRET,
    REMOVED_SECRET        first_line = f.readline()\nREMOVED_SECRET,
    REMOVED_SECRET        _, vec_size = map(int, first_line.strip().split()) #obtaining the vector size from the first line\nREMOVED_SECRET,
    REMOVED_SECRET        \nREMOVED_SECRET,
    REMOVED_SECRET        for ix, line in enumerate(f):\nREMOVED_SECRET,
    REMOVED_SECRET            line = line.rstrip().split() #removing trailing newline and split line by spaces\nREMOVED_SECRET,
    REMOVED_SECRET            word = line[0]  #first token i sthe word itself\nREMOVED_SECRET,
    REMOVED_SECRET            vector_vals = line[1:]  #remaining tokens are the vector values\nREMOVED_SECRET,
    REMOVED_SECRET\nREMOVED_SECRET,
    REMOVED_SECRET            if len(vector_vals) == vec_size:  # Now dynamically validated to see if vector has correct no of dim\nREMOVED_SECRET,
    REMOVED_SECRET                words.append(word) #Add the word to vocab list\nREMOVED_SECRET,
    REMOVED_SECRET                vectors.append(vector_vals) #Add the vector to the list (as strings)\nREMOVED_SECRET,
    REMOVED_SECRET            # If a word limit was set, stop once we've hit that limit\nREMOVED_SECRET,
    REMOVED_SECRET            if limit_no_words and len(words) == limit_no_words:\nREMOVED_SECRET,
    REMOVED_SECRET                break\nREMOVED_SECRET,
    REMOVED_SECRET    #Convert list of vectors from strings to a NumPy float array for numerical use\nREMOVED_SECRET,
    REMOVED_SECRET    return words, np.array(vectors, dtype=float)\nREMOVED_SECRET
   ]
  },
  {
   REMOVED_SECRETcell_typeREMOVED_SECRET: REMOVED_SECRETcodeREMOVED_SECRET,
   REMOVED_SECRETexecution_countREMOVED_SECRET: null,
   REMOVED_SECRETmetadataREMOVED_SECRET: {},
   REMOVED_SECREToutputsREMOVED_SECRET: [],
   REMOVED_SECRETsourceREMOVED_SECRET: [
    REMOVED_SECRET#loading words and vectors from FastText\nREMOVED_SECRET,
    REMOVED_SECRETen_words, en_vectors = load_vecs(\REMOVED_SECRETwiki.en.align.vec\REMOVED_SECRET, limit_no_words=50000)  \nREMOVED_SECRET,
    REMOVED_SECRETit_words, it_vectors = load_vecs(\REMOVED_SECRETwiki.it.align.vec\REMOVED_SECRET, limit_no_words=50000)\nREMOVED_SECRET
   ]
  },
  {
   REMOVED_SECRETcell_typeREMOVED_SECRET: REMOVED_SECRETcodeREMOVED_SECRET,
   REMOVED_SECRETexecution_countREMOVED_SECRET: null,
   REMOVED_SECRETmetadataREMOVED_SECRET: {},
   REMOVED_SECREToutputsREMOVED_SECRET: [],
   REMOVED_SECRETsourceREMOVED_SECRET: [
    REMOVED_SECRET# Create a dictionary mapping English and italian words to their corresponding vectors\nREMOVED_SECRET,
    REMOVED_SECRET#zip is to match each words with corresponding vector\nREMOVED_SECRET,
    REMOVED_SECRET#dict is to convert list of tuples into a dict obj \nREMOVED_SECRET,
    REMOVED_SECRETen_dict = dict(zip(en_words, en_vectors))\nREMOVED_SECRET,
    REMOVED_SECRETit_dict = dict(zip(it_words, it_vectors))\nREMOVED_SECRET
   ]
  },
  {
   REMOVED_SECRETcell_typeREMOVED_SECRET: REMOVED_SECRETcodeREMOVED_SECRET,
   REMOVED_SECRETexecution_countREMOVED_SECRET: null,
   REMOVED_SECRETmetadataREMOVED_SECRET: {},
   REMOVED_SECREToutputsREMOVED_SECRET: [],
   REMOVED_SECRETsourceREMOVED_SECRET: [
    REMOVED_SECRETdef average_embedding(text, embedding_dict):\nREMOVED_SECRET,
    REMOVED_SECRET    words = text.lower().split()\nREMOVED_SECRET,
    REMOVED_SECRET    vectors = [embedding_dict[word] for word in words if word in embedding_dict]\nREMOVED_SECRET,
    REMOVED_SECRET    if vectors:\nREMOVED_SECRET,
    REMOVED_SECRET        return np.mean(vectors, axis=0)\nREMOVED_SECRET,
    REMOVED_SECRET    else:\nREMOVED_SECRET,
    REMOVED_SECRET        return np.zeros(300)REMOVED_SECRET
   ]
  },
  {
   REMOVED_SECRETcell_typeREMOVED_SECRET: REMOVED_SECRETcodeREMOVED_SECRET,
   REMOVED_SECRETexecution_countREMOVED_SECRET: 66,
   REMOVED_SECRETmetadataREMOVED_SECRET: {},
   REMOVED_SECREToutputsREMOVED_SECRET: [],
   REMOVED_SECRETsourceREMOVED_SECRET: [
    REMOVED_SECRETdef average_embedding(text, embedding_dict):\nREMOVED_SECRET,
    REMOVED_SECRET    # Convert text to lowercase and split it into individual words\nREMOVED_SECRET,
    REMOVED_SECRET    words = text.lower().split()\nREMOVED_SECRET,
    REMOVED_SECRET\nREMOVED_SECRET,
    REMOVED_SECRET    # Retrieve vectors for words that exist in the embedding dictionary\nREMOVED_SECRET,
    REMOVED_SECRET    vectors = [embedding_dict[word] for word in words if word in embedding_dict]\nREMOVED_SECRET,
    REMOVED_SECRET\nREMOVED_SECRET,
    REMOVED_SECRET    # If there are valid word vectors, compute their average\nREMOVED_SECRET,
    REMOVED_SECRET    if vectors:\nREMOVED_SECRET,
    REMOVED_SECRET        return np.mean(vectors, axis=0)  # Return the mean vector (sentence embedding)\nREMOVED_SECRET,
    REMOVED_SECRET    else:\nREMOVED_SECRET,
    REMOVED_SECRET        # No known words in the sentence — return a zero vector of the correct size\nREMOVED_SECRET,
    REMOVED_SECRET\nREMOVED_SECRET,
    REMOVED_SECRET        # Get the dimensionality of the vectors by checking one item in the dictionary\nREMOVED_SECRET,
    REMOVED_SECRET        vec_size = len(next(iter(embedding_dict.values())))\nREMOVED_SECRET,
    REMOVED_SECRET\nREMOVED_SECRET,
    REMOVED_SECRET        # Return a zero vector with that size\nREMOVED_SECRET,
    REMOVED_SECRET        return np.zeros(vec_size)\nREMOVED_SECRET
   ]
  },
  {
   REMOVED_SECRETcell_typeREMOVED_SECRET: REMOVED_SECRETcodeREMOVED_SECRET,
   REMOVED_SECRETexecution_countREMOVED_SECRET: 67,
   REMOVED_SECRETmetadataREMOVED_SECRET: {},
   REMOVED_SECREToutputsREMOVED_SECRET: [],
   REMOVED_SECRETsourceREMOVED_SECRET: [
    REMOVED_SECRETenglish_avg_embeds = df['title'].apply(lambda x: average_embedding(x, en_dict))\nREMOVED_SECRET,
    REMOVED_SECRETitalian_avg_embeds = df['title_italian'].apply(lambda x: average_embedding(x, it_dict))\nREMOVED_SECRET
   ]
  },
  {
   REMOVED_SECRETcell_typeREMOVED_SECRET: REMOVED_SECRETcodeREMOVED_SECRET,
   REMOVED_SECRETexecution_countREMOVED_SECRET: 68,
   REMOVED_SECRETmetadataREMOVED_SECRET: {},
   REMOVED_SECREToutputsREMOVED_SECRET: [
    {
     REMOVED_SECRETnameREMOVED_SECRET: REMOVED_SECRETstdoutREMOVED_SECRET,
     REMOVED_SECREToutput_typeREMOVED_SECRET: REMOVED_SECRETstreamREMOVED_SECRET,
     REMOVED_SECRETtextREMOVED_SECRET: [
      REMOVED_SECRETAverage cosine similarity (avg word embeddings 50k): 0.1853\nREMOVED_SECRET
     ]
    }
   ],
   REMOVED_SECRETsourceREMOVED_SECRET: [
    REMOVED_SECRETsimilarities_word = []\nREMOVED_SECRET,
    REMOVED_SECRETfor i in range(len(df)):\nREMOVED_SECRET,
    REMOVED_SECRET    sim = cosine_similarity([english_avg_embeds[i]], [italian_avg_embeds[i]])[0][0]\nREMOVED_SECRET,
    REMOVED_SECRET    similarities_word.append(sim)\nREMOVED_SECRET,
    REMOVED_SECRET\nREMOVED_SECRET,
    REMOVED_SECRETavg_word_sim_50 = np.mean(similarities_word)\nREMOVED_SECRET,
    REMOVED_SECRETprint(f\REMOVED_SECRETAverage cosine similarity (avg word embeddings 50k): {avg_word_sim_50:.4f}\REMOVED_SECRET)REMOVED_SECRET
   ]
  },
  {
   REMOVED_SECRETcell_typeREMOVED_SECRET: REMOVED_SECRETcodeREMOVED_SECRET,
   REMOVED_SECRETexecution_countREMOVED_SECRET: 63,
   REMOVED_SECRETmetadataREMOVED_SECRET: {},
   REMOVED_SECREToutputsREMOVED_SECRET: [
    {
     REMOVED_SECRETnameREMOVED_SECRET: REMOVED_SECRETstdoutREMOVED_SECRET,
     REMOVED_SECREToutput_typeREMOVED_SECRET: REMOVED_SECRETstreamREMOVED_SECRET,
     REMOVED_SECRETtextREMOVED_SECRET: [
      REMOVED_SECRETAverage cosine similarity (avg word embeddings 10k): 0.2078\nREMOVED_SECRET
     ]
    }
   ],
   REMOVED_SECRETsourceREMOVED_SECRET: [
    REMOVED_SECRETsimilarities_word = []\nREMOVED_SECRET,
    REMOVED_SECRETfor i in range(len(df)):\nREMOVED_SECRET,
    REMOVED_SECRET    sim = cosine_similarity([english_avg_embeds[i]], [italian_avg_embeds[i]])[0][0]\nREMOVED_SECRET,
    REMOVED_SECRET    similarities_word.append(sim)\nREMOVED_SECRET,
    REMOVED_SECRET\nREMOVED_SECRET,
    REMOVED_SECRETavg_word_sim_10 = np.mean(similarities_word)\nREMOVED_SECRET,
    REMOVED_SECRETprint(f\REMOVED_SECRETAverage cosine similarity (avg word embeddings 10k): {avg_word_sim_10:.4f}\REMOVED_SECRET)REMOVED_SECRET
   ]
  },
  {
   REMOVED_SECRETcell_typeREMOVED_SECRET: REMOVED_SECRETcodeREMOVED_SECRET,
   REMOVED_SECRETexecution_countREMOVED_SECRET: 58,
   REMOVED_SECRETmetadataREMOVED_SECRET: {},
   REMOVED_SECREToutputsREMOVED_SECRET: [
    {
     REMOVED_SECRETnameREMOVED_SECRET: REMOVED_SECRETstdoutREMOVED_SECRET,
     REMOVED_SECREToutput_typeREMOVED_SECRET: REMOVED_SECRETstreamREMOVED_SECRET,
     REMOVED_SECRETtextREMOVED_SECRET: [
      REMOVED_SECRETAverage cosine similarity (avg word embeddings 5k): 0.2208\nREMOVED_SECRET
     ]
    }
   ],
   REMOVED_SECRETsourceREMOVED_SECRET: [
    REMOVED_SECRETsimilarities_word = []\nREMOVED_SECRET,
    REMOVED_SECRETfor i in range(len(df)):\nREMOVED_SECRET,
    REMOVED_SECRET    sim = cosine_similarity([english_avg_embeds[i]], [italian_avg_embeds[i]])[0][0]\nREMOVED_SECRET,
    REMOVED_SECRET    similarities_word.append(sim)\nREMOVED_SECRET,
    REMOVED_SECRET\nREMOVED_SECRET,
    REMOVED_SECRETavg_word_sim_5 = np.mean(similarities_word)\nREMOVED_SECRET,
    REMOVED_SECRETprint(f\REMOVED_SECRETAverage cosine similarity (avg word embeddings 5k): {avg_word_sim_5:.4f}\REMOVED_SECRET)REMOVED_SECRET
   ]
  },
  {
   REMOVED_SECRETcell_typeREMOVED_SECRET: REMOVED_SECRETcodeREMOVED_SECRET,
   REMOVED_SECRETexecution_countREMOVED_SECRET: 70,
   REMOVED_SECRETmetadataREMOVED_SECRET: {},
   REMOVED_SECREToutputsREMOVED_SECRET: [
    {
     REMOVED_SECRETdataREMOVED_SECRET: {
      REMOVED_SECRETimage/pngREMOVED_SECRET: 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,
      REMOVED_SECRETtext/plainREMOVED_SECRET: [
       REMOVED_SECRET<Figure size 800x500 with 1 Axes>REMOVED_SECRET
      ]
     },
     REMOVED_SECRETmetadataREMOVED_SECRET: {},
     REMOVED_SECREToutput_typeREMOVED_SECRET: REMOVED_SECRETdisplay_dataREMOVED_SECRET
    }
   ],
   REMOVED_SECRETsourceREMOVED_SECRET: [
    REMOVED_SECRET# X-axis: Word vector sizes used\nREMOVED_SECRET,
    REMOVED_SECRETx = [\REMOVED_SECRET5k words\REMOVED_SECRET, \REMOVED_SECRET10k words\REMOVED_SECRET, \REMOVED_SECRET50k words\REMOVED_SECRET]\nREMOVED_SECRET,
    REMOVED_SECRET\nREMOVED_SECRET,
    REMOVED_SECRETy = [avg_word_sim_5, avg_word_sim_10, avg_word_sim_50]\nREMOVED_SECRET,
    REMOVED_SECRET\nREMOVED_SECRET,
    REMOVED_SECRETplt.figure(figsize=(8, 5))\nREMOVED_SECRET,
    REMOVED_SECRET\nREMOVED_SECRET,
    REMOVED_SECRET# Bar chart for FastText similarities\nREMOVED_SECRET,
    REMOVED_SECRETplt.bar(x, y, color='skyblue', label=\REMOVED_SECRETFastText Avg Embedding\REMOVED_SECRET)\nREMOVED_SECRET,
    REMOVED_SECRET\nREMOVED_SECRET,
    REMOVED_SECRET# Horizontal line for BGE-M3 sentence embedding similarity\nREMOVED_SECRET,
    REMOVED_SECRETplt.axhline(y=average_similarity, color='orange', linestyle='--', label=\REMOVED_SECRETBGE-M3 Sentence Embedding\REMOVED_SECRET)\nREMOVED_SECRET,
    REMOVED_SECRET\nREMOVED_SECRET,
    REMOVED_SECRETplt.title(\REMOVED_SECRETComparison of Average Cosine Similarity\REMOVED_SECRET)\nREMOVED_SECRET,
    REMOVED_SECRETplt.ylabel(\REMOVED_SECRETCosine Similarity\REMOVED_SECRET)\nREMOVED_SECRET,
    REMOVED_SECRETplt.ylim(0, 1)\nREMOVED_SECRET,
    REMOVED_SECRETplt.legend()\nREMOVED_SECRET,
    REMOVED_SECRETplt.grid(True)\nREMOVED_SECRET,
    REMOVED_SECRETplt.tight_layout()\nREMOVED_SECRET,
    REMOVED_SECRETplt.show()REMOVED_SECRET
   ]
  },
  {
   REMOVED_SECRETcell_typeREMOVED_SECRET: REMOVED_SECRETmarkdownREMOVED_SECRET,
   REMOVED_SECRETmetadataREMOVED_SECRET: {},
   REMOVED_SECRETsourceREMOVED_SECRET: [
    REMOVED_SECRET## Start of Phase 2REMOVED_SECRET
   ]
  },
  {
   REMOVED_SECRETcell_typeREMOVED_SECRET: REMOVED_SECRETmarkdownREMOVED_SECRET,
   REMOVED_SECRETmetadataREMOVED_SECRET: {},
   REMOVED_SECRETsourceREMOVED_SECRET: [
    REMOVED_SECRETFor this phase, for each of the three datasets, we will be comparing the performances in search retrieval models between traditional sparse retrieval techniques using term weighting schemes like BM25 and TF-IDF versus hybrid search retrieval models which incorporates dense retrieval from the embeddings generated using BAAI BGE-M3 sentence transformer model with the sparse retrieval methods\nREMOVED_SECRET,
    REMOVED_SECRET\nREMOVED_SECRET,
    REMOVED_SECRETWe will be doing it for each target language specifically .REMOVED_SECRET
   ]
  },
  {
   REMOVED_SECRETcell_typeREMOVED_SECRET: REMOVED_SECRETmarkdownREMOVED_SECRET,
   REMOVED_SECRETmetadataREMOVED_SECRET: {},
   REMOVED_SECRETsourceREMOVED_SECRET: [
    REMOVED_SECRET2.1 Hybrid Retrieval Phase for ItalyREMOVED_SECRET
   ]
  },
  {
   REMOVED_SECRETcell_typeREMOVED_SECRET: REMOVED_SECRETmarkdownREMOVED_SECRET,
   REMOVED_SECRETmetadataREMOVED_SECRET: {},
   REMOVED_SECRETsourceREMOVED_SECRET: [
    REMOVED_SECRETCharran API: csk_3YXec7_5KDb9vjZjwqLpL8iHVvj6STXVGnH5GHoVc9fMZjx9eWztGt5bkteaWWNeqxD9rV\nREMOVED_SECRET
   ]
  },
  {
   REMOVED_SECRETcell_typeREMOVED_SECRET: REMOVED_SECRETmarkdownREMOVED_SECRET,
   REMOVED_SECRETmetadataREMOVED_SECRET: {},
   REMOVED_SECRETsourceREMOVED_SECRET: [
    REMOVED_SECRETCheryl API: pcsk_7NYhM7_EXrDfRc4w7wgqCUeLpYyNFcACGGFJL1hWKiivfhiWaX1gX6kZQBvt5A14C6KYH3REMOVED_SECRET
   ]
  },
  {
   REMOVED_SECRETcell_typeREMOVED_SECRET: REMOVED_SECRETcodeREMOVED_SECRET,
   REMOVED_SECRETexecution_countREMOVED_SECRET: 1,
   REMOVED_SECRETmetadataREMOVED_SECRET: {},
   REMOVED_SECREToutputsREMOVED_SECRET: [
    {
     REMOVED_SECRETnameREMOVED_SECRET: REMOVED_SECRETstdoutREMOVED_SECRET,
     REMOVED_SECREToutput_typeREMOVED_SECRET: REMOVED_SECRETstreamREMOVED_SECRET,
     REMOVED_SECRETtextREMOVED_SECRET: [
      REMOVED_SECRETCollecting rank_bm25\nREMOVED_SECRET,
      REMOVED_SECRET  Downloading rank_bm25-0.2.2-py3-none-any.whl.metadata (3.2 kB)\nREMOVED_SECRET,
      REMOVED_SECRETRequirement already satisfied: numpy in c:\\users\\user\\anaconda3\\lib\\site-packages (from rank_bm25) (1.24.3)\nREMOVED_SECRET,
      REMOVED_SECRETDownloading rank_bm25-0.2.2-py3-none-any.whl (8.6 kB)\nREMOVED_SECRET,
      REMOVED_SECRETInstalling collected packages: rank_bm25\nREMOVED_SECRET,
      REMOVED_SECRETSuccessfully installed rank_bm25-0.2.2\nREMOVED_SECRET,
      REMOVED_SECRETNote: you may need to restart the kernel to use updated packages.\nREMOVED_SECRET
     ]
    }
   ],
   REMOVED_SECRETsourceREMOVED_SECRET: [
    REMOVED_SECRETpip install rank_bm25REMOVED_SECRET
   ]
  },
  {
   REMOVED_SECRETcell_typeREMOVED_SECRET: REMOVED_SECRETcodeREMOVED_SECRET,
   REMOVED_SECRETexecution_countREMOVED_SECRET: 1,
   REMOVED_SECRETmetadataREMOVED_SECRET: {},
   REMOVED_SECREToutputsREMOVED_SECRET: [
    {
     REMOVED_SECRETdataREMOVED_SECRET: {
      REMOVED_SECRETtext/htmlREMOVED_SECRET: [
       REMOVED_SECRET<div>\nREMOVED_SECRET,
       REMOVED_SECRET<style scoped>\nREMOVED_SECRET,
       REMOVED_SECRET    .dataframe tbody tr th:only-of-type {\nREMOVED_SECRET,
       REMOVED_SECRET        vertical-align: middle;\nREMOVED_SECRET,
       REMOVED_SECRET    }\nREMOVED_SECRET,
       REMOVED_SECRET\nREMOVED_SECRET,
       REMOVED_SECRET    .dataframe tbody tr th {\nREMOVED_SECRET,
       REMOVED_SECRET        vertical-align: top;\nREMOVED_SECRET,
       REMOVED_SECRET    }\nREMOVED_SECRET,
       REMOVED_SECRET\nREMOVED_SECRET,
       REMOVED_SECRET    .dataframe thead th {\nREMOVED_SECRET,
       REMOVED_SECRET        text-align: right;\nREMOVED_SECRET,
       REMOVED_SECRET    }\nREMOVED_SECRET,
       REMOVED_SECRET</style>\nREMOVED_SECRET,
       REMOVED_SECRET<table border=\REMOVED_SECRET1\REMOVED_SECRET class=\REMOVED_SECRETdataframe\REMOVED_SECRET>\nREMOVED_SECRET,
       REMOVED_SECRET  <thead>\nREMOVED_SECRET,
       REMOVED_SECRET    <tr style=\REMOVED_SECRETtext-align: right;\REMOVED_SECRET>\nREMOVED_SECRET,
       REMOVED_SECRET      <th></th>\nREMOVED_SECRET,
       REMOVED_SECRET      <th>title</th>\nREMOVED_SECRET,
       REMOVED_SECRET      <th>title_italian</th>\nREMOVED_SECRET,
       REMOVED_SECRET      <th>english_embedding</th>\nREMOVED_SECRET,
       REMOVED_SECRET      <th>italian_embedding</th>\nREMOVED_SECRET,
       REMOVED_SECRET    </tr>\nREMOVED_SECRET,
       REMOVED_SECRET  </thead>\nREMOVED_SECRET,
       REMOVED_SECRET  <tbody>\nREMOVED_SECRET,
       REMOVED_SECRET    <tr>\nREMOVED_SECRET,
       REMOVED_SECRET      <th>0</th>\nREMOVED_SECRET,
       REMOVED_SECRET      <td>zwilling pro 2pc prep knife set</td>\nREMOVED_SECRET,
       REMOVED_SECRET      <td>Zwilling pro 2pc set coltello prep</td>\nREMOVED_SECRET,
       REMOVED_SECRET      <td>[-0.07585622, -0.006632321, -0.039237764, 0.04...</td>\nREMOVED_SECRET,
       REMOVED_SECRET      <td>[-0.058768444, 0.012960452, -0.029929288, 0.05...</td>\nREMOVED_SECRET,
       REMOVED_SECRET    </tr>\nREMOVED_SECRET,
       REMOVED_SECRET    <tr>\nREMOVED_SECRET,
       REMOVED_SECRET      <th>1</th>\nREMOVED_SECRET,
       REMOVED_SECRET      <td>womens slim fit drape wrap tshirt  a new day</td>\nREMOVED_SECRET,
       REMOVED_SECRET      <td>donne slim fit drappeggio avvolgere tshirt un ...</td>\nREMOVED_SECRET,
       REMOVED_SECRET      <td>[-0.023722176, -0.02756558, -0.07540757, 0.011...</td>\nREMOVED_SECRET,
       REMOVED_SECRET      <td>[-0.056372743, -0.038858823, -0.07786548, 0.00...</td>\nREMOVED_SECRET,
       REMOVED_SECRET    </tr>\nREMOVED_SECRET,
       REMOVED_SECRET    <tr>\nREMOVED_SECRET,
       REMOVED_SECRET      <th>2</th>\nREMOVED_SECRET,
       REMOVED_SECRET      <td>mens teenage mutant ninja turtles group shot l...</td>\nREMOVED_SECRET,
       REMOVED_SECRET      <td>mens adolescente mutante ninja tartarughe grup...</td>\nREMOVED_SECRET,
       REMOVED_SECRET      <td>[-0.02781372, 0.004972987, -0.055929173, 0.013...</td>\nREMOVED_SECRET,
       REMOVED_SECRET      <td>[-0.004044311, 0.008419336, -0.05591273, 0.015...</td>\nREMOVED_SECRET,
       REMOVED_SECRET    </tr>\nREMOVED_SECRET,
       REMOVED_SECRET    <tr>\nREMOVED_SECRET,
       REMOVED_SECRET      <th>3</th>\nREMOVED_SECRET,
       REMOVED_SECRET      <td>mens wwe triple h the game logo tshirt</td>\nREMOVED_SECRET,
       REMOVED_SECRET      <td>mens wwe triplo h il gioco logo tshirt</td>\nREMOVED_SECRET,
       REMOVED_SECRET      <td>[-0.037347108, -0.009183998, -0.082188, 0.0122...</td>\nREMOVED_SECRET,
       REMOVED_SECRET      <td>[-0.03912319, -0.015832098, -0.07382396, 0.008...</td>\nREMOVED_SECRET,
       REMOVED_SECRET    </tr>\nREMOVED_SECRET,
       REMOVED_SECRET    <tr>\nREMOVED_SECRET,
       REMOVED_SECRET      <th>4</th>\nREMOVED_SECRET,
       REMOVED_SECRET      <td>purina fancy feast grilled gravy delights feas...</td>\nREMOVED_SECRET,
       REMOVED_SECRET      <td>purina fantasia festa grigliato sugo delizie f...</td>\nREMOVED_SECRET,
       REMOVED_SECRET      <td>[-0.0551254, 0.024768988, -0.02036258, -0.0108...</td>\nREMOVED_SECRET,
       REMOVED_SECRET      <td>[-0.0431343, 0.017949222, -0.023515861, -0.024...</td>\nREMOVED_SECRET,
       REMOVED_SECRET    </tr>\nREMOVED_SECRET,
       REMOVED_SECRET    <tr>\nREMOVED_SECRET,
       REMOVED_SECRET      <th>...</th>\nREMOVED_SECRET,
       REMOVED_SECRET      <td>...</td>\nREMOVED_SECRET,
       REMOVED_SECRET      <td>...</td>\nREMOVED_SECRET,
       REMOVED_SECRET      <td>...</td>\nREMOVED_SECRET,
       REMOVED_SECRET      <td>...</td>\nREMOVED_SECRET,
       REMOVED_SECRET    </tr>\nREMOVED_SECRET,
       REMOVED_SECRET    <tr>\nREMOVED_SECRET,
       REMOVED_SECRET      <th>868</th>\nREMOVED_SECRET,
       REMOVED_SECRET      <td>multi collagen protein powder types i ii  ii b...</td>\nREMOVED_SECRET,
       REMOVED_SECRET      <td>proteine multi collageno in polvere ii ii ii o...</td>\nREMOVED_SECRET,
       REMOVED_SECRET      <td>[-0.007071648, 0.013024846, -0.026673753, -0.0...</td>\nREMOVED_SECRET,
       REMOVED_SECRET      <td>[0.036605842, 0.03628495, -0.027457794, -0.008...</td>\nREMOVED_SECRET,
       REMOVED_SECRET    </tr>\nREMOVED_SECRET,
       REMOVED_SECRET    <tr>\nREMOVED_SECRET,
       REMOVED_SECRET      <th>869</th>\nREMOVED_SECRET,
       REMOVED_SECRET      <td>hope  henry mens waffle knit pullover sweater</td>\nREMOVED_SECRET,
       REMOVED_SECRET      <td>speranza henry uomo waffle maglia pullover mag...</td>\nREMOVED_SECRET,
       REMOVED_SECRET      <td>[-0.026264952, -0.008562797, -0.05641582, -0.0...</td>\nREMOVED_SECRET,
       REMOVED_SECRET      <td>[-0.0020557789, -0.0039152885, -0.04709097, -0...</td>\nREMOVED_SECRET,
       REMOVED_SECRET    </tr>\nREMOVED_SECRET,
       REMOVED_SECRET    <tr>\nREMOVED_SECRET,
       REMOVED_SECRET      <th>870</th>\nREMOVED_SECRET,
       REMOVED_SECRET      <td>noritake colortrio 16piece coupe dinnerware set</td>\nREMOVED_SECRET,
       REMOVED_SECRET      <td>noritake colortio 16 pezzi coupé set per la cena</td>\nREMOVED_SECRET,
       REMOVED_SECRET      <td>[-0.0055267178, -0.03823672, -0.024558328, 0.0...</td>\nREMOVED_SECRET,
       REMOVED_SECRET      <td>[0.0011833841, -0.014286156, -0.01681679, 0.03...</td>\nREMOVED_SECRET,
       REMOVED_SECRET    </tr>\nREMOVED_SECRET,
       REMOVED_SECRET    <tr>\nREMOVED_SECRET,
       REMOVED_SECRET      <th>871</th>\nREMOVED_SECRET,
       REMOVED_SECRET      <td>hope  henry mens fine gauge vneck pullover swe...</td>\nREMOVED_SECRET,
       REMOVED_SECRET      <td>speranza henry mens maglione pullover fine gau...</td>\nREMOVED_SECRET,
       REMOVED_SECRET      <td>[-0.03244666, -0.026627203, -0.07740165, 0.004...</td>\nREMOVED_SECRET,
       REMOVED_SECRET      <td>[-0.017570777, -0.00990813, -0.071718924, 0.01...</td>\nREMOVED_SECRET,
       REMOVED_SECRET    </tr>\nREMOVED_SECRET,
       REMOVED_SECRET    <tr>\nREMOVED_SECRET,
       REMOVED_SECRET      <th>872</th>\nREMOVED_SECRET,
       REMOVED_SECRET      <td>double strength larginine 1000 mg by now foods...</td>\nREMOVED_SECRET,
       REMOVED_SECRET      <td>larginina 1000 mg a doppia resistenza ormai al...</td>\nREMOVED_SECRET,
       REMOVED_SECRET      <td>[-0.032500178, 0.013463285, -0.05747889, -0.04...</td>\nREMOVED_SECRET,
       REMOVED_SECRET      <td>[-0.010276856, 0.006340458, -0.052428123, -0.0...</td>\nREMOVED_SECRET,
       REMOVED_SECRET    </tr>\nREMOVED_SECRET,
       REMOVED_SECRET  </tbody>\nREMOVED_SECRET,
       REMOVED_SECRET</table>\nREMOVED_SECRET,
       REMOVED_SECRET<p>873 rows × 4 columns</p>\nREMOVED_SECRET,
       REMOVED_SECRET</div>REMOVED_SECRET
      ],
      REMOVED_SECRETtext/plainREMOVED_SECRET: [
       REMOVED_SECRET                                                 title  \\\nREMOVED_SECRET,
       REMOVED_SECRET0                      zwilling pro 2pc prep knife set   \nREMOVED_SECRET,
       REMOVED_SECRET1         womens slim fit drape wrap tshirt  a new day   \nREMOVED_SECRET,
       REMOVED_SECRET2    mens teenage mutant ninja turtles group shot l...   \nREMOVED_SECRET,
       REMOVED_SECRET3               mens wwe triple h the game logo tshirt   \nREMOVED_SECRET,
       REMOVED_SECRET4    purina fancy feast grilled gravy delights feas...   \nREMOVED_SECRET,
       REMOVED_SECRET..                                                 ...   \nREMOVED_SECRET,
       REMOVED_SECRET868  multi collagen protein powder types i ii  ii b...   \nREMOVED_SECRET,
       REMOVED_SECRET869      hope  henry mens waffle knit pullover sweater   \nREMOVED_SECRET,
       REMOVED_SECRET870    noritake colortrio 16piece coupe dinnerware set   \nREMOVED_SECRET,
       REMOVED_SECRET871  hope  henry mens fine gauge vneck pullover swe...   \nREMOVED_SECRET,
       REMOVED_SECRET872  double strength larginine 1000 mg by now foods...   \nREMOVED_SECRET,
       REMOVED_SECRET\nREMOVED_SECRET,
       REMOVED_SECRET                                         title_italian  \\\nREMOVED_SECRET,
       REMOVED_SECRET0                   Zwilling pro 2pc set coltello prep   \nREMOVED_SECRET,
       REMOVED_SECRET1    donne slim fit drappeggio avvolgere tshirt un ...   \nREMOVED_SECRET,
       REMOVED_SECRET2    mens adolescente mutante ninja tartarughe grup...   \nREMOVED_SECRET,
       REMOVED_SECRET3               mens wwe triplo h il gioco logo tshirt   \nREMOVED_SECRET,
       REMOVED_SECRET4    purina fantasia festa grigliato sugo delizie f...   \nREMOVED_SECRET,
       REMOVED_SECRET..                                                 ...   \nREMOVED_SECRET,
       REMOVED_SECRET868  proteine multi collageno in polvere ii ii ii o...   \nREMOVED_SECRET,
       REMOVED_SECRET869  speranza henry uomo waffle maglia pullover mag...   \nREMOVED_SECRET,
       REMOVED_SECRET870   noritake colortio 16 pezzi coupé set per la cena   \nREMOVED_SECRET,
       REMOVED_SECRET871  speranza henry mens maglione pullover fine gau...   \nREMOVED_SECRET,
       REMOVED_SECRET872  larginina 1000 mg a doppia resistenza ormai al...   \nREMOVED_SECRET,
       REMOVED_SECRET\nREMOVED_SECRET,
       REMOVED_SECRET                                     english_embedding  \\\nREMOVED_SECRET,
       REMOVED_SECRET0    [-0.07585622, -0.006632321, -0.039237764, 0.04...   \nREMOVED_SECRET,
       REMOVED_SECRET1    [-0.023722176, -0.02756558, -0.07540757, 0.011...   \nREMOVED_SECRET,
       REMOVED_SECRET2    [-0.02781372, 0.004972987, -0.055929173, 0.013...   \nREMOVED_SECRET,
       REMOVED_SECRET3    [-0.037347108, -0.009183998, -0.082188, 0.0122...   \nREMOVED_SECRET,
       REMOVED_SECRET4    [-0.0551254, 0.024768988, -0.02036258, -0.0108...   \nREMOVED_SECRET,
       REMOVED_SECRET..                                                 ...   \nREMOVED_SECRET,
       REMOVED_SECRET868  [-0.007071648, 0.013024846, -0.026673753, -0.0...   \nREMOVED_SECRET,
       REMOVED_SECRET869  [-0.026264952, -0.008562797, -0.05641582, -0.0...   \nREMOVED_SECRET,
       REMOVED_SECRET870  [-0.0055267178, -0.03823672, -0.024558328, 0.0...   \nREMOVED_SECRET,
       REMOVED_SECRET871  [-0.03244666, -0.026627203, -0.07740165, 0.004...   \nREMOVED_SECRET,
       REMOVED_SECRET872  [-0.032500178, 0.013463285, -0.05747889, -0.04...   \nREMOVED_SECRET,
       REMOVED_SECRET\nREMOVED_SECRET,
       REMOVED_SECRET                                     italian_embedding  \nREMOVED_SECRET,
       REMOVED_SECRET0    [-0.058768444, 0.012960452, -0.029929288, 0.05...  \nREMOVED_SECRET,
       REMOVED_SECRET1    [-0.056372743, -0.038858823, -0.07786548, 0.00...  \nREMOVED_SECRET,
       REMOVED_SECRET2    [-0.004044311, 0.008419336, -0.05591273, 0.015...  \nREMOVED_SECRET,
       REMOVED_SECRET3    [-0.03912319, -0.015832098, -0.07382396, 0.008...  \nREMOVED_SECRET,
       REMOVED_SECRET4    [-0.0431343, 0.017949222, -0.023515861, -0.024...  \nREMOVED_SECRET,
       REMOVED_SECRET..                                                 ...  \nREMOVED_SECRET,
       REMOVED_SECRET868  [0.036605842, 0.03628495, -0.027457794, -0.008...  \nREMOVED_SECRET,
       REMOVED_SECRET869  [-0.0020557789, -0.0039152885, -0.04709097, -0...  \nREMOVED_SECRET,
       REMOVED_SECRET870  [0.0011833841, -0.014286156, -0.01681679, 0.03...  \nREMOVED_SECRET,
       REMOVED_SECRET871  [-0.017570777, -0.00990813, -0.071718924, 0.01...  \nREMOVED_SECRET,
       REMOVED_SECRET872  [-0.010276856, 0.006340458, -0.052428123, -0.0...  \nREMOVED_SECRET,
       REMOVED_SECRET\nREMOVED_SECRET,
       REMOVED_SECRET[873 rows x 4 columns]REMOVED_SECRET
      ]
     },
     REMOVED_SECRETexecution_countREMOVED_SECRET: 1,
     REMOVED_SECRETmetadataREMOVED_SECRET: {},
     REMOVED_SECREToutput_typeREMOVED_SECRET: REMOVED_SECRETexecute_resultREMOVED_SECRET
    }
   ],
   REMOVED_SECRETsourceREMOVED_SECRET: [
    REMOVED_SECRET#Read the Italy Embeddings\nREMOVED_SECRET,
    REMOVED_SECRETimport pandas as pd\nREMOVED_SECRET,
    REMOVED_SECRETitalian_embeddings = pd.read_pickle(\REMOVED_SECRETen_to_it_embeddings.pkl\REMOVED_SECRET)\nREMOVED_SECRET,
    REMOVED_SECRETitalian_embeddingsREMOVED_SECRET
   ]
  },
  {
   REMOVED_SECRETcell_typeREMOVED_SECRET: REMOVED_SECRETcodeREMOVED_SECRET,
   REMOVED_SECRETexecution_countREMOVED_SECRET: 2,
   REMOVED_SECRETmetadataREMOVED_SECRET: {},
   REMOVED_SECREToutputsREMOVED_SECRET: [],
   REMOVED_SECRETsourceREMOVED_SECRET: [
    REMOVED_SECRETfrom rank_bm25 import BM25Okapi\nREMOVED_SECRET,
    REMOVED_SECRET\nREMOVED_SECRET,
    REMOVED_SECRET#Extracting English and Italian product titles from the dataset\nREMOVED_SECRET,
    REMOVED_SECRETentoit_english_titles = italian_embeddings['title']\nREMOVED_SECRET,
    REMOVED_SECRETentoit_italian_titles = italian_embeddings['title_italian']\nREMOVED_SECRET,
    REMOVED_SECRET\nREMOVED_SECRET,
    REMOVED_SECRET#Tokenize the english and italian titles by splitting on whitespaces\nREMOVED_SECRET,
    REMOVED_SECRETentoit_tokenized_en = [title.split() for title in entoit_english_titles]\nREMOVED_SECRET,
    REMOVED_SECRETentoit_tokenized_it = [title.split() for title in entoit_italian_titles]\nREMOVED_SECRET,
    REMOVED_SECRET\nREMOVED_SECRET,
    REMOVED_SECRET#Create a BM25 index for each language titles\nREMOVED_SECRET,
    REMOVED_SECRETbm25_en = BM25Okapi(entoit_tokenized_en)\nREMOVED_SECRET,
    REMOVED_SECRETbm25_it = BM25Okapi(entoit_tokenized_it)\nREMOVED_SECRET
   ]
  },
  {
   REMOVED_SECRETcell_typeREMOVED_SECRET: REMOVED_SECRETcodeREMOVED_SECRET,
   REMOVED_SECRETexecution_countREMOVED_SECRET: 3,
   REMOVED_SECRETmetadataREMOVED_SECRET: {},
   REMOVED_SECREToutputsREMOVED_SECRET: [],
   REMOVED_SECRETsourceREMOVED_SECRET: [
    REMOVED_SECRET#This function is especially made for en and it, need to be redeclared for es and cn\nREMOVED_SECRET,
    REMOVED_SECRET#Even though the BM25 could be modularised by declaring the BM25 indexes in a dictionary, it has not be done so that each language can be shown visually\nREMOVED_SECRET,
    REMOVED_SECRET\nREMOVED_SECRET,
    REMOVED_SECRET\REMOVED_SECRET\REMOVED_SECRET\REMOVED_SECRET\REMOVED_SECRET \nREMOVED_SECRET,
    REMOVED_SECRETThis function performs a BM25-based search for a given query and language. \nREMOVED_SECRET,
    REMOVED_SECRET   Parameters:\nREMOVED_SECRET,
    REMOVED_SECRET        query (str): The input search string.\nREMOVED_SECRET,
    REMOVED_SECRET        lang (str): The language of the search corpus ('en' or 'it').\nREMOVED_SECRET,
    REMOVED_SECRET        top_k (int): The number of top matching results to return. Default is 5.\nREMOVED_SECRET,
    REMOVED_SECRET\nREMOVED_SECRET,
    REMOVED_SECRET    Returns:\nREMOVED_SECRET,
    REMOVED_SECRET        top_k_ids (List[int]): Indices of the top_k most relevant documents.\nREMOVED_SECRET,
    REMOVED_SECRET        top_k_scores (List[float]): Corresponding BM25 relevance scores.\nREMOVED_SECRET,
    REMOVED_SECRET\nREMOVED_SECRET,
    REMOVED_SECRET\nREMOVED_SECRET,
    REMOVED_SECRET\REMOVED_SECRET\REMOVED_SECRET\REMOVED_SECRET\nREMOVED_SECRET,
    REMOVED_SECRET\nREMOVED_SECRET,
    REMOVED_SECRET\nREMOVED_SECRET,
    REMOVED_SECRETdef search(query, lang='en', top_k=5):\nREMOVED_SECRET,
    REMOVED_SECRET    tokens = query.lower().split() #Tokenize and lowercase the query\nREMOVED_SECRET,
    REMOVED_SECRET\nREMOVED_SECRET,
    REMOVED_SECRET    #Compute BM25 relevance scores using the appropriate model\nREMOVED_SECRET,
    REMOVED_SECRET    if lang == 'en':\nREMOVED_SECRET,
    REMOVED_SECRET        scores = bm25_en.get_scores(tokens)\nREMOVED_SECRET,
    REMOVED_SECRET    else:\nREMOVED_SECRET,
    REMOVED_SECRET        scores = bm25_it.get_scores(tokens)\nREMOVED_SECRET,
    REMOVED_SECRET    \nREMOVED_SECRET,
    REMOVED_SECRET    #Rank results by score and get indices of top_k matches\nREMOVED_SECRET,
    REMOVED_SECRET    top_k_ids = sorted(range(len(scores)), key=lambda i: scores[i], reverse=True)[:top_k]\nREMOVED_SECRET,
    REMOVED_SECRET\nREMOVED_SECRET,
    REMOVED_SECRET    # Return both the document indices and their scores\nREMOVED_SECRET,
    REMOVED_SECRET    return top_k_ids, [scores[i] for i in top_k_ids]REMOVED_SECRET
   ]
  },
  {
   REMOVED_SECRETcell_typeREMOVED_SECRET: REMOVED_SECRETcodeREMOVED_SECRET,
   REMOVED_SECRETexecution_countREMOVED_SECRET: 5,
   REMOVED_SECRETmetadataREMOVED_SECRET: {},
   REMOVED_SECREToutputsREMOVED_SECRET: [
    {
     REMOVED_SECRETnameREMOVED_SECRET: REMOVED_SECRETstdoutREMOVED_SECRET,
     REMOVED_SECREToutput_typeREMOVED_SECRET: REMOVED_SECRETstreamREMOVED_SECRET,
     REMOVED_SECRETtextREMOVED_SECRET: [
      REMOVED_SECRETCollecting langdetect\nREMOVED_SECRET,
      REMOVED_SECRET  Downloading langdetect-1.0.9.tar.gz (981 kB)\nREMOVED_SECRET,
      REMOVED_SECRET                                              0.0/981.5 kB ? eta -:--:--\nREMOVED_SECRET,
      REMOVED_SECRET     ------------------------------------  972.8/981.5 kB 31.1 MB/s eta 0:00:01\nREMOVED_SECRET,
      REMOVED_SECRET     ------------------------------------- 981.5/981.5 kB 20.7 MB/s eta 0:00:00\nREMOVED_SECRET,
      REMOVED_SECRET  Preparing metadata (setup.py): started\nREMOVED_SECRET,
      REMOVED_SECRET  Preparing metadata (setup.py): finished with status 'done'\nREMOVED_SECRET,
      REMOVED_SECRETRequirement already satisfied: six in c:\\users\\liuru\\anaconda3\\envs\\tensorflow_base\\lib\\site-packages (from langdetect) (1.12.0)\nREMOVED_SECRET,
      REMOVED_SECRETBuilding wheels for collected packages: langdetect\nREMOVED_SECRET,
      REMOVED_SECRET  Building wheel for langdetect (setup.py): started\nREMOVED_SECRET,
      REMOVED_SECRET  Building wheel for langdetect (setup.py): finished with status 'done'\nREMOVED_SECRET,
      REMOVED_SECRET  Created wheel for langdetect: filename=langdetect-1.0.9-py3-none-any.whl size=993253 sha256=b65cd8d50f23c02e67fa3377b706f0817a8f55156269352dee046fe5c711e718\nREMOVED_SECRET,
      REMOVED_SECRET  Stored in directory: c:\\users\\liuru\\appdata\\local\\pip\\cache\\wheels\\95\\03\\7d\\59ea870c70ce4e5a370638b5462a7711ab78fba2f655d05106\nREMOVED_SECRET,
      REMOVED_SECRETSuccessfully built langdetect\nREMOVED_SECRET,
      REMOVED_SECRETInstalling collected packages: langdetect\nREMOVED_SECRET,
      REMOVED_SECRETSuccessfully installed langdetect-1.0.9\nREMOVED_SECRET,
      REMOVED_SECRETNote: you may need to restart the kernel to use updated packages.\nREMOVED_SECRET
     ]
    }
   ],
   REMOVED_SECRETsourceREMOVED_SECRET: [
    REMOVED_SECRET%pip install langdetectREMOVED_SECRET
   ]
  },
  {
   REMOVED_SECRETcell_typeREMOVED_SECRET: REMOVED_SECRETcodeREMOVED_SECRET,
   REMOVED_SECRETexecution_countREMOVED_SECRET: 6,
   REMOVED_SECRETmetadataREMOVED_SECRET: {},
   REMOVED_SECREToutputsREMOVED_SECRET: [],
   REMOVED_SECRETsourceREMOVED_SECRET: [
    REMOVED_SECRETfrom langdetect import detect\nREMOVED_SECRET,
    REMOVED_SECRET#This function is similar to the previous code, but it has the autodetection of english or italian queries using the langdetect library\nREMOVED_SECRET,
    REMOVED_SECRETdef search_bm25(query, top_k=5):\nREMOVED_SECRET,
    REMOVED_SECRET    lang = detect(query)  # auto-detect 'en', 'it', etc.\nREMOVED_SECRET,
    REMOVED_SECRET    tokens = query.lower().split()  # simple tokenization\nREMOVED_SECRET,
    REMOVED_SECRET\nREMOVED_SECRET,
    REMOVED_SECRET    if lang == 'it':\nREMOVED_SECRET,
    REMOVED_SECRET        scores = bm25_it.get_scores(tokens)\nREMOVED_SECRET,
    REMOVED_SECRET    else:\nREMOVED_SECRET,
    REMOVED_SECRET        scores = bm25_en.get_scores(tokens)\nREMOVED_SECRET,
    REMOVED_SECRET\nREMOVED_SECRET,
    REMOVED_SECRET    # Get top-k ranked indices\nREMOVED_SECRET,
    REMOVED_SECRET    top_k_ids = sorted(range(len(scores)), key=lambda i: scores[i], reverse=True)[:top_k]\nREMOVED_SECRET,
    REMOVED_SECRET    return top_k_ids, [scores[i] for i in top_k_ids]\nREMOVED_SECRET
   ]
  },
  {
   REMOVED_SECRETcell_typeREMOVED_SECRET: REMOVED_SECRETcodeREMOVED_SECRET,
   REMOVED_SECRETexecution_countREMOVED_SECRET: 7,
   REMOVED_SECRETmetadataREMOVED_SECRET: {},
   REMOVED_SECREToutputsREMOVED_SECRET: [
    {
     REMOVED_SECRETnameREMOVED_SECRET: REMOVED_SECRETstdoutREMOVED_SECRET,
     REMOVED_SECREToutput_typeREMOVED_SECRET: REMOVED_SECRETstreamREMOVED_SECRET,
     REMOVED_SECRETtextREMOVED_SECRET: [
      REMOVED_SECRET7.1469 | lands end womens anyweather fleece adjustable earmuffs\nREMOVED_SECRET,
      REMOVED_SECRET4.9215 | girls39 fleece footless tights  cat 38 jack8482\nREMOVED_SECRET,
      REMOVED_SECRET4.6791 | womens short sleeve vneck seamless tshirt  wild fable\nREMOVED_SECRET,
      REMOVED_SECRET4.6791 | womens seamless short sleeve shirt  all in motion\nREMOVED_SECRET,
      REMOVED_SECRET4.4594 | lands end womens no iron supima cotton long sleeve shirt\nREMOVED_SECRET
     ]
    }
   ],
   REMOVED_SECRETsourceREMOVED_SECRET: [
    REMOVED_SECRET#Performs a BM25 search for the italian query \nREMOVED_SECRET,
    REMOVED_SECRETresults, scores = search_bm25(\REMOVED_SECRETcuffie senza fili\REMOVED_SECRET)\nREMOVED_SECRET,
    REMOVED_SECRET\nREMOVED_SECRET,
    REMOVED_SECRET# Loop through the top results and print each score with its corresponding English product title\nREMOVED_SECRET,
    REMOVED_SECRETfor i, score in zip(results, scores):\nREMOVED_SECRET,
    REMOVED_SECRET    print(f\REMOVED_SECRET{score:.4f} | {italian_embeddings['title'][i]}\REMOVED_SECRET)\nREMOVED_SECRET
   ]
  },
  {
   REMOVED_SECRETcell_typeREMOVED_SECRET: REMOVED_SECRETcodeREMOVED_SECRET,
   REMOVED_SECRETexecution_countREMOVED_SECRET: 9,
   REMOVED_SECRETmetadataREMOVED_SECRET: {},
   REMOVED_SECREToutputsREMOVED_SECRET: [],
   REMOVED_SECRETsourceREMOVED_SECRET: [
    REMOVED_SECRET#Loading PineCone vectordatabase library\nREMOVED_SECRET,
    REMOVED_SECRET\nREMOVED_SECRET,
    REMOVED_SECRETfrom pinecone import Pinecone, ServerlessSpec\nREMOVED_SECRET,
    REMOVED_SECRET\nREMOVED_SECRET,
    REMOVED_SECRET#This is Charran's API\nREMOVED_SECRET,
    REMOVED_SECRETpc = Pinecone(api_key=\REMOVED_SECRETREMOVED_SECRET\REMOVED_SECRET)\nREMOVED_SECRET
   ]
  },
  {
   REMOVED_SECRETcell_typeREMOVED_SECRET: REMOVED_SECRETcodeREMOVED_SECRET,
   REMOVED_SECRETexecution_countREMOVED_SECRET: 10,
   REMOVED_SECRETmetadataREMOVED_SECRET: {},
   REMOVED_SECREToutputsREMOVED_SECRET: [],
   REMOVED_SECRETsourceREMOVED_SECRET: [
    REMOVED_SECRET#Initialising Pinecone index\nREMOVED_SECRET,
    REMOVED_SECRET#This is the Index for the English to Italian vector database\nREMOVED_SECRET,
    REMOVED_SECRETindex = pc.Index('product-title-embeddings')\nREMOVED_SECRET
   ]
  },
  {
   REMOVED_SECRETcell_typeREMOVED_SECRET: REMOVED_SECRETcodeREMOVED_SECRET,
   REMOVED_SECRETexecution_countREMOVED_SECRET: 11,
   REMOVED_SECRETmetadataREMOVED_SECRET: {},
   REMOVED_SECREToutputsREMOVED_SECRET: [],
   REMOVED_SECRETsourceREMOVED_SECRET: [
    REMOVED_SECRET# Helper function to batch upsert\nREMOVED_SECRET,
    REMOVED_SECRETdef batch_upsert(index, vectors, batch_size=50):\nREMOVED_SECRET,
    REMOVED_SECRET    \REMOVED_SECRET\REMOVED_SECRET\REMOVED_SECRET\nREMOVED_SECRET,
    REMOVED_SECRET    Helper function to upsert (insert or update) vectors into a vector index in batches.\nREMOVED_SECRET,
    REMOVED_SECRET\nREMOVED_SECRET,
    REMOVED_SECRET    Parameters:\nREMOVED_SECRET,
    REMOVED_SECRET        index: The vector index (e.g., Pinecone index or FAISS wrapper) supporting the `upsert` method.\nREMOVED_SECRET,
    REMOVED_SECRET        vectors (list): A list of vector records, typically in the format expected by the index (e.g., [{\REMOVED_SECRETid\REMOVED_SECRET: ..., \REMOVED_SECRETvalues\REMOVED_SECRET: [...]}]).\nREMOVED_SECRET,
    REMOVED_SECRET        batch_size (int): Number of vectors to upsert in each batch. Default is 50.\nREMOVED_SECRET,
    REMOVED_SECRET\nREMOVED_SECRET,
    REMOVED_SECRET    Returns:\nREMOVED_SECRET,
    REMOVED_SECRET        None\nREMOVED_SECRET,
    REMOVED_SECRET    \REMOVED_SECRET\REMOVED_SECRET\REMOVED_SECRET\nREMOVED_SECRET,
    REMOVED_SECRET    for i in range(0, len(vectors), batch_size):\nREMOVED_SECRET,
    REMOVED_SECRET        batch = vectors[i:i+batch_size] #Slicing the current  batch\nREMOVED_SECRET,
    REMOVED_SECRET        index.upsert(vectors=batch) #Upsert the batch into index\nREMOVED_SECRET
   ]
  },
  {
   REMOVED_SECRETcell_typeREMOVED_SECRET: REMOVED_SECRETcodeREMOVED_SECRET,
   REMOVED_SECRETexecution_countREMOVED_SECRET: 12,
   REMOVED_SECRETmetadataREMOVED_SECRET: {},
   REMOVED_SECREToutputsREMOVED_SECRET: [],
   REMOVED_SECRETsourceREMOVED_SECRET: [
    REMOVED_SECRET# Generate unique IDs for English embeddings in the format: en-0, en-1, ..., en-N\nREMOVED_SECRET,
    REMOVED_SECRETen_ids = [f\REMOVED_SECRETen-{i}\REMOVED_SECRET for i in range(len(italian_embeddings['english_embedding']))]\nREMOVED_SECRET,
    REMOVED_SECRET\nREMOVED_SECRET,
    REMOVED_SECRET# Generate unique IDs for Italian embeddings in the format: it-0, it-1, ..., it-N\nREMOVED_SECRET,
    REMOVED_SECRETit_ids = [f\REMOVED_SECRETit-{i}\REMOVED_SECRET for i in range(len(italian_embeddings['italian_embedding']))]\nREMOVED_SECRET
   ]
  },
  {
   REMOVED_SECRETcell_typeREMOVED_SECRET: REMOVED_SECRETcodeREMOVED_SECRET,
   REMOVED_SECRETexecution_countREMOVED_SECRET: 13,
   REMOVED_SECRETmetadataREMOVED_SECRET: {},
   REMOVED_SECREToutputsREMOVED_SECRET: [],
   REMOVED_SECRETsourceREMOVED_SECRET: [
    REMOVED_SECRET# Combine English + Italian vectors with unique IDs\nREMOVED_SECRET,
    REMOVED_SECRET# Each tuple is in the form (id, embedding)\nREMOVED_SECRET,
    REMOVED_SECRETcombined_vectors = (\nREMOVED_SECRET,
    REMOVED_SECRET    list(zip(en_ids, italian_embeddings['english_embedding'])) +\nREMOVED_SECRET,
    REMOVED_SECRET    list(zip(it_ids, italian_embeddings['italian_embedding']))\nREMOVED_SECRET,
    REMOVED_SECRET)\nREMOVED_SECRET,
    REMOVED_SECRET\nREMOVED_SECRET,
    REMOVED_SECRET#Convert each tuple to the expected format for upsert\nREMOVED_SECRET,
    REMOVED_SECRET# Required format: {\REMOVED_SECRETid\REMOVED_SECRET: str, \REMOVED_SECRETvalues\REMOVED_SECRET: List[float]}\nREMOVED_SECRET,
    REMOVED_SECRETto_upsert = [{\REMOVED_SECRETid\REMOVED_SECRET: id, \REMOVED_SECRETvalues\REMOVED_SECRET: vector} for id, vector in combined_vectors]\nREMOVED_SECRET,
    REMOVED_SECRET\nREMOVED_SECRET,
    REMOVED_SECRET# Step 3: Upsert to index in batches\nREMOVED_SECRET,
    REMOVED_SECRETbatch_upsert(index, to_upsert, batch_size=50)\nREMOVED_SECRET,
    REMOVED_SECRET\nREMOVED_SECRET,
    REMOVED_SECRET#REMOVED_SECRET
   ]
  },
  {
   REMOVED_SECRETcell_typeREMOVED_SECRET: REMOVED_SECRETcodeREMOVED_SECRET,
   REMOVED_SECRETexecution_countREMOVED_SECRET: 14,
   REMOVED_SECRETmetadataREMOVED_SECRET: {},
   REMOVED_SECREToutputsREMOVED_SECRET: [],
   REMOVED_SECRETsourceREMOVED_SECRET: [
    REMOVED_SECRET# Combine English + Italian vectors with unique IDs\nREMOVED_SECRET,
    REMOVED_SECRET# Each tuple is in the form (id, embedding)\nREMOVED_SECRET,
    REMOVED_SECRETto_upsert = list(zip(en_ids, italian_embeddings['english_embedding'])) + \\\nREMOVED_SECRET,
    REMOVED_SECRET            list(zip(it_ids, italian_embeddings['italian_embedding']))\nREMOVED_SECRET,
    REMOVED_SECRET\nREMOVED_SECRET,
    REMOVED_SECRET# Run batch upload\nREMOVED_SECRET,
    REMOVED_SECRETbatch_upsert(index, to_upsert, batch_size=50)\nREMOVED_SECRET,
    REMOVED_SECRET\nREMOVED_SECRET,
    REMOVED_SECRET\nREMOVED_SECRET,
    REMOVED_SECRET#With this code, the vectorDB has been established for en to it.   REMOVED_SECRET
   ]
  },
  {
   REMOVED_SECRETcell_typeREMOVED_SECRET: REMOVED_SECRETmarkdownREMOVED_SECRET,
   REMOVED_SECRETmetadataREMOVED_SECRET: {},
   REMOVED_SECRETsourceREMOVED_SECRET: [
    REMOVED_SECRETAt this point, the vectorDB has been established for english and italian vectors.REMOVED_SECRET
   ]
  },
  {
   REMOVED_SECRETcell_typeREMOVED_SECRET: REMOVED_SECRETmarkdownREMOVED_SECRET,
   REMOVED_SECRETmetadataREMOVED_SECRET: {},
   REMOVED_SECRETsourceREMOVED_SECRET: [
    REMOVED_SECRETSince BM25 is working, the next step is to proceed building a hybrid retrieval of BM25 + BGE-M3 search engine\nREMOVED_SECRET,
    REMOVED_SECRETfor the product titlesREMOVED_SECRET
   ]
  },
  {
   REMOVED_SECRETcell_typeREMOVED_SECRET: REMOVED_SECRETcodeREMOVED_SECRET,
   REMOVED_SECRETexecution_countREMOVED_SECRET: 15,
   REMOVED_SECRETmetadataREMOVED_SECRET: {},
   REMOVED_SECREToutputsREMOVED_SECRET: [],
   REMOVED_SECRETsourceREMOVED_SECRET: [
    REMOVED_SECRETfrom sentence_transformers import SentenceTransformer\nREMOVED_SECRET,
    REMOVED_SECRET\nREMOVED_SECRET,
    REMOVED_SECRETmodel = SentenceTransformer(\REMOVED_SECRETBAAI/bge-m3\REMOVED_SECRET)REMOVED_SECRET
   ]
  },
  {
   REMOVED_SECRETcell_typeREMOVED_SECRET: REMOVED_SECRETcodeREMOVED_SECRET,
   REMOVED_SECRETexecution_countREMOVED_SECRET: 16,
   REMOVED_SECRETmetadataREMOVED_SECRET: {},
   REMOVED_SECREToutputsREMOVED_SECRET: [],
   REMOVED_SECRETsourceREMOVED_SECRET: [
    REMOVED_SECRETimport numpy as np\nREMOVED_SECRET,
    REMOVED_SECRET\nREMOVED_SECRET,
    REMOVED_SECRETdef scores_to_ranking(scores: list[float]) -> list[int]:\nREMOVED_SECRET,
    REMOVED_SECRET    \REMOVED_SECRET\REMOVED_SECRET\REMOVED_SECRET\nREMOVED_SECRET,
    REMOVED_SECRET    Converts a list of float scores into integer rankings.\nREMOVED_SECRET,
    REMOVED_SECRET\nREMOVED_SECRET,
    REMOVED_SECRET    Higher scores get better (lower) ranks — e.g., the highest score gets rank 1.\nREMOVED_SECRET,
    REMOVED_SECRET\nREMOVED_SECRET,
    REMOVED_SECRET    Args:\nREMOVED_SECRET,
    REMOVED_SECRET        scores (list[float]): List of similarity or relevance scores.\nREMOVED_SECRET,
    REMOVED_SECRET\nREMOVED_SECRET,
    REMOVED_SECRET    Returns:\nREMOVED_SECRET,
    REMOVED_SECRET        list[int]: List of ranks where 1 is the highest rank.\nREMOVED_SECRET,
    REMOVED_SECRET    \REMOVED_SECRET\REMOVED_SECRET\REMOVED_SECRET\nREMOVED_SECRET,
    REMOVED_SECRET    # argsort returns indices that would sort the array — we reverse to get descending order\nREMOVED_SECRET,
    REMOVED_SECRET    return list(np.argsort(scores)[::-1] + 1)  # Ranks start at 1\nREMOVED_SECRET
   ]
  },
  {
   REMOVED_SECRETcell_typeREMOVED_SECRET: REMOVED_SECRETcodeREMOVED_SECRET,
   REMOVED_SECRETexecution_countREMOVED_SECRET: 17,
   REMOVED_SECRETmetadataREMOVED_SECRET: {},
   REMOVED_SECREToutputsREMOVED_SECRET: [],
   REMOVED_SECRETsourceREMOVED_SECRET: [
    REMOVED_SECRETdef rrf(keyword_rank: int, semantic_rank: int, k: int = 60) -> float:\nREMOVED_SECRET,
    REMOVED_SECRET    \REMOVED_SECRET\REMOVED_SECRET\REMOVED_SECRET\nREMOVED_SECRET,
    REMOVED_SECRET    Computes a Reciprocal Rank Fusion (RRF) score from keyword and semantic ranks.\nREMOVED_SECRET,
    REMOVED_SECRET\nREMOVED_SECRET,
    REMOVED_SECRET    RRF helps combine multiple ranking signals (e.g., BM25 + embeddings) into a single score\nREMOVED_SECRET,
    REMOVED_SECRET    that rewards high rank in either list.\nREMOVED_SECRET,
    REMOVED_SECRET\nREMOVED_SECRET,
    REMOVED_SECRET    Args:\nREMOVED_SECRET,
    REMOVED_SECRET        keyword_rank (int): Rank from keyword-based retrieval (e.g., BM25).\nREMOVED_SECRET,
    REMOVED_SECRET        semantic_rank (int): Rank from semantic search (e.g., BGE/LaBSE embeddings).\nREMOVED_SECRET,
    REMOVED_SECRET        k (int, optional): Smoothing constant to dampen large ranks. Default is 60.\nREMOVED_SECRET,
    REMOVED_SECRET\nREMOVED_SECRET,
    REMOVED_SECRET    Returns:\nREMOVED_SECRET,
    REMOVED_SECRET        float: The combined RRF score (higher is better).\nREMOVED_SECRET,
    REMOVED_SECRET    \REMOVED_SECRET\REMOVED_SECRET\REMOVED_SECRET\nREMOVED_SECRET,
    REMOVED_SECRET    return 1 / (k + keyword_rank) + 1 / (k + semantic_rank)\nREMOVED_SECRET
   ]
  },
  {
   REMOVED_SECRETcell_typeREMOVED_SECRET: REMOVED_SECRETcodeREMOVED_SECRET,
   REMOVED_SECRETexecution_countREMOVED_SECRET: 22,
   REMOVED_SECRETmetadataREMOVED_SECRET: {},
   REMOVED_SECREToutputsREMOVED_SECRET: [],
   REMOVED_SECRETsourceREMOVED_SECRET: [
    REMOVED_SECRETdef hybrid_search_rrf(query, top_k=5):\nREMOVED_SECRET,
    REMOVED_SECRET\nREMOVED_SECRET,
    REMOVED_SECRET    #To detect the language from the query\nREMOVED_SECRET,
    REMOVED_SECRET    from langdetect import detect\nREMOVED_SECRET,
    REMOVED_SECRET\nREMOVED_SECRET,
    REMOVED_SECRET    lang = detect(query)\nREMOVED_SECRET,
    REMOVED_SECRET    #tokenising the query to be suitable for BM25\nREMOVED_SECRET,
    REMOVED_SECRET    tokens = query.lower().split()\nREMOVED_SECRET,
    REMOVED_SECRET\nREMOVED_SECRET,
    REMOVED_SECRET    # --- BM25 Retrieval ---(Routes the tokenized query to the appropiate BM25 engine)\nREMOVED_SECRET,
    REMOVED_SECRET    if lang == 'it':\nREMOVED_SECRET,
    REMOVED_SECRET        bm25_scores = bm25_it.get_scores(tokens)\nREMOVED_SECRET,
    REMOVED_SECRET    else:\nREMOVED_SECRET,
    REMOVED_SECRET        bm25_scores = bm25_en.get_scores(tokens) #returns a list of scores, one for each document in the dataset\nREMOVED_SECRET,
    REMOVED_SECRET\nREMOVED_SECRET,
    REMOVED_SECRET    bm25_ranks = scores_to_ranking(bm25_scores)  #Converts the float BM25 scores to rankings for Reciprocal rank fusion(rrf)\nREMOVED_SECRET,
    REMOVED_SECRET\nREMOVED_SECRET,
    REMOVED_SECRET    # --- Semantic Retrieval (Pinecone) ---\nREMOVED_SECRET,
    REMOVED_SECRET    query_vec = model.encode(query).tolist() #generate the query's embedding and convert it a list\nREMOVED_SECRET,
    REMOVED_SECRET    pinecone_results = index.query(vector=query_vec, top_k=top_k, include_metadata=False) #Submits the query vector to Pinecone to retrieve top-k similar vectors, based on cosine similarity\nREMOVED_SECRET,
    REMOVED_SECRET\nREMOVED_SECRET,
    REMOVED_SECRET    pinecone_ids = [int(match['id'].split('-')[1]) for match in pinecone_results['matches']] #extracts og row index from pinecone's ID\nREMOVED_SECRET,
    REMOVED_SECRET    pinecone_scores = [match['score'] for match in pinecone_results['matches']] #Obtain cosine similarity scores from pinecone\nREMOVED_SECRET,
    REMOVED_SECRET    semantic_ranks = scores_to_ranking(pinecone_scores) #Converting pinecone scores to ranks (lower rank = better match)\nREMOVED_SECRET,
    REMOVED_SECRET\nREMOVED_SECRET,
    REMOVED_SECRET    # --- Combine using RRF ---\nREMOVED_SECRET,
    REMOVED_SECRET    combined_scores = {} #placeholder to store RRF combined scores for each shortlisted document\nREMOVED_SECRET,
    REMOVED_SECRET    for idx in pinecone_ids:\nREMOVED_SECRET,
    REMOVED_SECRET        #For each doc idx returned by pinecone\nREMOVED_SECRET,
    REMOVED_SECRET        # Retrieve the BM25 rank and semantic rank, and using rrf function defined on prev cell to combine them into one score\nREMOVED_SECRET,
    REMOVED_SECRET        rrf_score = rrf(\nREMOVED_SECRET,
    REMOVED_SECRET            keyword_rank=bm25_ranks[idx],\nREMOVED_SECRET,
    REMOVED_SECRET            semantic_rank=semantic_ranks[pinecone_ids.index(idx)]\nREMOVED_SECRET,
    REMOVED_SECRET        )\nREMOVED_SECRET,
    REMOVED_SECRET        combined_scores[idx] = rrf_score\nREMOVED_SECRET,
    REMOVED_SECRET\nREMOVED_SECRET,
    REMOVED_SECRET    # Sort by RRF score\nREMOVED_SECRET,
    REMOVED_SECRET    ranked = sorted(combined_scores.items(), key=lambda x: x[1], reverse=True)  #Sorting the docs by their RRF score, with the highest first.\nREMOVED_SECRET,
    REMOVED_SECRET\nREMOVED_SECRET,
    REMOVED_SECRET    return ranked[:top_k]  # list of (doc_id, final_score)\nREMOVED_SECRET
   ]
  },
  {
   REMOVED_SECRETcell_typeREMOVED_SECRET: REMOVED_SECRETcodeREMOVED_SECRET,
   REMOVED_SECRETexecution_countREMOVED_SECRET: 19,
   REMOVED_SECRETmetadataREMOVED_SECRET: {},
   REMOVED_SECREToutputsREMOVED_SECRET: [],
   REMOVED_SECRETsourceREMOVED_SECRET: [
    REMOVED_SECRET#Improved code\nREMOVED_SECRET,
    REMOVED_SECRET\nREMOVED_SECRET,
    REMOVED_SECRETdef hybrid_search_rrf(query, top_k=5):\nREMOVED_SECRET,
    REMOVED_SECRET\nREMOVED_SECRET,
    REMOVED_SECRET    # To detect the language from the query\nREMOVED_SECRET,
    REMOVED_SECRET    from langdetect import detect\nREMOVED_SECRET,
    REMOVED_SECRET    lang = detect(query)\nREMOVED_SECRET,
    REMOVED_SECRET\nREMOVED_SECRET,
    REMOVED_SECRET    # Tokenising the query to be suitable for BM25\nREMOVED_SECRET,
    REMOVED_SECRET    tokens = query.lower().split()\nREMOVED_SECRET,
    REMOVED_SECRET\nREMOVED_SECRET,
    REMOVED_SECRET    # --- BM25 Retrieval --- (Routes the tokenized query to the appropriate BM25 engine)\nREMOVED_SECRET,
    REMOVED_SECRET    if lang == 'it':\nREMOVED_SECRET,
    REMOVED_SECRET        bm25_scores = bm25_it.get_scores(tokens)  # returns a list of scores, one for each document in the dataset\nREMOVED_SECRET,
    REMOVED_SECRET    else:\nREMOVED_SECRET,
    REMOVED_SECRET        bm25_scores = bm25_en.get_scores(tokens)\nREMOVED_SECRET,
    REMOVED_SECRET\nREMOVED_SECRET,
    REMOVED_SECRET    bm25_ranks = scores_to_ranking(bm25_scores)  # Converts the float BM25 scores to rankings for RRF (lower rank = better)\nREMOVED_SECRET,
    REMOVED_SECRET\nREMOVED_SECRET,
    REMOVED_SECRET    # Create a mapping from document index to BM25 rank for fast lookup\nREMOVED_SECRET,
    REMOVED_SECRET    bm25_rank_map = {i: rank for i, rank in enumerate(bm25_ranks)}\nREMOVED_SECRET,
    REMOVED_SECRET\nREMOVED_SECRET,
    REMOVED_SECRET    # --- Semantic Retrieval (Pinecone) ---\nREMOVED_SECRET,
    REMOVED_SECRET    query_vec = model.encode(query).tolist()  # Generate the query's embedding and convert it to a list\nREMOVED_SECRET,
    REMOVED_SECRET\nREMOVED_SECRET,
    REMOVED_SECRET    # Submits the query vector to Pinecone to retrieve top-k similar vectors, based on cosine similarity\nREMOVED_SECRET,
    REMOVED_SECRET    pinecone_results = index.query(vector=query_vec, top_k=top_k * 2, include_metadata=False)\nREMOVED_SECRET,
    REMOVED_SECRET\nREMOVED_SECRET,
    REMOVED_SECRET    # Extracts original row index from Pinecone's vector ID (e.g., \REMOVED_SECRETen-123\REMOVED_SECRET → 123)\nREMOVED_SECRET,
    REMOVED_SECRET    pinecone_ids = [int(match['id'].split('-')[1]) for match in pinecone_results['matches']]\nREMOVED_SECRET,
    REMOVED_SECRET\nREMOVED_SECRET,
    REMOVED_SECRET    # Obtain cosine similarity scores from Pinecone\nREMOVED_SECRET,
    REMOVED_SECRET    pinecone_scores = [match['score'] for match in pinecone_results['matches']]\nREMOVED_SECRET,
    REMOVED_SECRET\nREMOVED_SECRET,
    REMOVED_SECRET    # Converting Pinecone scores to ranks (lower rank = better match)\nREMOVED_SECRET,
    REMOVED_SECRET    semantic_ranks = scores_to_ranking(pinecone_scores)\nREMOVED_SECRET,
    REMOVED_SECRET\nREMOVED_SECRET,
    REMOVED_SECRET    # Create a mapping from document index to semantic rank for fast lookup\nREMOVED_SECRET,
    REMOVED_SECRET    semantic_rank_map = {idx: rank for idx, rank in zip(pinecone_ids, semantic_ranks)}\nREMOVED_SECRET,
    REMOVED_SECRET\nREMOVED_SECRET,
    REMOVED_SECRET    # --- Combine using RRF ---\nREMOVED_SECRET,
    REMOVED_SECRET    combined_scores = {}  # Placeholder to store RRF combined scores for each shortlisted document\nREMOVED_SECRET,
    REMOVED_SECRET\nREMOVED_SECRET,
    REMOVED_SECRET    # For each doc idx returned by Pinecone\nREMOVED_SECRET,
    REMOVED_SECRET    # Retrieve the BM25 rank and semantic rank, and use rrf() to combine them into a hybrid score\nREMOVED_SECRET,
    REMOVED_SECRET    for idx in pinecone_ids:\nREMOVED_SECRET,
    REMOVED_SECRET        rrf_score = rrf(\nREMOVED_SECRET,
    REMOVED_SECRET            keyword_rank=bm25_rank_map.get(idx, top_k + 1),            # Fallback rank if not found in BM25\nREMOVED_SECRET,
    REMOVED_SECRET            semantic_rank=semantic_rank_map.get(idx, top_k + 1)        # Fallback rank if not found in semantic\nREMOVED_SECRET,
    REMOVED_SECRET        )\nREMOVED_SECRET,
    REMOVED_SECRET        combined_scores[idx] = rrf_score  # Store the fused score\nREMOVED_SECRET,
    REMOVED_SECRET\nREMOVED_SECRET,
    REMOVED_SECRET    # Sort the docs by their RRF score, with the highest first\nREMOVED_SECRET,
    REMOVED_SECRET    ranked = sorted(combined_scores.items(), key=lambda x: x[1], reverse=True)\nREMOVED_SECRET,
    REMOVED_SECRET\nREMOVED_SECRET,
    REMOVED_SECRET    return ranked[:top_k]  # Return top-k results as a list of (doc_id, final_score)\nREMOVED_SECRET
   ]
  },
  {
   REMOVED_SECRETcell_typeREMOVED_SECRET: REMOVED_SECRETcodeREMOVED_SECRET,
   REMOVED_SECRETexecution_countREMOVED_SECRET: 23,
   REMOVED_SECRETmetadataREMOVED_SECRET: {},
   REMOVED_SECREToutputsREMOVED_SECRET: [
    {
     REMOVED_SECRETnameREMOVED_SECRET: REMOVED_SECRETstdoutREMOVED_SECRET,
     REMOVED_SECREToutput_typeREMOVED_SECRET: REMOVED_SECRETstreamREMOVED_SECRET,
     REMOVED_SECRETtextREMOVED_SECRET: [
      REMOVED_SECRET0.0190 | womens aladdin classic scene tshirt\nREMOVED_SECRET,
      REMOVED_SECRET0.0186 | toddler girls printed short sleeve tshirt  cat  jack\nREMOVED_SECRET,
      REMOVED_SECRET0.0174 | girls disney princess friends make everything better short sleeve graphic tshirt  black\nREMOVED_SECRET,
      REMOVED_SECRET0.0173 | wink pro womens snap front warmup jacket\nREMOVED_SECRET,
      REMOVED_SECRET0.0173 | womens teddy bear pumpkin short sleeve graphic boyfriend tshirt  beige\nREMOVED_SECRET
     ]
    }
   ],
   REMOVED_SECRETsourceREMOVED_SECRET: [
    REMOVED_SECRET#Testing phase for hybrid (Italian to English)\nREMOVED_SECRET,
    REMOVED_SECRET\nREMOVED_SECRET,
    REMOVED_SECREThybrid_results = hybrid_search_rrf(\REMOVED_SECRETgiacca da donna\REMOVED_SECRET)\nREMOVED_SECRET,
    REMOVED_SECRET\nREMOVED_SECRET,
    REMOVED_SECRETfor idx, score in hybrid_results:\nREMOVED_SECRET,
    REMOVED_SECRET    print(f\REMOVED_SECRET{score:.4f} | {italian_embeddings['title'][idx]}\REMOVED_SECRET)\nREMOVED_SECRET
   ]
  },
  {
   REMOVED_SECRETcell_typeREMOVED_SECRET: REMOVED_SECRETcodeREMOVED_SECRET,
   REMOVED_SECRETexecution_countREMOVED_SECRET: 24,
   REMOVED_SECRETmetadataREMOVED_SECRET: {},
   REMOVED_SECREToutputsREMOVED_SECRET: [
    {
     REMOVED_SECRETnameREMOVED_SECRET: REMOVED_SECRETstdoutREMOVED_SECRET,
     REMOVED_SECREToutput_typeREMOVED_SECRET: REMOVED_SECRETstreamREMOVED_SECRET,
     REMOVED_SECRETtextREMOVED_SECRET: [
      REMOVED_SECRET0.0203 | ragazze39 solido giacca trapuntato gatto 38 jack8482\nREMOVED_SECRET,
      REMOVED_SECRET0.0200 | ragazze puffer giacca tutto in movimento\nREMOVED_SECRET,
      REMOVED_SECRET0.0184 | jockey generazione donne cotone biologico stretch cropped tshirt\nREMOVED_SECRET,
      REMOVED_SECRET0.0178 | wink pro donne snap giacca di riscaldamento anteriore\nREMOVED_SECRET,
      REMOVED_SECRET0.0173 | ragazze solido puffer giacca classe d'arte\nREMOVED_SECRET
     ]
    }
   ],
   REMOVED_SECRETsourceREMOVED_SECRET: [
    REMOVED_SECRET#Testing phase for hybrid (Englsih to Italian)\nREMOVED_SECRET,
    REMOVED_SECRET\nREMOVED_SECRET,
    REMOVED_SECREThybrid_results = hybrid_search_rrf(\REMOVED_SECRETwomen jacket\REMOVED_SECRET)\nREMOVED_SECRET,
    REMOVED_SECRET\nREMOVED_SECRET,
    REMOVED_SECRETfor idx, score in hybrid_results:\nREMOVED_SECRET,
    REMOVED_SECRET    print(f\REMOVED_SECRET{score:.4f} | {italian_embeddings['title_italian'][idx]}\REMOVED_SECRET)\nREMOVED_SECRET
   ]
  },
  {
   REMOVED_SECRETcell_typeREMOVED_SECRET: REMOVED_SECRETcodeREMOVED_SECRET,
   REMOVED_SECRETexecution_countREMOVED_SECRET: 28,
   REMOVED_SECRETmetadataREMOVED_SECRET: {},
   REMOVED_SECREToutputsREMOVED_SECRET: [],
   REMOVED_SECRETsourceREMOVED_SECRET: [
    REMOVED_SECRETdef BM25(query, top_k=5):\nREMOVED_SECRET,
    REMOVED_SECRET\nREMOVED_SECRET,
    REMOVED_SECRET    #To detect the language from the query\nREMOVED_SECRET,
    REMOVED_SECRET    from langdetect import detect\nREMOVED_SECRET,
    REMOVED_SECRET\nREMOVED_SECRET,
    REMOVED_SECRET    lang = detect(query)\nREMOVED_SECRET,
    REMOVED_SECRET    #tokenising the query to be suitable for BM25\nREMOVED_SECRET,
    REMOVED_SECRET    tokens = query.lower().split()\nREMOVED_SECRET,
    REMOVED_SECRET\nREMOVED_SECRET,
    REMOVED_SECRET    # --- BM25 Retrieval ---(Routes the tokenized query to the appropiate BM25 engine)\nREMOVED_SECRET,
    REMOVED_SECRET    if lang == 'it':\nREMOVED_SECRET,
    REMOVED_SECRET        bm25_scores = bm25_it.get_scores(tokens)\nREMOVED_SECRET,
    REMOVED_SECRET    else:\nREMOVED_SECRET,
    REMOVED_SECRET        bm25_scores = bm25_en.get_scores(tokens) #returns a list of scores, one for each document in the dataset\nREMOVED_SECRET,
    REMOVED_SECRET\nREMOVED_SECRET,
    REMOVED_SECRET    bm25_ranks = scores_to_ranking(bm25_scores)  #Converts the float BM25 scores to rankings for Reciprocal rank fusion(rrf)\nREMOVED_SECRET,
    REMOVED_SECRET\nREMOVED_SECRET,
    REMOVED_SECRET    # Sort by RRF score\nREMOVED_SECRET,
    REMOVED_SECRET    ranked = sorted(bm25_ranks.items(), key=lambda x: x[1], reverse=True)  #Sorting the docs by their RRF score, with the highest first.\nREMOVED_SECRET,
    REMOVED_SECRET\nREMOVED_SECRET,
    REMOVED_SECRET    return ranked[:top_k]  # list of (doc_id, final_score)\nREMOVED_SECRET
   ]
  },
  {
   REMOVED_SECRETcell_typeREMOVED_SECRET: REMOVED_SECRETcodeREMOVED_SECRET,
   REMOVED_SECRETexecution_countREMOVED_SECRET: 25,
   REMOVED_SECRETmetadataREMOVED_SECRET: {},
   REMOVED_SECREToutputsREMOVED_SECRET: [],
   REMOVED_SECRETsourceREMOVED_SECRET: [
    REMOVED_SECRET#This code works better\nREMOVED_SECRET,
    REMOVED_SECRET\nREMOVED_SECRET,
    REMOVED_SECRETdef BM25(query, top_k=5):\nREMOVED_SECRET,
    REMOVED_SECRET    \REMOVED_SECRET\REMOVED_SECRET\REMOVED_SECRET\nREMOVED_SECRET,
    REMOVED_SECRET    Perform BM25 keyword search based on query language.\nREMOVED_SECRET,
    REMOVED_SECRET\nREMOVED_SECRET,
    REMOVED_SECRET    Args:\nREMOVED_SECRET,
    REMOVED_SECRET        query (str): The user's search query.\nREMOVED_SECRET,
    REMOVED_SECRET        top_k (int): Number of top documents to return.\nREMOVED_SECRET,
    REMOVED_SECRET\nREMOVED_SECRET,
    REMOVED_SECRET    Returns:\nREMOVED_SECRET,
    REMOVED_SECRET        list of (doc_id, bm25_score)\nREMOVED_SECRET,
    REMOVED_SECRET    \REMOVED_SECRET\REMOVED_SECRET\REMOVED_SECRET\nREMOVED_SECRET,
    REMOVED_SECRET    #To detect the language from the query\nREMOVED_SECRET,
    REMOVED_SECRET    from langdetect import detect\nREMOVED_SECRET,
    REMOVED_SECRET    lang = detect(query)\nREMOVED_SECRET,
    REMOVED_SECRET    tokens = query.lower().split()\nREMOVED_SECRET,
    REMOVED_SECRET\nREMOVED_SECRET,
    REMOVED_SECRET    # Score retrieval\nREMOVED_SECRET,
    REMOVED_SECRET    if lang == 'it':\nREMOVED_SECRET,
    REMOVED_SECRET        bm25_scores = bm25_it.get_scores(tokens)\nREMOVED_SECRET,
    REMOVED_SECRET    else:\nREMOVED_SECRET,
    REMOVED_SECRET        bm25_scores = bm25_en.get_scores(tokens)\nREMOVED_SECRET,
    REMOVED_SECRET\nREMOVED_SECRET,
    REMOVED_SECRET    # Get top-k doc IDs based on raw BM25 scores\nREMOVED_SECRET,
    REMOVED_SECRET    top_k_ids = sorted(range(len(bm25_scores)), key=lambda i: bm25_scores[i], reverse=True)[:top_k]\nREMOVED_SECRET,
    REMOVED_SECRET    \nREMOVED_SECRET,
    REMOVED_SECRET    return [(i, bm25_scores[i]) for i in top_k_ids] #Returns a list of (document ID, score) pairs.\nREMOVED_SECRET
   ]
  },
  {
   REMOVED_SECRETcell_typeREMOVED_SECRET: REMOVED_SECRETcodeREMOVED_SECRET,
   REMOVED_SECRETexecution_countREMOVED_SECRET: 26,
   REMOVED_SECRETmetadataREMOVED_SECRET: {},
   REMOVED_SECREToutputsREMOVED_SECRET: [
    {
     REMOVED_SECRETnameREMOVED_SECRET: REMOVED_SECRETstdoutREMOVED_SECRET,
     REMOVED_SECREToutput_typeREMOVED_SECRET: REMOVED_SECRETstreamREMOVED_SECRET,
     REMOVED_SECRETtextREMOVED_SECRET: [
      REMOVED_SECRET7.1452 | womens highrise straight jeans  universal thread\nREMOVED_SECRET,
      REMOVED_SECRET6.4611 | womens linen short sleeve buttondown camp shirt  a new day\nREMOVED_SECRET,
      REMOVED_SECRET6.4048 | hanes comfort fit scrubs womens scrub pants\nREMOVED_SECRET,
      REMOVED_SECRET6.4048 | timberland womens dunstan short sleeve tshirt\nREMOVED_SECRET,
      REMOVED_SECRET6.0893 | womens fitted short sleeve tshirt  universal thread\nREMOVED_SECRET
     ]
    }
   ],
   REMOVED_SECRETsourceREMOVED_SECRET: [
    REMOVED_SECRET#Testing phase for BM25 alone\nREMOVED_SECRET,
    REMOVED_SECRET\nREMOVED_SECRET,
    REMOVED_SECRETresults = BM25(\REMOVED_SECRETgiacca da donna\REMOVED_SECRET)\nREMOVED_SECRET,
    REMOVED_SECRET\nREMOVED_SECRET,
    REMOVED_SECRETfor idx, score in results:\nREMOVED_SECRET,
    REMOVED_SECRET    print(f\REMOVED_SECRET{score:.4f} | {italian_embeddings['title'][idx]}\REMOVED_SECRET)REMOVED_SECRET
   ]
  },
  {
   REMOVED_SECRETcell_typeREMOVED_SECRET: REMOVED_SECRETcodeREMOVED_SECRET,
   REMOVED_SECRETexecution_countREMOVED_SECRET: 27,
   REMOVED_SECRETmetadataREMOVED_SECRET: {},
   REMOVED_SECREToutputsREMOVED_SECRET: [
    {
     REMOVED_SECRETnameREMOVED_SECRET: REMOVED_SECRETstdoutREMOVED_SECRET,
     REMOVED_SECREToutput_typeREMOVED_SECRET: REMOVED_SECRETstreamREMOVED_SECRET,
     REMOVED_SECRETtextREMOVED_SECRET: [
      REMOVED_SECRET5.4298 | ragazze puffer giacca tutto in movimento\nREMOVED_SECRET,
      REMOVED_SECRET5.4298 | ragazze solido puffer giacca classe d'arte\nREMOVED_SECRET,
      REMOVED_SECRET5.1272 | Bambini39 giacca gonfiabile solida tutto in movimento8482\nREMOVED_SECRET,
      REMOVED_SECRET5.1272 | ragazze39 solido giacca trapuntato gatto 38 jack8482\nREMOVED_SECRET,
      REMOVED_SECRET5.1272 | wink pro donne snap giacca di riscaldamento anteriore\nREMOVED_SECRET
     ]
    }
   ],
   REMOVED_SECRETsourceREMOVED_SECRET: [
    REMOVED_SECRET#Testing phase for BM25 alone\nREMOVED_SECRET,
    REMOVED_SECRET\nREMOVED_SECRET,
    REMOVED_SECRETresults = BM25(\REMOVED_SECRETwomen jacket\REMOVED_SECRET)\nREMOVED_SECRET,
    REMOVED_SECRET\nREMOVED_SECRET,
    REMOVED_SECRETfor idx, score in results:\nREMOVED_SECRET,
    REMOVED_SECRET    print(f\REMOVED_SECRET{score:.4f} | {italian_embeddings['title_italian'][idx]}\REMOVED_SECRET)REMOVED_SECRET
   ]
  },
  {
   REMOVED_SECRETcell_typeREMOVED_SECRET: REMOVED_SECRETmarkdownREMOVED_SECRET,
   REMOVED_SECRETmetadataREMOVED_SECRET: {},
   REMOVED_SECRETsourceREMOVED_SECRET: [
    REMOVED_SECRETNow, let's do a comparison between the scores obtained by just using the BM25 retriever VS using the hybrid retrieval\nREMOVED_SECRET,
    REMOVED_SECRET\nREMOVED_SECRET,
    REMOVED_SECRETWe will probably have to do MRR, MAP or NDCG\nREMOVED_SECRET
   ]
  },
  {
   REMOVED_SECRETcell_typeREMOVED_SECRET: REMOVED_SECRETmarkdownREMOVED_SECRET,
   REMOVED_SECRETmetadataREMOVED_SECRET: {},
   REMOVED_SECRETsourceREMOVED_SECRET: [
    REMOVED_SECRETHybrid Retrieval Phase for SpanishREMOVED_SECRET
   ]
  },
  {
   REMOVED_SECRETcell_typeREMOVED_SECRET: REMOVED_SECRETcodeREMOVED_SECRET,
   REMOVED_SECRETexecution_countREMOVED_SECRET: 28,
   REMOVED_SECRETmetadataREMOVED_SECRET: {},
   REMOVED_SECREToutputsREMOVED_SECRET: [
    {
     REMOVED_SECRETdataREMOVED_SECRET: {
      REMOVED_SECRETtext/htmlREMOVED_SECRET: [
       REMOVED_SECRET<div>\nREMOVED_SECRET,
       REMOVED_SECRET<style scoped>\nREMOVED_SECRET,
       REMOVED_SECRET    .dataframe tbody tr th:only-of-type {\nREMOVED_SECRET,
       REMOVED_SECRET        vertical-align: middle;\nREMOVED_SECRET,
       REMOVED_SECRET    }\nREMOVED_SECRET,
       REMOVED_SECRET\nREMOVED_SECRET,
       REMOVED_SECRET    .dataframe tbody tr th {\nREMOVED_SECRET,
       REMOVED_SECRET        vertical-align: top;\nREMOVED_SECRET,
       REMOVED_SECRET    }\nREMOVED_SECRET,
       REMOVED_SECRET\nREMOVED_SECRET,
       REMOVED_SECRET    .dataframe thead th {\nREMOVED_SECRET,
       REMOVED_SECRET        text-align: right;\nREMOVED_SECRET,
       REMOVED_SECRET    }\nREMOVED_SECRET,
       REMOVED_SECRET</style>\nREMOVED_SECRET,
       REMOVED_SECRET<table border=\REMOVED_SECRET1\REMOVED_SECRET class=\REMOVED_SECRETdataframe\REMOVED_SECRET>\nREMOVED_SECRET,
       REMOVED_SECRET  <thead>\nREMOVED_SECRET,
       REMOVED_SECRET    <tr style=\REMOVED_SECRETtext-align: right;\REMOVED_SECRET>\nREMOVED_SECRET,
       REMOVED_SECRET      <th></th>\nREMOVED_SECRET,
       REMOVED_SECRET      <th>title</th>\nREMOVED_SECRET,
       REMOVED_SECRET      <th>title_spanish</th>\nREMOVED_SECRET,
       REMOVED_SECRET      <th>english_embedding</th>\nREMOVED_SECRET,
       REMOVED_SECRET      <th>spanish_embedding</th>\nREMOVED_SECRET,
       REMOVED_SECRET    </tr>\nREMOVED_SECRET,
       REMOVED_SECRET  </thead>\nREMOVED_SECRET,
       REMOVED_SECRET  <tbody>\nREMOVED_SECRET,
       REMOVED_SECRET    <tr>\nREMOVED_SECRET,
       REMOVED_SECRET      <th>0</th>\nREMOVED_SECRET,
       REMOVED_SECRET      <td>brother genuine high yield toner cartridge tn4...</td>\nREMOVED_SECRET,
       REMOVED_SECRET      <td>hermano genuino cartucho tóner de alto rendimi...</td>\nREMOVED_SECRET,
       REMOVED_SECRET      <td>[-0.03431117, 0.025899883, -0.00967014, -0.019...</td>\nREMOVED_SECRET,
       REMOVED_SECRET      <td>[0.012239528, 0.02652684, 0.002397126, -0.0288...</td>\nREMOVED_SECRET,
       REMOVED_SECRET    </tr>\nREMOVED_SECRET,
       REMOVED_SECRET    <tr>\nREMOVED_SECRET,
       REMOVED_SECRET      <th>1</th>\nREMOVED_SECRET,
       REMOVED_SECRET      <td>fitbit inspire 3 health and fitness tracker wi...</td>\nREMOVED_SECRET,
       REMOVED_SECRET      <td>fitbit inspirar 3 seguimiento de salud y fitne...</td>\nREMOVED_SECRET,
       REMOVED_SECRET      <td>[-0.0016011602, -0.002595037, -0.07348455, 0.0...</td>\nREMOVED_SECRET,
       REMOVED_SECRET      <td>[-0.011861571, -0.009732766, -0.06545575, -0.0...</td>\nREMOVED_SECRET,
       REMOVED_SECRET    </tr>\nREMOVED_SECRET,
       REMOVED_SECRET    <tr>\nREMOVED_SECRET,
       REMOVED_SECRET      <th>2</th>\nREMOVED_SECRET,
       REMOVED_SECRET      <td>mikes hot honey americas 1 brand of hot honey ...</td>\nREMOVED_SECRET,
       REMOVED_SECRET      <td>mikes miel caliente américas 1 marca de miel c...</td>\nREMOVED_SECRET,
       REMOVED_SECRET      <td>[-0.0004525112, -0.009976895, -0.015700651, 0....</td>\nREMOVED_SECRET,
       REMOVED_SECRET      <td>[-0.031901788, 0.017521167, -0.04371976, 0.039...</td>\nREMOVED_SECRET,
       REMOVED_SECRET    </tr>\nREMOVED_SECRET,
       REMOVED_SECRET    <tr>\nREMOVED_SECRET,
       REMOVED_SECRET      <th>3</th>\nREMOVED_SECRET,
       REMOVED_SECRET      <td>krema kréma red fruits 100 recyclable 240g</td>\nREMOVED_SECRET,
       REMOVED_SECRET      <td>krema kréma frutos rojos 100 reciclables 240g</td>\nREMOVED_SECRET,
       REMOVED_SECRET      <td>[-0.011189645, 0.033041686, -0.005376764, -0.0...</td>\nREMOVED_SECRET,
       REMOVED_SECRET      <td>[-0.013215443, 0.0015486346, -0.020853952, -0....</td>\nREMOVED_SECRET,
       REMOVED_SECRET    </tr>\nREMOVED_SECRET,
       REMOVED_SECRET    <tr>\nREMOVED_SECRET,
       REMOVED_SECRET      <th>4</th>\nREMOVED_SECRET,
       REMOVED_SECRET      <td>drsalts calming therapy epsom salts  soothing ...</td>\nREMOVED_SECRET,
       REMOVED_SECRET      <td>drsalts calmante terapia epsom sales calmantes...</td>\nREMOVED_SECRET,
       REMOVED_SECRET      <td>[0.018024862, -0.015684763, -0.062142983, -0.0...</td>\nREMOVED_SECRET,
       REMOVED_SECRET      <td>[0.008137982, 0.009916707, -0.07349886, -0.013...</td>\nREMOVED_SECRET,
       REMOVED_SECRET    </tr>\nREMOVED_SECRET,
       REMOVED_SECRET    <tr>\nREMOVED_SECRET,
       REMOVED_SECRET      <th>...</th>\nREMOVED_SECRET,
       REMOVED_SECRET      <td>...</td>\nREMOVED_SECRET,
       REMOVED_SECRET      <td>...</td>\nREMOVED_SECRET,
       REMOVED_SECRET      <td>...</td>\nREMOVED_SECRET,
       REMOVED_SECRET      <td>...</td>\nREMOVED_SECRET,
       REMOVED_SECRET    </tr>\nREMOVED_SECRET,
       REMOVED_SECRET    <tr>\nREMOVED_SECRET,
       REMOVED_SECRET      <th>991</th>\nREMOVED_SECRET,
       REMOVED_SECRET      <td>ruimen smart watches for men women answermake ...</td>\nREMOVED_SECRET,
       REMOVED_SECRET      <td>ruimen relojes inteligentes para hombres mujer...</td>\nREMOVED_SECRET,
       REMOVED_SECRET      <td>[-0.022698322, 0.004262252, -0.06492456, -0.01...</td>\nREMOVED_SECRET,
       REMOVED_SECRET      <td>[-0.015060791, 0.010321501, -0.057668064, -0.0...</td>\nREMOVED_SECRET,
       REMOVED_SECRET    </tr>\nREMOVED_SECRET,
       REMOVED_SECRET    <tr>\nREMOVED_SECRET,
       REMOVED_SECRET      <th>992</th>\nREMOVED_SECRET,
       REMOVED_SECRET      <td>musicozy sleep headphones bluetooth 54 headban...</td>\nREMOVED_SECRET,
       REMOVED_SECRET      <td>auriculares musicozy sueño bluetooth 54 diadem...</td>\nREMOVED_SECRET,
       REMOVED_SECRET      <td>[-0.0110038, 0.028441783, -0.065515295, 0.0328...</td>\nREMOVED_SECRET,
       REMOVED_SECRET      <td>[0.006726083, 0.042338137, -0.0548927, 0.00642...</td>\nREMOVED_SECRET,
       REMOVED_SECRET    </tr>\nREMOVED_SECRET,
       REMOVED_SECRET    <tr>\nREMOVED_SECRET,
       REMOVED_SECRET      <th>993</th>\nREMOVED_SECRET,
       REMOVED_SECRET      <td>sun ninja pop up beach tent sun shelter upf50 ...</td>\nREMOVED_SECRET,
       REMOVED_SECRET      <td>sun ninja pop up playa refugio de sol upf50 co...</td>\nREMOVED_SECRET,
       REMOVED_SECRET      <td>[-0.018024122, -0.008911157, -0.09137453, 0.00...</td>\nREMOVED_SECRET,
       REMOVED_SECRET      <td>[-0.0045234896, 0.003032705, -0.079418756, 0.0...</td>\nREMOVED_SECRET,
       REMOVED_SECRET    </tr>\nREMOVED_SECRET,
       REMOVED_SECRET    <tr>\nREMOVED_SECRET,
       REMOVED_SECRET      <th>994</th>\nREMOVED_SECRET,
       REMOVED_SECRET      <td>rhino usa trailer hitch pin 2 inch patented 58...</td>\nREMOVED_SECRET,
       REMOVED_SECRET      <td>enganche de remolque de rinoceronte usa pin de...</td>\nREMOVED_SECRET,
       REMOVED_SECRET      <td>[-0.011390688, -0.004701349, -0.009233302, 0.0...</td>\nREMOVED_SECRET,
       REMOVED_SECRET      <td>[0.023057196, 0.013233271, 0.0004464224, 0.017...</td>\nREMOVED_SECRET,
       REMOVED_SECRET    </tr>\nREMOVED_SECRET,
       REMOVED_SECRET    <tr>\nREMOVED_SECRET,
       REMOVED_SECRET      <th>995</th>\nREMOVED_SECRET,
       REMOVED_SECRET      <td>sun ninja pop up beach tent sun shelter upf50 ...</td>\nREMOVED_SECRET,
       REMOVED_SECRET      <td>sun ninja pop up playa tienda refugio de sol u...</td>\nREMOVED_SECRET,
       REMOVED_SECRET      <td>[-0.010519517, -0.017002273, -0.08655271, 0.01...</td>\nREMOVED_SECRET,
       REMOVED_SECRET      <td>[-0.0049236235, -0.005282401, -0.06757761, 0.0...</td>\nREMOVED_SECRET,
       REMOVED_SECRET    </tr>\nREMOVED_SECRET,
       REMOVED_SECRET  </tbody>\nREMOVED_SECRET,
       REMOVED_SECRET</table>\nREMOVED_SECRET,
       REMOVED_SECRET<p>996 rows × 4 columns</p>\nREMOVED_SECRET,
       REMOVED_SECRET</div>REMOVED_SECRET
      ],
      REMOVED_SECRETtext/plainREMOVED_SECRET: [
       REMOVED_SECRET                                                 title  \\\nREMOVED_SECRET,
       REMOVED_SECRET0    brother genuine high yield toner cartridge tn4...   \nREMOVED_SECRET,
       REMOVED_SECRET1    fitbit inspire 3 health and fitness tracker wi...   \nREMOVED_SECRET,
       REMOVED_SECRET2    mikes hot honey americas 1 brand of hot honey ...   \nREMOVED_SECRET,
       REMOVED_SECRET3           krema kréma red fruits 100 recyclable 240g   \nREMOVED_SECRET,
       REMOVED_SECRET4    drsalts calming therapy epsom salts  soothing ...   \nREMOVED_SECRET,
       REMOVED_SECRET..                                                 ...   \nREMOVED_SECRET,
       REMOVED_SECRET991  ruimen smart watches for men women answermake ...   \nREMOVED_SECRET,
       REMOVED_SECRET992  musicozy sleep headphones bluetooth 54 headban...   \nREMOVED_SECRET,
       REMOVED_SECRET993  sun ninja pop up beach tent sun shelter upf50 ...   \nREMOVED_SECRET,
       REMOVED_SECRET994  rhino usa trailer hitch pin 2 inch patented 58...   \nREMOVED_SECRET,
       REMOVED_SECRET995  sun ninja pop up beach tent sun shelter upf50 ...   \nREMOVED_SECRET,
       REMOVED_SECRET\nREMOVED_SECRET,
       REMOVED_SECRET                                         title_spanish  \\\nREMOVED_SECRET,
       REMOVED_SECRET0    hermano genuino cartucho tóner de alto rendimi...   \nREMOVED_SECRET,
       REMOVED_SECRET1    fitbit inspirar 3 seguimiento de salud y fitne...   \nREMOVED_SECRET,
       REMOVED_SECRET2    mikes miel caliente américas 1 marca de miel c...   \nREMOVED_SECRET,
       REMOVED_SECRET3        krema kréma frutos rojos 100 reciclables 240g   \nREMOVED_SECRET,
       REMOVED_SECRET4    drsalts calmante terapia epsom sales calmantes...   \nREMOVED_SECRET,
       REMOVED_SECRET..                                                 ...   \nREMOVED_SECRET,
       REMOVED_SECRET991  ruimen relojes inteligentes para hombres mujer...   \nREMOVED_SECRET,
       REMOVED_SECRET992  auriculares musicozy sueño bluetooth 54 diadem...   \nREMOVED_SECRET,
       REMOVED_SECRET993  sun ninja pop up playa refugio de sol upf50 co...   \nREMOVED_SECRET,
       REMOVED_SECRET994  enganche de remolque de rinoceronte usa pin de...   \nREMOVED_SECRET,
       REMOVED_SECRET995  sun ninja pop up playa tienda refugio de sol u...   \nREMOVED_SECRET,
       REMOVED_SECRET\nREMOVED_SECRET,
       REMOVED_SECRET                                     english_embedding  \\\nREMOVED_SECRET,
       REMOVED_SECRET0    [-0.03431117, 0.025899883, -0.00967014, -0.019...   \nREMOVED_SECRET,
       REMOVED_SECRET1    [-0.0016011602, -0.002595037, -0.07348455, 0.0...   \nREMOVED_SECRET,
       REMOVED_SECRET2    [-0.0004525112, -0.009976895, -0.015700651, 0....   \nREMOVED_SECRET,
       REMOVED_SECRET3    [-0.011189645, 0.033041686, -0.005376764, -0.0...   \nREMOVED_SECRET,
       REMOVED_SECRET4    [0.018024862, -0.015684763, -0.062142983, -0.0...   \nREMOVED_SECRET,
       REMOVED_SECRET..                                                 ...   \nREMOVED_SECRET,
       REMOVED_SECRET991  [-0.022698322, 0.004262252, -0.06492456, -0.01...   \nREMOVED_SECRET,
       REMOVED_SECRET992  [-0.0110038, 0.028441783, -0.065515295, 0.0328...   \nREMOVED_SECRET,
       REMOVED_SECRET993  [-0.018024122, -0.008911157, -0.09137453, 0.00...   \nREMOVED_SECRET,
       REMOVED_SECRET994  [-0.011390688, -0.004701349, -0.009233302, 0.0...   \nREMOVED_SECRET,
       REMOVED_SECRET995  [-0.010519517, -0.017002273, -0.08655271, 0.01...   \nREMOVED_SECRET,
       REMOVED_SECRET\nREMOVED_SECRET,
       REMOVED_SECRET                                     spanish_embedding  \nREMOVED_SECRET,
       REMOVED_SECRET0    [0.012239528, 0.02652684, 0.002397126, -0.0288...  \nREMOVED_SECRET,
       REMOVED_SECRET1    [-0.011861571, -0.009732766, -0.06545575, -0.0...  \nREMOVED_SECRET,
       REMOVED_SECRET2    [-0.031901788, 0.017521167, -0.04371976, 0.039...  \nREMOVED_SECRET,
       REMOVED_SECRET3    [-0.013215443, 0.0015486346, -0.020853952, -0....  \nREMOVED_SECRET,
       REMOVED_SECRET4    [0.008137982, 0.009916707, -0.07349886, -0.013...  \nREMOVED_SECRET,
       REMOVED_SECRET..                                                 ...  \nREMOVED_SECRET,
       REMOVED_SECRET991  [-0.015060791, 0.010321501, -0.057668064, -0.0...  \nREMOVED_SECRET,
       REMOVED_SECRET992  [0.006726083, 0.042338137, -0.0548927, 0.00642...  \nREMOVED_SECRET,
       REMOVED_SECRET993  [-0.0045234896, 0.003032705, -0.079418756, 0.0...  \nREMOVED_SECRET,
       REMOVED_SECRET994  [0.023057196, 0.013233271, 0.0004464224, 0.017...  \nREMOVED_SECRET,
       REMOVED_SECRET995  [-0.0049236235, -0.005282401, -0.06757761, 0.0...  \nREMOVED_SECRET,
       REMOVED_SECRET\nREMOVED_SECRET,
       REMOVED_SECRET[996 rows x 4 columns]REMOVED_SECRET
      ]
     },
     REMOVED_SECRETexecution_countREMOVED_SECRET: 28,
     REMOVED_SECRETmetadataREMOVED_SECRET: {},
     REMOVED_SECREToutput_typeREMOVED_SECRET: REMOVED_SECRETexecute_resultREMOVED_SECRET
    }
   ],
   REMOVED_SECRETsourceREMOVED_SECRET: [
    REMOVED_SECRET#Read the Spanish Embeddings\nREMOVED_SECRET,
    REMOVED_SECRETimport pandas as pd\nREMOVED_SECRET,
    REMOVED_SECRETspanish_embeddings = pd.read_pickle(\REMOVED_SECRETen_to_sp_embeddings.pkl\REMOVED_SECRET)\nREMOVED_SECRET,
    REMOVED_SECRETspanish_embeddingsREMOVED_SECRET
   ]
  },
  {
   REMOVED_SECRETcell_typeREMOVED_SECRET: REMOVED_SECRETcodeREMOVED_SECRET,
   REMOVED_SECRETexecution_countREMOVED_SECRET: 30,
   REMOVED_SECRETmetadataREMOVED_SECRET: {},
   REMOVED_SECREToutputsREMOVED_SECRET: [],
   REMOVED_SECRETsourceREMOVED_SECRET: [
    REMOVED_SECRET#Building BM25 for Spanish\nREMOVED_SECRET,
    REMOVED_SECRETentoes_english_titles = spanish_embeddings['title']\nREMOVED_SECRET,
    REMOVED_SECRETentoes_spanish_titles = spanish_embeddings['title_spanish']\nREMOVED_SECRET,
    REMOVED_SECRET\nREMOVED_SECRET,
    REMOVED_SECRETentoes_tokenized_en = [title.split() for title in entoes_english_titles]\nREMOVED_SECRET,
    REMOVED_SECRETentoes_tokenized_es = [title.split() for title in entoes_spanish_titles]\nREMOVED_SECRET,
    REMOVED_SECRET\nREMOVED_SECRET,
    REMOVED_SECRETfrom rank_bm25 import BM25Okapi\nREMOVED_SECRET,
    REMOVED_SECRET\nREMOVED_SECRET,
    REMOVED_SECRETbm25_en = BM25Okapi(entoes_tokenized_en)\nREMOVED_SECRET,
    REMOVED_SECRETbm25_es = BM25Okapi(entoes_tokenized_es)REMOVED_SECRET
   ]
  },
  {
   REMOVED_SECRETcell_typeREMOVED_SECRET: REMOVED_SECRETcodeREMOVED_SECRET,
   REMOVED_SECRETexecution_countREMOVED_SECRET: null,
   REMOVED_SECRETmetadataREMOVED_SECRET: {},
   REMOVED_SECREToutputsREMOVED_SECRET: [],
   REMOVED_SECRETsourceREMOVED_SECRET: [
    REMOVED_SECRET#This function is especially made for en and es, need to be redeclared for en and es\nREMOVED_SECRET,
    REMOVED_SECRETdef search(query, lang='en', top_k=5):\nREMOVED_SECRET,
    REMOVED_SECRET    tokens = query.lower().split()\nREMOVED_SECRET,
    REMOVED_SECRET    if lang == 'en':\nREMOVED_SECRET,
    REMOVED_SECRET        scores = bm25_en.get_scores(tokens)\nREMOVED_SECRET,
    REMOVED_SECRET    else:\nREMOVED_SECRET,
    REMOVED_SECRET        scores = bm25_es.get_scores(tokens)\nREMOVED_SECRET,
    REMOVED_SECRET    \nREMOVED_SECRET,
    REMOVED_SECRET    top_k_ids = sorted(range(len(scores)), key=lambda i: scores[i], reverse=True)[:top_k]\nREMOVED_SECRET,
    REMOVED_SECRET    return top_k_ids, [scores[i] for i in top_k_ids]REMOVED_SECRET
   ]
  },
  {
   REMOVED_SECRETcell_typeREMOVED_SECRET: REMOVED_SECRETcodeREMOVED_SECRET,
   REMOVED_SECRETexecution_countREMOVED_SECRET: 38,
   REMOVED_SECRETmetadataREMOVED_SECRET: {},
   REMOVED_SECREToutputsREMOVED_SECRET: [],
   REMOVED_SECRETsourceREMOVED_SECRET: [
    REMOVED_SECRETfrom langdetect import detect\nREMOVED_SECRET,
    REMOVED_SECRET#This function is made for en and it\nREMOVED_SECRET,
    REMOVED_SECRETdef search_bm25(query, top_k=5):\nREMOVED_SECRET,
    REMOVED_SECRET    lang = detect(query)  # auto-detect 'en', 'es', etc.\nREMOVED_SECRET,
    REMOVED_SECRET    tokens = query.lower().split()  # simple tokenization\nREMOVED_SECRET,
    REMOVED_SECRET\nREMOVED_SECRET,
    REMOVED_SECRET    if lang == 'es':\nREMOVED_SECRET,
    REMOVED_SECRET        scores = bm25_es.get_scores(tokens)\nREMOVED_SECRET,
    REMOVED_SECRET    else:\nREMOVED_SECRET,
    REMOVED_SECRET        scores = bm25_en.get_scores(tokens)\nREMOVED_SECRET,
    REMOVED_SECRET\nREMOVED_SECRET,
    REMOVED_SECRET    # Get top-k ranked indices\nREMOVED_SECRET,
    REMOVED_SECRET    top_k_ids = sorted(range(len(scores)), key=lambda i: scores[i], reverse=True)[:top_k]\nREMOVED_SECRET,
    REMOVED_SECRET    return top_k_ids, [scores[i] for i in top_k_ids]REMOVED_SECRET
   ]
  },
  {
   REMOVED_SECRETcell_typeREMOVED_SECRET: REMOVED_SECRETcodeREMOVED_SECRET,
   REMOVED_SECRETexecution_countREMOVED_SECRET: 39,
   REMOVED_SECRETmetadataREMOVED_SECRET: {},
   REMOVED_SECREToutputsREMOVED_SECRET: [
    {
     REMOVED_SECRETnameREMOVED_SECRET: REMOVED_SECRETstdoutREMOVED_SECRET,
     REMOVED_SECREToutput_typeREMOVED_SECRET: REMOVED_SECRETstreamREMOVED_SECRET,
     REMOVED_SECRETtextREMOVED_SECRET: [
      REMOVED_SECRET19.4874 | brother genuine high yield toner cartridge tn450 replacement black toner page yield up to 2600 pages\nREMOVED_SECRET,
      REMOVED_SECRET17.1048 | brother genuine tn436 super high yield toner black\nREMOVED_SECRET,
      REMOVED_SECRET13.1930 | compatible toner cartridge replacement for brother tn770 tn770 toner for brother printer hll2370dw l2370dwxl mfcl2750dw l2750dwxl 4500 page black 2 pack\nREMOVED_SECRET,
      REMOVED_SECRET6.3196 | lxtek compatible toner cartridge replacement for canon 137 black toner cartridge 137 crg137 to use with imageclass d570 mf232w mf242dw mf240 mf230 mf216n mf236n2 pack 137 black\nREMOVED_SECRET,
      REMOVED_SECRET5.8940 | tokyoink 232xl ink cartridges combo pack replacement for epson 232 xl t232 ink cartridge for expression home xp4200 xp4205 workforce wf2930 wf2950 printer ink cartridge cyan magenta yellow black\nREMOVED_SECRET
     ]
    }
   ],
   REMOVED_SECRETsourceREMOVED_SECRET: [
    REMOVED_SECRETresults, scores = search_bm25(\REMOVED_SECREThermano genuino cartucho\REMOVED_SECRET)\nREMOVED_SECRET,
    REMOVED_SECRET\nREMOVED_SECRET,
    REMOVED_SECRETfor i, score in zip(results, scores):\nREMOVED_SECRET,
    REMOVED_SECRET    print(f\REMOVED_SECRET{score:.4f} | {spanish_embeddings['title'][i]}\REMOVED_SECRET)REMOVED_SECRET
   ]
  },
  {
   REMOVED_SECRETcell_typeREMOVED_SECRET: REMOVED_SECRETcodeREMOVED_SECRET,
   REMOVED_SECRETexecution_countREMOVED_SECRET: 40,
   REMOVED_SECRETmetadataREMOVED_SECRET: {},
   REMOVED_SECREToutputsREMOVED_SECRET: [],
   REMOVED_SECRETsourceREMOVED_SECRET: [
    REMOVED_SECRETfrom pinecone import Pinecone, ServerlessSpec\nREMOVED_SECRET,
    REMOVED_SECRET\nREMOVED_SECRET,
    REMOVED_SECRET#This is Cheryl's API\nREMOVED_SECRET,
    ***REMOVED***REMOVED_SECRET
   ]
  },
  {
   REMOVED_SECRETcell_typeREMOVED_SECRET: REMOVED_SECRETcodeREMOVED_SECRET,
   REMOVED_SECRETexecution_countREMOVED_SECRET: 41,
   REMOVED_SECRETmetadataREMOVED_SECRET: {},
   REMOVED_SECREToutputsREMOVED_SECRET: [],
   REMOVED_SECRETsourceREMOVED_SECRET: [
    REMOVED_SECRET#Initialising Pinecone index\nREMOVED_SECRET,
    REMOVED_SECRET#This is the Index for the ENTOIT\nREMOVED_SECRET,
    REMOVED_SECRETindex = pc.Index('entoes')REMOVED_SECRET
   ]
  },
  {
   REMOVED_SECRETcell_typeREMOVED_SECRET: REMOVED_SECRETcodeREMOVED_SECRET,
   REMOVED_SECRETexecution_countREMOVED_SECRET: 43,
   REMOVED_SECRETmetadataREMOVED_SECRET: {},
   REMOVED_SECREToutputsREMOVED_SECRET: [],
   REMOVED_SECRETsourceREMOVED_SECRET: [
    REMOVED_SECRETen_ids = [f\REMOVED_SECRETen-{i}\REMOVED_SECRET for i in range(len(spanish_embeddings['english_embedding']))]\nREMOVED_SECRET,
    REMOVED_SECRETes_ids = [f\REMOVED_SECRETes-{i}\REMOVED_SECRET for i in range(len(spanish_embeddings['spanish_embedding']))]REMOVED_SECRET
   ]
  },
  {
   REMOVED_SECRETcell_typeREMOVED_SECRET: REMOVED_SECRETcodeREMOVED_SECRET,
   REMOVED_SECRETexecution_countREMOVED_SECRET: 44,
   REMOVED_SECRETmetadataREMOVED_SECRET: {},
   REMOVED_SECREToutputsREMOVED_SECRET: [],
   REMOVED_SECRETsourceREMOVED_SECRET: [
    REMOVED_SECRET# Combine English + Spanish as before\nREMOVED_SECRET,
    REMOVED_SECRETto_upsert = list(zip(en_ids, spanish_embeddings['english_embedding'])) + \\\nREMOVED_SECRET,
    REMOVED_SECRET            list(zip(es_ids, spanish_embeddings['spanish_embedding']))\nREMOVED_SECRET,
    REMOVED_SECRET\nREMOVED_SECRET,
    REMOVED_SECRET# Run batch upload\nREMOVED_SECRET,
    REMOVED_SECRETbatch_upsert(index, to_upsert, batch_size=50)\nREMOVED_SECRET,
    REMOVED_SECRET\nREMOVED_SECRET,
    REMOVED_SECRET\nREMOVED_SECRET,
    REMOVED_SECRET#With this code, the vectorDB has been established for en to it.  REMOVED_SECRET
   ]
  },
  {
   REMOVED_SECRETcell_typeREMOVED_SECRET: REMOVED_SECRETcodeREMOVED_SECRET,
   REMOVED_SECRETexecution_countREMOVED_SECRET: null,
   REMOVED_SECRETmetadataREMOVED_SECRET: {},
   REMOVED_SECREToutputsREMOVED_SECRET: [],
   REMOVED_SECRETsourceREMOVED_SECRET: [
    REMOVED_SECRETimport numpy as np\nREMOVED_SECRET,
    REMOVED_SECRET\nREMOVED_SECRET,
    REMOVED_SECRETdef scores_to_ranking(scores: list[float]) -> list[int]:\nREMOVED_SECRET,
    REMOVED_SECRET    \REMOVED_SECRET\REMOVED_SECRET\REMOVED_SECRETConvert float scores into int rankings (1 = best).\REMOVED_SECRET\REMOVED_SECRET\REMOVED_SECRET\nREMOVED_SECRET,
    REMOVED_SECRET    return np.argsort(scores)[::-1] + 1  # ranks start at 1\nREMOVED_SECRET,
    REMOVED_SECRET\nREMOVED_SECRET,
    REMOVED_SECRETdef rrf(keyword_rank: int, semantic_rank: int, k: int = 60) -> float:\nREMOVED_SECRET,
    REMOVED_SECRET    \REMOVED_SECRET\REMOVED_SECRET\REMOVED_SECRETCombine keyword rank and semantic rank into a hybrid score using RRF.\REMOVED_SECRET\REMOVED_SECRET\REMOVED_SECRET\nREMOVED_SECRET,
    REMOVED_SECRET    return 1 / (k + keyword_rank) + 1 / (k + semantic_rank)\nREMOVED_SECRET
   ]
  },
  {
   REMOVED_SECRETcell_typeREMOVED_SECRET: REMOVED_SECRETcodeREMOVED_SECRET,
   REMOVED_SECRETexecution_countREMOVED_SECRET: 45,
   REMOVED_SECRETmetadataREMOVED_SECRET: {},
   REMOVED_SECREToutputsREMOVED_SECRET: [],
   REMOVED_SECRETsourceREMOVED_SECRET: [
    REMOVED_SECRETdef hybrid_search_rrf(query, top_k=5):\nREMOVED_SECRET,
    REMOVED_SECRET\nREMOVED_SECRET,
    REMOVED_SECRET    #To detect the language from the query\nREMOVED_SECRET,
    REMOVED_SECRET    from langdetect import detect\nREMOVED_SECRET,
    REMOVED_SECRET\nREMOVED_SECRET,
    REMOVED_SECRET    lang = detect(query)\nREMOVED_SECRET,
    REMOVED_SECRET    #tokenising the query to be suitable for BM25\nREMOVED_SECRET,
    REMOVED_SECRET    tokens = query.lower().split()\nREMOVED_SECRET,
    REMOVED_SECRET\nREMOVED_SECRET,
    REMOVED_SECRET    # --- BM25 Retrieval ---(Routes the tokenized query to the appropiate BM25 engine)\nREMOVED_SECRET,
    REMOVED_SECRET    if lang == 'es':\nREMOVED_SECRET,
    REMOVED_SECRET        bm25_scores = bm25_es.get_scores(tokens)\nREMOVED_SECRET,
    REMOVED_SECRET    else:\nREMOVED_SECRET,
    REMOVED_SECRET        bm25_scores = bm25_en.get_scores(tokens) #returns a list of scores, one for each document in the dataset\nREMOVED_SECRET,
    REMOVED_SECRET\nREMOVED_SECRET,
    REMOVED_SECRET    bm25_ranks = scores_to_ranking(bm25_scores)  #Converts the float BM25 scores to rankings for Reciprocal rank fusion(rrf)\nREMOVED_SECRET,
    REMOVED_SECRET\nREMOVED_SECRET,
    REMOVED_SECRET    # --- Semantic Retrieval (Pinecone) ---\nREMOVED_SECRET,
    REMOVED_SECRET    query_vec = model.encode(query).tolist() #generate the query's embedding and convert it a list\nREMOVED_SECRET,
    REMOVED_SECRET    pinecone_results = index.query(vector=query_vec, top_k=top_k, include_metadata=False) #Submits the query vector to Pinecone to retrieve top-k similar vectors, based on cosine similarity\nREMOVED_SECRET,
    REMOVED_SECRET\nREMOVED_SECRET,
    REMOVED_SECRET    pinecone_ids = [int(match['id'].split('-')[1]) for match in pinecone_results['matches']] #extracts og row index from pinecone's ID\nREMOVED_SECRET,
    REMOVED_SECRET    pinecone_scores = [match['score'] for match in pinecone_results['matches']] #Obtain cosine similarity scores from pinecone\nREMOVED_SECRET,
    REMOVED_SECRET    semantic_ranks = scores_to_ranking(pinecone_scores) #Converting pinecone scores to ranks (lower rank = better match)\nREMOVED_SECRET,
    REMOVED_SECRET\nREMOVED_SECRET,
    REMOVED_SECRET    # --- Combine using RRF ---\nREMOVED_SECRET,
    REMOVED_SECRET    combined_scores = {} #placeholder to store RRF combined scores for each shortlisted document\nREMOVED_SECRET,
    REMOVED_SECRET    for idx in pinecone_ids:\nREMOVED_SECRET,
    REMOVED_SECRET        #For each doc idx returned by pinecone\nREMOVED_SECRET,
    REMOVED_SECRET        # Retrieve the BM25 rank and semantic rank, and using rrf function defined on prev cell to combine them into one score\nREMOVED_SECRET,
    REMOVED_SECRET        rrf_score = rrf(\nREMOVED_SECRET,
    REMOVED_SECRET            keyword_rank=bm25_ranks[idx],\nREMOVED_SECRET,
    REMOVED_SECRET            semantic_rank=semantic_ranks[pinecone_ids.index(idx)]\nREMOVED_SECRET,
    REMOVED_SECRET        )\nREMOVED_SECRET,
    REMOVED_SECRET        combined_scores[idx] = rrf_score\nREMOVED_SECRET,
    REMOVED_SECRET\nREMOVED_SECRET,
    REMOVED_SECRET    # Sort by RRF score\nREMOVED_SECRET,
    REMOVED_SECRET    ranked = sorted(combined_scores.items(), key=lambda x: x[1], reverse=True)  #Sorting the docs by their RRF score, with the highest first.\nREMOVED_SECRET,
    REMOVED_SECRET\nREMOVED_SECRET,
    REMOVED_SECRET    return ranked[:top_k]  # list of (doc_id, final_score)\nREMOVED_SECRET
   ]
  },
  {
   REMOVED_SECRETcell_typeREMOVED_SECRET: REMOVED_SECRETcodeREMOVED_SECRET,
   REMOVED_SECRETexecution_countREMOVED_SECRET: null,
   REMOVED_SECRETmetadataREMOVED_SECRET: {},
   REMOVED_SECREToutputsREMOVED_SECRET: [],
   REMOVED_SECRETsourceREMOVED_SECRET: [
    REMOVED_SECRET#Testing phase\nREMOVED_SECRET,
    REMOVED_SECRET\nREMOVED_SECRET,
    REMOVED_SECRETresults = hybrid_search_rrf(\REMOVED_SECRETchaqueta de mujer\REMOVED_SECRET)\nREMOVED_SECRET,
    REMOVED_SECRET\nREMOVED_SECRET,
    REMOVED_SECRETfor idx, score in results:\nREMOVED_SECRET,
    REMOVED_SECRET    print(f\REMOVED_SECRET{score:.4f} | {spanish_embeddings['title'][idx]}\REMOVED_SECRET)REMOVED_SECRET
   ]
  },
  {
   REMOVED_SECRETcell_typeREMOVED_SECRET: REMOVED_SECRETcodeREMOVED_SECRET,
   REMOVED_SECRETexecution_countREMOVED_SECRET: null,
   REMOVED_SECRETmetadataREMOVED_SECRET: {},
   REMOVED_SECREToutputsREMOVED_SECRET: [],
   REMOVED_SECRETsourceREMOVED_SECRET: [
    REMOVED_SECRETdef BM25(query, top_k=5):\nREMOVED_SECRET,
    REMOVED_SECRET\nREMOVED_SECRET,
    REMOVED_SECRET    #To detect the language from the query\nREMOVED_SECRET,
    REMOVED_SECRET    from langdetect import detect\nREMOVED_SECRET,
    REMOVED_SECRET\nREMOVED_SECRET,
    REMOVED_SECRET    lang = detect(query)\nREMOVED_SECRET,
    REMOVED_SECRET    #tokenising the query to be suitable for BM25\nREMOVED_SECRET,
    REMOVED_SECRET    tokens = query.lower().split()\nREMOVED_SECRET,
    REMOVED_SECRET\nREMOVED_SECRET,
    REMOVED_SECRET    # --- BM25 Retrieval ---(Routes the tokenized query to the appropiate BM25 engine)\nREMOVED_SECRET,
    REMOVED_SECRET    if lang == 'es':\nREMOVED_SECRET,
    REMOVED_SECRET        bm25_scores = bm25_es.get_scores(tokens)\nREMOVED_SECRET,
    REMOVED_SECRET    else:\nREMOVED_SECRET,
    REMOVED_SECRET        bm25_scores = bm25_en.get_scores(tokens) #returns a list of scores, one for each document in the dataset\nREMOVED_SECRET,
    REMOVED_SECRET\nREMOVED_SECRET,
    REMOVED_SECRET    bm25_ranks = scores_to_ranking(bm25_scores)  #Converts the float BM25 scores to rankings for Reciprocal rank fusion(rrf)\nREMOVED_SECRET,
    REMOVED_SECRET\nREMOVED_SECRET,
    REMOVED_SECRET    # Sort by RRF score\nREMOVED_SECRET,
    REMOVED_SECRET    ranked = sorted(bm25_ranks.items(), key=lambda x: x[1], reverse=True)  #Sorting the docs by their RRF score, with the highest first.\nREMOVED_SECRET,
    REMOVED_SECRET\nREMOVED_SECRET,
    REMOVED_SECRET    return ranked[:top_k]  # list of (doc_id, final_score)\nREMOVED_SECRET
   ]
  },
  {
   REMOVED_SECRETcell_typeREMOVED_SECRET: REMOVED_SECRETcodeREMOVED_SECRET,
   REMOVED_SECRETexecution_countREMOVED_SECRET: null,
   REMOVED_SECRETmetadataREMOVED_SECRET: {},
   REMOVED_SECREToutputsREMOVED_SECRET: [],
   REMOVED_SECRETsourceREMOVED_SECRET: [
    REMOVED_SECRET#Testing phase for BM25\nREMOVED_SECRET,
    REMOVED_SECRET\nREMOVED_SECRET,
    REMOVED_SECRETresults = BM25(\REMOVED_SECRETchaqueta de mujer\REMOVED_SECRET)\nREMOVED_SECRET,
    REMOVED_SECRET\nREMOVED_SECRET,
    REMOVED_SECRETfor idx, score in results:\nREMOVED_SECRET,
    REMOVED_SECRET    print(f\REMOVED_SECRET{score:.4f} | {spanish_embeddings['title'][idx]}\REMOVED_SECRET)REMOVED_SECRET
   ]
  },
  {
   REMOVED_SECRETcell_typeREMOVED_SECRET: REMOVED_SECRETmarkdownREMOVED_SECRET,
   REMOVED_SECRETmetadataREMOVED_SECRET: {},
   REMOVED_SECRETsourceREMOVED_SECRET: [
    REMOVED_SECRETHybrid Retrieval Phase for CNREMOVED_SECRET
   ]
  },
  {
   REMOVED_SECRETcell_typeREMOVED_SECRET: REMOVED_SECRETcodeREMOVED_SECRET,
   REMOVED_SECRETexecution_countREMOVED_SECRET: null,
   REMOVED_SECRETmetadataREMOVED_SECRET: {},
   REMOVED_SECREToutputsREMOVED_SECRET: [
    {
     REMOVED_SECRETdataREMOVED_SECRET: {
      REMOVED_SECRETtext/htmlREMOVED_SECRET: [
       REMOVED_SECRET<div>\nREMOVED_SECRET,
       REMOVED_SECRET<style scoped>\nREMOVED_SECRET,
       REMOVED_SECRET    .dataframe tbody tr th:only-of-type {\nREMOVED_SECRET,
       REMOVED_SECRET        vertical-align: middle;\nREMOVED_SECRET,
       REMOVED_SECRET    }\nREMOVED_SECRET,
       REMOVED_SECRET\nREMOVED_SECRET,
       REMOVED_SECRET    .dataframe tbody tr th {\nREMOVED_SECRET,
       REMOVED_SECRET        vertical-align: top;\nREMOVED_SECRET,
       REMOVED_SECRET    }\nREMOVED_SECRET,
       REMOVED_SECRET\nREMOVED_SECRET,
       REMOVED_SECRET    .dataframe thead th {\nREMOVED_SECRET,
       REMOVED_SECRET        text-align: right;\nREMOVED_SECRET,
       REMOVED_SECRET    }\nREMOVED_SECRET,
       REMOVED_SECRET</style>\nREMOVED_SECRET,
       REMOVED_SECRET<table border=\REMOVED_SECRET1\REMOVED_SECRET class=\REMOVED_SECRETdataframe\REMOVED_SECRET>\nREMOVED_SECRET,
       REMOVED_SECRET  <thead>\nREMOVED_SECRET,
       REMOVED_SECRET    <tr style=\REMOVED_SECRETtext-align: right;\REMOVED_SECRET>\nREMOVED_SECRET,
       REMOVED_SECRET      <th></th>\nREMOVED_SECRET,
       REMOVED_SECRET      <th>title</th>\nREMOVED_SECRET,
       REMOVED_SECRET      <th>chinese translation</th>\nREMOVED_SECRET,
       REMOVED_SECRET      <th>english_embedding</th>\nREMOVED_SECRET,
       REMOVED_SECRET      <th>chinese_embedding</th>\nREMOVED_SECRET,
       REMOVED_SECRET    </tr>\nREMOVED_SECRET,
       REMOVED_SECRET  </thead>\nREMOVED_SECRET,
       REMOVED_SECRET  <tbody>\nREMOVED_SECRET,
       REMOVED_SECRET    <tr>\nREMOVED_SECRET,
       REMOVED_SECRET      <th>0</th>\nREMOVED_SECRET,
       REMOVED_SECRET      <td>Oppo A75 A75S A73 Phone Case Soft Rabbit Silic...</td>\nREMOVED_SECRET,
       REMOVED_SECRET      <td>OPPO A75 A75s A73 手机壳 软壳 挂绳壳 大眼兔硅胶壳</td>\nREMOVED_SECRET,
       REMOVED_SECRET      <td>[-0.030606616, 0.010501585, -0.04400219, -0.00...</td>\nREMOVED_SECRET,
       REMOVED_SECRET      <td>[-0.020788355, 0.032136466, -0.03952156, -0.04...</td>\nREMOVED_SECRET,
       REMOVED_SECRET    </tr>\nREMOVED_SECRET,
       REMOVED_SECRET    <tr>\nREMOVED_SECRET,
       REMOVED_SECRET      <th>1</th>\nREMOVED_SECRET,
       REMOVED_SECRET      <td>SOFT 99 Coating Car Wax Strong Water Watt</td>\nREMOVED_SECRET,
       REMOVED_SECRET      <td>SOFT 99 鍍膜車蠟(強力撥水型)</td>\nREMOVED_SECRET,
       REMOVED_SECRET      <td>[-0.02521394, -0.0062141055, -0.02523462, -0.0...</td>\nREMOVED_SECRET,
       REMOVED_SECRET      <td>[-0.013580757, -0.013445883, 0.013568486, -0.0...</td>\nREMOVED_SECRET,
       REMOVED_SECRET    </tr>\nREMOVED_SECRET,
       REMOVED_SECRET    <tr>\nREMOVED_SECRET,
       REMOVED_SECRET      <th>2</th>\nREMOVED_SECRET,
       REMOVED_SECRET      <td>Low Sugar Mango Dry 250g Be The Royal</td>\nREMOVED_SECRET,
       REMOVED_SECRET      <td>低糖芒果乾 250g 臻御行</td>\nREMOVED_SECRET,
       REMOVED_SECRET      <td>[-0.06998538, 0.025515176, -0.006934945, -0.02...</td>\nREMOVED_SECRET,
       REMOVED_SECRET      <td>[-0.056555215, 0.015317621, 0.0015813652, -0.0...</td>\nREMOVED_SECRET,
       REMOVED_SECRET    </tr>\nREMOVED_SECRET,
       REMOVED_SECRET    <tr>\nREMOVED_SECRET,
       REMOVED_SECRET      <th>3</th>\nREMOVED_SECRET,
       REMOVED_SECRET      <td>* the culture Japan Imported Round Top Space C...</td>\nREMOVED_SECRET,
       REMOVED_SECRET      <td>＊小徑文化＊日本進口ROUND TOP space craft - diamond (SC-...</td>\nREMOVED_SECRET,
       REMOVED_SECRET      <td>[-0.003708915, 0.024768945, -0.062792934, 0.02...</td>\nREMOVED_SECRET,
       REMOVED_SECRET      <td>[-0.018781146, 0.033165023, -0.05913993, 0.019...</td>\nREMOVED_SECRET,
       REMOVED_SECRET    </tr>\nREMOVED_SECRET,
       REMOVED_SECRET    <tr>\nREMOVED_SECRET,
       REMOVED_SECRET      <th>4</th>\nREMOVED_SECRET,
       REMOVED_SECRET      <td>Hello Kitty Sandals Shoes White/Red Children n...</td>\nREMOVED_SECRET,
       REMOVED_SECRET      <td>Hello Kitty 凱蒂貓 KITTY 涼鞋 童鞋 白/紅色 小童 no739</td>\nREMOVED_SECRET,
       REMOVED_SECRET      <td>[-0.019042147, 0.031313036, -0.06666778, 0.049...</td>\nREMOVED_SECRET,
       REMOVED_SECRET      <td>[-0.043943617, 0.021419879, -0.059569906, 0.03...</td>\nREMOVED_SECRET,
       REMOVED_SECRET    </tr>\nREMOVED_SECRET,
       REMOVED_SECRET    <tr>\nREMOVED_SECRET,
       REMOVED_SECRET      <th>...</th>\nREMOVED_SECRET,
       REMOVED_SECRET      <td>...</td>\nREMOVED_SECRET,
       REMOVED_SECRET      <td>...</td>\nREMOVED_SECRET,
       REMOVED_SECRET      <td>...</td>\nREMOVED_SECRET,
       REMOVED_SECRET      <td>...</td>\nREMOVED_SECRET,
       REMOVED_SECRET    </tr>\nREMOVED_SECRET,
       REMOVED_SECRET    <tr>\nREMOVED_SECRET,
       REMOVED_SECRET      <th>995</th>\nREMOVED_SECRET,
       REMOVED_SECRET      <td>Hippored Torn Fun Unique Style Straight Jeans ...</td>\nREMOVED_SECRET,
       REMOVED_SECRET      <td>【HippoRed】撕破乐趣★独特风格★中直筒牛仔裤 O591_445</td>\nREMOVED_SECRET,
       REMOVED_SECRET      <td>[-0.015312562, 0.002696402, -0.046150953, 0.00...</td>\nREMOVED_SECRET,
       REMOVED_SECRET      <td>[-0.04397009, -0.013235806, -0.034632586, 0.03...</td>\nREMOVED_SECRET,
       REMOVED_SECRET    </tr>\nREMOVED_SECRET,
       REMOVED_SECRET    <tr>\nREMOVED_SECRET,
       REMOVED_SECRET      <th>996</th>\nREMOVED_SECRET,
       REMOVED_SECRET      <td>Kids Set Table Bay - Thin Long Sleeve Home Sui...</td>\nREMOVED_SECRET,
       REMOVED_SECRET      <td>兒童套裝 台灣製薄長袖居家套裝 魔法Baby~k60092</td>\nREMOVED_SECRET,
       REMOVED_SECRET      <td>[-0.00460147, 0.029976973, -0.080628425, 0.003...</td>\nREMOVED_SECRET,
       REMOVED_SECRET      <td>[0.00086109334, 0.012746421, -0.04744607, 0.00...</td>\nREMOVED_SECRET,
       REMOVED_SECRET    </tr>\nREMOVED_SECRET,
       REMOVED_SECRET    <tr>\nREMOVED_SECRET,
       REMOVED_SECRET      <th>997</th>\nREMOVED_SECRET,
       REMOVED_SECRET      <td>LONGCHAMP Le Pliage Neo High Density Nylon Bac...</td>\nREMOVED_SECRET,
       REMOVED_SECRET      <td>LONGCHAMP Le Pliage Neo高密尼龍後背包(中型)</td>\nREMOVED_SECRET,
       REMOVED_SECRET      <td>[-0.025269749, -0.050276544, -0.059641942, -0....</td>\nREMOVED_SECRET,
       REMOVED_SECRET      <td>[-0.0399163, -0.031578567, -0.04178574, 0.0254...</td>\nREMOVED_SECRET,
       REMOVED_SECRET    </tr>\nREMOVED_SECRET,
       REMOVED_SECRET    <tr>\nREMOVED_SECRET,
       REMOVED_SECRET      <th>998</th>\nREMOVED_SECRET,
       REMOVED_SECRET      <td>IFairies Opening Adjustable Ring ifairies [564...</td>\nREMOVED_SECRET,
       REMOVED_SECRET      <td>iFairies 開口可調節戒指★ifairies【56472】【56472】</td>\nREMOVED_SECRET,
       REMOVED_SECRET      <td>[0.018464142, 0.016518341, -0.034174442, 0.007...</td>\nREMOVED_SECRET,
       REMOVED_SECRET      <td>[0.029656759, 0.03718795, -0.042785533, -0.027...</td>\nREMOVED_SECRET,
       REMOVED_SECRET    </tr>\nREMOVED_SECRET,
       REMOVED_SECRET    <tr>\nREMOVED_SECRET,
       REMOVED_SECRET      <th>999</th>\nREMOVED_SECRET,
       REMOVED_SECRET      <td>PolarStar Women Sweat Quick Dry T-shirt Black ...</td>\nREMOVED_SECRET,
       REMOVED_SECRET      <td>PolarStar 女 排汗快干T恤『黑』P18102</td>\nREMOVED_SECRET,
       REMOVED_SECRET      <td>[-0.015415181, 0.011347521, -0.09535644, -0.01...</td>\nREMOVED_SECRET,
       REMOVED_SECRET      <td>[0.029322254, -0.00047185787, -0.0952496, -0.0...</td>\nREMOVED_SECRET,
       REMOVED_SECRET    </tr>\nREMOVED_SECRET,
       REMOVED_SECRET  </tbody>\nREMOVED_SECRET,
       REMOVED_SECRET</table>\nREMOVED_SECRET,
       REMOVED_SECRET<p>1000 rows × 4 columns</p>\nREMOVED_SECRET,
       REMOVED_SECRET</div>REMOVED_SECRET
      ],
      REMOVED_SECRETtext/plainREMOVED_SECRET: [
       REMOVED_SECRET                                                 title  \\\nREMOVED_SECRET,
       REMOVED_SECRET0    Oppo A75 A75S A73 Phone Case Soft Rabbit Silic...   \nREMOVED_SECRET,
       REMOVED_SECRET1            SOFT 99 Coating Car Wax Strong Water Watt   \nREMOVED_SECRET,
       REMOVED_SECRET2                Low Sugar Mango Dry 250g Be The Royal   \nREMOVED_SECRET,
       REMOVED_SECRET3    * the culture Japan Imported Round Top Space C...   \nREMOVED_SECRET,
       REMOVED_SECRET4    Hello Kitty Sandals Shoes White/Red Children n...   \nREMOVED_SECRET,
       REMOVED_SECRET..                                                 ...   \nREMOVED_SECRET,
       REMOVED_SECRET995  Hippored Torn Fun Unique Style Straight Jeans ...   \nREMOVED_SECRET,
       REMOVED_SECRET996  Kids Set Table Bay - Thin Long Sleeve Home Sui...   \nREMOVED_SECRET,
       REMOVED_SECRET997  LONGCHAMP Le Pliage Neo High Density Nylon Bac...   \nREMOVED_SECRET,
       REMOVED_SECRET998  IFairies Opening Adjustable Ring ifairies [564...   \nREMOVED_SECRET,
       REMOVED_SECRET999  PolarStar Women Sweat Quick Dry T-shirt Black ...   \nREMOVED_SECRET,
       REMOVED_SECRET\nREMOVED_SECRET,
       REMOVED_SECRET                                   chinese translation  \\\nREMOVED_SECRET,
       REMOVED_SECRET0                  OPPO A75 A75s A73 手机壳 软壳 挂绳壳 大眼兔硅胶壳   \nREMOVED_SECRET,
       REMOVED_SECRET1                                  SOFT 99 鍍膜車蠟(強力撥水型)   \nREMOVED_SECRET,
       REMOVED_SECRET2                                       低糖芒果乾 250g 臻御行   \nREMOVED_SECRET,
       REMOVED_SECRET3    ＊小徑文化＊日本進口ROUND TOP space craft - diamond (SC-...   \nREMOVED_SECRET,
       REMOVED_SECRET4            Hello Kitty 凱蒂貓 KITTY 涼鞋 童鞋 白/紅色 小童 no739   \nREMOVED_SECRET,
       REMOVED_SECRET..                                                 ...   \nREMOVED_SECRET,
       REMOVED_SECRET995                【HippoRed】撕破乐趣★独特风格★中直筒牛仔裤 O591_445   \nREMOVED_SECRET,
       REMOVED_SECRET996                      兒童套裝 台灣製薄長袖居家套裝 魔法Baby~k60092   \nREMOVED_SECRET,
       REMOVED_SECRET997                 LONGCHAMP Le Pliage Neo高密尼龍後背包(中型)   \nREMOVED_SECRET,
       REMOVED_SECRET998            iFairies 開口可調節戒指★ifairies【56472】【56472】   \nREMOVED_SECRET,
       REMOVED_SECRET999                        PolarStar 女 排汗快干T恤『黑』P18102   \nREMOVED_SECRET,
       REMOVED_SECRET\nREMOVED_SECRET,
       REMOVED_SECRET                                     english_embedding  \\\nREMOVED_SECRET,
       REMOVED_SECRET0    [-0.030606616, 0.010501585, -0.04400219, -0.00...   \nREMOVED_SECRET,
       REMOVED_SECRET1    [-0.02521394, -0.0062141055, -0.02523462, -0.0...   \nREMOVED_SECRET,
       REMOVED_SECRET2    [-0.06998538, 0.025515176, -0.006934945, -0.02...   \nREMOVED_SECRET,
       REMOVED_SECRET3    [-0.003708915, 0.024768945, -0.062792934, 0.02...   \nREMOVED_SECRET,
       REMOVED_SECRET4    [-0.019042147, 0.031313036, -0.06666778, 0.049...   \nREMOVED_SECRET,
       REMOVED_SECRET..                                                 ...   \nREMOVED_SECRET,
       REMOVED_SECRET995  [-0.015312562, 0.002696402, -0.046150953, 0.00...   \nREMOVED_SECRET,
       REMOVED_SECRET996  [-0.00460147, 0.029976973, -0.080628425, 0.003...   \nREMOVED_SECRET,
       REMOVED_SECRET997  [-0.025269749, -0.050276544, -0.059641942, -0....   \nREMOVED_SECRET,
       REMOVED_SECRET998  [0.018464142, 0.016518341, -0.034174442, 0.007...   \nREMOVED_SECRET,
       REMOVED_SECRET999  [-0.015415181, 0.011347521, -0.09535644, -0.01...   \nREMOVED_SECRET,
       REMOVED_SECRET\nREMOVED_SECRET,
       REMOVED_SECRET                                     chinese_embedding  \nREMOVED_SECRET,
       REMOVED_SECRET0    [-0.020788355, 0.032136466, -0.03952156, -0.04...  \nREMOVED_SECRET,
       REMOVED_SECRET1    [-0.013580757, -0.013445883, 0.013568486, -0.0...  \nREMOVED_SECRET,
       REMOVED_SECRET2    [-0.056555215, 0.015317621, 0.0015813652, -0.0...  \nREMOVED_SECRET,
       REMOVED_SECRET3    [-0.018781146, 0.033165023, -0.05913993, 0.019...  \nREMOVED_SECRET,
       REMOVED_SECRET4    [-0.043943617, 0.021419879, -0.059569906, 0.03...  \nREMOVED_SECRET,
       REMOVED_SECRET..                                                 ...  \nREMOVED_SECRET,
       REMOVED_SECRET995  [-0.04397009, -0.013235806, -0.034632586, 0.03...  \nREMOVED_SECRET,
       REMOVED_SECRET996  [0.00086109334, 0.012746421, -0.04744607, 0.00...  \nREMOVED_SECRET,
       REMOVED_SECRET997  [-0.0399163, -0.031578567, -0.04178574, 0.0254...  \nREMOVED_SECRET,
       REMOVED_SECRET998  [0.029656759, 0.03718795, -0.042785533, -0.027...  \nREMOVED_SECRET,
       REMOVED_SECRET999  [0.029322254, -0.00047185787, -0.0952496, -0.0...  \nREMOVED_SECRET,
       REMOVED_SECRET\nREMOVED_SECRET,
       REMOVED_SECRET[1000 rows x 4 columns]REMOVED_SECRET
      ]
     },
     REMOVED_SECRETexecution_countREMOVED_SECRET: 46,
     REMOVED_SECRETmetadataREMOVED_SECRET: {},
     REMOVED_SECREToutput_typeREMOVED_SECRET: REMOVED_SECRETexecute_resultREMOVED_SECRET
    }
   ],
   REMOVED_SECRETsourceREMOVED_SECRET: [
    REMOVED_SECRET#Read the Chinese Embeddings\nREMOVED_SECRET,
    REMOVED_SECRETimport pandas as pd\nREMOVED_SECRET,
    REMOVED_SECRETchinese_embeddings = pd.read_pickle(\REMOVED_SECRETen_to_cn_embeddings.pkl\REMOVED_SECRET)\nREMOVED_SECRET,
    REMOVED_SECRETchinese_embeddingsREMOVED_SECRET
   ]
  },
  {
   REMOVED_SECRETcell_typeREMOVED_SECRET: REMOVED_SECRETcodeREMOVED_SECRET,
   REMOVED_SECRETexecution_countREMOVED_SECRET: 47,
   REMOVED_SECRETmetadataREMOVED_SECRET: {},
   REMOVED_SECREToutputsREMOVED_SECRET: [],
   REMOVED_SECRETsourceREMOVED_SECRET: [
    REMOVED_SECRET#Building BM25 for Chinese\nREMOVED_SECRET,
    REMOVED_SECRETentocn_english_titles = chinese_embeddings['title']\nREMOVED_SECRET,
    REMOVED_SECRETentocn_chinese_titles = chinese_embeddings['chinese translation']\nREMOVED_SECRET,
    REMOVED_SECRET\nREMOVED_SECRET,
    REMOVED_SECRETentocn_tokenized_en = [title.split() for title in entocn_english_titles]\nREMOVED_SECRET,
    REMOVED_SECRETentocn_tokenized_cn = [title.split() for title in entocn_chinese_titles]\nREMOVED_SECRET,
    REMOVED_SECRET\nREMOVED_SECRET,
    REMOVED_SECRETfrom rank_bm25 import BM25Okapi\nREMOVED_SECRET,
    REMOVED_SECRET\nREMOVED_SECRET,
    REMOVED_SECRETbm25_en = BM25Okapi(entocn_tokenized_en)\nREMOVED_SECRET,
    REMOVED_SECRETbm25_cn = BM25Okapi(entocn_tokenized_cn)REMOVED_SECRET
   ]
  },
  {
   REMOVED_SECRETcell_typeREMOVED_SECRET: REMOVED_SECRETcodeREMOVED_SECRET,
   REMOVED_SECRETexecution_countREMOVED_SECRET: null,
   REMOVED_SECRETmetadataREMOVED_SECRET: {},
   REMOVED_SECREToutputsREMOVED_SECRET: [],
   REMOVED_SECRETsourceREMOVED_SECRET: [
    REMOVED_SECRET#This function is especially made for en and it, need to be redeclared for en and cn\nREMOVED_SECRET,
    REMOVED_SECRETdef search(query, lang='en', top_k=5):\nREMOVED_SECRET,
    REMOVED_SECRET    tokens = query.lower().split()\nREMOVED_SECRET,
    REMOVED_SECRET    if lang == 'en':\nREMOVED_SECRET,
    REMOVED_SECRET        scores = bm25_en.get_scores(tokens)\nREMOVED_SECRET,
    REMOVED_SECRET    else:\nREMOVED_SECRET,
    REMOVED_SECRET        scores = bm25_cn.get_scores(tokens)\nREMOVED_SECRET,
    REMOVED_SECRET    \nREMOVED_SECRET,
    REMOVED_SECRET    top_k_ids = sorted(range(len(scores)), key=lambda i: scores[i], reverse=True)[:top_k]\nREMOVED_SECRET,
    REMOVED_SECRET    return top_k_ids, [scores[i] for i in top_k_ids]REMOVED_SECRET
   ]
  },
  {
   REMOVED_SECRETcell_typeREMOVED_SECRET: REMOVED_SECRETcodeREMOVED_SECRET,
   REMOVED_SECRETexecution_countREMOVED_SECRET: null,
   REMOVED_SECRETmetadataREMOVED_SECRET: {},
   REMOVED_SECREToutputsREMOVED_SECRET: [],
   REMOVED_SECRETsourceREMOVED_SECRET: [
    REMOVED_SECRETfrom langdetect import detect\nREMOVED_SECRET,
    REMOVED_SECRET#This function is made for en and cn\nREMOVED_SECRET,
    REMOVED_SECRETdef search_bm25(query, top_k=5):\nREMOVED_SECRET,
    REMOVED_SECRET    lang = detect(query)  # auto-detect 'en', 'es', etc.\nREMOVED_SECRET,
    REMOVED_SECRET    tokens = query.lower().split()  # simple tokenization\nREMOVED_SECRET,
    REMOVED_SECRET\nREMOVED_SECRET,
    REMOVED_SECRET    if lang == 'cn':\nREMOVED_SECRET,
    REMOVED_SECRET        scores = bm25_cn.get_scores(tokens)\nREMOVED_SECRET,
    REMOVED_SECRET    else:\nREMOVED_SECRET,
    REMOVED_SECRET        scores = bm25_en.get_scores(tokens)\nREMOVED_SECRET,
    REMOVED_SECRET\nREMOVED_SECRET,
    REMOVED_SECRET    # Get top-k ranked indices\nREMOVED_SECRET,
    REMOVED_SECRET    top_k_ids = sorted(range(len(scores)), key=lambda i: scores[i], reverse=True)[:top_k]\nREMOVED_SECRET,
    REMOVED_SECRET    return top_k_ids, [scores[i] for i in top_k_ids]REMOVED_SECRET
   ]
  },
  {
   REMOVED_SECRETcell_typeREMOVED_SECRET: REMOVED_SECRETcodeREMOVED_SECRET,
   REMOVED_SECRETexecution_countREMOVED_SECRET: 52,
   REMOVED_SECRETmetadataREMOVED_SECRET: {},
   REMOVED_SECREToutputsREMOVED_SECRET: [
    {
     REMOVED_SECRETnameREMOVED_SECRET: REMOVED_SECRETstdoutREMOVED_SECRET,
     REMOVED_SECREToutput_typeREMOVED_SECRET: REMOVED_SECRETstreamREMOVED_SECRET,
     REMOVED_SECRETtextREMOVED_SECRET: [
      REMOVED_SECRET0.0000 | brother genuine high yield toner cartridge tn450 replacement black toner page yield up to 2600 pages\nREMOVED_SECRET,
      REMOVED_SECRET0.0000 | fitbit inspire 3 health and fitness tracker with stress management workout intensity sleep tracking 247 heart rate and more midnight zenblack one size s and l bands included\nREMOVED_SECRET,
      REMOVED_SECRET0.0000 | mikes hot honey americas 1 brand of hot honey spicy honey all natural 100 pure honey infused with chili peppers glutenfree paleofriendly 24 oz chefs bottle 1 pack\nREMOVED_SECRET,
      REMOVED_SECRET0.0000 | krema kréma red fruits 100 recyclable 240g\nREMOVED_SECRET,
      REMOVED_SECRET0.0000 | drsalts calming therapy epsom salts  soothing epsom bath salts to relax body and mind with lavender chamomile and lemongrass essential oils 750 g\nREMOVED_SECRET
     ]
    }
   ],
   REMOVED_SECRETsourceREMOVED_SECRET: [
    REMOVED_SECRETresults, scores = search_bm25(\REMOVED_SECRET女 排汗\REMOVED_SECRET)\nREMOVED_SECRET,
    REMOVED_SECRET\nREMOVED_SECRET,
    REMOVED_SECRETfor i, score in zip(results, scores):\nREMOVED_SECRET,
    REMOVED_SECRET    print(f\REMOVED_SECRET{score:.4f} | {spanish_embeddings['title'][i]}\REMOVED_SECRET)REMOVED_SECRET
   ]
  },
  {
   REMOVED_SECRETcell_typeREMOVED_SECRET: REMOVED_SECRETcodeREMOVED_SECRET,
   REMOVED_SECRETexecution_countREMOVED_SECRET: 53,
   REMOVED_SECRETmetadataREMOVED_SECRET: {},
   REMOVED_SECREToutputsREMOVED_SECRET: [],
   REMOVED_SECRETsourceREMOVED_SECRET: [
    REMOVED_SECRETfrom pinecone import Pinecone, ServerlessSpec\nREMOVED_SECRET,
    REMOVED_SECRET\nREMOVED_SECRET,
    REMOVED_SECRET#This is Cheryl's API\nREMOVED_SECRET,
    ***REMOVED***REMOVED_SECRET
   ]
  },
  {
   REMOVED_SECRETcell_typeREMOVED_SECRET: REMOVED_SECRETcodeREMOVED_SECRET,
   REMOVED_SECRETexecution_countREMOVED_SECRET: 54,
   REMOVED_SECRETmetadataREMOVED_SECRET: {},
   REMOVED_SECREToutputsREMOVED_SECRET: [],
   REMOVED_SECRETsourceREMOVED_SECRET: [
    REMOVED_SECRET#Initialising Pinecone index\nREMOVED_SECRET,
    REMOVED_SECRET#This is the Index for the ENTOIT\nREMOVED_SECRET,
    REMOVED_SECRETindex = pc.Index('entocn')REMOVED_SECRET
   ]
  },
  {
   REMOVED_SECRETcell_typeREMOVED_SECRET: REMOVED_SECRETcodeREMOVED_SECRET,
   REMOVED_SECRETexecution_countREMOVED_SECRET: 55,
   REMOVED_SECRETmetadataREMOVED_SECRET: {},
   REMOVED_SECREToutputsREMOVED_SECRET: [],
   REMOVED_SECRETsourceREMOVED_SECRET: [
    REMOVED_SECRETen_ids = [f\REMOVED_SECRETen-{i}\REMOVED_SECRET for i in range(len(chinese_embeddings['english_embedding']))]\nREMOVED_SECRET,
    REMOVED_SECRETcn_ids = [f\REMOVED_SECRETcn-{i}\REMOVED_SECRET for i in range(len(chinese_embeddings['chinese_embedding']))]REMOVED_SECRET
   ]
  },
  {
   REMOVED_SECRETcell_typeREMOVED_SECRET: REMOVED_SECRETcodeREMOVED_SECRET,
   REMOVED_SECRETexecution_countREMOVED_SECRET: 56,
   REMOVED_SECRETmetadataREMOVED_SECRET: {},
   REMOVED_SECREToutputsREMOVED_SECRET: [],
   REMOVED_SECRETsourceREMOVED_SECRET: [
    REMOVED_SECRET# Combine English + Spanish as before\nREMOVED_SECRET,
    REMOVED_SECRETto_upsert = list(zip(en_ids, chinese_embeddings['english_embedding'])) + \\\nREMOVED_SECRET,
    REMOVED_SECRET            list(zip(cn_ids, chinese_embeddings['chinese_embedding']))\nREMOVED_SECRET,
    REMOVED_SECRET\nREMOVED_SECRET,
    REMOVED_SECRET# Run batch upload\nREMOVED_SECRET,
    REMOVED_SECRETbatch_upsert(index, to_upsert, batch_size=50)\nREMOVED_SECRET,
    REMOVED_SECRET\nREMOVED_SECRET,
    REMOVED_SECRET\nREMOVED_SECRET,
    REMOVED_SECRET#With this code, the vectorDB has been established for en to it.  REMOVED_SECRET
   ]
  },
  {
   REMOVED_SECRETcell_typeREMOVED_SECRET: REMOVED_SECRETcodeREMOVED_SECRET,
   REMOVED_SECRETexecution_countREMOVED_SECRET: 57,
   REMOVED_SECRETmetadataREMOVED_SECRET: {},
   REMOVED_SECREToutputsREMOVED_SECRET: [],
   REMOVED_SECRETsourceREMOVED_SECRET: [
    REMOVED_SECRETimport numpy as np\nREMOVED_SECRET,
    REMOVED_SECRET\nREMOVED_SECRET,
    REMOVED_SECRETdef scores_to_ranking(scores: list[float]) -> list[int]:\nREMOVED_SECRET,
    REMOVED_SECRET    \REMOVED_SECRET\REMOVED_SECRET\REMOVED_SECRETConvert float scores into int rankings (1 = best).\REMOVED_SECRET\REMOVED_SECRET\REMOVED_SECRET\nREMOVED_SECRET,
    REMOVED_SECRET    return np.argsort(scores)[::-1] + 1  # ranks start at 1\nREMOVED_SECRET,
    REMOVED_SECRET\nREMOVED_SECRET,
    REMOVED_SECRETdef rrf(keyword_rank: int, semantic_rank: int, k: int = 60) -> float:\nREMOVED_SECRET,
    REMOVED_SECRET    \REMOVED_SECRET\REMOVED_SECRET\REMOVED_SECRETCombine keyword rank and semantic rank into a hybrid score using RRF.\REMOVED_SECRET\REMOVED_SECRET\REMOVED_SECRET\nREMOVED_SECRET,
    REMOVED_SECRET    return 1 / (k + keyword_rank) + 1 / (k + semantic_rank)REMOVED_SECRET
   ]
  },
  {
   REMOVED_SECRETcell_typeREMOVED_SECRET: REMOVED_SECRETcodeREMOVED_SECRET,
   REMOVED_SECRETexecution_countREMOVED_SECRET: null,
   REMOVED_SECRETmetadataREMOVED_SECRET: {},
   REMOVED_SECREToutputsREMOVED_SECRET: [],
   REMOVED_SECRETsourceREMOVED_SECRET: [
    REMOVED_SECRETdef hybrid_search_rrf(query, top_k=5):\nREMOVED_SECRET,
    REMOVED_SECRET\nREMOVED_SECRET,
    REMOVED_SECRET    #To detect the language from the query\nREMOVED_SECRET,
    REMOVED_SECRET    from langdetect import detect\nREMOVED_SECRET,
    REMOVED_SECRET\nREMOVED_SECRET,
    REMOVED_SECRET    lang = detect(query)\nREMOVED_SECRET,
    REMOVED_SECRET    #tokenising the query to be suitable for BM25\nREMOVED_SECRET,
    REMOVED_SECRET    tokens = query.lower().split()\nREMOVED_SECRET,
    REMOVED_SECRET\nREMOVED_SECRET,
    REMOVED_SECRET    # --- BM25 Retrieval ---(Routes the tokenized query to the appropiate BM25 engine)\nREMOVED_SECRET,
    REMOVED_SECRET    if lang == 'cn':\nREMOVED_SECRET,
    REMOVED_SECRET        bm25_scores = bm25_cn.get_scores(tokens)\nREMOVED_SECRET,
    REMOVED_SECRET    else:\nREMOVED_SECRET,
    REMOVED_SECRET        bm25_scores = bm25_en.get_scores(tokens) #returns a list of scores, one for each document in the dataset\nREMOVED_SECRET,
    REMOVED_SECRET\nREMOVED_SECRET,
    REMOVED_SECRET    bm25_ranks = scores_to_ranking(bm25_scores)  #Converts the float BM25 scores to rankings for Reciprocal rank fusion(rrf)\nREMOVED_SECRET,
    REMOVED_SECRET\nREMOVED_SECRET,
    REMOVED_SECRET    # --- Semantic Retrieval (Pinecone) ---\nREMOVED_SECRET,
    REMOVED_SECRET    query_vec = model.encode(query).tolist() #generate the query's embedding and convert it a list\nREMOVED_SECRET,
    REMOVED_SECRET    pinecone_results = index.query(vector=query_vec, top_k=top_k, include_metadata=False) #Submits the query vector to Pinecone to retrieve top-k similar vectors, based on cosine similarity\nREMOVED_SECRET,
    REMOVED_SECRET\nREMOVED_SECRET,
    REMOVED_SECRET    pinecone_ids = [int(match['id'].split('-')[1]) for match in pinecone_results['matches']] #extracts og row index from pinecone's ID\nREMOVED_SECRET,
    REMOVED_SECRET    pinecone_scores = [match['score'] for match in pinecone_results['matches']] #Obtain cosine similarity scores from pinecone\nREMOVED_SECRET,
    REMOVED_SECRET    semantic_ranks = scores_to_ranking(pinecone_scores) #Converting pinecone scores to ranks (lower rank = better match)\nREMOVED_SECRET,
    REMOVED_SECRET\nREMOVED_SECRET,
    REMOVED_SECRET    # --- Combine using RRF ---\nREMOVED_SECRET,
    REMOVED_SECRET    combined_scores = {} #placeholder to store RRF combined scores for each shortlisted document\nREMOVED_SECRET,
    REMOVED_SECRET    for idx in pinecone_ids:\nREMOVED_SECRET,
    REMOVED_SECRET        #For each doc idx returned by pinecone\nREMOVED_SECRET,
    REMOVED_SECRET        # Retrieve the BM25 rank and semantic rank, and using rrf function defined on prev cell to combine them into one score\nREMOVED_SECRET,
    REMOVED_SECRET        rrf_score = rrf(\nREMOVED_SECRET,
    REMOVED_SECRET            keyword_rank=bm25_ranks[idx],\nREMOVED_SECRET,
    REMOVED_SECRET            semantic_rank=semantic_ranks[pinecone_ids.index(idx)]\nREMOVED_SECRET,
    REMOVED_SECRET        )\nREMOVED_SECRET,
    REMOVED_SECRET        combined_scores[idx] = rrf_score\nREMOVED_SECRET,
    REMOVED_SECRET\nREMOVED_SECRET,
    REMOVED_SECRET    # Sort by RRF score\nREMOVED_SECRET,
    REMOVED_SECRET    ranked = sorted(combined_scores.items(), key=lambda x: x[1], reverse=True)  #Sorting the docs by their RRF score, with the highest first.\nREMOVED_SECRET,
    REMOVED_SECRET\nREMOVED_SECRET,
    REMOVED_SECRET    return ranked[:top_k]  # list of (doc_id, final_score)\nREMOVED_SECRET
   ]
  },
  {
   REMOVED_SECRETcell_typeREMOVED_SECRET: REMOVED_SECRETcodeREMOVED_SECRET,
   REMOVED_SECRETexecution_countREMOVED_SECRET: null,
   REMOVED_SECRETmetadataREMOVED_SECRET: {},
   REMOVED_SECREToutputsREMOVED_SECRET: [],
   REMOVED_SECRETsourceREMOVED_SECRET: [
    REMOVED_SECRET#Testing phase\nREMOVED_SECRET,
    REMOVED_SECRET\nREMOVED_SECRET,
    REMOVED_SECRETresults = hybrid_search_rrf(\REMOVED_SECRET女式夹克\REMOVED_SECRET)\nREMOVED_SECRET,
    REMOVED_SECRET\nREMOVED_SECRET,
    REMOVED_SECRETfor idx, score in results:\nREMOVED_SECRET,
    REMOVED_SECRET    print(f\REMOVED_SECRET{score:.4f} | {chinese_embeddings['title'][idx]}\REMOVED_SECRET)REMOVED_SECRET
   ]
  },
  {
   REMOVED_SECRETcell_typeREMOVED_SECRET: REMOVED_SECRETcodeREMOVED_SECRET,
   REMOVED_SECRETexecution_countREMOVED_SECRET: null,
   REMOVED_SECRETmetadataREMOVED_SECRET: {},
   REMOVED_SECREToutputsREMOVED_SECRET: [],
   REMOVED_SECRETsourceREMOVED_SECRET: [
    REMOVED_SECRETdef BM25(query, top_k=5):\nREMOVED_SECRET,
    REMOVED_SECRET\nREMOVED_SECRET,
    REMOVED_SECRET    #To detect the language from the query\nREMOVED_SECRET,
    REMOVED_SECRET    from langdetect import detect\nREMOVED_SECRET,
    REMOVED_SECRET\nREMOVED_SECRET,
    REMOVED_SECRET    lang = detect(query)\nREMOVED_SECRET,
    REMOVED_SECRET    #tokenising the query to be suitable for BM25\nREMOVED_SECRET,
    REMOVED_SECRET    tokens = query.lower().split()\nREMOVED_SECRET,
    REMOVED_SECRET\nREMOVED_SECRET,
    REMOVED_SECRET    # --- BM25 Retrieval ---(Routes the tokenized query to the appropiate BM25 engine)\nREMOVED_SECRET,
    REMOVED_SECRET    if lang == 'cn':\nREMOVED_SECRET,
    REMOVED_SECRET        bm25_scores = bm25_cn.get_scores(tokens)\nREMOVED_SECRET,
    REMOVED_SECRET    else:\nREMOVED_SECRET,
    REMOVED_SECRET        bm25_scores = bm25_en.get_scores(tokens) #returns a list of scores, one for each document in the dataset\nREMOVED_SECRET,
    REMOVED_SECRET\nREMOVED_SECRET,
    REMOVED_SECRET    bm25_ranks = scores_to_ranking(bm25_scores)  #Converts the float BM25 scores to rankings for Reciprocal rank fusion(rrf)\nREMOVED_SECRET,
    REMOVED_SECRET\nREMOVED_SECRET,
    REMOVED_SECRET    # Sort by RRF score\nREMOVED_SECRET,
    REMOVED_SECRET    ranked = sorted(bm25_ranks.items(), key=lambda x: x[1], reverse=True)  #Sorting the docs by their RRF score, with the highest first.\nREMOVED_SECRET,
    REMOVED_SECRET\nREMOVED_SECRET,
    REMOVED_SECRET    return ranked[:top_k]  # list of (doc_id, final_score)\nREMOVED_SECRET
   ]
  },
  {
   REMOVED_SECRETcell_typeREMOVED_SECRET: REMOVED_SECRETcodeREMOVED_SECRET,
   REMOVED_SECRETexecution_countREMOVED_SECRET: null,
   REMOVED_SECRETmetadataREMOVED_SECRET: {},
   REMOVED_SECREToutputsREMOVED_SECRET: [],
   REMOVED_SECRETsourceREMOVED_SECRET: [
    REMOVED_SECRET#Testing phase for BM 25\nREMOVED_SECRET,
    REMOVED_SECRET\nREMOVED_SECRET,
    REMOVED_SECRETresults = BM25(\REMOVED_SECRET女式夹克\REMOVED_SECRET)\nREMOVED_SECRET,
    REMOVED_SECRET\nREMOVED_SECRET,
    REMOVED_SECRETfor idx, score in results:\nREMOVED_SECRET,
    REMOVED_SECRET    print(f\REMOVED_SECRET{score:.4f} | {chinese_embeddings['title'][idx]}\REMOVED_SECRET)REMOVED_SECRET
   ]
  }
 ],
 REMOVED_SECRETmetadataREMOVED_SECRET: {
  REMOVED_SECRETkernelspecREMOVED_SECRET: {
   REMOVED_SECRETdisplay_nameREMOVED_SECRET: REMOVED_SECRETtensorflow_baseREMOVED_SECRET,
   REMOVED_SECRETlanguageREMOVED_SECRET: REMOVED_SECRETpythonREMOVED_SECRET,
   REMOVED_SECRETnameREMOVED_SECRET: REMOVED_SECRETpython3REMOVED_SECRET
  },
  REMOVED_SECRETlanguage_infoREMOVED_SECRET: {
   REMOVED_SECRETcodemirror_modeREMOVED_SECRET: {
    REMOVED_SECRETnameREMOVED_SECRET: REMOVED_SECRETipythonREMOVED_SECRET,
    REMOVED_SECRETversionREMOVED_SECRET: 3
   },
   REMOVED_SECRETfile_extensionREMOVED_SECRET: REMOVED_SECRET.pyREMOVED_SECRET,
   REMOVED_SECRETmimetypeREMOVED_SECRET: REMOVED_SECRETtext/x-pythonREMOVED_SECRET,
   REMOVED_SECRETnameREMOVED_SECRET: REMOVED_SECRETpythonREMOVED_SECRET,
   REMOVED_SECRETnbconvert_exporterREMOVED_SECRET: REMOVED_SECRETpythonREMOVED_SECRET,
   REMOVED_SECRETpygments_lexerREMOVED_SECRET: REMOVED_SECRETipython3REMOVED_SECRET,
   REMOVED_SECRETversionREMOVED_SECRET: REMOVED_SECRET3.10.11REMOVED_SECRET
  }
 },
 REMOVED_SECRETnbformatREMOVED_SECRET: 4,
 REMOVED_SECRETnbformat_minorREMOVED_SECRET: 2
}
