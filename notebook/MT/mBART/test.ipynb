{
 REMOVED_SECRETcellsREMOVED_SECRET: [
  {
   REMOVED_SECRETcell_typeREMOVED_SECRET: REMOVED_SECRETcodeREMOVED_SECRET,
   REMOVED_SECRETexecution_countREMOVED_SECRET: 2,
   REMOVED_SECRETidREMOVED_SECRET: REMOVED_SECRET711c127fREMOVED_SECRET,
   REMOVED_SECRETmetadataREMOVED_SECRET: {},
   REMOVED_SECREToutputsREMOVED_SECRET: [],
   REMOVED_SECRETsourceREMOVED_SECRET: [
    REMOVED_SECRETfrom mtpipeline import init_mt_environment, mt_pipeline_searchREMOVED_SECRET
   ]
  },
  {
   REMOVED_SECRETcell_typeREMOVED_SECRET: REMOVED_SECRETcodeREMOVED_SECRET,
   REMOVED_SECRETexecution_countREMOVED_SECRET: 3,
   REMOVED_SECRETidREMOVED_SECRET: REMOVED_SECRETf9b1b660REMOVED_SECRET,
   REMOVED_SECRETmetadataREMOVED_SECRET: {},
   REMOVED_SECREToutputsREMOVED_SECRET: [],
   REMOVED_SECRETsourceREMOVED_SECRET: [
    REMOVED_SECRETmBART_model_path=\REMOVED_SECRET./final\REMOVED_SECRET\nREMOVED_SECRET,
    REMOVED_SECRETdata_paths={'cn':'en_to_cn_embeddings.pkl', 'es':'en_to_sp_embeddings.pkl', 'it':'en_to_it_embeddings.pkl'}\nREMOVED_SECRET,
    REMOVED_SECRETembed_model = \REMOVED_SECRETBAAI/bge-m3\REMOVED_SECRET\nREMOVED_SECRET,
    REMOVED_SECRETenv_path = \REMOVED_SECRET../.env\REMOVED_SECRETREMOVED_SECRET
   ]
  },
  {
   REMOVED_SECRETcell_typeREMOVED_SECRET: REMOVED_SECRETcodeREMOVED_SECRET,
   REMOVED_SECRETexecution_countREMOVED_SECRET: 4,
   REMOVED_SECRETidREMOVED_SECRET: REMOVED_SECRETba6daee3REMOVED_SECRET,
   REMOVED_SECRETmetadataREMOVED_SECRET: {},
   REMOVED_SECREToutputsREMOVED_SECRET: [
    {
     REMOVED_SECRETnameREMOVED_SECRET: REMOVED_SECRETstderrREMOVED_SECRET,
     REMOVED_SECREToutput_typeREMOVED_SECRET: REMOVED_SECRETstreamREMOVED_SECRET,
     REMOVED_SECRETtextREMOVED_SECRET: [
      REMOVED_SECRETBuilding prefix dict from the default dictionary ...\nREMOVED_SECRET,
      REMOVED_SECRETLoading model from cache C:\\Users\\liuru\\AppData\\Local\\Temp\\jieba.cache\nREMOVED_SECRET,
      REMOVED_SECRETLoading model cost 0.550 seconds.\nREMOVED_SECRET,
      REMOVED_SECRETPrefix dict has been built successfully.\nREMOVED_SECRET
     ]
    }
   ],
   REMOVED_SECRETsourceREMOVED_SECRET: [
    REMOVED_SECRET#run once at start of front end\nREMOVED_SECRET,
    REMOVED_SECRETmBART_model, mBART_tokenizer, data, bm25_corpus, dense_embed_model, pinecone_indices = init_mt_environment(mBART_model_path, data_paths, embed_model, env_path)REMOVED_SECRET
   ]
  },
  {
   REMOVED_SECRETcell_typeREMOVED_SECRET: REMOVED_SECRETcodeREMOVED_SECRET,
   REMOVED_SECRETexecution_countREMOVED_SECRET: 9,
   REMOVED_SECRETidREMOVED_SECRET: REMOVED_SECRETe291a444REMOVED_SECRET,
   REMOVED_SECRETmetadataREMOVED_SECRET: {},
   REMOVED_SECREToutputsREMOVED_SECRET: [
    {
     REMOVED_SECRETdataREMOVED_SECRET: {
      REMOVED_SECRETtext/htmlREMOVED_SECRET: [
       REMOVED_SECRET<div>\nREMOVED_SECRET,
       REMOVED_SECRET<style scoped>\nREMOVED_SECRET,
       REMOVED_SECRET    .dataframe tbody tr th:only-of-type {\nREMOVED_SECRET,
       REMOVED_SECRET        vertical-align: middle;\nREMOVED_SECRET,
       REMOVED_SECRET    }\nREMOVED_SECRET,
       REMOVED_SECRET\nREMOVED_SECRET,
       REMOVED_SECRET    .dataframe tbody tr th {\nREMOVED_SECRET,
       REMOVED_SECRET        vertical-align: top;\nREMOVED_SECRET,
       REMOVED_SECRET    }\nREMOVED_SECRET,
       REMOVED_SECRET\nREMOVED_SECRET,
       REMOVED_SECRET    .dataframe thead th {\nREMOVED_SECRET,
       REMOVED_SECRET        text-align: right;\nREMOVED_SECRET,
       REMOVED_SECRET    }\nREMOVED_SECRET,
       REMOVED_SECRET</style>\nREMOVED_SECRET,
       REMOVED_SECRET<table border=\REMOVED_SECRET1\REMOVED_SECRET class=\REMOVED_SECRETdataframe\REMOVED_SECRET>\nREMOVED_SECRET,
       REMOVED_SECRET  <thead>\nREMOVED_SECRET,
       REMOVED_SECRET    <tr style=\REMOVED_SECRETtext-align: right;\REMOVED_SECRET>\nREMOVED_SECRET,
       REMOVED_SECRET      <th></th>\nREMOVED_SECRET,
       REMOVED_SECRET      <th>title</th>\nREMOVED_SECRET,
       REMOVED_SECRET      <th>chinese translation</th>\nREMOVED_SECRET,
       REMOVED_SECRET      <th>english_embedding</th>\nREMOVED_SECRET,
       REMOVED_SECRET      <th>chinese_embedding</th>\nREMOVED_SECRET,
       REMOVED_SECRET    </tr>\nREMOVED_SECRET,
       REMOVED_SECRET  </thead>\nREMOVED_SECRET,
       REMOVED_SECRET  <tbody>\nREMOVED_SECRET,
       REMOVED_SECRET    <tr>\nREMOVED_SECRET,
       REMOVED_SECRET      <th>0</th>\nREMOVED_SECRET,
       REMOVED_SECRET      <td>Oppo A75 A75S A73 Phone Case Soft Rabbit Silic...</td>\nREMOVED_SECRET,
       REMOVED_SECRET      <td>OPPO A75 A75s A73 手机壳 软壳 挂绳壳 大眼兔硅胶壳</td>\nREMOVED_SECRET,
       REMOVED_SECRET      <td>[-0.030606616, 0.010501585, -0.04400219, -0.00...</td>\nREMOVED_SECRET,
       REMOVED_SECRET      <td>[-0.020788355, 0.032136466, -0.03952156, -0.04...</td>\nREMOVED_SECRET,
       REMOVED_SECRET    </tr>\nREMOVED_SECRET,
       REMOVED_SECRET    <tr>\nREMOVED_SECRET,
       REMOVED_SECRET      <th>1</th>\nREMOVED_SECRET,
       REMOVED_SECRET      <td>SOFT 99 Coating Car Wax Strong Water Watt</td>\nREMOVED_SECRET,
       REMOVED_SECRET      <td>SOFT 99 鍍膜車蠟(強力撥水型)</td>\nREMOVED_SECRET,
       REMOVED_SECRET      <td>[-0.02521394, -0.0062141055, -0.02523462, -0.0...</td>\nREMOVED_SECRET,
       REMOVED_SECRET      <td>[-0.013580757, -0.013445883, 0.013568486, -0.0...</td>\nREMOVED_SECRET,
       REMOVED_SECRET    </tr>\nREMOVED_SECRET,
       REMOVED_SECRET    <tr>\nREMOVED_SECRET,
       REMOVED_SECRET      <th>2</th>\nREMOVED_SECRET,
       REMOVED_SECRET      <td>Low Sugar Mango Dry 250g Be The Royal</td>\nREMOVED_SECRET,
       REMOVED_SECRET      <td>低糖芒果乾 250g 臻御行</td>\nREMOVED_SECRET,
       REMOVED_SECRET      <td>[-0.06998538, 0.025515176, -0.006934945, -0.02...</td>\nREMOVED_SECRET,
       REMOVED_SECRET      <td>[-0.056555215, 0.015317621, 0.0015813652, -0.0...</td>\nREMOVED_SECRET,
       REMOVED_SECRET    </tr>\nREMOVED_SECRET,
       REMOVED_SECRET    <tr>\nREMOVED_SECRET,
       REMOVED_SECRET      <th>3</th>\nREMOVED_SECRET,
       REMOVED_SECRET      <td>* the culture Japan Imported Round Top Space C...</td>\nREMOVED_SECRET,
       REMOVED_SECRET      <td>＊小徑文化＊日本進口ROUND TOP space craft - diamond (SC-...</td>\nREMOVED_SECRET,
       REMOVED_SECRET      <td>[-0.003708915, 0.024768945, -0.062792934, 0.02...</td>\nREMOVED_SECRET,
       REMOVED_SECRET      <td>[-0.018781146, 0.033165023, -0.05913993, 0.019...</td>\nREMOVED_SECRET,
       REMOVED_SECRET    </tr>\nREMOVED_SECRET,
       REMOVED_SECRET    <tr>\nREMOVED_SECRET,
       REMOVED_SECRET      <th>4</th>\nREMOVED_SECRET,
       REMOVED_SECRET      <td>Hello Kitty Sandals Shoes White/Red Children n...</td>\nREMOVED_SECRET,
       REMOVED_SECRET      <td>Hello Kitty 凱蒂貓 KITTY 涼鞋 童鞋 白/紅色 小童 no739</td>\nREMOVED_SECRET,
       REMOVED_SECRET      <td>[-0.019042147, 0.031313036, -0.06666778, 0.049...</td>\nREMOVED_SECRET,
       REMOVED_SECRET      <td>[-0.043943617, 0.021419879, -0.059569906, 0.03...</td>\nREMOVED_SECRET,
       REMOVED_SECRET    </tr>\nREMOVED_SECRET,
       REMOVED_SECRET    <tr>\nREMOVED_SECRET,
       REMOVED_SECRET      <th>...</th>\nREMOVED_SECRET,
       REMOVED_SECRET      <td>...</td>\nREMOVED_SECRET,
       REMOVED_SECRET      <td>...</td>\nREMOVED_SECRET,
       REMOVED_SECRET      <td>...</td>\nREMOVED_SECRET,
       REMOVED_SECRET      <td>...</td>\nREMOVED_SECRET,
       REMOVED_SECRET    </tr>\nREMOVED_SECRET,
       REMOVED_SECRET    <tr>\nREMOVED_SECRET,
       REMOVED_SECRET      <th>995</th>\nREMOVED_SECRET,
       REMOVED_SECRET      <td>Hippored Torn Fun Unique Style Straight Jeans ...</td>\nREMOVED_SECRET,
       REMOVED_SECRET      <td>【HippoRed】撕破乐趣★独特风格★中直筒牛仔裤 O591_445</td>\nREMOVED_SECRET,
       REMOVED_SECRET      <td>[-0.015312562, 0.002696402, -0.046150953, 0.00...</td>\nREMOVED_SECRET,
       REMOVED_SECRET      <td>[-0.04397009, -0.013235806, -0.034632586, 0.03...</td>\nREMOVED_SECRET,
       REMOVED_SECRET    </tr>\nREMOVED_SECRET,
       REMOVED_SECRET    <tr>\nREMOVED_SECRET,
       REMOVED_SECRET      <th>996</th>\nREMOVED_SECRET,
       REMOVED_SECRET      <td>Kids Set Table Bay - Thin Long Sleeve Home Sui...</td>\nREMOVED_SECRET,
       REMOVED_SECRET      <td>兒童套裝 台灣製薄長袖居家套裝 魔法Baby~k60092</td>\nREMOVED_SECRET,
       REMOVED_SECRET      <td>[-0.00460147, 0.029976973, -0.080628425, 0.003...</td>\nREMOVED_SECRET,
       REMOVED_SECRET      <td>[0.00086109334, 0.012746421, -0.04744607, 0.00...</td>\nREMOVED_SECRET,
       REMOVED_SECRET    </tr>\nREMOVED_SECRET,
       REMOVED_SECRET    <tr>\nREMOVED_SECRET,
       REMOVED_SECRET      <th>997</th>\nREMOVED_SECRET,
       REMOVED_SECRET      <td>LONGCHAMP Le Pliage Neo High Density Nylon Bac...</td>\nREMOVED_SECRET,
       REMOVED_SECRET      <td>LONGCHAMP Le Pliage Neo高密尼龍後背包(中型)</td>\nREMOVED_SECRET,
       REMOVED_SECRET      <td>[-0.025269749, -0.050276544, -0.059641942, -0....</td>\nREMOVED_SECRET,
       REMOVED_SECRET      <td>[-0.0399163, -0.031578567, -0.04178574, 0.0254...</td>\nREMOVED_SECRET,
       REMOVED_SECRET    </tr>\nREMOVED_SECRET,
       REMOVED_SECRET    <tr>\nREMOVED_SECRET,
       REMOVED_SECRET      <th>998</th>\nREMOVED_SECRET,
       REMOVED_SECRET      <td>IFairies Opening Adjustable Ring ifairies [564...</td>\nREMOVED_SECRET,
       REMOVED_SECRET      <td>iFairies 開口可調節戒指★ifairies【56472】【56472】</td>\nREMOVED_SECRET,
       REMOVED_SECRET      <td>[0.018464142, 0.016518341, -0.034174442, 0.007...</td>\nREMOVED_SECRET,
       REMOVED_SECRET      <td>[0.029656759, 0.03718795, -0.042785533, -0.027...</td>\nREMOVED_SECRET,
       REMOVED_SECRET    </tr>\nREMOVED_SECRET,
       REMOVED_SECRET    <tr>\nREMOVED_SECRET,
       REMOVED_SECRET      <th>999</th>\nREMOVED_SECRET,
       REMOVED_SECRET      <td>PolarStar Women Sweat Quick Dry T-shirt Black ...</td>\nREMOVED_SECRET,
       REMOVED_SECRET      <td>PolarStar 女 排汗快干T恤『黑』P18102</td>\nREMOVED_SECRET,
       REMOVED_SECRET      <td>[-0.015415181, 0.011347521, -0.09535644, -0.01...</td>\nREMOVED_SECRET,
       REMOVED_SECRET      <td>[0.029322254, -0.00047185787, -0.0952496, -0.0...</td>\nREMOVED_SECRET,
       REMOVED_SECRET    </tr>\nREMOVED_SECRET,
       REMOVED_SECRET  </tbody>\nREMOVED_SECRET,
       REMOVED_SECRET</table>\nREMOVED_SECRET,
       REMOVED_SECRET<p>1000 rows × 4 columns</p>\nREMOVED_SECRET,
       REMOVED_SECRET</div>REMOVED_SECRET
      ],
      REMOVED_SECRETtext/plainREMOVED_SECRET: [
       REMOVED_SECRET                                                 title  \\\nREMOVED_SECRET,
       REMOVED_SECRET0    Oppo A75 A75S A73 Phone Case Soft Rabbit Silic...   \nREMOVED_SECRET,
       REMOVED_SECRET1            SOFT 99 Coating Car Wax Strong Water Watt   \nREMOVED_SECRET,
       REMOVED_SECRET2                Low Sugar Mango Dry 250g Be The Royal   \nREMOVED_SECRET,
       REMOVED_SECRET3    * the culture Japan Imported Round Top Space C...   \nREMOVED_SECRET,
       REMOVED_SECRET4    Hello Kitty Sandals Shoes White/Red Children n...   \nREMOVED_SECRET,
       REMOVED_SECRET..                                                 ...   \nREMOVED_SECRET,
       REMOVED_SECRET995  Hippored Torn Fun Unique Style Straight Jeans ...   \nREMOVED_SECRET,
       REMOVED_SECRET996  Kids Set Table Bay - Thin Long Sleeve Home Sui...   \nREMOVED_SECRET,
       REMOVED_SECRET997  LONGCHAMP Le Pliage Neo High Density Nylon Bac...   \nREMOVED_SECRET,
       REMOVED_SECRET998  IFairies Opening Adjustable Ring ifairies [564...   \nREMOVED_SECRET,
       REMOVED_SECRET999  PolarStar Women Sweat Quick Dry T-shirt Black ...   \nREMOVED_SECRET,
       REMOVED_SECRET\nREMOVED_SECRET,
       REMOVED_SECRET                                   chinese translation  \\\nREMOVED_SECRET,
       REMOVED_SECRET0                  OPPO A75 A75s A73 手机壳 软壳 挂绳壳 大眼兔硅胶壳   \nREMOVED_SECRET,
       REMOVED_SECRET1                                  SOFT 99 鍍膜車蠟(強力撥水型)   \nREMOVED_SECRET,
       REMOVED_SECRET2                                       低糖芒果乾 250g 臻御行   \nREMOVED_SECRET,
       REMOVED_SECRET3    ＊小徑文化＊日本進口ROUND TOP space craft - diamond (SC-...   \nREMOVED_SECRET,
       REMOVED_SECRET4            Hello Kitty 凱蒂貓 KITTY 涼鞋 童鞋 白/紅色 小童 no739   \nREMOVED_SECRET,
       REMOVED_SECRET..                                                 ...   \nREMOVED_SECRET,
       REMOVED_SECRET995                【HippoRed】撕破乐趣★独特风格★中直筒牛仔裤 O591_445   \nREMOVED_SECRET,
       REMOVED_SECRET996                      兒童套裝 台灣製薄長袖居家套裝 魔法Baby~k60092   \nREMOVED_SECRET,
       REMOVED_SECRET997                 LONGCHAMP Le Pliage Neo高密尼龍後背包(中型)   \nREMOVED_SECRET,
       REMOVED_SECRET998            iFairies 開口可調節戒指★ifairies【56472】【56472】   \nREMOVED_SECRET,
       REMOVED_SECRET999                        PolarStar 女 排汗快干T恤『黑』P18102   \nREMOVED_SECRET,
       REMOVED_SECRET\nREMOVED_SECRET,
       REMOVED_SECRET                                     english_embedding  \\\nREMOVED_SECRET,
       REMOVED_SECRET0    [-0.030606616, 0.010501585, -0.04400219, -0.00...   \nREMOVED_SECRET,
       REMOVED_SECRET1    [-0.02521394, -0.0062141055, -0.02523462, -0.0...   \nREMOVED_SECRET,
       REMOVED_SECRET2    [-0.06998538, 0.025515176, -0.006934945, -0.02...   \nREMOVED_SECRET,
       REMOVED_SECRET3    [-0.003708915, 0.024768945, -0.062792934, 0.02...   \nREMOVED_SECRET,
       REMOVED_SECRET4    [-0.019042147, 0.031313036, -0.06666778, 0.049...   \nREMOVED_SECRET,
       REMOVED_SECRET..                                                 ...   \nREMOVED_SECRET,
       REMOVED_SECRET995  [-0.015312562, 0.002696402, -0.046150953, 0.00...   \nREMOVED_SECRET,
       REMOVED_SECRET996  [-0.00460147, 0.029976973, -0.080628425, 0.003...   \nREMOVED_SECRET,
       REMOVED_SECRET997  [-0.025269749, -0.050276544, -0.059641942, -0....   \nREMOVED_SECRET,
       REMOVED_SECRET998  [0.018464142, 0.016518341, -0.034174442, 0.007...   \nREMOVED_SECRET,
       REMOVED_SECRET999  [-0.015415181, 0.011347521, -0.09535644, -0.01...   \nREMOVED_SECRET,
       REMOVED_SECRET\nREMOVED_SECRET,
       REMOVED_SECRET                                     chinese_embedding  \nREMOVED_SECRET,
       REMOVED_SECRET0    [-0.020788355, 0.032136466, -0.03952156, -0.04...  \nREMOVED_SECRET,
       REMOVED_SECRET1    [-0.013580757, -0.013445883, 0.013568486, -0.0...  \nREMOVED_SECRET,
       REMOVED_SECRET2    [-0.056555215, 0.015317621, 0.0015813652, -0.0...  \nREMOVED_SECRET,
       REMOVED_SECRET3    [-0.018781146, 0.033165023, -0.05913993, 0.019...  \nREMOVED_SECRET,
       REMOVED_SECRET4    [-0.043943617, 0.021419879, -0.059569906, 0.03...  \nREMOVED_SECRET,
       REMOVED_SECRET..                                                 ...  \nREMOVED_SECRET,
       REMOVED_SECRET995  [-0.04397009, -0.013235806, -0.034632586, 0.03...  \nREMOVED_SECRET,
       REMOVED_SECRET996  [0.00086109334, 0.012746421, -0.04744607, 0.00...  \nREMOVED_SECRET,
       REMOVED_SECRET997  [-0.0399163, -0.031578567, -0.04178574, 0.0254...  \nREMOVED_SECRET,
       REMOVED_SECRET998  [0.029656759, 0.03718795, -0.042785533, -0.027...  \nREMOVED_SECRET,
       REMOVED_SECRET999  [0.029322254, -0.00047185787, -0.0952496, -0.0...  \nREMOVED_SECRET,
       REMOVED_SECRET\nREMOVED_SECRET,
       REMOVED_SECRET[1000 rows x 4 columns]REMOVED_SECRET
      ]
     },
     REMOVED_SECRETexecution_countREMOVED_SECRET: 9,
     REMOVED_SECRETmetadataREMOVED_SECRET: {},
     REMOVED_SECREToutput_typeREMOVED_SECRET: REMOVED_SECRETexecute_resultREMOVED_SECRET
    }
   ],
   REMOVED_SECRETsourceREMOVED_SECRET: [
    REMOVED_SECRETdata['cn']REMOVED_SECRET
   ]
  },
  {
   REMOVED_SECRETcell_typeREMOVED_SECRET: REMOVED_SECRETcodeREMOVED_SECRET,
   REMOVED_SECRETexecution_countREMOVED_SECRET: 8,
   REMOVED_SECRETidREMOVED_SECRET: REMOVED_SECRET47ef3c5aREMOVED_SECRET,
   REMOVED_SECRETmetadataREMOVED_SECRET: {},
   REMOVED_SECREToutputsREMOVED_SECRET: [
    {
     REMOVED_SECRETdataREMOVED_SECRET: {
      REMOVED_SECRETtext/plainREMOVED_SECRET: [
       REMOVED_SECRET'OPPO A75 A75s A73 手机壳 软壳 挂绳壳 大眼兔硅胶壳'REMOVED_SECRET
      ]
     },
     REMOVED_SECRETexecution_countREMOVED_SECRET: 8,
     REMOVED_SECRETmetadataREMOVED_SECRET: {},
     REMOVED_SECREToutput_typeREMOVED_SECRET: REMOVED_SECRETexecute_resultREMOVED_SECRET
    }
   ],
   REMOVED_SECRETsourceREMOVED_SECRET: [
    REMOVED_SECRETdata['cn']['chinese translation'][0]REMOVED_SECRET
   ]
  },
  {
   REMOVED_SECRETcell_typeREMOVED_SECRET: REMOVED_SECRETcodeREMOVED_SECRET,
   REMOVED_SECRETexecution_countREMOVED_SECRET: null,
   REMOVED_SECRETidREMOVED_SECRET: REMOVED_SECRET9d9e0cc6REMOVED_SECRET,
   REMOVED_SECRETmetadataREMOVED_SECRET: {},
   REMOVED_SECREToutputsREMOVED_SECRET: [],
   REMOVED_SECRETsourceREMOVED_SECRET: [
    REMOVED_SECRETquery=\REMOVED_SECRETshorh sleeved t-shirt\REMOVED_SECRET\nREMOVED_SECRET,
    REMOVED_SECRETtgt_lang = \REMOVED_SECRETcn\REMOVED_SECRET #should be 'es' for spanish, 'cn' for chinese and 'it' italy\nREMOVED_SECRET,
    REMOVED_SECRETtop_k=5REMOVED_SECRET
   ]
  },
  {
   REMOVED_SECRETcell_typeREMOVED_SECRET: REMOVED_SECRETcodeREMOVED_SECRET,
   REMOVED_SECRETexecution_countREMOVED_SECRET: null,
   REMOVED_SECRETidREMOVED_SECRET: REMOVED_SECRET6c521135REMOVED_SECRET,
   REMOVED_SECRETmetadataREMOVED_SECRET: {},
   REMOVED_SECREToutputsREMOVED_SECRET: [
    {
     REMOVED_SECRETnameREMOVED_SECRET: REMOVED_SECRETstdoutREMOVED_SECRET,
     REMOVED_SECREToutput_typeREMOVED_SECRET: REMOVED_SECRETstreamREMOVED_SECRET,
     REMOVED_SECRETtextREMOVED_SECRET: [
      REMOVED_SECRETExpanding queries...\nREMOVED_SECRET,
      REMOVED_SECRETQueries Expanded\nREMOVED_SECRET,
      REMOVED_SECRETTranslating Queries...\nREMOVED_SECRET,
      REMOVED_SECRETSearching...\nREMOVED_SECRET,
      REMOVED_SECRETProcessing Output...\nREMOVED_SECRET
     ]
    },
    {
     REMOVED_SECRETnameREMOVED_SECRET: REMOVED_SECRETstderrREMOVED_SECRET,
     REMOVED_SECREToutput_typeREMOVED_SECRET: REMOVED_SECRETstreamREMOVED_SECRET,
     REMOVED_SECRETtextREMOVED_SECRET: [
      REMOVED_SECRETSome weights of the model checkpoint at bert-base-multilingual-cased were not used when initializing BertModel: ['cls.seq_relationship.weight', 'cls.predictions.transform.dense.weight', 'cls.predictions.transform.LayerNorm.bias', 'cls.predictions.transform.LayerNorm.weight', 'cls.predictions.bias', 'cls.seq_relationship.bias', 'cls.predictions.transform.dense.bias']\nREMOVED_SECRET,
      REMOVED_SECRET- This IS expected if you are initializing BertModel from the checkpoint of a model trained on another task or with another architecture (e.g. initializing a BertForSequenceClassification model from a BertForPreTraining model).\nREMOVED_SECRET,
      REMOVED_SECRET- This IS NOT expected if you are initializing BertModel from the checkpoint of a model that you expect to be exactly identical (initializing a BertForSequenceClassification model from a BertForSequenceClassification model).\nREMOVED_SECRET,
      REMOVED_SECRETSome weights of the model checkpoint at bert-base-multilingual-cased were not used when initializing BertModel: ['cls.seq_relationship.weight', 'cls.predictions.transform.dense.weight', 'cls.predictions.transform.LayerNorm.bias', 'cls.predictions.transform.LayerNorm.weight', 'cls.predictions.bias', 'cls.seq_relationship.bias', 'cls.predictions.transform.dense.bias']\nREMOVED_SECRET,
      REMOVED_SECRET- This IS expected if you are initializing BertModel from the checkpoint of a model trained on another task or with another architecture (e.g. initializing a BertForSequenceClassification model from a BertForPreTraining model).\nREMOVED_SECRET,
      REMOVED_SECRET- This IS NOT expected if you are initializing BertModel from the checkpoint of a model that you expect to be exactly identical (initializing a BertForSequenceClassification model from a BertForSequenceClassification model).\nREMOVED_SECRET,
      REMOVED_SECRETSome weights of the model checkpoint at bert-base-multilingual-cased were not used when initializing BertModel: ['cls.seq_relationship.weight', 'cls.predictions.transform.dense.weight', 'cls.predictions.transform.LayerNorm.bias', 'cls.predictions.transform.LayerNorm.weight', 'cls.predictions.bias', 'cls.seq_relationship.bias', 'cls.predictions.transform.dense.bias']\nREMOVED_SECRET,
      REMOVED_SECRET- This IS expected if you are initializing BertModel from the checkpoint of a model trained on another task or with another architecture (e.g. initializing a BertForSequenceClassification model from a BertForPreTraining model).\nREMOVED_SECRET,
      REMOVED_SECRET- This IS NOT expected if you are initializing BertModel from the checkpoint of a model that you expect to be exactly identical (initializing a BertForSequenceClassification model from a BertForSequenceClassification model).\nREMOVED_SECRET,
      REMOVED_SECRETSome weights of the model checkpoint at bert-base-multilingual-cased were not used when initializing BertModel: ['cls.seq_relationship.weight', 'cls.predictions.transform.dense.weight', 'cls.predictions.transform.LayerNorm.bias', 'cls.predictions.transform.LayerNorm.weight', 'cls.predictions.bias', 'cls.seq_relationship.bias', 'cls.predictions.transform.dense.bias']\nREMOVED_SECRET,
      REMOVED_SECRET- This IS expected if you are initializing BertModel from the checkpoint of a model trained on another task or with another architecture (e.g. initializing a BertForSequenceClassification model from a BertForPreTraining model).\nREMOVED_SECRET,
      REMOVED_SECRET- This IS NOT expected if you are initializing BertModel from the checkpoint of a model that you expect to be exactly identical (initializing a BertForSequenceClassification model from a BertForSequenceClassification model).\nREMOVED_SECRET,
      REMOVED_SECRETSome weights of the model checkpoint at bert-base-multilingual-cased were not used when initializing BertModel: ['cls.seq_relationship.weight', 'cls.predictions.transform.dense.weight', 'cls.predictions.transform.LayerNorm.bias', 'cls.predictions.transform.LayerNorm.weight', 'cls.predictions.bias', 'cls.seq_relationship.bias', 'cls.predictions.transform.dense.bias']\nREMOVED_SECRET,
      REMOVED_SECRET- This IS expected if you are initializing BertModel from the checkpoint of a model trained on another task or with another architecture (e.g. initializing a BertForSequenceClassification model from a BertForPreTraining model).\nREMOVED_SECRET,
      REMOVED_SECRET- This IS NOT expected if you are initializing BertModel from the checkpoint of a model that you expect to be exactly identical (initializing a BertForSequenceClassification model from a BertForSequenceClassification model).\nREMOVED_SECRET,
      REMOVED_SECRETSome weights of the model checkpoint at bert-base-multilingual-cased were not used when initializing BertModel: ['cls.seq_relationship.weight', 'cls.predictions.transform.dense.weight', 'cls.predictions.transform.LayerNorm.bias', 'cls.predictions.transform.LayerNorm.weight', 'cls.predictions.bias', 'cls.seq_relationship.bias', 'cls.predictions.transform.dense.bias']\nREMOVED_SECRET,
      REMOVED_SECRET- This IS expected if you are initializing BertModel from the checkpoint of a model trained on another task or with another architecture (e.g. initializing a BertForSequenceClassification model from a BertForPreTraining model).\nREMOVED_SECRET,
      REMOVED_SECRET- This IS NOT expected if you are initializing BertModel from the checkpoint of a model that you expect to be exactly identical (initializing a BertForSequenceClassification model from a BertForSequenceClassification model).\nREMOVED_SECRET,
      REMOVED_SECRETSome weights of the model checkpoint at bert-base-multilingual-cased were not used when initializing BertModel: ['cls.seq_relationship.weight', 'cls.predictions.transform.dense.weight', 'cls.predictions.transform.LayerNorm.bias', 'cls.predictions.transform.LayerNorm.weight', 'cls.predictions.bias', 'cls.seq_relationship.bias', 'cls.predictions.transform.dense.bias']\nREMOVED_SECRET,
      REMOVED_SECRET- This IS expected if you are initializing BertModel from the checkpoint of a model trained on another task or with another architecture (e.g. initializing a BertForSequenceClassification model from a BertForPreTraining model).\nREMOVED_SECRET,
      REMOVED_SECRET- This IS NOT expected if you are initializing BertModel from the checkpoint of a model that you expect to be exactly identical (initializing a BertForSequenceClassification model from a BertForSequenceClassification model).\nREMOVED_SECRET,
      REMOVED_SECRETSome weights of the model checkpoint at bert-base-multilingual-cased were not used when initializing BertModel: ['cls.seq_relationship.weight', 'cls.predictions.transform.dense.weight', 'cls.predictions.transform.LayerNorm.bias', 'cls.predictions.transform.LayerNorm.weight', 'cls.predictions.bias', 'cls.seq_relationship.bias', 'cls.predictions.transform.dense.bias']\nREMOVED_SECRET,
      REMOVED_SECRET- This IS expected if you are initializing BertModel from the checkpoint of a model trained on another task or with another architecture (e.g. initializing a BertForSequenceClassification model from a BertForPreTraining model).\nREMOVED_SECRET,
      REMOVED_SECRET- This IS NOT expected if you are initializing BertModel from the checkpoint of a model that you expect to be exactly identical (initializing a BertForSequenceClassification model from a BertForSequenceClassification model).\nREMOVED_SECRET,
      REMOVED_SECRETSome weights of the model checkpoint at bert-base-multilingual-cased were not used when initializing BertModel: ['cls.seq_relationship.weight', 'cls.predictions.transform.dense.weight', 'cls.predictions.transform.LayerNorm.bias', 'cls.predictions.transform.LayerNorm.weight', 'cls.predictions.bias', 'cls.seq_relationship.bias', 'cls.predictions.transform.dense.bias']\nREMOVED_SECRET,
      REMOVED_SECRET- This IS expected if you are initializing BertModel from the checkpoint of a model trained on another task or with another architecture (e.g. initializing a BertForSequenceClassification model from a BertForPreTraining model).\nREMOVED_SECRET,
      REMOVED_SECRET- This IS NOT expected if you are initializing BertModel from the checkpoint of a model that you expect to be exactly identical (initializing a BertForSequenceClassification model from a BertForSequenceClassification model).\nREMOVED_SECRET
     ]
    }
   ],
   REMOVED_SECRETsourceREMOVED_SECRET: [
    REMOVED_SECRETfinal_output = mt_pipeline_search(query, \nREMOVED_SECRET,
    REMOVED_SECRET                                    env_path,\nREMOVED_SECRET,
    REMOVED_SECRET                                    mBART_model,\nREMOVED_SECRET,
    REMOVED_SECRET                                    mBART_tokenizer,\nREMOVED_SECRET,
    REMOVED_SECRET                                    data,\nREMOVED_SECRET,
    REMOVED_SECRET                                    bm25_corpus,\nREMOVED_SECRET,
    REMOVED_SECRET                                    pinecone_indices,\nREMOVED_SECRET,
    REMOVED_SECRET                                    dense_embed_model,\nREMOVED_SECRET,
    REMOVED_SECRET                                    tgt_lang, #optional\nREMOVED_SECRET,
    REMOVED_SECRET                                    top_k) #optionalREMOVED_SECRET
   ]
  },
  {
   REMOVED_SECRETcell_typeREMOVED_SECRET: REMOVED_SECRETcodeREMOVED_SECRET,
   REMOVED_SECRETexecution_countREMOVED_SECRET: 6,
   REMOVED_SECRETidREMOVED_SECRET: REMOVED_SECRETe78e3e0eREMOVED_SECRET,
   REMOVED_SECRETmetadataREMOVED_SECRET: {},
   REMOVED_SECREToutputsREMOVED_SECRET: [
    {
     REMOVED_SECRETdataREMOVED_SECRET: {
      REMOVED_SECRETtext/plainREMOVED_SECRET: [
       REMOVED_SECRET{'情侶短袖t 夏季水洗33數字短袖t': 0.6411216259002686,\nREMOVED_SECRET,
       REMOVED_SECRET '牛仔捲邊破褲 短褲': 0.6888089776039124,\nREMOVED_SECRET,
       REMOVED_SECRET 'Augelute 兒童 套裝 居家森林護肚短袖套裝 31152': 0.6447985172271729,\nREMOVED_SECRET,
       REMOVED_SECRET '點點荷葉一字領短上衣': 0.6678816676139832,\nREMOVED_SECRET,
       REMOVED_SECRET '韩制。针织洞洞感网状透气短袜': 0.6713693141937256,\nREMOVED_SECRET,
       REMOVED_SECRET '0~2歲寶寶短袖居家套裝 魔法baby~k50475': 0.617436408996582,\nREMOVED_SECRET,
       REMOVED_SECRET 'PolarStar 女 排汗快干T恤『黑』P18102': 0.6556024551391602,\nREMOVED_SECRET,
       REMOVED_SECRET '竹節棉細肩帶背心': 0.6703081130981445,\nREMOVED_SECRET,
       REMOVED_SECRET 'iFairies 中大尺碼長袖T恤上衣★ifairies【59000】【59000】': 0.6295759677886963}REMOVED_SECRET
      ]
     },
     REMOVED_SECRETexecution_countREMOVED_SECRET: 6,
     REMOVED_SECRETmetadataREMOVED_SECRET: {},
     REMOVED_SECREToutput_typeREMOVED_SECRET: REMOVED_SECRETexecute_resultREMOVED_SECRET
    }
   ],
   REMOVED_SECRETsourceREMOVED_SECRET: [
    REMOVED_SECRETfinal_outputREMOVED_SECRET
   ]
  },
  {
   REMOVED_SECRETcell_typeREMOVED_SECRET: REMOVED_SECRETcodeREMOVED_SECRET,
   REMOVED_SECRETexecution_countREMOVED_SECRET: 1,
   REMOVED_SECRETidREMOVED_SECRET: REMOVED_SECRET7d5ce5e9REMOVED_SECRET,
   REMOVED_SECRETmetadataREMOVED_SECRET: {},
   REMOVED_SECREToutputsREMOVED_SECRET: [
    {
     REMOVED_SECRETenameREMOVED_SECRET: REMOVED_SECRETNameErrorREMOVED_SECRET,
     REMOVED_SECRETevalueREMOVED_SECRET: REMOVED_SECRETname 'final_output' is not definedREMOVED_SECRET,
     REMOVED_SECREToutput_typeREMOVED_SECRET: REMOVED_SECRETerrorREMOVED_SECRET,
     REMOVED_SECRETtracebackREMOVED_SECRET: [
      REMOVED_SECRET\u001b[1;31m---------------------------------------------------------------------------\u001b[0mREMOVED_SECRET,
      REMOVED_SECRET\u001b[1;31mNameError\u001b[0m                                 Traceback (most recent call last)REMOVED_SECRET,
      REMOVED_SECRETCell \u001b[1;32mIn[1], line 1\u001b[0m\n\u001b[1;32m----> 1\u001b[0m \u001b[43mfinal_output\u001b[49m\u001b[38;5;241m.\u001b[39mkeys()\nREMOVED_SECRET,
      REMOVED_SECRET\u001b[1;31mNameError\u001b[0m: name 'final_output' is not definedREMOVED_SECRET
     ]
    }
   ],
   REMOVED_SECRETsourceREMOVED_SECRET: [
    REMOVED_SECRETfinal_output.keys()REMOVED_SECRET
   ]
  },
  {
   REMOVED_SECRETcell_typeREMOVED_SECRET: REMOVED_SECRETcodeREMOVED_SECRET,
   REMOVED_SECRETexecution_countREMOVED_SECRET: null,
   REMOVED_SECRETidREMOVED_SECRET: REMOVED_SECRETcea3e695REMOVED_SECRET,
   REMOVED_SECRETmetadataREMOVED_SECRET: {},
   REMOVED_SECREToutputsREMOVED_SECRET: [],
   REMOVED_SECRETsourceREMOVED_SECRET: []
  }
 ],
 REMOVED_SECRETmetadataREMOVED_SECRET: {
  REMOVED_SECRETkernelspecREMOVED_SECRET: {
   REMOVED_SECRETdisplay_nameREMOVED_SECRET: REMOVED_SECRETtensorflow_baseREMOVED_SECRET,
   REMOVED_SECRETlanguageREMOVED_SECRET: REMOVED_SECRETpythonREMOVED_SECRET,
   REMOVED_SECRETnameREMOVED_SECRET: REMOVED_SECRETpython3REMOVED_SECRET
  },
  REMOVED_SECRETlanguage_infoREMOVED_SECRET: {
   REMOVED_SECRETcodemirror_modeREMOVED_SECRET: {
    REMOVED_SECRETnameREMOVED_SECRET: REMOVED_SECRETipythonREMOVED_SECRET,
    REMOVED_SECRETversionREMOVED_SECRET: 3
   },
   REMOVED_SECRETfile_extensionREMOVED_SECRET: REMOVED_SECRET.pyREMOVED_SECRET,
   REMOVED_SECRETmimetypeREMOVED_SECRET: REMOVED_SECRETtext/x-pythonREMOVED_SECRET,
   REMOVED_SECRETnameREMOVED_SECRET: REMOVED_SECRETpythonREMOVED_SECRET,
   REMOVED_SECRETnbconvert_exporterREMOVED_SECRET: REMOVED_SECRETpythonREMOVED_SECRET,
   REMOVED_SECRETpygments_lexerREMOVED_SECRET: REMOVED_SECRETipython3REMOVED_SECRET,
   REMOVED_SECRETversionREMOVED_SECRET: REMOVED_SECRET3.10.11REMOVED_SECRET
  }
 },
 REMOVED_SECRETnbformatREMOVED_SECRET: 4,
 REMOVED_SECRETnbformat_minorREMOVED_SECRET: 5
}
