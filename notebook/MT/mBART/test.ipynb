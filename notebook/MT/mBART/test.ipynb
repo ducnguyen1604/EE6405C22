{
 "cells": [
  {
   "cell_type": "code",
   "execution_count": 1,
   "id": "711c127f",
   "metadata": {},
   "outputs": [],
   "source": [
    "from mtpipeline import init_mt_environment, mt_pipeline_search"
   ]
  },
  {
   "cell_type": "code",
   "execution_count": 2,
   "id": "f9b1b660",
   "metadata": {},
   "outputs": [],
   "source": [
    "mBART_model_path=\"./final\"\n",
    "data_paths={'cn':'en_to_cn_embeddings.pkl', 'es':'en_to_sp_embeddings.pkl', 'it':'en_to_it_embeddings.pkl'}\n",
    "embed_model = \"BAAI/bge-m3\"\n",
    "env_path = \"../.env\""
   ]
  },
  {
   "cell_type": "code",
   "execution_count": 3,
   "id": "ba6daee3",
   "metadata": {},
   "outputs": [
    {
     "name": "stderr",
     "output_type": "stream",
     "text": [
      "Building prefix dict from the default dictionary ...\n",
      "Loading model from cache C:\\Users\\liuru\\AppData\\Local\\Temp\\jieba.cache\n",
      "Loading model cost 0.538 seconds.\n",
      "Prefix dict has been built successfully.\n"
     ]
    }
   ],
   "source": [
    "#run once at start of front end\n",
    "mBART_model, mBART_tokenizer, data, bm25_corpus, dense_embed_model, pinecone_indices = init_mt_environment(mBART_model_path, data_paths, embed_model, env_path)"
   ]
  },
  {
   "cell_type": "code",
   "execution_count": 4,
   "id": "47ef3c5a",
   "metadata": {},
   "outputs": [
    {
     "data": {
      "text/plain": [
       "'OPPO A75 A75s A73 手机壳 软壳 挂绳壳 大眼兔硅胶壳'"
      ]
     },
     "execution_count": 4,
     "metadata": {},
     "output_type": "execute_result"
    }
   ],
   "source": [
    "data['cn']['chinese translation'][0]"
   ]
  },
  {
   "cell_type": "code",
   "execution_count": 5,
   "id": "9d9e0cc6",
   "metadata": {},
   "outputs": [],
   "source": [
    "query=\"shorh sleeved t-shirt\"\n",
    "tgt_lang = \"cn\" #should be 'es' for spanish, 'cn' for chinese and 'it' italy\n",
    "top_k=5"
   ]
  },
  {
   "cell_type": "code",
   "execution_count": 6,
   "id": "6c521135",
   "metadata": {},
   "outputs": [
    {
     "name": "stdout",
     "output_type": "stream",
     "text": [
      "Expanding queries...\n",
      "Queries Expanded\n",
      "Translating Queries...\n",
      "Searching...\n",
      "Processing Output...\n"
     ]
    },
    {
     "name": "stderr",
     "output_type": "stream",
     "text": [
      "Some weights of the model checkpoint at bert-base-multilingual-cased were not used when initializing BertModel: ['cls.predictions.transform.dense.bias', 'cls.seq_relationship.bias', 'cls.predictions.transform.LayerNorm.bias', 'cls.predictions.transform.LayerNorm.weight', 'cls.predictions.transform.dense.weight', 'cls.seq_relationship.weight', 'cls.predictions.bias']\n",
      "- This IS expected if you are initializing BertModel from the checkpoint of a model trained on another task or with another architecture (e.g. initializing a BertForSequenceClassification model from a BertForPreTraining model).\n",
      "- This IS NOT expected if you are initializing BertModel from the checkpoint of a model that you expect to be exactly identical (initializing a BertForSequenceClassification model from a BertForSequenceClassification model).\n",
      "Some weights of the model checkpoint at bert-base-multilingual-cased were not used when initializing BertModel: ['cls.predictions.transform.dense.bias', 'cls.seq_relationship.bias', 'cls.predictions.transform.LayerNorm.bias', 'cls.predictions.transform.LayerNorm.weight', 'cls.predictions.transform.dense.weight', 'cls.seq_relationship.weight', 'cls.predictions.bias']\n",
      "- This IS expected if you are initializing BertModel from the checkpoint of a model trained on another task or with another architecture (e.g. initializing a BertForSequenceClassification model from a BertForPreTraining model).\n",
      "- This IS NOT expected if you are initializing BertModel from the checkpoint of a model that you expect to be exactly identical (initializing a BertForSequenceClassification model from a BertForSequenceClassification model).\n",
      "Some weights of the model checkpoint at bert-base-multilingual-cased were not used when initializing BertModel: ['cls.predictions.transform.dense.bias', 'cls.seq_relationship.bias', 'cls.predictions.transform.LayerNorm.bias', 'cls.predictions.transform.LayerNorm.weight', 'cls.predictions.transform.dense.weight', 'cls.seq_relationship.weight', 'cls.predictions.bias']\n",
      "- This IS expected if you are initializing BertModel from the checkpoint of a model trained on another task or with another architecture (e.g. initializing a BertForSequenceClassification model from a BertForPreTraining model).\n",
      "- This IS NOT expected if you are initializing BertModel from the checkpoint of a model that you expect to be exactly identical (initializing a BertForSequenceClassification model from a BertForSequenceClassification model).\n",
      "Some weights of the model checkpoint at bert-base-multilingual-cased were not used when initializing BertModel: ['cls.predictions.transform.dense.bias', 'cls.seq_relationship.bias', 'cls.predictions.transform.LayerNorm.bias', 'cls.predictions.transform.LayerNorm.weight', 'cls.predictions.transform.dense.weight', 'cls.seq_relationship.weight', 'cls.predictions.bias']\n",
      "- This IS expected if you are initializing BertModel from the checkpoint of a model trained on another task or with another architecture (e.g. initializing a BertForSequenceClassification model from a BertForPreTraining model).\n",
      "- This IS NOT expected if you are initializing BertModel from the checkpoint of a model that you expect to be exactly identical (initializing a BertForSequenceClassification model from a BertForSequenceClassification model).\n",
      "Some weights of the model checkpoint at bert-base-multilingual-cased were not used when initializing BertModel: ['cls.predictions.transform.dense.bias', 'cls.seq_relationship.bias', 'cls.predictions.transform.LayerNorm.bias', 'cls.predictions.transform.LayerNorm.weight', 'cls.predictions.transform.dense.weight', 'cls.seq_relationship.weight', 'cls.predictions.bias']\n",
      "- This IS expected if you are initializing BertModel from the checkpoint of a model trained on another task or with another architecture (e.g. initializing a BertForSequenceClassification model from a BertForPreTraining model).\n",
      "- This IS NOT expected if you are initializing BertModel from the checkpoint of a model that you expect to be exactly identical (initializing a BertForSequenceClassification model from a BertForSequenceClassification model).\n",
      "Some weights of the model checkpoint at bert-base-multilingual-cased were not used when initializing BertModel: ['cls.predictions.transform.dense.bias', 'cls.seq_relationship.bias', 'cls.predictions.transform.LayerNorm.bias', 'cls.predictions.transform.LayerNorm.weight', 'cls.predictions.transform.dense.weight', 'cls.seq_relationship.weight', 'cls.predictions.bias']\n",
      "- This IS expected if you are initializing BertModel from the checkpoint of a model trained on another task or with another architecture (e.g. initializing a BertForSequenceClassification model from a BertForPreTraining model).\n",
      "- This IS NOT expected if you are initializing BertModel from the checkpoint of a model that you expect to be exactly identical (initializing a BertForSequenceClassification model from a BertForSequenceClassification model).\n",
      "Some weights of the model checkpoint at bert-base-multilingual-cased were not used when initializing BertModel: ['cls.predictions.transform.dense.bias', 'cls.seq_relationship.bias', 'cls.predictions.transform.LayerNorm.bias', 'cls.predictions.transform.LayerNorm.weight', 'cls.predictions.transform.dense.weight', 'cls.seq_relationship.weight', 'cls.predictions.bias']\n",
      "- This IS expected if you are initializing BertModel from the checkpoint of a model trained on another task or with another architecture (e.g. initializing a BertForSequenceClassification model from a BertForPreTraining model).\n",
      "- This IS NOT expected if you are initializing BertModel from the checkpoint of a model that you expect to be exactly identical (initializing a BertForSequenceClassification model from a BertForSequenceClassification model).\n",
      "Some weights of the model checkpoint at bert-base-multilingual-cased were not used when initializing BertModel: ['cls.predictions.transform.dense.bias', 'cls.seq_relationship.bias', 'cls.predictions.transform.LayerNorm.bias', 'cls.predictions.transform.LayerNorm.weight', 'cls.predictions.transform.dense.weight', 'cls.seq_relationship.weight', 'cls.predictions.bias']\n",
      "- This IS expected if you are initializing BertModel from the checkpoint of a model trained on another task or with another architecture (e.g. initializing a BertForSequenceClassification model from a BertForPreTraining model).\n",
      "- This IS NOT expected if you are initializing BertModel from the checkpoint of a model that you expect to be exactly identical (initializing a BertForSequenceClassification model from a BertForSequenceClassification model).\n",
      "Some weights of the model checkpoint at bert-base-multilingual-cased were not used when initializing BertModel: ['cls.predictions.transform.dense.bias', 'cls.seq_relationship.bias', 'cls.predictions.transform.LayerNorm.bias', 'cls.predictions.transform.LayerNorm.weight', 'cls.predictions.transform.dense.weight', 'cls.seq_relationship.weight', 'cls.predictions.bias']\n",
      "- This IS expected if you are initializing BertModel from the checkpoint of a model trained on another task or with another architecture (e.g. initializing a BertForSequenceClassification model from a BertForPreTraining model).\n",
      "- This IS NOT expected if you are initializing BertModel from the checkpoint of a model that you expect to be exactly identical (initializing a BertForSequenceClassification model from a BertForSequenceClassification model).\n",
      "Some weights of the model checkpoint at bert-base-multilingual-cased were not used when initializing BertModel: ['cls.predictions.transform.dense.bias', 'cls.seq_relationship.bias', 'cls.predictions.transform.LayerNorm.bias', 'cls.predictions.transform.LayerNorm.weight', 'cls.predictions.transform.dense.weight', 'cls.seq_relationship.weight', 'cls.predictions.bias']\n",
      "- This IS expected if you are initializing BertModel from the checkpoint of a model trained on another task or with another architecture (e.g. initializing a BertForSequenceClassification model from a BertForPreTraining model).\n",
      "- This IS NOT expected if you are initializing BertModel from the checkpoint of a model that you expect to be exactly identical (initializing a BertForSequenceClassification model from a BertForSequenceClassification model).\n"
     ]
    }
   ],
   "source": [
    "final_output = mt_pipeline_search(query, \n",
    "                                    env_path,\n",
    "                                    mBART_model,\n",
    "                                    mBART_tokenizer,\n",
    "                                    data,\n",
    "                                    bm25_corpus,\n",
    "                                    pinecone_indices,\n",
    "                                    dense_embed_model,\n",
    "                                    tgt_lang, #optional\n",
    "                                    top_k,) #optional"
   ]
  },
  {
   "cell_type": "code",
   "execution_count": 7,
   "id": "e78e3e0e",
   "metadata": {},
   "outputs": [
    {
     "data": {
      "text/plain": [
       "{'牛仔捲邊破褲 短褲': 0.6888089776039124,\n",
       " '情侶短袖t 夏季水洗33數字短袖t': 0.6411216259002686,\n",
       " 'Augelute 兒童 套裝 居家森林護肚短袖套裝 31152': 0.6447985172271729,\n",
       " '點點荷葉一字領短上衣': 0.6678816676139832,\n",
       " '0~2歲寶寶短袖居家套裝 魔法baby~k50475': 0.617436408996582,\n",
       " '長版口袋開襟針織外套': 0.6730303168296814,\n",
       " 'PolarStar 女 排汗快干T恤『黑』P18102': 0.6556024551391602,\n",
       " '鏤空圖騰刺繡襯衫': 0.6845757365226746,\n",
       " 'iFairies 中大尺碼長袖T恤上衣★ifairies【59000】【59000】': 0.6295759677886963,\n",
       " '韩制。粗肩带交叉背心': 0.6611077189445496}"
      ]
     },
     "execution_count": 7,
     "metadata": {},
     "output_type": "execute_result"
    }
   ],
   "source": [
    "final_output"
   ]
  },
  {
   "cell_type": "code",
   "execution_count": 8,
   "id": "7d5ce5e9",
   "metadata": {},
   "outputs": [
    {
     "name": "stdout",
     "output_type": "stream",
     "text": [
      "Expanding queries...\n",
      "Queries Expanded\n",
      "Translating Queries...\n",
      "Searching...\n",
      "Processing Output...\n"
     ]
    }
   ],
   "source": [
    "final_output_debug = mt_pipeline_search(query, \n",
    "                                    env_path,\n",
    "                                    mBART_model,\n",
    "                                    mBART_tokenizer,\n",
    "                                    data,\n",
    "                                    bm25_corpus,\n",
    "                                    pinecone_indices,\n",
    "                                    dense_embed_model,\n",
    "                                    tgt_lang, #optional\n",
    "                                    top_k,\n",
    "                                    debug=True) #optional"
   ]
  },
  {
   "cell_type": "code",
   "execution_count": 9,
   "id": "cea3e695",
   "metadata": {},
   "outputs": [
    {
     "data": {
      "text/html": [
       "<div>\n",
       "<style scoped>\n",
       "    .dataframe tbody tr th:only-of-type {\n",
       "        vertical-align: middle;\n",
       "    }\n",
       "\n",
       "    .dataframe tbody tr th {\n",
       "        vertical-align: top;\n",
       "    }\n",
       "\n",
       "    .dataframe thead th {\n",
       "        text-align: right;\n",
       "    }\n",
       "</style>\n",
       "<table border=\"1\" class=\"dataframe\">\n",
       "  <thead>\n",
       "    <tr style=\"text-align: right;\">\n",
       "      <th></th>\n",
       "      <th>en</th>\n",
       "      <th>tgt</th>\n",
       "    </tr>\n",
       "  </thead>\n",
       "  <tbody>\n",
       "    <tr>\n",
       "      <th>0</th>\n",
       "      <td>IFairies large size long sleeve T shirt Tops i...</td>\n",
       "      <td>iFairies 中大尺碼長袖T恤上衣★ifairies【59000】【59000】</td>\n",
       "    </tr>\n",
       "    <tr>\n",
       "      <th>1</th>\n",
       "      <td>Couple Short-Sleeved T Summer Washed 33 Digita...</td>\n",
       "      <td>情侶短袖t 夏季水洗33數字短袖t</td>\n",
       "    </tr>\n",
       "    <tr>\n",
       "      <th>2</th>\n",
       "      <td>PolarStar Women Sweat Quick Dry T-shirt Black ...</td>\n",
       "      <td>PolarStar 女 排汗快干T恤『黑』P18102</td>\n",
       "    </tr>\n",
       "    <tr>\n",
       "      <th>3</th>\n",
       "      <td>Hollow Totem Embroidery Shirt</td>\n",
       "      <td>鏤空圖騰刺繡襯衫</td>\n",
       "    </tr>\n",
       "    <tr>\n",
       "      <th>4</th>\n",
       "      <td>LIYO-English letter casual cotton T-shirt</td>\n",
       "      <td>LIYO理優英文字母休閒棉T恤E712003</td>\n",
       "    </tr>\n",
       "    <tr>\n",
       "      <th>5</th>\n",
       "      <td>Long version Pocket Cardigan Knit Coat</td>\n",
       "      <td>長版口袋開襟針織外套</td>\n",
       "    </tr>\n",
       "    <tr>\n",
       "      <th>6</th>\n",
       "      <td>Purchase - Korean hit color stripe T-shirt 【 A...</td>\n",
       "      <td>预购-韩版撞色条纹T恤【AB050306】</td>\n",
       "    </tr>\n",
       "    <tr>\n",
       "      <th>7</th>\n",
       "      <td>Polka Dots Lotus Leaf word Short Tops</td>\n",
       "      <td>點點荷葉一字領短上衣</td>\n",
       "    </tr>\n",
       "    <tr>\n",
       "      <th>8</th>\n",
       "      <td>Korean Made. Thick Straps Cross Vest</td>\n",
       "      <td>韩制。粗肩带交叉背心</td>\n",
       "    </tr>\n",
       "  </tbody>\n",
       "</table>\n",
       "</div>"
      ],
      "text/plain": [
       "                                                  en  \\\n",
       "0  IFairies large size long sleeve T shirt Tops i...   \n",
       "1  Couple Short-Sleeved T Summer Washed 33 Digita...   \n",
       "2  PolarStar Women Sweat Quick Dry T-shirt Black ...   \n",
       "3                      Hollow Totem Embroidery Shirt   \n",
       "4          LIYO-English letter casual cotton T-shirt   \n",
       "5             Long version Pocket Cardigan Knit Coat   \n",
       "6  Purchase - Korean hit color stripe T-shirt 【 A...   \n",
       "7              Polka Dots Lotus Leaf word Short Tops   \n",
       "8               Korean Made. Thick Straps Cross Vest   \n",
       "\n",
       "                                          tgt  \n",
       "0  iFairies 中大尺碼長袖T恤上衣★ifairies【59000】【59000】  \n",
       "1                           情侶短袖t 夏季水洗33數字短袖t  \n",
       "2                 PolarStar 女 排汗快干T恤『黑』P18102  \n",
       "3                                    鏤空圖騰刺繡襯衫  \n",
       "4                      LIYO理優英文字母休閒棉T恤E712003  \n",
       "5                                  長版口袋開襟針織外套  \n",
       "6                       预购-韩版撞色条纹T恤【AB050306】  \n",
       "7                                  點點荷葉一字領短上衣  \n",
       "8                                  韩制。粗肩带交叉背心  "
      ]
     },
     "execution_count": 9,
     "metadata": {},
     "output_type": "execute_result"
    }
   ],
   "source": [
    "final_output_debug"
   ]
  },
  {
   "cell_type": "code",
   "execution_count": null,
   "id": "1c58bcd0",
   "metadata": {},
   "outputs": [],
   "source": []
  }
 ],
 "metadata": {
  "kernelspec": {
   "display_name": "tensorflow_base",
   "language": "python",
   "name": "python3"
  },
  "language_info": {
   "codemirror_mode": {
    "name": "ipython",
    "version": 3
   },
   "file_extension": ".py",
   "mimetype": "text/x-python",
   "name": "python",
   "nbconvert_exporter": "python",
   "pygments_lexer": "ipython3",
   "version": "3.10.11"
  }
 },
 "nbformat": 4,
 "nbformat_minor": 5
}
