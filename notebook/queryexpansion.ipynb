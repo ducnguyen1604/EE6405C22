{
 REMOVED_SECRETcellsREMOVED_SECRET: [
  {
   REMOVED_SECRETcell_typeREMOVED_SECRET: REMOVED_SECRETcodeREMOVED_SECRET,
   REMOVED_SECRETexecution_countREMOVED_SECRET: 11,
   REMOVED_SECRETidREMOVED_SECRET: REMOVED_SECRET2a8aaa05REMOVED_SECRET,
   REMOVED_SECRETmetadataREMOVED_SECRET: {},
   REMOVED_SECREToutputsREMOVED_SECRET: [],
   REMOVED_SECRETsourceREMOVED_SECRET: [
    REMOVED_SECRETfrom openai import OpenAI\nREMOVED_SECRET,
    REMOVED_SECRETfrom dotenv import load_dotenv\nREMOVED_SECRET,
    REMOVED_SECRETimport os\nREMOVED_SECRET,
    REMOVED_SECRETimport json\nREMOVED_SECRET,
    REMOVED_SECRETimport re\nREMOVED_SECRET,
    REMOVED_SECRET\nREMOVED_SECRET,
    REMOVED_SECRETload_dotenv(dotenv_path='../.env')\nREMOVED_SECRET,
    REMOVED_SECRETapi_key = os.getenv('deepseek_API_KEY')\nREMOVED_SECRET
   ]
  },
  {
   REMOVED_SECRETcell_typeREMOVED_SECRET: REMOVED_SECRETcodeREMOVED_SECRET,
   REMOVED_SECRETexecution_countREMOVED_SECRET: null,
   REMOVED_SECRETidREMOVED_SECRET: REMOVED_SECRETf307f502REMOVED_SECRET,
   REMOVED_SECRETmetadataREMOVED_SECRET: {},
   REMOVED_SECREToutputsREMOVED_SECRET: [],
   REMOVED_SECRETsourceREMOVED_SECRET: [
    REMOVED_SECRETclient = OpenAI(api_key=api_key, base_url=\REMOVED_SECREThttps://openrouter.ai/api/v1\REMOVED_SECRET)\nREMOVED_SECRET,
    REMOVED_SECRET\nREMOVED_SECRET,
    REMOVED_SECRETdef get_expanded_queries(user_query):\nREMOVED_SECRET,
    REMOVED_SECRET    prompt=f'''You are an expert search query optimizer. Your task is to expand the following e-commerce search query to improve retrieval of relevant products. Generate a list of semantically related terms, synonyms, and common user variations while preserving the original intent.\nREMOVED_SECRET,
    REMOVED_SECRET\nREMOVED_SECRET,
    REMOVED_SECRET**Rules:**\nREMOVED_SECRET,
    REMOVED_SECRET1. Prioritize **contextual relevance** (e.g., \REMOVED_SECRETrunning shoes\REMOVED_SECRET → \REMOVED_SECRETjogging sneakers\REMOVED_SECRET).\nREMOVED_SECRET,
    REMOVED_SECRET2. Include **common misspellings** (e.g., \REMOVED_SECRETearbuds\REMOVED_SECRET → \REMOVED_SECRETairbuds\REMOVED_SECRET).\nREMOVED_SECRET,
    REMOVED_SECRET3. Add **technical/layman variants** (e.g., \REMOVED_SECRET4K TV\REMOVED_SECRET → \REMOVED_SECRETultra HD television\REMOVED_SECRET).\nREMOVED_SECRET,
    REMOVED_SECRET4. For non-English queries, provide **translations/transliterations** if applicable (e.g., \REMOVED_SECRETスマホ\REMOVED_SECRET → \REMOVED_SECRETsmartphone\REMOVED_SECRET).\nREMOVED_SECRET,
    REMOVED_SECRET5. Output in JSON format for easy parsing.\nREMOVED_SECRET,
    REMOVED_SECRET\nREMOVED_SECRET,
    REMOVED_SECRET**Input Query:** \REMOVED_SECRET{user_query}\REMOVED_SECRET\nREMOVED_SECRET,
    REMOVED_SECRET\nREMOVED_SECRET,
    REMOVED_SECRET**Output Format:**  \nREMOVED_SECRET,
    REMOVED_SECRET{{\nREMOVED_SECRET,
    REMOVED_SECRET  \REMOVED_SECREToriginal_query\REMOVED_SECRET: \REMOVED_SECRET...\REMOVED_SECRET,\nREMOVED_SECRET,
    REMOVED_SECRET  \REMOVED_SECRETexpanded_terms\REMOVED_SECRET: [\nREMOVED_SECRET,
    REMOVED_SECRET    {{\REMOVED_SECRETterm\REMOVED_SECRET: \REMOVED_SECRET...\REMOVED_SECRET, \REMOVED_SECRETtype\REMOVED_SECRET: \REMOVED_SECRETsynonym\REMOVED_SECRET}},\nREMOVED_SECRET,
    REMOVED_SECRET    {{\REMOVED_SECRETterm\REMOVED_SECRET: \REMOVED_SECRET...\REMOVED_SECRET, \REMOVED_SECRETtype\REMOVED_SECRET: \REMOVED_SECRETmisspelling\REMOVED_SECRET}},\nREMOVED_SECRET,
    REMOVED_SECRET    {{\REMOVED_SECRETterm\REMOVED_SECRET: \REMOVED_SECRET...\REMOVED_SECRET, \REMOVED_SECRETtype\REMOVED_SECRET: \REMOVED_SECRETtechnical\REMOVED_SECRET}}\nREMOVED_SECRET,
    REMOVED_SECRET  ]\nREMOVED_SECRET,
    REMOVED_SECRET}}\nREMOVED_SECRET,
    REMOVED_SECRET\nREMOVED_SECRET,
    REMOVED_SECRET**Example Output for \REMOVED_SECRETwireless headphones\REMOVED_SECRET:**\nREMOVED_SECRET,
    REMOVED_SECRET{{\nREMOVED_SECRET,
    REMOVED_SECRET  \REMOVED_SECREToriginal_query\REMOVED_SECRET: \REMOVED_SECRETwireless headphones\REMOVED_SECRET,\nREMOVED_SECRET,
    REMOVED_SECRET  \REMOVED_SECRETexpanded_terms\REMOVED_SECRET: [\nREMOVED_SECRET,
    REMOVED_SECRET    {{\REMOVED_SECRETterm\REMOVED_SECRET: \REMOVED_SECRETBluetooth headphones\REMOVED_SECRET, \REMOVED_SECRETtype\REMOVED_SECRET: \REMOVED_SECRETsynonym\REMOVED_SECRET}},\nREMOVED_SECRET,
    REMOVED_SECRET    {{\REMOVED_SECRETterm\REMOVED_SECRET: \REMOVED_SECRETcordless earphones\REMOVED_SECRET, \REMOVED_SECRETtype\REMOVED_SECRET: \REMOVED_SECRETsynonym\REMOVED_SECRET}},\nREMOVED_SECRET,
    REMOVED_SECRET    {{\REMOVED_SECRETterm\REMOVED_SECRET: \REMOVED_SECRETwireless headsets\REMOVED_SECRET, \REMOVED_SECRETtype\REMOVED_SECRET: \REMOVED_SECRETsynonym\REMOVED_SECRET}},\nREMOVED_SECRET,
    REMOVED_SECRET    {{\REMOVED_SECRETterm\REMOVED_SECRET: \REMOVED_SECRETairbuds\REMOVED_SECRET, \REMOVED_SECRETtype\REMOVED_SECRET: \REMOVED_SECRETmisspelling\REMOVED_SECRET}},\nREMOVED_SECRET,
    REMOVED_SECRET    {{\REMOVED_SECRETterm\REMOVED_SECRET: \REMOVED_SECRETnoise-cancelling headphones\REMOVED_SECRET, \REMOVED_SECRETtype\REMOVED_SECRET: \REMOVED_SECRETtechnical\REMOVED_SECRET}}\nREMOVED_SECRET,
    REMOVED_SECRET  ]\nREMOVED_SECRET,
    REMOVED_SECRET}}\nREMOVED_SECRET,
    REMOVED_SECRET\nREMOVED_SECRET,
    REMOVED_SECRET**Now process this query:** \REMOVED_SECRET{user_query}\REMOVED_SECRET'''\nREMOVED_SECRET,
    REMOVED_SECRET    response = client.chat.completions.create(\nREMOVED_SECRET,
    REMOVED_SECRET        model=\REMOVED_SECRETdeepseek/deepseek-chat-v3-0324:free\REMOVED_SECRET,\nREMOVED_SECRET,
    REMOVED_SECRET        messages=[\nREMOVED_SECRET,
    REMOVED_SECRET            {\REMOVED_SECRETrole\REMOVED_SECRET: \REMOVED_SECRETuser\REMOVED_SECRET, \REMOVED_SECRETcontent\REMOVED_SECRET: prompt},\nREMOVED_SECRET,
    REMOVED_SECRET        ],\nREMOVED_SECRET,
    REMOVED_SECRET        temperature=0.3,\nREMOVED_SECRET,
    REMOVED_SECRET    )\nREMOVED_SECRET,
    REMOVED_SECRET    \nREMOVED_SECRET,
    REMOVED_SECRET    expanded_queries_raw=response.choices[0].message.content\nREMOVED_SECRET,
    REMOVED_SECRET    if not expanded_queries_raw or expanded_queries_raw.strip() == \REMOVED_SECRET\REMOVED_SECRET:\nREMOVED_SECRET,
    REMOVED_SECRET      raise ValueError(\REMOVED_SECRETAPI returned an empty response\REMOVED_SECRET)\nREMOVED_SECRET,
    REMOVED_SECRET    expanded_queries_raw = re.search(r'```json\\n({.*?})\\n```', expanded_queries_raw, re.DOTALL)\nREMOVED_SECRET,
    REMOVED_SECRET    if expanded_queries_raw:\nREMOVED_SECRET,
    REMOVED_SECRET      expanded_queries_raw = expanded_queries_raw.group(1)\nREMOVED_SECRET,
    REMOVED_SECRET    else:\nREMOVED_SECRET,
    REMOVED_SECRET      expanded_queries_raw = expanded_queries_raw.strip()  # fallback to raw response\nREMOVED_SECRET,
    REMOVED_SECRET      \nREMOVED_SECRET,
    REMOVED_SECRET    #print(expanded_queries_raw)\nREMOVED_SECRET,
    REMOVED_SECRET    expanded_queries=json.loads(expanded_queries_raw)\nREMOVED_SECRET,
    REMOVED_SECRET    return expanded_queries\nREMOVED_SECRET
   ]
  },
  {
   REMOVED_SECRETcell_typeREMOVED_SECRET: REMOVED_SECRETcodeREMOVED_SECRET,
   REMOVED_SECRETexecution_countREMOVED_SECRET: 15,
   REMOVED_SECRETidREMOVED_SECRET: REMOVED_SECRET4bb637d4REMOVED_SECRET,
   REMOVED_SECRETmetadataREMOVED_SECRET: {},
   REMOVED_SECREToutputsREMOVED_SECRET: [
    {
     REMOVED_SECRETnameREMOVED_SECRET: REMOVED_SECRETstdoutREMOVED_SECRET,
     REMOVED_SECREToutput_typeREMOVED_SECRET: REMOVED_SECRETstreamREMOVED_SECRET,
     REMOVED_SECRETtextREMOVED_SECRET: [
      REMOVED_SECRET{\nREMOVED_SECRET,
      REMOVED_SECRET  \REMOVED_SECREToriginal_query\REMOVED_SECRET: \REMOVED_SECRETruning shoos\REMOVED_SECRET,\nREMOVED_SECRET,
      REMOVED_SECRET  \REMOVED_SECRETexpanded_terms\REMOVED_SECRET: [\nREMOVED_SECRET,
      REMOVED_SECRET    {\REMOVED_SECRETterm\REMOVED_SECRET: \REMOVED_SECRETrunning shoes\REMOVED_SECRET, \REMOVED_SECRETtype\REMOVED_SECRET: \REMOVED_SECRETmisspelling\REMOVED_SECRET},\nREMOVED_SECRET,
      REMOVED_SECRET    {\REMOVED_SECRETterm\REMOVED_SECRET: \REMOVED_SECRETjogging shoes\REMOVED_SECRET, \REMOVED_SECRETtype\REMOVED_SECRET: \REMOVED_SECRETsynonym\REMOVED_SECRET},\nREMOVED_SECRET,
      REMOVED_SECRET    {\REMOVED_SECRETterm\REMOVED_SECRET: \REMOVED_SECRETsneakers\REMOVED_SECRET, \REMOVED_SECRETtype\REMOVED_SECRET: \REMOVED_SECRETsynonym\REMOVED_SECRET},\nREMOVED_SECRET,
      REMOVED_SECRET    {\REMOVED_SECRETterm\REMOVED_SECRET: \REMOVED_SECRETathletic shoes\REMOVED_SECRET, \REMOVED_SECRETtype\REMOVED_SECRET: \REMOVED_SECRETsynonym\REMOVED_SECRET},\nREMOVED_SECRET,
      REMOVED_SECRET    {\REMOVED_SECRETterm\REMOVED_SECRET: \REMOVED_SECRETtrainers\REMOVED_SECRET, \REMOVED_SECRETtype\REMOVED_SECRET: \REMOVED_SECRETsynonym\REMOVED_SECRET},\nREMOVED_SECRET,
      REMOVED_SECRET    {\REMOVED_SECRETterm\REMOVED_SECRET: \REMOVED_SECRETrunning sneakers\REMOVED_SECRET, \REMOVED_SECRETtype\REMOVED_SECRET: \REMOVED_SECRETsynonym\REMOVED_SECRET},\nREMOVED_SECRET,
      REMOVED_SECRET    {\REMOVED_SECRETterm\REMOVED_SECRET: \REMOVED_SECRETruning shoes\REMOVED_SECRET, \REMOVED_SECRETtype\REMOVED_SECRET: \REMOVED_SECRETmisspelling\REMOVED_SECRET},\nREMOVED_SECRET,
      REMOVED_SECRET    {\REMOVED_SECRETterm\REMOVED_SECRET: \REMOVED_SECRETrunning shoos\REMOVED_SECRET, \REMOVED_SECRETtype\REMOVED_SECRET: \REMOVED_SECRETmisspelling\REMOVED_SECRET},\nREMOVED_SECRET,
      REMOVED_SECRET    {\REMOVED_SECRETterm\REMOVED_SECRET: \REMOVED_SECRETjogging sneakers\REMOVED_SECRET, \REMOVED_SECRETtype\REMOVED_SECRET: \REMOVED_SECRETsynonym\REMOVED_SECRET},\nREMOVED_SECRET,
      REMOVED_SECRET    {\REMOVED_SECRETterm\REMOVED_SECRET: \REMOVED_SECRETperformance running shoes\REMOVED_SECRET, \REMOVED_SECRETtype\REMOVED_SECRET: \REMOVED_SECRETtechnical\REMOVED_SECRET},\nREMOVED_SECRET,
      REMOVED_SECRET    {\REMOVED_SECRETterm\REMOVED_SECRET: \REMOVED_SECRETtrail running shoes\REMOVED_SECRET, \REMOVED_SECRETtype\REMOVED_SECRET: \REMOVED_SECRETtechnical\REMOVED_SECRET},\nREMOVED_SECRET,
      REMOVED_SECRET    {\REMOVED_SECRETterm\REMOVED_SECRET: \REMOVED_SECRETroad running shoes\REMOVED_SECRET, \REMOVED_SECRETtype\REMOVED_SECRET: \REMOVED_SECRETtechnical\REMOVED_SECRET},\nREMOVED_SECRET,
      REMOVED_SECRET    {\REMOVED_SECRETterm\REMOVED_SECRET: \REMOVED_SECRETcorrer zapatos\REMOVED_SECRET, \REMOVED_SECRETtype\REMOVED_SECRET: \REMOVED_SECRETtranslation\REMOVED_SECRET},\nREMOVED_SECRET,
      REMOVED_SECRET    {\REMOVED_SECRETterm\REMOVED_SECRET: \REMOVED_SECRETランニングシューズ\REMOVED_SECRET, \REMOVED_SECRETtype\REMOVED_SECRET: \REMOVED_SECRETtransliteration\REMOVED_SECRET}\nREMOVED_SECRET,
      REMOVED_SECRET  ]\nREMOVED_SECRET,
      REMOVED_SECRET}\nREMOVED_SECRET,
      REMOVED_SECRET{'original_query': 'runing shoos', 'expanded_terms': [{'term': 'running shoes', 'type': 'misspelling'}, {'term': 'jogging shoes', 'type': 'synonym'}, {'term': 'sneakers', 'type': 'synonym'}, {'term': 'athletic shoes', 'type': 'synonym'}, {'term': 'trainers', 'type': 'synonym'}, {'term': 'running sneakers', 'type': 'synonym'}, {'term': 'runing shoes', 'type': 'misspelling'}, {'term': 'running shoos', 'type': 'misspelling'}, {'term': 'jogging sneakers', 'type': 'synonym'}, {'term': 'performance running shoes', 'type': 'technical'}, {'term': 'trail running shoes', 'type': 'technical'}, {'term': 'road running shoes', 'type': 'technical'}, {'term': 'correr zapatos', 'type': 'translation'}, {'term': 'ランニングシューズ', 'type': 'transliteration'}]}\nREMOVED_SECRET
     ]
    }
   ],
   REMOVED_SECRETsourceREMOVED_SECRET: [
    REMOVED_SECRETexpanded_queries=get_expanded_queries(\REMOVED_SECRETruning shoos\REMOVED_SECRET)\nREMOVED_SECRET,
    REMOVED_SECRETprint(expanded_queries)\nREMOVED_SECRET
   ]
  },
  {
   REMOVED_SECRETcell_typeREMOVED_SECRET: REMOVED_SECRETcodeREMOVED_SECRET,
   REMOVED_SECRETexecution_countREMOVED_SECRET: 16,
   REMOVED_SECRETidREMOVED_SECRET: REMOVED_SECRETc34dffc5REMOVED_SECRET,
   REMOVED_SECRETmetadataREMOVED_SECRET: {},
   REMOVED_SECREToutputsREMOVED_SECRET: [
    {
     REMOVED_SECRETdataREMOVED_SECRET: {
      REMOVED_SECRETtext/plainREMOVED_SECRET: [
       REMOVED_SECRET'runing shoos'REMOVED_SECRET
      ]
     },
     REMOVED_SECRETexecution_countREMOVED_SECRET: 16,
     REMOVED_SECRETmetadataREMOVED_SECRET: {},
     REMOVED_SECREToutput_typeREMOVED_SECRET: REMOVED_SECRETexecute_resultREMOVED_SECRET
    }
   ],
   REMOVED_SECRETsourceREMOVED_SECRET: [
    REMOVED_SECRETexpanded_queries['original_query']REMOVED_SECRET
   ]
  },
  {
   REMOVED_SECRETcell_typeREMOVED_SECRET: REMOVED_SECRETcodeREMOVED_SECRET,
   REMOVED_SECRETexecution_countREMOVED_SECRET: 17,
   REMOVED_SECRETidREMOVED_SECRET: REMOVED_SECRET84b6c241REMOVED_SECRET,
   REMOVED_SECRETmetadataREMOVED_SECRET: {},
   REMOVED_SECREToutputsREMOVED_SECRET: [
    {
     REMOVED_SECRETdataREMOVED_SECRET: {
      REMOVED_SECRETtext/plainREMOVED_SECRET: [
       REMOVED_SECRET[{'term': 'running shoes', 'type': 'misspelling'},\nREMOVED_SECRET,
       REMOVED_SECRET {'term': 'jogging shoes', 'type': 'synonym'},\nREMOVED_SECRET,
       REMOVED_SECRET {'term': 'sneakers', 'type': 'synonym'},\nREMOVED_SECRET,
       REMOVED_SECRET {'term': 'athletic shoes', 'type': 'synonym'},\nREMOVED_SECRET,
       REMOVED_SECRET {'term': 'trainers', 'type': 'synonym'},\nREMOVED_SECRET,
       REMOVED_SECRET {'term': 'running sneakers', 'type': 'synonym'},\nREMOVED_SECRET,
       REMOVED_SECRET {'term': 'runing shoes', 'type': 'misspelling'},\nREMOVED_SECRET,
       REMOVED_SECRET {'term': 'running shoos', 'type': 'misspelling'},\nREMOVED_SECRET,
       REMOVED_SECRET {'term': 'jogging sneakers', 'type': 'synonym'},\nREMOVED_SECRET,
       REMOVED_SECRET {'term': 'performance running shoes', 'type': 'technical'},\nREMOVED_SECRET,
       REMOVED_SECRET {'term': 'trail running shoes', 'type': 'technical'},\nREMOVED_SECRET,
       REMOVED_SECRET {'term': 'road running shoes', 'type': 'technical'},\nREMOVED_SECRET,
       REMOVED_SECRET {'term': 'correr zapatos', 'type': 'translation'},\nREMOVED_SECRET,
       REMOVED_SECRET {'term': 'ランニングシューズ', 'type': 'transliteration'}]REMOVED_SECRET
      ]
     },
     REMOVED_SECRETexecution_countREMOVED_SECRET: 17,
     REMOVED_SECRETmetadataREMOVED_SECRET: {},
     REMOVED_SECREToutput_typeREMOVED_SECRET: REMOVED_SECRETexecute_resultREMOVED_SECRET
    }
   ],
   REMOVED_SECRETsourceREMOVED_SECRET: [
    REMOVED_SECRETexpanded_queries['expanded_terms']REMOVED_SECRET
   ]
  },
  {
   REMOVED_SECRETcell_typeREMOVED_SECRET: REMOVED_SECRETcodeREMOVED_SECRET,
   REMOVED_SECRETexecution_countREMOVED_SECRET: 19,
   REMOVED_SECRETidREMOVED_SECRET: REMOVED_SECRET72200626REMOVED_SECRET,
   REMOVED_SECRETmetadataREMOVED_SECRET: {},
   REMOVED_SECREToutputsREMOVED_SECRET: [],
   REMOVED_SECRETsourceREMOVED_SECRET: [
    REMOVED_SECRET#weight the different output types\nREMOVED_SECRET,
    REMOVED_SECRETdef assign_weights(term_type):\nREMOVED_SECRET,
    REMOVED_SECRET    weights = {\nREMOVED_SECRET,
    REMOVED_SECRET        \REMOVED_SECRETsynonym\REMOVED_SECRET: 0.8,\nREMOVED_SECRET,
    REMOVED_SECRET        \REMOVED_SECRETmisspelling\REMOVED_SECRET: 0.3,\nREMOVED_SECRET,
    REMOVED_SECRET        \REMOVED_SECRETtechnical\REMOVED_SECRET: 0.7,\nREMOVED_SECRET,
    REMOVED_SECRET        \REMOVED_SECRETtranslation\REMOVED_SECRET: 0.6\nREMOVED_SECRET,
    REMOVED_SECRET    }\nREMOVED_SECRET,
    REMOVED_SECRET    return weights.get(term_type, 0.5)  #default weight\nREMOVED_SECRET,
    REMOVED_SECRET\nREMOVED_SECRET,
    REMOVED_SECRETdef return_weighted_dict(expanded_queries):\nREMOVED_SECRET,
    REMOVED_SECRET    weighted_terms = [\nREMOVED_SECRET,
    REMOVED_SECRET    {\REMOVED_SECRETterm\REMOVED_SECRET: expanded_queries[\REMOVED_SECREToriginal_query\REMOVED_SECRET], \REMOVED_SECRETweight\REMOVED_SECRET: 1.0}  # Original query (highest priority)\nREMOVED_SECRET,
    REMOVED_SECRET    ]\nREMOVED_SECRET,
    REMOVED_SECRET\nREMOVED_SECRET,
    REMOVED_SECRET    for item in expanded_queries[\REMOVED_SECRETexpanded_terms\REMOVED_SECRET]:\nREMOVED_SECRET,
    REMOVED_SECRET        weighted_terms.append({\nREMOVED_SECRET,
    REMOVED_SECRET            \REMOVED_SECRETterm\REMOVED_SECRET: item[\REMOVED_SECRETterm\REMOVED_SECRET],\nREMOVED_SECRET,
    REMOVED_SECRET            \REMOVED_SECRETweight\REMOVED_SECRET: assign_weights(item[\REMOVED_SECRETtype\REMOVED_SECRET])\nREMOVED_SECRET,
    REMOVED_SECRET        })\nREMOVED_SECRET,
    REMOVED_SECRET    return weighted_termsREMOVED_SECRET
   ]
  },
  {
   REMOVED_SECRETcell_typeREMOVED_SECRET: REMOVED_SECRETcodeREMOVED_SECRET,
   REMOVED_SECRETexecution_countREMOVED_SECRET: 21,
   REMOVED_SECRETidREMOVED_SECRET: REMOVED_SECRET7806cf7bREMOVED_SECRET,
   REMOVED_SECRETmetadataREMOVED_SECRET: {},
   REMOVED_SECREToutputsREMOVED_SECRET: [
    {
     REMOVED_SECRETdataREMOVED_SECRET: {
      REMOVED_SECRETtext/plainREMOVED_SECRET: [
       REMOVED_SECRET[{'term': 'runing shoos', 'weight': 1.0},\nREMOVED_SECRET,
       REMOVED_SECRET {'term': 'running shoes', 'weight': 0.3},\nREMOVED_SECRET,
       REMOVED_SECRET {'term': 'jogging shoes', 'weight': 0.8},\nREMOVED_SECRET,
       REMOVED_SECRET {'term': 'sneakers', 'weight': 0.8},\nREMOVED_SECRET,
       REMOVED_SECRET {'term': 'athletic shoes', 'weight': 0.8},\nREMOVED_SECRET,
       REMOVED_SECRET {'term': 'trainers', 'weight': 0.8},\nREMOVED_SECRET,
       REMOVED_SECRET {'term': 'running sneakers', 'weight': 0.8},\nREMOVED_SECRET,
       REMOVED_SECRET {'term': 'runing shoes', 'weight': 0.3},\nREMOVED_SECRET,
       REMOVED_SECRET {'term': 'running shoos', 'weight': 0.3},\nREMOVED_SECRET,
       REMOVED_SECRET {'term': 'jogging sneakers', 'weight': 0.8},\nREMOVED_SECRET,
       REMOVED_SECRET {'term': 'performance running shoes', 'weight': 0.7},\nREMOVED_SECRET,
       REMOVED_SECRET {'term': 'trail running shoes', 'weight': 0.7},\nREMOVED_SECRET,
       REMOVED_SECRET {'term': 'road running shoes', 'weight': 0.7},\nREMOVED_SECRET,
       REMOVED_SECRET {'term': 'correr zapatos', 'weight': 0.6},\nREMOVED_SECRET,
       REMOVED_SECRET {'term': 'ランニングシューズ', 'weight': 0.5}]REMOVED_SECRET
      ]
     },
     REMOVED_SECRETexecution_countREMOVED_SECRET: 21,
     REMOVED_SECRETmetadataREMOVED_SECRET: {},
     REMOVED_SECREToutput_typeREMOVED_SECRET: REMOVED_SECRETexecute_resultREMOVED_SECRET
    }
   ],
   REMOVED_SECRETsourceREMOVED_SECRET: [
    REMOVED_SECRETtest_weighted=return_weighted_dict(expanded_queries)\nREMOVED_SECRET,
    REMOVED_SECRETtest_weightedREMOVED_SECRET
   ]
  },
  {
   REMOVED_SECRETcell_typeREMOVED_SECRET: REMOVED_SECRETcodeREMOVED_SECRET,
   REMOVED_SECRETexecution_countREMOVED_SECRET: 25,
   REMOVED_SECRETidREMOVED_SECRET: REMOVED_SECRET8ee7f99bREMOVED_SECRET,
   REMOVED_SECRETmetadataREMOVED_SECRET: {},
   REMOVED_SECREToutputsREMOVED_SECRET: [
    {
     REMOVED_SECRETdataREMOVED_SECRET: {
      REMOVED_SECRETtext/plainREMOVED_SECRET: [
       REMOVED_SECRET[{'term': 'Aespa throw pilloew', 'weight': 1.0},\nREMOVED_SECRET,
       REMOVED_SECRET {'term': 'Aespa throw pillow', 'weight': 0.3},\nREMOVED_SECRET,
       REMOVED_SECRET {'term': 'Aespa cushion', 'weight': 0.8},\nREMOVED_SECRET,
       REMOVED_SECRET {'term': 'Aespa decorative pillow', 'weight': 0.8},\nREMOVED_SECRET,
       REMOVED_SECRET {'term': 'Aespa pillow cover', 'weight': 0.8},\nREMOVED_SECRET,
       REMOVED_SECRET {'term': 'Aespa K-pop pillow', 'weight': 0.8},\nREMOVED_SECRET,
       REMOVED_SECRET {'term': 'Aespa plush pillow', 'weight': 0.8},\nREMOVED_SECRET,
       REMOVED_SECRET {'term': 'Aespa merch pillow', 'weight': 0.8},\nREMOVED_SECRET,
       REMOVED_SECRET {'term': 'Aespa logo pillow', 'weight': 0.8},\nREMOVED_SECRET,
       REMOVED_SECRET {'term': 'Aespa character pillow', 'weight': 0.8},\nREMOVED_SECRET,
       REMOVED_SECRET {'term': 'Aespa fan pillow', 'weight': 0.8},\nREMOVED_SECRET,
       REMOVED_SECRET {'term': 'Aespa throw pilow', 'weight': 0.3},\nREMOVED_SECRET,
       REMOVED_SECRET {'term': 'Aespa throw pilowe', 'weight': 0.3},\nREMOVED_SECRET,
       REMOVED_SECRET {'term': 'Aespa throw pilow', 'weight': 0.3},\nREMOVED_SECRET,
       REMOVED_SECRET {'term': 'Aespa throw pellow', 'weight': 0.3},\nREMOVED_SECRET,
       REMOVED_SECRET {'term': 'Aespa throw pilow', 'weight': 0.3},\nREMOVED_SECRET,
       REMOVED_SECRET {'term': 'Aespa embroidered pillow', 'weight': 0.7},\nREMOVED_SECRET,
       REMOVED_SECRET {'term': 'Aespa printed pillow', 'weight': 0.7},\nREMOVED_SECRET,
       REMOVED_SECRET {'term': 'Aespa custom pillow', 'weight': 0.7},\nREMOVED_SECRET,
       REMOVED_SECRET {'term': 'Aespa official merchandise pillow', 'weight': 0.7},\nREMOVED_SECRET,
       REMOVED_SECRET {'term': 'Aespa fan merchandise pillow', 'weight': 0.7}]REMOVED_SECRET
      ]
     },
     REMOVED_SECRETexecution_countREMOVED_SECRET: 25,
     REMOVED_SECRETmetadataREMOVED_SECRET: {},
     REMOVED_SECREToutput_typeREMOVED_SECRET: REMOVED_SECRETexecute_resultREMOVED_SECRET
    }
   ],
   REMOVED_SECRETsourceREMOVED_SECRET: [
    REMOVED_SECRETfrom queryexpansion import expand\nREMOVED_SECRET,
    REMOVED_SECRET\nREMOVED_SECRET,
    REMOVED_SECRETtest=expand(\REMOVED_SECRETAespa throw pilloew\REMOVED_SECRET)\nREMOVED_SECRET,
    REMOVED_SECRETtest\nREMOVED_SECRET
   ]
  }
 ],
 REMOVED_SECRETmetadataREMOVED_SECRET: {
  REMOVED_SECRETkernelspecREMOVED_SECRET: {
   REMOVED_SECRETdisplay_nameREMOVED_SECRET: REMOVED_SECRETtensorflow_baseREMOVED_SECRET,
   REMOVED_SECRETlanguageREMOVED_SECRET: REMOVED_SECRETpythonREMOVED_SECRET,
   REMOVED_SECRETnameREMOVED_SECRET: REMOVED_SECRETpython3REMOVED_SECRET
  },
  REMOVED_SECRETlanguage_infoREMOVED_SECRET: {
   REMOVED_SECRETcodemirror_modeREMOVED_SECRET: {
    REMOVED_SECRETnameREMOVED_SECRET: REMOVED_SECRETipythonREMOVED_SECRET,
    REMOVED_SECRETversionREMOVED_SECRET: 3
   },
   REMOVED_SECRETfile_extensionREMOVED_SECRET: REMOVED_SECRET.pyREMOVED_SECRET,
   REMOVED_SECRETmimetypeREMOVED_SECRET: REMOVED_SECRETtext/x-pythonREMOVED_SECRET,
   REMOVED_SECRETnameREMOVED_SECRET: REMOVED_SECRETpythonREMOVED_SECRET,
   REMOVED_SECRETnbconvert_exporterREMOVED_SECRET: REMOVED_SECRETpythonREMOVED_SECRET,
   REMOVED_SECRETpygments_lexerREMOVED_SECRET: REMOVED_SECRETipython3REMOVED_SECRET,
   REMOVED_SECRETversionREMOVED_SECRET: REMOVED_SECRET3.10.11REMOVED_SECRET
  }
 },
 REMOVED_SECRETnbformatREMOVED_SECRET: 4,
 REMOVED_SECRETnbformat_minorREMOVED_SECRET: 5
}
